{
 "cells": [
  {
   "cell_type": "code",
   "execution_count": 84,
   "metadata": {},
   "outputs": [],
   "source": [
    "import pandas as pd\n",
    "from pandas.plotting import scatter_matrix\n",
    "import numpy as np\n",
    "import seaborn as sns\n",
    "import matplotlib.pyplot as plt\n",
    "import warnings\n",
    "warnings.filterwarnings(\"ignore\")\n",
    "%matplotlib inline"
   ]
  },
  {
   "cell_type": "code",
   "execution_count": 39,
   "metadata": {},
   "outputs": [
    {
     "data": {
      "text/html": [
       "<div>\n",
       "<style scoped>\n",
       "    .dataframe tbody tr th:only-of-type {\n",
       "        vertical-align: middle;\n",
       "    }\n",
       "\n",
       "    .dataframe tbody tr th {\n",
       "        vertical-align: top;\n",
       "    }\n",
       "\n",
       "    .dataframe thead th {\n",
       "        text-align: right;\n",
       "    }\n",
       "</style>\n",
       "<table border=\"1\" class=\"dataframe\">\n",
       "  <thead>\n",
       "    <tr style=\"text-align: right;\">\n",
       "      <th></th>\n",
       "      <th>Unnamed: 0</th>\n",
       "      <th>ID</th>\n",
       "      <th>to_club_name</th>\n",
       "      <th>to_league_name</th>\n",
       "      <th>player_name</th>\n",
       "      <th>age</th>\n",
       "      <th>position</th>\n",
       "      <th>from_club_involved_name</th>\n",
       "      <th>fee</th>\n",
       "      <th>transfer_movement</th>\n",
       "      <th>fee_cleaned</th>\n",
       "      <th>year</th>\n",
       "      <th>season</th>\n",
       "    </tr>\n",
       "  </thead>\n",
       "  <tbody>\n",
       "    <tr>\n",
       "      <th>0</th>\n",
       "      <td>0</td>\n",
       "      <td>1</td>\n",
       "      <td>Middlesbrough FC</td>\n",
       "      <td>Championship</td>\n",
       "      <td>Derek Whyte</td>\n",
       "      <td>24.0</td>\n",
       "      <td>Centre Back</td>\n",
       "      <td>Rangers</td>\n",
       "      <td>£1.13m</td>\n",
       "      <td>in</td>\n",
       "      <td>1.13</td>\n",
       "      <td>1992</td>\n",
       "      <td>1992/1993</td>\n",
       "    </tr>\n",
       "    <tr>\n",
       "      <th>1</th>\n",
       "      <td>2</td>\n",
       "      <td>3</td>\n",
       "      <td>Bayer 04 Leverkusen</td>\n",
       "      <td>1 Bundesliga</td>\n",
       "      <td>Pavel Hapal</td>\n",
       "      <td>22.0</td>\n",
       "      <td>Attacking Midfield</td>\n",
       "      <td>Sigma Olomouc</td>\n",
       "      <td>£1.13m</td>\n",
       "      <td>in</td>\n",
       "      <td>1.13</td>\n",
       "      <td>1992</td>\n",
       "      <td>1992/1993</td>\n",
       "    </tr>\n",
       "    <tr>\n",
       "      <th>2</th>\n",
       "      <td>3</td>\n",
       "      <td>4</td>\n",
       "      <td>VfB Stuttgart</td>\n",
       "      <td>1 Bundesliga</td>\n",
       "      <td>André Golke</td>\n",
       "      <td>27.0</td>\n",
       "      <td>Attacking Midfield</td>\n",
       "      <td>1.FC Nuremberg</td>\n",
       "      <td>£1.13m</td>\n",
       "      <td>in</td>\n",
       "      <td>1.13</td>\n",
       "      <td>1992</td>\n",
       "      <td>1992/1993</td>\n",
       "    </tr>\n",
       "    <tr>\n",
       "      <th>3</th>\n",
       "      <td>4</td>\n",
       "      <td>5</td>\n",
       "      <td>SV Werder Bremen</td>\n",
       "      <td>1 Bundesliga</td>\n",
       "      <td>Bernd Hobsch</td>\n",
       "      <td>24.0</td>\n",
       "      <td>Centre Forward</td>\n",
       "      <td>VfB Leipzig</td>\n",
       "      <td>£1.13m</td>\n",
       "      <td>in</td>\n",
       "      <td>1.13</td>\n",
       "      <td>1992</td>\n",
       "      <td>1992/1993</td>\n",
       "    </tr>\n",
       "    <tr>\n",
       "      <th>4</th>\n",
       "      <td>5</td>\n",
       "      <td>6</td>\n",
       "      <td>PSV Eindhoven</td>\n",
       "      <td>Eredivisie</td>\n",
       "      <td>Arthur Numan</td>\n",
       "      <td>22.0</td>\n",
       "      <td>Left Back</td>\n",
       "      <td>FC Twente</td>\n",
       "      <td>£1.15m</td>\n",
       "      <td>in</td>\n",
       "      <td>1.15</td>\n",
       "      <td>1992</td>\n",
       "      <td>1992/1993</td>\n",
       "    </tr>\n",
       "  </tbody>\n",
       "</table>\n",
       "</div>"
      ],
      "text/plain": [
       "   Unnamed: 0  ID         to_club_name to_league_name   player_name   age  \\\n",
       "0           0   1     Middlesbrough FC   Championship   Derek Whyte  24.0   \n",
       "1           2   3  Bayer 04 Leverkusen   1 Bundesliga   Pavel Hapal  22.0   \n",
       "2           3   4        VfB Stuttgart   1 Bundesliga   André Golke  27.0   \n",
       "3           4   5     SV Werder Bremen   1 Bundesliga  Bernd Hobsch  24.0   \n",
       "4           5   6        PSV Eindhoven     Eredivisie  Arthur Numan  22.0   \n",
       "\n",
       "             position from_club_involved_name     fee transfer_movement  \\\n",
       "0         Centre Back                 Rangers  £1.13m                in   \n",
       "1  Attacking Midfield           Sigma Olomouc  £1.13m                in   \n",
       "2  Attacking Midfield          1.FC Nuremberg  £1.13m                in   \n",
       "3      Centre Forward             VfB Leipzig  £1.13m                in   \n",
       "4           Left Back               FC Twente  £1.15m                in   \n",
       "\n",
       "   fee_cleaned  year     season  \n",
       "0         1.13  1992  1992/1993  \n",
       "1         1.13  1992  1992/1993  \n",
       "2         1.13  1992  1992/1993  \n",
       "3         1.13  1992  1992/1993  \n",
       "4         1.15  1992  1992/1993  "
      ]
     },
     "execution_count": 39,
     "metadata": {},
     "output_type": "execute_result"
    }
   ],
   "source": [
    "data = pd.read_csv('../transfers1.0.csv', skipinitialspace=True)\n",
    "data.head()"
   ]
  },
  {
   "cell_type": "markdown",
   "metadata": {},
   "source": [
    "## Categorizing Positions"
   ]
  },
  {
   "cell_type": "code",
   "execution_count": 40,
   "metadata": {},
   "outputs": [
    {
     "data": {
      "text/plain": [
       "Centre Forward        3281\n",
       "Centre Back           2574\n",
       "Central Midfield      1546\n",
       "Defensive Midfield    1224\n",
       "Attacking Midfield     925\n",
       "Left Back              910\n",
       "Goalkeeper             878\n",
       "Right Back             842\n",
       "Right Winger           736\n",
       "Left Winger            698\n",
       "Left Midfield          360\n",
       "Second Striker         260\n",
       "Right Midfield         255\n",
       "Midfielder             102\n",
       "Forward                 67\n",
       "Defender                52\n",
       "Sweeper                 22\n",
       "Name: position, dtype: int64"
      ]
     },
     "execution_count": 40,
     "metadata": {},
     "output_type": "execute_result"
    }
   ],
   "source": [
    "data.position.value_counts()"
   ]
  },
  {
   "cell_type": "code",
   "execution_count": 50,
   "metadata": {},
   "outputs": [
    {
     "data": {
      "text/plain": [
       "array(['Centre Back', 'Attacking Midfield', 'Attacking Midfield', ...,\n",
       "       'Left Winger', 'Left Back', 'Left Back'], dtype=object)"
      ]
     },
     "execution_count": 50,
     "metadata": {},
     "output_type": "execute_result"
    }
   ],
   "source": [
    "data['position'].values"
   ]
  },
  {
   "cell_type": "code",
   "execution_count": 41,
   "metadata": {},
   "outputs": [
    {
     "data": {
      "text/plain": [
       "<matplotlib.axes._subplots.AxesSubplot at 0x198f0d061c8>"
      ]
     },
     "execution_count": 41,
     "metadata": {},
     "output_type": "execute_result"
    },
    {
     "data": {
      "image/png": "[encoded data removed]",
      "text/plain": [
       "<Figure size 1296x720 with 1 Axes>"
      ]
     },
     "metadata": {
      "needs_background": "light"
     },
     "output_type": "display_data"
    }
   ],
   "source": [
    "fig, ax = plt.subplots(figsize=(18,10))\n",
    "data.position.value_counts().plot(kind = \"barh\")"
   ]
  },
  {
   "cell_type": "markdown",
   "metadata": {},
   "source": [
    "#### The above visualization tells us which are the prominent positions \n",
    "\n",
    "This one kind of suggested grouping :- Grouping_positions_1\n",
    "\n",
    "- Centre Forwards(CF): Second Striker, Forwards\n",
    "- Centre Backs(CB): Defenders, Sweeper\n",
    "- Central Midfielders(CM): Midfielder\n",
    "- Defensive Midfielders(CDM)\n",
    "- Attacking Midfielders(CAM)\n",
    "- Left Back(LB)\n",
    "- Goalkeeper(GK)\n",
    "- Right Back(RB)\n",
    "- Right Winger(RW): Right Midfielder\n",
    "- Left Winger(LW): Left midfielder\n",
    "\n",
    "\n",
    "Another suggested catgeorization that would reduce the number of variables:- Grouping_positions_2\n",
    "\n",
    "- Fowards(F): Centre Forwards, Second Striker, Forwards\n",
    "- Wingers(W): Right Winger, Left Winger, Right Midfielder, Left midfielder\n",
    "- Midfield(M): Central Midfielders, Midfielder,Defensive Midfielders, Attacking Midfielders\n",
    "- Wingacks(B): Left Back, Right Back\n",
    "- Defenders(D): Centre Backs, Defenders, Sweeper\n",
    "- Goalkeepers(G)\n"
   ]
  },
  {
   "cell_type": "markdown",
   "metadata": {},
   "source": [
    "#### Implementing grouping 1"
   ]
  },
  {
   "cell_type": "code",
   "execution_count": 85,
   "metadata": {},
   "outputs": [],
   "source": [
    "for i in range(data.shape[0]):\n",
    "    if(data.position[i] in ['Centre Forward','Second Striker','Forward']):\n",
    "        data.grouping_positions_1[i] = 'CF'\n",
    "    elif(data.position[i] in ['Centre Back', 'Defender', 'Sweeper']):\n",
    "        data.grouping_positions_1[i] = 'CB'\n",
    "    elif(data.position[i] in ['Central Midfield', 'Midfielder']):\n",
    "        data.grouping_positions_1[i] = 'CM'\n",
    "    elif(data.position[i] in ['Right Winger', 'Right Midfield']):\n",
    "        data.grouping_positions_1[i] = 'RW'\n",
    "    elif(data.position[i] in ['Left Winger', 'Left Midfield']):\n",
    "        data.grouping_positions_1[i] = 'LW'\n",
    "    elif(data.position[i] in ['Defensive Midfield']):\n",
    "        data.grouping_positions_1[i] = 'CDM'\n",
    "    elif(data.position[i] in ['Attacking Midfield']):\n",
    "        data.grouping_positions_1[i] = 'CAM'\n",
    "    elif(data.position[i] in ['Left Back']):\n",
    "        data.grouping_positions_1[i] = 'LB'\n",
    "    elif(data.position[i] in ['Right Back']):\n",
    "        data.grouping_positions_1[i] = 'RB'\n",
    "    else:\n",
    "        data.grouping_positions_1[i] = 'GK'"
   ]
  },
  {
   "cell_type": "code",
   "execution_count": 86,
   "metadata": {},
   "outputs": [
    {
     "data": {
      "text/plain": [
       "<matplotlib.axes._subplots.AxesSubplot at 0x198f5161908>"
      ]
     },
     "execution_count": 86,
     "metadata": {},
     "output_type": "execute_result"
    },
    {
     "data": {
      "image/png": "[encoded data removed]",
      "text/plain": [
       "<Figure size 1296x720 with 1 Axes>"
      ]
     },
     "metadata": {
      "needs_background": "light"
     },
     "output_type": "display_data"
    }
   ],
   "source": [
    "fig, ax = plt.subplots(figsize=(18,10))\n",
    "data.grouping_positions_1.value_counts().plot(kind = \"barh\", color = 'red')"
   ]
  },
  {
   "cell_type": "markdown",
   "metadata": {},
   "source": [
    "#### Implementing grouping 2"
   ]
  },
  {
   "cell_type": "code",
   "execution_count": 87,
   "metadata": {},
   "outputs": [],
   "source": [
    "data['grouping_positions_2'] = 0\n",
    "for i in range(data.shape[0]):\n",
    "    if(data.position[i] in ['Centre Forward','Second Striker','Forward']):\n",
    "        data.grouping_positions_2[i] = 'F'\n",
    "    elif(data.position[i] in ['Centre Back', 'Defender', 'Sweeper']):\n",
    "        data.grouping_positions_2[i] = 'D'\n",
    "    elif(data.position[i] in ['Left Back', 'Right Back']):\n",
    "        data.grouping_positions_2[i] = 'B'\n",
    "    elif(data.position[i] in ['Right Winger', 'Right Midfield', 'Left Winger', 'Left Midfield']):\n",
    "        data.grouping_positions_2[i] = 'W'\n",
    "    elif(data.position[i] in ['Defensive Midfield', 'Attacking Midfield', 'Central Midfield', 'Midfield']):\n",
    "        data.grouping_positions_2[i] = 'M'\n",
    "    else:\n",
    "        data.grouping_positions_2[i] = 'GK'"
   ]
  },
  {
   "cell_type": "code",
   "execution_count": 88,
   "metadata": {},
   "outputs": [
    {
     "data": {
      "text/plain": [
       "<matplotlib.axes._subplots.AxesSubplot at 0x198f54d74c8>"
      ]
     },
     "execution_count": 88,
     "metadata": {},
     "output_type": "execute_result"
    },
    {
     "data": {
      "image/png": "[encoded data removed]",
      "text/plain": [
       "<Figure size 1296x720 with 1 Axes>"
      ]
     },
     "metadata": {
      "needs_background": "light"
     },
     "output_type": "display_data"
    }
   ],
   "source": [
    "fig, ax = plt.subplots(figsize=(18,10))\n",
    "data.grouping_positions_2.value_counts().plot(kind = \"barh\", color = 'green')"
   ]
  },
  {
   "cell_type": "markdown",
   "metadata": {},
   "source": [
    "## Leagues"
   ]
  },
  {
   "cell_type": "code",
   "execution_count": 89,
   "metadata": {},
   "outputs": [
    {
     "data": {
      "text/plain": [
       "Premier League      2561\n",
       "Serie A             2480\n",
       "Championship        2214\n",
       "1 Bundesliga        2190\n",
       "Primera Division    1455\n",
       "Ligue 1             1419\n",
       "Premier Liga        1051\n",
       "Eredivisie           759\n",
       "Liga Nos             603\n",
       "Name: to_league_name, dtype: int64"
      ]
     },
     "execution_count": 89,
     "metadata": {},
     "output_type": "execute_result"
    }
   ],
   "source": [
    "data.to_league_name.value_counts()"
   ]
  },
  {
   "cell_type": "code",
   "execution_count": 90,
   "metadata": {},
   "outputs": [
    {
     "data": {
      "text/plain": [
       "<matplotlib.axes._subplots.AxesSubplot at 0x198f5bc4048>"
      ]
     },
     "execution_count": 90,
     "metadata": {},
     "output_type": "execute_result"
    },
    {
     "data": {
      "image/png": "[encoded data removed]",
      "text/plain": [
       "<Figure size 1296x720 with 1 Axes>"
      ]
     },
     "metadata": {
      "needs_background": "light"
     },
     "output_type": "display_data"
    }
   ],
   "source": [
    "fig, ax = plt.subplots(figsize=(18,10))\n",
    "data.to_league_name.value_counts().plot(kind = \"barh\", color = 'purple')"
   ]
  },
  {
   "cell_type": "markdown",
   "metadata": {},
   "source": [
    "The above graph shows us how the data is spread out among the leagues, the only outlier is the league 'Championship' cause it is a division 2 league. A decision has to be made on that."
   ]
  },
  {
   "cell_type": "code",
   "execution_count": 107,
   "metadata": {},
   "outputs": [
    {
     "data": {
      "text/plain": [
       "to_club_name             to_league_name\n",
       "1. FC Köln               1 Bundesliga      80\n",
       "1.FC Kaiserslautern      1 Bundesliga      71\n",
       "1.FC Nuremberg           1 Bundesliga      52\n",
       "1.FC Saarbrücken         1 Bundesliga       1\n",
       "1.FC Union Berlin        1 Bundesliga       5\n",
       "                                           ..\n",
       "Willem II Tilburg        Eredivisie        18\n",
       "Wimbledon FC             Premier League    21\n",
       "Wolverhampton Wanderers  Championship      57\n",
       "                         Premier League    36\n",
       "Zenit St. Petersburg     Premier Liga      96\n",
       "Length: 374, dtype: int64"
      ]
     },
     "execution_count": 107,
     "metadata": {},
     "output_type": "execute_result"
    }
   ],
   "source": [
    "data.groupby(['to_club_name', 'to_league_name']).size()"
   ]
  },
  {
   "cell_type": "code",
   "execution_count": 108,
   "metadata": {},
   "outputs": [],
   "source": [
    "data.to_csv('../transfers1.1.csv')"
   ]
  },
  {
   "cell_type": "code",
   "execution_count": null,
   "metadata": {},
   "outputs": [],
   "source": []
  }
 ],
 "metadata": {
  "kernelspec": {
   "display_name": "Python 3",
   "language": "python",
   "name": "python3"
  },
  "language_info": {
   "codemirror_mode": {
    "name": "ipython",
    "version": 3
   },
   "file_extension": ".py",
   "mimetype": "text/x-python",
   "name": "python",
   "nbconvert_exporter": "python",
   "pygments_lexer": "ipython3",
   "version": "3.7.5"
  }
 },
 "nbformat": 4,
 "nbformat_minor": 4
}
