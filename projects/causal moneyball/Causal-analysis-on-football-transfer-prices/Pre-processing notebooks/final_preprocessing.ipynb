{
 "cells": [
  {
   "cell_type": "code",
   "execution_count": 1,
   "metadata": {},
   "outputs": [],
   "source": [
    "import pandas as pd\n",
    "import numpy as np\n",
    "import matplotlib.pyplot as plt\n",
    "import warnings\n",
    "from tqdm import tqdm\n",
    "\n",
    "warnings.filterwarnings(\"ignore\")\n",
    "%matplotlib inline"
   ]
  },
  {
   "cell_type": "code",
   "execution_count": 2,
   "metadata": {},
   "outputs": [
    {
     "data": {
      "text/html": [
       "<div>\n",
       "<style scoped>\n",
       "    .dataframe tbody tr th:only-of-type {\n",
       "        vertical-align: middle;\n",
       "    }\n",
       "\n",
       "    .dataframe tbody tr th {\n",
       "        vertical-align: top;\n",
       "    }\n",
       "\n",
       "    .dataframe thead th {\n",
       "        text-align: right;\n",
       "    }\n",
       "</style>\n",
       "<table border=\"1\" class=\"dataframe\">\n",
       "  <thead>\n",
       "    <tr style=\"text-align: right;\">\n",
       "      <th></th>\n",
       "      <th>Unnamed: 0</th>\n",
       "      <th>ID</th>\n",
       "      <th>arrival_club</th>\n",
       "      <th>arrival_league</th>\n",
       "      <th>player_name</th>\n",
       "      <th>age</th>\n",
       "      <th>position</th>\n",
       "      <th>transfer_price</th>\n",
       "      <th>year_1</th>\n",
       "      <th>year_2</th>\n",
       "      <th>...</th>\n",
       "      <th>ovr_fifa</th>\n",
       "      <th>height</th>\n",
       "      <th>overall_app</th>\n",
       "      <th>overall_gls</th>\n",
       "      <th>potential_fifa</th>\n",
       "      <th>overall_fifa</th>\n",
       "      <th>new_height</th>\n",
       "      <th>appearances</th>\n",
       "      <th>goals</th>\n",
       "      <th>N</th>\n",
       "    </tr>\n",
       "  </thead>\n",
       "  <tbody>\n",
       "    <tr>\n",
       "      <th>0</th>\n",
       "      <td>0</td>\n",
       "      <td>1913</td>\n",
       "      <td>Sunderland AFC</td>\n",
       "      <td>Premier League</td>\n",
       "      <td>Lorik Cana</td>\n",
       "      <td>25</td>\n",
       "      <td>Centre Back</td>\n",
       "      <td>5.22</td>\n",
       "      <td>2009</td>\n",
       "      <td>Before2016</td>\n",
       "      <td>...</td>\n",
       "      <td>78.0</td>\n",
       "      <td>5.9696</td>\n",
       "      <td>230.000000</td>\n",
       "      <td>10.000000</td>\n",
       "      <td>85above</td>\n",
       "      <td>75to84</td>\n",
       "      <td>6to6.5</td>\n",
       "      <td>150to300</td>\n",
       "      <td>below20</td>\n",
       "      <td>EU</td>\n",
       "    </tr>\n",
       "    <tr>\n",
       "      <th>1</th>\n",
       "      <td>1</td>\n",
       "      <td>6425</td>\n",
       "      <td>FC Nantes</td>\n",
       "      <td>Ligue 1</td>\n",
       "      <td>Lorik Cana</td>\n",
       "      <td>32</td>\n",
       "      <td>Centre Back</td>\n",
       "      <td>0.18</td>\n",
       "      <td>2015</td>\n",
       "      <td>Before2016</td>\n",
       "      <td>...</td>\n",
       "      <td>77.0</td>\n",
       "      <td>5.9696</td>\n",
       "      <td>367.000000</td>\n",
       "      <td>15.000000</td>\n",
       "      <td>75to84</td>\n",
       "      <td>75to84</td>\n",
       "      <td>6to6.5</td>\n",
       "      <td>300above</td>\n",
       "      <td>below20</td>\n",
       "      <td>EU</td>\n",
       "    </tr>\n",
       "    <tr>\n",
       "      <th>2</th>\n",
       "      <td>2</td>\n",
       "      <td>4528</td>\n",
       "      <td>US Palermo</td>\n",
       "      <td>Serie A</td>\n",
       "      <td>Samir Ujkani</td>\n",
       "      <td>23</td>\n",
       "      <td>Goalkeeper</td>\n",
       "      <td>1.35</td>\n",
       "      <td>2012</td>\n",
       "      <td>Before2016</td>\n",
       "      <td>...</td>\n",
       "      <td>63.0</td>\n",
       "      <td>6.1664</td>\n",
       "      <td>120.000000</td>\n",
       "      <td>0.000000</td>\n",
       "      <td>75to84</td>\n",
       "      <td>below65</td>\n",
       "      <td>6to6.5</td>\n",
       "      <td>50to150</td>\n",
       "      <td>below20</td>\n",
       "      <td>EU</td>\n",
       "    </tr>\n",
       "    <tr>\n",
       "      <th>3</th>\n",
       "      <td>3</td>\n",
       "      <td>6048</td>\n",
       "      <td>SS Lazio</td>\n",
       "      <td>Serie A</td>\n",
       "      <td>Etrit Berisha</td>\n",
       "      <td>24</td>\n",
       "      <td>Goalkeeper</td>\n",
       "      <td>0.36</td>\n",
       "      <td>2013</td>\n",
       "      <td>Before2016</td>\n",
       "      <td>...</td>\n",
       "      <td>67.0</td>\n",
       "      <td>6.3960</td>\n",
       "      <td>90.000000</td>\n",
       "      <td>3.000000</td>\n",
       "      <td>75to84</td>\n",
       "      <td>65to74</td>\n",
       "      <td>6to6.5</td>\n",
       "      <td>50to150</td>\n",
       "      <td>below20</td>\n",
       "      <td>EU</td>\n",
       "    </tr>\n",
       "    <tr>\n",
       "      <th>4</th>\n",
       "      <td>4</td>\n",
       "      <td>2209</td>\n",
       "      <td>Atalanta BC</td>\n",
       "      <td>Serie A</td>\n",
       "      <td>Etrit Berisha</td>\n",
       "      <td>28</td>\n",
       "      <td>Goalkeeper</td>\n",
       "      <td>4.50</td>\n",
       "      <td>2017</td>\n",
       "      <td>After2016</td>\n",
       "      <td>...</td>\n",
       "      <td>74.0</td>\n",
       "      <td>6.3960</td>\n",
       "      <td>136.175375</td>\n",
       "      <td>20.225826</td>\n",
       "      <td>75to84</td>\n",
       "      <td>65to74</td>\n",
       "      <td>6to6.5</td>\n",
       "      <td>50to150</td>\n",
       "      <td>20to50</td>\n",
       "      <td>EU</td>\n",
       "    </tr>\n",
       "  </tbody>\n",
       "</table>\n",
       "<p>5 rows × 32 columns</p>\n",
       "</div>"
      ],
      "text/plain": [
       "   Unnamed: 0    ID    arrival_club  arrival_league    player_name  age  \\\n",
       "0           0  1913  Sunderland AFC  Premier League     Lorik Cana   25   \n",
       "1           1  6425       FC Nantes         Ligue 1     Lorik Cana   32   \n",
       "2           2  4528      US Palermo         Serie A   Samir Ujkani   23   \n",
       "3           3  6048        SS Lazio         Serie A  Etrit Berisha   24   \n",
       "4           4  2209     Atalanta BC         Serie A  Etrit Berisha   28   \n",
       "\n",
       "      position  transfer_price  year_1      year_2  ... ovr_fifa  height  \\\n",
       "0  Centre Back            5.22    2009  Before2016  ...     78.0  5.9696   \n",
       "1  Centre Back            0.18    2015  Before2016  ...     77.0  5.9696   \n",
       "2   Goalkeeper            1.35    2012  Before2016  ...     63.0  6.1664   \n",
       "3   Goalkeeper            0.36    2013  Before2016  ...     67.0  6.3960   \n",
       "4   Goalkeeper            4.50    2017   After2016  ...     74.0  6.3960   \n",
       "\n",
       "  overall_app overall_gls potential_fifa overall_fifa new_height appearances  \\\n",
       "0  230.000000   10.000000        85above       75to84     6to6.5    150to300   \n",
       "1  367.000000   15.000000         75to84       75to84     6to6.5    300above   \n",
       "2  120.000000    0.000000         75to84      below65     6to6.5     50to150   \n",
       "3   90.000000    3.000000         75to84       65to74     6to6.5     50to150   \n",
       "4  136.175375   20.225826         75to84       65to74     6to6.5     50to150   \n",
       "\n",
       "     goals   N  \n",
       "0  below20  EU  \n",
       "1  below20  EU  \n",
       "2  below20  EU  \n",
       "3  below20  EU  \n",
       "4   20to50  EU  \n",
       "\n",
       "[5 rows x 32 columns]"
      ]
     },
     "execution_count": 2,
     "metadata": {},
     "output_type": "execute_result"
    }
   ],
   "source": [
    "df = pd.read_csv('../transfers2.3.csv')\n",
    "df.head()"
   ]
  },
  {
   "cell_type": "code",
   "execution_count": 4,
   "metadata": {},
   "outputs": [
    {
     "data": {
      "text/plain": [
       "Below5M     4399\n",
       "20Mto5M     1572\n",
       "60Mto20M     311\n",
       "Above60M      30\n",
       "Name: transfer_price_group2, dtype: int64"
      ]
     },
     "execution_count": 4,
     "metadata": {},
     "output_type": "execute_result"
    }
   ],
   "source": [
    "df.transfer_price_group2.value_counts()"
   ]
  },
  {
   "cell_type": "code",
   "execution_count": 27,
   "metadata": {},
   "outputs": [
    {
     "data": {
      "text/plain": [
       "(1913, 32)"
      ]
     },
     "execution_count": 27,
     "metadata": {},
     "output_type": "execute_result"
    }
   ],
   "source": [
    "# dropping all transfers below 5M to reduce noise in the dataset \n",
    "\n",
    "df_new = df[df.transfer_price_group2 != 'Below5M']\n",
    "df_new.shape"
   ]
  },
  {
   "cell_type": "code",
   "execution_count": 28,
   "metadata": {},
   "outputs": [
    {
     "data": {
      "text/plain": [
       "10Mto5M     964\n",
       "40Mto10M    878\n",
       "80Mto40M     59\n",
       "Above80M     12\n",
       "Name: transfer_price_group1, dtype: int64"
      ]
     },
     "execution_count": 28,
     "metadata": {},
     "output_type": "execute_result"
    }
   ],
   "source": [
    "df_new.transfer_price_group1 = df_new.transfer_price_group1.replace('10Mto1M', '10Mto5M')\n",
    "df_new.transfer_price_group1.value_counts()"
   ]
  },
  {
   "cell_type": "code",
   "execution_count": 29,
   "metadata": {},
   "outputs": [],
   "source": [
    "df_new.origin_league = df_new.origin_league.replace('Liga Nos', 'Other')\n",
    "df_new.origin_league = df_new.origin_league.replace('Premier Liga', 'Other')\n",
    "df_new.origin_league = df_new.origin_league.replace('Eredivisie', 'Other')"
   ]
  },
  {
   "cell_type": "code",
   "execution_count": 30,
   "metadata": {},
   "outputs": [
    {
     "data": {
      "text/plain": [
       "Other               566\n",
       "Premier League      367\n",
       "Serie A             334\n",
       "Ligue 1             238\n",
       "Primera Division    226\n",
       "1 Bundesliga        182\n",
       "Name: origin_league, dtype: int64"
      ]
     },
     "execution_count": 30,
     "metadata": {},
     "output_type": "execute_result"
    }
   ],
   "source": [
    "df_new.origin_league.value_counts()"
   ]
  },
  {
   "cell_type": "code",
   "execution_count": 31,
   "metadata": {},
   "outputs": [],
   "source": [
    "df_new.arrival_league = df_new.arrival_league.replace('Liga Nos', 'Other')\n",
    "df_new.arrival_league = df_new.arrival_league.replace('Premier Liga', 'Other')\n",
    "df_new.arrival_league = df_new.arrival_league.replace('Eredivisie', 'Other')"
   ]
  },
  {
   "cell_type": "code",
   "execution_count": 32,
   "metadata": {},
   "outputs": [
    {
     "data": {
      "text/plain": [
       "Premier League      647\n",
       "Serie A             373\n",
       "Primera Division    270\n",
       "1 Bundesliga        246\n",
       "Other               195\n",
       "Ligue 1             182\n",
       "Name: arrival_league, dtype: int64"
      ]
     },
     "execution_count": 32,
     "metadata": {},
     "output_type": "execute_result"
    }
   ],
   "source": [
    "df_new.arrival_league.value_counts()"
   ]
  },
  {
   "cell_type": "code",
   "execution_count": 33,
   "metadata": {},
   "outputs": [
    {
     "data": {
      "text/plain": [
       "F     805\n",
       "M     554\n",
       "D     481\n",
       "GK     73\n",
       "Name: grouping_positions_2, dtype: int64"
      ]
     },
     "execution_count": 33,
     "metadata": {},
     "output_type": "execute_result"
    }
   ],
   "source": [
    "df_new.grouping_positions_2 = df_new.grouping_positions_2.replace('W', 'F')\n",
    "df_new.grouping_positions_2 = df_new.grouping_positions_2.replace('B', 'D')\n",
    "df_new.grouping_positions_2.value_counts()"
   ]
  },
  {
   "cell_type": "code",
   "execution_count": 34,
   "metadata": {},
   "outputs": [],
   "source": [
    "df_new = df_new.drop(columns = 'grouping_positions_1')\n",
    "df_new = df_new.rename(columns = {'grouping_positions_2': 'grouping_position'})"
   ]
  },
  {
   "cell_type": "code",
   "execution_count": 38,
   "metadata": {},
   "outputs": [
    {
     "data": {
      "text/plain": [
       "Under30    1006\n",
       "Under23     871\n",
       "Above30      36\n",
       "Name: age_grouping_2, dtype: int64"
      ]
     },
     "execution_count": 38,
     "metadata": {},
     "output_type": "execute_result"
    }
   ],
   "source": [
    "df_new.age_grouping_2.value_counts()"
   ]
  },
  {
   "cell_type": "code",
   "execution_count": 39,
   "metadata": {},
   "outputs": [
    {
     "data": {
      "text/plain": [
       "Index(['Unnamed: 0', 'ID', 'arrival_club', 'arrival_league', 'player_name',\n",
       "       'age', 'position', 'transfer_price', 'year_1', 'year_2', 'origin_club',\n",
       "       'origin_league', 'grouping_position', 'arrival_club_tier',\n",
       "       'origin_club_tier', 'age_grouping_1', 'age_grouping_2',\n",
       "       'transfer_price_group1', 'transfer_price_group2', 'nationality',\n",
       "       'pot_fifa', 'ovr_fifa', 'height', 'overall_app', 'overall_gls',\n",
       "       'potential_fifa', 'overall_fifa', 'new_height', 'appearances', 'goals',\n",
       "       'N'],\n",
       "      dtype='object')"
      ]
     },
     "execution_count": 39,
     "metadata": {},
     "output_type": "execute_result"
    }
   ],
   "source": [
    "df_new.columns"
   ]
  },
  {
   "cell_type": "code",
   "execution_count": 43,
   "metadata": {},
   "outputs": [],
   "source": [
    "df_new2 = df_new.rename(columns = {'year_2': 'year'})"
   ]
  },
  {
   "cell_type": "code",
   "execution_count": 44,
   "metadata": {},
   "outputs": [
    {
     "data": {
      "text/plain": [
       "Index(['ID', 'arrival_league', 'year', 'origin_league', 'grouping_position',\n",
       "       'arrival_club_tier', 'origin_club_tier', 'age_grouping_1',\n",
       "       'age_grouping_2', 'transfer_price_group1', 'transfer_price_group2',\n",
       "       'potential_fifa', 'overall_fifa', 'new_height', 'appearances', 'goals',\n",
       "       'N'],\n",
       "      dtype='object')"
      ]
     },
     "execution_count": 44,
     "metadata": {},
     "output_type": "execute_result"
    }
   ],
   "source": [
    "df_new2 = df_new2.drop(columns = ['Unnamed: 0', 'year_1', 'age', 'position', 'player_name', 'arrival_club', 'origin_club', 'transfer_price', 'nationality','pot_fifa', 'ovr_fifa', 'height', 'overall_app', 'overall_gls'])\n",
    "df_new2.columns"
   ]
  },
  {
   "cell_type": "code",
   "execution_count": 45,
   "metadata": {},
   "outputs": [],
   "source": [
    "# using age grouping 1 and transfer price grouping 1\n",
    "df_11 = df_new2.drop(columns = ['ID','age_grouping_2', 'transfer_price_group2'])\n",
    "df_11 = df_11.rename(columns = {'age_grouping_1': 'age', 'transfer_price_group1': 'transfer_price'})\n",
    "\n",
    "# using age grouping 1 and transfer price grouping 2\n",
    "df_12 = df_new2.drop(columns = ['ID','age_grouping_2', 'transfer_price_group1'])\n",
    "df_12 = df_12.rename(columns = {'age_grouping_1': 'age', 'transfer_price_group2': 'transfer_price'})\n",
    "\n",
    "# using age grouping 2 and transfer price grouping 1\n",
    "df_21 = df_new2.drop(columns = ['ID','age_grouping_1', 'transfer_price_group2'])\n",
    "df_21 = df_21.rename(columns = {'age_grouping_2': 'age', 'transfer_price_group1': 'transfer_price'})\n",
    "\n",
    "# using age grouping 2 and transfer price grouping 2\n",
    "df_22 = df_new2.drop(columns = ['ID','age_grouping_1', 'transfer_price_group1'])\n",
    "df_22 = df_22.rename(columns = {'age_grouping_2': 'age', 'transfer_price_group2': 'transfer_price'})"
   ]
  },
  {
   "cell_type": "code",
   "execution_count": 46,
   "metadata": {},
   "outputs": [],
   "source": [
    "df_new.to_csv('../transfers2.4.csv')\n",
    "df_new2.to_csv('../transfers_final.csv')\n",
    "df_11.to_csv('../transfers_11.csv')\n",
    "df_12.to_csv('../transfers_12.csv')\n",
    "df_21.to_csv('../transfers_21.csv')\n",
    "df_22.to_csv('../transfers_22.csv')"
   ]
  },
  {
   "cell_type": "code",
   "execution_count": null,
   "metadata": {},
   "outputs": [],
   "source": []
  }
 ],
 "metadata": {
  "kernelspec": {
   "display_name": "Python 3",
   "language": "python",
   "name": "python3"
  },
  "language_info": {
   "codemirror_mode": {
    "name": "ipython",
    "version": 3
   },
   "file_extension": ".py",
   "mimetype": "text/x-python",
   "name": "python",
   "nbconvert_exporter": "python",
   "pygments_lexer": "ipython3",
   "version": "3.7.6"
  }
 },
 "nbformat": 4,
 "nbformat_minor": 4
}
