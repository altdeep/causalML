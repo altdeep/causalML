{
 "cells": [
  {
   "cell_type": "code",
   "execution_count": 1,
   "metadata": {},
   "outputs": [],
   "source": [
    "import pandas as pd\n",
    "import numpy as np\n",
    "import matplotlib.pyplot as plt\n",
    "import warnings\n",
    "from tqdm import tqdm\n",
    "\n",
    "warnings.filterwarnings(\"ignore\")\n",
    "%matplotlib inline"
   ]
  },
  {
   "cell_type": "code",
   "execution_count": 31,
   "metadata": {},
   "outputs": [],
   "source": [
    "df = pd.read_csv('../transfers2.0.csv')"
   ]
  },
  {
   "cell_type": "code",
   "execution_count": 32,
   "metadata": {},
   "outputs": [
    {
     "data": {
      "text/html": [
       "<div>\n",
       "<style scoped>\n",
       "    .dataframe tbody tr th:only-of-type {\n",
       "        vertical-align: middle;\n",
       "    }\n",
       "\n",
       "    .dataframe tbody tr th {\n",
       "        vertical-align: top;\n",
       "    }\n",
       "\n",
       "    .dataframe thead th {\n",
       "        text-align: right;\n",
       "    }\n",
       "</style>\n",
       "<table border=\"1\" class=\"dataframe\">\n",
       "  <thead>\n",
       "    <tr style=\"text-align: right;\">\n",
       "      <th></th>\n",
       "      <th>Unnamed: 0</th>\n",
       "      <th>ID</th>\n",
       "      <th>arrival_club</th>\n",
       "      <th>arrival_league</th>\n",
       "      <th>player_name</th>\n",
       "      <th>age</th>\n",
       "      <th>position</th>\n",
       "      <th>transfer_price</th>\n",
       "      <th>year_1</th>\n",
       "      <th>year_2</th>\n",
       "      <th>...</th>\n",
       "      <th>age_grouping_1</th>\n",
       "      <th>age_grouping_2</th>\n",
       "      <th>transfer_price_group1</th>\n",
       "      <th>transfer_price_group2</th>\n",
       "      <th>nationality</th>\n",
       "      <th>pot_fifa</th>\n",
       "      <th>ovr_fifa</th>\n",
       "      <th>height</th>\n",
       "      <th>overall_app</th>\n",
       "      <th>overall_gls</th>\n",
       "    </tr>\n",
       "  </thead>\n",
       "  <tbody>\n",
       "    <tr>\n",
       "      <th>0</th>\n",
       "      <td>26</td>\n",
       "      <td>1913</td>\n",
       "      <td>Sunderland AFC</td>\n",
       "      <td>Premier League</td>\n",
       "      <td>Lorik Cana</td>\n",
       "      <td>25</td>\n",
       "      <td>Centre Back</td>\n",
       "      <td>5.22</td>\n",
       "      <td>2009</td>\n",
       "      <td>Before2016</td>\n",
       "      <td>...</td>\n",
       "      <td>U25</td>\n",
       "      <td>Under30</td>\n",
       "      <td>10Mto1M</td>\n",
       "      <td>20Mto5M</td>\n",
       "      <td>Albania</td>\n",
       "      <td>87.0</td>\n",
       "      <td>78.0</td>\n",
       "      <td>1.82</td>\n",
       "      <td>230.0</td>\n",
       "      <td>10.0</td>\n",
       "    </tr>\n",
       "    <tr>\n",
       "      <th>1</th>\n",
       "      <td>27</td>\n",
       "      <td>6425</td>\n",
       "      <td>FC Nantes</td>\n",
       "      <td>Ligue 1</td>\n",
       "      <td>Lorik Cana</td>\n",
       "      <td>32</td>\n",
       "      <td>Centre Back</td>\n",
       "      <td>0.18</td>\n",
       "      <td>2015</td>\n",
       "      <td>Before2016</td>\n",
       "      <td>...</td>\n",
       "      <td>A30</td>\n",
       "      <td>Above30</td>\n",
       "      <td>Below1M</td>\n",
       "      <td>Below5M</td>\n",
       "      <td>Albania</td>\n",
       "      <td>76.0</td>\n",
       "      <td>77.0</td>\n",
       "      <td>1.82</td>\n",
       "      <td>367.0</td>\n",
       "      <td>15.0</td>\n",
       "    </tr>\n",
       "    <tr>\n",
       "      <th>2</th>\n",
       "      <td>2910</td>\n",
       "      <td>4528</td>\n",
       "      <td>US Palermo</td>\n",
       "      <td>Serie A</td>\n",
       "      <td>Samir Ujkani</td>\n",
       "      <td>23</td>\n",
       "      <td>Goalkeeper</td>\n",
       "      <td>1.35</td>\n",
       "      <td>2012</td>\n",
       "      <td>Before2016</td>\n",
       "      <td>...</td>\n",
       "      <td>U25</td>\n",
       "      <td>Under23</td>\n",
       "      <td>10Mto1M</td>\n",
       "      <td>Below5M</td>\n",
       "      <td>Albania</td>\n",
       "      <td>80.0</td>\n",
       "      <td>63.0</td>\n",
       "      <td>1.88</td>\n",
       "      <td>120.0</td>\n",
       "      <td>0.0</td>\n",
       "    </tr>\n",
       "    <tr>\n",
       "      <th>3</th>\n",
       "      <td>3293</td>\n",
       "      <td>6048</td>\n",
       "      <td>SS Lazio</td>\n",
       "      <td>Serie A</td>\n",
       "      <td>Etrit Berisha</td>\n",
       "      <td>24</td>\n",
       "      <td>Goalkeeper</td>\n",
       "      <td>0.36</td>\n",
       "      <td>2013</td>\n",
       "      <td>Before2016</td>\n",
       "      <td>...</td>\n",
       "      <td>U25</td>\n",
       "      <td>Under30</td>\n",
       "      <td>Below1M</td>\n",
       "      <td>Below5M</td>\n",
       "      <td>Albania</td>\n",
       "      <td>75.0</td>\n",
       "      <td>67.0</td>\n",
       "      <td>1.95</td>\n",
       "      <td>90.0</td>\n",
       "      <td>3.0</td>\n",
       "    </tr>\n",
       "    <tr>\n",
       "      <th>4</th>\n",
       "      <td>3294</td>\n",
       "      <td>2209</td>\n",
       "      <td>Atalanta BC</td>\n",
       "      <td>Serie A</td>\n",
       "      <td>Etrit Berisha</td>\n",
       "      <td>28</td>\n",
       "      <td>Goalkeeper</td>\n",
       "      <td>4.50</td>\n",
       "      <td>2017</td>\n",
       "      <td>After2016</td>\n",
       "      <td>...</td>\n",
       "      <td>U30</td>\n",
       "      <td>Under30</td>\n",
       "      <td>10Mto1M</td>\n",
       "      <td>Below5M</td>\n",
       "      <td>Albania</td>\n",
       "      <td>79.0</td>\n",
       "      <td>74.0</td>\n",
       "      <td>1.95</td>\n",
       "      <td>NaN</td>\n",
       "      <td>NaN</td>\n",
       "    </tr>\n",
       "  </tbody>\n",
       "</table>\n",
       "<p>5 rows × 26 columns</p>\n",
       "</div>"
      ],
      "text/plain": [
       "   Unnamed: 0    ID    arrival_club  arrival_league    player_name  age  \\\n",
       "0          26  1913  Sunderland AFC  Premier League     Lorik Cana   25   \n",
       "1          27  6425       FC Nantes         Ligue 1     Lorik Cana   32   \n",
       "2        2910  4528      US Palermo         Serie A   Samir Ujkani   23   \n",
       "3        3293  6048        SS Lazio         Serie A  Etrit Berisha   24   \n",
       "4        3294  2209     Atalanta BC         Serie A  Etrit Berisha   28   \n",
       "\n",
       "      position  transfer_price  year_1      year_2  ... age_grouping_1  \\\n",
       "0  Centre Back            5.22    2009  Before2016  ...            U25   \n",
       "1  Centre Back            0.18    2015  Before2016  ...            A30   \n",
       "2   Goalkeeper            1.35    2012  Before2016  ...            U25   \n",
       "3   Goalkeeper            0.36    2013  Before2016  ...            U25   \n",
       "4   Goalkeeper            4.50    2017   After2016  ...            U30   \n",
       "\n",
       "  age_grouping_2 transfer_price_group1 transfer_price_group2 nationality  \\\n",
       "0        Under30               10Mto1M               20Mto5M     Albania   \n",
       "1        Above30               Below1M               Below5M     Albania   \n",
       "2        Under23               10Mto1M               Below5M     Albania   \n",
       "3        Under30               Below1M               Below5M     Albania   \n",
       "4        Under30               10Mto1M               Below5M     Albania   \n",
       "\n",
       "  pot_fifa ovr_fifa height overall_app overall_gls  \n",
       "0     87.0     78.0   1.82       230.0        10.0  \n",
       "1     76.0     77.0   1.82       367.0        15.0  \n",
       "2     80.0     63.0   1.88       120.0         0.0  \n",
       "3     75.0     67.0   1.95        90.0         3.0  \n",
       "4     79.0     74.0   1.95         NaN         NaN  \n",
       "\n",
       "[5 rows x 26 columns]"
      ]
     },
     "execution_count": 32,
     "metadata": {},
     "output_type": "execute_result"
    }
   ],
   "source": [
    "df.head()"
   ]
  },
  {
   "cell_type": "code",
   "execution_count": 33,
   "metadata": {},
   "outputs": [],
   "source": [
    "df= df.fillna(df.mean())"
   ]
  },
  {
   "cell_type": "markdown",
   "metadata": {},
   "source": [
    "#### Fifa potential and overall classification\n",
    "\n",
    "    - 85+: 85above\n",
    "    - 75 to 84: 75to84\n",
    "    - 65 to 74: 65to74\n",
    "    - below 65: below65"
   ]
  },
  {
   "cell_type": "code",
   "execution_count": 34,
   "metadata": {},
   "outputs": [
    {
     "name": "stderr",
     "output_type": "stream",
     "text": [
      "100%|██████████████████████████████████████████████████████████████████████████████| 6312/6312 [02:22<00:00, 44.42it/s]\n"
     ]
    }
   ],
   "source": [
    "df['potential_fifa'] = 0\n",
    "\n",
    "for i in tqdm(range(len(df))):\n",
    "    if(df.pot_fifa[i] >= 85):\n",
    "        df['potential_fifa'][i] = '85above'\n",
    "    elif(85 > df.pot_fifa[i] > 74):\n",
    "        df['potential_fifa'][i] = '75to84'\n",
    "    elif(75>df.pot_fifa[i]>64):\n",
    "        df['potential_fifa'][i] = '65to74'\n",
    "    else:\n",
    "        df['potential_fifa'][i] = 'below65'\n",
    "              "
   ]
  },
  {
   "cell_type": "code",
   "execution_count": 35,
   "metadata": {},
   "outputs": [
    {
     "data": {
      "text/plain": [
       "75to84     4869\n",
       "65to74      894\n",
       "85above     485\n",
       "below65      64\n",
       "Name: potential_fifa, dtype: int64"
      ]
     },
     "execution_count": 35,
     "metadata": {},
     "output_type": "execute_result"
    }
   ],
   "source": [
    "df.potential_fifa.value_counts()"
   ]
  },
  {
   "cell_type": "code",
   "execution_count": 36,
   "metadata": {},
   "outputs": [
    {
     "name": "stderr",
     "output_type": "stream",
     "text": [
      "100%|██████████████████████████████████████████████████████████████████████████████| 6312/6312 [02:22<00:00, 44.30it/s]\n"
     ]
    }
   ],
   "source": [
    "df['overall_fifa'] = 0\n",
    "\n",
    "for i in tqdm(range(len(df))):\n",
    "    if(df.ovr_fifa[i] >= 85):\n",
    "        df['overall_fifa'][i] = '85above'\n",
    "    elif(85 > df.ovr_fifa[i] > 74):\n",
    "        df['overall_fifa'][i] = '75to84'\n",
    "    elif(75>df.ovr_fifa[i]>64):\n",
    "        df['overall_fifa'][i] = '65to74'\n",
    "    else:\n",
    "        df['overall_fifa'][i] = 'below65'\n",
    "              "
   ]
  },
  {
   "cell_type": "code",
   "execution_count": 37,
   "metadata": {},
   "outputs": [
    {
     "data": {
      "text/plain": [
       "65to74     4377\n",
       "75to84     1207\n",
       "below65     677\n",
       "85above      51\n",
       "Name: overall_fifa, dtype: int64"
      ]
     },
     "execution_count": 37,
     "metadata": {},
     "output_type": "execute_result"
    }
   ],
   "source": [
    "df.overall_fifa.value_counts()"
   ]
  },
  {
   "cell_type": "code",
   "execution_count": 38,
   "metadata": {},
   "outputs": [],
   "source": [
    "# Converting height in meters to feet\n",
    "df['height'] = df['height']*3.28"
   ]
  },
  {
   "cell_type": "markdown",
   "metadata": {},
   "source": [
    "#### Height classification\n",
    "\n",
    " - 6.5 feet above : 6.5above\n",
    " - 6 to 6.5: 6to6.5\n",
    " - 5.5 to 6: 5.5to6\n",
    " - below 5.5: below5.5\n"
   ]
  },
  {
   "cell_type": "code",
   "execution_count": 49,
   "metadata": {},
   "outputs": [
    {
     "name": "stderr",
     "output_type": "stream",
     "text": [
      "100%|██████████████████████████████████████████████████████████████████████████████| 6312/6312 [02:22<00:00, 44.15it/s]\n"
     ]
    }
   ],
   "source": [
    "df['new_height'] = 0\n",
    "\n",
    "for i in tqdm(range(len(df))):\n",
    "    if(df.height[i] >= 6.5):\n",
    "        df['new_height'][i] = '6.5above'\n",
    "    elif(6.5 > df.height[i] >5.9):\n",
    "        df['new_height'][i] = '6to6.5'\n",
    "    elif(6>df.height[i]>5.5):\n",
    "        df['new_height'][i] = '5.5to6'\n",
    "    else:\n",
    "        df['new_height'][i] = 'below5.5'"
   ]
  },
  {
   "cell_type": "code",
   "execution_count": 50,
   "metadata": {},
   "outputs": [
    {
     "data": {
      "text/plain": [
       "6to6.5      4278\n",
       "5.5to6      1952\n",
       "below5.5      58\n",
       "6.5above      24\n",
       "Name: new_height, dtype: int64"
      ]
     },
     "execution_count": 50,
     "metadata": {},
     "output_type": "execute_result"
    }
   ],
   "source": [
    "df['new_height'].value_counts()"
   ]
  },
  {
   "cell_type": "markdown",
   "metadata": {},
   "source": [
    "##### Classifying Appearances\n",
    "\n",
    " - 300 above: 300above\n",
    " - 150 to 300 : 150to300\n",
    " - 50 to 150: 50to150\n",
    " - below 50: below50"
   ]
  },
  {
   "cell_type": "code",
   "execution_count": 51,
   "metadata": {},
   "outputs": [
    {
     "name": "stderr",
     "output_type": "stream",
     "text": [
      "100%|██████████████████████████████████████████████████████████████████████████████| 6312/6312 [02:22<00:00, 44.24it/s]\n"
     ]
    }
   ],
   "source": [
    "df['appearances'] = 0\n",
    "\n",
    "for i in tqdm(range(len(df))):\n",
    "    if(df.overall_app[i] >= 300):\n",
    "        df['appearances'][i] = '300above'\n",
    "    elif(300 > df.overall_app[i] > 149):\n",
    "        df['appearances'][i] = '150to300'\n",
    "    elif(150 >df.overall_app[i]>49):\n",
    "        df['appearances'][i] = '50to150'\n",
    "    else:\n",
    "        df['appearances'][i] = 'below50'\n",
    "              "
   ]
  },
  {
   "cell_type": "code",
   "execution_count": 55,
   "metadata": {},
   "outputs": [
    {
     "data": {
      "text/plain": [
       "50to150     3274\n",
       "150to300    1677\n",
       "below50     1045\n",
       "300above     316\n",
       "Name: appearances, dtype: int64"
      ]
     },
     "execution_count": 55,
     "metadata": {},
     "output_type": "execute_result"
    }
   ],
   "source": [
    "df.appearances.value_counts()"
   ]
  },
  {
   "cell_type": "markdown",
   "metadata": {},
   "source": [
    "#### Classifying goals\n",
    "\n",
    "- above 100 : above100\n",
    "- 50 to 100: 50to100\n",
    "- 20 to 50 :20to50\n",
    "- below 20 : below20"
   ]
  },
  {
   "cell_type": "code",
   "execution_count": 56,
   "metadata": {},
   "outputs": [
    {
     "name": "stderr",
     "output_type": "stream",
     "text": [
      "100%|██████████████████████████████████████████████████████████████████████████████| 6312/6312 [02:23<00:00, 43.97it/s]\n"
     ]
    }
   ],
   "source": [
    "df['goals'] = 0\n",
    "\n",
    "for i in tqdm(range(len(df))):\n",
    "    if(df.overall_gls[i] >= 100):\n",
    "        df['goals'][i] = '100above'\n",
    "    elif(100 > df.overall_gls[i] > 49):\n",
    "        df['goals'][i] = '50to100'\n",
    "    elif(50 >df.overall_gls[i]>19):\n",
    "        df['goals'][i] = '20to50'\n",
    "    else:\n",
    "        df['goals'][i] = 'below20'\n",
    "              "
   ]
  },
  {
   "cell_type": "code",
   "execution_count": 57,
   "metadata": {},
   "outputs": [
    {
     "data": {
      "text/plain": [
       "below20     3372\n",
       "20to50      2347\n",
       "50to100      458\n",
       "100above     135\n",
       "Name: goals, dtype: int64"
      ]
     },
     "execution_count": 57,
     "metadata": {},
     "output_type": "execute_result"
    }
   ],
   "source": [
    "df.goals.value_counts()"
   ]
  },
  {
   "cell_type": "code",
   "execution_count": 68,
   "metadata": {},
   "outputs": [],
   "source": [
    "df.to_csv('../transfers2.1.csv')"
   ]
  },
  {
   "cell_type": "code",
   "execution_count": null,
   "metadata": {},
   "outputs": [],
   "source": []
  }
 ],
 "metadata": {
  "kernelspec": {
   "display_name": "Python 3",
   "language": "python",
   "name": "python3"
  },
  "language_info": {
   "codemirror_mode": {
    "name": "ipython",
    "version": 3
   },
   "file_extension": ".py",
   "mimetype": "text/x-python",
   "name": "python",
   "nbconvert_exporter": "python",
   "pygments_lexer": "ipython3",
   "version": "3.7.6"
  }
 },
 "nbformat": 4,
 "nbformat_minor": 4
}
