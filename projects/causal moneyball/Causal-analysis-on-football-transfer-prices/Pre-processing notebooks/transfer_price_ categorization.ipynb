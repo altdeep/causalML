{
 "cells": [
  {
   "cell_type": "code",
   "execution_count": 2,
   "metadata": {},
   "outputs": [],
   "source": [
    "import pandas as pd\n",
    "import numpy as np\n",
    "import matplotlib.pyplot as plt\n",
    "import warnings\n",
    "from fuzzywuzzy import fuzz\n",
    "from tqdm import tqdm\n",
    "\n",
    "warnings.filterwarnings(\"ignore\")\n",
    "%matplotlib inline"
   ]
  },
  {
   "cell_type": "code",
   "execution_count": 3,
   "metadata": {},
   "outputs": [
    {
     "data": {
      "text/html": [
       "<div>\n",
       "<style scoped>\n",
       "    .dataframe tbody tr th:only-of-type {\n",
       "        vertical-align: middle;\n",
       "    }\n",
       "\n",
       "    .dataframe tbody tr th {\n",
       "        vertical-align: top;\n",
       "    }\n",
       "\n",
       "    .dataframe thead th {\n",
       "        text-align: right;\n",
       "    }\n",
       "</style>\n",
       "<table border=\"1\" class=\"dataframe\">\n",
       "  <thead>\n",
       "    <tr style=\"text-align: right;\">\n",
       "      <th></th>\n",
       "      <th>Unnamed: 0</th>\n",
       "      <th>Unnamed: 0.1</th>\n",
       "      <th>ID</th>\n",
       "      <th>to_club_name</th>\n",
       "      <th>to_league_name</th>\n",
       "      <th>player_name</th>\n",
       "      <th>age</th>\n",
       "      <th>position</th>\n",
       "      <th>from_club_involved_name</th>\n",
       "      <th>fee_cleaned</th>\n",
       "      <th>year</th>\n",
       "      <th>grouping_positions_1</th>\n",
       "      <th>grouping_positions_2</th>\n",
       "      <th>normalized_from_club_name</th>\n",
       "      <th>from_league</th>\n",
       "      <th>to_club_tier</th>\n",
       "      <th>from_club_tier</th>\n",
       "      <th>age_grouping_1</th>\n",
       "      <th>age_grouping_2</th>\n",
       "    </tr>\n",
       "  </thead>\n",
       "  <tbody>\n",
       "    <tr>\n",
       "      <th>0</th>\n",
       "      <td>0</td>\n",
       "      <td>0</td>\n",
       "      <td>3813</td>\n",
       "      <td>Hertha BSC</td>\n",
       "      <td>1 Bundesliga</td>\n",
       "      <td>Lukas Klünter</td>\n",
       "      <td>22</td>\n",
       "      <td>Right Back</td>\n",
       "      <td>1. FC Köln</td>\n",
       "      <td>1.80</td>\n",
       "      <td>2018</td>\n",
       "      <td>RB</td>\n",
       "      <td>B</td>\n",
       "      <td>1. FC Köln</td>\n",
       "      <td>1 Bundesliga</td>\n",
       "      <td>Tier_3</td>\n",
       "      <td>Tier_3</td>\n",
       "      <td>U25</td>\n",
       "      <td>Under23</td>\n",
       "    </tr>\n",
       "    <tr>\n",
       "      <th>1</th>\n",
       "      <td>1</td>\n",
       "      <td>1</td>\n",
       "      <td>4461</td>\n",
       "      <td>Dinamo Moscow</td>\n",
       "      <td>Premier Liga</td>\n",
       "      <td>Konstantin Rausch</td>\n",
       "      <td>27</td>\n",
       "      <td>Left Back</td>\n",
       "      <td>1. FC Köln</td>\n",
       "      <td>1.35</td>\n",
       "      <td>2017</td>\n",
       "      <td>LB</td>\n",
       "      <td>B</td>\n",
       "      <td>1. FC Köln</td>\n",
       "      <td>1 Bundesliga</td>\n",
       "      <td>Tier_2</td>\n",
       "      <td>Tier_3</td>\n",
       "      <td>U30</td>\n",
       "      <td>Under30</td>\n",
       "    </tr>\n",
       "    <tr>\n",
       "      <th>2</th>\n",
       "      <td>2</td>\n",
       "      <td>2</td>\n",
       "      <td>4597</td>\n",
       "      <td>Fulham FC</td>\n",
       "      <td>Premier League</td>\n",
       "      <td>Sascha Riether</td>\n",
       "      <td>30</td>\n",
       "      <td>Right Back</td>\n",
       "      <td>1. FC Köln</td>\n",
       "      <td>1.26</td>\n",
       "      <td>2013</td>\n",
       "      <td>RB</td>\n",
       "      <td>B</td>\n",
       "      <td>1. FC Köln</td>\n",
       "      <td>1 Bundesliga</td>\n",
       "      <td>Tier_2</td>\n",
       "      <td>Tier_3</td>\n",
       "      <td>U30</td>\n",
       "      <td>Under30</td>\n",
       "    </tr>\n",
       "    <tr>\n",
       "      <th>3</th>\n",
       "      <td>3</td>\n",
       "      <td>3</td>\n",
       "      <td>1819</td>\n",
       "      <td>Tottenham Hotspur</td>\n",
       "      <td>Premier League</td>\n",
       "      <td>Kevin Wimmer</td>\n",
       "      <td>22</td>\n",
       "      <td>Centre Back</td>\n",
       "      <td>1. FC Köln</td>\n",
       "      <td>5.40</td>\n",
       "      <td>2015</td>\n",
       "      <td>CB</td>\n",
       "      <td>D</td>\n",
       "      <td>1. FC Köln</td>\n",
       "      <td>1 Bundesliga</td>\n",
       "      <td>Tier_1</td>\n",
       "      <td>Tier_3</td>\n",
       "      <td>U25</td>\n",
       "      <td>Under23</td>\n",
       "    </tr>\n",
       "    <tr>\n",
       "      <th>4</th>\n",
       "      <td>4</td>\n",
       "      <td>4</td>\n",
       "      <td>3018</td>\n",
       "      <td>TSG 1899 Hoffenheim</td>\n",
       "      <td>1 Bundesliga</td>\n",
       "      <td>Kevin Vogt</td>\n",
       "      <td>24</td>\n",
       "      <td>Centre Back</td>\n",
       "      <td>1. FC Köln</td>\n",
       "      <td>2.70</td>\n",
       "      <td>2016</td>\n",
       "      <td>CB</td>\n",
       "      <td>D</td>\n",
       "      <td>1. FC Köln</td>\n",
       "      <td>1 Bundesliga</td>\n",
       "      <td>Tier_2</td>\n",
       "      <td>Tier_3</td>\n",
       "      <td>U25</td>\n",
       "      <td>Under30</td>\n",
       "    </tr>\n",
       "  </tbody>\n",
       "</table>\n",
       "</div>"
      ],
      "text/plain": [
       "   Unnamed: 0  Unnamed: 0.1    ID         to_club_name  to_league_name  \\\n",
       "0           0             0  3813           Hertha BSC    1 Bundesliga   \n",
       "1           1             1  4461        Dinamo Moscow    Premier Liga   \n",
       "2           2             2  4597            Fulham FC  Premier League   \n",
       "3           3             3  1819    Tottenham Hotspur  Premier League   \n",
       "4           4             4  3018  TSG 1899 Hoffenheim    1 Bundesliga   \n",
       "\n",
       "         player_name  age     position from_club_involved_name  fee_cleaned  \\\n",
       "0      Lukas Klünter   22   Right Back              1. FC Köln         1.80   \n",
       "1  Konstantin Rausch   27    Left Back              1. FC Köln         1.35   \n",
       "2     Sascha Riether   30   Right Back              1. FC Köln         1.26   \n",
       "3       Kevin Wimmer   22  Centre Back              1. FC Köln         5.40   \n",
       "4         Kevin Vogt   24  Centre Back              1. FC Köln         2.70   \n",
       "\n",
       "   year grouping_positions_1 grouping_positions_2 normalized_from_club_name  \\\n",
       "0  2018                   RB                    B                1. FC Köln   \n",
       "1  2017                   LB                    B                1. FC Köln   \n",
       "2  2013                   RB                    B                1. FC Köln   \n",
       "3  2015                   CB                    D                1. FC Köln   \n",
       "4  2016                   CB                    D                1. FC Köln   \n",
       "\n",
       "    from_league to_club_tier from_club_tier age_grouping_1 age_grouping_2  \n",
       "0  1 Bundesliga       Tier_3         Tier_3            U25        Under23  \n",
       "1  1 Bundesliga       Tier_2         Tier_3            U30        Under30  \n",
       "2  1 Bundesliga       Tier_2         Tier_3            U30        Under30  \n",
       "3  1 Bundesliga       Tier_1         Tier_3            U25        Under23  \n",
       "4  1 Bundesliga       Tier_2         Tier_3            U25        Under30  "
      ]
     },
     "execution_count": 3,
     "metadata": {},
     "output_type": "execute_result"
    }
   ],
   "source": [
    "df = pd.read_csv('../transfers1.6.csv')\n",
    "df.head()"
   ]
  },
  {
   "cell_type": "code",
   "execution_count": 6,
   "metadata": {},
   "outputs": [
    {
     "data": {
      "text/plain": [
       "0.900     322\n",
       "1.800     306\n",
       "1.350     295\n",
       "2.700     259\n",
       "0.450     246\n",
       "         ... \n",
       "1.640       1\n",
       "1.950       1\n",
       "21.690      1\n",
       "8.150       1\n",
       "0.513       1\n",
       "Name: fee_cleaned, Length: 590, dtype: int64"
      ]
     },
     "execution_count": 6,
     "metadata": {},
     "output_type": "execute_result"
    }
   ],
   "source": [
    "df.fee_cleaned.value_counts()"
   ]
  },
  {
   "cell_type": "code",
   "execution_count": 8,
   "metadata": {},
   "outputs": [
    {
     "data": {
      "text/plain": [
       "<matplotlib.axes._subplots.AxesSubplot at 0x27c0da48188>"
      ]
     },
     "execution_count": 8,
     "metadata": {},
     "output_type": "execute_result"
    },
    {
     "data": {
      "image/png": "[encoded data removed]",
      "text/plain": [
       "<Figure size 1296x720 with 1 Axes>"
      ]
     },
     "metadata": {
      "needs_background": "light"
     },
     "output_type": "display_data"
    }
   ],
   "source": [
    "fig, ax = plt.subplots(figsize=(18,10))\n",
    "df.year.value_counts().plot(kind = \"barh\", color = 'blue')"
   ]
  },
  {
   "cell_type": "markdown",
   "metadata": {},
   "source": [
    "#####  The above graph shows an increasing number of transfers over the years"
   ]
  },
  {
   "cell_type": "code",
   "execution_count": 9,
   "metadata": {},
   "outputs": [
    {
     "data": {
      "text/html": [
       "<div>\n",
       "<style scoped>\n",
       "    .dataframe tbody tr th:only-of-type {\n",
       "        vertical-align: middle;\n",
       "    }\n",
       "\n",
       "    .dataframe tbody tr th {\n",
       "        vertical-align: top;\n",
       "    }\n",
       "\n",
       "    .dataframe thead th {\n",
       "        text-align: right;\n",
       "    }\n",
       "</style>\n",
       "<table border=\"1\" class=\"dataframe\">\n",
       "  <thead>\n",
       "    <tr style=\"text-align: right;\">\n",
       "      <th></th>\n",
       "      <th>year</th>\n",
       "      <th>fee_cleaned</th>\n",
       "    </tr>\n",
       "  </thead>\n",
       "  <tbody>\n",
       "    <tr>\n",
       "      <th>0</th>\n",
       "      <td>2019</td>\n",
       "      <td>5244.731</td>\n",
       "    </tr>\n",
       "    <tr>\n",
       "      <th>1</th>\n",
       "      <td>2017</td>\n",
       "      <td>5167.189</td>\n",
       "    </tr>\n",
       "    <tr>\n",
       "      <th>2</th>\n",
       "      <td>2018</td>\n",
       "      <td>4802.096</td>\n",
       "    </tr>\n",
       "    <tr>\n",
       "      <th>3</th>\n",
       "      <td>2016</td>\n",
       "      <td>3877.526</td>\n",
       "    </tr>\n",
       "    <tr>\n",
       "      <th>4</th>\n",
       "      <td>2015</td>\n",
       "      <td>3349.361</td>\n",
       "    </tr>\n",
       "    <tr>\n",
       "      <th>5</th>\n",
       "      <td>2013</td>\n",
       "      <td>2754.470</td>\n",
       "    </tr>\n",
       "    <tr>\n",
       "      <th>6</th>\n",
       "      <td>2014</td>\n",
       "      <td>2637.639</td>\n",
       "    </tr>\n",
       "    <tr>\n",
       "      <th>7</th>\n",
       "      <td>2012</td>\n",
       "      <td>2176.093</td>\n",
       "    </tr>\n",
       "    <tr>\n",
       "      <th>8</th>\n",
       "      <td>2011</td>\n",
       "      <td>2156.065</td>\n",
       "    </tr>\n",
       "    <tr>\n",
       "      <th>9</th>\n",
       "      <td>2009</td>\n",
       "      <td>2129.270</td>\n",
       "    </tr>\n",
       "    <tr>\n",
       "      <th>10</th>\n",
       "      <td>2010</td>\n",
       "      <td>1920.562</td>\n",
       "    </tr>\n",
       "  </tbody>\n",
       "</table>\n",
       "</div>"
      ],
      "text/plain": [
       "    year  fee_cleaned\n",
       "0   2019     5244.731\n",
       "1   2017     5167.189\n",
       "2   2018     4802.096\n",
       "3   2016     3877.526\n",
       "4   2015     3349.361\n",
       "5   2013     2754.470\n",
       "6   2014     2637.639\n",
       "7   2012     2176.093\n",
       "8   2011     2156.065\n",
       "9   2009     2129.270\n",
       "10  2010     1920.562"
      ]
     },
     "execution_count": 9,
     "metadata": {},
     "output_type": "execute_result"
    }
   ],
   "source": [
    "millions_per_year = df.groupby('year')['fee_cleaned'].sum()\n",
    "millions_per_year = pd.DataFrame(millions_per_year)\n",
    "millions_per_year = millions_per_year.sort_values(by=['fee_cleaned'], ascending=False)\n",
    "millions_per_year = millions_per_year.reset_index()\n",
    "millions_per_year.head(20)"
   ]
  },
  {
   "cell_type": "markdown",
   "metadata": {},
   "source": [
    "##### Transfer Price grouping\n",
    "\n",
    "Grouping 1\n",
    " \n",
    " - Above80M : transfers above 80M\n",
    " - 80Mto40M : transfers between 40M to 80M\n",
    " - 40Mto10M : transfers between 10M to 40M\n",
    " - 10Mto1M : transfers between 1M and 10M\n",
    " - Below1M : transfers below 1M\n",
    " \n",
    "Grouping 2\n",
    "\n",
    " - Above60M: transfers worth 60M+ \n",
    " - 60Mto20M : transfers between 20M to 60M\n",
    " - 20Mto5M : transfers between 5M to 20M\n",
    " - Below5M : transfers below 5M\n",
    " "
   ]
  },
  {
   "cell_type": "code",
   "execution_count": 13,
   "metadata": {},
   "outputs": [
    {
     "data": {
      "text/plain": [
       "10Mto1M     3872\n",
       "Below1M     1907\n",
       "40Mto10M     884\n",
       "80Mto40M      59\n",
       "Above80M      12\n",
       "Name: transfer_price_group1, dtype: int64"
      ]
     },
     "execution_count": 13,
     "metadata": {},
     "output_type": "execute_result"
    }
   ],
   "source": [
    "df['transfer_price_group1'] = 0\n",
    "for i in range(len(df)):\n",
    "    if(df.fee_cleaned[i] >= 80):\n",
    "        df['transfer_price_group1'][i] = 'Above80M'\n",
    "    \n",
    "    elif((80 > df.fee_cleaned[i]) and (40 <= df.fee_cleaned[i])):\n",
    "        df['transfer_price_group1'][i] = '80Mto40M'\n",
    "        \n",
    "    elif((40 > df.fee_cleaned[i]) and (10 <= df.fee_cleaned[i])):\n",
    "        df['transfer_price_group1'][i] = '40Mto10M'\n",
    "    \n",
    "    elif((10 > df.fee_cleaned[i]) and (1 <= df.fee_cleaned[i])):\n",
    "        df['transfer_price_group1'][i] = '10Mto1M'\n",
    "      \n",
    "    else:\n",
    "        df['transfer_price_group1'][i] = 'Below1M'\n",
    "\n",
    "df['transfer_price_group1'].value_counts()"
   ]
  },
  {
   "cell_type": "code",
   "execution_count": 15,
   "metadata": {},
   "outputs": [
    {
     "data": {
      "text/plain": [
       "Below5M     4793\n",
       "20Mto5M     1599\n",
       "60Mto20M     312\n",
       "Above60M      30\n",
       "Name: transfer_price_group2, dtype: int64"
      ]
     },
     "execution_count": 15,
     "metadata": {},
     "output_type": "execute_result"
    }
   ],
   "source": [
    "df['transfer_price_group2'] = 0\n",
    "for i in range(len(df)):\n",
    "    if(df.fee_cleaned[i] >= 60):\n",
    "        df['transfer_price_group2'][i] = 'Above60M'\n",
    "    \n",
    "    elif((60 > df.fee_cleaned[i]) and (20 <= df.fee_cleaned[i])):\n",
    "        df['transfer_price_group2'][i] = '60Mto20M'\n",
    "        \n",
    "    elif((20 > df.fee_cleaned[i]) and (5 <= df.fee_cleaned[i])):\n",
    "        df['transfer_price_group2'][i] = '20Mto5M'\n",
    "      \n",
    "    else:\n",
    "        df['transfer_price_group2'][i] = 'Below5M'\n",
    "\n",
    "df['transfer_price_group2'].value_counts()"
   ]
  },
  {
   "cell_type": "code",
   "execution_count": null,
   "metadata": {},
   "outputs": [],
   "source": [
    "df = df.rename(columns = {'fee_cleaned':'transfer_price'})"
   ]
  }
 ],
 "metadata": {
  "kernelspec": {
   "display_name": "Python 3",
   "language": "python",
   "name": "python3"
  },
  "language_info": {
   "codemirror_mode": {
    "name": "ipython",
    "version": 3
   },
   "file_extension": ".py",
   "mimetype": "text/x-python",
   "name": "python",
   "nbconvert_exporter": "python",
   "pygments_lexer": "ipython3",
   "version": "3.7.6"
  }
 },
 "nbformat": 4,
 "nbformat_minor": 4
}
