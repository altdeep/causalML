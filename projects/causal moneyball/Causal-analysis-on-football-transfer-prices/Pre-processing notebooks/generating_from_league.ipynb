{
 "cells": [
  {
   "cell_type": "code",
   "execution_count": 50,
   "metadata": {},
   "outputs": [],
   "source": [
    "import pandas as pd\n",
    "import numpy as np\n",
    "import matplotlib.pyplot as plt\n",
    "import warnings\n",
    "from fuzzywuzzy import fuzz\n",
    "from tqdm import tqdm\n",
    "\n",
    "warnings.filterwarnings(\"ignore\")\n",
    "%matplotlib inline"
   ]
  },
  {
   "cell_type": "code",
   "execution_count": 51,
   "metadata": {},
   "outputs": [
    {
     "data": {
      "text/html": [
       "<div>\n",
       "<style scoped>\n",
       "    .dataframe tbody tr th:only-of-type {\n",
       "        vertical-align: middle;\n",
       "    }\n",
       "\n",
       "    .dataframe tbody tr th {\n",
       "        vertical-align: top;\n",
       "    }\n",
       "\n",
       "    .dataframe thead th {\n",
       "        text-align: right;\n",
       "    }\n",
       "</style>\n",
       "<table border=\"1\" class=\"dataframe\">\n",
       "  <thead>\n",
       "    <tr style=\"text-align: right;\">\n",
       "      <th></th>\n",
       "      <th>ID</th>\n",
       "      <th>to_club_name</th>\n",
       "      <th>to_league_name</th>\n",
       "      <th>player_name</th>\n",
       "      <th>age</th>\n",
       "      <th>position</th>\n",
       "      <th>from_club_involved_name</th>\n",
       "      <th>fee</th>\n",
       "      <th>transfer_movement</th>\n",
       "      <th>fee_cleaned</th>\n",
       "      <th>year</th>\n",
       "      <th>season</th>\n",
       "      <th>grouping_positions_1</th>\n",
       "      <th>grouping_positions_2</th>\n",
       "    </tr>\n",
       "  </thead>\n",
       "  <tbody>\n",
       "    <tr>\n",
       "      <th>0</th>\n",
       "      <td>1</td>\n",
       "      <td>Paris Saint-Germain</td>\n",
       "      <td>Ligue 1</td>\n",
       "      <td>Neymar</td>\n",
       "      <td>25</td>\n",
       "      <td>Left Winger</td>\n",
       "      <td>FC Barcelona</td>\n",
       "      <td>£199.80m</td>\n",
       "      <td>in</td>\n",
       "      <td>199.8</td>\n",
       "      <td>2017</td>\n",
       "      <td>2017/2018</td>\n",
       "      <td>LW</td>\n",
       "      <td>W</td>\n",
       "    </tr>\n",
       "    <tr>\n",
       "      <th>1</th>\n",
       "      <td>2</td>\n",
       "      <td>FC Barcelona</td>\n",
       "      <td>Primera Division</td>\n",
       "      <td>Philippe Coutinho</td>\n",
       "      <td>25</td>\n",
       "      <td>Left Winger</td>\n",
       "      <td>Liverpool</td>\n",
       "      <td>£130.50m</td>\n",
       "      <td>in</td>\n",
       "      <td>130.5</td>\n",
       "      <td>2017</td>\n",
       "      <td>2017/2018</td>\n",
       "      <td>LW</td>\n",
       "      <td>W</td>\n",
       "    </tr>\n",
       "    <tr>\n",
       "      <th>2</th>\n",
       "      <td>3</td>\n",
       "      <td>Paris Saint-Germain</td>\n",
       "      <td>Ligue 1</td>\n",
       "      <td>Kylian Mbappé</td>\n",
       "      <td>19</td>\n",
       "      <td>Centre Forward</td>\n",
       "      <td>Monaco</td>\n",
       "      <td>£121.50m</td>\n",
       "      <td>in</td>\n",
       "      <td>121.5</td>\n",
       "      <td>2018</td>\n",
       "      <td>2018/2019</td>\n",
       "      <td>CF</td>\n",
       "      <td>F</td>\n",
       "    </tr>\n",
       "    <tr>\n",
       "      <th>3</th>\n",
       "      <td>4</td>\n",
       "      <td>Atlético Madrid</td>\n",
       "      <td>Primera Division</td>\n",
       "      <td>João Félix</td>\n",
       "      <td>19</td>\n",
       "      <td>Second Striker</td>\n",
       "      <td>Benfica</td>\n",
       "      <td>£113.40m</td>\n",
       "      <td>in</td>\n",
       "      <td>113.4</td>\n",
       "      <td>2019</td>\n",
       "      <td>2019/2020</td>\n",
       "      <td>CF</td>\n",
       "      <td>F</td>\n",
       "    </tr>\n",
       "    <tr>\n",
       "      <th>4</th>\n",
       "      <td>5</td>\n",
       "      <td>FC Barcelona</td>\n",
       "      <td>Primera Division</td>\n",
       "      <td>Ousmane Dembélé</td>\n",
       "      <td>20</td>\n",
       "      <td>Left Winger</td>\n",
       "      <td>Bor. Dortmund</td>\n",
       "      <td>£112.50m</td>\n",
       "      <td>in</td>\n",
       "      <td>112.5</td>\n",
       "      <td>2017</td>\n",
       "      <td>2017/2018</td>\n",
       "      <td>LW</td>\n",
       "      <td>W</td>\n",
       "    </tr>\n",
       "  </tbody>\n",
       "</table>\n",
       "</div>"
      ],
      "text/plain": [
       "   ID         to_club_name    to_league_name        player_name  age  \\\n",
       "0   1  Paris Saint-Germain           Ligue 1             Neymar   25   \n",
       "1   2         FC Barcelona  Primera Division  Philippe Coutinho   25   \n",
       "2   3  Paris Saint-Germain           Ligue 1      Kylian Mbappé   19   \n",
       "3   4      Atlético Madrid  Primera Division         João Félix   19   \n",
       "4   5         FC Barcelona  Primera Division    Ousmane Dembélé   20   \n",
       "\n",
       "         position from_club_involved_name       fee transfer_movement  \\\n",
       "0     Left Winger            FC Barcelona  £199.80m                in   \n",
       "1     Left Winger               Liverpool  £130.50m                in   \n",
       "2  Centre Forward                  Monaco  £121.50m                in   \n",
       "3  Second Striker                 Benfica  £113.40m                in   \n",
       "4     Left Winger           Bor. Dortmund  £112.50m                in   \n",
       "\n",
       "   fee_cleaned  year     season grouping_positions_1 grouping_positions_2  \n",
       "0        199.8  2017  2017/2018                   LW                    W  \n",
       "1        130.5  2017  2017/2018                   LW                    W  \n",
       "2        121.5  2018  2018/2019                   CF                    F  \n",
       "3        113.4  2019  2019/2020                   CF                    F  \n",
       "4        112.5  2017  2017/2018                   LW                    W  "
      ]
     },
     "execution_count": 51,
     "metadata": {},
     "output_type": "execute_result"
    }
   ],
   "source": [
    "df = pd.read_csv('../transfers1.2.csv')\n",
    "df.head()"
   ]
  },
  {
   "cell_type": "code",
   "execution_count": 52,
   "metadata": {},
   "outputs": [
    {
     "data": {
      "text/plain": [
       "Serie A             1618\n",
       "Premier League      1202\n",
       "1 Bundesliga         982\n",
       "Ligue 1              837\n",
       "Primera Division     809\n",
       "Premier Liga         538\n",
       "Liga Nos             378\n",
       "Eredivisie           370\n",
       "Name: to_league_name, dtype: int64"
      ]
     },
     "execution_count": 52,
     "metadata": {},
     "output_type": "execute_result"
    }
   ],
   "source": [
    "df.to_league_name.value_counts()"
   ]
  },
  {
   "cell_type": "code",
   "execution_count": 53,
   "metadata": {},
   "outputs": [],
   "source": [
    "# writing a loop to classify the clubs\n",
    "\n",
    "PL = []\n",
    "la_liga = []\n",
    "serie_a = []\n",
    "bundesliga = []\n",
    "ligue_1 = []\n",
    "premier_liga = []\n",
    "liga_nos = []\n",
    "eredivisie = []\n",
    "\n",
    "for i in range(df.shape[0]):\n",
    "    if(df.to_league_name[i] == 'Premier League'):\n",
    "        PL.append(df.to_club_name[i])\n",
    "    elif(df.to_league_name[i] == 'Serie A'):\n",
    "        serie_a.append(df.to_club_name[i])\n",
    "    elif(df.to_league_name[i] == 'Primera Division'):\n",
    "        la_liga.append(df.to_club_name[i])\n",
    "    elif(df.to_league_name[i] == '1 Bundesliga'):\n",
    "        bundesliga.append(df.to_club_name[i])\n",
    "    elif(df.to_league_name[i] == 'Ligue 1'):\n",
    "        ligue_1.append(df.to_club_name[i])  \n",
    "    elif(df.to_league_name[i] == 'Premier Liga'):\n",
    "        premier_liga.append(df.to_club_name[i])\n",
    "    elif(df.to_league_name[i] == 'Liga Nos'):\n",
    "        liga_nos.append(df.to_club_name[i])    \n",
    "    else:\n",
    "        eredivisie.append(df.to_club_name[i])\n",
    "        \n",
    "#making all lists unique\n",
    "\n",
    "PL = set(PL)\n",
    "PL = list(PL)\n",
    "\n",
    "la_liga = set(la_liga)\n",
    "la_liga = list(la_liga)\n",
    "\n",
    "serie_a = set(serie_a)\n",
    "serie_a = list(serie_a)\n",
    "\n",
    "bundesliga = set(bundesliga)\n",
    "bundesliga = list(bundesliga)\n",
    "\n",
    "ligue_1 = set(ligue_1)\n",
    "ligue_1 = list(ligue_1)\n",
    "\n",
    "premier_liga = set(premier_liga)\n",
    "premier_liga = list(premier_liga)\n",
    "\n",
    "liga_nos = set(liga_nos)\n",
    "liga_nos = list(liga_nos)\n",
    "\n",
    "eredivisie = set(eredivisie)\n",
    "eredivisie = list(eredivisie)\n",
    "\n",
    "df['normalized_from_club_name'] = 0"
   ]
  },
  {
   "cell_type": "markdown",
   "metadata": {},
   "source": [
    "I tried to run all the following loops in one single loop, but it was too heavy computationally, hence I broke it down for each league. "
   ]
  },
  {
   "cell_type": "code",
   "execution_count": 54,
   "metadata": {},
   "outputs": [
    {
     "name": "stderr",
     "output_type": "stream",
     "text": [
      "100%|█████████████████████████████████████████████████████████████████████████████| 6734/6734 [00:08<00:00, 828.54it/s]\n"
     ]
    }
   ],
   "source": [
    "# Premier League\n",
    "\n",
    "from_league = []\n",
    "for i in tqdm(range(df.shape[0])):\n",
    "\n",
    "    ratio_pl = []\n",
    "    for j in range(len(PL)):\n",
    "        ratio_pl.append(fuzz.partial_ratio(df.from_club_involved_name[i].lower(), PL[j].lower()))\n",
    "        ratio = max(ratio_pl)\n",
    "        \n",
    "    if(ratio>80):\n",
    "        val = ratio_pl.index(ratio)\n",
    "        df['normalized_from_club_name'][i] = PL[val]\n",
    "        from_league.append('Premier League')\n",
    "    else:\n",
    "        from_league.append('Other')\n",
    "\n",
    "df['from_league'] = from_league   "
   ]
  },
  {
   "cell_type": "code",
   "execution_count": 55,
   "metadata": {},
   "outputs": [
    {
     "name": "stderr",
     "output_type": "stream",
     "text": [
      "100%|█████████████████████████████████████████████████████████████████████████████| 6734/6734 [00:07<00:00, 907.14it/s]\n"
     ]
    }
   ],
   "source": [
    "# Serie A\n",
    "\n",
    "for i in tqdm(range(df.shape[0])):\n",
    "    \n",
    "    if(df['from_league'][i] ==  'Other'):\n",
    "        \n",
    "        ratio_sa = []\n",
    "        for k in range(len(serie_a)):\n",
    "            ratio_sa.append(fuzz.partial_ratio(df.from_club_involved_name[i].lower(), serie_a[k].lower()))\n",
    "           # print(ratio_sa)\n",
    "            ratio = max(ratio_sa)\n",
    "            \n",
    "        if(ratio>80):\n",
    "            val = ratio_sa.index(ratio)\n",
    "            df['normalized_from_club_name'][i] = serie_a[val]\n",
    "            df['from_league'][i] = 'Serie A'\n",
    "        else:\n",
    "            from_league.append('Other')\n",
    "    else:\n",
    "        None"
   ]
  },
  {
   "cell_type": "code",
   "execution_count": 56,
   "metadata": {},
   "outputs": [
    {
     "name": "stderr",
     "output_type": "stream",
     "text": [
      "100%|████████████████████████████████████████████████████████████████████████████| 6734/6734 [00:04<00:00, 1396.41it/s]\n"
     ]
    }
   ],
   "source": [
    "# Bundesliga\n",
    "\n",
    "for i in tqdm(range(df.shape[0])):\n",
    "    \n",
    "    if(df['from_league'][i] ==  'Other'):\n",
    "        \n",
    "        ratio_bl = []\n",
    "        for m in range(len(bundesliga)):\n",
    "            ratio_bl.append(fuzz.partial_ratio(df.from_club_involved_name[i].lower(), bundesliga[m].lower()))\n",
    "            ratio = max(ratio_bl)\n",
    "            \n",
    "        if(ratio>80):\n",
    "            val = ratio_bl.index(ratio)\n",
    "            df['normalized_from_club_name'][i] = bundesliga[val]\n",
    "            df['from_league'][i]= '1 Bundesliga'\n",
    "        else:\n",
    "            from_league.append('Other')\n",
    "    else:\n",
    "        None\n"
   ]
  },
  {
   "cell_type": "code",
   "execution_count": 57,
   "metadata": {},
   "outputs": [
    {
     "name": "stderr",
     "output_type": "stream",
     "text": [
      "100%|████████████████████████████████████████████████████████████████████████████| 6734/6734 [00:05<00:00, 1198.20it/s]\n"
     ]
    }
   ],
   "source": [
    "# Ligue 1\n",
    "\n",
    "for i in tqdm(range(df.shape[0])):\n",
    "    \n",
    "    if(df['from_league'][i] ==  'Other'):\n",
    "        \n",
    "        ratio_l = []\n",
    "        for m in range(len(ligue_1)):\n",
    "            ratio_l.append(fuzz.partial_ratio(df.from_club_involved_name[i].lower(), ligue_1[m].lower()))\n",
    "            ratio = max(ratio_l)\n",
    "            \n",
    "        if(ratio>80):\n",
    "            val = ratio_l.index(ratio)\n",
    "            df['normalized_from_club_name'][i] = ligue_1[val]\n",
    "            df['from_league'][i]= 'Ligue 1'\n",
    "        else:\n",
    "            from_league.append('Other')\n",
    "    else:\n",
    "        None\n"
   ]
  },
  {
   "cell_type": "code",
   "execution_count": 58,
   "metadata": {},
   "outputs": [
    {
     "name": "stderr",
     "output_type": "stream",
     "text": [
      "100%|████████████████████████████████████████████████████████████████████████████| 6734/6734 [00:03<00:00, 1949.05it/s]\n"
     ]
    }
   ],
   "source": [
    "# Premier Liga\n",
    "\n",
    "for i in tqdm(range(df.shape[0])):\n",
    "    \n",
    "    if(df['from_league'][i] ==  'Other'):\n",
    "        \n",
    "        ratio_l = []\n",
    "        for m in range(len(premier_liga)):\n",
    "            ratio_l.append(fuzz.partial_ratio(df.from_club_involved_name[i].lower(), premier_liga[m].lower()))\n",
    "            ratio = max(ratio_l)\n",
    "            \n",
    "        if(ratio>80):\n",
    "            val = ratio_l.index(ratio)\n",
    "            df['normalized_from_club_name'][i] = premier_liga[val]\n",
    "            df['from_league'][i]= 'Premier Liga'\n",
    "        else:\n",
    "            from_league.append('Other')\n",
    "    else:\n",
    "        None\n"
   ]
  },
  {
   "cell_type": "code",
   "execution_count": 59,
   "metadata": {},
   "outputs": [
    {
     "name": "stderr",
     "output_type": "stream",
     "text": [
      "100%|████████████████████████████████████████████████████████████████████████████| 6734/6734 [00:03<00:00, 2129.16it/s]\n"
     ]
    }
   ],
   "source": [
    "# Liga Nos\n",
    "\n",
    "for i in tqdm(range(df.shape[0])):\n",
    "    \n",
    "    if(df['from_league'][i] ==  'Other'):\n",
    "        \n",
    "        ratio_l = []\n",
    "        for m in range(len(liga_nos)):\n",
    "            ratio_l.append(fuzz.partial_ratio(df.from_club_involved_name[i].lower(), liga_nos[m].lower()))\n",
    "            ratio = max(ratio_l)\n",
    "            \n",
    "        if(ratio>80):\n",
    "            val = ratio_l.index(ratio)\n",
    "            df['normalized_from_club_name'][i] = liga_nos[val]\n",
    "            df['from_league'][i]= 'Liga Nos'\n",
    "        else:\n",
    "            from_league.append('Other')\n",
    "    else:\n",
    "        None\n"
   ]
  },
  {
   "cell_type": "code",
   "execution_count": 60,
   "metadata": {},
   "outputs": [
    {
     "name": "stderr",
     "output_type": "stream",
     "text": [
      "100%|████████████████████████████████████████████████████████████████████████████| 6734/6734 [00:02<00:00, 2350.16it/s]\n"
     ]
    }
   ],
   "source": [
    "# Eredivisie\n",
    "\n",
    "for i in tqdm(range(df.shape[0])):\n",
    "    \n",
    "    if(df['from_league'][i] ==  'Other'):\n",
    "        \n",
    "        ratio_l = []\n",
    "        for m in range(len(eredivisie)):\n",
    "            ratio_l.append(fuzz.partial_ratio(df.from_club_involved_name[i].lower(), eredivisie[m].lower()))\n",
    "            ratio = max(ratio_l)\n",
    "            \n",
    "        if(ratio>80):\n",
    "            val = ratio_l.index(ratio)\n",
    "            df['normalized_from_club_name'][i] = eredivisie[val]\n",
    "            df['from_league'][i]= 'Eredivisie'\n",
    "        else:\n",
    "            from_league.append('Other')\n",
    "    else:\n",
    "        None\n"
   ]
  },
  {
   "cell_type": "code",
   "execution_count": 61,
   "metadata": {},
   "outputs": [
    {
     "name": "stderr",
     "output_type": "stream",
     "text": [
      "100%|████████████████████████████████████████████████████████████████████████████| 6734/6734 [00:03<00:00, 1796.17it/s]\n"
     ]
    }
   ],
   "source": [
    "# Primera Division\n",
    "\n",
    "for i in tqdm(range(df.shape[0])):\n",
    "    \n",
    "    if(df['from_league'][i] ==  'Other'):\n",
    "        \n",
    "        ratio_l = []\n",
    "        for m in range(len(la_liga)):\n",
    "            ratio_l.append(fuzz.partial_ratio(df.from_club_involved_name[i].lower(), la_liga[m].lower()))\n",
    "            ratio = max(ratio_l)\n",
    "            \n",
    "        if(ratio>80):\n",
    "            val = ratio_l.index(ratio)\n",
    "            df['normalized_from_club_name'][i] = la_liga[val]\n",
    "            df['from_league'][i]= 'Primera Division'\n",
    "        else:\n",
    "            from_league.append('Other')\n",
    "    else:\n",
    "        None\n"
   ]
  },
  {
   "cell_type": "code",
   "execution_count": 62,
   "metadata": {},
   "outputs": [
    {
     "data": {
      "text/plain": [
       "Other               2712\n",
       "Serie A             1033\n",
       "Ligue 1              667\n",
       "Premier League       607\n",
       "Primera Division     538\n",
       "1 Bundesliga         406\n",
       "Eredivisie           323\n",
       "Liga Nos             275\n",
       "Premier Liga         173\n",
       "Name: from_league, dtype: int64"
      ]
     },
     "execution_count": 62,
     "metadata": {},
     "output_type": "execute_result"
    }
   ],
   "source": [
    "df['from_league'].value_counts()"
   ]
  },
  {
   "cell_type": "code",
   "execution_count": 63,
   "metadata": {},
   "outputs": [
    {
     "data": {
      "text/html": [
       "<div>\n",
       "<style scoped>\n",
       "    .dataframe tbody tr th:only-of-type {\n",
       "        vertical-align: middle;\n",
       "    }\n",
       "\n",
       "    .dataframe tbody tr th {\n",
       "        vertical-align: top;\n",
       "    }\n",
       "\n",
       "    .dataframe thead th {\n",
       "        text-align: right;\n",
       "    }\n",
       "</style>\n",
       "<table border=\"1\" class=\"dataframe\">\n",
       "  <thead>\n",
       "    <tr style=\"text-align: right;\">\n",
       "      <th></th>\n",
       "      <th>ID</th>\n",
       "      <th>to_club_name</th>\n",
       "      <th>to_league_name</th>\n",
       "      <th>player_name</th>\n",
       "      <th>age</th>\n",
       "      <th>position</th>\n",
       "      <th>from_club_involved_name</th>\n",
       "      <th>fee</th>\n",
       "      <th>transfer_movement</th>\n",
       "      <th>fee_cleaned</th>\n",
       "      <th>year</th>\n",
       "      <th>season</th>\n",
       "      <th>grouping_positions_1</th>\n",
       "      <th>grouping_positions_2</th>\n",
       "      <th>normalized_from_club_name</th>\n",
       "      <th>from_league</th>\n",
       "    </tr>\n",
       "  </thead>\n",
       "  <tbody>\n",
       "    <tr>\n",
       "      <th>0</th>\n",
       "      <td>1</td>\n",
       "      <td>Paris Saint-Germain</td>\n",
       "      <td>Ligue 1</td>\n",
       "      <td>Neymar</td>\n",
       "      <td>25</td>\n",
       "      <td>Left Winger</td>\n",
       "      <td>FC Barcelona</td>\n",
       "      <td>£199.80m</td>\n",
       "      <td>in</td>\n",
       "      <td>199.8</td>\n",
       "      <td>2017</td>\n",
       "      <td>2017/2018</td>\n",
       "      <td>LW</td>\n",
       "      <td>W</td>\n",
       "      <td>FC Barcelona</td>\n",
       "      <td>Primera Division</td>\n",
       "    </tr>\n",
       "    <tr>\n",
       "      <th>1</th>\n",
       "      <td>2</td>\n",
       "      <td>FC Barcelona</td>\n",
       "      <td>Primera Division</td>\n",
       "      <td>Philippe Coutinho</td>\n",
       "      <td>25</td>\n",
       "      <td>Left Winger</td>\n",
       "      <td>Liverpool</td>\n",
       "      <td>£130.50m</td>\n",
       "      <td>in</td>\n",
       "      <td>130.5</td>\n",
       "      <td>2017</td>\n",
       "      <td>2017/2018</td>\n",
       "      <td>LW</td>\n",
       "      <td>W</td>\n",
       "      <td>Liverpool FC</td>\n",
       "      <td>Premier League</td>\n",
       "    </tr>\n",
       "    <tr>\n",
       "      <th>2</th>\n",
       "      <td>3</td>\n",
       "      <td>Paris Saint-Germain</td>\n",
       "      <td>Ligue 1</td>\n",
       "      <td>Kylian Mbappé</td>\n",
       "      <td>19</td>\n",
       "      <td>Centre Forward</td>\n",
       "      <td>Monaco</td>\n",
       "      <td>£121.50m</td>\n",
       "      <td>in</td>\n",
       "      <td>121.5</td>\n",
       "      <td>2018</td>\n",
       "      <td>2018/2019</td>\n",
       "      <td>CF</td>\n",
       "      <td>F</td>\n",
       "      <td>AS Monaco</td>\n",
       "      <td>Ligue 1</td>\n",
       "    </tr>\n",
       "    <tr>\n",
       "      <th>3</th>\n",
       "      <td>4</td>\n",
       "      <td>Atlético Madrid</td>\n",
       "      <td>Primera Division</td>\n",
       "      <td>João Félix</td>\n",
       "      <td>19</td>\n",
       "      <td>Second Striker</td>\n",
       "      <td>Benfica</td>\n",
       "      <td>£113.40m</td>\n",
       "      <td>in</td>\n",
       "      <td>113.4</td>\n",
       "      <td>2019</td>\n",
       "      <td>2019/2020</td>\n",
       "      <td>CF</td>\n",
       "      <td>F</td>\n",
       "      <td>SL Benfica</td>\n",
       "      <td>Liga Nos</td>\n",
       "    </tr>\n",
       "    <tr>\n",
       "      <th>4</th>\n",
       "      <td>5</td>\n",
       "      <td>FC Barcelona</td>\n",
       "      <td>Primera Division</td>\n",
       "      <td>Ousmane Dembélé</td>\n",
       "      <td>20</td>\n",
       "      <td>Left Winger</td>\n",
       "      <td>Bor. Dortmund</td>\n",
       "      <td>£112.50m</td>\n",
       "      <td>in</td>\n",
       "      <td>112.5</td>\n",
       "      <td>2017</td>\n",
       "      <td>2017/2018</td>\n",
       "      <td>LW</td>\n",
       "      <td>W</td>\n",
       "      <td>0</td>\n",
       "      <td>Other</td>\n",
       "    </tr>\n",
       "  </tbody>\n",
       "</table>\n",
       "</div>"
      ],
      "text/plain": [
       "   ID         to_club_name    to_league_name        player_name  age  \\\n",
       "0   1  Paris Saint-Germain           Ligue 1             Neymar   25   \n",
       "1   2         FC Barcelona  Primera Division  Philippe Coutinho   25   \n",
       "2   3  Paris Saint-Germain           Ligue 1      Kylian Mbappé   19   \n",
       "3   4      Atlético Madrid  Primera Division         João Félix   19   \n",
       "4   5         FC Barcelona  Primera Division    Ousmane Dembélé   20   \n",
       "\n",
       "         position from_club_involved_name       fee transfer_movement  \\\n",
       "0     Left Winger            FC Barcelona  £199.80m                in   \n",
       "1     Left Winger               Liverpool  £130.50m                in   \n",
       "2  Centre Forward                  Monaco  £121.50m                in   \n",
       "3  Second Striker                 Benfica  £113.40m                in   \n",
       "4     Left Winger           Bor. Dortmund  £112.50m                in   \n",
       "\n",
       "   fee_cleaned  year     season grouping_positions_1 grouping_positions_2  \\\n",
       "0        199.8  2017  2017/2018                   LW                    W   \n",
       "1        130.5  2017  2017/2018                   LW                    W   \n",
       "2        121.5  2018  2018/2019                   CF                    F   \n",
       "3        113.4  2019  2019/2020                   CF                    F   \n",
       "4        112.5  2017  2017/2018                   LW                    W   \n",
       "\n",
       "  normalized_from_club_name       from_league  \n",
       "0              FC Barcelona  Primera Division  \n",
       "1              Liverpool FC    Premier League  \n",
       "2                 AS Monaco           Ligue 1  \n",
       "3                SL Benfica          Liga Nos  \n",
       "4                         0             Other  "
      ]
     },
     "execution_count": 63,
     "metadata": {},
     "output_type": "execute_result"
    }
   ],
   "source": [
    "df.head()"
   ]
  },
  {
   "cell_type": "code",
   "execution_count": 64,
   "metadata": {},
   "outputs": [],
   "source": [
    "df.to_csv('../transfers1.3.csv')"
   ]
  },
  {
   "cell_type": "code",
   "execution_count": null,
   "metadata": {},
   "outputs": [],
   "source": []
  }
 ],
 "metadata": {
  "kernelspec": {
   "display_name": "Python 3",
   "language": "python",
   "name": "python3"
  },
  "language_info": {
   "codemirror_mode": {
    "name": "ipython",
    "version": 3
   },
   "file_extension": ".py",
   "mimetype": "text/x-python",
   "name": "python",
   "nbconvert_exporter": "python",
   "pygments_lexer": "ipython3",
   "version": "3.7.6"
  }
 },
 "nbformat": 4,
 "nbformat_minor": 4
}
