{
  "nbformat": 4,
  "nbformat_minor": 0,
  "metadata": {
    "accelerator": "GPU",
    "colab": {
      "name": "Python_bnlearn.ipynb",
      "provenance": [],
      "collapsed_sections": [],
      "toc_visible": true,
      "machine_shape": "hm"
    },
    "kernelspec": {
      "display_name": "Python 3",
      "language": "python",
      "name": "python3"
    },
    "language_info": {
      "codemirror_mode": {
        "name": "ipython",
        "version": 3
      },
      "file_extension": ".py",
      "mimetype": "text/x-python",
      "name": "python",
      "nbconvert_exporter": "python",
      "pygments_lexer": "ipython3",
      "version": "3.8.2"
    }
  },
  "cells": [
    {
      "cell_type": "code",
      "metadata": {
        "id": "UzSCpsMnz9OS",
        "colab_type": "code",
        "colab": {}
      },
      "source": [
        "import sys\n",
        "print(sys.path)"
      ],
      "execution_count": 0,
      "outputs": []
    },
    {
      "cell_type": "markdown",
      "metadata": {
        "id": "G6KP2ZZcjrth",
        "colab_type": "text"
      },
      "source": [
        "You can read more about bnlearn package in python at - https://github.com/erdogant/bnlearn/blob/master/bnlearn/bnlearn.py "
      ]
    },
    {
      "cell_type": "markdown",
      "metadata": {
        "id": "DXMRoVBmh9if",
        "colab_type": "text"
      },
      "source": [
        "# Import Libraries"
      ]
    },
    {
      "cell_type": "code",
      "metadata": {
        "colab_type": "code",
        "id": "DQEr5fTx49Lq",
        "outputId": "c38d16a8-fa2e-454e-c0f5-7a40cb3b8e4d",
        "colab": {
          "base_uri": "https://localhost:8080/",
          "height": 70
        }
      },
      "source": [
        "import bnlearn\n",
        "from statistics import mean\n",
        "import torch\n",
        "import numpy as np\n",
        "import pyro\n",
        "import pyro.distributions as dist\n",
        "from pyro.infer import Importance, EmpiricalMarginal\n",
        "import matplotlib.pyplot as plt\n",
        "import networkx as nx\n",
        "import graphviz\n",
        "import matplotlib.pyplot as plt\n",
        "import warnings\n",
        "%matplotlib inline\n",
        "pyro.set_rng_seed(101)"
      ],
      "execution_count": 0,
      "outputs": [
        {
          "output_type": "stream",
          "text": [
            "/usr/local/lib/python3.6/dist-packages/statsmodels/tools/_testing.py:19: FutureWarning: pandas.util.testing is deprecated. Use the functions in the public API at pandas.testing instead.\n",
            "  import pandas.util.testing as tm\n"
          ],
          "name": "stderr"
        }
      ]
    },
    {
      "cell_type": "code",
      "metadata": {
        "colab_type": "code",
        "id": "tqOtKU2B49QT",
        "colab": {}
      },
      "source": [
        "import bnlearn\n",
        "from pgmpy.models import BayesianModel\n",
        "import os\n",
        "import pandas as pd\n",
        "import numpy as np\n",
        "import networkx as nx\n",
        "import matplotlib.pyplot as plt\n",
        "import json\n",
        "from ismember import ismember\n",
        "\n",
        "from pgmpy.models import BayesianModel\n",
        "from pgmpy.factors.discrete import TabularCPD\n",
        "from pgmpy.sampling import BayesianModelSampling  # GibbsSampling\n",
        "\n",
        "from pgmpy import readwrite\n",
        "import bnlearn.helpers.network as network"
      ],
      "execution_count": 0,
      "outputs": []
    },
    {
      "cell_type": "markdown",
      "metadata": {
        "id": "qpVA92bUiCoO",
        "colab_type": "text"
      },
      "source": [
        "# Create a Dag\n",
        "\n"
      ]
    },
    {
      "cell_type": "code",
      "metadata": {
        "colab_type": "code",
        "id": "8xUnryo3cqje",
        "outputId": "84361df6-9d14-49dc-f82e-5c7c186ae1f0",
        "colab": {
          "base_uri": "https://localhost:8080/",
          "height": 500
        }
      },
      "source": [
        "df = pd.read_csv('/content/listings_final (1).csv')\n",
        "\n",
        "#Specify the edges in the same way as bnlearn\n",
        "\n",
        "paths = [(\"bathrooms\" , \"cost_property\"),\n",
        "                    (\"bedrooms\" , \"cost_property\"),\n",
        "                    (\"price\" , \"ROI\"),\n",
        "                    (\"amenities_score\" , \"review_scores_rating\"),\n",
        "                    (\"apartment_age\" , \"amenities_score\"),\n",
        "                    (\"apartment_age\" , \"cost_property\"),\n",
        "                    (\"cleaning_fee\" , \"price\"),\n",
        "                    (\"cost_property\" , \"ROI\"),\n",
        "                    (\"proximity_score\" , \"price\"),\n",
        "                    (\"proximity_score\" , \"cost_property\"),\n",
        "                    (\"zipcode\" , \"price\"),\n",
        "                    (\"zipcode\" , \"cost_property\"),\n",
        "                    (\"zipcode\" , \"proximity_score\"),\n",
        "                    (\"zipcode\" , \"review_scores_rating\"),\n",
        "                    (\"zipcode\" , \"room_type\"),\n",
        "                    (\"pets\" , \"price\"),\n",
        "                    (\"pets\" , \"cleaning_fee\"),\n",
        "                    (\"review_scores_rating\" , \"price\"),\n",
        "                    (\"room_type\" , \"bathrooms\"),\n",
        "                    (\"room_type\" , \"bedrooms\"),\n",
        "                    (\"room_type\" , \"price\"),\n",
        "                    (\"room_type\" , \"cost_property\")]\n",
        "\n",
        "model = BayesianModel(paths)\n",
        "print(model.adjacency)\n",
        "# model\n",
        "# model = bnlearn.structure_learning.fit(df)\n",
        "G = bnlearn.plot(model)\n",
        "# model['adjmat']\n",
        "# model_updated = bnlearn.parameter_learning.fit(model,df)\n"
      ],
      "execution_count": 0,
      "outputs": [
        {
          "output_type": "stream",
          "text": [
            "<bound method Graph.adjacency of <pgmpy.models.BayesianModel.BayesianModel object at 0x7f7d384baef0>>\n",
            "[BNLEARN][plot] Making plot based on BayesianModel\n"
          ],
          "name": "stdout"
        },
        {
          "output_type": "display_data",
          "data": {
            "image/png": "[encoded data removed]",
            "text/plain": [
              "<Figure size 1080x576 with 1 Axes>"
            ]
          },
          "metadata": {
            "tags": []
          }
        }
      ]
    },
    {
      "cell_type": "code",
      "metadata": {
        "colab_type": "code",
        "id": "MtJ518aJ3W3w",
        "colab": {}
      },
      "source": [
        "# Finding the vertices\n",
        "vertices = list(model.nodes)\n",
        "\n",
        "# Create adjacency matrix, which will be requireed to calculate CPT values\n",
        "adj_matrix = np.zeros((len(vertices), len(vertices)))\n",
        "for edge in paths:\n",
        "   vertex_i = edge[0]\n",
        "   vertex_j = edge[1]\n",
        "   pos_i = vertices.index(vertex_i)\n",
        "   pos_j = vertices.index(vertex_j)\n",
        "   adj_matrix[pos_i][pos_j] = 1"
      ],
      "execution_count": 0,
      "outputs": []
    },
    {
      "cell_type": "code",
      "metadata": {
        "colab_type": "code",
        "id": "e1urI7_e5hrb",
        "outputId": "bed25b0c-ef30-4945-f14d-b364f9172e96",
        "colab": {
          "base_uri": "https://localhost:8080/",
          "height": 235
        }
      },
      "source": [
        "# Print the vertices of graph\n",
        "vertices"
      ],
      "execution_count": 0,
      "outputs": [
        {
          "output_type": "execute_result",
          "data": {
            "text/plain": [
              "['bathrooms',\n",
              " 'cost_property',\n",
              " 'bedrooms',\n",
              " 'price',\n",
              " 'ROI',\n",
              " 'amenities_score',\n",
              " 'review_scores_rating',\n",
              " 'apartment_age',\n",
              " 'cleaning_fee',\n",
              " 'proximity_score',\n",
              " 'zipcode',\n",
              " 'room_type',\n",
              " 'pets']"
            ]
          },
          "metadata": {
            "tags": []
          },
          "execution_count": 7
        }
      ]
    },
    {
      "cell_type": "code",
      "metadata": {
        "colab_type": "code",
        "id": "Hpzipc-x5feg",
        "outputId": "a5c6c59c-0008-4f71-843e-63310368f13a",
        "colab": {
          "base_uri": "https://localhost:8080/",
          "height": 235
        }
      },
      "source": [
        "# Print the adjacency matrix\n",
        "adj_matrix"
      ],
      "execution_count": 0,
      "outputs": [
        {
          "output_type": "execute_result",
          "data": {
            "text/plain": [
              "array([[0., 1., 0., 0., 0., 0., 0., 0., 0., 0., 0., 0., 0.],\n",
              "       [0., 0., 0., 0., 1., 0., 0., 0., 0., 0., 0., 0., 0.],\n",
              "       [0., 1., 0., 0., 0., 0., 0., 0., 0., 0., 0., 0., 0.],\n",
              "       [0., 0., 0., 0., 1., 0., 0., 0., 0., 0., 0., 0., 0.],\n",
              "       [0., 0., 0., 0., 0., 0., 0., 0., 0., 0., 0., 0., 0.],\n",
              "       [0., 0., 0., 0., 0., 0., 1., 0., 0., 0., 0., 0., 0.],\n",
              "       [0., 0., 0., 1., 0., 0., 0., 0., 0., 0., 0., 0., 0.],\n",
              "       [0., 1., 0., 0., 0., 1., 0., 0., 0., 0., 0., 0., 0.],\n",
              "       [0., 0., 0., 1., 0., 0., 0., 0., 0., 0., 0., 0., 0.],\n",
              "       [0., 1., 0., 1., 0., 0., 0., 0., 0., 0., 0., 0., 0.],\n",
              "       [0., 1., 0., 1., 0., 0., 1., 0., 0., 1., 0., 1., 0.],\n",
              "       [1., 1., 1., 1., 0., 0., 0., 0., 0., 0., 0., 0., 0.],\n",
              "       [0., 0., 0., 1., 0., 0., 0., 0., 1., 0., 0., 0., 0.]])"
            ]
          },
          "metadata": {
            "tags": []
          },
          "execution_count": 8
        }
      ]
    },
    {
      "cell_type": "code",
      "metadata": {
        "colab_type": "code",
        "id": "kj2KxT6-5kDT",
        "colab": {}
      },
      "source": [
        "# Convert adjacency matrix to pandas dataframe\n",
        "adjmat = pd.DataFrame(data=adj_matrix, columns=vertices, index=vertices)"
      ],
      "execution_count": 0,
      "outputs": []
    },
    {
      "cell_type": "code",
      "metadata": {
        "colab_type": "code",
        "id": "wXUX_quG9vJB",
        "outputId": "7ea0f40b-fedd-42fc-e756-d1a7f94a6cd7",
        "colab": {
          "base_uri": "https://localhost:8080/",
          "height": 54
        }
      },
      "source": [
        "model.nodes"
      ],
      "execution_count": 0,
      "outputs": [
        {
          "output_type": "execute_result",
          "data": {
            "text/plain": [
              "NodeView(('bathrooms', 'cost_property', 'bedrooms', 'price', 'ROI', 'amenities_score', 'review_scores_rating', 'apartment_age', 'cleaning_fee', 'proximity_score', 'zipcode', 'room_type', 'pets'))"
            ]
          },
          "metadata": {
            "tags": []
          },
          "execution_count": 11
        }
      ]
    },
    {
      "cell_type": "code",
      "metadata": {
        "colab_type": "code",
        "id": "JnpvhXtI5v_D",
        "outputId": "732cd592-9708-41cd-f51c-cb5c3cab2869",
        "colab": {
          "base_uri": "https://localhost:8080/",
          "height": 452
        }
      },
      "source": [
        "adjmat"
      ],
      "execution_count": 0,
      "outputs": [
        {
          "output_type": "execute_result",
          "data": {
            "text/html": [
              "<div>\n",
              "<style scoped>\n",
              "    .dataframe tbody tr th:only-of-type {\n",
              "        vertical-align: middle;\n",
              "    }\n",
              "\n",
              "    .dataframe tbody tr th {\n",
              "        vertical-align: top;\n",
              "    }\n",
              "\n",
              "    .dataframe thead th {\n",
              "        text-align: right;\n",
              "    }\n",
              "</style>\n",
              "<table border=\"1\" class=\"dataframe\">\n",
              "  <thead>\n",
              "    <tr style=\"text-align: right;\">\n",
              "      <th></th>\n",
              "      <th>bathrooms</th>\n",
              "      <th>cost_property</th>\n",
              "      <th>bedrooms</th>\n",
              "      <th>price</th>\n",
              "      <th>ROI</th>\n",
              "      <th>amenities_score</th>\n",
              "      <th>review_scores_rating</th>\n",
              "      <th>apartment_age</th>\n",
              "      <th>cleaning_fee</th>\n",
              "      <th>proximity_score</th>\n",
              "      <th>zipcode</th>\n",
              "      <th>room_type</th>\n",
              "      <th>pets</th>\n",
              "    </tr>\n",
              "  </thead>\n",
              "  <tbody>\n",
              "    <tr>\n",
              "      <th>bathrooms</th>\n",
              "      <td>0.0</td>\n",
              "      <td>1.0</td>\n",
              "      <td>0.0</td>\n",
              "      <td>0.0</td>\n",
              "      <td>0.0</td>\n",
              "      <td>0.0</td>\n",
              "      <td>0.0</td>\n",
              "      <td>0.0</td>\n",
              "      <td>0.0</td>\n",
              "      <td>0.0</td>\n",
              "      <td>0.0</td>\n",
              "      <td>0.0</td>\n",
              "      <td>0.0</td>\n",
              "    </tr>\n",
              "    <tr>\n",
              "      <th>cost_property</th>\n",
              "      <td>0.0</td>\n",
              "      <td>0.0</td>\n",
              "      <td>0.0</td>\n",
              "      <td>0.0</td>\n",
              "      <td>1.0</td>\n",
              "      <td>0.0</td>\n",
              "      <td>0.0</td>\n",
              "      <td>0.0</td>\n",
              "      <td>0.0</td>\n",
              "      <td>0.0</td>\n",
              "      <td>0.0</td>\n",
              "      <td>0.0</td>\n",
              "      <td>0.0</td>\n",
              "    </tr>\n",
              "    <tr>\n",
              "      <th>bedrooms</th>\n",
              "      <td>0.0</td>\n",
              "      <td>1.0</td>\n",
              "      <td>0.0</td>\n",
              "      <td>0.0</td>\n",
              "      <td>0.0</td>\n",
              "      <td>0.0</td>\n",
              "      <td>0.0</td>\n",
              "      <td>0.0</td>\n",
              "      <td>0.0</td>\n",
              "      <td>0.0</td>\n",
              "      <td>0.0</td>\n",
              "      <td>0.0</td>\n",
              "      <td>0.0</td>\n",
              "    </tr>\n",
              "    <tr>\n",
              "      <th>price</th>\n",
              "      <td>0.0</td>\n",
              "      <td>0.0</td>\n",
              "      <td>0.0</td>\n",
              "      <td>0.0</td>\n",
              "      <td>1.0</td>\n",
              "      <td>0.0</td>\n",
              "      <td>0.0</td>\n",
              "      <td>0.0</td>\n",
              "      <td>0.0</td>\n",
              "      <td>0.0</td>\n",
              "      <td>0.0</td>\n",
              "      <td>0.0</td>\n",
              "      <td>0.0</td>\n",
              "    </tr>\n",
              "    <tr>\n",
              "      <th>ROI</th>\n",
              "      <td>0.0</td>\n",
              "      <td>0.0</td>\n",
              "      <td>0.0</td>\n",
              "      <td>0.0</td>\n",
              "      <td>0.0</td>\n",
              "      <td>0.0</td>\n",
              "      <td>0.0</td>\n",
              "      <td>0.0</td>\n",
              "      <td>0.0</td>\n",
              "      <td>0.0</td>\n",
              "      <td>0.0</td>\n",
              "      <td>0.0</td>\n",
              "      <td>0.0</td>\n",
              "    </tr>\n",
              "    <tr>\n",
              "      <th>amenities_score</th>\n",
              "      <td>0.0</td>\n",
              "      <td>0.0</td>\n",
              "      <td>0.0</td>\n",
              "      <td>0.0</td>\n",
              "      <td>0.0</td>\n",
              "      <td>0.0</td>\n",
              "      <td>1.0</td>\n",
              "      <td>0.0</td>\n",
              "      <td>0.0</td>\n",
              "      <td>0.0</td>\n",
              "      <td>0.0</td>\n",
              "      <td>0.0</td>\n",
              "      <td>0.0</td>\n",
              "    </tr>\n",
              "    <tr>\n",
              "      <th>review_scores_rating</th>\n",
              "      <td>0.0</td>\n",
              "      <td>0.0</td>\n",
              "      <td>0.0</td>\n",
              "      <td>1.0</td>\n",
              "      <td>0.0</td>\n",
              "      <td>0.0</td>\n",
              "      <td>0.0</td>\n",
              "      <td>0.0</td>\n",
              "      <td>0.0</td>\n",
              "      <td>0.0</td>\n",
              "      <td>0.0</td>\n",
              "      <td>0.0</td>\n",
              "      <td>0.0</td>\n",
              "    </tr>\n",
              "    <tr>\n",
              "      <th>apartment_age</th>\n",
              "      <td>0.0</td>\n",
              "      <td>1.0</td>\n",
              "      <td>0.0</td>\n",
              "      <td>0.0</td>\n",
              "      <td>0.0</td>\n",
              "      <td>1.0</td>\n",
              "      <td>0.0</td>\n",
              "      <td>0.0</td>\n",
              "      <td>0.0</td>\n",
              "      <td>0.0</td>\n",
              "      <td>0.0</td>\n",
              "      <td>0.0</td>\n",
              "      <td>0.0</td>\n",
              "    </tr>\n",
              "    <tr>\n",
              "      <th>cleaning_fee</th>\n",
              "      <td>0.0</td>\n",
              "      <td>0.0</td>\n",
              "      <td>0.0</td>\n",
              "      <td>1.0</td>\n",
              "      <td>0.0</td>\n",
              "      <td>0.0</td>\n",
              "      <td>0.0</td>\n",
              "      <td>0.0</td>\n",
              "      <td>0.0</td>\n",
              "      <td>0.0</td>\n",
              "      <td>0.0</td>\n",
              "      <td>0.0</td>\n",
              "      <td>0.0</td>\n",
              "    </tr>\n",
              "    <tr>\n",
              "      <th>proximity_score</th>\n",
              "      <td>0.0</td>\n",
              "      <td>1.0</td>\n",
              "      <td>0.0</td>\n",
              "      <td>1.0</td>\n",
              "      <td>0.0</td>\n",
              "      <td>0.0</td>\n",
              "      <td>0.0</td>\n",
              "      <td>0.0</td>\n",
              "      <td>0.0</td>\n",
              "      <td>0.0</td>\n",
              "      <td>0.0</td>\n",
              "      <td>0.0</td>\n",
              "      <td>0.0</td>\n",
              "    </tr>\n",
              "    <tr>\n",
              "      <th>zipcode</th>\n",
              "      <td>0.0</td>\n",
              "      <td>1.0</td>\n",
              "      <td>0.0</td>\n",
              "      <td>1.0</td>\n",
              "      <td>0.0</td>\n",
              "      <td>0.0</td>\n",
              "      <td>1.0</td>\n",
              "      <td>0.0</td>\n",
              "      <td>0.0</td>\n",
              "      <td>1.0</td>\n",
              "      <td>0.0</td>\n",
              "      <td>1.0</td>\n",
              "      <td>0.0</td>\n",
              "    </tr>\n",
              "    <tr>\n",
              "      <th>room_type</th>\n",
              "      <td>1.0</td>\n",
              "      <td>1.0</td>\n",
              "      <td>1.0</td>\n",
              "      <td>1.0</td>\n",
              "      <td>0.0</td>\n",
              "      <td>0.0</td>\n",
              "      <td>0.0</td>\n",
              "      <td>0.0</td>\n",
              "      <td>0.0</td>\n",
              "      <td>0.0</td>\n",
              "      <td>0.0</td>\n",
              "      <td>0.0</td>\n",
              "      <td>0.0</td>\n",
              "    </tr>\n",
              "    <tr>\n",
              "      <th>pets</th>\n",
              "      <td>0.0</td>\n",
              "      <td>0.0</td>\n",
              "      <td>0.0</td>\n",
              "      <td>1.0</td>\n",
              "      <td>0.0</td>\n",
              "      <td>0.0</td>\n",
              "      <td>0.0</td>\n",
              "      <td>0.0</td>\n",
              "      <td>1.0</td>\n",
              "      <td>0.0</td>\n",
              "      <td>0.0</td>\n",
              "      <td>0.0</td>\n",
              "      <td>0.0</td>\n",
              "    </tr>\n",
              "  </tbody>\n",
              "</table>\n",
              "</div>"
            ],
            "text/plain": [
              "                      bathrooms  cost_property  ...  room_type  pets\n",
              "bathrooms                   0.0            1.0  ...        0.0   0.0\n",
              "cost_property               0.0            0.0  ...        0.0   0.0\n",
              "bedrooms                    0.0            1.0  ...        0.0   0.0\n",
              "price                       0.0            0.0  ...        0.0   0.0\n",
              "ROI                         0.0            0.0  ...        0.0   0.0\n",
              "amenities_score             0.0            0.0  ...        0.0   0.0\n",
              "review_scores_rating        0.0            0.0  ...        0.0   0.0\n",
              "apartment_age               0.0            1.0  ...        0.0   0.0\n",
              "cleaning_fee                0.0            0.0  ...        0.0   0.0\n",
              "proximity_score             0.0            1.0  ...        0.0   0.0\n",
              "zipcode                     0.0            1.0  ...        1.0   0.0\n",
              "room_type                   1.0            1.0  ...        0.0   0.0\n",
              "pets                        0.0            0.0  ...        0.0   0.0\n",
              "\n",
              "[13 rows x 13 columns]"
            ]
          },
          "metadata": {
            "tags": []
          },
          "execution_count": 10
        }
      ]
    },
    {
      "cell_type": "code",
      "metadata": {
        "colab_type": "code",
        "id": "Aw3Obb-s4d54",
        "colab": {}
      },
      "source": [
        "# Create a dictionary model1 which has model and adjacency matrix\n",
        "model1 = dict()\n",
        "model1['model'] = model\n",
        "model1['adjmat'] = adjmat"
      ],
      "execution_count": 0,
      "outputs": []
    },
    {
      "cell_type": "code",
      "metadata": {
        "colab_type": "code",
        "id": "HEZiyWdUDMpy",
        "colab": {}
      },
      "source": [
        "df = df.rename(columns=lambda x: x.strip())\n",
        "columns = df.columns\n",
        "columns_to_drop = set(columns) ^ set(vertices)\n",
        "df = df.drop(columns_to_drop,axis=1)"
      ],
      "execution_count": 0,
      "outputs": []
    },
    {
      "cell_type": "code",
      "metadata": {
        "colab_type": "code",
        "id": "ZOhxUOpzDgFJ",
        "outputId": "9b743081-772a-46c0-abcb-da930c266073",
        "colab": {
          "base_uri": "https://localhost:8080/",
          "height": 84
        }
      },
      "source": [
        "df.columns"
      ],
      "execution_count": 0,
      "outputs": [
        {
          "output_type": "execute_result",
          "data": {
            "text/plain": [
              "Index(['proximity_score', 'zipcode', 'cost_property', 'room_type', 'bathrooms',\n",
              "       'bedrooms', 'amenities_score', 'price', 'ROI', 'cleaning_fee',\n",
              "       'review_scores_rating', 'pets', 'apartment_age'],\n",
              "      dtype='object')"
            ]
          },
          "metadata": {
            "tags": []
          },
          "execution_count": 15
        }
      ]
    },
    {
      "cell_type": "markdown",
      "metadata": {
        "id": "PhxvKZaIjOLR",
        "colab_type": "text"
      },
      "source": [
        "# Learn CPT tables"
      ]
    },
    {
      "cell_type": "code",
      "metadata": {
        "colab_type": "code",
        "id": "E6USXn-X3bt0",
        "outputId": "d022e06c-2cf7-4796-98e3-86b4f8a4cedc",
        "colab": {
          "base_uri": "https://localhost:8080/",
          "height": 420
        }
      },
      "source": [
        "# Specify the model and data to learn CPT tables\n",
        "model_updated = bnlearn.parameter_learning.fit(model1,df)"
      ],
      "execution_count": 0,
      "outputs": [
        {
          "output_type": "stream",
          "text": [
            "[BNLEARN][PARAMETER LEARNING] Computing parameters using [bayes]\n",
            "CPD of bathrooms:\n",
            "+----------------+----------------------------+-----------------------+-------------------------+\n",
            "| room_type      | room_type(Entire home/apt) | room_type(Hotel room) | room_type(Private room) |\n",
            "+----------------+----------------------------+-----------------------+-------------------------+\n",
            "| bathrooms(0.0) | 0.08811349017534581        | 0.1111111111111111    | 0.1057194206575748      |\n",
            "+----------------+----------------------------+-----------------------+-------------------------+\n",
            "| bathrooms(1.0) | 0.19992950920785965        | 0.1111111111111111    | 0.14568136166613807     |\n",
            "+----------------+----------------------------+-----------------------+-------------------------+\n",
            "| bathrooms(1.5) | 0.09049255441008015        | 0.1111111111111111    | 0.11428269373083834     |\n",
            "+----------------+----------------------------+-----------------------+-------------------------+\n",
            "| bathrooms(2.0) | 0.1380738391047669         | 0.1111111111111111    | 0.1057194206575748      |\n",
            "+----------------+----------------------------+-----------------------+-------------------------+\n",
            "| bathrooms(2.5) | 0.10238787558375184        | 0.1111111111111111    | 0.1057194206575748      |\n",
            "+----------------+----------------------------+-----------------------+-------------------------+\n",
            "| bathrooms(3.0) | 0.10238787558375184        | 0.1111111111111111    | 0.1057194206575748      |\n",
            "+----------------+----------------------------+-----------------------+-------------------------+\n",
            "| bathrooms(3.5) | 0.09525068287954883        | 0.1111111111111111    | 0.1057194206575748      |\n",
            "+----------------+----------------------------+-----------------------+-------------------------+\n",
            "| bathrooms(4.0) | 0.0928716186448145         | 0.1111111111111111    | 0.1057194206575748      |\n",
            "+----------------+----------------------------+-----------------------+-------------------------+\n",
            "| bathrooms(4.5) | 0.09049255441008015        | 0.1111111111111111    | 0.1057194206575748      |\n",
            "+----------------+----------------------------+-----------------------+-------------------------+\n",
            "CPD of cost_property:\n"
          ],
          "name": "stdout"
        }
      ]
    },
    {
      "cell_type": "markdown",
      "metadata": {
        "id": "yStnEd_7k0W5",
        "colab_type": "text"
      },
      "source": [
        "There is some bug in the package which crashes the google colab and hence we tried a different way to create the CPT tables in pyro.\n",
        "\n",
        "We imported the CPT table from R bnlearn package in python by saving it in json format."
      ]
    }
  ]
}