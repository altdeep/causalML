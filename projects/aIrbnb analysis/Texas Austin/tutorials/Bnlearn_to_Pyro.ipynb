{
  "nbformat": 4,
  "nbformat_minor": 0,
  "metadata": {
    "colab": {
      "name": "Bnlearn_to_Pyro.ipynb",
      "provenance": []
    },
    "kernelspec": {
      "name": "python3",
      "display_name": "Python 3"
    }
  },
  "cells": [
    {
      "cell_type": "markdown",
      "metadata": {
        "id": "8QsLv0ud7vKU",
        "colab_type": "text"
      },
      "source": [
        "# CPT from Bnlearn to Pyro\n",
        "\n",
        "Let us now try the Naive approach to dump all the CPTs into a '.json' file from R and then deserialize it in python to build our model. We implemented a generic function to migrate CPTs from Bnlearn R to Pyro. The input is the Json file 'test.json' created in R using the JSONIO library.\n",
        "\n",
        "\n",
        "```\n",
        "> exportJson <- toJSON(bn_dag)\n",
        "> write(exportJson, \"test.json\")\n",
        "```\n"
      ]
    },
    {
      "cell_type": "code",
      "metadata": {
        "id": "HPeVbgcpBQIc",
        "colab_type": "code",
        "colab": {}
      },
      "source": [
        "import json\n",
        "\n",
        "def converToValues(obj):\n",
        "    if isinstance(obj, list):\n",
        "        for index, item in enumerate(obj):\n",
        "            newitem = converToValues(item)\n",
        "            obj[index] = newitem\n",
        "    elif isinstance(obj,dict):\n",
        "        return list(obj.values())\n",
        "\n",
        "    return obj\n",
        "\n",
        "def convertToTransposeElemts(obj):\n",
        "    if isinstance(obj,list):\n",
        "        for index, item in enumerate(obj):\n",
        "            if isinstance(item[0],list):\n",
        "                newArray = convertToTransposeElemts(item)\n",
        "                obj[index] = newArray\n",
        "            else:\n",
        "                temp = [list(x) for x in zip(*obj)]\n",
        "                return temp\n",
        "    return obj\n",
        "\n",
        "\n",
        "with open('test.json') as f:\n",
        "    data_dict = json.load(f)\n",
        "\n"
      ],
      "execution_count": 0,
      "outputs": []
    },
    {
      "cell_type": "markdown",
      "metadata": {
        "id": "dteKNoCB_B9W",
        "colab_type": "text"
      },
      "source": [
        "## Fetching the Probabilities\n",
        "\n",
        "After you have succesfully loaded the file import you features. As we are not aware of the feature names, You need to provide the names of your feature and it will extract the CPTs for you, to be used to build your model. Find the below code, we have used to parse our test.json for your reference"
      ]
    },
    {
      "cell_type": "code",
      "metadata": {
        "id": "mwhvsORFFJ_Q",
        "colab_type": "code",
        "colab": {}
      },
      "source": [
        "zipcode_prob = torch.tensor(data_dict['zipcode']['prob'])\n",
        "pets_prob = torch.tensor(data_dict['pets']['prob'])\n",
        "apartment_prob = torch.tensor(data_dict['apartment_age']['prob'])\n",
        "\n",
        "\n",
        "room_type_prob = converToValues(data_dict['room_type']['prob'])\n",
        "room_type_prob = torch.tensor(convertToTransposeElemts(room_type_prob))\n",
        "\n",
        "proximity_score_prob = converToValues(data_dict['proximity_score']['prob'])\n",
        "proximity_score_prob = torch.tensor(convertToTransposeElemts(proximity_score_prob))\n",
        "\n",
        "review_scores_rating_prob = converToValues(data_dict['review_scores_rating']['prob'])\n",
        "review_scores_rating_prob = torch.tensor(convertToTransposeElemts(review_scores_rating_prob))\n",
        "\n",
        "amenities_score_prob = converToValues(data_dict['amenities_score']['prob'])\n",
        "amenities_score_prob = torch.tensor(convertToTransposeElemts(amenities_score_prob))\n",
        "\n",
        "cleaning_fee_prob = converToValues(data_dict['cleaning_fee']['prob'])\n",
        "cleaning_fee_prob = torch.tensor(convertToTransposeElemts(cleaning_fee_prob))\n",
        "\n",
        "bedroom_prob = converToValues(data_dict['bedrooms']['prob'])\n",
        "bedroom_prob = torch.tensor(convertToTransposeElemts(bedroom_prob))\n",
        "\n",
        "bathroom_prob = converToValues(data_dict['bathrooms']['prob'])\n",
        "bathroom_prob = torch.tensor(convertToTransposeElemts(bathroom_prob))\n",
        "\n",
        "price_prob = converToValues(data_dict['price']['prob'])\n",
        "price_prob = torch.tensor(convertToTransposeElemts(price_prob))\n",
        "\n",
        "cost_property_prob = converToValues(data_dict['cost_property']['prob'])\n",
        "cost_property_prob = torch.tensor(convertToTransposeElemts(cost_property_prob))\n",
        "\n",
        "ROI_prob = converToValues(data_dict['ROI']['prob'])\n",
        "ROI_prob = torch.tensor(convertToTransposeElemts(ROI_prob))\n"
      ],
      "execution_count": 0,
      "outputs": []
    },
    {
      "cell_type": "markdown",
      "metadata": {
        "id": "5J_FhqC6OqKk",
        "colab_type": "text"
      },
      "source": [
        "You are now ready to use these probabilities to build your model in pyro!!"
      ]
    }
  ]
}