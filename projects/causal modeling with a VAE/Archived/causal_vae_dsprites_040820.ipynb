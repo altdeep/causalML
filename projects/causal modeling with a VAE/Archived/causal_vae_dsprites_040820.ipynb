<<<<<<< HEAD
{"nbformat":4,"nbformat_minor":0,"metadata":{"kernelspec":{"name":"python3","display_name":"Python 3"},"language_info":{"codemirror_mode":{"name":"ipython","version":3},"file_extension":".py","mimetype":"text/x-python","name":"python","nbconvert_exporter":"python","pygments_lexer":"ipython3","version":"3.6.8"},"colab":{"name":"causal_vae_dsprites_040820.ipynb","provenance":[],"collapsed_sections":[],"machine_shape":"hm"},"accelerator":"GPU","widgets":{"application/vnd.jupyter.widget-state+json":{"09debf13c83a43d7888b7aa22952748b":{"model_module":"@jupyter-widgets/controls","model_name":"VBoxModel","state":{"_view_name":"VBoxView","_dom_classes":["widget-interact"],"_model_name":"VBoxModel","_view_module":"@jupyter-widgets/controls","_model_module_version":"1.5.0","_view_count":null,"_view_module_version":"1.5.0","box_style":"","layout":"IPY_MODEL_e4b058901e64425488da09b774ec8cb6","_model_module":"@jupyter-widgets/controls","children":["IPY_MODEL_673af99fe5974065aa7666ed555356f3","IPY_MODEL_d5c77689f22c4b819734c65670cabf63"]}},"e4b058901e64425488da09b774ec8cb6":{"model_module":"@jupyter-widgets/base","model_name":"LayoutModel","state":{"_view_name":"LayoutView","grid_template_rows":null,"right":null,"justify_content":null,"_view_module":"@jupyter-widgets/base","overflow":null,"_model_module_version":"1.2.0","_view_count":null,"flex_flow":null,"width":null,"min_width":null,"border":null,"align_items":null,"bottom":null,"_model_module":"@jupyter-widgets/base","top":null,"grid_column":null,"overflow_y":null,"overflow_x":null,"grid_auto_flow":null,"grid_area":null,"grid_template_columns":null,"flex":null,"_model_name":"LayoutModel","justify_items":null,"grid_row":null,"max_height":null,"align_content":null,"visibility":null,"align_self":null,"height":null,"min_height":null,"padding":null,"grid_auto_rows":null,"grid_gap":null,"max_width":null,"order":null,"_view_module_version":"1.2.0","grid_template_areas":null,"object_position":null,"object_fit":null,"grid_auto_columns":null,"margin":null,"display":null,"left":null}},"673af99fe5974065aa7666ed555356f3":{"model_module":"@jupyter-widgets/controls","model_name":"IntSliderModel","state":{"_view_name":"IntSliderView","style":"IPY_MODEL_58f253eb7eeb457e9e7d44df1ae21dd0","_dom_classes":[],"description":"x","step":1,"_model_name":"IntSliderModel","orientation":"horizontal","max":256,"_view_module":"@jupyter-widgets/controls","_model_module_version":"1.5.0","value":0,"_view_count":null,"disabled":false,"_view_module_version":"1.5.0","min":0,"continuous_update":true,"readout_format":"d","description_tooltip":null,"readout":true,"_model_module":"@jupyter-widgets/controls","layout":"IPY_MODEL_0cf5f1cd71e74570be9314369bf402a2"}},"d5c77689f22c4b819734c65670cabf63":{"model_module":"@jupyter-widgets/output","model_name":"OutputModel","state":{"_view_name":"OutputView","msg_id":"","_dom_classes":[],"_model_name":"OutputModel","outputs":[{"output_type":"display_data","metadata":{"tags":[]},"image/png":"iVBORw0KGgoAAAANSUhEUgAAAV0AAACmCAYAAAB5qlzZAAAABHNCSVQICAgIfAhkiAAAAAlwSFlz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\n","text/plain":"<Figure size 432x288 with 2 Axes>"}],"_view_module":"@jupyter-widgets/output","_model_module_version":"1.0.0","_view_count":null,"_view_module_version":"1.0.0","layout":"IPY_MODEL_cbaf40b79886424ab2a5f756081be714","_model_module":"@jupyter-widgets/output"}},"58f253eb7eeb457e9e7d44df1ae21dd0":{"model_module":"@jupyter-widgets/controls","model_name":"SliderStyleModel","state":{"_view_name":"StyleView","handle_color":null,"_model_name":"SliderStyleModel","description_width":"","_view_module":"@jupyter-widgets/base","_model_module_version":"1.5.0","_view_count":null,"_view_module_version":"1.2.0","_model_module":"@jupyter-widgets/controls"}},"0cf5f1cd71e74570be9314369bf402a2":{"model_module":"@jupyter-widgets/base","model_name":"LayoutModel","state":{"_view_name":"LayoutView","grid_template_rows":null,"right":null,"justify_content":null,"_view_module":"@jupyter-widgets/base","overflow":null,"_model_module_version":"1.2.0","_view_count":null,"flex_flow":null,"width":null,"min_width":null,"border":null,"align_items":null,"bottom":null,"_model_module":"@jupyter-widgets/base","top":null,"grid_column":null,"overflow_y":null,"overflow_x":null,"grid_auto_flow":null,"grid_area":null,"grid_template_columns":null,"flex":null,"_model_name":"LayoutModel","justify_items":null,"grid_row":null,"max_height":null,"align_content":null,"visibility":null,"align_self":null,"height":null,"min_height":null,"padding":null,"grid_auto_rows":null,"grid_gap":null,"max_width":null,"order":null,"_view_module_version":"1.2.0","grid_template_areas":null,"object_position":null,"object_fit":null,"grid_auto_columns":null,"margin":null,"display":null,"left":null}},"cbaf40b79886424ab2a5f756081be714":{"model_module":"@jupyter-widgets/base","model_name":"LayoutModel","state":{"_view_name":"LayoutView","grid_template_rows":null,"right":null,"justify_content":null,"_view_module":"@jupyter-widgets/base","overflow":null,"_model_module_version":"1.2.0","_view_count":null,"flex_flow":null,"width":null,"min_width":null,"border":null,"align_items":null,"bottom":null,"_model_module":"@jupyter-widgets/base","top":null,"grid_column":null,"overflow_y":null,"overflow_x":null,"grid_auto_flow":null,"grid_area":null,"grid_template_columns":null,"flex":null,"_model_name":"LayoutModel","justify_items":null,"grid_row":null,"max_height":null,"align_content":null,"visibility":null,"align_self":null,"height":null,"min_height":null,"padding":null,"grid_auto_rows":null,"grid_gap":null,"max_width":null,"order":null,"_view_module_version":"1.2.0","grid_template_areas":null,"object_position":null,"object_fit":null,"grid_auto_columns":null,"margin":null,"display":null,"left":null}},"39fb7a1065324fdb8380606d29c74f45":{"model_module":"@jupyter-widgets/controls","model_name":"VBoxModel","state":{"_view_name":"VBoxView","_dom_classes":["widget-interact"],"_model_name":"VBoxModel","_view_module":"@jupyter-widgets/controls","_model_module_version":"1.5.0","_view_count":null,"_view_module_version":"1.5.0","box_style":"","layout":"IPY_MODEL_3febcc4bf9e548b38a01b757f1411a61","_model_module":"@jupyter-widgets/controls","children":["IPY_MODEL_b26767d4823f402a8dd316a28f3fb632","IPY_MODEL_352b3c1c9b70422c93b3a770124d4036","IPY_MODEL_c786b99736b34347ad642be6cb1525a1","IPY_MODEL_d1d245f399344248b8caf6edebced4e8","IPY_MODEL_8b91df243ad04127bd57029d472f9009","IPY_MODEL_46914fe5f50a4083babb184cf57e55e6"]}},"3febcc4bf9e548b38a01b757f1411a61":{"model_module":"@jupyter-widgets/base","model_name":"LayoutModel","state":{"_view_name":"LayoutView","grid_template_rows":null,"right":null,"justify_content":null,"_view_module":"@jupyter-widgets/base","overflow":null,"_model_module_version":"1.2.0","_view_count":null,"flex_flow":null,"width":null,"min_width":null,"border":null,"align_items":null,"bottom":null,"_model_module":"@jupyter-widgets/base","top":null,"grid_column":null,"overflow_y":null,"overflow_x":null,"grid_auto_flow":null,"grid_area":null,"grid_template_columns":null,"flex":null,"_model_name":"LayoutModel","justify_items":null,"grid_row":null,"max_height":null,"align_content":null,"visibility":null,"align_self":null,"height":null,"min_height":null,"padding":null,"grid_auto_rows":null,"grid_gap":null,"max_width":null,"order":null,"_view_module_version":"1.2.0","grid_template_areas":null,"object_position":null,"object_fit":null,"grid_auto_columns":null,"margin":null,"display":null,"left":null}},"b26767d4823f402a8dd316a28f3fb632":{"model_module":"@jupyter-widgets/controls","model_name":"IntSliderModel","state":{"_view_name":"IntSliderView","style":"IPY_MODEL_c4a0b4dbfe6a448db13cb6944bfdadaf","_dom_classes":[],"description":"shape","step":1,"_model_name":"IntSliderModel","orientation":"horizontal","max":2,"_view_module":"@jupyter-widgets/controls","_model_module_version":"1.5.0","value":0,"_view_count":null,"disabled":false,"_view_module_version":"1.5.0","min":0,"continuous_update":true,"readout_format":"d","description_tooltip":null,"readout":true,"_model_module":"@jupyter-widgets/controls","layout":"IPY_MODEL_d9568e2ea06a4647922ef3fd869b0c30"}},"352b3c1c9b70422c93b3a770124d4036":{"model_module":"@jupyter-widgets/controls","model_name":"IntSliderModel","state":{"_view_name":"IntSliderView","style":"IPY_MODEL_4c27209ce69c4cdb905bfe0b84c64940","_dom_classes":[],"description":"scale","step":1,"_model_name":"IntSliderModel","orientation":"horizontal","max":5,"_view_module":"@jupyter-widgets/controls","_model_module_version":"1.5.0","value":4,"_view_count":null,"disabled":false,"_view_module_version":"1.5.0","min":0,"continuous_update":true,"readout_format":"d","description_tooltip":null,"readout":true,"_model_module":"@jupyter-widgets/controls","layout":"IPY_MODEL_d173b020244c47808dc638593131e67d"}},"c786b99736b34347ad642be6cb1525a1":{"model_module":"@jupyter-widgets/controls","model_name":"IntSliderModel","state":{"_view_name":"IntSliderView","style":"IPY_MODEL_92cf7d8f2d8d4529abbb3f38179e6ad3","_dom_classes":[],"description":"orient","step":1,"_model_name":"IntSliderModel","orientation":"horizontal","max":39,"_view_module":"@jupyter-widgets/controls","_model_module_version":"1.5.0","value":29,"_view_count":null,"disabled":false,"_view_module_version":"1.5.0","min":0,"continuous_update":true,"readout_format":"d","description_tooltip":null,"readout":true,"_model_module":"@jupyter-widgets/controls","layout":"IPY_MODEL_46dd7d0bb51744228965b5b24684f624"}},"d1d245f399344248b8caf6edebced4e8":{"model_module":"@jupyter-widgets/controls","model_name":"IntSliderModel","state":{"_view_name":"IntSliderView","style":"IPY_MODEL_52fd0e906d22473f9cafc6cd6a3c55ba","_dom_classes":[],"description":"posX","step":1,"_model_name":"IntSliderModel","orientation":"horizontal","max":31,"_view_module":"@jupyter-widgets/controls","_model_module_version":"1.5.0","value":31,"_view_count":null,"disabled":false,"_view_module_version":"1.5.0","min":0,"continuous_update":true,"readout_format":"d","description_tooltip":null,"readout":true,"_model_module":"@jupyter-widgets/controls","layout":"IPY_MODEL_a5505200c0694fd29a486ccc44395b1e"}},"8b91df243ad04127bd57029d472f9009":{"model_module":"@jupyter-widgets/controls","model_name":"IntSliderModel","state":{"_view_name":"IntSliderView","style":"IPY_MODEL_48849a18ce0442f7b309e4419d3bebbe","_dom_classes":[],"description":"posY","step":1,"_model_name":"IntSliderModel","orientation":"horizontal","max":31,"_view_module":"@jupyter-widgets/controls","_model_module_version":"1.5.0","value":11,"_view_count":null,"disabled":false,"_view_module_version":"1.5.0","min":0,"continuous_update":true,"readout_format":"d","description_tooltip":null,"readout":true,"_model_module":"@jupyter-widgets/controls","layout":"IPY_MODEL_c5a956b96ec64b79833398549ada255e"}},"46914fe5f50a4083babb184cf57e55e6":{"model_module":"@jupyter-widgets/output","model_name":"OutputModel","state":{"_view_name":"OutputView","msg_id":"","_dom_classes":[],"_model_name":"OutputModel","outputs":[{"output_type":"display_data","metadata":{"tags":[]},"image/png":"iVBORw0KGgoAAAANSUhEUgAAAOcAAADnCAYAAADl9EEgAAAABHNCSVQICAgIfAhkiAAAAAlwSFlz\nAAALEgAACxIB0t1+/AAAADh0RVh0U29mdHdhcmUAbWF0cGxvdGxpYiB2ZXJzaW9uMy4yLjEsIGh0\ndHA6Ly9tYXRwbG90bGliLm9yZy+j8jraAAAC90lEQVR4nO3cMW7DQAwAwTDw/7/MfEAI7EK4VTJT\nSi7YLIgTcJ7d/QJ6vk8PAFwTJ0SJE6LECVHihKjXby9nxqdcuNnuztVzmxOixAlR4oQocUKUOCFK\nnBAlTogSJ0SJE6LECVHihChxQpQ4IUqcECVOiBInRIkTosQJUeKEKHFClDghSpwQJU6IEidEiROi\nxAlR4oQocUKUOCFKnBAlTogSJ0SJE6LECVHihChxQpQ4IUqcECVOiBInRIkTosQJUeKEKHFClDgh\nSpwQJU6IEidEiROixAlR4oQocUKUOCFKnBAlTogSJ0SJE6LECVHihChxQtTr9AA81+6+9buZuXmS\nv8nmhChxQpQ4IcqZk9u9ezatOnVmtjkhSpwQJU6IEidEiROixAlR4oQocUKUOCFKnBAlTogSJ0SJ\nE6LECVHihChxQpTL1nzk6Renn8TmhChxQpQ4IUqcECVOiBInRIkTosQJUeKEKHFClDghSpwQJU6I\nEidEiROixAlR4oQocUKUOCFKnBAlTogSJ0SJE6L8by1cmJnTI9icUCVOiBInRIkTosQJUeKEKHFC\nlDghSpwQJU6IEidEiROixAlR4oQocUKUOCHKZWs+UriE/F/YnBAlTogSJ0SJE6LECVHihChxQpQ4\nIUqcECVOiBInRIkTosQJUeKEKHFClDghSpwQJU6IEidEiROixAlR4oQocUKUOCFKnBAlTogSJ0SJ\nE6LECVHihChxQpQ4IUqcECVOiBInRIkTosQJUeKEKHFClDghSpwQJU6IEidEiROixAlR4oQocUKU\nOCFKnBAlTogSJ0SJE6LECVHihChxQpQ4IUqcECVOiBInRIkTosQJUeKEKHFClDghSpwQJU6IEidE\niROixAlR4oQocUKUOCFKnBAlTogSJ0SJE6LECVHihChxQpQ4IUqcECVOiBInRIkTosQJUeKEKHFC\nlDghSpwQJU6IEidEiROixAlR4oSo2d3TMwAXbE6IEidEiROixAlR4oQocULUD8EFFNaIaqDgAAAA\nAElFTkSuQmCC\n","text/plain":"<Figure size 432x288 with 1 Axes>"}],"_view_module":"@jupyter-widgets/output","_model_module_version":"1.0.0","_view_count":null,"_view_module_version":"1.0.0","layout":"IPY_MODEL_d6aca64197724690ac4553e37432ed31","_model_module":"@jupyter-widgets/output"}},"c4a0b4dbfe6a448db13cb6944bfdadaf":{"model_module":"@jupyter-widgets/controls","model_name":"SliderStyleModel","state":{"_view_name":"StyleView","handle_color":null,"_model_name":"SliderStyleModel","description_width":"","_view_module":"@jupyter-widgets/base","_model_module_version":"1.5.0","_view_count":null,"_view_module_version":"1.2.0","_model_module":"@jupyter-widgets/controls"}},"d9568e2ea06a4647922ef3fd869b0c30":{"model_module":"@jupyter-widgets/base","model_name":"LayoutModel","state":{"_view_name":"LayoutView","grid_template_rows":null,"right":null,"justify_content":null,"_view_module":"@jupyter-widgets/base","overflow":null,"_model_module_version":"1.2.0","_view_count":null,"flex_flow":null,"width":null,"min_width":null,"border":null,"align_items":null,"bottom":null,"_model_module":"@jupyter-widgets/base","top":null,"grid_column":null,"overflow_y":null,"overflow_x":null,"grid_auto_flow":null,"grid_area":null,"grid_template_columns":null,"flex":null,"_model_name":"LayoutModel","justify_items":null,"grid_row":null,"max_height":null,"align_content":null,"visibility":null,"align_self":null,"height":null,"min_height":null,"padding":null,"grid_auto_rows":null,"grid_gap":null,"max_width":null,"order":null,"_view_module_version":"1.2.0","grid_template_areas":null,"object_position":null,"object_fit":null,"grid_auto_columns":null,"margin":null,"display":null,"left":null}},"4c27209ce69c4cdb905bfe0b84c64940":{"model_module":"@jupyter-widgets/controls","model_name":"SliderStyleModel","state":{"_view_name":"StyleView","handle_color":null,"_model_name":"SliderStyleModel","description_width":"","_view_module":"@jupyter-widgets/base","_model_module_version":"1.5.0","_view_count":null,"_view_module_version":"1.2.0","_model_module":"@jupyter-widgets/controls"}},"d173b020244c47808dc638593131e67d":{"model_module":"@jupyter-widgets/base","model_name":"LayoutModel","state":{"_view_name":"LayoutView","grid_template_rows":null,"right":null,"justify_content":null,"_view_module":"@jupyter-widgets/base","overflow":null,"_model_module_version":"1.2.0","_view_count":null,"flex_flow":null,"width":null,"min_width":null,"border":null,"align_items":null,"bottom":null,"_model_module":"@jupyter-widgets/base","top":null,"grid_column":null,"overflow_y":null,"overflow_x":null,"grid_auto_flow":null,"grid_area":null,"grid_template_columns":null,"flex":null,"_model_name":"LayoutModel","justify_items":null,"grid_row":null,"max_height":null,"align_content":null,"visibility":null,"align_self":null,"height":null,"min_height":null,"padding":null,"grid_auto_rows":null,"grid_gap":null,"max_width":null,"order":null,"_view_module_version":"1.2.0","grid_template_areas":null,"object_position":null,"object_fit":null,"grid_auto_columns":null,"margin":null,"display":null,"left":null}},"92cf7d8f2d8d4529abbb3f38179e6ad3":{"model_module":"@jupyter-widgets/controls","model_name":"SliderStyleModel","state":{"_view_name":"StyleView","handle_color":null,"_model_name":"SliderStyleModel","description_width":"","_view_module":"@jupyter-widgets/base","_model_module_version":"1.5.0","_view_count":null,"_view_module_version":"1.2.0","_model_module":"@jupyter-widgets/controls"}},"46dd7d0bb51744228965b5b24684f624":{"model_module":"@jupyter-widgets/base","model_name":"LayoutModel","state":{"_view_name":"LayoutView","grid_template_rows":null,"right":null,"justify_content":null,"_view_module":"@jupyter-widgets/base","overflow":null,"_model_module_version":"1.2.0","_view_count":null,"flex_flow":null,"width":null,"min_width":null,"border":null,"align_items":null,"bottom":null,"_model_module":"@jupyter-widgets/base","top":null,"grid_column":null,"overflow_y":null,"overflow_x":null,"grid_auto_flow":null,"grid_area":null,"grid_template_columns":null,"flex":null,"_model_name":"LayoutModel","justify_items":null,"grid_row":null,"max_height":null,"align_content":null,"visibility":null,"align_self":null,"height":null,"min_height":null,"padding":null,"grid_auto_rows":null,"grid_gap":null,"max_width":null,"order":null,"_view_module_version":"1.2.0","grid_template_areas":null,"object_position":null,"object_fit":null,"grid_auto_columns":null,"margin":null,"display":null,"left":null}},"52fd0e906d22473f9cafc6cd6a3c55ba":{"model_module":"@jupyter-widgets/controls","model_name":"SliderStyleModel","state":{"_view_name":"StyleView","handle_color":null,"_model_name":"SliderStyleModel","description_width":"","_view_module":"@jupyter-widgets/base","_model_module_version":"1.5.0","_view_count":null,"_view_module_version":"1.2.0","_model_module":"@jupyter-widgets/controls"}},"a5505200c0694fd29a486ccc44395b1e":{"model_module":"@jupyter-widgets/base","model_name":"LayoutModel","state":{"_view_name":"LayoutView","grid_template_rows":null,"right":null,"justify_content":null,"_view_module":"@jupyter-widgets/base","overflow":null,"_model_module_version":"1.2.0","_view_count":null,"flex_flow":null,"width":null,"min_width":null,"border":null,"align_items":null,"bottom":null,"_model_module":"@jupyter-widgets/base","top":null,"grid_column":null,"overflow_y":null,"overflow_x":null,"grid_auto_flow":null,"grid_area":null,"grid_template_columns":null,"flex":null,"_model_name":"LayoutModel","justify_items":null,"grid_row":null,"max_height":null,"align_content":null,"visibility":null,"align_self":null,"height":null,"min_height":null,"padding":null,"grid_auto_rows":null,"grid_gap":null,"max_width":null,"order":null,"_view_module_version":"1.2.0","grid_template_areas":null,"object_position":null,"object_fit":null,"grid_auto_columns":null,"margin":null,"display":null,"left":null}},"48849a18ce0442f7b309e4419d3bebbe":{"model_module":"@jupyter-widgets/controls","model_name":"SliderStyleModel","state":{"_view_name":"StyleView","handle_color":null,"_model_name":"SliderStyleModel","description_width":"","_view_module":"@jupyter-widgets/base","_model_module_version":"1.5.0","_view_count":null,"_view_module_version":"1.2.0","_model_module":"@jupyter-widgets/controls"}},"c5a956b96ec64b79833398549ada255e":{"model_module":"@jupyter-widgets/base","model_name":"LayoutModel","state":{"_view_name":"LayoutView","grid_template_rows":null,"right":null,"justify_content":null,"_view_module":"@jupyter-widgets/base","overflow":null,"_model_module_version":"1.2.0","_view_count":null,"flex_flow":null,"width":null,"min_width":null,"border":null,"align_items":null,"bottom":null,"_model_module":"@jupyter-widgets/base","top":null,"grid_column":null,"overflow_y":null,"overflow_x":null,"grid_auto_flow":null,"grid_area":null,"grid_template_columns":null,"flex":null,"_model_name":"LayoutModel","justify_items":null,"grid_row":null,"max_height":null,"align_content":null,"visibility":null,"align_self":null,"height":null,"min_height":null,"padding":null,"grid_auto_rows":null,"grid_gap":null,"max_width":null,"order":null,"_view_module_version":"1.2.0","grid_template_areas":null,"object_position":null,"object_fit":null,"grid_auto_columns":null,"margin":null,"display":null,"left":null}},"d6aca64197724690ac4553e37432ed31":{"model_module":"@jupyter-widgets/base","model_name":"LayoutModel","state":{"_view_name":"LayoutView","grid_template_rows":null,"right":null,"justify_content":null,"_view_module":"@jupyter-widgets/base","overflow":null,"_model_module_version":"1.2.0","_view_count":null,"flex_flow":null,"width":null,"min_width":null,"border":null,"align_items":null,"bottom":null,"_model_module":"@jupyter-widgets/base","top":null,"grid_column":null,"overflow_y":null,"overflow_x":null,"grid_auto_flow":null,"grid_area":null,"grid_template_columns":null,"flex":null,"_model_name":"LayoutModel","justify_items":null,"grid_row":null,"max_height":null,"align_content":null,"visibility":null,"align_self":null,"height":null,"min_height":null,"padding":null,"grid_auto_rows":null,"grid_gap":null,"max_width":null,"order":null,"_view_module_version":"1.2.0","grid_template_areas":null,"object_position":null,"object_fit":null,"grid_auto_columns":null,"margin":null,"display":null,"left":null}}}}},"cells":[{"cell_type":"markdown","metadata":{"id":"zSOMAHldq2xR","colab_type":"text"},"source":["## Deep Causal Variational Inference\n","\n","### Introduction:\n","To train a supervised variational autoencoder using Deepmind's [dSprites](https://github.com/deepmind/dsprites-dataset) dataset.\n","\n","dSprites is a dataset of sprites, which are 2D shapes procedurally generated from 5 ground truth independent \"factors.\" These factors are color, shape, scale, rotation, x and y positions of a sprite.\n","\n","All possible combinations of these variables are present exactly once, generating N = 737280 total images.\n","\n","Factors and their values:\n","\n","* Shape: 3 values {square, ellipse, heart}\n","* Scale: 6 values linearly spaced in (0.5, 1)\n","* Orientation: 40 values in (0, 2$\\pi$)\n","* Position X: 32 values in (0, 1)\n","* Position Y: 32 values in (0, 1)\n","\n","\n","Further, the objective of any generative model is essentially to capture underlying data generative factors, the disentangled representation would mean a single latent unit being sensitive to variations in single generative factors\n","\n","\n","### Goal:\n","To include the latent factors  as labels in the training and to invent a causal story that relates these factors and the images in a DAG.\n","\n","Reference \n","\n","[Structured Disentangled Representation](https://arxiv.org/pdf/1804.02086.pdf)"]},{"cell_type":"code","metadata":{"id":"tJX3_67KxU6P","colab_type":"code","outputId":"97b042d3-669b-4c23-84d4-3a0c718f6b7d","colab":{"base_uri":"https://localhost:8080/","height":34}},"source":["!git init"],"execution_count":0,"outputs":[{"output_type":"stream","text":["Reinitialized existing Git repository in /content/Causal-Inference/.git/\n"],"name":"stdout"}]},{"cell_type":"code","metadata":{"id":"u2My7MbrweWf","colab_type":"code","colab":{}},"source":["!git add -A"],"execution_count":0,"outputs":[]},{"cell_type":"code","metadata":{"id":"axzLKej9ud2I","colab_type":"code","outputId":"f5d780fd-123a-4c26-ef20-a918c89edba1","colab":{"base_uri":"https://localhost:8080/","height":223}},"source":["!git commit -m “colabcommit”"],"execution_count":0,"outputs":[{"output_type":"stream","text":["\n","*** Please tell me who you are.\n","\n","Run\n","\n","  git config --global user.email \"you@example.com\"\n","  git config --global user.name \"Your Name\"\n","\n","to set your account's default identity.\n","Omit --global to set the identity only in this repository.\n","\n","fatal: unable to auto-detect email address (got 'root@db0082d4c637.(none)')\n"],"name":"stdout"}]},{"cell_type":"code","metadata":{"id":"h0CKRZSu1lcS","colab_type":"code","colab":{}},"source":[""],"execution_count":0,"outputs":[]},{"cell_type":"code","metadata":{"id":"CMhHGoIwCwkN","colab_type":"code","outputId":"180b8fd9-cd80-40b5-ad14-2f714462049a","executionInfo":{"status":"ok","timestamp":1586467550310,"user_tz":240,"elapsed":14796,"user":{"displayName":"Nikson Panigrahi","photoUrl":"","userId":"05743385292178347454"}},"colab":{"base_uri":"https://localhost:8080/","height":582}},"source":["#Install dependencies\n","!pip3 install pyro-ppl\n","!pip3 install torch torchvision\n","!pip3 install pydrive --upgrade\n","!pip3 install tqdm"],"execution_count":0,"outputs":[{"output_type":"stream","text":["Collecting pyro-ppl\n","\u001b[?25l  Downloading https://files.pythonhosted.org/packages/c0/77/4db4946f6b5bf0601869c7b7594def42a7197729167484e1779fff5ca0d6/pyro_ppl-1.3.1-py3-none-any.whl (520kB)\n","\r\u001b[K     |▋                               | 10kB 21.6MB/s eta 0:00:01\r\u001b[K     |█▎                              | 20kB 3.1MB/s eta 0:00:01\r\u001b[K     |█▉                              | 30kB 4.5MB/s eta 0:00:01\r\u001b[K     |██▌                             | 40kB 3.0MB/s eta 0:00:01\r\u001b[K     |███▏                            | 51kB 3.7MB/s eta 0:00:01\r\u001b[K     |███▊                            | 61kB 4.3MB/s eta 0:00:01\r\u001b[K     |████▍                           | 71kB 4.9MB/s eta 0:00:01\r\u001b[K     |█████                           | 81kB 3.9MB/s eta 0:00:01\r\u001b[K     |█████▋                          | 92kB 4.4MB/s eta 0:00:01\r\u001b[K     |██████▎                         | 102kB 4.8MB/s eta 0:00:01\r\u001b[K     |███████                         | 112kB 4.8MB/s eta 0:00:01\r\u001b[K     |███████▌                        | 122kB 4.8MB/s eta 0:00:01\r\u001b[K     |████████▏                       | 133kB 4.8MB/s eta 0:00:01\r\u001b[K     |████████▉                       | 143kB 4.8MB/s eta 0:00:01\r\u001b[K     |█████████▍                      | 153kB 4.8MB/s eta 0:00:01\r\u001b[K     |██████████                      | 163kB 4.8MB/s eta 0:00:01\r\u001b[K     |██████████▊                     | 174kB 4.8MB/s eta 0:00:01\r\u001b[K     |███████████▎                    | 184kB 4.8MB/s eta 0:00:01\r\u001b[K     |████████████                    | 194kB 4.8MB/s eta 0:00:01\r\u001b[K     |████████████▋                   | 204kB 4.8MB/s eta 0:00:01\r\u001b[K     |█████████████▏                  | 215kB 4.8MB/s eta 0:00:01\r\u001b[K     |█████████████▉                  | 225kB 4.8MB/s eta 0:00:01\r\u001b[K     |██████████████▌                 | 235kB 4.8MB/s eta 0:00:01\r\u001b[K     |███████████████                 | 245kB 4.8MB/s eta 0:00:01\r\u001b[K     |███████████████▊                | 256kB 4.8MB/s eta 0:00:01\r\u001b[K     |████████████████▍               | 266kB 4.8MB/s eta 0:00:01\r\u001b[K     |█████████████████               | 276kB 4.8MB/s eta 0:00:01\r\u001b[K     |█████████████████▋              | 286kB 4.8MB/s eta 0:00:01\r\u001b[K     |██████████████████▎             | 296kB 4.8MB/s eta 0:00:01\r\u001b[K     |██████████████████▉             | 307kB 4.8MB/s eta 0:00:01\r\u001b[K     |███████████████████▌            | 317kB 4.8MB/s eta 0:00:01\r\u001b[K     |████████████████████▏           | 327kB 4.8MB/s eta 0:00:01\r\u001b[K     |████████████████████▊           | 337kB 4.8MB/s eta 0:00:01\r\u001b[K     |█████████████████████▍          | 348kB 4.8MB/s eta 0:00:01\r\u001b[K     |██████████████████████          | 358kB 4.8MB/s eta 0:00:01\r\u001b[K     |██████████████████████▋         | 368kB 4.8MB/s eta 0:00:01\r\u001b[K     |███████████████████████▎        | 378kB 4.8MB/s eta 0:00:01\r\u001b[K     |████████████████████████        | 389kB 4.8MB/s eta 0:00:01\r\u001b[K     |████████████████████████▌       | 399kB 4.8MB/s eta 0:00:01\r\u001b[K     |█████████████████████████▏      | 409kB 4.8MB/s eta 0:00:01\r\u001b[K     |█████████████████████████▉      | 419kB 4.8MB/s eta 0:00:01\r\u001b[K     |██████████████████████████▍     | 430kB 4.8MB/s eta 0:00:01\r\u001b[K     |███████████████████████████     | 440kB 4.8MB/s eta 0:00:01\r\u001b[K     |███████████████████████████▊    | 450kB 4.8MB/s eta 0:00:01\r\u001b[K     |████████████████████████████▎   | 460kB 4.8MB/s eta 0:00:01\r\u001b[K     |█████████████████████████████   | 471kB 4.8MB/s eta 0:00:01\r\u001b[K     |█████████████████████████████▋  | 481kB 4.8MB/s eta 0:00:01\r\u001b[K     |██████████████████████████████▏ | 491kB 4.8MB/s eta 0:00:01\r\u001b[K     |██████████████████████████████▉ | 501kB 4.8MB/s eta 0:00:01\r\u001b[K     |███████████████████████████████▌| 512kB 4.8MB/s eta 0:00:01\r\u001b[K     |████████████████████████████████| 522kB 4.8MB/s \n","\u001b[?25hCollecting pyro-api>=0.1.1\n","  Downloading https://files.pythonhosted.org/packages/c2/bc/6cdbd1929e32fff62a33592633c2cc0393c7f7739131ccc9c9c4e28ac8dd/pyro_api-0.1.1-py3-none-any.whl\n","Requirement already satisfied: opt-einsum>=2.3.2 in /usr/local/lib/python3.6/dist-packages (from pyro-ppl) (3.2.0)\n","Requirement already satisfied: torch>=1.4.0 in /usr/local/lib/python3.6/dist-packages (from pyro-ppl) (1.4.0)\n","Requirement already satisfied: numpy>=1.7 in /usr/local/lib/python3.6/dist-packages (from pyro-ppl) (1.18.2)\n","Requirement already satisfied: tqdm>=4.36 in /usr/local/lib/python3.6/dist-packages (from pyro-ppl) (4.38.0)\n","Installing collected packages: pyro-api, pyro-ppl\n","Successfully installed pyro-api-0.1.1 pyro-ppl-1.3.1\n","Requirement already satisfied: torch in /usr/local/lib/python3.6/dist-packages (1.4.0)\n","Requirement already satisfied: torchvision in /usr/local/lib/python3.6/dist-packages (0.5.0)\n","Requirement already satisfied: numpy in /usr/local/lib/python3.6/dist-packages (from torchvision) (1.18.2)\n","Requirement already satisfied: six in /usr/local/lib/python3.6/dist-packages (from torchvision) (1.12.0)\n","Requirement already satisfied: pillow>=4.1.1 in /usr/local/lib/python3.6/dist-packages (from torchvision) (7.0.0)\n","Requirement already up-to-date: pydrive in /usr/local/lib/python3.6/dist-packages (1.3.1)\n","Requirement already satisfied, skipping upgrade: oauth2client>=4.0.0 in /usr/local/lib/python3.6/dist-packages (from pydrive) (4.1.3)\n","Requirement already satisfied, skipping upgrade: PyYAML>=3.0 in /usr/local/lib/python3.6/dist-packages (from pydrive) (3.13)\n","Requirement already satisfied, skipping upgrade: google-api-python-client>=1.2 in /usr/local/lib/python3.6/dist-packages (from pydrive) (1.7.12)\n","Requirement already satisfied, skipping upgrade: pyasn1-modules>=0.0.5 in /usr/local/lib/python3.6/dist-packages (from oauth2client>=4.0.0->pydrive) (0.2.8)\n","Requirement already satisfied, skipping upgrade: pyasn1>=0.1.7 in /usr/local/lib/python3.6/dist-packages (from oauth2client>=4.0.0->pydrive) (0.4.8)\n","Requirement already satisfied, skipping upgrade: httplib2>=0.9.1 in /usr/local/lib/python3.6/dist-packages (from oauth2client>=4.0.0->pydrive) (0.17.1)\n","Requirement already satisfied, skipping upgrade: rsa>=3.1.4 in /usr/local/lib/python3.6/dist-packages (from oauth2client>=4.0.0->pydrive) (4.0)\n","Requirement already satisfied, skipping upgrade: six>=1.6.1 in /usr/local/lib/python3.6/dist-packages (from oauth2client>=4.0.0->pydrive) (1.12.0)\n","Requirement already satisfied, skipping upgrade: google-auth-httplib2>=0.0.3 in /usr/local/lib/python3.6/dist-packages (from google-api-python-client>=1.2->pydrive) (0.0.3)\n","Requirement already satisfied, skipping upgrade: uritemplate<4dev,>=3.0.0 in /usr/local/lib/python3.6/dist-packages (from google-api-python-client>=1.2->pydrive) (3.0.1)\n","Requirement already satisfied, skipping upgrade: google-auth>=1.4.1 in /usr/local/lib/python3.6/dist-packages (from google-api-python-client>=1.2->pydrive) (1.7.2)\n","Requirement already satisfied, skipping upgrade: setuptools>=40.3.0 in /usr/local/lib/python3.6/dist-packages (from google-auth>=1.4.1->google-api-python-client>=1.2->pydrive) (46.1.3)\n","Requirement already satisfied, skipping upgrade: cachetools<3.2,>=2.0.0 in /usr/local/lib/python3.6/dist-packages (from google-auth>=1.4.1->google-api-python-client>=1.2->pydrive) (3.1.1)\n","Requirement already satisfied: tqdm in /usr/local/lib/python3.6/dist-packages (4.38.0)\n"],"name":"stdout"}]},{"cell_type":"code","metadata":{"id":"uNa3MO8GCqWg","colab_type":"code","outputId":"d1ebe068-866e-47a9-d9f8-2103ac5f2fdb","executionInfo":{"status":"ok","timestamp":1586467557697,"user_tz":240,"elapsed":3976,"user":{"displayName":"Nikson Panigrahi","photoUrl":"","userId":"05743385292178347454"}},"colab":{"base_uri":"https://localhost:8080/","height":72}},"source":["# Load necessary libraries\n","from matplotlib import pyplot as plt\n","import numpy as np\n","import seaborn as sns\n","\n","import os\n","from collections import defaultdict\n","\n","import torch\n","import torch.nn as nn\n","\n","from tqdm import tqdm\n","import pyro\n","import pyro.distributions as dist\n","from pyro.infer import SVI, Trace_ELBO, TraceEnum_ELBO, config_enumerate, EmpiricalMarginal\n","from pyro.optim import Adam, SGD\n","import torch.distributions.constraints as constraints\n","\n","# Change figure aesthetics\n","%matplotlib inline\n","sns.set_context('talk', font_scale=1.2, rc={'lines.linewidth': 1.5})\n","\n","from ipywidgets import interact, interactive, fixed, interact_manual\n","import ipywidgets as widgets\n","\n","#to utilize GPU capabilities\n","USE_CUDA = True\n","\n","pyro.enable_validation(True)\n","pyro.distributions.enable_validation(False)"],"execution_count":0,"outputs":[{"output_type":"stream","text":["/usr/local/lib/python3.6/dist-packages/statsmodels/tools/_testing.py:19: FutureWarning: pandas.util.testing is deprecated. Use the functions in the public API at pandas.testing instead.\n","  import pandas.util.testing as tm\n"],"name":"stderr"}]},{"cell_type":"code","metadata":{"id":"nkXRHmSqDFTy","colab_type":"code","outputId":"fff526d4-8ca6-4b36-b6e8-90169cadb01c","executionInfo":{"status":"ok","timestamp":1586467579038,"user_tz":240,"elapsed":20668,"user":{"displayName":"Nikson Panigrahi","photoUrl":"","userId":"05743385292178347454"}},"colab":{"base_uri":"https://localhost:8080/","height":125}},"source":["# Mount Google drive to load data\n","from google.colab import drive\n","drive.mount('/content/gdrive')"],"execution_count":0,"outputs":[{"output_type":"stream","text":["Go to this URL in a browser: https://accounts.google.com/o/oauth2/auth?client_id=947318989803-6bn6qk8qdgf4n4g3pfee6491hc0brc4i.apps.googleusercontent.com&redirect_uri=urn%3aietf%3awg%3aoauth%3a2.0%3aoob&response_type=code&scope=email%20https%3a%2f%2fwww.googleapis.com%2fauth%2fdocs.test%20https%3a%2f%2fwww.googleapis.com%2fauth%2fdrive%20https%3a%2f%2fwww.googleapis.com%2fauth%2fdrive.photos.readonly%20https%3a%2f%2fwww.googleapis.com%2fauth%2fpeopleapi.readonly\n","\n","Enter your authorization code:\n","··········\n","Mounted at /content/gdrive\n"],"name":"stdout"}]},{"cell_type":"code","metadata":{"id":"VIHk1SDXfPpl","colab_type":"code","outputId":"4f6fa8d6-feb1-47d9-c0aa-569fe85ef19b","executionInfo":{"status":"ok","timestamp":1586467581895,"user_tz":240,"elapsed":656,"user":{"displayName":"Nikson Panigrahi","photoUrl":"","userId":"05743385292178347454"}},"colab":{"base_uri":"https://localhost:8080/","height":34}},"source":["cd '/content/gdrive/My Drive/Colab Notebooks/Causal Inference'"],"execution_count":0,"outputs":[{"output_type":"stream","text":["/content/gdrive/My Drive/Colab Notebooks/Causal Inference\n"],"name":"stdout"}]},{"cell_type":"code","metadata":{"id":"KRCLhKI7d2r1","colab_type":"code","colab":{}},"source":["# Mount G drive to access files\n","from pydrive.auth import GoogleAuth\n","from pydrive.drive import GoogleDrive\n","from google.colab import auth\n","from oauth2client.client import GoogleCredentials\n","\n","auth.authenticate_user()\n","gauth = GoogleAuth()\n","gauth.credentials = GoogleCredentials.get_application_default()\n","drive = GoogleDrive(gauth)"],"execution_count":0,"outputs":[]},{"cell_type":"code","metadata":{"id":"cqyc4SqyDLIq","colab_type":"code","outputId":"93ca6646-af1a-4c41-9b86-4e285abcc1ab","executionInfo":{"status":"ok","timestamp":1586467637122,"user_tz":240,"elapsed":29078,"user":{"displayName":"Nikson Panigrahi","photoUrl":"","userId":"05743385292178347454"}},"colab":{"base_uri":"https://localhost:8080/","height":246}},"source":["# Hack to get all available GPU ram.\n","import tensorflow as tf\n","tf.test.gpu_device_name()\n","\n","!ln -sf /opt/bin/nvidia-smi /usr/bin/nvidia-smi\n","!pip install gputil\n","!pip install psutil\n","!pip install humanize\n","import psutil\n","import humanize\n","import os\n","import GPUtil as GPU\n","GPUs = GPU.getGPUs()\n","# XXX: only one GPU on Colab and isn’t guaranteed\n","gpu = GPUs[0]\n","\n","def printm():\n"," process = psutil.Process(os.getpid())\n"," print(\"Gen RAM Free: \" + humanize.naturalsize( psutil.virtual_memory().available ), \" | Proc size: \" + humanize.naturalsize( process.memory_info().rss))\n"," print(\"GPU RAM Free: {0:.0f}MB | Used: {1:.0f}MB | Util {2:3.0f}% | Total {3:.0f}MB\".format(gpu.memoryFree, gpu.memoryUsed, gpu.memoryUtil*100, gpu.memoryTotal))\n","printm()"],"execution_count":0,"outputs":[{"output_type":"stream","text":["Collecting gputil\n","  Downloading https://files.pythonhosted.org/packages/ed/0e/5c61eedde9f6c87713e89d794f01e378cfd9565847d4576fa627d758c554/GPUtil-1.4.0.tar.gz\n","Building wheels for collected packages: gputil\n","  Building wheel for gputil (setup.py) ... \u001b[?25l\u001b[?25hdone\n","  Created wheel for gputil: filename=GPUtil-1.4.0-cp36-none-any.whl size=7413 sha256=df9faeff2455ff751756e59763d30e5497b981bba6615c278d67ff00b46fcb3c\n","  Stored in directory: /root/.cache/pip/wheels/3d/77/07/80562de4bb0786e5ea186911a2c831fdd0018bda69beab71fd\n","Successfully built gputil\n","Installing collected packages: gputil\n","Successfully installed gputil-1.4.0\n","Requirement already satisfied: psutil in /usr/local/lib/python3.6/dist-packages (5.4.8)\n","Requirement already satisfied: humanize in /usr/local/lib/python3.6/dist-packages (0.5.1)\n","Gen RAM Free: 24.3 GB  | Proc size: 3.3 GB\n","GPU RAM Free: 15477MB | Used: 803MB | Util   5% | Total 16280MB\n"],"name":"stdout"}]},{"cell_type":"code","metadata":{"id":"nSkXleG1CqWj","colab_type":"code","colab":{}},"source":["class Encoder(nn.Module):\n","\t\"\"\"\n","    MLPs (multi-layered perceptrons or simple feed-forward networks)\n","    where the provided activation parameter is used on every linear layer except\n","    for the output layer where we use the provided output_activation parameter\n","\t\"\"\"\n","\tdef __init__(self, image_dim, label_dim, z_dim):\n","\t\tsuper(Encoder, self).__init__()\n","\t\t#setup image and label dimensions from the dataset\n","\t\tself.image_dim = image_dim\n","\t\tself.label_dim = label_dim\n","\t\tself.z_dim = z_dim\n","\t\t# setup the three linear transformations used\n","\t\tself.fc1 = nn.Linear(self.image_dim+self.label_dim, 1000)\n","\t\tself.fc2 = nn.Linear(1000, 1000)\n","\t\tself.fc31 = nn.Linear(1000, z_dim)  # mu values\n","\t\tself.fc32 = nn.Linear(1000, z_dim)  # sigma values\n","\t\t# setup the non-linearities\n","\t\tself.softplus = nn.Softplus()\n","\n","\tdef forward(self, xs, ys):\n","\t\txs = xs.reshape(-1, self.image_dim)\n","\t\t#now concatenate the image and label\n","\t\tinputs = torch.cat((xs,ys), -1)\n","\t\t# then compute the hidden units\n","\t\thidden1 = self.softplus(self.fc1(inputs))\n","\t\thidden2 = self.softplus(self.fc2(hidden1))\n","\t\t# then return a mean vector and a (positive) square root covariance\n","\t\t# each of size batch_size x z_dim\n","\t\tz_loc = self.fc31(hidden2)\n","\t\tz_scale = torch.exp(self.fc32(hidden2))\n","\t\treturn z_loc, z_scale\n","\n","\n","class Decoder(nn.Module):\n","\tdef __init__(self, image_dim, label_dim, z_dim):\n","\t\tsuper(Decoder, self).__init__()\n","\t\t# setup the two linear transformations used\n","\t\thidden_dim = 1000\n","\t\tself.fc1 = nn.Linear(z_dim+label_dim, hidden_dim)\n","\t\tself.fc2 = nn.Linear(hidden_dim, hidden_dim)\n","\t\tself.fc3 = nn.Linear(hidden_dim, hidden_dim)\n","\t\tself.fc4 = nn.Linear(hidden_dim, image_dim)\n","\t\t# setup the non-linearities\n","\t\tself.softplus = nn.Softplus()\n","\t\tself.sigmoid = nn.Sigmoid()\n","\n","\tdef forward(self, zs, ys):\n","\t\tinputs = torch.cat((zs, ys),-1)\n","\t\t# then compute the hidden units\n","\t\thidden1 = self.softplus(self.fc1(inputs))\n","\t\thidden2 = self.softplus(self.fc2(hidden1))\n","\t\thidden3 = self.softplus(self.fc3(hidden2))\n","\t\t# return the parameter for the output Bernoulli\n","\t\t# each is of size batch_size x 784\n","\t\tloc_img = self.sigmoid(self.fc4(hidden3))\n","\t\treturn loc_img"],"execution_count":0,"outputs":[]},{"cell_type":"code","metadata":{"id":"Yqj05Mv8CqWm","colab_type":"code","colab":{}},"source":["class CVAE(nn.Module):\n","\t\"\"\"\n","\tThis class encapsulates the parameters (neural networks) and models & guides \n","\tneeded to train a supervised variational auto-encoder \n","\t\"\"\"\n","\tdef __init__(self, config_enum=None, use_cuda=False, aux_loss_multiplier=None):\n","    \n","\t\tsuper(CVAE, self).__init__()\n","\t\tself.image_dim = 64**2\n","\t\tself.label_shape = np.array((1,3,6,40,32,32))\n","\t\tself.label_names = np.array(('color', 'shape', 'scale', 'orientation', 'posX', 'posY'))\n","\t\tself.label_dim = np.sum(self.label_shape)\n","\t\tself.z_dim = 50                                           \n","\t\tself.allow_broadcast = config_enum == 'parallel'\n","\t\tself.use_cuda = use_cuda\n","\t\tself.aux_loss_multiplier = aux_loss_multiplier\n","\t    # define and instantiate the neural networks representing\n","\t    # the paramters of various distributions in the model\n","\t\tself.setup_networks()\n","\n","\tdef setup_networks(self):\n","\t\t\"\"\"\n","\t\tSetup and initialize Encoder and decoder units\n","\t\t\"\"\"\n","\t\tself.encoder = Encoder(self.image_dim, self.label_dim, self.z_dim)\n","\t\tself.decoder = Decoder(self.image_dim, self.label_dim, self.z_dim)\n","\t\t# using GPUs for faster training of the networks\n","\t\tif self.use_cuda:\n","\t\t    self.cuda()\n","\n","\t\n","\tdef model(self, xs, ys):\n","\t\tpyro.module(\"cvae\", self)\n","\t\tbatch_size = xs.size(0)\n","\t\toptions = dict(dtype=xs.dtype, device=xs.device)\n","\t\twith pyro.plate(\"data\"):\n","\t\t\tprior_loc = torch.zeros(batch_size, self.z_dim, **options)\n","\t\t\tprior_scale = torch.ones(batch_size, self.z_dim, **options)\n","\t\t\tzs = pyro.sample(\"z\", dist.Normal(prior_loc, prior_scale).to_event(1))\n","\t\t\t# if the label y (which digit to write) is supervised, sample from the\n","\t\t\t# constant prior, otherwise, observe the value (i.e. score it against the constant prior)\n","\t\t\tloc = self.decoder.forward(zs, self.remap_y(ys))\n","\t\t\tpyro.sample(\"x\", dist.Bernoulli(loc).to_event(1), obs=xs)\n","\t\t  \t# return the loc so we can visualize it later\n","\t\t\treturn loc\n","\n","\tdef f_x(self, nx, loc):\n","\t\tx = pyro.sample('p_x', dist.Bernoulli(loc), obs=nx)\n","\t\treturn pyro.sample('x', dist.Delta(x))\n","\n","\tdef model2(self, xs, ys):\n","\t\tpyro.module(\"cvae\", self)\n","\t\tbatch_size = xs.size(0)\n","\t\toptions = dict(dtype=xs.dtype, device=xs.device)\n","\t\twith pyro.plate(\"data\"):\n","\t\t\tprior_loc = torch.zeros(batch_size, self.z_dim, **options)\n","\t\t\tprior_scale = torch.ones(batch_size, self.z_dim, **options)\n","\t\t\tzs = pyro.sample(\"z\", dist.Normal(prior_loc, prior_scale).to_event(1))\n","\t\t\t# if the label y (which digit to write) is supervised, sample from the\n","\t\t\t# constant prior, otherwise, observe the value (i.e. score it against the constant prior)\n","\t\t\tn_x = pyro.sample(\"n_x\",dist.Uniform(0,1))\n","\t \t\t\n","\t\t\t# return the loc so we can visualize it later\n","\t\t\tloc = self.decoder.forward(zs, self.remap_y(ys))\n","\t\t\tx = self.f_x(n_x,loc, xs)\n","\t\t\treturn loc\n","\n","\tdef guide(self, xs, ys):\n","\t\twith pyro.plate(\"data\"):\n","\t\t\t# sample (and score) the latent handwriting-style with the variational\n","\t\t\t# distribution q(z|x) = normal(loc(x),scale(x))\n","\t\t\tloc, scale = self.encoder.forward(xs, self.remap_y(ys))\n","\t\t\tpyro.sample(\"z\", dist.Normal(loc, scale).to_event(1))\n","\n","\tdef remap_y(self, ys):\n","\t\tnew_ys = []\n","\t\toptions = dict(dtype=ys.dtype, device=ys.device)\n","\t\tfor i, label_length in enumerate(self.label_shape):\n","\t\t    prior = torch.ones(ys.size(0), label_length, **options) / (1.0 * label_length)\n","\t\t    new_ys.append(pyro.sample(\"y_%s\" % self.label_names[i], dist.OneHotCategorical(prior), \n","\t\t                           obs=torch.nn.functional.one_hot(ys[:,i].to(torch.int64), int(label_length))))\n","\t\tnew_ys = torch.cat(new_ys, -1)\n","\t\treturn new_ys.to(torch.float32)\n","\n","\tdef reconstruct_image(self, xs, ys):\n","\t\t# backward\n","\t\tsim_z_loc, sim_z_scale = self.encoder.forward(xs, self.remap_y(ys))\n","\t\tzs = dist.Normal(sim_z_loc, sim_z_scale).to_event(1).sample()\n","\t\t# forward\n","\t\tloc = self.decoder.forward(zs, self.remap_y(ys))\n","\t\treturn dist.Bernoulli(loc).to_event(1).sample()"],"execution_count":0,"outputs":[]},{"cell_type":"code","metadata":{"id":"1mmMe3D8CqWo","colab_type":"code","colab":{}},"source":["def setup_data_loaders(train_x, test_x, train_y, test_y, batch_size=128, use_cuda=False):\n","\ttrain_dset = torch.utils.data.TensorDataset(\n","\t  torch.from_numpy(train_x.astype(np.float32)).reshape(-1, 4096),\n","\t  torch.from_numpy(train_y.astype(np.float32))\n","\t)\n","\ttest_dset = torch.utils.data.TensorDataset(\n","\t  torch.from_numpy(test_x.astype(np.float32)).reshape(-1, 4096),\n","\t  torch.from_numpy(test_y.astype(np.float32))\n","\t)    \n","\tkwargs = {'num_workers': 1, 'pin_memory': use_cuda}\n","\ttrain_loader = torch.utils.data.DataLoader(\n","\t  dataset=train_dset, batch_size=batch_size, shuffle=False, **kwargs\n","\t)\n","\n","\ttest_loader = torch.utils.data.DataLoader(\n","\t  dataset=test_dset, batch_size=batch_size, shuffle=False, **kwargs\n","\t)\n","\treturn {\"train\":train_loader, \"test\":test_loader}"],"execution_count":0,"outputs":[]},{"cell_type":"markdown","metadata":{"id":"8Fcw6f5629IV","colab_type":"text"},"source":["### **Load Dataset**"]},{"cell_type":"code","metadata":{"id":"azMSBtsnCqWr","colab_type":"code","colab":{}},"source":["dataset_zip = np.load(\n","    '/content/gdrive/My Drive/Colab Notebooks/Causal Inference/data/dsprites-dataset/dsprites_ndarray_co1sh3sc6or40x32y32_64x64.npz',\n","    encoding = 'bytes',\n","    allow_pickle=True\n",")\n","\n","imgs = dataset_zip['imgs']\n","labels = dataset_zip['latents_classes']\n","label_sizes = dataset_zip['metadata'][()][b'latents_sizes']\n","label_names = dataset_zip['metadata'][()][b'latents_names']\n","\n","# Sample imgs randomly\n","indices_sampled = np.arange(imgs.shape[0])\n","np.random.shuffle(indices_sampled)\n","imgs_sampled = imgs[indices_sampled]\n","labels_sampled = labels[indices_sampled]\n","\n","data_loaders = setup_data_loaders(\n","    imgs_sampled[1000:],\n","    imgs_sampled[:1000],\n","    labels_sampled[1000:],\n","    labels_sampled[:1000],\n","    batch_size=256,\n","    use_cuda=USE_CUDA\n",")"],"execution_count":0,"outputs":[]},{"cell_type":"code","metadata":{"id":"Eamf-n9hCqWt","colab_type":"code","colab":{}},"source":["def train(svi, train_loader, use_cuda=False):\n","\t# initialize loss accumulator\n","\tepoch_loss = 0.\n","\t# do a training epoch over each mini-batch x returned\n","\t# by the data loader\n","\tfor xs,ys in train_loader:\n","\t  # if on GPU put mini-batch into CUDA memory\n","\t  if use_cuda:\n","\t      xs = xs.cuda()\n","\t      ys = ys.cuda()\n","\t  # do ELBO gradient and accumulate loss\n","\t  epoch_loss += svi.step(xs, ys)\n","\t# return epoch loss\n","\tnormalizer_train = len(train_loader.dataset)\n","\ttotal_epoch_loss_train = epoch_loss / normalizer_train\n","\treturn total_epoch_loss_train\n","\n","def evaluate(svi, test_loader, use_cuda=False):\n","\t# initialize loss accumulator\n","\ttest_loss = 0.\n","\t# compute the loss over the entire test set\n","\tfor xs, ys in test_loader:\n","\t  # if on GPU put mini-batch into CUDA memory\n","\t  if use_cuda:\n","\t      xs = xs.cuda()\n","\t      ys = ys.cuda()\n","\t  # compute ELBO estimate and accumulate loss\n","\t  test_loss += svi.evaluate_loss(xs, ys)\n","\tnormalizer_test = len(test_loader.dataset)\n","\ttotal_epoch_loss_test = test_loss / normalizer_test\n","\treturn total_epoch_loss_test"],"execution_count":0,"outputs":[]},{"cell_type":"code","metadata":{"id":"LR-hW5UzCqWv","colab_type":"code","colab":{}},"source":["# Run options\n","LEARNING_RATE = 1.0e-3\n","\n","# Run only for a single iteration for testing\n","NUM_EPOCHS = 10\n","TEST_FREQUENCY = 5"],"execution_count":0,"outputs":[]},{"cell_type":"markdown","metadata":{"id":"TtCW3_agE7N_","colab_type":"text"},"source":["### **Only run below if re-training model parameters**\n","\n","## =================================================================================="]},{"cell_type":"code","metadata":{"id":"hIuVKC2lCqWx","colab_type":"code","outputId":"8d68c190-6576-46e0-8fb7-dbdffa85d9b7","executionInfo":{"status":"ok","timestamp":1586468654235,"user_tz":240,"elapsed":809271,"user":{"displayName":"Nikson Panigrahi","photoUrl":"","userId":"05743385292178347454"}},"colab":{"base_uri":"https://localhost:8080/","height":246}},"source":["import warnings\n","warnings.filterwarnings('ignore')\n","\n","# clear param store\n","pyro.clear_param_store()\n","\n","# setup the VAE\n","vae = CVAE(use_cuda=USE_CUDA)\n","\n","# setup the optimizer\n","adam_args = {\"lr\": LEARNING_RATE}\n","optimizer = Adam(adam_args)\n","\n","# setup the inference algorithm\n","svi = SVI(vae.model, vae.guide, optimizer, loss=Trace_ELBO())\n","\n","train_elbo = []\n","test_elbo = []\n","# training loop\n","\n","VERBOSE = True\n","pbar = tqdm(range(NUM_EPOCHS))\n","for epoch in pbar:\n","    total_epoch_loss_train = train(svi, data_loaders[\"train\"], use_cuda=USE_CUDA)\n","    train_elbo.append(-total_epoch_loss_train)\n","    if VERBOSE:\n","        print(\"[epoch %03d]  average training loss: %.4f\" % (epoch, total_epoch_loss_train))\n","    if epoch % TEST_FREQUENCY == 0:\n","        # report test diagnostics\n","        total_epoch_loss_test = evaluate(svi, data_loaders[\"test\"], use_cuda=USE_CUDA)\n","        test_elbo.append(-total_epoch_loss_test)\n","        if VERBOSE:\n","            print(\"[epoch %03d] average test loss: %.4f\" % (epoch, total_epoch_loss_test))"],"execution_count":0,"outputs":[{"output_type":"stream","text":["\r  0%|          | 0/10 [00:00<?, ?it/s]"],"name":"stderr"},{"output_type":"stream","text":["[epoch 000]  average training loss: 161.1175\n"],"name":"stdout"},{"output_type":"stream","text":["\r 10%|█         | 1/10 [01:21<12:09, 81.04s/it]"],"name":"stderr"},{"output_type":"stream","text":["[epoch 000] average test loss: 100.6763\n"],"name":"stdout"},{"output_type":"stream","text":["\r 20%|██        | 2/10 [02:41<10:46, 80.79s/it]"],"name":"stderr"},{"output_type":"stream","text":["[epoch 001]  average training loss: 76.5140\n"],"name":"stdout"},{"output_type":"stream","text":["\r 30%|███       | 3/10 [04:01<09:24, 80.62s/it]"],"name":"stderr"},{"output_type":"stream","text":["[epoch 002]  average training loss: 65.0750\n"],"name":"stdout"},{"output_type":"stream","text":["\r 40%|████      | 4/10 [05:22<08:04, 80.82s/it]"],"name":"stderr"},{"output_type":"stream","text":["[epoch 003]  average training loss: 42.8952\n"],"name":"stdout"},{"output_type":"stream","text":["\r 50%|█████     | 5/10 [06:43<06:43, 80.70s/it]"],"name":"stderr"},{"output_type":"stream","text":["[epoch 004]  average training loss: 33.8133\n","[epoch 005]  average training loss: 29.8230\n"],"name":"stdout"},{"output_type":"stream","text":["\r 60%|██████    | 6/10 [08:04<05:23, 80.83s/it]"],"name":"stderr"},{"output_type":"stream","text":["[epoch 005] average test loss: 29.5853\n"],"name":"stdout"},{"output_type":"stream","text":["\r 70%|███████   | 7/10 [09:26<04:03, 81.09s/it]"],"name":"stderr"},{"output_type":"stream","text":["[epoch 006]  average training loss: 24.1769\n"],"name":"stdout"},{"output_type":"stream","text":["\r 80%|████████  | 8/10 [10:47<02:42, 81.25s/it]"],"name":"stderr"},{"output_type":"stream","text":["[epoch 007]  average training loss: 18.7840\n"],"name":"stdout"},{"output_type":"stream","text":["\r 90%|█████████ | 9/10 [12:08<01:21, 81.07s/it]"],"name":"stderr"},{"output_type":"stream","text":["[epoch 008]  average training loss: 17.6398\n"],"name":"stdout"},{"output_type":"stream","text":["100%|██████████| 10/10 [13:29<00:00, 80.90s/it]"],"name":"stderr"},{"output_type":"stream","text":["[epoch 009]  average training loss: 16.7284\n"],"name":"stdout"},{"output_type":"stream","text":["\n"],"name":"stderr"}]},{"cell_type":"markdown","metadata":{"id":"navbYZazFD0E","colab_type":"text"},"source":["## =================================================================================="]},{"cell_type":"code","metadata":{"id":"puMbph4idkYg","colab_type":"code","outputId":"4c003053-bdb3-45c1-85e0-1c26281c35c3","executionInfo":{"status":"ok","timestamp":1586467766336,"user_tz":240,"elapsed":2303,"user":{"displayName":"Nikson Panigrahi","photoUrl":"","userId":"05743385292178347454"}},"colab":{"base_uri":"https://localhost:8080/","height":34}},"source":["#################################\n","### FOR SAVING AND LOADING MODEL\n","################################\n","# clear param store\n","\n","pyro.clear_param_store()\n","\n","network_path = \"/content/gdrive/My Drive/Colab Notebooks/Causal Inference/trained_model.save\"\n","\n","#PATH = \"/content/gdrive/My Drive/causalvae/trained_model.save\"\n","\n","# new model\n","vae = CVAE(use_cuda=USE_CUDA)\n","\n","# save current model\n","torch.save(vae.state_dict(), network_path)\n","\n","# to load params from trained model\n","vae.load_state_dict(torch.load(network_path))"],"execution_count":0,"outputs":[{"output_type":"execute_result","data":{"text/plain":["<All keys matched successfully>"]},"metadata":{"tags":[]},"execution_count":14}]},{"cell_type":"markdown","metadata":{"id":"aFnfYMd3CqW0","colab_type":"text"},"source":["## Visualizing the reconstruction accuracy of VAE"]},{"cell_type":"code","metadata":{"id":"nIt0T2eUCqW0","colab_type":"code","colab":{}},"source":["import warnings\n","warnings.filterwarnings(\"ignore\")\n","\n","data_iter = iter(data_loaders[\"train\"])\n","xs, ys = next(data_iter)\n","\n","if USE_CUDA:\n","    xs = xs.cuda()\n","    ys = ys.cuda()\n","rs = vae.reconstruct_image(xs, ys)\n","\n","if USE_CUDA:\n","    xs = xs.cpu()\n","    rs = rs.cpu()\n","    \n","originals = xs.numpy().reshape(-1, 64,64)\n","recons = rs.reshape(-1,64,64)"],"execution_count":0,"outputs":[]},{"cell_type":"code","metadata":{"id":"1YBT2lo7CqW2","colab_type":"code","outputId":"1735b468-dbd1-498c-d03b-290ae6503c85","executionInfo":{"status":"ok","timestamp":1586467785010,"user_tz":240,"elapsed":421,"user":{"displayName":"Nikson Panigrahi","photoUrl":"","userId":"05743385292178347454"}},"colab":{"base_uri":"https://localhost:8080/","height":233,"referenced_widgets":["09debf13c83a43d7888b7aa22952748b","e4b058901e64425488da09b774ec8cb6","673af99fe5974065aa7666ed555356f3","d5c77689f22c4b819734c65670cabf63","58f253eb7eeb457e9e7d44df1ae21dd0","0cf5f1cd71e74570be9314369bf402a2","cbaf40b79886424ab2a5f756081be714"]}},"source":["# [ 0,  2,  1, 34,  4, 24]\n","def recon_check(original, recon):\n","  fig = plt.figure()\n","  ax0 = fig.add_subplot(121)\n","  plt.imshow(original, cmap='Greys_r',  interpolation='nearest')\n","  plt.axis('off')\n","  ax1 = fig.add_subplot(122)\n","  plt.imshow(recon , cmap='Greys_r', interpolation='nearest')\n","  plt.axis('off')\n","  \n","def f(x):\n","    fig = plt.figure()\n","    ax0 = fig.add_subplot(121)\n","    plt.imshow(originals[x], cmap='Greys_r',  interpolation='nearest')\n","    plt.axis('off')\n","    ax1 = fig.add_subplot(122)\n","    plt.imshow(recons[x], cmap='Greys_r',  interpolation='nearest')\n","    plt.axis('off')\n","    \n","interact(f, x=widgets.IntSlider(min=0, max=xs.shape[0], step=1, value=0))"],"execution_count":0,"outputs":[{"output_type":"display_data","data":{"application/vnd.jupyter.widget-view+json":{"model_id":"09debf13c83a43d7888b7aa22952748b","version_minor":0,"version_major":2},"text/plain":["interactive(children=(IntSlider(value=0, description='x', max=256), Output()), _dom_classes=('widget-interact'…"]},"metadata":{"tags":[]}},{"output_type":"execute_result","data":{"text/plain":["<function __main__.f>"]},"metadata":{"tags":[]},"execution_count":16}]},{"cell_type":"code","metadata":{"id":"EVCzRnuIzNpL","colab_type":"code","outputId":"04c56879-8df8-4d64-fc3c-0ccc91382e38","colab":{"base_uri":"https://localhost:8080/","height":425,"referenced_widgets":["39fb7a1065324fdb8380606d29c74f45","3febcc4bf9e548b38a01b757f1411a61","b26767d4823f402a8dd316a28f3fb632","352b3c1c9b70422c93b3a770124d4036","c786b99736b34347ad642be6cb1525a1","d1d245f399344248b8caf6edebced4e8","8b91df243ad04127bd57029d472f9009","46914fe5f50a4083babb184cf57e55e6","c4a0b4dbfe6a448db13cb6944bfdadaf","d9568e2ea06a4647922ef3fd869b0c30","4c27209ce69c4cdb905bfe0b84c64940","d173b020244c47808dc638593131e67d","92cf7d8f2d8d4529abbb3f38179e6ad3","46dd7d0bb51744228965b5b24684f624","52fd0e906d22473f9cafc6cd6a3c55ba","a5505200c0694fd29a486ccc44395b1e","48849a18ce0442f7b309e4419d3bebbe","c5a956b96ec64b79833398549ada255e","d6aca64197724690ac4553e37432ed31"]}},"source":["y_names = ['shape', 'scale', 'orientation', 'posX', 'posY']\n","y_shapes = np.array((3,6,40,32,32))\n","img_dict = {}\n","\n","for i, img in enumerate(imgs_sampled):\n","     img_dict[tuple(labels_sampled[i])] = img\n","\n","def find_in_dataset(shape, scale, orient, posX, posY):\n","  fig = plt.figure()\n","  img = img_dict[(0, shape, scale, orient, posX, posY)]\n","  plt.imshow(img.reshape(64,64), cmap='Greys_r', interpolation='nearest')\n","  plt.axis('off')\n","\n","interact(find_in_dataset, \n","         shape=widgets.IntSlider(min=0, max=2, step=1, value=0),\n","         scale=widgets.IntSlider(min=0, max=5, step=1, value=0),\n","         orient=widgets.IntSlider(min=0, max=39, step=1, value=0),\n","         posX=widgets.IntSlider(min=0, max=31, step=1, value=0),\n","         posY=widgets.IntSlider(min=0, max=31, step=1, value=0))"],"execution_count":0,"outputs":[{"output_type":"display_data","data":{"application/vnd.jupyter.widget-view+json":{"model_id":"39fb7a1065324fdb8380606d29c74f45","version_minor":0,"version_major":2},"text/plain":["interactive(children=(IntSlider(value=0, description='shape', max=2), IntSlider(value=0, description='scale', …"]},"metadata":{"tags":[]}},{"output_type":"execute_result","data":{"text/plain":["<function __main__.find_in_dataset>"]},"metadata":{"tags":[]},"execution_count":21}]},{"cell_type":"code","metadata":{"id":"1EueLb0OzSDm","colab_type":"code","outputId":"236b0b9b-c61d-49a3-e971-f5e7eb33d499","colab":{"base_uri":"https://localhost:8080/","height":279}},"source":["def get_specific_data(args=dict(), cuda=False):\n","    '''\n","    use this function to get examples of data with specific class labels\n","    inputs: \n","        args - dictionary whose keys can include {shape, scale, orientation,\n","                posX, posY} and values can include any integers less than the \n","                corresponding size of that label dimension\n","        cuda - bool to indicate whether the output should be placed on GPU\n","    '''\n","    names_dict = {'shape': 1, 'scale': 2, 'orientation': 3, 'posX': 4, 'posY': 5}\n","    selected_ind = np.ones(imgs.shape[0], dtype=bool)\n","    for k,v in args.items():\n","        col_id = names_dict[k]\n","        selected_ind = np.bitwise_and(selected_ind, labels[:, col_id] == v)\n","    ind = np.random.choice(np.arange(imgs.shape[0])[selected_ind])\n","    x = torch.from_numpy(imgs[ind].reshape(1,64**2).astype(np.float32))\n","    y = torch.from_numpy(labels[ind].reshape(1,6).astype(np.float32))\n","    if not cuda:\n","        return x,y\n","    x = x.cuda()\n","    y = y.cuda()\n","    return x,y\n","\n","def plot_image(x):\n","    \"\"\"\n","    helper to plot dSprites images\n","    \"\"\"\n","    x = x.cpu()\n","    plt.figure()\n","    plt.imshow(x.reshape(64,64), interpolation='nearest', cmap='Greys_r')\n","    plt.axis('off')\n","\n","def see_specific_image(args=dict(), verbose=True):\n","    '''\n","    use this function to get examples of data with specific class labels\n","    inputs: \n","        args - dictionary whose keys can include {shape, scale, orientation,\n","                posX, posY} and values can include any integers less than the \n","                corresponding size of that label dimension\n","        verbose - bool to indicate whether the full class label should be written \n","                    as the title of the plot\n","    '''\n","    x,y = get_specific_data(args, cuda=False)\n","    plot_image(x)\n","    if verbose:\n","        string = ''\n","        for i, s in enumerate(['Shape', 'Scale', 'Orientation', 'PosX', 'PosY']):\n","            string += '%s: %d, ' % (s, int(y[0][i+1]))\n","            if i == 2:\n","                string = string[:-2] + '\\n'\n","        plt.title(string[:-2], fontsize=12)\n","        \n","def compare_reconstruction(original, recon):\n","    \"\"\"\n","    compare two images side by side\n","    inputs:\n","        original - array for original image\n","        recon - array for recon image\n","    \"\"\"\n","    fig = plt.figure()\n","    ax0 = fig.add_subplot(121)\n","    plt.imshow(original.cpu().reshape(64,64), cmap='Greys_r',  interpolation='nearest')\n","    plt.axis('off')\n","    plt.title('original')\n","    ax1 = fig.add_subplot(122)\n","    plt.imshow(recon.cpu().reshape(64,64), cmap='Greys_r',  interpolation='nearest')\n","    plt.axis('off')\n","    plt.title('reconstruction')\n","    \n","def compare_to_density(original, recons):\n","    \"\"\"\n","    compare two images side by side\n","    inputs:\n","        original - array for original image\n","        recon - array of multiple recon images\n","    \"\"\"\n","    fig = plt.figure()\n","    ax0 = fig.add_subplot(121)\n","    plt.imshow(original.cpu().reshape(64,64), cmap='Greys_r',  interpolation='nearest')\n","    plt.axis('off')\n","    plt.title('original')\n","    ax1 = fig.add_subplot(122)\n","    plt.imshow(torch.mean(recons.cpu(), 0).reshape(64,64), cmap='Greys_r',  interpolation='nearest')\n","    plt.axis('off')\n","    plt.title('reconstructions')\n","\n","        \n","see_specific_image()"],"execution_count":0,"outputs":[{"output_type":"display_data","data":{"image/png":"iVBORw0KGgoAAAANSUhEUgAAAOcAAAEGCAYAAACem4KzAAAABHNCSVQICAgIfAhkiAAAAAlwSFlz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\nRU5ErkJggg==\n","text/plain":["<Figure size 432x288 with 1 Axes>"]},"metadata":{"tags":[]}}]},{"cell_type":"code","metadata":{"id":"OkB6V4LjESxV","colab_type":"code","outputId":"529c6b4b-5588-479e-e3e5-216208e6a794","colab":{"base_uri":"https://localhost:8080/","height":34}},"source":["label_dims = vae.label_shape\n","label_dim_offsets = np.cumsum(label_dims)\n","label_dim_offsets"],"execution_count":0,"outputs":[{"output_type":"execute_result","data":{"text/plain":["array([  1,   4,  10,  50,  82, 114])"]},"metadata":{"tags":[]},"execution_count":24}]},{"cell_type":"code","metadata":{"id":"VXhaIdcBEHnS","colab_type":"code","colab":{}},"source":["class SCM():\n","    \"\"\"\n","    Structural causal model\n","    \n","    args: \n","      vae: instance of vae\n","      mu: loc of q(z|x) given by the vae encoder\n","      sigma: scale of q(z|x) given by the vae encoder\n","    \n","    \"\"\"\n","    def __init__(self, vae, mu, sigma):\n","        \"\"\"\n","        Constructor\n","        \n","        Intializes :\n","          image dimensions - 4096(64*64), \n","          z dimensions: size of the tensor representing the latent random variable z, \n","          label dimensions: 114 labels y that correspond to an image(one hot encoded)\n","          f(x) = p(x|y,z)\n","          Noise variables in the model N_#\n","        \"\"\"\n","        self.vae = vae\n","        self.image_dim = vae.image_dim\n","        self.z_dim = vae.z_dim\n","        # these are used for f_X\n","        self.label_dims = vae.label_shape\n","        \n","        def f_X(Y, Z, N):\n","            \"\"\"\n","            Generating one hots for the factors\n","            \"\"\" \n","            zs = Z.cuda()\n","            # convert the labels to one hot\n","            ys = [torch.tensor([0])]\n","            ys.append(torch.nn.functional.one_hot(torch.round(Y[0]).to(torch.long), int(self.label_dims[1])))\n","            ys.append(torch.nn.functional.one_hot(torch.round(Y[1]).to(torch.long), int(self.label_dims[2])))\n","            ys.append(torch.nn.functional.one_hot(torch.round(Y[2]).to(torch.long), int(self.label_dims[3])))\n","            ys.append(torch.nn.functional.one_hot(torch.round(Y[3]).to(torch.long), int(self.label_dims[4])))\n","            ys.append(torch.nn.functional.one_hot(torch.round(Y[4]).to(torch.long), int(self.label_dims[5])))\n","            ys = torch.cat(ys).to(torch.float32).reshape(1,-1).cuda()\n","            p = vae.decoder.forward(zs, ys)\n","            return (N < p.cpu()).type(torch.float)\n","        \n","        def f_Y(N):\n","            \"\"\"\n","            Gumbel distribution - to model the distribution of the maximum of a number of samples\n","            m = Gumbel(torch.tensor([1.0]), torch.tensor([2.0])).sample() # sample from Gumbel distribution with loc=1, scale=2\n","            tensor([ 1.0124])\n","            \n","            https://pytorch.org/docs/stable/_modules/torch/distributions/gumbel.html\n","            \"\"\"\n","#             m = torch.distributions.gumbel.Gumbel(torch.zeros(N.size(0)), torch.ones(N.size(0)))\n","            beta = 12\n","            indices = torch.tensor(np.arange(N.size(0))).to(torch.float32)\n","            smax = nn.functional.softmax(beta*N)\n","            argmax_ind = torch.sum(smax*indices)\n","            return argmax_ind\n","        \n","        def f_Z(N):\n","            \"\"\"\n","            Z ~ Normal(mu, sigma) \n","            \"\"\"\n","            return N * sigma + mu\n","        \n","        def model(noise): \n","            \"\"\"\n","            The model corresponds to a generative process\n","            \n","            args: noise variables\n","            return: X(image), Y(labels), Z(latents) \n","            \"\"\"\n","            N_X = pyro.sample( 'N_X', noise['N_X'].to_event(1) )\n","            # denoted using the index in the sequence \n","            # that they are stored in as vae.label_names:\n","            # ['shape', 'scale', 'orientation', 'posX', 'posY']\n","            N_Y_1 = pyro.sample( 'N_Y_1', noise['N_Y_1'].to_event(1) )\n","            N_Y_2 = pyro.sample( 'N_Y_2', noise['N_Y_2'].to_event(1) )\n","            N_Y_3 = pyro.sample( 'N_Y_3', noise['N_Y_3'].to_event(1) )\n","            N_Y_4 = pyro.sample( 'N_Y_4', noise['N_Y_4'].to_event(1) )\n","            N_Y_5 = pyro.sample( 'N_Y_5', noise['N_Y_5'].to_event(1) )\n","            \n","            # Z ~ Normal(Nx_mu, Nx_sigma)              \n","            N_Z = pyro.sample( 'N_Z', noise['N_Z'].to_event(1) )\n","            Z = pyro.sample('Z', dist.Normal( f_Z( N_Z ), 1e-1).to_event(1) )\n","            \n","            # Y ~ Gumbel max of Ny             \n","#             Y_1_mu = f_Y(N_Y_1)\n","#             Y_2_mu = f_Y(N_Y_2)\n","#             Y_3_mu = f_Y(N_Y_3)\n","#             Y_4_mu = f_Y(N_Y_4)\n","#             Y_5_mu = f_Y(N_Y_5)\n","       \n","            Y_1 = pyro.sample('Y_1', dist.Normal( f_Y(N_Y_1), 1e-2) )\n","            Y_2 = pyro.sample('Y_2', dist.Normal( f_Y(N_Y_2), 1e-1) )\n","            Y_3 = pyro.sample('Y_3', dist.Normal( f_Y(N_Y_3), 1e-1) )\n","            Y_4 = pyro.sample('Y_4', dist.Normal( f_Y(N_Y_4), 1e-1) )\n","            Y_5 = pyro.sample('Y_5', dist.Normal( f_Y(N_Y_5), 1e-1) )\n","            \n","#             Y_mu = (Y_1_mu, Y_2_mu, Y_3_mu, Y_4_mu, Y_5_mu)\n","            \n","            # X ~ p(x|y,z) = bernoulli(loc(y,z))             \n","            X = pyro.sample('X', dist.Normal( f_X( (Y_1, Y_2, Y_3,Y_4,Y_5), Z, N_X ), 1e-2).to_event(1))\n","            \n","            # return noise and variables\n","            noise_samples = N_X, (N_Y_1, N_Y_2, N_Y_3, N_Y_4, N_Y_5), N_Z\n","            variable_samples = X, (Y_1, Y_2, Y_3, Y_4, Y_5), Z\n","            return variable_samples, noise_samples\n","        \n","        self.model = model\n","        #Initialize all noise variables in the model         \n","        self.init_noise = {\n","            'N_X'   : dist.Uniform(torch.zeros(vae.image_dim), torch.ones(vae.image_dim)),\n","            'N_Z'   : dist.Normal(torch.zeros(vae.z_dim), torch.ones(vae.z_dim)),\n","            'N_Y_1' : dist.Uniform(torch.zeros(self.label_dims[1]),torch.ones(self.label_dims[1])),\n","            'N_Y_2' : dist.Uniform(torch.zeros(self.label_dims[2]),torch.ones(self.label_dims[2])),\n","            'N_Y_3' : dist.Uniform(torch.zeros(self.label_dims[3]),torch.ones(self.label_dims[3])),\n","            'N_Y_4' : dist.Uniform(torch.zeros(self.label_dims[4]),torch.ones(self.label_dims[4])),\n","            'N_Y_5' : dist.Uniform(torch.zeros(self.label_dims[5]),torch.ones(self.label_dims[5]))            \n","        }\n","        \n","    def update_noise_svi(self, obs_data, intervened_model=None):\n","        \"\"\"\n","        Use svi to find out the mu, sigma of the distributionsfor the \n","        condition outlined in obs_data\n","        \"\"\"\n","        \n","        def guide(noise):\n","            \"\"\"\n","            The guide serves as an approximation to the posterior p(z|x). \n","            The guide provides a valid joint probability density over all the \n","            latent random variables in the model.\n","            \n","            https://pyro.ai/examples/svi_part_i.html\n","            \"\"\"\n","            # create params with constraints\n","            mu = {\n","                'N_X': pyro.param('N_X_mu', 0.5*torch.ones(self.image_dim),constraint = constraints.interval(0., 1.)),\n","                'N_Z': pyro.param('N_Z_mu', torch.zeros(self.z_dim),constraint = constraints.interval(-3., 3.)),\n","                'N_Y_1': pyro.param('N_Y_1_mu', 0.5*torch.ones(self.label_dims[1]),constraint = constraints.interval(0., 1.)),\n","                'N_Y_2': pyro.param('N_Y_2_mu', 0.5*torch.ones(self.label_dims[2]),constraint = constraints.interval(0., 1.)),\n","                'N_Y_3': pyro.param('N_Y_3_mu', 0.5*torch.ones(self.label_dims[3]),constraint = constraints.interval(0., 1.)),\n","                'N_Y_4': pyro.param('N_Y_4_mu', 0.5*torch.ones(self.label_dims[4]),constraint = constraints.interval(0., 1.)),\n","                'N_Y_5': pyro.param('N_Y_5_mu', 0.5*torch.ones(self.label_dims[5]),constraint = constraints.interval(0., 1.))\n","                }\n","            sigma = {\n","                'N_X': pyro.param('N_X_sigma', 0.1*torch.ones(self.image_dim),constraint = constraints.interval(0.0001, 0.5)),\n","                'N_Z': pyro.param('N_Z_sigma', torch.ones(self.z_dim),constraint = constraints.interval(0.0001, 3.)),\n","                'N_Y_1': pyro.param('N_Y_1_sigma', 0.1*torch.ones(self.label_dims[1]),constraint = constraints.interval(0.0001, 0.5)),\n","                'N_Y_2': pyro.param('N_Y_2_sigma', 0.1*torch.ones(self.label_dims[2]),constraint = constraints.interval(0.0001, 0.5)),\n","                'N_Y_3': pyro.param('N_Y_3_sigma', 0.1*torch.ones(self.label_dims[3]),constraint = constraints.interval(0.0001, 0.5)),\n","                'N_Y_4': pyro.param('N_Y_4_sigma', 0.1*torch.ones(self.label_dims[4]),constraint = constraints.interval(0.0001, 0.5)),\n","                'N_Y_5': pyro.param('N_Y_5_sigma', 0.1*torch.ones(self.label_dims[5]),constraint = constraints.interval(0.0001, 0.5))\n","                }\n","            for noise_term in noise.keys():\n","                pyro.sample(noise_term, dist.Normal(mu[noise_term], sigma[noise_term]).to_event(1))\n","        \n","        # Condition the model\n","        if intervened_model is not None:\n","          obs_model = pyro.condition(intervened_model, obs_data)\n","        else:\n","          obs_model = pyro.condition(self.model, obs_data)\n","          \n","        pyro.clear_param_store()\n","\n","        # Once we’ve specified a guide, we’re ready to proceed to inference. \n","        # Now, this an optimization problem where each iteration of training takes  \n","        # a step that moves the guide closer to the exact posterior \n","        \n","        # https://arxiv.org/pdf/1601.00670.pdf\n","        svi = SVI(\n","            model= obs_model,\n","            guide= guide,\n","            optim= SGD({\"lr\": 1e-5, 'momentum': 0.1}),\n","            loss=Trace_ELBO(retain_graph=True)\n","        )\n","        \n","        num_steps = 1500\n","        samples = defaultdict(list)\n","        for t in range(num_steps):\n","            loss = svi.step(self.init_noise)\n","#             if t % 100 == 0:\n","#                 print(\"step %d: loss of %.2f\" % (t, loss))\n","            for noise in self.init_noise.keys():\n","                mu = '{}_mu'.format(noise)\n","                sigma = '{}_sigma'.format(noise)\n","                samples[mu].append(pyro.param(mu).detach().numpy())\n","                samples[sigma].append(pyro.param(sigma).detach().numpy())\n","        means = {k: torch.tensor(np.array(v).mean(axis=0)) for k, v in samples.items()}\n","        \n","        # update the inferred noise\n","        updated_noise = {\n","            'N_X'  : dist.Normal(means['N_X_mu'], means['N_X_sigma']),\n","            'N_Z'  : dist.Normal(means['N_Z_mu'], means['N_Z_sigma']),\n","            'N_Y_1': dist.Normal(means['N_Y_1_mu'], means['N_Y_1_sigma']),\n","            'N_Y_2': dist.Normal(means['N_Y_2_mu'], means['N_Y_2_sigma']),\n","            'N_Y_3': dist.Normal(means['N_Y_3_mu'], means['N_Y_3_sigma']),\n","            'N_Y_4': dist.Normal(means['N_Y_4_mu'], means['N_Y_4_sigma']),\n","            'N_Y_5': dist.Normal(means['N_Y_5_mu'], means['N_Y_5_sigma']),\n","        }\n","        return updated_noise\n","        \n","    def __call__(self):\n","        return self.model(self.init_noise)"],"execution_count":0,"outputs":[]},{"cell_type":"markdown","metadata":{"id":"lk7vAe8byP5G","colab_type":"text"},"source":["## Sanity check: 1\n","### Making sure VAE works"]},{"cell_type":"code","metadata":{"id":"TDI4enwfEPCY","colab_type":"code","outputId":"005cdd49-cccb-47e0-fff8-5d873ca84771","colab":{"base_uri":"https://localhost:8080/","height":265}},"source":["# Generate an instance of dSprites image \n","ox, y = get_specific_data(cuda=True)\n","plot_image(ox)\n","# Pass it through VAE to get q(z|x) => N(mu, sigma)\n","mu, sigma = vae.encoder.forward(ox,vae.remap_y(y))\n","# Feed these params to our custom SCM\n","scm = SCM(vae, mu.cpu(), sigma.cpu())\n","print(y)\n","# Check for reconstruction\n"],"execution_count":0,"outputs":[{"output_type":"stream","text":["tensor([[ 0.,  2.,  0.,  9.,  1., 25.]], device='cuda:0')\n"],"name":"stdout"},{"output_type":"display_data","data":{"image/png":"iVBORw0KGgoAAAANSUhEUgAAAOcAAADnCAYAAADl9EEgAAAABHNCSVQICAgIfAhkiAAAAAlwSFlz\nAAALEgAACxIB0t1+/AAAADh0RVh0U29mdHdhcmUAbWF0cGxvdGxpYiB2ZXJzaW9uMy4yLjEsIGh0\ndHA6Ly9tYXRwbG90bGliLm9yZy+j8jraAAADIUlEQVR4nO3dwWrCUBBA0b7i///ydCsSFGw0N+Gc\npaUlm8vMKNI1Mz9Az+/RDwBsEydEiROixAlR4oSo27MfrrW8lQsfNjNr63WTE6LECVHihChxQpQ4\nIUqcECVOiBInRIkTosQJUeKEKHFClDghSpwQJU6IEidEiROixAlR4oQocUKUOCFKnBAlTogSJ0SJ\nE6LECVHihChxQpQ4IUqcECVOiBInRIkTosQJUeKEKHFClDghSpwQJU6IEidEiROixAlR4oQocUKU\nOCFKnBAlTogSJ0SJE6LECVHihChxQpQ4IUqcECVOiBInRIkTosQJUeKEKHFClDghSpwQJU6IEidE\niROixAlR4oQocUKUOCFKnBAlTogSJ0SJE6LECVHihChxQpQ4IUqcECVOiBInRIkTosQJUeKEKHFC\nlDghSpwQJU6IEidEiROixAlR4oQocUKUOCFKnBAlTogSJ0SJE6LECVHihChxQpQ4IUqcECVOiBIn\nRIkTosQJUeKEKHFClDghSpwQJU6IEidEiROixAlR4oQocUKUOCFKnBAlTogSJ0SJE6LECVHihChx\nQpQ4Iep29APsaWbe+r211s5PAv9nckKUOCHqUmvtu+7XYSsuFSYnRIkTosQJUW7OB48fx7hBOYrJ\nCVHihChr7Qs+ZuEoJidEiROixAlRl7o5n92E735j5dnfcIPySSYnRIkToi611u6xukKFyQlR4oSo\n06+131xlvTvLN5mcECVOiBInRJ3+5tybu5IKkxOixAlRp19r79dQ/46BKzE5IUqcECVOiDr9zXnP\n7ciVmJwQJU6IEidEiROixAlR4oQocUKUOCFKnBAlTogSJ0SJE6LECVHihChxQpQ4IUqcECVOiBIn\nRIkTosQJUeKEKHFClDghSpwQJU6IEidEiROixAlR4oQocUKUOCFKnBAlTogSJ0SJE6LECVHihChx\nQpQ4IUqcECVOiBInRIkTosQJUeKEKHFClDghSpwQJU6IEidEiROixAlR4oQocUKUOCFKnBAlTogS\nJ0SJE6LWzBz9DMAGkxOixAlR4oQocUKUOCFKnBD1ByPxJuPeQSSTAAAAAElFTkSuQmCC\n","text/plain":["<Figure size 432x288 with 1 Axes>"]},"metadata":{"tags":[]}}]},{"cell_type":"markdown","metadata":{"id":"B1rkIEyL-357","colab_type":"text"},"source":["## Sanity check 2\n","\n","### To check if the decoder is able to generate the image if the latents are changed:\n","#### To achieve this we manually change the labels in the code and run it through the decoder and check for reconstruction"]},{"cell_type":"code","metadata":{"id":"1CcO36iqEf_T","colab_type":"code","outputId":"162195e4-8749-4c90-af6d-f16feca23429","colab":{"base_uri":"https://localhost:8080/","height":427}},"source":["original, y_original = get_specific_data(cuda=True)\n","print('top: ',y_original)\n","mu, sigma = vae.encoder.forward(original,vae.remap_y(y_original))\n","B = 100\n","zs = torch.cat([dist.Normal(mu.cpu(), sigma.cpu()).sample() for a in range(B)], 0)\n","ys = torch.cat([vae.remap_y(y_original) for a in range(B)], 0)\n","rs = vae.decoder.forward(zs.cuda(), ys).detach()\n","compare_to_density(original,rs)\n","\n","y_new = torch.tensor(y_original)\n","y_new[0,1] = (y_original[0,1] + 1) % 2\n","print('bottom: ', y_new)\n","zs = torch.cat([dist.Normal(mu.cpu(), sigma.cpu()).sample() for a in range(B)], 0)\n","ys = torch.cat([vae.remap_y(y_new) for a in range(B)], 0)\n","rs = vae.decoder.forward(zs.cuda(), ys).detach()\n","compare_to_density(original,rs)"],"execution_count":0,"outputs":[{"output_type":"stream","text":["top:  tensor([[ 0.,  2.,  2., 31.,  4.,  6.]], device='cuda:0')\n","bottom:  tensor([[ 0.,  1.,  2., 31.,  4.,  6.]], device='cuda:0')\n"],"name":"stdout"},{"output_type":"display_data","data":{"image/png":"iVBORw0KGgoAAAANSUhEUgAAAWUAAAC8CAYAAACgw7/oAAAABHNCSVQICAgIfAhkiAAAAAlwSFlz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\nch/fEx/FAAAAAElFTkSuQmCC\n","text/plain":["<Figure size 432x288 with 2 Axes>"]},"metadata":{"tags":[]}},{"output_type":"display_data","data":{"image/png":"iVBORw0KGgoAAAANSUhEUgAAAWUAAAC8CAYAAACgw7/oAAAABHNCSVQICAgIfAhkiAAAAAlwSFlz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\nBybFX3a0ZVRCAAAAAElFTkSuQmCC\n","text/plain":["<Figure size 432x288 with 2 Axes>"]},"metadata":{"tags":[]}}]},{"cell_type":"markdown","metadata":{"id":"bwyk5S5a7knN","colab_type":"text"},"source":["## Conditioning the model"]},{"cell_type":"code","metadata":{"id":"tQu4lzTMp8QH","colab_type":"code","outputId":"43f720a6-2f6a-473b-e5aa-dbeaa6ecfead","colab":{"base_uri":"https://localhost:8080/","height":34}},"source":["cond_data = {}\n","for i in range(1, 6):\n","    cond_data[\"Y_{}\".format(i)] = torch.tensor(y[0,i].cpu()).to(torch.float32)\n","print(cond_data)"],"execution_count":0,"outputs":[{"output_type":"stream","text":["{'Y_1': tensor(2.), 'Y_2': tensor(0.), 'Y_3': tensor(19.), 'Y_4': tensor(1.), 'Y_5': tensor(17.)}\n"],"name":"stdout"}]},{"cell_type":"code","metadata":{"id":"rtJRtQgJve2A","colab_type":"code","outputId":"5457c8df-3764-4a9f-9075-cc3be3d2edde","colab":{"base_uri":"https://localhost:8080/","height":34}},"source":["# cond_data['Y_1'] = torch.tensor(1.)\n","# cond_data['Y_2'] = torch.tensor(4.)\n","conditioned_model = pyro.condition(scm.model, data=cond_data)\n","cond_noise = scm.update_noise_svi(cond_data)\n","print(cond_data)"],"execution_count":0,"outputs":[{"output_type":"stream","text":["{'Y_1': tensor(2.), 'Y_2': tensor(0.), 'Y_3': tensor(19.), 'Y_4': tensor(1.), 'Y_5': tensor(17.)}\n"],"name":"stdout"}]},{"cell_type":"code","metadata":{"id":"0r2HePhs9DnB","colab_type":"code","outputId":"20c9299d-879e-455f-d07b-932618a27061","colab":{"base_uri":"https://localhost:8080/","height":245}},"source":["rxs = []\n","for i in range(100):\n","     (rx,ry,_), _ = scm.model(cond_noise)\n","     rxs.append(rx)\n","compare_to_density(ox, torch.cat(rxs))\n","_ =plt.suptitle(\"SCM Conditioned on Original\", fontsize=18, fontstyle='italic')\n"],"execution_count":0,"outputs":[{"output_type":"display_data","data":{"image/png":"iVBORw0KGgoAAAANSUhEUgAAAWUAAADkCAYAAABAHjVyAAAABHNCSVQICAgIfAhkiAAAAAlwSFlz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\no0NzuGohPc0AAAAASUVORK5CYII=\n","text/plain":["<Figure size 432x288 with 2 Axes>"]},"metadata":{"tags":[]}}]},{"cell_type":"markdown","metadata":{"id":"T9q5R5Az7qUO","colab_type":"text"},"source":["## Counterfactuals"]},{"cell_type":"code","metadata":{"id":"4NA_mpKv7t4P","colab_type":"code","colab":{}},"source":["# intervening on Shape, posX and PosY \n","intervened_model = pyro.do(scm.model, data={\n","    \"Y_1\": torch.tensor(0.),\n","#     \"Y_4\": torch.tensor(5.),\n","#     \"Y_5\": torch.tensor(25.),\n","})\n","noise_data = {}\n","for term, d in cond_noise.items():\n","  noise_data[term] = d.loc\n","# intervened_noise = scm.update_noise_svi(noise_data, intervened_model)"],"execution_count":0,"outputs":[]},{"cell_type":"code","metadata":{"id":"rffN8m75cKrd","colab_type":"code","outputId":"93cf401b-156a-4bb7-9796-30096fa82c46","colab":{"base_uri":"https://localhost:8080/","height":254}},"source":["(rx1,ry,_), _ = intervened_model(scm.init_noise)\n","compare_to_density(ox, rx1)\n","print(ry)"],"execution_count":0,"outputs":[{"output_type":"stream","text":["(tensor(0.), tensor(0.9218), tensor(15.6666), tensor(21.0625), tensor(18.7714))\n"],"name":"stdout"},{"output_type":"display_data","data":{"image/png":"iVBORw0KGgoAAAANSUhEUgAAAYsAAADcCAYAAACBHI1wAAAABHNCSVQICAgIfAhkiAAAAAlwSFlz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\nAABJRU5ErkJggg==\n","text/plain":["<Figure size 432x288 with 2 Axes>"]},"metadata":{"tags":[]}}]},{"cell_type":"code","metadata":{"id":"WwvqXamE4hqb","colab_type":"code","outputId":"364feed3-eb07-427f-964f-88c5b07bc240","colab":{"base_uri":"https://localhost:8080/","height":276}},"source":["rxs = []\n","for i in range(100):\n","     (cfo1,ny1,nz1), _= intervened_model(cond_noise)\n","     rxs.append(cfo1)\n","compare_to_density(ox, torch.cat(rxs))\n","_ =plt.suptitle(\"SCM intervened on shape\", fontsize=18, fontstyle='italic')"],"execution_count":0,"outputs":[{"output_type":"display_data","data":{"image/png":"iVBORw0KGgoAAAANSUhEUgAAAYsAAAEDCAYAAADEAyg+AAAABHNCSVQICAgIfAhkiAAAAAlwSFlz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\n+R9HuLwlzlJD7gAAAABJRU5ErkJggg==\n","text/plain":["<Figure size 432x288 with 2 Axes>"]},"metadata":{"tags":[]}}]},{"cell_type":"markdown","metadata":{"id":"MR4jlBojGdr1","colab_type":"text"},"source":["## ======== Test code ======="]},{"cell_type":"code","metadata":{"id":"HNzpNC4EzkA6","colab_type":"code","outputId":"c451217f-5b4f-4920-b750-909ecd492406","colab":{"base_uri":"https://localhost:8080/","height":336}},"source":["import warnings\n","warnings.filterwarnings(\"ignore\")\n","\n","xs, ys = next(data_iter)\n","x = xs[0].reshape(1,-1).cuda()\n","y = ys[0].reshape(1,-1).cuda()\n","mu, sigma = vae.encoder.forward(x,vae.remap_y(y))\n","mu = mu.cpu()\n","sigma = sigma.cpu()\n","recon_x1, y1, z1 = OldSCM(vae, mu, sigma)\n","print(y1)"],"execution_count":0,"outputs":[{"output_type":"error","ename":"NameError","evalue":"ignored","traceback":["\u001b[0;31m---------------------------------------------------------------------------\u001b[0m","\u001b[0;31mNameError\u001b[0m                                 Traceback (most recent call last)","\u001b[0;32m<ipython-input-19-68cec0d72013>\u001b[0m in \u001b[0;36m<module>\u001b[0;34m()\u001b[0m\n\u001b[1;32m      2\u001b[0m \u001b[0mwarnings\u001b[0m\u001b[0;34m.\u001b[0m\u001b[0mfilterwarnings\u001b[0m\u001b[0;34m(\u001b[0m\u001b[0;34m\"ignore\"\u001b[0m\u001b[0;34m)\u001b[0m\u001b[0;34m\u001b[0m\u001b[0;34m\u001b[0m\u001b[0m\n\u001b[1;32m      3\u001b[0m \u001b[0;34m\u001b[0m\u001b[0m\n\u001b[0;32m----> 4\u001b[0;31m \u001b[0mxs\u001b[0m\u001b[0;34m,\u001b[0m \u001b[0mys\u001b[0m \u001b[0;34m=\u001b[0m \u001b[0mnext\u001b[0m\u001b[0;34m(\u001b[0m\u001b[0mdata_iter\u001b[0m\u001b[0;34m)\u001b[0m\u001b[0;34m\u001b[0m\u001b[0;34m\u001b[0m\u001b[0m\n\u001b[0m\u001b[1;32m      5\u001b[0m \u001b[0mx\u001b[0m \u001b[0;34m=\u001b[0m \u001b[0mxs\u001b[0m\u001b[0;34m[\u001b[0m\u001b[0;36m0\u001b[0m\u001b[0;34m]\u001b[0m\u001b[0;34m.\u001b[0m\u001b[0mreshape\u001b[0m\u001b[0;34m(\u001b[0m\u001b[0;36m1\u001b[0m\u001b[0;34m,\u001b[0m\u001b[0;34m-\u001b[0m\u001b[0;36m1\u001b[0m\u001b[0;34m)\u001b[0m\u001b[0;34m.\u001b[0m\u001b[0mcuda\u001b[0m\u001b[0;34m(\u001b[0m\u001b[0;34m)\u001b[0m\u001b[0;34m\u001b[0m\u001b[0;34m\u001b[0m\u001b[0m\n\u001b[1;32m      6\u001b[0m \u001b[0my\u001b[0m \u001b[0;34m=\u001b[0m \u001b[0mys\u001b[0m\u001b[0;34m[\u001b[0m\u001b[0;36m0\u001b[0m\u001b[0;34m]\u001b[0m\u001b[0;34m.\u001b[0m\u001b[0mreshape\u001b[0m\u001b[0;34m(\u001b[0m\u001b[0;36m1\u001b[0m\u001b[0;34m,\u001b[0m\u001b[0;34m-\u001b[0m\u001b[0;36m1\u001b[0m\u001b[0;34m)\u001b[0m\u001b[0;34m.\u001b[0m\u001b[0mcuda\u001b[0m\u001b[0;34m(\u001b[0m\u001b[0;34m)\u001b[0m\u001b[0;34m\u001b[0m\u001b[0;34m\u001b[0m\u001b[0m\n","\u001b[0;31mNameError\u001b[0m: name 'data_iter' is not defined","","\u001b[0;31m---------------------------------------------------------------------------\u001b[0;32m\nNOTE: Current TensorFlow version is 2.2.0-rc2. To use TF 1.x instead,\nrestart your runtime (Ctrl+M .) and run \"%tensorflow_version 1.x\" before\nyou run \"import tensorflow\".\n\u001b[0;31m---------------------------------------------------------------------------\u001b[0m\n"]}]},{"cell_type":"code","metadata":{"id":"sLOw_NXQziDa","colab_type":"code","colab":{}},"source":["def OldSCM(vae, mu, sigma):\n","    z_dim = vae.z_dim\n","    Ny, Y, ys = [], [], []\n","    Nx = pyro.sample(\"Nx\", dist.Uniform(torch.zeros(vae.image_dim), torch.ones(vae.image_dim)))\n","    Nz = pyro.sample(\"Nz\", dist.Normal(torch.zeros(z_dim), torch.ones(z_dim)))\n","    m = torch.distributions.gumbel.Gumbel(torch.tensor(0.0), torch.tensor(1.0))\n","    for label_id in range(6):\n","        name = vae.label_names[label_id]\n","        length = vae.label_shape[label_id]\n","        new = pyro.sample(\"Ny_%s\"%name, dist.Uniform(torch.zeros(length), torch.ones(length)) )\n","        Ny.append(new)\n","        gumbel_vars = torch.tensor([m.sample() for _ in range(length)])\n","        max_ind = torch.argmax(torch.log(new) + gumbel_vars).item()\n","        Y.append(pyro.sample(\"Y_%s\"%name, dist.Normal(torch.tensor(max_ind * 1.0), 1e-4)))\n","#         Y.append(pyro.sample(\"Y_%s\"%name, dist.Delta(torch.tensor(max_ind*1.0))))\n","        ys.append(torch.nn.functional.one_hot(torch.tensor(max_ind), int(length)))  \n","    Y = torch.tensor(Y)\n","    ys = torch.cat(ys).to(torch.float32).reshape(1,-1).cuda()\n","    Z = pyro.sample(\"Z\", dist.Normal(mu + Nz*sigma, 1e-4))\n","#     Z = pyro.sample(\"Z\", dist.Delta(mu + Nz*sigma))\n","    zs = Z.cuda()\n","    p = vae.decoder.forward(zs,ys)\n","    X = pyro.sample(\"X\", dist.Normal((Nx < p.cpu()).type(torch.float), 1e-4))\n","#     X = pyro.sample(\"X\", dist.Delta((Nx < p.cpu()).type(torch.float)))\n","    return X, Y, Z"],"execution_count":0,"outputs":[]},{"cell_type":"code","metadata":{"id":"_0EX3FetiTi-","colab_type":"code","outputId":"3007827d-15f3-4f55-f959-081e2122f249","colab":{"base_uri":"https://localhost:8080/","height":255}},"source":["from pyro.infer.importance import Importance\n","from pyro.infer.mcmc import MCMC\n","from pyro.infer.mcmc.nuts import HMC\n","from pyro.infer import SVI\n","\n","intervened_model = pyro.do(OldSCM, data={\"Y_shape\": torch.tensor(0.)})\n","conditioned_model = pyro.condition(OldSCM, data={\n","    \"X\": recon_x1,\n","#     \"Z\": z1,\n","    \"Y_color\":y1[0],\n","    \"Y_shape\": y1[1],\n","    \"Y_scale\": y1[2],\n","    \"Y_orientation\": y1[3],\n","    \"Y_posX\": y1[4],\n","    \"Y_posY\": y1[5]\n","   })\n","\n","#  change to svi\n","posterior = pyro.infer.Importance(conditioned_model, num_samples = 100)\n","posterior.run(vae, mu, sigma)\n","\n","result = []\n","for i in range(500):\n","  trace = posterior()\n","  x = trace.nodes['Nx']['value']\n","  ny_shape = trace.nodes['Ny_shape']['value']\n","  ny_scale = trace.nodes['Ny_scale']['value']\n","  ny_orientation = trace.nodes['Ny_orientation']['value']\n","  ny_posX = trace.nodes['Ny_posX']['value']\n","  ny_posY = trace.nodes['Ny_posY']['value']\n","  z = trace.nodes['Nz']['value']\n","  con_obj = pyro.condition(intervened_model, data = {\n","      \"Nx\": x,\n","      \"Ny_shape\": ny_shape, \n","      \"Ny_scale\": ny_scale, \n","      \"Ny_orientation\": ny_orientation, \n","      \"Ny_posX\": ny_posX, \n","      \"Ny_posY\": ny_posY, \n","      \"Nz\": z\n","  })\n","  \n","recon_x2,y2,z2 = con_obj(vae, mu, sigma)\n","print(y2)\n","recon_check(recon_x1.reshape(-1, 64, 64)[0], recon_x2.reshape(-1, 64, 64)[0])"],"execution_count":0,"outputs":[{"output_type":"stream","text":["tensor([-9.3067e-05,  0.0000e+00,  2.0000e+00,  3.9999e+00,  2.1000e+01,\n","         1.6000e+01])\n"],"name":"stdout"},{"output_type":"display_data","data":{"image/png":"iVBORw0KGgoAAAANSUhEUgAAAYIAAADMCAYAAAB+36QhAAAABHNCSVQICAgIfAhkiAAAAAlwSFlz\nAAALEgAACxIB0t1+/AAAADl0RVh0U29mdHdhcmUAbWF0cGxvdGxpYiB2ZXJzaW9uIDMuMC4zLCBo\ndHRwOi8vbWF0cGxvdGxpYi5vcmcvnQurowAABA9JREFUeJzt3W1O20AARdFOxf63PP0VNYqitHw4\n4/E9ZwFgJND1GxsYc85fAHT9Xn0BAKwlBABxQgAQJwQAcUIAECcEAHFCABAnBABxQgAQJwQAcUIA\nECcEAHEfqy/gK8YY/lIeh5pzjhWf1/c2R3v2vW0RAMQJAUCcEADECQFAnBAAxAkBQJwQAMQJAUCc\nEADECQFAnBAAxAkBQJwQAMQJAUCcEADECQFAnBAAxAkBQJwQAMQJAUCcEADECQFAnBAAxAkBQJwQ\nAMQJAUCcEADECQFAnBAAxH2svgDea8556McfYxz68YGfZxEAxFkEF3T0Xf9XP7e1AOdkEQDECQFA\nnKOhza08Bvqs27U6IoJzsQgA4iyCTe20BB49u3YrAdaxCADihAAgztHQRnY+DvqX+6/NMRG8l0UA\nEGcRbODKSwBYzyIAiBMCTmfOaQXBGwkBQJwQAMR5WMzpeH0U3ssiAIgTAoA4IQCIEwKAOCHYwBjD\nA1TgMEIAEOf1UU7B4uHd/OvUvywCgDiLYCPP7lx2/5s87sZ4p2c/L/4XhkUAkCcEAHGOhjZ3m7I7\nHRFV5zfr/O/PR/UBskUAEGcRXMSrO5gVa6F2R8V5/MT3e20ZWAQAcUIAEOdoKOA787Y2kdnXTi9M\nnI1FABBnEfCSJcCZHb0CKr91bBEAxFkEwHZWPA+48vMyiwAgTggA4hwNAad2ttdCr/gA2SIAiBMC\ngDghAIjzjADgix6fX+z6zMAiAIgTAoA4R0PAqd0ft5ztVdKrsAgA4oQA2MYYY9sHsmcmBABxQgAQ\n52ExsJ3b8dDqh8dXOaayCADiLAKAT7jKCrhnEQDEWQTAto7+ZbMr3v0/YxEAxAkBQJyjIeASfvKV\n0sqR0I1FABBnEQCX8p0HyLUlcGMRAMQJAUCcoyEgrXocdM8iAIizCIDLenyl1N3/cxYBQJxFAFye\nJfCaRQAQJwQAcUIAECcEAHFCABAnBABxQgAQJwQAcUIAECcEAHFCABAnBABxQgAQJwQAcUIAECcE\nAHFCABAnBABxQgAQJwQAcUIAECcEAHFCABAnBABxQgAQJwQAcUIAECcEAHFCABAnBABxQgAQJwQA\ncUIAECcEAHFCABAnBABxQgAQJwQAcUIAECcEAHFCABAnBABxQgAQJwQAcUIAECcEAHFCABAnBABx\nQgAQJwQAcUIAECcEAHFjzrn6GgBYyCIAiBMCgDghAIgTAoA4IQCIEwKAOCEAiBMCgDghAIgTAoA4\nIQCIEwKAOCEAiBMCgDghAIgTAoA4IQCIEwKAOCEAiBMCgDghAIgTAoA4IQCIEwKAOCEAiBMCgDgh\nAIgTAoA4IQCIEwKAOCEAiBMCgDghAIgTAoA4IQCIEwKAOCEAiBMCgLg/wmR+1GplMnEAAAAASUVO\nRK5CYII=\n","text/plain":["<Figure size 432x288 with 2 Axes>"]},"metadata":{"tags":[]}}]},{"cell_type":"code","metadata":{"id":"Y1MuTqXb2in_","colab_type":"code","colab":{}},"source":["result = []\n","for i in range(500):\n","  trace = posterior()\n","  x = trace.nodes['Nx']['value']\n","  ny_shape = trace.nodes['Ny_shape']['value']\n","  ny_scale = trace.nodes['Ny_scale']['value']\n","  ny_orientation = trace.nodes['Ny_orientation']['value']\n","  ny_posX = trace.nodes['Ny_posX']['value']\n","  ny_posY = trace.nodes['Ny_posY']['value']\n","  z = trace.nodes['Nz']['value']\n","  con_obj = pyro.condition(intervened_model, data = {\n","      \"Nx\": x,\n","      \"Ny_shape\": ny_shape, \n","      \"Ny_scale\": ny_scale, \n","      \"Ny_orientation\": ny_orientation, \n","      \"Ny_posX\": ny_posX, \n","      \"Ny_posY\": ny_posY, \n","      \"Nz\": z\n","  })\n","  \n","recon_x2,y2,z2 = con_obj(vae, mu, sigma)\n","print(y2)\n","recon_check(recon_x1.reshape(-1, 64, 64)[0], recon_x2.reshape(-1, 64, 64)[0])"],"execution_count":0,"outputs":[]},{"cell_type":"code","metadata":{"id":"cou0AUQhejcz","colab_type":"code","colab":{}},"source":["vae.label_names"],"execution_count":0,"outputs":[]},{"cell_type":"code","metadata":{"id":"H7A27SBfl8aM","colab_type":"code","outputId":"feb97a2d-c831-436b-fab8-aa3f49052e4e","colab":{"base_uri":"https://localhost:8080/","height":390}},"source":["adam_params = {\"lr\": 0.00042, \"betas\": (0.9, 0.999)}\n","optimizer = Adam(adam_params)\n","# set up the loss(es) for inference. wrapping the guide in config_enumerate builds\n","# the loss as a sum\n","# by enumerating each class label for the sampled discrete categorical distribution\n","# in the model\n","guide = config_enumerate(guide, \"parallel\", expand=True)\n","elbo = Trace_ELBO(max_plate_nesting=1)\n","loss_basic = SVI(sup_vae.model, guide, optimizer, loss=elbo)\n","\n","# build a list of all losses considered\n","losses = [loss_basic]\n","loss_aux = SVI(sup_vae.model_classify, sup_vae.guide_classify, optimizer, loss=elbo)\n","losses.append(loss_aux)\n","\n","\n","\n","from pyro.optim import Adam\n","from pyro.infer import SVI, Trace_ELBO\n","\n","adam = Adam({\"lr\": 0.005, \"betas\": (0.90, 0.999)})\n","svi = SVI(vae.model, vae.guide, adam, loss=Trace_ELBO())\n","\n","\n","param_vals = []\n","pbar = tqdm(range(5))\n","for _ in pbar:\n","  xs, ys = next(data_iter)\n","  xs = xs.cuda()\n","  ys = ys.cuda()\n","  svi.step(xs, ys)\n","#   param_vals.append({k: param(k).item() for k in [\"fl\", \"ia\"]})\n","\n","# pd.DataFrame(param_vals).plot(subplots=True)"],"execution_count":0,"outputs":[{"output_type":"stream","text":["\n","  0%|          | 0/5 [00:00<?, ?it/s]\u001b[A"],"name":"stderr"},{"output_type":"error","ename":"StopIteration","evalue":"ignored","traceback":["\u001b[0;31m---------------------------------------------------------------------------\u001b[0m","\u001b[0;31mStopIteration\u001b[0m                             Traceback (most recent call last)","\u001b[0;32m<ipython-input-32-e89e5c96783c>\u001b[0m in \u001b[0;36m<module>\u001b[0;34m()\u001b[0m\n\u001b[1;32m      9\u001b[0m \u001b[0mpbar\u001b[0m \u001b[0;34m=\u001b[0m \u001b[0mtqdm\u001b[0m\u001b[0;34m(\u001b[0m\u001b[0mrange\u001b[0m\u001b[0;34m(\u001b[0m\u001b[0;36m5\u001b[0m\u001b[0;34m)\u001b[0m\u001b[0;34m)\u001b[0m\u001b[0;34m\u001b[0m\u001b[0;34m\u001b[0m\u001b[0m\n\u001b[1;32m     10\u001b[0m \u001b[0;32mfor\u001b[0m \u001b[0m_\u001b[0m \u001b[0;32min\u001b[0m \u001b[0mpbar\u001b[0m\u001b[0;34m:\u001b[0m\u001b[0;34m\u001b[0m\u001b[0;34m\u001b[0m\u001b[0m\n\u001b[0;32m---> 11\u001b[0;31m   \u001b[0mxs\u001b[0m\u001b[0;34m,\u001b[0m \u001b[0mys\u001b[0m \u001b[0;34m=\u001b[0m \u001b[0mnext\u001b[0m\u001b[0;34m(\u001b[0m\u001b[0mdata_iter\u001b[0m\u001b[0;34m)\u001b[0m\u001b[0;34m\u001b[0m\u001b[0;34m\u001b[0m\u001b[0m\n\u001b[0m\u001b[1;32m     12\u001b[0m   \u001b[0mxs\u001b[0m \u001b[0;34m=\u001b[0m \u001b[0mxs\u001b[0m\u001b[0;34m.\u001b[0m\u001b[0mcuda\u001b[0m\u001b[0;34m(\u001b[0m\u001b[0;34m)\u001b[0m\u001b[0;34m\u001b[0m\u001b[0;34m\u001b[0m\u001b[0m\n\u001b[1;32m     13\u001b[0m   \u001b[0mys\u001b[0m \u001b[0;34m=\u001b[0m \u001b[0mys\u001b[0m\u001b[0;34m.\u001b[0m\u001b[0mcuda\u001b[0m\u001b[0;34m(\u001b[0m\u001b[0;34m)\u001b[0m\u001b[0;34m\u001b[0m\u001b[0;34m\u001b[0m\u001b[0m\n","\u001b[0;32m/usr/local/lib/python3.6/dist-packages/torch/utils/data/dataloader.py\u001b[0m in \u001b[0;36m__next__\u001b[0;34m(self)\u001b[0m\n\u001b[1;32m    792\u001b[0m                 \u001b[0;31m# no valid `self.rcvd_idx` is found (i.e., didn't break)\u001b[0m\u001b[0;34m\u001b[0m\u001b[0;34m\u001b[0m\u001b[0;34m\u001b[0m\u001b[0m\n\u001b[1;32m    793\u001b[0m                 \u001b[0mself\u001b[0m\u001b[0;34m.\u001b[0m\u001b[0m_shutdown_workers\u001b[0m\u001b[0;34m(\u001b[0m\u001b[0;34m)\u001b[0m\u001b[0;34m\u001b[0m\u001b[0;34m\u001b[0m\u001b[0m\n\u001b[0;32m--> 794\u001b[0;31m                 \u001b[0;32mraise\u001b[0m \u001b[0mStopIteration\u001b[0m\u001b[0;34m\u001b[0m\u001b[0;34m\u001b[0m\u001b[0m\n\u001b[0m\u001b[1;32m    795\u001b[0m \u001b[0;34m\u001b[0m\u001b[0m\n\u001b[1;32m    796\u001b[0m             \u001b[0;31m# Now `self.rcvd_idx` is the batch index we want to fetch\u001b[0m\u001b[0;34m\u001b[0m\u001b[0;34m\u001b[0m\u001b[0;34m\u001b[0m\u001b[0m\n","\u001b[0;31mStopIteration\u001b[0m: "]}]},{"cell_type":"code","metadata":{"id":"pa3ygX4zCYdH","colab_type":"code","colab":{}},"source":[""],"execution_count":0,"outputs":[]}]}
=======
{
  "nbformat": 4,
  "nbformat_minor": 0,
  "metadata": {
    "kernelspec": {
      "name": "python3",
      "display_name": "Python 3"
    },
    "language_info": {
      "codemirror_mode": {
        "name": "ipython",
        "version": 3
      },
      "file_extension": ".py",
      "mimetype": "text/x-python",
      "name": "python",
      "nbconvert_exporter": "python",
      "pygments_lexer": "ipython3",
      "version": "3.6.8"
    },
    "colab": {
      "name": "causal_vae_dsprites_040820.ipynb",
      "provenance": [],
      "collapsed_sections": [],
      "machine_shape": "hm"
    },
    "accelerator": "GPU",
    "widgets": {
      "application/vnd.jupyter.widget-state+json": {
        "44be884c034f479d923a08edb21a4317": {
          "model_module": "@jupyter-widgets/controls",
          "model_name": "VBoxModel",
          "state": {
            "_view_name": "VBoxView",
            "_dom_classes": [
              "widget-interact"
            ],
            "_model_name": "VBoxModel",
            "_view_module": "@jupyter-widgets/controls",
            "_model_module_version": "1.5.0",
            "_view_count": null,
            "_view_module_version": "1.5.0",
            "box_style": "",
            "layout": "IPY_MODEL_6096533a70bf49afbdaeb90471a2ef43",
            "_model_module": "@jupyter-widgets/controls",
            "children": [
              "IPY_MODEL_42710990b63f4c0b9ba19312b3b096f6",
              "IPY_MODEL_fdd6a5524e8b4eb494a9fd2e44ac342d"
            ]
          }
        },
        "6096533a70bf49afbdaeb90471a2ef43": {
          "model_module": "@jupyter-widgets/base",
          "model_name": "LayoutModel",
          "state": {
            "_view_name": "LayoutView",
            "grid_template_rows": null,
            "right": null,
            "justify_content": null,
            "_view_module": "@jupyter-widgets/base",
            "overflow": null,
            "_model_module_version": "1.2.0",
            "_view_count": null,
            "flex_flow": null,
            "width": null,
            "min_width": null,
            "border": null,
            "align_items": null,
            "bottom": null,
            "_model_module": "@jupyter-widgets/base",
            "top": null,
            "grid_column": null,
            "overflow_y": null,
            "overflow_x": null,
            "grid_auto_flow": null,
            "grid_area": null,
            "grid_template_columns": null,
            "flex": null,
            "_model_name": "LayoutModel",
            "justify_items": null,
            "grid_row": null,
            "max_height": null,
            "align_content": null,
            "visibility": null,
            "align_self": null,
            "height": null,
            "min_height": null,
            "padding": null,
            "grid_auto_rows": null,
            "grid_gap": null,
            "max_width": null,
            "order": null,
            "_view_module_version": "1.2.0",
            "grid_template_areas": null,
            "object_position": null,
            "object_fit": null,
            "grid_auto_columns": null,
            "margin": null,
            "display": null,
            "left": null
          }
        },
        "42710990b63f4c0b9ba19312b3b096f6": {
          "model_module": "@jupyter-widgets/controls",
          "model_name": "IntSliderModel",
          "state": {
            "_view_name": "IntSliderView",
            "style": "IPY_MODEL_f15a295b093947f2b6e83dd87c66a8e6",
            "_dom_classes": [],
            "description": "x",
            "step": 1,
            "_model_name": "IntSliderModel",
            "orientation": "horizontal",
            "max": 256,
            "_view_module": "@jupyter-widgets/controls",
            "_model_module_version": "1.5.0",
            "value": 0,
            "_view_count": null,
            "disabled": false,
            "_view_module_version": "1.5.0",
            "min": 0,
            "continuous_update": true,
            "readout_format": "d",
            "description_tooltip": null,
            "readout": true,
            "_model_module": "@jupyter-widgets/controls",
            "layout": "IPY_MODEL_29f06f39e2d44fcbb7bb1067c3da9965"
          }
        },
        "fdd6a5524e8b4eb494a9fd2e44ac342d": {
          "model_module": "@jupyter-widgets/output",
          "model_name": "OutputModel",
          "state": {
            "_view_name": "OutputView",
            "msg_id": "",
            "_dom_classes": [],
            "_model_name": "OutputModel",
            "outputs": [
              {
                "output_type": "display_data",
                "metadata": {
                  "tags": []
                },
                "image/png": "iVBORw0KGgoAAAANSUhEUgAAAV0AAACmCAYAAAB5qlzZAAAABHNCSVQICAgIfAhkiAAAAAlwSFlz\nAAALEgAACxIB0t1+/AAAADh0RVh0U29mdHdhcmUAbWF0cGxvdGxpYiB2ZXJzaW9uMy4yLjEsIGh0\ndHA6Ly9tYXRwbG90bGliLm9yZy+j8jraAAADT0lEQVR4nO3dy24TQRBAURrl/3+5WSCQg4KJied2\nz/icXZSHvShdV3r8GHPObwA0vq++AwCvRHQBQqILEBJdgJDoAoREFyD0du+bYwzPJ+NQc86x4nbN\nNkf722zbdAFCogsQEl2AkOgChEQXICS6ACHRBQiJLkBIdAFCogsQEl2AkOgChEQXICS6ACHRBQiJ\nLkBIdAFCogsQEl2AkOgChEQXICS6ACHRBQiJLkBIdAFCogsQEl2AkOgChEQXICS6ACHRBQiJLkBI\ndAFCogsQEl2AkOgChEQXICS6ACHRBQiJLkBIdAFCb6vvAOvMOd99PcZYdE/g6/6c51s7zbZNFyBk\n072we4/8n/35nTYEeHSm7/3eqtm26QKERBcg5Hjh5P73361H/75jBlY6Ys5XzbZNFyBk0z2Ro7fa\nz962rZcj1XNez7ZNFyAkugAhxwsbW3mcAM9mnn+y6QKEbLqbONMW4GlkPMJsv2fTBQiJLkBIdAFC\nogsQciFtE78O7s9w0cEFNK7KK9IALsamu5nbR9ozbL3wLx9tj6882zZdgJDoAoQcL3CXi2Zclc9I\nA3gBNl1ss+Tqp0judIHapgsQsulurNoGvGsYV/XRTK+ec5suQEh0AUKOF/jNJ/5yNTsendl0AUKi\newJjjK0eqeFZXnG2RRcg5EwXuLydrlfYdAFCogsQcrxwIju9fhye6ejZXn2kcMumCxASXYCQ6AKE\nRBcg5ELaSR3xto87XWzgddVvcF6z6QKEbLon99F2+uiGYMNlR894GtmOs23TBQjZdC9ox0d3+Ior\nzbRNFyAkugAh0QUIiS5ASHQBQqILEBJdgJDoAoREFyAkugAh0QUIiS5ASHQBQqILEBJdgJDoAoRE\nFyAkugAh0QUIiS5ASHQBQqILEBJdgJDoAoREFyAkugAh0QUIiS5ASHQBQqILEBJdgJDoAoREFyAk\nugAh0QUIiS5ASHQBQqILEBJdgJDoAoREFyAkugAh0QUIiS5ASHQBQqILEBJdgJDoAoREFyAkugAh\n0QUIiS5ASHQBQqILEBJdgJDoAoREFyAkugAh0QUIiS5ASHQBQqILEBJdgJDoAoTGnHP1fQB4GTZd\ngJDoAoREFyAkugAh0QUIiS5A6AcmTnt+5+lDnwAAAABJRU5ErkJggg==\n",
                "text/plain": "<Figure size 432x288 with 2 Axes>"
              }
            ],
            "_view_module": "@jupyter-widgets/output",
            "_model_module_version": "1.0.0",
            "_view_count": null,
            "_view_module_version": "1.0.0",
            "layout": "IPY_MODEL_5d315ce6955a4dc8abcb771e6f776c48",
            "_model_module": "@jupyter-widgets/output"
          }
        },
        "f15a295b093947f2b6e83dd87c66a8e6": {
          "model_module": "@jupyter-widgets/controls",
          "model_name": "SliderStyleModel",
          "state": {
            "_view_name": "StyleView",
            "handle_color": null,
            "_model_name": "SliderStyleModel",
            "description_width": "",
            "_view_module": "@jupyter-widgets/base",
            "_model_module_version": "1.5.0",
            "_view_count": null,
            "_view_module_version": "1.2.0",
            "_model_module": "@jupyter-widgets/controls"
          }
        },
        "29f06f39e2d44fcbb7bb1067c3da9965": {
          "model_module": "@jupyter-widgets/base",
          "model_name": "LayoutModel",
          "state": {
            "_view_name": "LayoutView",
            "grid_template_rows": null,
            "right": null,
            "justify_content": null,
            "_view_module": "@jupyter-widgets/base",
            "overflow": null,
            "_model_module_version": "1.2.0",
            "_view_count": null,
            "flex_flow": null,
            "width": null,
            "min_width": null,
            "border": null,
            "align_items": null,
            "bottom": null,
            "_model_module": "@jupyter-widgets/base",
            "top": null,
            "grid_column": null,
            "overflow_y": null,
            "overflow_x": null,
            "grid_auto_flow": null,
            "grid_area": null,
            "grid_template_columns": null,
            "flex": null,
            "_model_name": "LayoutModel",
            "justify_items": null,
            "grid_row": null,
            "max_height": null,
            "align_content": null,
            "visibility": null,
            "align_self": null,
            "height": null,
            "min_height": null,
            "padding": null,
            "grid_auto_rows": null,
            "grid_gap": null,
            "max_width": null,
            "order": null,
            "_view_module_version": "1.2.0",
            "grid_template_areas": null,
            "object_position": null,
            "object_fit": null,
            "grid_auto_columns": null,
            "margin": null,
            "display": null,
            "left": null
          }
        },
        "5d315ce6955a4dc8abcb771e6f776c48": {
          "model_module": "@jupyter-widgets/base",
          "model_name": "LayoutModel",
          "state": {
            "_view_name": "LayoutView",
            "grid_template_rows": null,
            "right": null,
            "justify_content": null,
            "_view_module": "@jupyter-widgets/base",
            "overflow": null,
            "_model_module_version": "1.2.0",
            "_view_count": null,
            "flex_flow": null,
            "width": null,
            "min_width": null,
            "border": null,
            "align_items": null,
            "bottom": null,
            "_model_module": "@jupyter-widgets/base",
            "top": null,
            "grid_column": null,
            "overflow_y": null,
            "overflow_x": null,
            "grid_auto_flow": null,
            "grid_area": null,
            "grid_template_columns": null,
            "flex": null,
            "_model_name": "LayoutModel",
            "justify_items": null,
            "grid_row": null,
            "max_height": null,
            "align_content": null,
            "visibility": null,
            "align_self": null,
            "height": null,
            "min_height": null,
            "padding": null,
            "grid_auto_rows": null,
            "grid_gap": null,
            "max_width": null,
            "order": null,
            "_view_module_version": "1.2.0",
            "grid_template_areas": null,
            "object_position": null,
            "object_fit": null,
            "grid_auto_columns": null,
            "margin": null,
            "display": null,
            "left": null
          }
        },
        "39fb7a1065324fdb8380606d29c74f45": {
          "model_module": "@jupyter-widgets/controls",
          "model_name": "VBoxModel",
          "state": {
            "_view_name": "VBoxView",
            "_dom_classes": [
              "widget-interact"
            ],
            "_model_name": "VBoxModel",
            "_view_module": "@jupyter-widgets/controls",
            "_model_module_version": "1.5.0",
            "_view_count": null,
            "_view_module_version": "1.5.0",
            "box_style": "",
            "layout": "IPY_MODEL_3febcc4bf9e548b38a01b757f1411a61",
            "_model_module": "@jupyter-widgets/controls",
            "children": [
              "IPY_MODEL_b26767d4823f402a8dd316a28f3fb632",
              "IPY_MODEL_352b3c1c9b70422c93b3a770124d4036",
              "IPY_MODEL_c786b99736b34347ad642be6cb1525a1",
              "IPY_MODEL_d1d245f399344248b8caf6edebced4e8",
              "IPY_MODEL_8b91df243ad04127bd57029d472f9009",
              "IPY_MODEL_46914fe5f50a4083babb184cf57e55e6"
            ]
          }
        },
        "3febcc4bf9e548b38a01b757f1411a61": {
          "model_module": "@jupyter-widgets/base",
          "model_name": "LayoutModel",
          "state": {
            "_view_name": "LayoutView",
            "grid_template_rows": null,
            "right": null,
            "justify_content": null,
            "_view_module": "@jupyter-widgets/base",
            "overflow": null,
            "_model_module_version": "1.2.0",
            "_view_count": null,
            "flex_flow": null,
            "width": null,
            "min_width": null,
            "border": null,
            "align_items": null,
            "bottom": null,
            "_model_module": "@jupyter-widgets/base",
            "top": null,
            "grid_column": null,
            "overflow_y": null,
            "overflow_x": null,
            "grid_auto_flow": null,
            "grid_area": null,
            "grid_template_columns": null,
            "flex": null,
            "_model_name": "LayoutModel",
            "justify_items": null,
            "grid_row": null,
            "max_height": null,
            "align_content": null,
            "visibility": null,
            "align_self": null,
            "height": null,
            "min_height": null,
            "padding": null,
            "grid_auto_rows": null,
            "grid_gap": null,
            "max_width": null,
            "order": null,
            "_view_module_version": "1.2.0",
            "grid_template_areas": null,
            "object_position": null,
            "object_fit": null,
            "grid_auto_columns": null,
            "margin": null,
            "display": null,
            "left": null
          }
        },
        "b26767d4823f402a8dd316a28f3fb632": {
          "model_module": "@jupyter-widgets/controls",
          "model_name": "IntSliderModel",
          "state": {
            "_view_name": "IntSliderView",
            "style": "IPY_MODEL_c4a0b4dbfe6a448db13cb6944bfdadaf",
            "_dom_classes": [],
            "description": "shape",
            "step": 1,
            "_model_name": "IntSliderModel",
            "orientation": "horizontal",
            "max": 2,
            "_view_module": "@jupyter-widgets/controls",
            "_model_module_version": "1.5.0",
            "value": 0,
            "_view_count": null,
            "disabled": false,
            "_view_module_version": "1.5.0",
            "min": 0,
            "continuous_update": true,
            "readout_format": "d",
            "description_tooltip": null,
            "readout": true,
            "_model_module": "@jupyter-widgets/controls",
            "layout": "IPY_MODEL_d9568e2ea06a4647922ef3fd869b0c30"
          }
        },
        "352b3c1c9b70422c93b3a770124d4036": {
          "model_module": "@jupyter-widgets/controls",
          "model_name": "IntSliderModel",
          "state": {
            "_view_name": "IntSliderView",
            "style": "IPY_MODEL_4c27209ce69c4cdb905bfe0b84c64940",
            "_dom_classes": [],
            "description": "scale",
            "step": 1,
            "_model_name": "IntSliderModel",
            "orientation": "horizontal",
            "max": 5,
            "_view_module": "@jupyter-widgets/controls",
            "_model_module_version": "1.5.0",
            "value": 4,
            "_view_count": null,
            "disabled": false,
            "_view_module_version": "1.5.0",
            "min": 0,
            "continuous_update": true,
            "readout_format": "d",
            "description_tooltip": null,
            "readout": true,
            "_model_module": "@jupyter-widgets/controls",
            "layout": "IPY_MODEL_d173b020244c47808dc638593131e67d"
          }
        },
        "c786b99736b34347ad642be6cb1525a1": {
          "model_module": "@jupyter-widgets/controls",
          "model_name": "IntSliderModel",
          "state": {
            "_view_name": "IntSliderView",
            "style": "IPY_MODEL_92cf7d8f2d8d4529abbb3f38179e6ad3",
            "_dom_classes": [],
            "description": "orient",
            "step": 1,
            "_model_name": "IntSliderModel",
            "orientation": "horizontal",
            "max": 39,
            "_view_module": "@jupyter-widgets/controls",
            "_model_module_version": "1.5.0",
            "value": 29,
            "_view_count": null,
            "disabled": false,
            "_view_module_version": "1.5.0",
            "min": 0,
            "continuous_update": true,
            "readout_format": "d",
            "description_tooltip": null,
            "readout": true,
            "_model_module": "@jupyter-widgets/controls",
            "layout": "IPY_MODEL_46dd7d0bb51744228965b5b24684f624"
          }
        },
        "d1d245f399344248b8caf6edebced4e8": {
          "model_module": "@jupyter-widgets/controls",
          "model_name": "IntSliderModel",
          "state": {
            "_view_name": "IntSliderView",
            "style": "IPY_MODEL_52fd0e906d22473f9cafc6cd6a3c55ba",
            "_dom_classes": [],
            "description": "posX",
            "step": 1,
            "_model_name": "IntSliderModel",
            "orientation": "horizontal",
            "max": 31,
            "_view_module": "@jupyter-widgets/controls",
            "_model_module_version": "1.5.0",
            "value": 31,
            "_view_count": null,
            "disabled": false,
            "_view_module_version": "1.5.0",
            "min": 0,
            "continuous_update": true,
            "readout_format": "d",
            "description_tooltip": null,
            "readout": true,
            "_model_module": "@jupyter-widgets/controls",
            "layout": "IPY_MODEL_a5505200c0694fd29a486ccc44395b1e"
          }
        },
        "8b91df243ad04127bd57029d472f9009": {
          "model_module": "@jupyter-widgets/controls",
          "model_name": "IntSliderModel",
          "state": {
            "_view_name": "IntSliderView",
            "style": "IPY_MODEL_48849a18ce0442f7b309e4419d3bebbe",
            "_dom_classes": [],
            "description": "posY",
            "step": 1,
            "_model_name": "IntSliderModel",
            "orientation": "horizontal",
            "max": 31,
            "_view_module": "@jupyter-widgets/controls",
            "_model_module_version": "1.5.0",
            "value": 11,
            "_view_count": null,
            "disabled": false,
            "_view_module_version": "1.5.0",
            "min": 0,
            "continuous_update": true,
            "readout_format": "d",
            "description_tooltip": null,
            "readout": true,
            "_model_module": "@jupyter-widgets/controls",
            "layout": "IPY_MODEL_c5a956b96ec64b79833398549ada255e"
          }
        },
        "46914fe5f50a4083babb184cf57e55e6": {
          "model_module": "@jupyter-widgets/output",
          "model_name": "OutputModel",
          "state": {
            "_view_name": "OutputView",
            "msg_id": "",
            "_dom_classes": [],
            "_model_name": "OutputModel",
            "outputs": [
              {
                "output_type": "display_data",
                "metadata": {
                  "tags": []
                },
                "image/png": "iVBORw0KGgoAAAANSUhEUgAAAOcAAADnCAYAAADl9EEgAAAABHNCSVQICAgIfAhkiAAAAAlwSFlz\nAAALEgAACxIB0t1+/AAAADh0RVh0U29mdHdhcmUAbWF0cGxvdGxpYiB2ZXJzaW9uMy4yLjEsIGh0\ndHA6Ly9tYXRwbG90bGliLm9yZy+j8jraAAAC90lEQVR4nO3cMW7DQAwAwTDw/7/MfEAI7EK4VTJT\nSi7YLIgTcJ7d/QJ6vk8PAFwTJ0SJE6LECVHihKjXby9nxqdcuNnuztVzmxOixAlR4oQocUKUOCFK\nnBAlTogSJ0SJE6LECVHihChxQpQ4IUqcECVOiBInRIkTosQJUeKEKHFClDghSpwQJU6IEidEiROi\nxAlR4oQocUKUOCFKnBAlTogSJ0SJE6LECVHihChxQpQ4IUqcECVOiBInRIkTosQJUeKEKHFClDgh\nSpwQJU6IEidEiROixAlR4oQocUKUOCFKnBAlTogSJ0SJE6LECVHihChxQtTr9AA81+6+9buZuXmS\nv8nmhChxQpQ4IcqZk9u9ezatOnVmtjkhSpwQJU6IEidEiROixAlR4oQocUKUOCFKnBAlTogSJ0SJ\nE6LECVHihChxQpTL1nzk6Renn8TmhChxQpQ4IUqcECVOiBInRIkTosQJUeKEKHFClDghSpwQJU6I\nEidEiROixAlR4oQocUKUOCFKnBAlTogSJ0SJE6L8by1cmJnTI9icUCVOiBInRIkTosQJUeKEKHFC\nlDghSpwQJU6IEidEiROixAlR4oQocUKUOCHKZWs+UriE/F/YnBAlTogSJ0SJE6LECVHihChxQpQ4\nIUqcECVOiBInRIkTosQJUeKEKHFClDghSpwQJU6IEidEiROixAlR4oQocUKUOCFKnBAlTogSJ0SJ\nE6LECVHihChxQpQ4IUqcECVOiBInRIkTosQJUeKEKHFClDghSpwQJU6IEidEiROixAlR4oQocUKU\nOCFKnBAlTogSJ0SJE6LECVHihChxQpQ4IUqcECVOiBInRIkTosQJUeKEKHFClDghSpwQJU6IEidE\niROixAlR4oQocUKUOCFKnBAlTogSJ0SJE6LECVHihChxQpQ4IUqcECVOiBInRIkTosQJUeKEKHFC\nlDghSpwQJU6IEidEiROixAlR4oSo2d3TMwAXbE6IEidEiROixAlR4oQocULUD8EFFNaIaqDgAAAA\nAElFTkSuQmCC\n",
                "text/plain": "<Figure size 432x288 with 1 Axes>"
              }
            ],
            "_view_module": "@jupyter-widgets/output",
            "_model_module_version": "1.0.0",
            "_view_count": null,
            "_view_module_version": "1.0.0",
            "layout": "IPY_MODEL_d6aca64197724690ac4553e37432ed31",
            "_model_module": "@jupyter-widgets/output"
          }
        },
        "c4a0b4dbfe6a448db13cb6944bfdadaf": {
          "model_module": "@jupyter-widgets/controls",
          "model_name": "SliderStyleModel",
          "state": {
            "_view_name": "StyleView",
            "handle_color": null,
            "_model_name": "SliderStyleModel",
            "description_width": "",
            "_view_module": "@jupyter-widgets/base",
            "_model_module_version": "1.5.0",
            "_view_count": null,
            "_view_module_version": "1.2.0",
            "_model_module": "@jupyter-widgets/controls"
          }
        },
        "d9568e2ea06a4647922ef3fd869b0c30": {
          "model_module": "@jupyter-widgets/base",
          "model_name": "LayoutModel",
          "state": {
            "_view_name": "LayoutView",
            "grid_template_rows": null,
            "right": null,
            "justify_content": null,
            "_view_module": "@jupyter-widgets/base",
            "overflow": null,
            "_model_module_version": "1.2.0",
            "_view_count": null,
            "flex_flow": null,
            "width": null,
            "min_width": null,
            "border": null,
            "align_items": null,
            "bottom": null,
            "_model_module": "@jupyter-widgets/base",
            "top": null,
            "grid_column": null,
            "overflow_y": null,
            "overflow_x": null,
            "grid_auto_flow": null,
            "grid_area": null,
            "grid_template_columns": null,
            "flex": null,
            "_model_name": "LayoutModel",
            "justify_items": null,
            "grid_row": null,
            "max_height": null,
            "align_content": null,
            "visibility": null,
            "align_self": null,
            "height": null,
            "min_height": null,
            "padding": null,
            "grid_auto_rows": null,
            "grid_gap": null,
            "max_width": null,
            "order": null,
            "_view_module_version": "1.2.0",
            "grid_template_areas": null,
            "object_position": null,
            "object_fit": null,
            "grid_auto_columns": null,
            "margin": null,
            "display": null,
            "left": null
          }
        },
        "4c27209ce69c4cdb905bfe0b84c64940": {
          "model_module": "@jupyter-widgets/controls",
          "model_name": "SliderStyleModel",
          "state": {
            "_view_name": "StyleView",
            "handle_color": null,
            "_model_name": "SliderStyleModel",
            "description_width": "",
            "_view_module": "@jupyter-widgets/base",
            "_model_module_version": "1.5.0",
            "_view_count": null,
            "_view_module_version": "1.2.0",
            "_model_module": "@jupyter-widgets/controls"
          }
        },
        "d173b020244c47808dc638593131e67d": {
          "model_module": "@jupyter-widgets/base",
          "model_name": "LayoutModel",
          "state": {
            "_view_name": "LayoutView",
            "grid_template_rows": null,
            "right": null,
            "justify_content": null,
            "_view_module": "@jupyter-widgets/base",
            "overflow": null,
            "_model_module_version": "1.2.0",
            "_view_count": null,
            "flex_flow": null,
            "width": null,
            "min_width": null,
            "border": null,
            "align_items": null,
            "bottom": null,
            "_model_module": "@jupyter-widgets/base",
            "top": null,
            "grid_column": null,
            "overflow_y": null,
            "overflow_x": null,
            "grid_auto_flow": null,
            "grid_area": null,
            "grid_template_columns": null,
            "flex": null,
            "_model_name": "LayoutModel",
            "justify_items": null,
            "grid_row": null,
            "max_height": null,
            "align_content": null,
            "visibility": null,
            "align_self": null,
            "height": null,
            "min_height": null,
            "padding": null,
            "grid_auto_rows": null,
            "grid_gap": null,
            "max_width": null,
            "order": null,
            "_view_module_version": "1.2.0",
            "grid_template_areas": null,
            "object_position": null,
            "object_fit": null,
            "grid_auto_columns": null,
            "margin": null,
            "display": null,
            "left": null
          }
        },
        "92cf7d8f2d8d4529abbb3f38179e6ad3": {
          "model_module": "@jupyter-widgets/controls",
          "model_name": "SliderStyleModel",
          "state": {
            "_view_name": "StyleView",
            "handle_color": null,
            "_model_name": "SliderStyleModel",
            "description_width": "",
            "_view_module": "@jupyter-widgets/base",
            "_model_module_version": "1.5.0",
            "_view_count": null,
            "_view_module_version": "1.2.0",
            "_model_module": "@jupyter-widgets/controls"
          }
        },
        "46dd7d0bb51744228965b5b24684f624": {
          "model_module": "@jupyter-widgets/base",
          "model_name": "LayoutModel",
          "state": {
            "_view_name": "LayoutView",
            "grid_template_rows": null,
            "right": null,
            "justify_content": null,
            "_view_module": "@jupyter-widgets/base",
            "overflow": null,
            "_model_module_version": "1.2.0",
            "_view_count": null,
            "flex_flow": null,
            "width": null,
            "min_width": null,
            "border": null,
            "align_items": null,
            "bottom": null,
            "_model_module": "@jupyter-widgets/base",
            "top": null,
            "grid_column": null,
            "overflow_y": null,
            "overflow_x": null,
            "grid_auto_flow": null,
            "grid_area": null,
            "grid_template_columns": null,
            "flex": null,
            "_model_name": "LayoutModel",
            "justify_items": null,
            "grid_row": null,
            "max_height": null,
            "align_content": null,
            "visibility": null,
            "align_self": null,
            "height": null,
            "min_height": null,
            "padding": null,
            "grid_auto_rows": null,
            "grid_gap": null,
            "max_width": null,
            "order": null,
            "_view_module_version": "1.2.0",
            "grid_template_areas": null,
            "object_position": null,
            "object_fit": null,
            "grid_auto_columns": null,
            "margin": null,
            "display": null,
            "left": null
          }
        },
        "52fd0e906d22473f9cafc6cd6a3c55ba": {
          "model_module": "@jupyter-widgets/controls",
          "model_name": "SliderStyleModel",
          "state": {
            "_view_name": "StyleView",
            "handle_color": null,
            "_model_name": "SliderStyleModel",
            "description_width": "",
            "_view_module": "@jupyter-widgets/base",
            "_model_module_version": "1.5.0",
            "_view_count": null,
            "_view_module_version": "1.2.0",
            "_model_module": "@jupyter-widgets/controls"
          }
        },
        "a5505200c0694fd29a486ccc44395b1e": {
          "model_module": "@jupyter-widgets/base",
          "model_name": "LayoutModel",
          "state": {
            "_view_name": "LayoutView",
            "grid_template_rows": null,
            "right": null,
            "justify_content": null,
            "_view_module": "@jupyter-widgets/base",
            "overflow": null,
            "_model_module_version": "1.2.0",
            "_view_count": null,
            "flex_flow": null,
            "width": null,
            "min_width": null,
            "border": null,
            "align_items": null,
            "bottom": null,
            "_model_module": "@jupyter-widgets/base",
            "top": null,
            "grid_column": null,
            "overflow_y": null,
            "overflow_x": null,
            "grid_auto_flow": null,
            "grid_area": null,
            "grid_template_columns": null,
            "flex": null,
            "_model_name": "LayoutModel",
            "justify_items": null,
            "grid_row": null,
            "max_height": null,
            "align_content": null,
            "visibility": null,
            "align_self": null,
            "height": null,
            "min_height": null,
            "padding": null,
            "grid_auto_rows": null,
            "grid_gap": null,
            "max_width": null,
            "order": null,
            "_view_module_version": "1.2.0",
            "grid_template_areas": null,
            "object_position": null,
            "object_fit": null,
            "grid_auto_columns": null,
            "margin": null,
            "display": null,
            "left": null
          }
        },
        "48849a18ce0442f7b309e4419d3bebbe": {
          "model_module": "@jupyter-widgets/controls",
          "model_name": "SliderStyleModel",
          "state": {
            "_view_name": "StyleView",
            "handle_color": null,
            "_model_name": "SliderStyleModel",
            "description_width": "",
            "_view_module": "@jupyter-widgets/base",
            "_model_module_version": "1.5.0",
            "_view_count": null,
            "_view_module_version": "1.2.0",
            "_model_module": "@jupyter-widgets/controls"
          }
        },
        "c5a956b96ec64b79833398549ada255e": {
          "model_module": "@jupyter-widgets/base",
          "model_name": "LayoutModel",
          "state": {
            "_view_name": "LayoutView",
            "grid_template_rows": null,
            "right": null,
            "justify_content": null,
            "_view_module": "@jupyter-widgets/base",
            "overflow": null,
            "_model_module_version": "1.2.0",
            "_view_count": null,
            "flex_flow": null,
            "width": null,
            "min_width": null,
            "border": null,
            "align_items": null,
            "bottom": null,
            "_model_module": "@jupyter-widgets/base",
            "top": null,
            "grid_column": null,
            "overflow_y": null,
            "overflow_x": null,
            "grid_auto_flow": null,
            "grid_area": null,
            "grid_template_columns": null,
            "flex": null,
            "_model_name": "LayoutModel",
            "justify_items": null,
            "grid_row": null,
            "max_height": null,
            "align_content": null,
            "visibility": null,
            "align_self": null,
            "height": null,
            "min_height": null,
            "padding": null,
            "grid_auto_rows": null,
            "grid_gap": null,
            "max_width": null,
            "order": null,
            "_view_module_version": "1.2.0",
            "grid_template_areas": null,
            "object_position": null,
            "object_fit": null,
            "grid_auto_columns": null,
            "margin": null,
            "display": null,
            "left": null
          }
        },
        "d6aca64197724690ac4553e37432ed31": {
          "model_module": "@jupyter-widgets/base",
          "model_name": "LayoutModel",
          "state": {
            "_view_name": "LayoutView",
            "grid_template_rows": null,
            "right": null,
            "justify_content": null,
            "_view_module": "@jupyter-widgets/base",
            "overflow": null,
            "_model_module_version": "1.2.0",
            "_view_count": null,
            "flex_flow": null,
            "width": null,
            "min_width": null,
            "border": null,
            "align_items": null,
            "bottom": null,
            "_model_module": "@jupyter-widgets/base",
            "top": null,
            "grid_column": null,
            "overflow_y": null,
            "overflow_x": null,
            "grid_auto_flow": null,
            "grid_area": null,
            "grid_template_columns": null,
            "flex": null,
            "_model_name": "LayoutModel",
            "justify_items": null,
            "grid_row": null,
            "max_height": null,
            "align_content": null,
            "visibility": null,
            "align_self": null,
            "height": null,
            "min_height": null,
            "padding": null,
            "grid_auto_rows": null,
            "grid_gap": null,
            "max_width": null,
            "order": null,
            "_view_module_version": "1.2.0",
            "grid_template_areas": null,
            "object_position": null,
            "object_fit": null,
            "grid_auto_columns": null,
            "margin": null,
            "display": null,
            "left": null
          }
        }
      }
    }
  },
  "cells": [
    {
      "cell_type": "markdown",
      "metadata": {
        "id": "zSOMAHldq2xR",
        "colab_type": "text"
      },
      "source": [
        "## Deep Causal Variational Inference\n",
        "\n",
        "### Introduction:\n",
        "To train a supervised variational autoencoder using Deepmind's [dSprites](https://github.com/deepmind/dsprites-dataset) dataset.\n",
        "\n",
        "dSprites is a dataset of sprites, which are 2D shapes procedurally generated from 5 ground truth independent \"factors.\" These factors are color, shape, scale, rotation, x and y positions of a sprite.\n",
        "\n",
        "All possible combinations of these variables are present exactly once, generating N = 737280 total images.\n",
        "\n",
        "Factors and their values:\n",
        "\n",
        "* Shape: 3 values {square, ellipse, heart}\n",
        "* Scale: 6 values linearly spaced in (0.5, 1)\n",
        "* Orientation: 40 values in (0, 2$\\pi$)\n",
        "* Position X: 32 values in (0, 1)\n",
        "* Position Y: 32 values in (0, 1)\n",
        "\n",
        "\n",
        "Further, the objective of any generative model is essentially to capture underlying data generative factors, the disentangled representation would mean a single latent unit being sensitive to variations in single generative factors\n",
        "\n",
        "\n",
        "### Goal:\n",
        "To include the latent factors  as labels in the training and to invent a causal story that relates these factors and the images in a DAG.\n",
        "\n",
        "Reference \n",
        "\n",
        "[Structured Disentangled Representation](https://arxiv.org/pdf/1804.02086.pdf)"
      ]
    },
    {
      "cell_type": "code",
      "metadata": {
        "id": "CMhHGoIwCwkN",
        "colab_type": "code",
        "colab": {}
      },
      "source": [
        "#Install dependencies\n",
        "!pip3 install pyro-ppl\n",
        "!pip3 install torch torchvision\n",
        "!pip3 install pydrive --upgrade\n",
        "!pip3 install tqdm"
      ],
      "execution_count": 0,
      "outputs": []
    },
    {
      "cell_type": "code",
      "metadata": {
        "id": "uNa3MO8GCqWg",
        "colab_type": "code",
        "outputId": "f350343b-1d10-435c-d86d-a125eba1f0d3",
        "colab": {
          "base_uri": "https://localhost:8080/",
          "height": 51
        }
      },
      "source": [
        "# Load necessary libraries\n",
        "from matplotlib import pyplot as plt\n",
        "import numpy as np\n",
        "import seaborn as sns\n",
        "\n",
        "import os\n",
        "from collections import defaultdict\n",
        "\n",
        "import torch\n",
        "import torch.nn as nn\n",
        "\n",
        "from tqdm import tqdm\n",
        "import pyro\n",
        "import pyro.distributions as dist\n",
        "from pyro.infer import SVI, Trace_ELBO, TraceEnum_ELBO, config_enumerate, EmpiricalMarginal\n",
        "from pyro.optim import Adam, SGD\n",
        "import torch.distributions.constraints as constraints\n",
        "\n",
        "# Change figure aesthetics\n",
        "%matplotlib inline\n",
        "sns.set_context('talk', font_scale=1.2, rc={'lines.linewidth': 1.5})\n",
        "\n",
        "from ipywidgets import interact, interactive, fixed, interact_manual\n",
        "import ipywidgets as widgets\n",
        "\n",
        "#to utilize GPU capabilities\n",
        "USE_CUDA = True\n",
        "\n",
        "pyro.enable_validation(True)\n",
        "pyro.distributions.enable_validation(False)"
      ],
      "execution_count": 0,
      "outputs": [
        {
          "output_type": "stream",
          "text": [
            "/usr/local/lib/python3.6/dist-packages/statsmodels/tools/_testing.py:19: FutureWarning: pandas.util.testing is deprecated. Use the functions in the public API at pandas.testing instead.\n",
            "  import pandas.util.testing as tm\n"
          ],
          "name": "stderr"
        }
      ]
    },
    {
      "cell_type": "code",
      "metadata": {
        "id": "nkXRHmSqDFTy",
        "colab_type": "code",
        "colab": {}
      },
      "source": [
        "# Mount Google drive to load data\n",
        "from google.colab import drive\n",
        "drive.mount('/content/gdrive')"
      ],
      "execution_count": 0,
      "outputs": []
    },
    {
      "cell_type": "code",
      "metadata": {
        "id": "VIHk1SDXfPpl",
        "colab_type": "code",
        "outputId": "30417538-f785-4fd4-b165-1f629884800f",
        "colab": {
          "base_uri": "https://localhost:8080/",
          "height": 34
        }
      },
      "source": [
        "cd '/content/gdrive/My Drive/Colab Notebooks/Causal_Inference'"
      ],
      "execution_count": 0,
      "outputs": [
        {
          "output_type": "stream",
          "text": [
            "/content/gdrive/My Drive/Colab Notebooks/Causal_Inference\n"
          ],
          "name": "stdout"
        }
      ]
    },
    {
      "cell_type": "code",
      "metadata": {
        "id": "KRCLhKI7d2r1",
        "colab_type": "code",
        "colab": {}
      },
      "source": [
        "# Mount G drive to access files\n",
        "from pydrive.auth import GoogleAuth\n",
        "from pydrive.drive import GoogleDrive\n",
        "from google.colab import auth\n",
        "from oauth2client.client import GoogleCredentials\n",
        "\n",
        "auth.authenticate_user()\n",
        "gauth = GoogleAuth()\n",
        "gauth.credentials = GoogleCredentials.get_application_default()\n",
        "drive = GoogleDrive(gauth)"
      ],
      "execution_count": 0,
      "outputs": []
    },
    {
      "cell_type": "code",
      "metadata": {
        "id": "cqyc4SqyDLIq",
        "colab_type": "code",
        "outputId": "0977c068-2e41-4e18-c38b-0f3a01d71b2e",
        "colab": {
          "base_uri": "https://localhost:8080/",
          "height": 68
        }
      },
      "source": [
        "# Hack to get all available GPU ram.\n",
        "import tensorflow as tf\n",
        "tf.test.gpu_device_name()\n",
        "\n",
        "!ln -sf /opt/bin/nvidia-smi /usr/bin/nvidia-smi\n",
        "!pip install gputil\n",
        "!pip install psutil\n",
        "!pip install humanize\n",
        "import psutil\n",
        "import humanize\n",
        "import os\n",
        "import GPUtil as GPU\n",
        "GPUs = GPU.getGPUs()\n",
        "# XXX: only one GPU on Colab and isn’t guaranteed\n",
        "gpu = GPUs[0]\n",
        "\n",
        "def printm():\n",
        " process = psutil.Process(os.getpid())\n",
        " print(\"Gen RAM Free: \" + humanize.naturalsize( psutil.virtual_memory().available ), \" | Proc size: \" + humanize.naturalsize( process.memory_info().rss))\n",
        " print(\"GPU RAM Free: {0:.0f}MB | Used: {1:.0f}MB | Util {2:3.0f}% | Total {3:.0f}MB\".format(gpu.memoryFree, gpu.memoryUsed, gpu.memoryUtil*100, gpu.memoryTotal))\n",
        " printm()"
      ],
      "execution_count": 0,
      "outputs": [
        {
          "output_type": "stream",
          "text": [
            "Requirement already satisfied: gputil in /usr/local/lib/python3.6/dist-packages (1.4.0)\n",
            "Requirement already satisfied: psutil in /usr/local/lib/python3.6/dist-packages (5.4.8)\n",
            "Requirement already satisfied: humanize in /usr/local/lib/python3.6/dist-packages (0.5.1)\n"
          ],
          "name": "stdout"
        }
      ]
    },
    {
      "cell_type": "code",
      "metadata": {
        "id": "nSkXleG1CqWj",
        "colab_type": "code",
        "colab": {}
      },
      "source": [
        "class Encoder(nn.Module):\n",
        "\t\"\"\"\n",
        "    MLPs (multi-layered perceptrons or simple feed-forward networks)\n",
        "    where the provided activation parameter is used on every linear layer except\n",
        "    for the output layer where we use the provided output_activation parameter\n",
        "\t\"\"\"\n",
        "\tdef __init__(self, image_dim, label_dim, z_dim):\n",
        "\t\tsuper(Encoder, self).__init__()\n",
        "\t\t#setup image and label dimensions from the dataset\n",
        "\t\tself.image_dim = image_dim\n",
        "\t\tself.label_dim = label_dim\n",
        "\t\tself.z_dim = z_dim\n",
        "\t\t# setup the three linear transformations used\n",
        "\t\tself.fc1 = nn.Linear(self.image_dim+self.label_dim, 1000)\n",
        "\t\tself.fc2 = nn.Linear(1000, 1000)\n",
        "\t\tself.fc31 = nn.Linear(1000, z_dim)  # mu values\n",
        "\t\tself.fc32 = nn.Linear(1000, z_dim)  # sigma values\n",
        "\t\t# setup the non-linearities\n",
        "\t\tself.softplus = nn.Softplus()\n",
        "\n",
        "\tdef forward(self, xs, ys):\n",
        "\t\txs = xs.reshape(-1, self.image_dim)\n",
        "\t\t#now concatenate the image and label\n",
        "\t\tinputs = torch.cat((xs,ys), -1)\n",
        "\t\t# then compute the hidden units\n",
        "\t\thidden1 = self.softplus(self.fc1(inputs))\n",
        "\t\thidden2 = self.softplus(self.fc2(hidden1))\n",
        "\t\t# then return a mean vector and a (positive) square root covariance\n",
        "\t\t# each of size batch_size x z_dim\n",
        "\t\tz_loc = self.fc31(hidden2)\n",
        "\t\tz_scale = torch.exp(self.fc32(hidden2))\n",
        "\t\treturn z_loc, z_scale\n",
        "\n",
        "\n",
        "class Decoder(nn.Module):\n",
        "\tdef __init__(self, image_dim, label_dim, z_dim):\n",
        "\t\tsuper(Decoder, self).__init__()\n",
        "\t\t# setup the two linear transformations used\n",
        "\t\thidden_dim = 1000\n",
        "\t\tself.fc1 = nn.Linear(z_dim+label_dim, hidden_dim)\n",
        "\t\tself.fc2 = nn.Linear(hidden_dim, hidden_dim)\n",
        "\t\tself.fc3 = nn.Linear(hidden_dim, hidden_dim)\n",
        "\t\tself.fc4 = nn.Linear(hidden_dim, image_dim)\n",
        "\t\t# setup the non-linearities\n",
        "\t\tself.softplus = nn.Softplus()\n",
        "\t\tself.sigmoid = nn.Sigmoid()\n",
        "\n",
        "\tdef forward(self, zs, ys):\n",
        "\t\tinputs = torch.cat((zs, ys),-1)\n",
        "\t\t# then compute the hidden units\n",
        "\t\thidden1 = self.softplus(self.fc1(inputs))\n",
        "\t\thidden2 = self.softplus(self.fc2(hidden1))\n",
        "\t\thidden3 = self.softplus(self.fc3(hidden2))\n",
        "\t\t# return the parameter for the output Bernoulli\n",
        "\t\t# each is of size batch_size x 784\n",
        "\t\tloc_img = self.sigmoid(self.fc4(hidden3))\n",
        "\t\treturn loc_img"
      ],
      "execution_count": 0,
      "outputs": []
    },
    {
      "cell_type": "code",
      "metadata": {
        "id": "Yqj05Mv8CqWm",
        "colab_type": "code",
        "colab": {}
      },
      "source": [
        "# Causal Variational Auto-Encoder\n",
        "class CVAE(nn.Module):\n",
        "\t\"\"\"\n",
        "\tThis class encapsulates the parameters (neural networks) and models & guides \n",
        "\tneeded to train a supervised variational auto-encoder \n",
        "\t\"\"\"\n",
        "\tdef __init__(self, config_enum=None, use_cuda=False, aux_loss_multiplier=None):\n",
        "    \n",
        "\t\tsuper(CVAE, self).__init__()\n",
        "\t\tself.image_dim = 64**2\n",
        "\t\tself.label_shape = np.array((1,3,6,40,32,32))\n",
        "\t\tself.label_names = np.array(('color', 'shape', 'scale', 'orientation', 'posX', 'posY'))\n",
        "\t\tself.label_dim = np.sum(self.label_shape)\n",
        "\t\tself.z_dim = 50                                           \n",
        "\t\tself.allow_broadcast = config_enum == 'parallel'\n",
        "\t\tself.use_cuda = use_cuda\n",
        "\t\tself.aux_loss_multiplier = aux_loss_multiplier\n",
        "\t    # define and instantiate the neural networks representing\n",
        "\t    # the paramters of various distributions in the model\n",
        "\t\tself.setup_networks()\n",
        "\n",
        "\tdef setup_networks(self):\n",
        "\t\t\"\"\"\n",
        "\t\tSetup and initialize Encoder and decoder units\n",
        "\t\t\"\"\"\n",
        "\t\tself.encoder = Encoder(self.image_dim, self.label_dim, self.z_dim)\n",
        "\t\tself.decoder = Decoder(self.image_dim, self.label_dim, self.z_dim)\n",
        "\t\t# using GPUs for faster training of the networks\n",
        "\t\tif self.use_cuda:\n",
        "\t\t    self.cuda()\n",
        "\n",
        "\tdef model(self, xs, ys):\n",
        "\t\tpyro.module(\"cvae\", self)\n",
        "\t\tbatch_size = xs.size(0)\n",
        "\t\toptions = dict(dtype=xs.dtype, device=xs.device)\n",
        "\t\twith pyro.plate(\"data\"):\n",
        "\t\t\tprior_loc = torch.zeros(batch_size, self.z_dim, **options)\n",
        "\t\t\tprior_scale = torch.ones(batch_size, self.z_dim, **options)\n",
        "\t \n",
        "\t\t\tzs = pyro.sample(\"z\", dist.Normal(prior_loc, prior_scale).to_event(1))\n",
        "\t\t\t# if the label y (which digit to write) is supervised, sample from the\n",
        "\t\t\t# constant prior, otherwise, observe the value (i.e. score it against the constant prior)\n",
        "\t\t\tloc = self.decoder.forward(zs, self.remap_y(ys))\n",
        "\t\t\n",
        "\t\t\tpyro.sample(\"x\", dist.Bernoulli(loc).to_event(1), obs=xs)\n",
        "\t\t  \t# return the loc so we can visualize it later\n",
        "\t\t\treturn loc\n",
        "##############################################################################\n",
        "\tdef f_x(self, zs, ys):\n",
        "\n",
        "\t\t#ys = pyro.sample('y', dist.Normal(torch.tensor(0.0), torch.tensor(1.0)).to_event(1), obs=ys)\n",
        "\t\t#nx = pyro.sample('nx', dist.Normal(torch.tensor(0.0), torch.tensor(1.0)))\n",
        "\n",
        "\t\tloc = self.decoder.forward(zs, self.remap_y(ys))\n",
        "\t\n",
        "\t\t#x = 1.0 if nx < p_x else 0.0\n",
        "\t\t\n",
        "\t\t#return pyro.sample('x', dist.Normal(torch.tensor(x), torch.tensor(0.0001)))\n",
        "\t\t#print(\"p_x is {}\".format(p_x))\n",
        "\t\treturn loc\n",
        "\n",
        "\tdef model2(self, xs, ys):\n",
        "\t\tpyro.module(\"cvae\", self)\n",
        "\t\tbatch_size = xs.size(0)\n",
        "\t\toptions = dict(dtype=xs.dtype, device=xs.device)\n",
        "\t\n",
        "\n",
        "\t\twith pyro.plate(\"data\"):\n",
        "\t\t\tprior_loc = torch.zeros(batch_size, self.z_dim, **options)\n",
        "\t\t\tprior_scale = torch.ones(batch_size, self.z_dim, **options)\n",
        "\t\t\n",
        "\t\t\tzs = pyro.sample(\"z\", dist.Normal(prior_loc, prior_scale).to_event(1))\n",
        "\t \n",
        "\t\t\t# if the label y (which digit to write) is supervised, sample from the\n",
        "\t\t\t# constant prior, otherwise, observe the value (i.e. score it against the constant prior)\n",
        "\t\t\tloc = self.f_x(zs, ys)\n",
        "\t \n",
        "\t\t\t#print(\"loc is {}\".format(loc))\n",
        "\t\t\t#x = self.f_x(loc)\n",
        "\t\t\tpyro.sample(\"x\", dist.Bernoulli(loc).to_event(1), obs=xs)\n",
        "\t\t\t\t# return the loc so we can visualize it later\n",
        "\t\t\treturn loc\n",
        "\t\t\t\n",
        "##############################################################################\n",
        "\tdef guide(self, xs, ys):\n",
        "\t\twith pyro.plate(\"data\"):\n",
        "\t\t\t# sample (and score) the latent handwriting-style with the variational\n",
        "\t\t\t# distribution q(z|x) = normal(loc(x),scale(x))\n",
        "\t\t\tloc, scale = self.encoder.forward(xs, self.remap_y(ys))\n",
        "\t\t\tpyro.sample(\"z\", dist.Normal(loc, scale).to_event(1))\n",
        "\n",
        "\tdef remap_y(self, ys):\n",
        "\t\tnew_ys = []\n",
        "\t\toptions = dict(dtype=ys.dtype, device=ys.device)\n",
        "\t\tfor i, label_length in enumerate(self.label_shape):\n",
        "\t\t    prior = torch.ones(ys.size(0), label_length, **options) / (1.0 * label_length)\n",
        "\t\t    new_ys.append(pyro.sample(\"y_%s\" % self.label_names[i], dist.OneHotCategorical(prior), \n",
        "\t\t                           obs=torch.nn.functional.one_hot(ys[:,i].to(torch.int64), int(label_length))))\n",
        "\t\tnew_ys = torch.cat(new_ys, -1)\n",
        "\t\treturn new_ys.to(torch.float32)\n",
        "\n",
        "\tdef reconstruct_image(self, xs, ys):\n",
        "\t\t# backward\n",
        "\t\tsim_z_loc, sim_z_scale = self.encoder.forward(xs, self.remap_y(ys))\n",
        "\t\tzs = dist.Normal(sim_z_loc, sim_z_scale).to_event(1).sample()\n",
        "\t\t# forward\n",
        "\t\tloc = self.decoder.forward(zs, self.remap_y(ys))\n",
        "\t\treturn dist.Bernoulli(loc).to_event(1).sample()"
      ],
      "execution_count": 0,
      "outputs": []
    },
    {
      "cell_type": "code",
      "metadata": {
        "id": "1mmMe3D8CqWo",
        "colab_type": "code",
        "colab": {}
      },
      "source": [
        "def setup_data_loaders(train_x, test_x, train_y, test_y, batch_size=128, use_cuda=False):\n",
        "\ttrain_dset = torch.utils.data.TensorDataset(\n",
        "\t  torch.from_numpy(train_x.astype(np.float32)).reshape(-1, 4096),\n",
        "\t  torch.from_numpy(train_y.astype(np.float32))\n",
        "\t)\n",
        "\ttest_dset = torch.utils.data.TensorDataset(\n",
        "\t  torch.from_numpy(test_x.astype(np.float32)).reshape(-1, 4096),\n",
        "\t  torch.from_numpy(test_y.astype(np.float32))\n",
        "\t)    \n",
        "\tkwargs = {'num_workers': 1, 'pin_memory': use_cuda}\n",
        "\ttrain_loader = torch.utils.data.DataLoader(\n",
        "\t  dataset=train_dset, batch_size=batch_size, shuffle=False, **kwargs\n",
        "\t)\n",
        "\n",
        "\ttest_loader = torch.utils.data.DataLoader(\n",
        "\t  dataset=test_dset, batch_size=batch_size, shuffle=False, **kwargs\n",
        "\t)\n",
        "\treturn {\"train\":train_loader, \"test\":test_loader}"
      ],
      "execution_count": 0,
      "outputs": []
    },
    {
      "cell_type": "markdown",
      "metadata": {
        "id": "8Fcw6f5629IV",
        "colab_type": "text"
      },
      "source": [
        "### **Load Dataset**"
      ]
    },
    {
      "cell_type": "code",
      "metadata": {
        "id": "azMSBtsnCqWr",
        "colab_type": "code",
        "colab": {}
      },
      "source": [
        "dataset_zip = np.load(\n",
        "    '/content/gdrive/My Drive/Colab Notebooks/Causal_Inference/data/dsprites-dataset/dsprites_ndarray_co1sh3sc6or40x32y32_64x64.npz',\n",
        "    encoding = 'bytes',\n",
        "    allow_pickle=True\n",
        ")\n",
        "\n",
        "imgs = dataset_zip['imgs']\n",
        "labels = dataset_zip['latents_classes']\n",
        "label_sizes = dataset_zip['metadata'][()][b'latents_sizes']\n",
        "label_names = dataset_zip['metadata'][()][b'latents_names']\n",
        "\n",
        "# Sample imgs randomly\n",
        "indices_sampled = np.arange(imgs.shape[0])\n",
        "np.random.shuffle(indices_sampled)\n",
        "imgs_sampled = imgs[indices_sampled]\n",
        "labels_sampled = labels[indices_sampled]\n",
        "\n",
        "data_loaders = setup_data_loaders(\n",
        "    imgs_sampled[1000:],\n",
        "    imgs_sampled[:1000],\n",
        "    labels_sampled[1000:],\n",
        "    labels_sampled[:1000],\n",
        "    batch_size=256,\n",
        "    use_cuda=USE_CUDA\n",
        ")"
      ],
      "execution_count": 0,
      "outputs": []
    },
    {
      "cell_type": "code",
      "metadata": {
        "id": "Eamf-n9hCqWt",
        "colab_type": "code",
        "colab": {}
      },
      "source": [
        "def train(svi, train_loader, use_cuda=False):\n",
        "\t# initialize loss accumulator\n",
        "\tepoch_loss = 0.\n",
        "\t# do a training epoch over each mini-batch x returned\n",
        "\t# by the data loader\n",
        "\tfor xs,ys in train_loader:\n",
        "\t  # if on GPU put mini-batch into CUDA memory\n",
        "\t  if use_cuda:\n",
        "\t      xs = xs.cuda()\n",
        "\t      ys = ys.cuda()\n",
        "\t  # do ELBO gradient and accumulate loss\n",
        "\t  epoch_loss += svi.step(xs, ys)\n",
        "\t# return epoch loss\n",
        "\tnormalizer_train = len(train_loader.dataset)\n",
        "\ttotal_epoch_loss_train = epoch_loss / normalizer_train\n",
        "\treturn total_epoch_loss_train\n",
        "\n",
        "def evaluate(svi, test_loader, use_cuda=False):\n",
        "\t# initialize loss accumulator\n",
        "\ttest_loss = 0.\n",
        "\t# compute the loss over the entire test set\n",
        "\tfor xs, ys in test_loader:\n",
        "\t  # if on GPU put mini-batch into CUDA memory\n",
        "\t  if use_cuda:\n",
        "\t      xs = xs.cuda()\n",
        "\t      ys = ys.cuda()\n",
        "\t  # compute ELBO estimate and accumulate loss\n",
        "\t  test_loss += svi.evaluate_loss(xs, ys)\n",
        "\tnormalizer_test = len(test_loader.dataset)\n",
        "\ttotal_epoch_loss_test = test_loss / normalizer_test\n",
        "\treturn total_epoch_loss_test"
      ],
      "execution_count": 0,
      "outputs": []
    },
    {
      "cell_type": "code",
      "metadata": {
        "id": "LR-hW5UzCqWv",
        "colab_type": "code",
        "colab": {}
      },
      "source": [
        "# Run options\n",
        "LEARNING_RATE = 1.0e-3\n",
        "\n",
        "# Run only for a single iteration for testing\n",
        "NUM_EPOCHS = 10\n",
        "TEST_FREQUENCY = 5"
      ],
      "execution_count": 0,
      "outputs": []
    },
    {
      "cell_type": "markdown",
      "metadata": {
        "id": "TtCW3_agE7N_",
        "colab_type": "text"
      },
      "source": [
        "### **Only run below if re-training model parameters**\n",
        "\n",
        "## =================================================================================="
      ]
    },
    {
      "cell_type": "code",
      "metadata": {
        "id": "hIuVKC2lCqWx",
        "colab_type": "code",
        "outputId": "83834fce-f293-4184-8ec6-c0552a338f92",
        "colab": {
          "base_uri": "https://localhost:8080/",
          "height": 240
        }
      },
      "source": [
        "import warnings\n",
        "warnings.filterwarnings('ignore')\n",
        "\n",
        "# clear param store\n",
        "pyro.clear_param_store()\n",
        "\n",
        "# setup the VAE\n",
        "vae = CVAE(use_cuda=USE_CUDA)\n",
        "\n",
        "# setup the optimizer\n",
        "adam_args = {\"lr\": LEARNING_RATE}\n",
        "optimizer = Adam(adam_args)\n",
        "\n",
        "# setup the inference algorithm\n",
        "svi = SVI(vae.model2, vae.guide, optimizer, loss=Trace_ELBO())\n",
        "\n",
        "train_elbo = []\n",
        "test_elbo = []\n",
        "# training loop\n",
        "\n",
        "VERBOSE = True\n",
        "pbar = tqdm(range(NUM_EPOCHS))\n",
        "for epoch in pbar:\n",
        "    total_epoch_loss_train = train(svi, data_loaders[\"train\"], use_cuda=USE_CUDA)\n",
        "    train_elbo.append(-total_epoch_loss_train)\n",
        "    if VERBOSE:\n",
        "        print(\"[epoch %03d]  average training loss: %.4f\" % (epoch, total_epoch_loss_train))\n",
        "    if epoch % TEST_FREQUENCY == 0:\n",
        "        # report test diagnostics\n",
        "        total_epoch_loss_test = evaluate(svi, data_loaders[\"test\"], use_cuda=USE_CUDA)\n",
        "        test_elbo.append(-total_epoch_loss_test)\n",
        "        if VERBOSE:\n",
        "            print(\"[epoch %03d] average test loss: %.4f\" % (epoch, total_epoch_loss_test))"
      ],
      "execution_count": 0,
      "outputs": [
        {
          "output_type": "stream",
          "text": [
            "\r  0%|          | 0/10 [00:00<?, ?it/s]"
          ],
          "name": "stderr"
        },
        {
          "output_type": "stream",
          "text": [
            "[epoch 000]  average training loss: 158.0067\n"
          ],
          "name": "stdout"
        },
        {
          "output_type": "stream",
          "text": [
            "\r 10%|█         | 1/10 [01:25<12:52, 85.89s/it]"
          ],
          "name": "stderr"
        },
        {
          "output_type": "stream",
          "text": [
            "[epoch 000] average test loss: 93.3592\n"
          ],
          "name": "stdout"
        },
        {
          "output_type": "stream",
          "text": [
            "\r 20%|██        | 2/10 [02:50<11:23, 85.45s/it]"
          ],
          "name": "stderr"
        },
        {
          "output_type": "stream",
          "text": [
            "[epoch 001]  average training loss: 76.6287\n"
          ],
          "name": "stdout"
        },
        {
          "output_type": "stream",
          "text": [
            "\r 30%|███       | 3/10 [04:13<09:53, 84.83s/it]"
          ],
          "name": "stderr"
        },
        {
          "output_type": "stream",
          "text": [
            "[epoch 002]  average training loss: 64.2868\n"
          ],
          "name": "stdout"
        },
        {
          "output_type": "stream",
          "text": [
            "\r 40%|████      | 4/10 [05:38<08:29, 84.84s/it]"
          ],
          "name": "stderr"
        },
        {
          "output_type": "stream",
          "text": [
            "[epoch 003]  average training loss: 44.7928\n"
          ],
          "name": "stdout"
        },
        {
          "output_type": "stream",
          "text": [
            "\r 50%|█████     | 5/10 [07:03<07:04, 84.85s/it]"
          ],
          "name": "stderr"
        },
        {
          "output_type": "stream",
          "text": [
            "[epoch 004]  average training loss: 35.1861\n",
            "[epoch 005]  average training loss: 29.1050\n"
          ],
          "name": "stdout"
        },
        {
          "output_type": "stream",
          "text": [
            "\r 60%|██████    | 6/10 [08:28<05:39, 84.91s/it]"
          ],
          "name": "stderr"
        },
        {
          "output_type": "stream",
          "text": [
            "[epoch 005] average test loss: 27.7909\n"
          ],
          "name": "stdout"
        },
        {
          "output_type": "stream",
          "text": [
            "\r 70%|███████   | 7/10 [09:53<04:14, 84.81s/it]"
          ],
          "name": "stderr"
        },
        {
          "output_type": "stream",
          "text": [
            "[epoch 006]  average training loss: 22.5089\n"
          ],
          "name": "stdout"
        },
        {
          "output_type": "stream",
          "text": [
            "\r 80%|████████  | 8/10 [11:18<02:49, 84.94s/it]"
          ],
          "name": "stderr"
        },
        {
          "output_type": "stream",
          "text": [
            "[epoch 007]  average training loss: 19.1186\n"
          ],
          "name": "stdout"
        },
        {
          "output_type": "stream",
          "text": [
            "\r 90%|█████████ | 9/10 [12:43<01:24, 84.98s/it]"
          ],
          "name": "stderr"
        },
        {
          "output_type": "stream",
          "text": [
            "[epoch 008]  average training loss: 17.7173\n"
          ],
          "name": "stdout"
        },
        {
          "output_type": "stream",
          "text": [
            "100%|██████████| 10/10 [14:09<00:00, 84.91s/it]"
          ],
          "name": "stderr"
        },
        {
          "output_type": "stream",
          "text": [
            "[epoch 009]  average training loss: 16.6774\n"
          ],
          "name": "stdout"
        },
        {
          "output_type": "stream",
          "text": [
            "\n"
          ],
          "name": "stderr"
        }
      ]
    },
    {
      "cell_type": "markdown",
      "metadata": {
        "id": "navbYZazFD0E",
        "colab_type": "text"
      },
      "source": [
        "## =================================================================================="
      ]
    },
    {
      "cell_type": "code",
      "metadata": {
        "id": "puMbph4idkYg",
        "colab_type": "code",
        "outputId": "e1212da9-1726-4874-8ea9-97f7f855e8ff",
        "colab": {
          "base_uri": "https://localhost:8080/",
          "height": 34
        }
      },
      "source": [
        "#################################\n",
        "### FOR SAVING AND LOADING MODEL\n",
        "################################\n",
        "# clear param store\n",
        "\n",
        "pyro.clear_param_store()\n",
        "\n",
        "network_path = \"/content/gdrive/My Drive/Colab Notebooks/Causal_Inference/trained_model.save\"\n",
        "\n",
        "#PATH = \"/content/gdrive/My Drive/causalvae/trained_model.save\"\n",
        "\n",
        "# new model\n",
        "# vae = CVAE(use_cuda=USE_CUDA)\n",
        "\n",
        "# save current model\n",
        "\n",
        "\n",
        "# to load params from trained model\n",
        "# vae = CVAE(use_cuda=USE_CUDA)\n",
        "torch.save(vae.state_dict(), network_path)\n",
        "vae.load_state_dict(torch.load(network_path))"
      ],
      "execution_count": 0,
      "outputs": [
        {
          "output_type": "execute_result",
          "data": {
            "text/plain": [
              "<All keys matched successfully>"
            ]
          },
          "metadata": {
            "tags": []
          },
          "execution_count": 18
        }
      ]
    },
    {
      "cell_type": "markdown",
      "metadata": {
        "id": "aFnfYMd3CqW0",
        "colab_type": "text"
      },
      "source": [
        "## Visualizing the reconstruction accuracy of VAE"
      ]
    },
    {
      "cell_type": "code",
      "metadata": {
        "id": "nIt0T2eUCqW0",
        "colab_type": "code",
        "colab": {}
      },
      "source": [
        "import warnings\n",
        "warnings.filterwarnings(\"ignore\")\n",
        "\n",
        "data_iter = iter(data_loaders[\"train\"])\n",
        "xs, ys = next(data_iter)\n",
        "\n",
        "if USE_CUDA:\n",
        "    xs = xs.cuda()\n",
        "    ys = ys.cuda()\n",
        "rs = vae.reconstruct_image(xs, ys)\n",
        "\n",
        "if USE_CUDA:\n",
        "    xs = xs.cpu()\n",
        "    rs = rs.cpu()\n",
        "    \n",
        "originals = xs.numpy().reshape(-1, 64,64)\n",
        "recons = rs.reshape(-1,64,64)"
      ],
      "execution_count": 0,
      "outputs": []
    },
    {
      "cell_type": "code",
      "metadata": {
        "id": "1YBT2lo7CqW2",
        "colab_type": "code",
        "outputId": "c0020bc2-97d9-4fb0-8177-12ee0581b6a9",
        "colab": {
          "base_uri": "https://localhost:8080/",
          "height": 232,
          "referenced_widgets": [
            "44be884c034f479d923a08edb21a4317",
            "6096533a70bf49afbdaeb90471a2ef43",
            "42710990b63f4c0b9ba19312b3b096f6",
            "fdd6a5524e8b4eb494a9fd2e44ac342d",
            "f15a295b093947f2b6e83dd87c66a8e6",
            "29f06f39e2d44fcbb7bb1067c3da9965",
            "5d315ce6955a4dc8abcb771e6f776c48"
          ]
        }
      },
      "source": [
        "# [ 0,  2,  1, 34,  4, 24]\n",
        "def recon_check(original, recon):\n",
        "  fig = plt.figure()\n",
        "  ax0 = fig.add_subplot(121)\n",
        "  plt.imshow(original, cmap='Greys_r',  interpolation='nearest')\n",
        "  plt.axis('off')\n",
        "  ax1 = fig.add_subplot(122)\n",
        "  plt.imshow(recon , cmap='Greys_r', interpolation='nearest')\n",
        "  plt.axis('off')\n",
        "  \n",
        "def f(x):\n",
        "    fig = plt.figure()\n",
        "    ax0 = fig.add_subplot(121)\n",
        "    plt.imshow(originals[x], cmap='Greys_r',  interpolation='nearest')\n",
        "    plt.axis('off')\n",
        "    ax1 = fig.add_subplot(122)\n",
        "    plt.imshow(recons[x], cmap='Greys_r',  interpolation='nearest')\n",
        "    plt.axis('off')\n",
        "    \n",
        "interact(f, x=widgets.IntSlider(min=0, max=xs.shape[0], step=1, value=0))"
      ],
      "execution_count": 0,
      "outputs": [
        {
          "output_type": "display_data",
          "data": {
            "application/vnd.jupyter.widget-view+json": {
              "model_id": "44be884c034f479d923a08edb21a4317",
              "version_minor": 0,
              "version_major": 2
            },
            "text/plain": [
              "interactive(children=(IntSlider(value=0, description='x', max=256), Output()), _dom_classes=('widget-interact'…"
            ]
          },
          "metadata": {
            "tags": []
          }
        },
        {
          "output_type": "execute_result",
          "data": {
            "text/plain": [
              "<function __main__.f>"
            ]
          },
          "metadata": {
            "tags": []
          },
          "execution_count": 20
        }
      ]
    },
    {
      "cell_type": "code",
      "metadata": {
        "id": "EVCzRnuIzNpL",
        "colab_type": "code",
        "outputId": "04c56879-8df8-4d64-fc3c-0ccc91382e38",
        "colab": {
          "base_uri": "https://localhost:8080/",
          "height": 425,
          "referenced_widgets": [
            "39fb7a1065324fdb8380606d29c74f45",
            "3febcc4bf9e548b38a01b757f1411a61",
            "b26767d4823f402a8dd316a28f3fb632",
            "352b3c1c9b70422c93b3a770124d4036",
            "c786b99736b34347ad642be6cb1525a1",
            "d1d245f399344248b8caf6edebced4e8",
            "8b91df243ad04127bd57029d472f9009",
            "46914fe5f50a4083babb184cf57e55e6",
            "c4a0b4dbfe6a448db13cb6944bfdadaf",
            "d9568e2ea06a4647922ef3fd869b0c30",
            "4c27209ce69c4cdb905bfe0b84c64940",
            "d173b020244c47808dc638593131e67d",
            "92cf7d8f2d8d4529abbb3f38179e6ad3",
            "46dd7d0bb51744228965b5b24684f624",
            "52fd0e906d22473f9cafc6cd6a3c55ba",
            "a5505200c0694fd29a486ccc44395b1e",
            "48849a18ce0442f7b309e4419d3bebbe",
            "c5a956b96ec64b79833398549ada255e",
            "d6aca64197724690ac4553e37432ed31"
          ]
        }
      },
      "source": [
        "y_names = ['shape', 'scale', 'orientation', 'posX', 'posY']\n",
        "y_shapes = np.array((3,6,40,32,32))\n",
        "img_dict = {}\n",
        "\n",
        "for i, img in enumerate(imgs_sampled):\n",
        "     img_dict[tuple(labels_sampled[i])] = img\n",
        "\n",
        "def find_in_dataset(shape, scale, orient, posX, posY):\n",
        "  fig = plt.figure()\n",
        "  img = img_dict[(0, shape, scale, orient, posX, posY)]\n",
        "  plt.imshow(img.reshape(64,64), cmap='Greys_r', interpolation='nearest')\n",
        "  plt.axis('off')\n",
        "\n",
        "interact(find_in_dataset, \n",
        "         shape=widgets.IntSlider(min=0, max=2, step=1, value=0),\n",
        "         scale=widgets.IntSlider(min=0, max=5, step=1, value=0),\n",
        "         orient=widgets.IntSlider(min=0, max=39, step=1, value=0),\n",
        "         posX=widgets.IntSlider(min=0, max=31, step=1, value=0),\n",
        "         posY=widgets.IntSlider(min=0, max=31, step=1, value=0))"
      ],
      "execution_count": 0,
      "outputs": [
        {
          "output_type": "display_data",
          "data": {
            "application/vnd.jupyter.widget-view+json": {
              "model_id": "39fb7a1065324fdb8380606d29c74f45",
              "version_minor": 0,
              "version_major": 2
            },
            "text/plain": [
              "interactive(children=(IntSlider(value=0, description='shape', max=2), IntSlider(value=0, description='scale', …"
            ]
          },
          "metadata": {
            "tags": []
          }
        },
        {
          "output_type": "execute_result",
          "data": {
            "text/plain": [
              "<function __main__.find_in_dataset>"
            ]
          },
          "metadata": {
            "tags": []
          },
          "execution_count": 21
        }
      ]
    },
    {
      "cell_type": "code",
      "metadata": {
        "id": "1EueLb0OzSDm",
        "colab_type": "code",
        "outputId": "236b0b9b-c61d-49a3-e971-f5e7eb33d499",
        "colab": {
          "base_uri": "https://localhost:8080/",
          "height": 279
        }
      },
      "source": [
        "def get_specific_data(args=dict(), cuda=False):\n",
        "    '''\n",
        "    use this function to get examples of data with specific class labels\n",
        "    inputs: \n",
        "        args - dictionary whose keys can include {shape, scale, orientation,\n",
        "                posX, posY} and values can include any integers less than the \n",
        "                corresponding size of that label dimension\n",
        "        cuda - bool to indicate whether the output should be placed on GPU\n",
        "    '''\n",
        "    names_dict = {'shape': 1, 'scale': 2, 'orientation': 3, 'posX': 4, 'posY': 5}\n",
        "    selected_ind = np.ones(imgs.shape[0], dtype=bool)\n",
        "    for k,v in args.items():\n",
        "        col_id = names_dict[k]\n",
        "        selected_ind = np.bitwise_and(selected_ind, labels[:, col_id] == v)\n",
        "    ind = np.random.choice(np.arange(imgs.shape[0])[selected_ind])\n",
        "    x = torch.from_numpy(imgs[ind].reshape(1,64**2).astype(np.float32))\n",
        "    y = torch.from_numpy(labels[ind].reshape(1,6).astype(np.float32))\n",
        "    if not cuda:\n",
        "        return x,y\n",
        "    x = x.cuda()\n",
        "    y = y.cuda()\n",
        "    return x,y\n",
        "\n",
        "def plot_image(x):\n",
        "    \"\"\"\n",
        "    helper to plot dSprites images\n",
        "    \"\"\"\n",
        "    x = x.cpu()\n",
        "    plt.figure()\n",
        "    plt.imshow(x.reshape(64,64), interpolation='nearest', cmap='Greys_r')\n",
        "    plt.axis('off')\n",
        "\n",
        "def see_specific_image(args=dict(), verbose=True):\n",
        "    '''\n",
        "    use this function to get examples of data with specific class labels\n",
        "    inputs: \n",
        "        args - dictionary whose keys can include {shape, scale, orientation,\n",
        "                posX, posY} and values can include any integers less than the \n",
        "                corresponding size of that label dimension\n",
        "        verbose - bool to indicate whether the full class label should be written \n",
        "                    as the title of the plot\n",
        "    '''\n",
        "    x,y = get_specific_data(args, cuda=False)\n",
        "    plot_image(x)\n",
        "    if verbose:\n",
        "        string = ''\n",
        "        for i, s in enumerate(['Shape', 'Scale', 'Orientation', 'PosX', 'PosY']):\n",
        "            string += '%s: %d, ' % (s, int(y[0][i+1]))\n",
        "            if i == 2:\n",
        "                string = string[:-2] + '\\n'\n",
        "        plt.title(string[:-2], fontsize=12)\n",
        "        \n",
        "def compare_reconstruction(original, recon):\n",
        "    \"\"\"\n",
        "    compare two images side by side\n",
        "    inputs:\n",
        "        original - array for original image\n",
        "        recon - array for recon image\n",
        "    \"\"\"\n",
        "    fig = plt.figure()\n",
        "    ax0 = fig.add_subplot(121)\n",
        "    plt.imshow(original.cpu().reshape(64,64), cmap='Greys_r',  interpolation='nearest')\n",
        "    plt.axis('off')\n",
        "    plt.title('original')\n",
        "    ax1 = fig.add_subplot(122)\n",
        "    plt.imshow(recon.cpu().reshape(64,64), cmap='Greys_r',  interpolation='nearest')\n",
        "    plt.axis('off')\n",
        "    plt.title('reconstruction')\n",
        "    \n",
        "def compare_to_density(original, recons):\n",
        "    \"\"\"\n",
        "    compare two images side by side\n",
        "    inputs:\n",
        "        original - array for original image\n",
        "        recon - array of multiple recon images\n",
        "    \"\"\"\n",
        "    fig = plt.figure()\n",
        "    ax0 = fig.add_subplot(121)\n",
        "    plt.imshow(original.cpu().reshape(64,64), cmap='Greys_r',  interpolation='nearest')\n",
        "    plt.axis('off')\n",
        "    plt.title('original')\n",
        "    ax1 = fig.add_subplot(122)\n",
        "    plt.imshow(torch.mean(recons.cpu(), 0).reshape(64,64), cmap='Greys_r',  interpolation='nearest')\n",
        "    plt.axis('off')\n",
        "    plt.title('reconstructions')\n",
        "\n",
        "        \n",
        "see_specific_image()"
      ],
      "execution_count": 0,
      "outputs": [
        {
          "output_type": "display_data",
          "data": {
            "image/png": "iVBORw0KGgoAAAANSUhEUgAAAOcAAAEGCAYAAACem4KzAAAABHNCSVQICAgIfAhkiAAAAAlwSFlz\nAAALEgAACxIB0t1+/AAAADh0RVh0U29mdHdhcmUAbWF0cGxvdGxpYiB2ZXJzaW9uMy4yLjEsIGh0\ndHA6Ly9tYXRwbG90bGliLm9yZy+j8jraAAAQ/ElEQVR4nO3cfbRcVX3G8e+ThECAQBIENBCgiESK\nWisIWEFeq/Lmy2prCyhBlBJYVaFosQgiIriKRdDyVrGrYAmvVRBiERe0tAUkiksLUhBZkkDEIC8J\n4QatILt//PYlJ+OdyczkJvd3730+a81a95632WfmPGfvfc4+o1IKZpbPhJEugJkNzeE0S8rhNEvK\n4TRLyuE0S8rhNEtq2MMp6ShJdwz3dsciSbdL+vBIl6Nfki6RdNpIlwNA0l6SfjLS5RhOfYVT0p6S\n7pL0rKRnJN0p6c3DXbjhJulwSYskrZB0g6QZPax7iqRHJA1IWizpmrVZ1n5JOlJS6SX0Cp+Q9FNJ\nv5L0qKTPS1q/03qllLmllDOHocz7SFrc4zpF0g6Nsvx3KWX2mpali/d9RT3en5a0TNJ3Jb21zbK3\n1XJO6ue9eg6npE2A+cA/ADOArYAzgP/rpwDriqSdgX8EPgBsCTwPXNTlunPqegeUUjYGdgVuW0tF\n7Zuk6cApwP09rvpl4C+BI4GpwIHA/sC1Hd5rYp/FHO0GgKOBzYHpwN8BN7UGUNIRwHpr9E6llJ5e\nxIG5rMP8o4A7gL8HlgKPAAc25n8QeAB4DvgZcGxj3j7AYuIAewpYCBzRmL9+3e6jwBPAJcCULst9\nNnBl4/9XA78Bpnax7gXA+R3mzwD+GXi87vMNdfp04kT2ZJ0+H9i6sd7twIcb/x9dP5ulwC3Atj1+\nN5cAx7dudzXrvAb4LbBby/RZxAl3v/r/ZcDFwL8BK4AD6rTPNdY5BPgRsAy4C3hDY95C4OPAvcCz\nwDXABsBGwK+Al4gDfwCYCewGfLdu6xf1O5hct/VfQKnlGAD+fPDYabzfTvVzWEacrN7VmHcZcCHw\nrXocLgBe3UcWJgCH1rJs0Zi+KfAQsEedN6nXbZdS+grnJsDTwOXEGXb6EOF8ATgGmAgcVw9a1fkH\nE8EQsDdRg72pEc4XgS8SQdy7fgGz6/zzgBuJMEwFbgI+33jvZcCebcr9TeDklmkDwC5d7PP7gWeA\nTxAnp4kt879VD7bpxNly7zp9M+BPgA1rea+jBrc1nMC7gYfrQTUJOBW4q7HsfOCTHcq4G3BPPWBe\n3m4X+zYXWNRm3n8Ofr71gH4WeGt9jw1ohBP4Q+CXwO71e59DBHL9Rji/RwRvBnESmtv43he3vPcu\nxME9CdiuLn9CY34Bdmj8//I26nfwMHGSnwzsR4RwdmNfnq6f2SRgHnB1t591XeZe4uRegEtb5l0I\nnFjLve7CWd98p7qDi4kw3Qhs2Qjnw41lN6wFfGWbbd0AfKwlnBs15l8LnEaEeQWNMxzwFuCRLst8\n2+DB0Jj2c2CfLtc/Ari1luFpatCBVxFn/eldbOONwNI24bwZ+FBj3gTixLVtF9udSARzj9btdrHu\nqcDdbeZdPXjg1e/7ay3zL2NlOC8GzmyZ/xNWnqgWAu9vzDsHuKQ1WB3KeQJwfeP/TuHcC1gCTGjM\nvwr4TKPcX23MOwh4sI8cbAAcBsxpTNuVaD0MnlT6DmdfHdVSygNECJH0WuAK4PxaUOoHM7js85IA\nNq7LHwicDuxIHIAbAvc1Nr+0lLKi8f8i4my7eV32B3V7EIHttu8zQNT6TZsQZ9TVKqXMA+ZJWg94\nT/37R0QT9JlSytLWdSRtSNT27yRqVYCpkiaWUn7bsvi2wJckndvcBNGnX7Sa4h0P3FtKububfWnx\nFHGCGcqriG7JoMc6bGdbYI6kjzSmTSa+u0FLGn8/3zJvFZJ2JFpQuxLf+yTgBx3ev2km8Fgp5aXG\ntEXEZ9muLBt3ue2XlVJ+DVwl6YF6LNxHXMf4WCnlxcZx2pc1vpVSSnmQOBO9bnXL1qt/Xyf6jVuW\nUqYRfZjmXkyXtFHj/22IZvFTRN9k51LKtPratMQFmm7cD/xBoyzbE03nh7pcH4BSygullOuIZs3r\niAN2hqRpQyx+EjAb2L2UsgnwtsG3H2LZx4j+97TGa0op5a4uirU/8F5JSyQtAf4IOFfSBV2s++/A\nLEm7NSdKmkU0K5sXvjo9wvQYcFZL+TcspVzVRRmG2u7FwIPAa+pndwpDf25DeZzYp+bxvQ3RUlob\n1gO2J072uwLX1O/h+3X+Ykl79brRfq7WvlbSSZK2rv/PImrMbs7ak4lAPAm8WGvRtw+x3BmSJtcd\nOgS4rp4FLwXOk7RFfe+tJL2jy6LPAw6t98M2Aj4LfKOU8lzd1mWSLmuzz0dJOljSVEkTarl3BhaU\nUn5BNEkvkjRd0nqSBkM4lTihLKu3bU7vUL5LgL+tV5WRtKmkP+ty344iuhpvrK97iCvon2qUf+FQ\nK5ZSHqrvPU/SHpIm1jJ8Hbi1lHJrl2W4FJgrafd6a2ajwc+si3WfADaTtGlj2lRgOTBQW2fHDbHO\n9m22t4CoDf+mfh/7EBduru5yX9qqn9Ge9ficIulk4ur/AqJPPpOV38NBdbVd6vye9FNzPkd0+hdI\nWkGE8sdELdFRDcJHiX7kUuBwor/atKTOe5wI1NxaOwOcTHT075a0nOgDvnxvq96DHPIMVUq5n7j4\nMY+4cDGVaA4OmgXc2aboy4kz96PERadzgONKKYODLT5AXAR7sG77hDr9fGAKUevfDXy7zfYppVxP\nXJa/uu7bj4kLboP7drOkU9qsu6yUsmTwRVyoWF5KebaLfQP4K+CrRPdkoJbzduJiVldKKfcQFwEv\nIL6/h6ldny7WfZDoE/6s3jucSVzZPZw43i4lLrg1fQa4vC7/vpbt/YYI44HEZ38RcGTjOOqo02dN\nVC4XEtcdfk4E8OBSyuMlNL+HJ+s6T9Qy9WTwCmoK9Qx3RSll63X8vpOB/yEu/b+wLt97XZD0HaIf\n9MBIl8W619cFobGmntV2GulyrC2llKG6DpacB76bJZWqWWtmK7nmNEvK4TRLyuGsJC2sj0sNSHqi\n3vfsedRIY3vn1qukzWnnS5rfwzY2l3Sl4tG8pZLmdbnedvVRpYH6Wijpk73uQ2N7n5N0W8u0HSUt\nl/T6DuvtKOmbkp5UPFp4i6QhH+vSGj5eNRY5nKs6tI44ehMx0uPUNdjWacD2kj4IIOktxGDwuT1s\n4xvEfd9tgC2IkVW9mFb35zDg05Le2eP6g84EXinpGIjnP4l7j18spdzXYb1pxH3s2cSN+u8RDyCs\nQsPxeNVY1M+A3LH4IgZmH9D4/wvA/Pr3u4jhf8uIm/M7NZY7mbgZ/Rwx0Hv/xrx9iZvV2xJPVRzb\nQ3neXss0sY992Y6WAdfEULKPEyfkU4mxpr8EvgZsWlYO5L6ilnlZXWfwgYbd6/SZwLHE8MX1eizX\njFquzRrThuXxqrH4cs05hDok8SDgh3UA9lXEqJ/NibHAN9XhW7OJ0TVvLqVMBd5BBAqAUsp/AP9K\nDNheAnyl5X2WSdqzTTH2IMJ+ueKp++9L2ruPfZHiSf2dgR8So3aOIk4c2xMDvgfH4M4hwjKLeNxt\nLjH8kFLKAmIM9b8AZwFHl1JekDS/hybz24AlpZSnG9POJsbRLhl6lXFspM8OWV5EqAaIGmMRMeRr\nCtE8vbax3ATqo2bADkTtcwBtahHiWdACHNNjeb5S1/sQ0eT7i1q2V3Sx7nZ13WXEULoHgI/WebcB\nxzeWnU0MPZxEPOy9ykPSLdudUj+b8/r4fLeun9thjWnD9njVWHyNeAGyvGhp1jamXwx8oWXa3dRf\naCDGf95RQ3A1MLOx3GZEjXAe8TT/tB7K8yVanlUlHkl6dxfrtj3Qa1APbvy/QV12q3oSOB34X2Js\n8zmtJx16eFa0sc7mdZufakybQPRB915dmcfry83a1Xuc6DMCL18MmUV9/KiUcmUpZc+6TCEGrw86\nH/h2KeVE4qc1ermgcy+/+yjVcIwYWWV/iItNLxKDs18opZxRSvl94rGzQ4jfFeqb4neNvgPcWEo5\nqzFrWB+vGoscztW7FjhY0v6KB61PIn5b5y5JsyXtp3hO9des/C0cJB0E/DHw13U7HwHeI2nfLt/3\neuLZ1jn1Ma4/JZqGd9btf0bS7X3sz1XAiZJ+r94qOhu4psTDwftKer3ix7uWE83dlzptrBPFj8Hd\nAtxZSmntlw7r41Vj0khX3VletGnW1nnvJZplzxK/q7Nznf4Gomn2HPEbQ/OJA24q8XjZ+1q2Mwf4\nKfVHyYg+7l4dyrQX0ZQdIJ7R3Ksx75+Ih5uHWm872jdrJwCfJh6OfpK4Oju9zjuMuAi1gnhe8sut\n2+B3f5TsZuCUNuWYw6o/xDX42qaXMo/Xl8fWjlKKn8XYv6x65dPGEIfTLCn3Oc2ScjjNknI4zZLq\n+ASAJHdIzdayUsqQP/npmtMsKYfTLCmH0ywph9MsKYfTLCmH0ywph9MsKYfTLCmH0ywph9MsKYfT\nLCmH0ywph9MsKYfTLCmH0ywph9MsKYfTLCmH0ywph9MsKYfTLCmH0ywph9MsKYfTLCmH0ywph9Ms\nKYfTLCmH0ywph9MsKYfTLCmH0ywph9MsKYfTLCmH0ywph9MsKYfTLCmH0ywph9MsKYfTLCmH0ywp\nh9MsKYfTLCmH0ywph9MsKYfTLCmH0ywph9MsKYfTLCmH0ywph9MsKYfTLCmH0ywph9MsKYfTLCmH\n0ywph9MsKYfTLCmH0ywph9MsKYfTLCmH0ywph9MsKYfTLCmH0ywph9MsKYfTLCmH0ywph9MsKYfT\nLCmH0ywph9MsKYfTLCmH0ywph9MsKYfTLCmH0ywph9MsKYfTLCmH0ywph9MsKYfTLCmH0ywph9Ms\nKYfTLCmH0ywph9MsKYfTLCmH0ywph9MsKYfTLCmH0ywph9MsKYfTLCmH0ywph9MsKYfTLCmH0ywp\nh9MsKYfTLKlJI12A0ayUMuR0Seu4JDYWueY0S8rhNEvKzdoetGvGrm45N3OtH645zZJyOM2ScjjN\nknKfczW67Wd2uw33P61brjnNknI4zZJys7bFcDRje9m+m7nWjmtOs6QcTrOk3Kxl7Tdlu31vN3Gt\nyTWnWVIOp1lSDqdZUuOyzzmSfcxO3P+0JtecZkk5nGZJjZtmbdambDseSWSuOc2ScjjNknI4zZIa\n033O0dbP7MS3WcYf15xmSTmcZkmNqWbtWGrGduLbLOODa06zpBxOs6RGfbN2vDRlO/GV3LHJNadZ\nUg6nWVIOp1lSo67P6T5mZ+5/jh2uOc2ScjjNkhoVzVo3ZfvjkUSjm2tOs6QcTrOkHE6zpEZFn7PZ\nV3L/08YL15xmSTmcZkmNimZtU+vtADdz2/Otk9HNNadZUg6nWVKjrlnbyldyV+Wm7NjhmtMsKYfT\nLCmH0yypUd/nbBqvt1nczxybXHOaJeVwmiU1ppq1rcbqbRY3Y8cH15xmSTmcZkk5nGZJjek+Z9No\n73+6nzn+uOY0S8rhNEtq3DRrm0bDSCI3Y801p1lSDqdZUuOyWdsqy5VcN2WtyTWnWVIOp1lSDqdZ\nUu5ztljXt1ncz7R2XHOaJeVwmiXlZu1qDPdtFjdjrVuuOc2ScjjNknI4zZJyn7MH/d5mcT/T+uGa\n0ywph9MsKTdrh4mbrjbcXHOaJeVwmiXlcJol5T7nGnA/09Ym15xmSTmcZkk5nGZJOZxmSTmcZkk5\nnGZJOZxmSTmcZkk5nGZJOZxmSTmcZkk5nGZJOZxmSTmcZkk5nGZJOZxmSTmcZkk5nGZJOZxmSTmc\nZkk5nGZJOZxmSTmcZkk5nGZJOZxmSTmcZkk5nGZJOZxmSTmcZkk5nGZJOZxmSTmcZkk5nGZJOZxm\nSTmcZkk5nGZJqZQy0mUwsyG45jRLyuE0S8rhNEvK4TRLyuE0S8rhNEvq/wH3NYtNRssdeAAAAABJ\nRU5ErkJggg==\n",
            "text/plain": [
              "<Figure size 432x288 with 1 Axes>"
            ]
          },
          "metadata": {
            "tags": []
          }
        }
      ]
    },
    {
      "cell_type": "code",
      "metadata": {
        "id": "OkB6V4LjESxV",
        "colab_type": "code",
        "outputId": "529c6b4b-5588-479e-e3e5-216208e6a794",
        "colab": {
          "base_uri": "https://localhost:8080/",
          "height": 34
        }
      },
      "source": [
        "label_dims = vae.label_shape\n",
        "label_dim_offsets = np.cumsum(label_dims)\n",
        "label_dim_offsets"
      ],
      "execution_count": 0,
      "outputs": [
        {
          "output_type": "execute_result",
          "data": {
            "text/plain": [
              "array([  1,   4,  10,  50,  82, 114])"
            ]
          },
          "metadata": {
            "tags": []
          },
          "execution_count": 24
        }
      ]
    },
    {
      "cell_type": "code",
      "metadata": {
        "id": "VXhaIdcBEHnS",
        "colab_type": "code",
        "colab": {}
      },
      "source": [
        "class SCM():\n",
        "    \"\"\"\n",
        "    Structural causal model\n",
        "    \n",
        "    args: \n",
        "      vae: instance of vae\n",
        "      mu: loc of q(z|x) given by the vae encoder\n",
        "      sigma: scale of q(z|x) given by the vae encoder\n",
        "    \n",
        "    \"\"\"\n",
        "    def __init__(self, vae, mu, sigma):\n",
        "        \"\"\"\n",
        "        Constructor\n",
        "        \n",
        "        Intializes :\n",
        "          image dimensions - 4096(64*64), \n",
        "          z dimensions: size of the tensor representing the latent random variable z, \n",
        "          label dimensions: 114 labels y that correspond to an image(one hot encoded)\n",
        "          f(x) = p(x|y,z)\n",
        "          Noise variables in the model N_#\n",
        "        \"\"\"\n",
        "        self.vae = vae\n",
        "        self.image_dim = vae.image_dim\n",
        "        self.z_dim = vae.z_dim\n",
        "        # these are used for f_X\n",
        "        self.label_dims = vae.label_shape\n",
        "        \n",
        "        def f_X(Y, Z, N):\n",
        "            \"\"\"\n",
        "            Generating one hots for the factors\n",
        "            \"\"\" \n",
        "            zs = Z.cuda()\n",
        "            # convert the labels to one hot\n",
        "            ys = [torch.tensor([0])]\n",
        "            ys.append(torch.nn.functional.one_hot(torch.round(Y[0]).to(torch.long), int(self.label_dims[1])))\n",
        "            ys.append(torch.nn.functional.one_hot(torch.round(Y[1]).to(torch.long), int(self.label_dims[2])))\n",
        "            ys.append(torch.nn.functional.one_hot(torch.round(Y[2]).to(torch.long), int(self.label_dims[3])))\n",
        "            ys.append(torch.nn.functional.one_hot(torch.round(Y[3]).to(torch.long), int(self.label_dims[4])))\n",
        "            ys.append(torch.nn.functional.one_hot(torch.round(Y[4]).to(torch.long), int(self.label_dims[5])))\n",
        "            ys = torch.cat(ys).to(torch.float32).reshape(1,-1).cuda()\n",
        "            p = vae.decoder.forward(zs, ys)\n",
        "            return (N < p.cpu()).type(torch.float)\n",
        "        \n",
        "        def f_Y(N):\n",
        "            \"\"\"\n",
        "            Gumbel distribution - to model the distribution of the maximum of a number of samples\n",
        "            m = Gumbel(torch.tensor([1.0]), torch.tensor([2.0])).sample() # sample from Gumbel distribution with loc=1, scale=2\n",
        "            tensor([ 1.0124])\n",
        "            \n",
        "            https://pytorch.org/docs/stable/_modules/torch/distributions/gumbel.html\n",
        "            \"\"\"\n",
        "#             m = torch.distributions.gumbel.Gumbel(torch.zeros(N.size(0)), torch.ones(N.size(0)))\n",
        "            beta = 12\n",
        "            indices = torch.tensor(np.arange(N.size(0))).to(torch.float32)\n",
        "            smax = nn.functional.softmax(beta*N)\n",
        "            argmax_ind = torch.sum(smax*indices)\n",
        "            return argmax_ind\n",
        "        \n",
        "        def f_Z(N):\n",
        "            \"\"\"\n",
        "            Z ~ Normal(mu, sigma) \n",
        "            \"\"\"\n",
        "            return N * sigma + mu\n",
        "        \n",
        "        def model(noise): \n",
        "            \"\"\"\n",
        "            The model corresponds to a generative process\n",
        "            \n",
        "            args: noise variables\n",
        "            return: X(image), Y(labels), Z(latents) \n",
        "            \"\"\"\n",
        "            N_X = pyro.sample( 'N_X', noise['N_X'].to_event(1) )\n",
        "            # denoted using the index in the sequence \n",
        "            # that they are stored in as vae.label_names:\n",
        "            # ['shape', 'scale', 'orientation', 'posX', 'posY']\n",
        "            N_Y_1 = pyro.sample( 'N_Y_1', noise['N_Y_1'].to_event(1) )\n",
        "            N_Y_2 = pyro.sample( 'N_Y_2', noise['N_Y_2'].to_event(1) )\n",
        "            N_Y_3 = pyro.sample( 'N_Y_3', noise['N_Y_3'].to_event(1) )\n",
        "            N_Y_4 = pyro.sample( 'N_Y_4', noise['N_Y_4'].to_event(1) )\n",
        "            N_Y_5 = pyro.sample( 'N_Y_5', noise['N_Y_5'].to_event(1) )\n",
        "            \n",
        "            # Z ~ Normal(Nx_mu, Nx_sigma)              \n",
        "            N_Z = pyro.sample( 'N_Z', noise['N_Z'].to_event(1) )\n",
        "            Z = pyro.sample('Z', dist.Normal( f_Z( N_Z ), 1e-1).to_event(1) )\n",
        "            \n",
        "            # Y ~ Gumbel max of Ny             \n",
        "#             Y_1_mu = f_Y(N_Y_1)\n",
        "#             Y_2_mu = f_Y(N_Y_2)\n",
        "#             Y_3_mu = f_Y(N_Y_3)\n",
        "#             Y_4_mu = f_Y(N_Y_4)\n",
        "#             Y_5_mu = f_Y(N_Y_5)\n",
        "       \n",
        "            Y_1 = pyro.sample('Y_1', dist.Normal( f_Y(N_Y_1), 1e-2) )\n",
        "            Y_2 = pyro.sample('Y_2', dist.Normal( f_Y(N_Y_2), 1e-1) )\n",
        "            Y_3 = pyro.sample('Y_3', dist.Normal( f_Y(N_Y_3), 1e-1) )\n",
        "            Y_4 = pyro.sample('Y_4', dist.Normal( f_Y(N_Y_4), 1e-1) )\n",
        "            Y_5 = pyro.sample('Y_5', dist.Normal( f_Y(N_Y_5), 1e-1) )\n",
        "            \n",
        "#             Y_mu = (Y_1_mu, Y_2_mu, Y_3_mu, Y_4_mu, Y_5_mu)\n",
        "            \n",
        "            # X ~ p(x|y,z) = bernoulli(loc(y,z))             \n",
        "            X = pyro.sample('X', dist.Normal( f_X( (Y_1, Y_2, Y_3,Y_4,Y_5), Z, N_X ), 1e-2).to_event(1))\n",
        "            \n",
        "            # return noise and variables\n",
        "            noise_samples = N_X, (N_Y_1, N_Y_2, N_Y_3, N_Y_4, N_Y_5), N_Z\n",
        "            variable_samples = X, (Y_1, Y_2, Y_3, Y_4, Y_5), Z\n",
        "            return variable_samples, noise_samples\n",
        "        \n",
        "        self.model = model\n",
        "        #Initialize all noise variables in the model         \n",
        "        self.init_noise = {\n",
        "            'N_X'   : dist.Uniform(torch.zeros(vae.image_dim), torch.ones(vae.image_dim)),\n",
        "            'N_Z'   : dist.Normal(torch.zeros(vae.z_dim), torch.ones(vae.z_dim)),\n",
        "            'N_Y_1' : dist.Uniform(torch.zeros(self.label_dims[1]),torch.ones(self.label_dims[1])),\n",
        "            'N_Y_2' : dist.Uniform(torch.zeros(self.label_dims[2]),torch.ones(self.label_dims[2])),\n",
        "            'N_Y_3' : dist.Uniform(torch.zeros(self.label_dims[3]),torch.ones(self.label_dims[3])),\n",
        "            'N_Y_4' : dist.Uniform(torch.zeros(self.label_dims[4]),torch.ones(self.label_dims[4])),\n",
        "            'N_Y_5' : dist.Uniform(torch.zeros(self.label_dims[5]),torch.ones(self.label_dims[5]))            \n",
        "        }\n",
        "        \n",
        "    def update_noise_svi(self, obs_data, intervened_model=None):\n",
        "        \"\"\"\n",
        "        Use svi to find out the mu, sigma of the distributionsfor the \n",
        "        condition outlined in obs_data\n",
        "        \"\"\"\n",
        "        \n",
        "        def guide(noise):\n",
        "            \"\"\"\n",
        "            The guide serves as an approximation to the posterior p(z|x). \n",
        "            The guide provides a valid joint probability density over all the \n",
        "            latent random variables in the model.\n",
        "            \n",
        "            https://pyro.ai/examples/svi_part_i.html\n",
        "            \"\"\"\n",
        "            # create params with constraints\n",
        "            mu = {\n",
        "                'N_X': pyro.param('N_X_mu', 0.5*torch.ones(self.image_dim),constraint = constraints.interval(0., 1.)),\n",
        "                'N_Z': pyro.param('N_Z_mu', torch.zeros(self.z_dim),constraint = constraints.interval(-3., 3.)),\n",
        "                'N_Y_1': pyro.param('N_Y_1_mu', 0.5*torch.ones(self.label_dims[1]),constraint = constraints.interval(0., 1.)),\n",
        "                'N_Y_2': pyro.param('N_Y_2_mu', 0.5*torch.ones(self.label_dims[2]),constraint = constraints.interval(0., 1.)),\n",
        "                'N_Y_3': pyro.param('N_Y_3_mu', 0.5*torch.ones(self.label_dims[3]),constraint = constraints.interval(0., 1.)),\n",
        "                'N_Y_4': pyro.param('N_Y_4_mu', 0.5*torch.ones(self.label_dims[4]),constraint = constraints.interval(0., 1.)),\n",
        "                'N_Y_5': pyro.param('N_Y_5_mu', 0.5*torch.ones(self.label_dims[5]),constraint = constraints.interval(0., 1.))\n",
        "                }\n",
        "            sigma = {\n",
        "                'N_X': pyro.param('N_X_sigma', 0.1*torch.ones(self.image_dim),constraint = constraints.interval(0.0001, 0.5)),\n",
        "                'N_Z': pyro.param('N_Z_sigma', torch.ones(self.z_dim),constraint = constraints.interval(0.0001, 3.)),\n",
        "                'N_Y_1': pyro.param('N_Y_1_sigma', 0.1*torch.ones(self.label_dims[1]),constraint = constraints.interval(0.0001, 0.5)),\n",
        "                'N_Y_2': pyro.param('N_Y_2_sigma', 0.1*torch.ones(self.label_dims[2]),constraint = constraints.interval(0.0001, 0.5)),\n",
        "                'N_Y_3': pyro.param('N_Y_3_sigma', 0.1*torch.ones(self.label_dims[3]),constraint = constraints.interval(0.0001, 0.5)),\n",
        "                'N_Y_4': pyro.param('N_Y_4_sigma', 0.1*torch.ones(self.label_dims[4]),constraint = constraints.interval(0.0001, 0.5)),\n",
        "                'N_Y_5': pyro.param('N_Y_5_sigma', 0.1*torch.ones(self.label_dims[5]),constraint = constraints.interval(0.0001, 0.5))\n",
        "                }\n",
        "            for noise_term in noise.keys():\n",
        "                pyro.sample(noise_term, dist.Normal(mu[noise_term], sigma[noise_term]).to_event(1))\n",
        "        \n",
        "        # Condition the model\n",
        "        if intervened_model is not None:\n",
        "          obs_model = pyro.condition(intervened_model, obs_data)\n",
        "        else:\n",
        "          obs_model = pyro.condition(self.model, obs_data)\n",
        "          \n",
        "        pyro.clear_param_store()\n",
        "\n",
        "        # Once we’ve specified a guide, we’re ready to proceed to inference. \n",
        "        # Now, this an optimization problem where each iteration of training takes  \n",
        "        # a step that moves the guide closer to the exact posterior \n",
        "        \n",
        "        # https://arxiv.org/pdf/1601.00670.pdf\n",
        "        svi = SVI(\n",
        "            model= obs_model,\n",
        "            guide= guide,\n",
        "            optim= SGD({\"lr\": 1e-5, 'momentum': 0.1}),\n",
        "            loss=Trace_ELBO(retain_graph=True)\n",
        "        )\n",
        "        \n",
        "        num_steps = 1500\n",
        "        samples = defaultdict(list)\n",
        "        for t in range(num_steps):\n",
        "            loss = svi.step(self.init_noise)\n",
        "#             if t % 100 == 0:\n",
        "#                 print(\"step %d: loss of %.2f\" % (t, loss))\n",
        "            for noise in self.init_noise.keys():\n",
        "                mu = '{}_mu'.format(noise)\n",
        "                sigma = '{}_sigma'.format(noise)\n",
        "                samples[mu].append(pyro.param(mu).detach().numpy())\n",
        "                samples[sigma].append(pyro.param(sigma).detach().numpy())\n",
        "        means = {k: torch.tensor(np.array(v).mean(axis=0)) for k, v in samples.items()}\n",
        "        \n",
        "        # update the inferred noise\n",
        "        updated_noise = {\n",
        "            'N_X'  : dist.Normal(means['N_X_mu'], means['N_X_sigma']),\n",
        "            'N_Z'  : dist.Normal(means['N_Z_mu'], means['N_Z_sigma']),\n",
        "            'N_Y_1': dist.Normal(means['N_Y_1_mu'], means['N_Y_1_sigma']),\n",
        "            'N_Y_2': dist.Normal(means['N_Y_2_mu'], means['N_Y_2_sigma']),\n",
        "            'N_Y_3': dist.Normal(means['N_Y_3_mu'], means['N_Y_3_sigma']),\n",
        "            'N_Y_4': dist.Normal(means['N_Y_4_mu'], means['N_Y_4_sigma']),\n",
        "            'N_Y_5': dist.Normal(means['N_Y_5_mu'], means['N_Y_5_sigma']),\n",
        "        }\n",
        "        return updated_noise\n",
        "        \n",
        "    def __call__(self):\n",
        "        return self.model(self.init_noise)"
      ],
      "execution_count": 0,
      "outputs": []
    },
    {
      "cell_type": "markdown",
      "metadata": {
        "id": "lk7vAe8byP5G",
        "colab_type": "text"
      },
      "source": [
        "## Sanity check: 1\n",
        "### Making sure VAE works"
      ]
    },
    {
      "cell_type": "code",
      "metadata": {
        "id": "TDI4enwfEPCY",
        "colab_type": "code",
        "outputId": "005cdd49-cccb-47e0-fff8-5d873ca84771",
        "colab": {
          "base_uri": "https://localhost:8080/",
          "height": 265
        }
      },
      "source": [
        "# Generate an instance of dSprites image \n",
        "ox, y = get_specific_data(cuda=True)\n",
        "plot_image(ox)\n",
        "# Pass it through VAE to get q(z|x) => N(mu, sigma)\n",
        "mu, sigma = vae.encoder.forward(ox,vae.remap_y(y))\n",
        "# Feed these params to our custom SCM\n",
        "scm = SCM(vae, mu.cpu(), sigma.cpu())\n",
        "print(y)\n",
        "# Check for reconstruction\n"
      ],
      "execution_count": 0,
      "outputs": [
        {
          "output_type": "stream",
          "text": [
            "tensor([[ 0.,  2.,  0.,  9.,  1., 25.]], device='cuda:0')\n"
          ],
          "name": "stdout"
        },
        {
          "output_type": "display_data",
          "data": {
            "image/png": "iVBORw0KGgoAAAANSUhEUgAAAOcAAADnCAYAAADl9EEgAAAABHNCSVQICAgIfAhkiAAAAAlwSFlz\nAAALEgAACxIB0t1+/AAAADh0RVh0U29mdHdhcmUAbWF0cGxvdGxpYiB2ZXJzaW9uMy4yLjEsIGh0\ndHA6Ly9tYXRwbG90bGliLm9yZy+j8jraAAADIUlEQVR4nO3dwWrCUBBA0b7i///ydCsSFGw0N+Gc\npaUlm8vMKNI1Mz9Az+/RDwBsEydEiROixAlR4oSo27MfrrW8lQsfNjNr63WTE6LECVHihChxQpQ4\nIUqcECVOiBInRIkTosQJUeKEKHFClDghSpwQJU6IEidEiROixAlR4oQocUKUOCFKnBAlTogSJ0SJ\nE6LECVHihChxQpQ4IUqcECVOiBInRIkTosQJUeKEKHFClDghSpwQJU6IEidEiROixAlR4oQocUKU\nOCFKnBAlTogSJ0SJE6LECVHihChxQpQ4IUqcECVOiBInRIkTosQJUeKEKHFClDghSpwQJU6IEidE\niROixAlR4oQocUKUOCFKnBAlTogSJ0SJE6LECVHihChxQpQ4IUqcECVOiBInRIkTosQJUeKEKHFC\nlDghSpwQJU6IEidEiROixAlR4oQocUKUOCFKnBAlTogSJ0SJE6LECVHihChxQpQ4IUqcECVOiBIn\nRIkTosQJUeKEKHFClDghSpwQJU6IEidEiROixAlR4oQocUKUOCFKnBAlTogSJ0SJE6LECVHihChx\nQpQ4Iep29APsaWbe+r211s5PAv9nckKUOCHqUmvtu+7XYSsuFSYnRIkTosQJUW7OB48fx7hBOYrJ\nCVHihChr7Qs+ZuEoJidEiROixAlRl7o5n92E735j5dnfcIPySSYnRIkToi611u6xukKFyQlR4oSo\n06+131xlvTvLN5mcECVOiBInRJ3+5tybu5IKkxOixAlRp19r79dQ/46BKzE5IUqcECVOiDr9zXnP\n7ciVmJwQJU6IEidEiROixAlR4oQocUKUOCFKnBAlTogSJ0SJE6LECVHihChxQpQ4IUqcECVOiBIn\nRIkTosQJUeKEKHFClDghSpwQJU6IEidEiROixAlR4oQocUKUOCFKnBAlTogSJ0SJE6LECVHihChx\nQpQ4IUqcECVOiBInRIkTosQJUeKEKHFClDghSpwQJU6IEidEiROixAlR4oQocUKUOCFKnBAlTogS\nJ0SJE6LWzBz9DMAGkxOixAlR4oQocUKUOCFKnBD1ByPxJuPeQSSTAAAAAElFTkSuQmCC\n",
            "text/plain": [
              "<Figure size 432x288 with 1 Axes>"
            ]
          },
          "metadata": {
            "tags": []
          }
        }
      ]
    },
    {
      "cell_type": "markdown",
      "metadata": {
        "id": "B1rkIEyL-357",
        "colab_type": "text"
      },
      "source": [
        "## Sanity check 2\n",
        "\n",
        "### To check if the decoder is able to generate the image if the latents are changed:\n",
        "#### To achieve this we manually change the labels in the code and run it through the decoder and check for reconstruction"
      ]
    },
    {
      "cell_type": "code",
      "metadata": {
        "id": "1CcO36iqEf_T",
        "colab_type": "code",
        "outputId": "162195e4-8749-4c90-af6d-f16feca23429",
        "colab": {
          "base_uri": "https://localhost:8080/",
          "height": 427
        }
      },
      "source": [
        "original, y_original = get_specific_data(cuda=True)\n",
        "print('top: ',y_original)\n",
        "mu, sigma = vae.encoder.forward(original,vae.remap_y(y_original))\n",
        "B = 100\n",
        "zs = torch.cat([dist.Normal(mu.cpu(), sigma.cpu()).sample() for a in range(B)], 0)\n",
        "ys = torch.cat([vae.remap_y(y_original) for a in range(B)], 0)\n",
        "rs = vae.decoder.forward(zs.cuda(), ys).detach()\n",
        "compare_to_density(original,rs)\n",
        "\n",
        "y_new = torch.tensor(y_original)\n",
        "y_new[0,1] = (y_original[0,1] + 1) % 2\n",
        "print('bottom: ', y_new)\n",
        "zs = torch.cat([dist.Normal(mu.cpu(), sigma.cpu()).sample() for a in range(B)], 0)\n",
        "ys = torch.cat([vae.remap_y(y_new) for a in range(B)], 0)\n",
        "rs = vae.decoder.forward(zs.cuda(), ys).detach()\n",
        "compare_to_density(original,rs)"
      ],
      "execution_count": 0,
      "outputs": [
        {
          "output_type": "stream",
          "text": [
            "top:  tensor([[ 0.,  2.,  2., 31.,  4.,  6.]], device='cuda:0')\n",
            "bottom:  tensor([[ 0.,  1.,  2., 31.,  4.,  6.]], device='cuda:0')\n"
          ],
          "name": "stdout"
        },
        {
          "output_type": "display_data",
          "data": {
            "image/png": "iVBORw0KGgoAAAANSUhEUgAAAWUAAAC8CAYAAACgw7/oAAAABHNCSVQICAgIfAhkiAAAAAlwSFlz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\nch/fEx/FAAAAAElFTkSuQmCC\n",
            "text/plain": [
              "<Figure size 432x288 with 2 Axes>"
            ]
          },
          "metadata": {
            "tags": []
          }
        },
        {
          "output_type": "display_data",
          "data": {
            "image/png": "iVBORw0KGgoAAAANSUhEUgAAAWUAAAC8CAYAAACgw7/oAAAABHNCSVQICAgIfAhkiAAAAAlwSFlz\nAAALEgAACxIB0t1+/AAAADh0RVh0U29mdHdhcmUAbWF0cGxvdGxpYiB2ZXJzaW9uMy4yLjEsIGh0\ndHA6Ly9tYXRwbG90bGliLm9yZy+j8jraAAAOl0lEQVR4nO3df6zd9V3H8ecbCqVspXV0On6VW6Iw\nzFIZTGHARnVoNrFLp1uUbFmqiQiaLCMkbvgrNUY3EyVmw4GCpEv2g/1wm3O4uQ2t3RpwGU7NcGC2\n0QIFBgNKqe2l0H784/P5tofT7zn33HPuvedzbp+P5OTc8/18vp/zPd/v57zO5/urjZQSkqQ6HDPu\nBZAkHWYoS1JFDGVJqoihLEkVMZQlqSKGsiRVxFAuImJLRKSIWDdH7W0v7U3NRXuTugzSQomIqdLf\nt497WUZhKEtHsUn64Y6IzWVZN457WebTknEvQEXeCZwIPDhH7b0BOA7YOUftSepvJ3Au8Py4F2QU\nhnKRUpqrMG7a+95ctiepv5TS88B9416OkaWUJvIBrAH+FtgOPAc8Cfwz8EstdbcACVgHXA58GXiq\nTDuvu07L/KcAtwKPAtPAd4D3AMeW90/AVNc8M04HfhH4GvAssBv4EnB+j8/7K8Bm4H+AZ4B95A74\nF8CqHvO0LsPR9CifPwEBXAPcA+wBdnXVuwT4FPAIsB94DPhk0z96tP2jwJ8B/13afLZsk5uBV7XU\nXwt8lDyi2w/8APgscMlM22+WfeU84GPAd0s/eRr439J/zi911nWsm7bHVKm3sbzeXD7vzeS9yeeB\nvyp1NpU6m3osz+ZSvrFH+RXA58s631+2wb8C72rZjm2PjaXOVHm9vcf7VLP++/bZcX9phvyiXUwO\nplQ+7MfLRnyhTHtfV/0tZfrNwEHgW2WlfQ1Y21VnXde8p5dOmMrG/ATwxbKyP83wofw+4EBZhk+W\nDZjIX+6zWz7zC6Uz3F3q/1PpVAl4AHh5v0417m02xr7SfHE/RA6Sfyn9ZVtHnfeUfnEA+Peyfr9Z\n5nsOWN/S7gUd6/8HwOfIoX5PaWdTV/1fLm0l4D9L/7urvD4AXNNn+w3cV4BfKJ8zlc/wCeAfSp8/\nALy31HslOST2lLqfLq+bx6pSb2MpvwPYATwO/D3wmeYzMmQok38ob+lYB3eV9fJVckCnrjaaz/31\nrmW9tNSZokco17b++/bZcX9phviSnQA8VD70nwLRUXYx+ZcsAW/qmL6Frl/VlnabOuu6pn++o9Oe\n0DH9bPIv+otGFi0btNf0fcBlHdOPI/9qJ+C2luV7G7CsZV3cWua5uU+nmmr7zEfDo2P7PAW8uqX8\nilK+g65RDLC+fMF2AS/rmL6c/AOdgL8Eju+a7wzggo7Xp5B/UBPwW11130L+wX2eMkAYpa+QBycJ\n+NWWz3oq8JOz6SMcDuUmmF/SUmcTw4XydWX6g93bhrwXun6QdjrKp2gJ5ZrXf+vnGPeXZrYP8gm5\nRN5NPKZPB/lqx7QtZdqX+rTb1FnXtZEPkg9ZvKJlnmsYPpTf39Lea0rZA7NYH8tKh3qipazvF+5o\neHRsn9YRCvCNUv6zPco/UMo7d6WvLdPuHHAZ/qjU/0qP8iZsbh21rwD3lukrB1y2vn2Ew6H8HLC6\nR53mO7dphs+3sWPaccAPy/TXD7isR7TTVT5FeyhXu/7bHpN4Sdzry/NHUkoHW8pvK8+XRMSxXWWf\nm+V7vY68i7U1pfRYS/nHZtlepy+2TLu/PJ/aNkNEnBsR746ID0bEbRGxGbiJfHxsVUT8yAjLs9gd\nse0jYhXw0+Rw2NJjvq3l+aKOaW8sz7cxmKbPfrhHedPOZT3KZ9NXvlmePxIRr235DgzrW2luT4a/\nBjgZ+G5KaetMlUc0Uet/Eq++OK08P9Cj/GFySJ1A3uiPd5TtGPK9WudLKT0TEc8AK2bZLuRDMN3t\nPRsRAMd3To+IJcDfAL8xQ5snkU8q6Eht23BNeV4FHCzrvpeXd/y9ujzf31axxUx99vtd9boN3FeA\n95KPF19RHnsi4hvk47QfTik9MuAyd5vtd2cms12Ho5io9T+JoTyKfUPOl/qUtY3WBzGb+d5NDuSd\n5F3nu4DHU0r7ASLiEfJxs76pcjRLKbVt+2YU8xTwjzM00XmpVb/+MB8G7isppUcj4rXApcCbyKPE\n1wE/B/xhRLwtpXTHEMsw7HcH2m9SW+h1OIoFXf+TGMrNzRhn9Sg/nfzrNU3+so2i+VVb3VYYEScB\nC3HI4K3l+eqU0he6luElwCsWYBkWo2YEtDeltHEW8z1IvknhbA7vrvazkzx6OgvY1lJ+Vke9kZXD\nelvLo+mn15NHcbfQ4/DYCPaX55f2KD+jZVpzKOTsOV6WNhO1/ifxmHJz/OntEdG2/L9enrellF4Y\n8b2+Xp4vi4gfaym/csT2B/Wy8nzEbhTwazhCHkpKaSfwbeD0iLhwFrN+uTzPdDip0fTZd/Yob/rs\nv81iGQaWUtoN/B45PE+JiM5DMU2gjjJAawYv53QXRMTJwPkt89xDvrfgJyLi0gHfZ9hlrXn9H2ES\nQ/lT5F+0c4A/jo4DgeWLdV15ecOob5RS+j75euATgA9GxNKO9/px8lndhdDsOl/T9XnPI19DqeE1\n2/DjEXHEiZ6IOD4i1kfEKzsmNzcSvSEi/jwius8BnBERF3RMuoV8TevlEfGbXXXfDLyDfFnWB0b9\nMBFxXUSc3lL08+Q9yN3kS/wazejw3BHedgvlMtTOH7eIWE5eVyd1z5Dy3XfvLy8/GhFrO8sj4tiI\nWN8127DLWvP6P9Kwl22M80G++6q5eeQ+8lUQdzLzzSPr+rTZWod86OLhUvYw+WLwO8jH2D5DPgGS\ngFN7XE4zNcj0jvJEx0XzZdrF5F/Z5vPeTr4J4oXy2Yd6r6Ph0bY+W+r8LvnC/kS+pOmz5BtMtnL4\nuvc3ds3zM8ATpeyx0hcGvXnkP8h3lm0rrw/S/+aF2fSVXaW9b5OvrW9ukjhY6v92V/13lem7S/1b\ny+PkUr6xlG+eYR02N4FMk/ckvkA+yf4d8pUvR1zKRt7D28zhGzi2leX9Cl03j5T655V6B8h37/5d\nWdaLS/kUg908Us36b2133F+aEb5sZ5WOsIMcWE+VzvDmlrpbGDKUS9mppQM8Vjrd/cDvA0vLhj5A\nx40l/TboMBu6TD+ffGnO48D/Af9FPgF4zLDvdTQ8eq3PHut3M/kM/TT5R/8+8h1cb6f9polTyLe5\n30f+kd5NDqG/puUmAeCnypf00dJnnyAH1qU9lmmYUHgH+dKve8lX4uwl34F2OyW8uuofA/xBWe7p\nps3mPRk8lJeQ9zq+Vz7bzrIeVjLz9cVvId+2/MOOee8Efqel7lvJd7U+27GsG0vZFD1Cudb13/aI\n0pCGEBGXkI8735tSetW4l0fS5JvEY8oLKiKWRMSrW6afQ/4HkaD3RemSNCuOlGcQES8l7yptJ++m\n7gbOJP+DNEvIxx0vT/nEhSSNxFCeQbmb7k/I/2j9GvIxsr3kY3C3Ax9K5SYOSRqVoSxJFfGYsiRV\npO+dMRHhMFrzKqU0lrsR7duab8P2bUfKklQRQ1mSKmIoS1JFDGVJqoihLEkVMZQlqSKGsiRVxFCW\npIoYypJUEUNZkipiKEtSRQxlSaqIoSxJFTGUJakihrIkVcRQlqSKGMqSVBFDWZIqYihLUkUMZUmq\niKEsSRUxlCWpIoayJFXEUJakihjKklQRQ1mSKmIoS1JFDGVJqoihLEkVWTLuBZDU35o1awC4/vrr\nD0276qqrxrU4mmeOlCWpIpFS6l0Y0btQmgMppRjH+9bat6enpw/9vXTp0p71mu/tiSee2Dqvxm/Y\nvu1IWZIqYihLUkUW9Ym+fodmGhFj2XuWXuS0004D+h+y6NT023379h2atmzZMsDDGJPOkbIkVWTR\nnegbZHTci6PmheeJvmyUftvNflwHT/RJ0iJgKEtSRRbNib652P1r2nD3T5Ns7969wIuvYdbkcKQs\nSRWZ+JHyXJ4gkRbS8uXL56Xd5tI4TSZHypJUkYkfKc8ljyVrIa1du3Ze29+1a9ehv1euXDmv76W5\n40hZkipiKEtSRSby8IV3P2kxuPDCC+e1/RUrVsxr+5ofjpQlqSIT+W9fzNdlcI6aF57/9kU235d2\n2rcXnv/2hSQtAoayJFVkok70zfcuXlv77vZpMWiuU+68dll1cqQsSRWpPpRTSocekoazYcMGNmzY\nMO7F0ACqD2VJOpp4SdwMPKY8v7wkLrvhhhsAuPbaa+el/YceegiA1atXz0v7OpKXxEnSImAoS1JF\nJvLwRRvv8ptMHr54sfnqx6tWrQLgySefnJf2dSQPX0jSIjBRN4/004xovXROk+zuu+8+9PdFF100\nZ+1eeeWVANx4441z1qbmhyNlSaqIoSxJFVk0J/r6me0hDU/uLRxP9PXmf+Yw2TzRJ0mLwKI50deP\nowRNojPPPBOAHTt2jHlJtJAcKUtSRY6KY8qql8eUZ3bTTTcBcPXVV89qvmXLlh36e3p6ek6XSTPz\nmLIkLQKGsiRVxMMXGisPXwxuxYoVh/5++umngfaT2MuXLwdgz549C7NgauXhC0laBBwpa6wcKWux\ncqQsSYuAoSxJFTGUJakihrIkVcRQlqSKGMqSVBFDWZIqYihLUkUMZUmqiKEsSRUxlCWpIoayJFXE\nUJakihjKklQRQ1mSKmIoS1JFDGVJqoihLEkVMZQlqSKGsiRVxFCWpIoYypJUEUNZkipiKEtSRQxl\nSaqIoSxJFTGUJakihrIkVcRQlqSKGMqSVBFDWZIqYihLUkUMZUmqiKEsSRUxlCWpIoayJFXEUJak\nihjKklQRQ1mSKmIoS1JFDGVJqoihLEkVMZQlqSKGsiRVxFCWpIoYypJUEUNZkipiKEtSRQxlSaqI\noSxJFTGUJakihrIkVcRQlqSKGMqSVBFDWZIqYihLUkUMZUmqiKEsSRUxlCWpIoayJFXEUJakihjK\nklQRQ1mSKmIoS1JFDGVJqoihLEkVMZQlqSKGsiRVxFCWpIoYypJUEUNZkipiKEtSRQxlSaqIoSxJ\nFTGUJakihrIkVcRQlqSKGMqSVJFIKY17GSRJhSNlSaqIoSxJFTGUJakihrIkVcRQlqSKGMqSVJH/\nBybFX3a0ZVRCAAAAAElFTkSuQmCC\n",
            "text/plain": [
              "<Figure size 432x288 with 2 Axes>"
            ]
          },
          "metadata": {
            "tags": []
          }
        }
      ]
    },
    {
      "cell_type": "markdown",
      "metadata": {
        "id": "bwyk5S5a7knN",
        "colab_type": "text"
      },
      "source": [
        "## Conditioning the model"
      ]
    },
    {
      "cell_type": "code",
      "metadata": {
        "id": "tQu4lzTMp8QH",
        "colab_type": "code",
        "outputId": "43f720a6-2f6a-473b-e5aa-dbeaa6ecfead",
        "colab": {
          "base_uri": "https://localhost:8080/",
          "height": 34
        }
      },
      "source": [
        "cond_data = {}\n",
        "for i in range(1, 6):\n",
        "    cond_data[\"Y_{}\".format(i)] = torch.tensor(y[0,i].cpu()).to(torch.float32)\n",
        "print(cond_data)"
      ],
      "execution_count": 0,
      "outputs": [
        {
          "output_type": "stream",
          "text": [
            "{'Y_1': tensor(2.), 'Y_2': tensor(0.), 'Y_3': tensor(19.), 'Y_4': tensor(1.), 'Y_5': tensor(17.)}\n"
          ],
          "name": "stdout"
        }
      ]
    },
    {
      "cell_type": "code",
      "metadata": {
        "id": "rtJRtQgJve2A",
        "colab_type": "code",
        "outputId": "5457c8df-3764-4a9f-9075-cc3be3d2edde",
        "colab": {
          "base_uri": "https://localhost:8080/",
          "height": 34
        }
      },
      "source": [
        "# cond_data['Y_1'] = torch.tensor(1.)\n",
        "# cond_data['Y_2'] = torch.tensor(4.)\n",
        "conditioned_model = pyro.condition(scm.model, data=cond_data)\n",
        "cond_noise = scm.update_noise_svi(cond_data)\n",
        "print(cond_data)"
      ],
      "execution_count": 0,
      "outputs": [
        {
          "output_type": "stream",
          "text": [
            "{'Y_1': tensor(2.), 'Y_2': tensor(0.), 'Y_3': tensor(19.), 'Y_4': tensor(1.), 'Y_5': tensor(17.)}\n"
          ],
          "name": "stdout"
        }
      ]
    },
    {
      "cell_type": "code",
      "metadata": {
        "id": "0r2HePhs9DnB",
        "colab_type": "code",
        "outputId": "20c9299d-879e-455f-d07b-932618a27061",
        "colab": {
          "base_uri": "https://localhost:8080/",
          "height": 245
        }
      },
      "source": [
        "rxs = []\n",
        "for i in range(100):\n",
        "     (rx,ry,_), _ = scm.model(cond_noise)\n",
        "     rxs.append(rx)\n",
        "compare_to_density(ox, torch.cat(rxs))\n",
        "_ =plt.suptitle(\"SCM Conditioned on Original\", fontsize=18, fontstyle='italic')\n"
      ],
      "execution_count": 0,
      "outputs": [
        {
          "output_type": "display_data",
          "data": {
            "image/png": "iVBORw0KGgoAAAANSUhEUgAAAWUAAADkCAYAAABAHjVyAAAABHNCSVQICAgIfAhkiAAAAAlwSFlz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\no0NzuGohPc0AAAAASUVORK5CYII=\n",
            "text/plain": [
              "<Figure size 432x288 with 2 Axes>"
            ]
          },
          "metadata": {
            "tags": []
          }
        }
      ]
    },
    {
      "cell_type": "markdown",
      "metadata": {
        "id": "T9q5R5Az7qUO",
        "colab_type": "text"
      },
      "source": [
        "## Counterfactuals"
      ]
    },
    {
      "cell_type": "code",
      "metadata": {
        "id": "4NA_mpKv7t4P",
        "colab_type": "code",
        "colab": {}
      },
      "source": [
        "# intervening on Shape, posX and PosY \n",
        "intervened_model = pyro.do(scm.model, data={\n",
        "    \"Y_1\": torch.tensor(0.),\n",
        "#     \"Y_4\": torch.tensor(5.),\n",
        "#     \"Y_5\": torch.tensor(25.),\n",
        "})\n",
        "noise_data = {}\n",
        "for term, d in cond_noise.items():\n",
        "  noise_data[term] = d.loc\n",
        "# intervened_noise = scm.update_noise_svi(noise_data, intervened_model)"
      ],
      "execution_count": 0,
      "outputs": []
    },
    {
      "cell_type": "code",
      "metadata": {
        "id": "rffN8m75cKrd",
        "colab_type": "code",
        "outputId": "93cf401b-156a-4bb7-9796-30096fa82c46",
        "colab": {
          "base_uri": "https://localhost:8080/",
          "height": 254
        }
      },
      "source": [
        "(rx1,ry,_), _ = intervened_model(scm.init_noise)\n",
        "compare_to_density(ox, rx1)\n",
        "print(ry)"
      ],
      "execution_count": 0,
      "outputs": [
        {
          "output_type": "stream",
          "text": [
            "(tensor(0.), tensor(0.9218), tensor(15.6666), tensor(21.0625), tensor(18.7714))\n"
          ],
          "name": "stdout"
        },
        {
          "output_type": "display_data",
          "data": {
            "image/png": "iVBORw0KGgoAAAANSUhEUgAAAYsAAADcCAYAAACBHI1wAAAABHNCSVQICAgIfAhkiAAAAAlwSFlz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\nAABJRU5ErkJggg==\n",
            "text/plain": [
              "<Figure size 432x288 with 2 Axes>"
            ]
          },
          "metadata": {
            "tags": []
          }
        }
      ]
    },
    {
      "cell_type": "code",
      "metadata": {
        "id": "WwvqXamE4hqb",
        "colab_type": "code",
        "outputId": "364feed3-eb07-427f-964f-88c5b07bc240",
        "colab": {
          "base_uri": "https://localhost:8080/",
          "height": 276
        }
      },
      "source": [
        "rxs = []\n",
        "for i in range(100):\n",
        "     (cfo1,ny1,nz1), _= intervened_model(cond_noise)\n",
        "     rxs.append(cfo1)\n",
        "compare_to_density(ox, torch.cat(rxs))\n",
        "_ =plt.suptitle(\"SCM intervened on shape\", fontsize=18, fontstyle='italic')"
      ],
      "execution_count": 0,
      "outputs": [
        {
          "output_type": "display_data",
          "data": {
            "image/png": "iVBORw0KGgoAAAANSUhEUgAAAYsAAAEDCAYAAADEAyg+AAAABHNCSVQICAgIfAhkiAAAAAlwSFlz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\n+R9HuLwlzlJD7gAAAABJRU5ErkJggg==\n",
            "text/plain": [
              "<Figure size 432x288 with 2 Axes>"
            ]
          },
          "metadata": {
            "tags": []
          }
        }
      ]
    },
    {
      "cell_type": "markdown",
      "metadata": {
        "id": "MR4jlBojGdr1",
        "colab_type": "text"
      },
      "source": [
        "## ======== Test code ======="
      ]
    },
    {
      "cell_type": "code",
      "metadata": {
        "id": "HNzpNC4EzkA6",
        "colab_type": "code",
        "outputId": "c451217f-5b4f-4920-b750-909ecd492406",
        "colab": {
          "base_uri": "https://localhost:8080/",
          "height": 336
        }
      },
      "source": [
        "import warnings\n",
        "warnings.filterwarnings(\"ignore\")\n",
        "\n",
        "xs, ys = next(data_iter)\n",
        "x = xs[0].reshape(1,-1).cuda()\n",
        "y = ys[0].reshape(1,-1).cuda()\n",
        "mu, sigma = vae.encoder.forward(x,vae.remap_y(y))\n",
        "mu = mu.cpu()\n",
        "sigma = sigma.cpu()\n",
        "recon_x1, y1, z1 = OldSCM(vae, mu, sigma)\n",
        "print(y1)"
      ],
      "execution_count": 0,
      "outputs": [
        {
          "output_type": "error",
          "ename": "NameError",
          "evalue": "ignored",
          "traceback": [
            "\u001b[0;31m---------------------------------------------------------------------------\u001b[0m",
            "\u001b[0;31mNameError\u001b[0m                                 Traceback (most recent call last)",
            "\u001b[0;32m<ipython-input-19-68cec0d72013>\u001b[0m in \u001b[0;36m<module>\u001b[0;34m()\u001b[0m\n\u001b[1;32m      2\u001b[0m \u001b[0mwarnings\u001b[0m\u001b[0;34m.\u001b[0m\u001b[0mfilterwarnings\u001b[0m\u001b[0;34m(\u001b[0m\u001b[0;34m\"ignore\"\u001b[0m\u001b[0;34m)\u001b[0m\u001b[0;34m\u001b[0m\u001b[0;34m\u001b[0m\u001b[0m\n\u001b[1;32m      3\u001b[0m \u001b[0;34m\u001b[0m\u001b[0m\n\u001b[0;32m----> 4\u001b[0;31m \u001b[0mxs\u001b[0m\u001b[0;34m,\u001b[0m \u001b[0mys\u001b[0m \u001b[0;34m=\u001b[0m \u001b[0mnext\u001b[0m\u001b[0;34m(\u001b[0m\u001b[0mdata_iter\u001b[0m\u001b[0;34m)\u001b[0m\u001b[0;34m\u001b[0m\u001b[0;34m\u001b[0m\u001b[0m\n\u001b[0m\u001b[1;32m      5\u001b[0m \u001b[0mx\u001b[0m \u001b[0;34m=\u001b[0m \u001b[0mxs\u001b[0m\u001b[0;34m[\u001b[0m\u001b[0;36m0\u001b[0m\u001b[0;34m]\u001b[0m\u001b[0;34m.\u001b[0m\u001b[0mreshape\u001b[0m\u001b[0;34m(\u001b[0m\u001b[0;36m1\u001b[0m\u001b[0;34m,\u001b[0m\u001b[0;34m-\u001b[0m\u001b[0;36m1\u001b[0m\u001b[0;34m)\u001b[0m\u001b[0;34m.\u001b[0m\u001b[0mcuda\u001b[0m\u001b[0;34m(\u001b[0m\u001b[0;34m)\u001b[0m\u001b[0;34m\u001b[0m\u001b[0;34m\u001b[0m\u001b[0m\n\u001b[1;32m      6\u001b[0m \u001b[0my\u001b[0m \u001b[0;34m=\u001b[0m \u001b[0mys\u001b[0m\u001b[0;34m[\u001b[0m\u001b[0;36m0\u001b[0m\u001b[0;34m]\u001b[0m\u001b[0;34m.\u001b[0m\u001b[0mreshape\u001b[0m\u001b[0;34m(\u001b[0m\u001b[0;36m1\u001b[0m\u001b[0;34m,\u001b[0m\u001b[0;34m-\u001b[0m\u001b[0;36m1\u001b[0m\u001b[0;34m)\u001b[0m\u001b[0;34m.\u001b[0m\u001b[0mcuda\u001b[0m\u001b[0;34m(\u001b[0m\u001b[0;34m)\u001b[0m\u001b[0;34m\u001b[0m\u001b[0;34m\u001b[0m\u001b[0m\n",
            "\u001b[0;31mNameError\u001b[0m: name 'data_iter' is not defined",
            "",
            "\u001b[0;31m---------------------------------------------------------------------------\u001b[0;32m\nNOTE: Current TensorFlow version is 2.2.0-rc2. To use TF 1.x instead,\nrestart your runtime (Ctrl+M .) and run \"%tensorflow_version 1.x\" before\nyou run \"import tensorflow\".\n\u001b[0;31m---------------------------------------------------------------------------\u001b[0m\n"
          ]
        }
      ]
    },
    {
      "cell_type": "code",
      "metadata": {
        "id": "sLOw_NXQziDa",
        "colab_type": "code",
        "colab": {}
      },
      "source": [
        "def OldSCM(vae, mu, sigma):\n",
        "    z_dim = vae.z_dim\n",
        "    Ny, Y, ys = [], [], []\n",
        "    Nx = pyro.sample(\"Nx\", dist.Uniform(torch.zeros(vae.image_dim), torch.ones(vae.image_dim)))\n",
        "    Nz = pyro.sample(\"Nz\", dist.Normal(torch.zeros(z_dim), torch.ones(z_dim)))\n",
        "    m = torch.distributions.gumbel.Gumbel(torch.tensor(0.0), torch.tensor(1.0))\n",
        "    for label_id in range(6):\n",
        "        name = vae.label_names[label_id]\n",
        "        length = vae.label_shape[label_id]\n",
        "        new = pyro.sample(\"Ny_%s\"%name, dist.Uniform(torch.zeros(length), torch.ones(length)) )\n",
        "        Ny.append(new)\n",
        "        gumbel_vars = torch.tensor([m.sample() for _ in range(length)])\n",
        "        max_ind = torch.argmax(torch.log(new) + gumbel_vars).item()\n",
        "        Y.append(pyro.sample(\"Y_%s\"%name, dist.Normal(torch.tensor(max_ind * 1.0), 1e-4)))\n",
        "#         Y.append(pyro.sample(\"Y_%s\"%name, dist.Delta(torch.tensor(max_ind*1.0))))\n",
        "        ys.append(torch.nn.functional.one_hot(torch.tensor(max_ind), int(length)))  \n",
        "    Y = torch.tensor(Y)\n",
        "    ys = torch.cat(ys).to(torch.float32).reshape(1,-1).cuda()\n",
        "    Z = pyro.sample(\"Z\", dist.Normal(mu + Nz*sigma, 1e-4))\n",
        "#     Z = pyro.sample(\"Z\", dist.Delta(mu + Nz*sigma))\n",
        "    zs = Z.cuda()\n",
        "    p = vae.decoder.forward(zs,ys)\n",
        "    X = pyro.sample(\"X\", dist.Normal((Nx < p.cpu()).type(torch.float), 1e-4))\n",
        "#     X = pyro.sample(\"X\", dist.Delta((Nx < p.cpu()).type(torch.float)))\n",
        "    return X, Y, Z"
      ],
      "execution_count": 0,
      "outputs": []
    },
    {
      "cell_type": "code",
      "metadata": {
        "id": "_0EX3FetiTi-",
        "colab_type": "code",
        "outputId": "3007827d-15f3-4f55-f959-081e2122f249",
        "colab": {
          "base_uri": "https://localhost:8080/",
          "height": 255
        }
      },
      "source": [
        "from pyro.infer.importance import Importance\n",
        "from pyro.infer.mcmc import MCMC\n",
        "from pyro.infer.mcmc.nuts import HMC\n",
        "from pyro.infer import SVI\n",
        "\n",
        "intervened_model = pyro.do(OldSCM, data={\"Y_shape\": torch.tensor(0.)})\n",
        "conditioned_model = pyro.condition(OldSCM, data={\n",
        "    \"X\": recon_x1,\n",
        "#     \"Z\": z1,\n",
        "    \"Y_color\":y1[0],\n",
        "    \"Y_shape\": y1[1],\n",
        "    \"Y_scale\": y1[2],\n",
        "    \"Y_orientation\": y1[3],\n",
        "    \"Y_posX\": y1[4],\n",
        "    \"Y_posY\": y1[5]\n",
        "   })\n",
        "\n",
        "#  change to svi\n",
        "posterior = pyro.infer.Importance(conditioned_model, num_samples = 100)\n",
        "posterior.run(vae, mu, sigma)\n",
        "\n",
        "result = []\n",
        "for i in range(500):\n",
        "  trace = posterior()\n",
        "  x = trace.nodes['Nx']['value']\n",
        "  ny_shape = trace.nodes['Ny_shape']['value']\n",
        "  ny_scale = trace.nodes['Ny_scale']['value']\n",
        "  ny_orientation = trace.nodes['Ny_orientation']['value']\n",
        "  ny_posX = trace.nodes['Ny_posX']['value']\n",
        "  ny_posY = trace.nodes['Ny_posY']['value']\n",
        "  z = trace.nodes['Nz']['value']\n",
        "  con_obj = pyro.condition(intervened_model, data = {\n",
        "      \"Nx\": x,\n",
        "      \"Ny_shape\": ny_shape, \n",
        "      \"Ny_scale\": ny_scale, \n",
        "      \"Ny_orientation\": ny_orientation, \n",
        "      \"Ny_posX\": ny_posX, \n",
        "      \"Ny_posY\": ny_posY, \n",
        "      \"Nz\": z\n",
        "  })\n",
        "  \n",
        "recon_x2,y2,z2 = con_obj(vae, mu, sigma)\n",
        "print(y2)\n",
        "recon_check(recon_x1.reshape(-1, 64, 64)[0], recon_x2.reshape(-1, 64, 64)[0])"
      ],
      "execution_count": 0,
      "outputs": [
        {
          "output_type": "stream",
          "text": [
            "tensor([-9.3067e-05,  0.0000e+00,  2.0000e+00,  3.9999e+00,  2.1000e+01,\n",
            "         1.6000e+01])\n"
          ],
          "name": "stdout"
        },
        {
          "output_type": "display_data",
          "data": {
            "image/png": "iVBORw0KGgoAAAANSUhEUgAAAYIAAADMCAYAAAB+36QhAAAABHNCSVQICAgIfAhkiAAAAAlwSFlz\nAAALEgAACxIB0t1+/AAAADl0RVh0U29mdHdhcmUAbWF0cGxvdGxpYiB2ZXJzaW9uIDMuMC4zLCBo\ndHRwOi8vbWF0cGxvdGxpYi5vcmcvnQurowAABA9JREFUeJzt3W1O20AARdFOxf63PP0VNYqitHw4\n4/E9ZwFgJND1GxsYc85fAHT9Xn0BAKwlBABxQgAQJwQAcUIAECcEAHFCABAnBABxQgAQJwQAcUIA\nECcEAHEfqy/gK8YY/lIeh5pzjhWf1/c2R3v2vW0RAMQJAUCcEADECQFAnBAAxAkBQJwQAMQJAUCc\nEADECQFAnBAAxAkBQJwQAMQJAUCcEADECQFAnBAAxAkBQJwQAMQJAUCcEADECQFAnBAAxAkBQJwQ\nAMQJAUCcEADECQFAnBAAxH2svgDea8556McfYxz68YGfZxEAxFkEF3T0Xf9XP7e1AOdkEQDECQFA\nnKOhza08Bvqs27U6IoJzsQgA4iyCTe20BB49u3YrAdaxCADihAAgztHQRnY+DvqX+6/NMRG8l0UA\nEGcRbODKSwBYzyIAiBMCTmfOaQXBGwkBQJwQAMR5WMzpeH0U3ssiAIgTAoA4IQCIEwKAOCHYwBjD\nA1TgMEIAEOf1UU7B4uHd/OvUvywCgDiLYCPP7lx2/5s87sZ4p2c/L/4XhkUAkCcEAHGOhjZ3m7I7\nHRFV5zfr/O/PR/UBskUAEGcRXMSrO5gVa6F2R8V5/MT3e20ZWAQAcUIAEOdoKOA787Y2kdnXTi9M\nnI1FABBnEfCSJcCZHb0CKr91bBEAxFkEwHZWPA+48vMyiwAgTggA4hwNAad2ttdCr/gA2SIAiBMC\ngDghAIjzjADgix6fX+z6zMAiAIgTAoA4R0PAqd0ft5ztVdKrsAgA4oQA2MYYY9sHsmcmBABxQgAQ\n52ExsJ3b8dDqh8dXOaayCADiLAKAT7jKCrhnEQDEWQTAto7+ZbMr3v0/YxEAxAkBQJyjIeASfvKV\n0sqR0I1FABBnEQCX8p0HyLUlcGMRAMQJAUCcoyEgrXocdM8iAIizCIDLenyl1N3/cxYBQJxFAFye\nJfCaRQAQJwQAcUIAECcEAHFCABAnBABxQgAQJwQAcUIAECcEAHFCABAnBABxQgAQJwQAcUIAECcE\nAHFCABAnBABxQgAQJwQAcUIAECcEAHFCABAnBABxQgAQJwQAcUIAECcEAHFCABAnBABxQgAQJwQA\ncUIAECcEAHFCABAnBABxQgAQJwQAcUIAECcEAHFCABAnBABxQgAQJwQAcUIAECcEAHFCABAnBABx\nQgAQJwQAcUIAECcEAHFjzrn6GgBYyCIAiBMCgDghAIgTAoA4IQCIEwKAOCEAiBMCgDghAIgTAoA4\nIQCIEwKAOCEAiBMCgDghAIgTAoA4IQCIEwKAOCEAiBMCgDghAIgTAoA4IQCIEwKAOCEAiBMCgDgh\nAIgTAoA4IQCIEwKAOCEAiBMCgDghAIgTAoA4IQCIEwKAOCEAiBMCgLg/wmR+1GplMnEAAAAASUVO\nRK5CYII=\n",
            "text/plain": [
              "<Figure size 432x288 with 2 Axes>"
            ]
          },
          "metadata": {
            "tags": []
          }
        }
      ]
    },
    {
      "cell_type": "code",
      "metadata": {
        "id": "Y1MuTqXb2in_",
        "colab_type": "code",
        "colab": {}
      },
      "source": [
        "result = []\n",
        "for i in range(500):\n",
        "  trace = posterior()\n",
        "  x = trace.nodes['Nx']['value']\n",
        "  ny_shape = trace.nodes['Ny_shape']['value']\n",
        "  ny_scale = trace.nodes['Ny_scale']['value']\n",
        "  ny_orientation = trace.nodes['Ny_orientation']['value']\n",
        "  ny_posX = trace.nodes['Ny_posX']['value']\n",
        "  ny_posY = trace.nodes['Ny_posY']['value']\n",
        "  z = trace.nodes['Nz']['value']\n",
        "  con_obj = pyro.condition(intervened_model, data = {\n",
        "      \"Nx\": x,\n",
        "      \"Ny_shape\": ny_shape, \n",
        "      \"Ny_scale\": ny_scale, \n",
        "      \"Ny_orientation\": ny_orientation, \n",
        "      \"Ny_posX\": ny_posX, \n",
        "      \"Ny_posY\": ny_posY, \n",
        "      \"Nz\": z\n",
        "  })\n",
        "  \n",
        "recon_x2,y2,z2 = con_obj(vae, mu, sigma)\n",
        "print(y2)\n",
        "recon_check(recon_x1.reshape(-1, 64, 64)[0], recon_x2.reshape(-1, 64, 64)[0])"
      ],
      "execution_count": 0,
      "outputs": []
    },
    {
      "cell_type": "code",
      "metadata": {
        "id": "cou0AUQhejcz",
        "colab_type": "code",
        "colab": {}
      },
      "source": [
        "vae.label_names"
      ],
      "execution_count": 0,
      "outputs": []
    },
    {
      "cell_type": "code",
      "metadata": {
        "id": "H7A27SBfl8aM",
        "colab_type": "code",
        "outputId": "feb97a2d-c831-436b-fab8-aa3f49052e4e",
        "colab": {
          "base_uri": "https://localhost:8080/",
          "height": 390
        }
      },
      "source": [
        "adam_params = {\"lr\": 0.00042, \"betas\": (0.9, 0.999)}\n",
        "optimizer = Adam(adam_params)\n",
        "# set up the loss(es) for inference. wrapping the guide in config_enumerate builds\n",
        "# the loss as a sum\n",
        "# by enumerating each class label for the sampled discrete categorical distribution\n",
        "# in the model\n",
        "guide = config_enumerate(guide, \"parallel\", expand=True)\n",
        "elbo = Trace_ELBO(max_plate_nesting=1)\n",
        "loss_basic = SVI(sup_vae.model, guide, optimizer, loss=elbo)\n",
        "\n",
        "# build a list of all losses considered\n",
        "losses = [loss_basic]\n",
        "loss_aux = SVI(sup_vae.model_classify, sup_vae.guide_classify, optimizer, loss=elbo)\n",
        "losses.append(loss_aux)\n",
        "\n",
        "\n",
        "\n",
        "from pyro.optim import Adam\n",
        "from pyro.infer import SVI, Trace_ELBO\n",
        "\n",
        "adam = Adam({\"lr\": 0.005, \"betas\": (0.90, 0.999)})\n",
        "svi = SVI(vae.model, vae.guide, adam, loss=Trace_ELBO())\n",
        "\n",
        "\n",
        "param_vals = []\n",
        "pbar = tqdm(range(5))\n",
        "for _ in pbar:\n",
        "  xs, ys = next(data_iter)\n",
        "  xs = xs.cuda()\n",
        "  ys = ys.cuda()\n",
        "  svi.step(xs, ys)\n",
        "#   param_vals.append({k: param(k).item() for k in [\"fl\", \"ia\"]})\n",
        "\n",
        "# pd.DataFrame(param_vals).plot(subplots=True)"
      ],
      "execution_count": 0,
      "outputs": [
        {
          "output_type": "stream",
          "text": [
            "\n",
            "  0%|          | 0/5 [00:00<?, ?it/s]\u001b[A"
          ],
          "name": "stderr"
        },
        {
          "output_type": "error",
          "ename": "StopIteration",
          "evalue": "ignored",
          "traceback": [
            "\u001b[0;31m---------------------------------------------------------------------------\u001b[0m",
            "\u001b[0;31mStopIteration\u001b[0m                             Traceback (most recent call last)",
            "\u001b[0;32m<ipython-input-32-e89e5c96783c>\u001b[0m in \u001b[0;36m<module>\u001b[0;34m()\u001b[0m\n\u001b[1;32m      9\u001b[0m \u001b[0mpbar\u001b[0m \u001b[0;34m=\u001b[0m \u001b[0mtqdm\u001b[0m\u001b[0;34m(\u001b[0m\u001b[0mrange\u001b[0m\u001b[0;34m(\u001b[0m\u001b[0;36m5\u001b[0m\u001b[0;34m)\u001b[0m\u001b[0;34m)\u001b[0m\u001b[0;34m\u001b[0m\u001b[0;34m\u001b[0m\u001b[0m\n\u001b[1;32m     10\u001b[0m \u001b[0;32mfor\u001b[0m \u001b[0m_\u001b[0m \u001b[0;32min\u001b[0m \u001b[0mpbar\u001b[0m\u001b[0;34m:\u001b[0m\u001b[0;34m\u001b[0m\u001b[0;34m\u001b[0m\u001b[0m\n\u001b[0;32m---> 11\u001b[0;31m   \u001b[0mxs\u001b[0m\u001b[0;34m,\u001b[0m \u001b[0mys\u001b[0m \u001b[0;34m=\u001b[0m \u001b[0mnext\u001b[0m\u001b[0;34m(\u001b[0m\u001b[0mdata_iter\u001b[0m\u001b[0;34m)\u001b[0m\u001b[0;34m\u001b[0m\u001b[0;34m\u001b[0m\u001b[0m\n\u001b[0m\u001b[1;32m     12\u001b[0m   \u001b[0mxs\u001b[0m \u001b[0;34m=\u001b[0m \u001b[0mxs\u001b[0m\u001b[0;34m.\u001b[0m\u001b[0mcuda\u001b[0m\u001b[0;34m(\u001b[0m\u001b[0;34m)\u001b[0m\u001b[0;34m\u001b[0m\u001b[0;34m\u001b[0m\u001b[0m\n\u001b[1;32m     13\u001b[0m   \u001b[0mys\u001b[0m \u001b[0;34m=\u001b[0m \u001b[0mys\u001b[0m\u001b[0;34m.\u001b[0m\u001b[0mcuda\u001b[0m\u001b[0;34m(\u001b[0m\u001b[0;34m)\u001b[0m\u001b[0;34m\u001b[0m\u001b[0;34m\u001b[0m\u001b[0m\n",
            "\u001b[0;32m/usr/local/lib/python3.6/dist-packages/torch/utils/data/dataloader.py\u001b[0m in \u001b[0;36m__next__\u001b[0;34m(self)\u001b[0m\n\u001b[1;32m    792\u001b[0m                 \u001b[0;31m# no valid `self.rcvd_idx` is found (i.e., didn't break)\u001b[0m\u001b[0;34m\u001b[0m\u001b[0;34m\u001b[0m\u001b[0;34m\u001b[0m\u001b[0m\n\u001b[1;32m    793\u001b[0m                 \u001b[0mself\u001b[0m\u001b[0;34m.\u001b[0m\u001b[0m_shutdown_workers\u001b[0m\u001b[0;34m(\u001b[0m\u001b[0;34m)\u001b[0m\u001b[0;34m\u001b[0m\u001b[0;34m\u001b[0m\u001b[0m\n\u001b[0;32m--> 794\u001b[0;31m                 \u001b[0;32mraise\u001b[0m \u001b[0mStopIteration\u001b[0m\u001b[0;34m\u001b[0m\u001b[0;34m\u001b[0m\u001b[0m\n\u001b[0m\u001b[1;32m    795\u001b[0m \u001b[0;34m\u001b[0m\u001b[0m\n\u001b[1;32m    796\u001b[0m             \u001b[0;31m# Now `self.rcvd_idx` is the batch index we want to fetch\u001b[0m\u001b[0;34m\u001b[0m\u001b[0;34m\u001b[0m\u001b[0;34m\u001b[0m\u001b[0m\n",
            "\u001b[0;31mStopIteration\u001b[0m: "
          ]
        }
      ]
    },
    {
      "cell_type": "code",
      "metadata": {
        "id": "pa3ygX4zCYdH",
        "colab_type": "code",
        "colab": {}
      },
      "source": [
        ""
      ],
      "execution_count": 0,
      "outputs": []
    }
  ]
}
>>>>>>> b20299997e450d8366224592f5caeaff56636d84
