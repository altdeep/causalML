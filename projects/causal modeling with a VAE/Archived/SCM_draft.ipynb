{
 "cells": [
  {
   "cell_type": "code",
   "execution_count": 2,
   "metadata": {},
   "outputs": [],
   "source": [
    "from statistics import mean\n",
    "import torch\n",
    "import numpy as np\n",
    "import pandas as pd\n",
    "import pyro\n",
    "import pyro.distributions as dist\n",
    "from pyro.infer import Importance, EmpiricalMarginal\n",
    "import matplotlib.pyplot as plt\n",
    "%matplotlib inline\n",
    "\n",
    "pyro.set_rng_seed(101)"
   ]
  },
  {
   "attachments": {},
   "cell_type": "markdown",
   "metadata": {},
   "source": [
    "##### Instruction:\n",
    "\n",
    "* Create a simple SCM, with variables x, y, and exogenous variables for x and y, the model should return y and all exogenous values, train a NN that predicts exogenous variable given y as input, preferably non-linear relationship between y and other variables"
   ]
  },
  {
   "cell_type": "code",
   "execution_count": 66,
   "metadata": {},
   "outputs": [],
   "source": [
    "def SCM_model():\n",
    "    Nx = pyro.sample(\"Nx\", dist.Uniform(torch.tensor(0.), torch.tensor(1.0)))\n",
    "    Ny = pyro.sample(\"Ny\", dist.Uniform(torch.tensor(0.), torch.tensor(1.0)))\n",
    "    \n",
    "    # using Normal distribution since Delta tends to create issues when using with Importance and EmpiricalMarginal\n",
    "    x = pyro.sample(\"x\", dist.Normal(Nx, torch.tensor(0.00001)))\n",
    "    \n",
    "    # non-linear relationship between x and y\n",
    "    y = pyro.sample(\"y\", dist.Normal((x**2 + x * Ny + Ny**2), torch.tensor(0.00001)))\n",
    "    \n",
    "    return Nx, Ny, y"
   ]
  },
  {
   "cell_type": "code",
   "execution_count": 55,
   "metadata": {},
   "outputs": [
    {
     "name": "stdout",
     "output_type": "stream",
     "text": [
      "(tensor(0.8574), tensor(0.8269), tensor(2.1278))\n"
     ]
    }
   ],
   "source": [
    "print(SCM_model())"
   ]
  },
  {
   "cell_type": "code",
   "execution_count": 58,
   "metadata": {},
   "outputs": [],
   "source": [
    "# arbitrarily assigning a value to y\n",
    "def infer_Nx_Ny(model, y_input, sample_size):\n",
    "    cond_model = pyro.condition(model, {'y': torch.tensor(y_input)})\n",
    "\n",
    "    #using Importance sampling\n",
    "    posterior = pyro.infer.Importance(cond_model, num_samples=sample_size).run()\n",
    "    Nx_marginal = EmpiricalMarginal(posterior, 'Nx')\n",
    "    Ny_marginal = EmpiricalMarginal(posterior, 'Ny')\n",
    "\n",
    "    Nx_samples = [Nx_marginal().item() for _ in range(sample_size)]\n",
    "    Ny_samples = [Ny_marginal().item() for _ in range(sample_size)]\n",
    "\n",
    "    return mean(Nx_samples), mean(Ny_samples)"
   ]
  },
  {
   "cell_type": "code",
   "execution_count": 65,
   "metadata": {},
   "outputs": [
    {
     "name": "stdout",
     "output_type": "stream",
     "text": [
      "The predicted Nx is 0.9920719861984253, \n",
      "and the predicted Ny is 0.10555022954940796\n"
     ]
    }
   ],
   "source": [
    "# arbitrarily set y = 1.1\n",
    "Nx, Ny = infer_Nx_Ny(SCM_model, 1.1, 10000)\n",
    "\n",
    "print(\"The predicted Nx is {}, \\nand the predicted Ny is {}\".format(Nx, Ny))"
   ]
  }
 ],
 "metadata": {
  "kernelspec": {
   "display_name": "Python 3",
   "language": "python",
   "name": "python3"
  },
  "language_info": {
   "codemirror_mode": {
    "name": "ipython",
    "version": 3
   },
   "file_extension": ".py",
   "mimetype": "text/x-python",
   "name": "python",
   "nbconvert_exporter": "python",
   "pygments_lexer": "ipython3",
   "version": "3.7.6"
  }
 },
 "nbformat": 4,
 "nbformat_minor": 4
}
