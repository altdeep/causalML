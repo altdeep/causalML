{
 "cells": [
  {
   "cell_type": "markdown",
   "metadata": {
    "colab_type": "text",
    "id": "view-in-github"
   },
   "source": [
    "<a href=\"https://colab.research.google.com/github/ajeyamk/causalvae/blob/dev-ajeya/causal_vae_dsprites.ipynb\" target=\"_parent\"><img src=\"https://colab.research.google.com/assets/colab-badge.svg\" alt=\"Open In Colab\"/></a>"
   ]
  },
  {
   "cell_type": "markdown",
   "metadata": {
    "colab_type": "text",
    "id": "zSOMAHldq2xR"
   },
   "source": [
    "## Deep Causal Variational Inference\n",
    "\n",
    "### Introduction:\n",
    "To train a supervised variational autoencoder using Deepmind's [dSprites](https://github.com/deepmind/dsprites-dataset) dataset.\n",
    "\n",
    "dSprites is a dataset of sprites, which are 2D shapes procedurally generated from 5 ground truth independent \"factors.\" These factors are color, shape, scale, rotation, x and y positions of a sprite.\n",
    "\n",
    "All possible combinations of these variables are present exactly once, generating N = 737280 total images.\n",
    "\n",
    "Factors and their values:\n",
    "\n",
    "* Shape: 3 values {square, ellipse, heart}\n",
    "* Scale: 6 values linearly spaced in (0.5, 1)\n",
    "* Orientation: 40 values in (0, 2$\\pi$)\n",
    "* Position X: 32 values in (0, 1)\n",
    "* Position Y: 32 values in (0, 1)\n",
    "\n",
    "\n",
    "Further, the objective of any generative model is essentially to capture underlying data generative factors, the disentangled representation would mean a single latent unit being sensitive to variations in single generative factors\n",
    "\n",
    "\n",
    "### Goal:\n",
    "To include the latent factors  as labels in the training and to invent a causal story that relates these factors and the images in a DAG.\n",
    "\n",
    "Reference \n",
    "\n",
    "[Structured Disentangled Representation](https://arxiv.org/pdf/1804.02086.pdf)"
   ]
  },
  {
   "cell_type": "code",
   "execution_count": 1,
   "metadata": {
    "colab": {
     "base_uri": "https://localhost:8080/",
     "height": 820
    },
    "colab_type": "code",
    "id": "CMhHGoIwCwkN",
    "outputId": "bd0c51cd-2935-483c-81fd-ed37137c0f3a"
   },
   "outputs": [
    {
     "name": "stdout",
     "output_type": "stream",
     "text": [
      "Collecting pyro-ppl\n",
      "\u001b[?25l  Downloading https://files.pythonhosted.org/packages/de/4d/6dc71b764a3d5c9a24b065df8a40af5f0be1ffb272f2cda4a13267964830/pyro_ppl-1.2.0-py3-none-any.whl (470kB)\n",
      "\u001b[K     |████████████████████████████████| 471kB 2.8MB/s eta 0:00:01\n",
      "\u001b[?25hCollecting pyro-api>=0.1.1\n",
      "  Downloading https://files.pythonhosted.org/packages/c2/bc/6cdbd1929e32fff62a33592633c2cc0393c7f7739131ccc9c9c4e28ac8dd/pyro_api-0.1.1-py3-none-any.whl\n",
      "Collecting torch>=1.4.0\n",
      "\u001b[?25l  Downloading https://files.pythonhosted.org/packages/24/19/4804aea17cd136f1705a5e98a00618cb8f6ccc375ad8bfa437408e09d058/torch-1.4.0-cp36-cp36m-manylinux1_x86_64.whl (753.4MB)\n",
      "\u001b[K     |████████████████████████████████| 753.4MB 21kB/s \n",
      "\u001b[?25hRequirement already satisfied: opt-einsum>=2.3.2 in /usr/local/lib/python3.6/dist-packages (from pyro-ppl) (3.1.0)\n",
      "Requirement already satisfied: numpy>=1.7 in /usr/local/lib/python3.6/dist-packages (from pyro-ppl) (1.17.5)\n",
      "Collecting tqdm>=4.36\n",
      "\u001b[?25l  Downloading https://files.pythonhosted.org/packages/72/c9/7fc20feac72e79032a7c8138fd0d395dc6d8812b5b9edf53c3afd0b31017/tqdm-4.41.1-py2.py3-none-any.whl (56kB)\n",
      "\u001b[K     |████████████████████████████████| 61kB 34kB/s \n",
      "\u001b[31mERROR: torchvision 0.4.2 has requirement torch==1.3.1, but you'll have torch 1.4.0 which is incompatible.\u001b[0m\n",
      "\u001b[?25hInstalling collected packages: pyro-api, torch, tqdm, pyro-ppl\n",
      "  Found existing installation: torch 1.3.1\n",
      "    Uninstalling torch-1.3.1:\n",
      "      Successfully uninstalled torch-1.3.1\n",
      "  Found existing installation: tqdm 4.28.1\n",
      "    Uninstalling tqdm-4.28.1:\n",
      "      Successfully uninstalled tqdm-4.28.1\n",
      "Successfully installed pyro-api-0.1.1 pyro-ppl-1.2.0 torch-1.4.0 tqdm-4.41.1\n"
     ]
    },
    {
     "data": {
      "application/vnd.colab-display-data+json": {
       "pip_warning": {
        "packages": [
         "tqdm"
        ]
       }
      }
     },
     "metadata": {
      "tags": []
     },
     "output_type": "display_data"
    },
    {
     "name": "stdout",
     "output_type": "stream",
     "text": [
      "Requirement already satisfied: torch in /usr/local/lib/python3.6/dist-packages (1.4.0)\n",
      "Requirement already satisfied: torchvision in /usr/local/lib/python3.6/dist-packages (0.4.2)\n",
      "Requirement already satisfied: pillow>=4.1.1 in /usr/local/lib/python3.6/dist-packages (from torchvision) (6.2.2)\n",
      "Requirement already satisfied: numpy in /usr/local/lib/python3.6/dist-packages (from torchvision) (1.17.5)\n",
      "Requirement already satisfied: six in /usr/local/lib/python3.6/dist-packages (from torchvision) (1.12.0)\n",
      "Requirement already up-to-date: pydrive in /usr/local/lib/python3.6/dist-packages (1.3.1)\n",
      "Requirement already satisfied, skipping upgrade: PyYAML>=3.0 in /usr/local/lib/python3.6/dist-packages (from pydrive) (3.13)\n",
      "Requirement already satisfied, skipping upgrade: oauth2client>=4.0.0 in /usr/local/lib/python3.6/dist-packages (from pydrive) (4.1.3)\n",
      "Requirement already satisfied, skipping upgrade: google-api-python-client>=1.2 in /usr/local/lib/python3.6/dist-packages (from pydrive) (1.7.11)\n",
      "Requirement already satisfied, skipping upgrade: six>=1.6.1 in /usr/local/lib/python3.6/dist-packages (from oauth2client>=4.0.0->pydrive) (1.12.0)\n",
      "Requirement already satisfied, skipping upgrade: pyasn1>=0.1.7 in /usr/local/lib/python3.6/dist-packages (from oauth2client>=4.0.0->pydrive) (0.4.8)\n",
      "Requirement already satisfied, skipping upgrade: httplib2>=0.9.1 in /usr/local/lib/python3.6/dist-packages (from oauth2client>=4.0.0->pydrive) (0.11.3)\n",
      "Requirement already satisfied, skipping upgrade: pyasn1-modules>=0.0.5 in /usr/local/lib/python3.6/dist-packages (from oauth2client>=4.0.0->pydrive) (0.2.7)\n",
      "Requirement already satisfied, skipping upgrade: rsa>=3.1.4 in /usr/local/lib/python3.6/dist-packages (from oauth2client>=4.0.0->pydrive) (4.0)\n",
      "Requirement already satisfied, skipping upgrade: uritemplate<4dev,>=3.0.0 in /usr/local/lib/python3.6/dist-packages (from google-api-python-client>=1.2->pydrive) (3.0.1)\n",
      "Requirement already satisfied, skipping upgrade: google-auth-httplib2>=0.0.3 in /usr/local/lib/python3.6/dist-packages (from google-api-python-client>=1.2->pydrive) (0.0.3)\n",
      "Requirement already satisfied, skipping upgrade: google-auth>=1.4.1 in /usr/local/lib/python3.6/dist-packages (from google-api-python-client>=1.2->pydrive) (1.4.2)\n",
      "Requirement already satisfied, skipping upgrade: cachetools>=2.0.0 in /usr/local/lib/python3.6/dist-packages (from google-auth>=1.4.1->google-api-python-client>=1.2->pydrive) (4.0.0)\n",
      "Requirement already satisfied: tqdm in /usr/local/lib/python3.6/dist-packages (4.41.1)\n"
     ]
    }
   ],
   "source": [
    "#Install dependencies\n",
    "!pip3 install pyro-ppl\n",
    "!pip3 install torch torchvision\n",
    "!pip3 install pydrive --upgrade\n",
    "!pip3 install tqdm"
   ]
  },
  {
   "cell_type": "code",
   "execution_count": null,
   "metadata": {
    "colab": {},
    "colab_type": "code",
    "id": "uNa3MO8GCqWg"
   },
   "outputs": [],
   "source": [
    "# Load necessary libraries\n",
    "from matplotlib import pyplot as plt\n",
    "import numpy as np\n",
    "import seaborn as sns\n",
    "\n",
    "import os\n",
    "from collections import defaultdict\n",
    "\n",
    "import torch\n",
    "import torch.nn as nn\n",
    "\n",
    "from tqdm import tqdm\n",
    "import pyro\n",
    "import pyro.distributions as dist\n",
    "from pyro.infer import SVI, Trace_ELBO, TraceEnum_ELBO, config_enumerate, EmpiricalMarginal\n",
    "from pyro.optim import Adam, SGD\n",
    "import torch.distributions.constraints as constraints\n",
    "\n",
    "# Change figure aesthetics\n",
    "%matplotlib inline\n",
    "sns.set_context('talk', font_scale=1.2, rc={'lines.linewidth': 1.5})\n",
    "\n",
    "from ipywidgets import interact, interactive, fixed, interact_manual\n",
    "import ipywidgets as widgets\n",
    "\n",
    "#to utilize GPU capabilities\n",
    "USE_CUDA = True\n",
    "\n",
    "pyro.enable_validation(True)\n",
    "pyro.distributions.enable_validation(False)"
   ]
  },
  {
   "cell_type": "markdown",
   "metadata": {
    "colab_type": "text",
    "id": "tUV6bfcUxeS3"
   },
   "source": [
    "If this is being run on google colab (which is advisable), have a copy of your dataset in your google drive. "
   ]
  },
  {
   "cell_type": "code",
   "execution_count": 3,
   "metadata": {
    "colab": {
     "base_uri": "https://localhost:8080/",
     "height": 122
    },
    "colab_type": "code",
    "id": "nkXRHmSqDFTy",
    "outputId": "f32160bd-5abc-4391-e095-f0c8e2d2c78c"
   },
   "outputs": [
    {
     "name": "stdout",
     "output_type": "stream",
     "text": [
      "Go to this URL in a browser: https://accounts.google.com/o/oauth2/auth?client_id=947318989803-6bn6qk8qdgf4n4g3pfee6491hc0brc4i.apps.googleusercontent.com&redirect_uri=urn%3aietf%3awg%3aoauth%3a2.0%3aoob&response_type=code&scope=email%20https%3a%2f%2fwww.googleapis.com%2fauth%2fdocs.test%20https%3a%2f%2fwww.googleapis.com%2fauth%2fdrive%20https%3a%2f%2fwww.googleapis.com%2fauth%2fdrive.photos.readonly%20https%3a%2f%2fwww.googleapis.com%2fauth%2fpeopleapi.readonly\n",
      "\n",
      "Enter your authorization code:\n",
      "··········\n",
      "Mounted at /content/gdrive\n"
     ]
    }
   ],
   "source": [
    "# Mount Google drive to load data\n",
    "from google.colab import drive\n",
    "drive.mount('/content/gdrive')"
   ]
  },
  {
   "cell_type": "code",
   "execution_count": 4,
   "metadata": {
    "colab": {
     "base_uri": "https://localhost:8080/",
     "height": 304
    },
    "colab_type": "code",
    "id": "cqyc4SqyDLIq",
    "outputId": "9fa12971-9b9b-4895-d28e-3a1df1737128"
   },
   "outputs": [
    {
     "data": {
      "text/html": [
       "<p style=\"color: red;\">\n",
       "The default version of TensorFlow in Colab will soon switch to TensorFlow 2.x.<br>\n",
       "We recommend you <a href=\"https://www.tensorflow.org/guide/migrate\" target=\"_blank\">upgrade</a> now \n",
       "or ensure your notebook will continue to use TensorFlow 1.x via the <code>%tensorflow_version 1.x</code> magic:\n",
       "<a href=\"https://colab.research.google.com/notebooks/tensorflow_version.ipynb\" target=\"_blank\">more info</a>.</p>\n"
      ],
      "text/plain": [
       "<IPython.core.display.HTML object>"
      ]
     },
     "metadata": {
      "tags": []
     },
     "output_type": "display_data"
    },
    {
     "name": "stdout",
     "output_type": "stream",
     "text": [
      "Collecting gputil\n",
      "  Downloading https://files.pythonhosted.org/packages/ed/0e/5c61eedde9f6c87713e89d794f01e378cfd9565847d4576fa627d758c554/GPUtil-1.4.0.tar.gz\n",
      "Building wheels for collected packages: gputil\n",
      "  Building wheel for gputil (setup.py) ... \u001b[?25l\u001b[?25hdone\n",
      "  Created wheel for gputil: filename=GPUtil-1.4.0-cp36-none-any.whl size=7410 sha256=de395cce5f03a2cee1ae00fce91a1373d78b164d56f7708490d1302f2cc46871\n",
      "  Stored in directory: /root/.cache/pip/wheels/3d/77/07/80562de4bb0786e5ea186911a2c831fdd0018bda69beab71fd\n",
      "Successfully built gputil\n",
      "Installing collected packages: gputil\n",
      "Successfully installed gputil-1.4.0\n",
      "Requirement already satisfied: psutil in /usr/local/lib/python3.6/dist-packages (5.4.8)\n",
      "Requirement already satisfied: humanize in /usr/local/lib/python3.6/dist-packages (0.5.1)\n",
      "Gen RAM Free: 24.7 GB  | Proc size: 2.7 GB\n",
      "GPU RAM Free: 15563MB | Used: 717MB | Util   4% | Total 16280MB\n"
     ]
    }
   ],
   "source": [
    "# Hack to get all available GPU ram.\n",
    "\n",
    "import tensorflow as tf\n",
    "tf.test.gpu_device_name()\n",
    "\n",
    "!ln -sf /opt/bin/nvidia-smi /usr/bin/nvidia-smi\n",
    "!pip install gputil\n",
    "!pip install psutil\n",
    "!pip install humanize\n",
    "import psutil\n",
    "import humanize\n",
    "import os\n",
    "import GPUtil as GPU\n",
    "GPUs = GPU.getGPUs()\n",
    "# XXX: only one GPU on Colab and isn’t guaranteed\n",
    "gpu = GPUs[0]\n",
    "def printm():\n",
    " process = psutil.Process(os.getpid())\n",
    " print(\"Gen RAM Free: \" + humanize.naturalsize( psutil.virtual_memory().available ), \" | Proc size: \" + humanize.naturalsize( process.memory_info().rss))\n",
    " print(\"GPU RAM Free: {0:.0f}MB | Used: {1:.0f}MB | Util {2:3.0f}% | Total {3:.0f}MB\".format(gpu.memoryFree, gpu.memoryUsed, gpu.memoryUtil*100, gpu.memoryTotal))\n",
    "printm()"
   ]
  },
  {
   "cell_type": "code",
   "execution_count": null,
   "metadata": {
    "colab": {},
    "colab_type": "code",
    "id": "nSkXleG1CqWj"
   },
   "outputs": [],
   "source": [
    "class Encoder(nn.Module):\n",
    "\t\"\"\"\n",
    "    MLPs (multi-layered perceptrons or simple feed-forward networks)\n",
    "    where the provided activation parameter is used on every linear layer except\n",
    "    for the output layer where we use the provided output_activation parameter\n",
    "\t\"\"\"\n",
    "\tdef __init__(self, image_dim, label_dim, z_dim):\n",
    "\t\tsuper(Encoder, self).__init__()\n",
    "\t\t#setup image and label dimensions from the dataset\n",
    "\t\tself.image_dim = image_dim\n",
    "\t\tself.label_dim = label_dim\n",
    "\t\tself.z_dim = z_dim\n",
    "\t\t# setup the three linear transformations used\n",
    "\t\tself.fc1 = nn.Linear(self.image_dim+self.label_dim, 1000)\n",
    "\t\tself.fc2 = nn.Linear(1000, 1000)\n",
    "\t\tself.fc31 = nn.Linear(1000, z_dim)  # mu values\n",
    "\t\tself.fc32 = nn.Linear(1000, z_dim)  # sigma values\n",
    "\t\t# setup the non-linearities\n",
    "\t\tself.softplus = nn.Softplus()\n",
    "\n",
    "\tdef forward(self, xs, ys):\n",
    "\t\txs = xs.reshape(-1, self.image_dim)\n",
    "\t\t#now concatenate the image and label\n",
    "\t\tinputs = torch.cat((xs,ys), -1)\n",
    "\t\t# then compute the hidden units\n",
    "\t\thidden1 = self.softplus(self.fc1(inputs))\n",
    "\t\thidden2 = self.softplus(self.fc2(hidden1))\n",
    "\t\t# then return a mean vector and a (positive) square root covariance\n",
    "\t\t# each of size batch_size x z_dim\n",
    "\t\tz_loc = self.fc31(hidden2)\n",
    "\t\tz_scale = torch.exp(self.fc32(hidden2))\n",
    "\t\treturn z_loc, z_scale\n",
    "\n",
    "\n",
    "class Decoder(nn.Module):\n",
    "\tdef __init__(self, image_dim, label_dim, z_dim):\n",
    "\t\tsuper(Decoder, self).__init__()\n",
    "\t\t# setup the two linear transformations used\n",
    "\t\thidden_dim = 1000\n",
    "\t\tself.fc1 = nn.Linear(z_dim+label_dim, hidden_dim)\n",
    "\t\tself.fc2 = nn.Linear(hidden_dim, hidden_dim)\n",
    "\t\tself.fc3 = nn.Linear(hidden_dim, hidden_dim)\n",
    "\t\tself.fc4 = nn.Linear(hidden_dim, image_dim)\n",
    "\t\t# setup the non-linearities\n",
    "\t\tself.softplus = nn.Softplus()\n",
    "\t\tself.sigmoid = nn.Sigmoid()\n",
    "\n",
    "\tdef forward(self, zs, ys):\n",
    "\t\tinputs = torch.cat((zs, ys),-1)\n",
    "\t\t# then compute the hidden units\n",
    "\t\thidden1 = self.softplus(self.fc1(inputs))\n",
    "\t\thidden2 = self.softplus(self.fc2(hidden1))\n",
    "\t\thidden3 = self.softplus(self.fc3(hidden2))\n",
    "\t\t# return the parameter for the output Bernoulli\n",
    "\t\t# each is of size batch_size x 784\n",
    "\t\tloc_img = self.sigmoid(self.fc4(hidden3))\n",
    "\t\treturn loc_img"
   ]
  },
  {
   "cell_type": "code",
   "execution_count": null,
   "metadata": {
    "colab": {},
    "colab_type": "code",
    "id": "Yqj05Mv8CqWm"
   },
   "outputs": [],
   "source": [
    "class CVAE(nn.Module):\n",
    "\t\"\"\"\n",
    "\tThis class encapsulates the parameters (neural networks) and models & guides \n",
    "\tneeded to train a supervised variational auto-encoder \n",
    "\t\"\"\"\n",
    "\tdef __init__(self, config_enum=None, use_cuda=False, aux_loss_multiplier=None):\n",
    "    \n",
    "\t\tsuper(CVAE, self).__init__()\n",
    "\t\tself.image_dim = 64**2\n",
    "\t\tself.label_shape = np.array((1,3,6,40,32,32))\n",
    "\t\tself.label_names = np.array(('color', 'shape', 'scale', 'orientation', 'posX', 'posY'))\n",
    "\t\tself.label_dim = np.sum(self.label_shape)\n",
    "\t\tself.z_dim = 50                                           \n",
    "\t\tself.allow_broadcast = config_enum == 'parallel'\n",
    "\t\tself.use_cuda = use_cuda\n",
    "\t\tself.aux_loss_multiplier = aux_loss_multiplier\n",
    "\t    # define and instantiate the neural networks representing\n",
    "\t    # the paramters of various distributions in the model\n",
    "\t\tself.setup_networks()\n",
    "\n",
    "\tdef setup_networks(self):\n",
    "\t\t\"\"\"\n",
    "\t\tSetup and initialize Encoder and decoder units\n",
    "\t\t\"\"\"\n",
    "\t\tself.encoder = Encoder(self.image_dim, self.label_dim, self.z_dim)\n",
    "\t\tself.decoder = Decoder(self.image_dim, self.label_dim, self.z_dim)\n",
    "\t\t# using GPUs for faster training of the networks\n",
    "\t\tif self.use_cuda:\n",
    "\t\t    self.cuda()\n",
    "\n",
    "\tdef model(self, xs, ys):\n",
    "\t\tpyro.module(\"cvae\", self)\n",
    "\t\tbatch_size = xs.size(0)\n",
    "\t\toptions = dict(dtype=xs.dtype, device=xs.device)\n",
    "\t\twith pyro.plate(\"data\"):\n",
    "\t\t\tprior_loc = torch.zeros(batch_size, self.z_dim, **options)\n",
    "\t\t\tprior_scale = torch.ones(batch_size, self.z_dim, **options)\n",
    "\t\t\tzs = pyro.sample(\"z\", dist.Normal(prior_loc, prior_scale).to_event(1))\n",
    "\t\t\t# if the label y (which digit to write) is supervised, sample from the\n",
    "\t\t\t# constant prior, otherwise, observe the value (i.e. score it against the constant prior)\n",
    "\t\t\tloc = self.decoder.forward(zs, self.remap_y(ys))\n",
    "\t\t\tpyro.sample(\"x\", dist.Bernoulli(loc).to_event(1), obs=xs)\n",
    "\t\t  \t# return the loc so we can visualize it later\n",
    "\t\t\treturn loc\n",
    "\n",
    "\tdef guide(self, xs, ys):\n",
    "\t\twith pyro.plate(\"data\"):\n",
    "\t\t\t# sample (and score) the latent handwriting-style with the variational\n",
    "\t\t\t# distribution q(z|x) = normal(loc(x),scale(x))\n",
    "\t\t\tloc, scale = self.encoder.forward(xs, self.remap_y(ys))\n",
    "\t\t\tpyro.sample(\"z\", dist.Normal(loc, scale).to_event(1))\n",
    "\n",
    "\tdef remap_y(self, ys):\n",
    "\t\tnew_ys = []\n",
    "\t\toptions = dict(dtype=ys.dtype, device=ys.device)\n",
    "\t\tfor i, label_length in enumerate(self.label_shape):\n",
    "\t\t    prior = torch.ones(ys.size(0), label_length, **options) / (1.0 * label_length)\n",
    "\t\t    new_ys.append(pyro.sample(\"y_%s\" % self.label_names[i], dist.OneHotCategorical(prior), \n",
    "\t\t                           obs=torch.nn.functional.one_hot(ys[:,i].to(torch.int64), int(label_length))))\n",
    "\t\tnew_ys = torch.cat(new_ys, -1)\n",
    "\t\treturn new_ys.to(torch.float32)\n",
    "\n",
    "\tdef reconstruct_image(self, xs, ys):\n",
    "\t\t# backward\n",
    "\t\tsim_z_loc, sim_z_scale = self.encoder.forward(xs, self.remap_y(ys))\n",
    "\t\tzs = dist.Normal(sim_z_loc, sim_z_scale).to_event(1).sample()\n",
    "\t\t# forward\n",
    "\t\tloc = self.decoder.forward(zs, self.remap_y(ys))\n",
    "\t\treturn dist.Bernoulli(loc).to_event(1).sample()"
   ]
  },
  {
   "cell_type": "code",
   "execution_count": null,
   "metadata": {
    "colab": {},
    "colab_type": "code",
    "id": "1mmMe3D8CqWo"
   },
   "outputs": [],
   "source": [
    "def setup_data_loaders(train_x, test_x, train_y, test_y, batch_size=128, use_cuda=False):\n",
    "\ttrain_dset = torch.utils.data.TensorDataset(\n",
    "\t  torch.from_numpy(train_x.astype(np.float32)).reshape(-1, 4096),\n",
    "\t  torch.from_numpy(train_y.astype(np.float32))\n",
    "\t)\n",
    "\ttest_dset = torch.utils.data.TensorDataset(\n",
    "\t  torch.from_numpy(test_x.astype(np.float32)).reshape(-1, 4096),\n",
    "\t  torch.from_numpy(test_y.astype(np.float32))\n",
    "\t)    \n",
    "\tkwargs = {'num_workers': 1, 'pin_memory': use_cuda}\n",
    "\ttrain_loader = torch.utils.data.DataLoader(\n",
    "\t  dataset=train_dset, batch_size=batch_size, shuffle=False, **kwargs\n",
    "\t)\n",
    "\n",
    "\ttest_loader = torch.utils.data.DataLoader(\n",
    "\t  dataset=test_dset, batch_size=batch_size, shuffle=False, **kwargs\n",
    "\t)\n",
    "\treturn {\"train\":train_loader, \"test\":test_loader}"
   ]
  },
  {
   "cell_type": "markdown",
   "metadata": {
    "colab_type": "text",
    "id": "ygY6Zf_dyHuq"
   },
   "source": [
    "# Load Dataset"
   ]
  },
  {
   "cell_type": "code",
   "execution_count": null,
   "metadata": {
    "colab": {},
    "colab_type": "code",
    "id": "azMSBtsnCqWr"
   },
   "outputs": [],
   "source": [
    "dataset_zip = np.load(\n",
    "    '/content/gdrive/My Drive/causalvae/dsprites-dataset/dsprites_ndarray_co1sh3sc6or40x32y32_64x64.npz',\n",
    "    encoding = 'bytes',\n",
    "    allow_pickle=True\n",
    ")\n",
    "\n",
    "imgs = dataset_zip['imgs']\n",
    "labels = dataset_zip['latents_classes']\n",
    "label_sizes = dataset_zip['metadata'][()][b'latents_sizes']\n",
    "label_names = dataset_zip['metadata'][()][b'latents_names']\n",
    "\n",
    "# Sample imgs randomly\n",
    "indices_sampled = np.arange(imgs.shape[0])\n",
    "np.random.shuffle(indices_sampled)\n",
    "imgs_sampled = imgs[indices_sampled]\n",
    "labels_sampled = labels[indices_sampled]\n",
    "\n",
    "data_loaders = setup_data_loaders(\n",
    "    imgs_sampled[1000:],\n",
    "    imgs_sampled[:1000],\n",
    "    labels_sampled[1000:],\n",
    "    labels_sampled[:1000],\n",
    "    batch_size=256,\n",
    "    use_cuda=USE_CUDA\n",
    ")"
   ]
  },
  {
   "cell_type": "code",
   "execution_count": null,
   "metadata": {
    "colab": {},
    "colab_type": "code",
    "id": "Eamf-n9hCqWt"
   },
   "outputs": [],
   "source": [
    "def train(svi, train_loader, use_cuda=False):\n",
    "\t# initialize loss accumulator\n",
    "\tepoch_loss = 0.\n",
    "\t# do a training epoch over each mini-batch x returned\n",
    "\t# by the data loader\n",
    "\tfor xs,ys in train_loader:\n",
    "\t  # if on GPU put mini-batch into CUDA memory\n",
    "\t  if use_cuda:\n",
    "\t      xs = xs.cuda()\n",
    "\t      ys = ys.cuda()\n",
    "\t  # do ELBO gradient and accumulate loss\n",
    "\t  epoch_loss += svi.step(xs, ys)\n",
    "\t# return epoch loss\n",
    "\tnormalizer_train = len(train_loader.dataset)\n",
    "\ttotal_epoch_loss_train = epoch_loss / normalizer_train\n",
    "\treturn total_epoch_loss_train\n",
    "\n",
    "def evaluate(svi, test_loader, use_cuda=False):\n",
    "\t# initialize loss accumulator\n",
    "\ttest_loss = 0.\n",
    "\t# compute the loss over the entire test set\n",
    "\tfor xs, ys in test_loader:\n",
    "\t  # if on GPU put mini-batch into CUDA memory\n",
    "\t  if use_cuda:\n",
    "\t      xs = xs.cuda()\n",
    "\t      ys = ys.cuda()\n",
    "\t  # compute ELBO estimate and accumulate loss\n",
    "\t  test_loss += svi.evaluate_loss(xs, ys)\n",
    "\tnormalizer_test = len(test_loader.dataset)\n",
    "\ttotal_epoch_loss_test = test_loss / normalizer_test\n",
    "\treturn total_epoch_loss_test"
   ]
  },
  {
   "cell_type": "code",
   "execution_count": null,
   "metadata": {
    "colab": {},
    "colab_type": "code",
    "id": "LR-hW5UzCqWv"
   },
   "outputs": [],
   "source": [
    "# Run options\n",
    "LEARNING_RATE = 1.0e-3\n",
    "\n",
    "# Run only for a single iteration for testing\n",
    "NUM_EPOCHS = 10\n",
    "TEST_FREQUENCY = 5"
   ]
  },
  {
   "cell_type": "markdown",
   "metadata": {
    "colab_type": "text",
    "id": "tVSEjAmswFgE"
   },
   "source": [
    " Training the model:"
   ]
  },
  {
   "cell_type": "code",
   "execution_count": 11,
   "metadata": {
    "colab": {
     "base_uri": "https://localhost:8080/",
     "height": 238
    },
    "colab_type": "code",
    "id": "hIuVKC2lCqWx",
    "outputId": "d47a2639-cf8f-47d5-d00e-b3f09d82639f"
   },
   "outputs": [
    {
     "name": "stderr",
     "output_type": "stream",
     "text": [
      "  0%|          | 0/10 [00:00<?, ?it/s]"
     ]
    },
    {
     "name": "stdout",
     "output_type": "stream",
     "text": [
      "[epoch 000]  average training loss: 159.4601\n"
     ]
    },
    {
     "name": "stderr",
     "output_type": "stream",
     "text": [
      " 10%|█         | 1/10 [01:27<13:11, 87.95s/it]"
     ]
    },
    {
     "name": "stdout",
     "output_type": "stream",
     "text": [
      "[epoch 000] average test loss: 92.8687\n"
     ]
    },
    {
     "name": "stderr",
     "output_type": "stream",
     "text": [
      " 20%|██        | 2/10 [02:56<11:44, 88.09s/it]"
     ]
    },
    {
     "name": "stdout",
     "output_type": "stream",
     "text": [
      "[epoch 001]  average training loss: 77.2895\n"
     ]
    },
    {
     "name": "stderr",
     "output_type": "stream",
     "text": [
      " 30%|███       | 3/10 [04:24<10:16, 88.04s/it]"
     ]
    },
    {
     "name": "stdout",
     "output_type": "stream",
     "text": [
      "[epoch 002]  average training loss: 60.5272\n"
     ]
    },
    {
     "name": "stderr",
     "output_type": "stream",
     "text": [
      " 40%|████      | 4/10 [05:53<08:50, 88.36s/it]"
     ]
    },
    {
     "name": "stdout",
     "output_type": "stream",
     "text": [
      "[epoch 003]  average training loss: 45.8278\n"
     ]
    },
    {
     "name": "stderr",
     "output_type": "stream",
     "text": [
      " 50%|█████     | 5/10 [07:23<07:23, 88.74s/it]"
     ]
    },
    {
     "name": "stdout",
     "output_type": "stream",
     "text": [
      "[epoch 004]  average training loss: 35.0382\n",
      "[epoch 005]  average training loss: 25.6776\n"
     ]
    },
    {
     "name": "stderr",
     "output_type": "stream",
     "text": [
      " 60%|██████    | 6/10 [08:52<05:55, 88.85s/it]"
     ]
    },
    {
     "name": "stdout",
     "output_type": "stream",
     "text": [
      "[epoch 005] average test loss: 23.9635\n"
     ]
    },
    {
     "name": "stderr",
     "output_type": "stream",
     "text": [
      " 70%|███████   | 7/10 [10:20<04:26, 88.79s/it]"
     ]
    },
    {
     "name": "stdout",
     "output_type": "stream",
     "text": [
      "[epoch 006]  average training loss: 20.9103\n"
     ]
    },
    {
     "name": "stderr",
     "output_type": "stream",
     "text": [
      " 80%|████████  | 8/10 [11:50<02:58, 89.10s/it]"
     ]
    },
    {
     "name": "stdout",
     "output_type": "stream",
     "text": [
      "[epoch 007]  average training loss: 18.5189\n"
     ]
    },
    {
     "name": "stderr",
     "output_type": "stream",
     "text": [
      " 90%|█████████ | 9/10 [13:19<01:28, 88.89s/it]"
     ]
    },
    {
     "name": "stdout",
     "output_type": "stream",
     "text": [
      "[epoch 008]  average training loss: 17.0558\n"
     ]
    },
    {
     "name": "stderr",
     "output_type": "stream",
     "text": [
      "100%|██████████| 10/10 [14:48<00:00, 89.14s/it]"
     ]
    },
    {
     "name": "stdout",
     "output_type": "stream",
     "text": [
      "[epoch 009]  average training loss: 16.0201\n"
     ]
    },
    {
     "name": "stderr",
     "output_type": "stream",
     "text": [
      "\n"
     ]
    }
   ],
   "source": [
    "import warnings\n",
    "warnings.filterwarnings('ignore')\n",
    "\n",
    "# clear param store\n",
    "pyro.clear_param_store()\n",
    "\n",
    "# setup the VAE\n",
    "vae = CVAE(use_cuda=USE_CUDA)\n",
    "\n",
    "# setup the optimizer\n",
    "adam_args = {\"lr\": LEARNING_RATE}\n",
    "optimizer = Adam(adam_args)\n",
    "\n",
    "# setup the inference algorithm\n",
    "svi = SVI(vae.model, vae.guide, optimizer, loss=Trace_ELBO())\n",
    "\n",
    "train_elbo = []\n",
    "test_elbo = []\n",
    "# training loop\n",
    "\n",
    "VERBOSE = True\n",
    "pbar = tqdm(range(NUM_EPOCHS))\n",
    "for epoch in pbar:\n",
    "    total_epoch_loss_train = train(svi, data_loaders[\"train\"], use_cuda=USE_CUDA)\n",
    "    train_elbo.append(-total_epoch_loss_train)\n",
    "    if VERBOSE:\n",
    "        print(\"[epoch %03d]  average training loss: %.4f\" % (epoch, total_epoch_loss_train))\n",
    "    if epoch % TEST_FREQUENCY == 0:\n",
    "        # report test diagnostics\n",
    "        total_epoch_loss_test = evaluate(svi, data_loaders[\"test\"], use_cuda=USE_CUDA)\n",
    "        test_elbo.append(-total_epoch_loss_test)\n",
    "        if VERBOSE:\n",
    "            print(\"[epoch %03d] average test loss: %.4f\" % (epoch, total_epoch_loss_test))"
   ]
  },
  {
   "cell_type": "markdown",
   "metadata": {
    "colab_type": "text",
    "id": "5_K4mKeSwQoZ"
   },
   "source": [
    "Save the results so that you can avoid retraining again. Once the following step is executed, we dont need to retrain the model. "
   ]
  },
  {
   "cell_type": "code",
   "execution_count": 12,
   "metadata": {
    "colab": {
     "base_uri": "https://localhost:8080/",
     "height": 34
    },
    "colab_type": "code",
    "id": "puMbph4idkYg",
    "outputId": "e4a1e183-733a-4987-9f9a-ff9806712403"
   },
   "outputs": [
    {
     "data": {
      "text/plain": [
       "<All keys matched successfully>"
      ]
     },
     "execution_count": 12,
     "metadata": {
      "tags": []
     },
     "output_type": "execute_result"
    }
   ],
   "source": [
    "#################################\n",
    "### FOR SAVING AND LOADING MODEL\n",
    "################################\n",
    "# clear param store\n",
    "\n",
    "pyro.clear_param_store()\n",
    "\n",
    "network_path = \"/content/gdrive/My Drive/causalvae/trained_model.save\"\n",
    "\n",
    "#PATH = \"/content/gdrive/My Drive/causalvae/trained_model.save\"\n",
    "\n",
    "# new model\n",
    "# vae = CVAE(use_cuda=USE_CUDA)\n",
    "\n",
    "# save current model\n",
    "\n",
    "\n",
    "# to load params from trained model\n",
    "# vae = CVAE(use_cuda=USE_CUDA)\n",
    "torch.save(vae.state_dict(), network_path)\n",
    "vae.load_state_dict(torch.load(network_path))"
   ]
  },
  {
   "cell_type": "markdown",
   "metadata": {
    "colab_type": "text",
    "id": "aFnfYMd3CqW0"
   },
   "source": [
    "## Visualizing the reconstruction accuracy of VAE (Without interventions)"
   ]
  },
  {
   "cell_type": "code",
   "execution_count": null,
   "metadata": {
    "colab": {},
    "colab_type": "code",
    "id": "nIt0T2eUCqW0"
   },
   "outputs": [],
   "source": [
    "import warnings\n",
    "warnings.filterwarnings(\"ignore\")\n",
    "\n",
    "data_iter = iter(data_loaders[\"train\"])\n",
    "xs, ys = next(data_iter)\n",
    "\n",
    "if USE_CUDA:\n",
    "    xs = xs.cuda()\n",
    "    ys = ys.cuda()\n",
    "rs = vae.reconstruct_image(xs, ys)\n",
    "if USE_CUDA:\n",
    "    xs = xs.cpu()\n",
    "    rs = rs.cpu()\n",
    "originals = xs.numpy().reshape(-1, 64,64)\n",
    "recons = rs.reshape(-1,64,64)"
   ]
  },
  {
   "cell_type": "code",
   "execution_count": 14,
   "metadata": {
    "colab": {
     "base_uri": "https://localhost:8080/",
     "height": 232,
     "referenced_widgets": [
      "d37321a6e3e04c8681ca062b4f7a655a",
      "aea9b73671a2462eb6765f04e37c31b8",
      "ce7dcb02b9144e6fa5541e48f045e12f",
      "5ab23a5f470149129573418510f7d89c",
      "e356679bf1204fbe90c967987fb74e91",
      "f7597400e1034b38879172fd3671a31c"
     ]
    },
    "colab_type": "code",
    "id": "1YBT2lo7CqW2",
    "outputId": "1fdf2400-50a5-4999-cc96-2f926469e59d"
   },
   "outputs": [
    {
     "data": {
      "application/vnd.jupyter.widget-view+json": {
       "model_id": "d37321a6e3e04c8681ca062b4f7a655a",
       "version_major": 2,
       "version_minor": 0
      },
      "text/plain": [
       "interactive(children=(IntSlider(value=0, description='x', max=256), Output()), _dom_classes=('widget-interact'…"
      ]
     },
     "metadata": {
      "tags": []
     },
     "output_type": "display_data"
    },
    {
     "data": {
      "text/plain": [
       "<function __main__.f>"
      ]
     },
     "execution_count": 14,
     "metadata": {
      "tags": []
     },
     "output_type": "execute_result"
    }
   ],
   "source": [
    "# [ 0,  2,  1, 34,  4, 24]\n",
    "def recon_check(original, recon):\n",
    "  fig = plt.figure()\n",
    "  ax0 = fig.add_subplot(121)\n",
    "  plt.imshow(original, cmap='Greys_r',  interpolation='nearest')\n",
    "  plt.axis('off')\n",
    "  ax1 = fig.add_subplot(122)\n",
    "  plt.imshow(recon , cmap='Greys_r', interpolation='nearest')\n",
    "  plt.axis('off')\n",
    "  \n",
    "def f(x):\n",
    "    fig = plt.figure()\n",
    "    ax0 = fig.add_subplot(121)\n",
    "    plt.imshow(originals[x], cmap='Greys_r',  interpolation='nearest')\n",
    "    plt.axis('off')\n",
    "    ax1 = fig.add_subplot(122)\n",
    "    plt.imshow(recons[x], cmap='Greys_r',  interpolation='nearest')\n",
    "    plt.axis('off')\n",
    "    \n",
    "interact(f, x=widgets.IntSlider(min=0, max=xs.shape[0], step=1, value=0))"
   ]
  },
  {
   "cell_type": "code",
   "execution_count": 15,
   "metadata": {
    "colab": {
     "base_uri": "https://localhost:8080/",
     "height": 425,
     "referenced_widgets": [
      "c054d1696c264d82bab35653517c1616",
      "73d3d07ddd0b461f9ae5d2b78a939b17",
      "e396f4c81086415fb9093717a9f6c461",
      "88c8835268f74a2dab8970e50ac40d5e",
      "f5fd9bcd4cfe4cdfa85d2b719b2347aa",
      "cd52d4f6db844f299fd442ad3e291fa5",
      "f2cd165223cd430a958d08727ae1711f",
      "833bb871a0044e31ba551b69cc47a3b6",
      "85658c34185141399bc07ae9b42209f4",
      "b2dd52e317b44b1c9b3f650310af272e",
      "5ef3de141f6b4ecf8273c2b86ce6fd10",
      "5f1ce50584164b249fb6db1f82c923a1",
      "e095a0f3e7d044d8b414af91afbfafbd",
      "5d43a81214e9478fb124161f7d8d1b23",
      "ea11c1584f5d4a44a5cfe59b9aef968b",
      "7ff711de7ae443a5bfa6235c0931f3f8",
      "3004305d210242fba2881d9fd707865d",
      "ae69e391870841598457cb208ba9c8e1"
     ]
    },
    "colab_type": "code",
    "id": "EVCzRnuIzNpL",
    "outputId": "fca36964-b227-4a03-f7f7-443c35e999fd"
   },
   "outputs": [
    {
     "data": {
      "application/vnd.jupyter.widget-view+json": {
       "model_id": "c054d1696c264d82bab35653517c1616",
       "version_major": 2,
       "version_minor": 0
      },
      "text/plain": [
       "interactive(children=(IntSlider(value=0, description='shape', max=2), IntSlider(value=0, description='scale', …"
      ]
     },
     "metadata": {
      "tags": []
     },
     "output_type": "display_data"
    },
    {
     "data": {
      "text/plain": [
       "<function __main__.find_in_dataset>"
      ]
     },
     "execution_count": 15,
     "metadata": {
      "tags": []
     },
     "output_type": "execute_result"
    }
   ],
   "source": [
    "y_names = ['shape', 'scale', 'orientation', 'posX', 'posY']\n",
    "y_shapes = np.array((3,6,40,32,32))\n",
    "img_dict = {}\n",
    "\n",
    "for i, img in enumerate(imgs_sampled):\n",
    "     img_dict[tuple(labels_sampled[i])] = img\n",
    "\n",
    "def find_in_dataset(shape, scale, orient, posX, posY):\n",
    "  fig = plt.figure()\n",
    "  img = img_dict[(0, shape, scale, orient, posX, posY)]\n",
    "  plt.imshow(img.reshape(64,64), cmap='Greys_r', interpolation='nearest')\n",
    "  plt.axis('off')\n",
    "\n",
    "interact(find_in_dataset, \n",
    "         shape=widgets.IntSlider(min=0, max=2, step=1, value=0),\n",
    "         scale=widgets.IntSlider(min=0, max=5, step=1, value=0),\n",
    "         orient=widgets.IntSlider(min=0, max=39, step=1, value=0),\n",
    "         posX=widgets.IntSlider(min=0, max=31, step=1, value=0),\n",
    "         posY=widgets.IntSlider(min=0, max=31, step=1, value=0))"
   ]
  },
  {
   "cell_type": "code",
   "execution_count": 19,
   "metadata": {
    "colab": {
     "base_uri": "https://localhost:8080/",
     "height": 279
    },
    "colab_type": "code",
    "id": "1EueLb0OzSDm",
    "outputId": "7ce7f21d-e23d-475c-886a-5d70ad51b38f"
   },
   "outputs": [
    {
     "data": {
      "image/png": "[encoded data removed]",
      "text/plain": [
       "<Figure size 432x288 with 1 Axes>"
      ]
     },
     "metadata": {
      "tags": []
     },
     "output_type": "display_data"
    }
   ],
   "source": [
    "def get_specific_data(args=dict(), cuda=False):\n",
    "    '''\n",
    "    use this function to get examples of data with specific class labels\n",
    "    inputs: \n",
    "        args - dictionary whose keys can include {shape, scale, orientation,\n",
    "                posX, posY} and values can include any integers less than the \n",
    "                corresponding size of that label dimension\n",
    "        cuda - bool to indicate whether the output should be placed on GPU\n",
    "    '''\n",
    "    names_dict = {'shape': 1, 'scale': 2, 'orientation': 3, 'posX': 4, 'posY': 5}\n",
    "    selected_ind = np.ones(imgs.shape[0], dtype=bool)\n",
    "    for k,v in args.items():\n",
    "        col_id = names_dict[k]\n",
    "        selected_ind = np.bitwise_and(selected_ind, labels[:, col_id] == v)\n",
    "    ind = np.random.choice(np.arange(imgs.shape[0])[selected_ind])\n",
    "    x = torch.from_numpy(imgs[ind].reshape(1,64**2).astype(np.float32))\n",
    "    y = torch.from_numpy(labels[ind].reshape(1,6).astype(np.float32))\n",
    "    if not cuda:\n",
    "        return x,y\n",
    "    x = x.cuda()\n",
    "    y = y.cuda()\n",
    "    return x,y\n",
    "\n",
    "def plot_image(x):\n",
    "    \"\"\"\n",
    "    helper to plot dSprites images\n",
    "    \"\"\"\n",
    "    x = x.cpu()\n",
    "    plt.figure()\n",
    "    plt.imshow(x.reshape(64,64), interpolation='nearest', cmap='Greys_r')\n",
    "    plt.axis('off')\n",
    "\n",
    "def see_specific_image(args=dict(), verbose=True):\n",
    "    '''\n",
    "    use this function to get examples of data with specific class labels\n",
    "    inputs: \n",
    "        args - dictionary whose keys can include {shape, scale, orientation,\n",
    "                posX, posY} and values can include any integers less than the \n",
    "                corresponding size of that label dimension\n",
    "        verbose - bool to indicate whether the full class label should be written \n",
    "                    as the title of the plot\n",
    "    '''\n",
    "    x,y = get_specific_data(args, cuda=False)\n",
    "    plot_image(x)\n",
    "    if verbose:\n",
    "        string = ''\n",
    "        for i, s in enumerate(['Shape', 'Scale', 'Orientation', 'PosX', 'PosY']):\n",
    "            string += '%s: %d, ' % (s, int(y[0][i+1]))\n",
    "            if i == 2:\n",
    "                string = string[:-2] + '\\n'\n",
    "        plt.title(string[:-2], fontsize=12)\n",
    "        \n",
    "def compare_reconstruction(original, recon):\n",
    "    \"\"\"\n",
    "    compare two images side by side\n",
    "    inputs:\n",
    "        original - array for original image\n",
    "        recon - array for recon image\n",
    "    \"\"\"\n",
    "    fig = plt.figure()\n",
    "    ax0 = fig.add_subplot(121)\n",
    "    plt.imshow(original.cpu().reshape(64,64), cmap='Greys_r',  interpolation='nearest')\n",
    "    plt.axis('off')\n",
    "    plt.title('original')\n",
    "    ax1 = fig.add_subplot(122)\n",
    "    plt.imshow(recon.cpu().reshape(64,64), cmap='Greys_r',  interpolation='nearest')\n",
    "    plt.axis('off')\n",
    "    plt.title('reconstruction')\n",
    "    \n",
    "def compare_to_density(original, recons):\n",
    "    \"\"\"\n",
    "    compare two images side by side\n",
    "    inputs:\n",
    "        original - array for original image\n",
    "        recon - array of multiple recon images\n",
    "    \"\"\"\n",
    "    fig = plt.figure()\n",
    "    ax0 = fig.add_subplot(121)\n",
    "    plt.imshow(original.cpu().reshape(64,64), cmap='Greys_r',  interpolation='nearest')\n",
    "    plt.axis('off')\n",
    "    plt.title('original')\n",
    "    ax1 = fig.add_subplot(122)\n",
    "    plt.imshow(torch.mean(recons.cpu(), 0).reshape(64,64), cmap='Greys_r',  interpolation='nearest')\n",
    "    plt.axis('off')\n",
    "    plt.title('reconstructions')\n",
    "\n",
    "        \n",
    "see_specific_image()"
   ]
  },
  {
   "cell_type": "code",
   "execution_count": 20,
   "metadata": {
    "colab": {
     "base_uri": "https://localhost:8080/",
     "height": 34
    },
    "colab_type": "code",
    "id": "OkB6V4LjESxV",
    "outputId": "eaaf6bf5-3ac0-4dd3-adbe-09d843d040ed"
   },
   "outputs": [
    {
     "data": {
      "text/plain": [
       "array([  1,   4,  10,  50,  82, 114])"
      ]
     },
     "execution_count": 20,
     "metadata": {
      "tags": []
     },
     "output_type": "execute_result"
    }
   ],
   "source": [
    "label_dims = vae.label_shape\n",
    "label_dim_offsets = np.cumsum(label_dims)\n",
    "label_dim_offsets"
   ]
  },
  {
   "cell_type": "markdown",
   "metadata": {
    "colab_type": "text",
    "id": "c7JBn--oww3g"
   },
   "source": [
    "# Structural causal Model of VAE"
   ]
  },
  {
   "cell_type": "code",
   "execution_count": null,
   "metadata": {
    "colab": {},
    "colab_type": "code",
    "id": "VXhaIdcBEHnS"
   },
   "outputs": [],
   "source": [
    "class SCM():\n",
    "    \"\"\"\n",
    "    Structural causal model\n",
    "    \n",
    "    args: \n",
    "      vae: instance of vae\n",
    "      mu: loc of q(z|x) given by the vae encoder\n",
    "      sigma: scale of q(z|x) given by the vae encoder\n",
    "    \n",
    "    \"\"\"\n",
    "    def __init__(self, vae, mu, sigma):\n",
    "        \"\"\"\n",
    "        Constructor\n",
    "        \n",
    "        Intializes :\n",
    "          image dimensions - 4096(64*64), \n",
    "          z dimensions: size of the tensor representing the latent random variable z, \n",
    "          label dimensions: 114 labels y that correspond to an image(one hot encoded)\n",
    "          f(x) = p(x|y,z)\n",
    "          Noise variables in the model N_#\n",
    "        \"\"\"\n",
    "        self.vae = vae\n",
    "        self.image_dim = vae.image_dim\n",
    "        self.z_dim = vae.z_dim\n",
    "        # these are used for f_X\n",
    "        self.label_dims = vae.label_shape\n",
    "        \n",
    "        def f_X(Y, Z, N):\n",
    "            \"\"\"\n",
    "            Generating one hots for the factors\n",
    "            \"\"\" \n",
    "            zs = Z.cuda()\n",
    "            # convert the labels to one hot\n",
    "            ys = [torch.tensor([0])]\n",
    "            ys.append(torch.nn.functional.one_hot(torch.round(Y[0]).to(torch.long), int(self.label_dims[1])))\n",
    "            ys.append(torch.nn.functional.one_hot(torch.round(Y[1]).to(torch.long), int(self.label_dims[2])))\n",
    "            ys.append(torch.nn.functional.one_hot(torch.round(Y[2]).to(torch.long), int(self.label_dims[3])))\n",
    "            ys.append(torch.nn.functional.one_hot(torch.round(Y[3]).to(torch.long), int(self.label_dims[4])))\n",
    "            ys.append(torch.nn.functional.one_hot(torch.round(Y[4]).to(torch.long), int(self.label_dims[5])))\n",
    "            ys = torch.cat(ys).to(torch.float32).reshape(1,-1).cuda()\n",
    "            p = vae.decoder.forward(zs, ys)\n",
    "            return (N < p.cpu()).type(torch.float)\n",
    "        \n",
    "        def f_Y(N):\n",
    "            \"\"\"\n",
    "            Gumbel distribution - to model the distribution of the maximum of a number of samples\n",
    "            m = Gumbel(torch.tensor([1.0]), torch.tensor([2.0])).sample() # sample from Gumbel distribution with loc=1, scale=2\n",
    "            tensor([ 1.0124])\n",
    "            \n",
    "            https://pytorch.org/docs/stable/_modules/torch/distributions/gumbel.html\n",
    "            \"\"\"\n",
    "#             m = torch.distributions.gumbel.Gumbel(torch.zeros(N.size(0)), torch.ones(N.size(0)))\n",
    "            beta = 12\n",
    "            indices = torch.tensor(np.arange(N.size(0))).to(torch.float32)\n",
    "            smax = nn.functional.softmax(beta*N)\n",
    "            argmax_ind = torch.sum(smax*indices)\n",
    "            return argmax_ind\n",
    "        \n",
    "        def f_Z(N):\n",
    "            \"\"\"\n",
    "            Z ~ Normal(mu, sigma) \n",
    "            \"\"\"\n",
    "            return N * sigma + mu\n",
    "        \n",
    "        def model(noise): \n",
    "            \"\"\"\n",
    "            The model corresponds to a generative process\n",
    "            \n",
    "            args: noise variables\n",
    "            return: X(image), Y(labels), Z(latents) \n",
    "            \"\"\"\n",
    "            N_X = pyro.sample( 'N_X', noise['N_X'].to_event(1) )\n",
    "            # denoted using the index in the sequence \n",
    "            # that they are stored in as vae.label_names:\n",
    "            # ['shape', 'scale', 'orientation', 'posX', 'posY']\n",
    "            N_Y_1 = pyro.sample( 'N_Y_1', noise['N_Y_1'].to_event(1) )\n",
    "            N_Y_2 = pyro.sample( 'N_Y_2', noise['N_Y_2'].to_event(1) )\n",
    "            N_Y_3 = pyro.sample( 'N_Y_3', noise['N_Y_3'].to_event(1) )\n",
    "            N_Y_4 = pyro.sample( 'N_Y_4', noise['N_Y_4'].to_event(1) )\n",
    "            N_Y_5 = pyro.sample( 'N_Y_5', noise['N_Y_5'].to_event(1) )\n",
    "            \n",
    "            # Z ~ Normal(Nx_mu, Nx_sigma)              \n",
    "            N_Z = pyro.sample( 'N_Z', noise['N_Z'].to_event(1) )\n",
    "            Z = pyro.sample('Z', dist.Normal( f_Z( N_Z ), 1e-1).to_event(1) )\n",
    "            \n",
    "            # Y ~ Gumbel max of Ny             \n",
    "#             Y_1_mu = f_Y(N_Y_1)\n",
    "#             Y_2_mu = f_Y(N_Y_2)\n",
    "#             Y_3_mu = f_Y(N_Y_3)\n",
    "#             Y_4_mu = f_Y(N_Y_4)\n",
    "#             Y_5_mu = f_Y(N_Y_5)\n",
    "       \n",
    "            Y_1 = pyro.sample('Y_1', dist.Normal( f_Y(N_Y_1), 1e-2) )\n",
    "            Y_2 = pyro.sample('Y_2', dist.Normal( f_Y(N_Y_2), 1e-1) )\n",
    "            Y_3 = pyro.sample('Y_3', dist.Normal( f_Y(N_Y_3), 1e-1) )\n",
    "            Y_4 = pyro.sample('Y_4', dist.Normal( f_Y(N_Y_4), 1e-1) )\n",
    "            Y_5 = pyro.sample('Y_5', dist.Normal( f_Y(N_Y_5), 1e-1) )\n",
    "            \n",
    "#             Y_mu = (Y_1_mu, Y_2_mu, Y_3_mu, Y_4_mu, Y_5_mu)\n",
    "            \n",
    "            # X ~ p(x|y,z) = bernoulli(loc(y,z))             \n",
    "            X = pyro.sample('X', dist.Normal( f_X( (Y_1, Y_2, Y_3,Y_4,Y_5), Z, N_X ), 1e-2).to_event(1))\n",
    "            \n",
    "            # return noise and variables\n",
    "            noise_samples = N_X, (N_Y_1, N_Y_2, N_Y_3, N_Y_4, N_Y_5), N_Z\n",
    "            variable_samples = X, (Y_1, Y_2, Y_3, Y_4, Y_5), Z\n",
    "            return variable_samples, noise_samples\n",
    "        \n",
    "        self.model = model\n",
    "        #Initialize all noise variables in the model         \n",
    "        self.init_noise = {\n",
    "            'N_X'   : dist.Uniform(torch.zeros(vae.image_dim), torch.ones(vae.image_dim)),\n",
    "            'N_Z'   : dist.Normal(torch.zeros(vae.z_dim), torch.ones(vae.z_dim)),\n",
    "            'N_Y_1' : dist.Uniform(torch.zeros(self.label_dims[1]),torch.ones(self.label_dims[1])),\n",
    "            'N_Y_2' : dist.Uniform(torch.zeros(self.label_dims[2]),torch.ones(self.label_dims[2])),\n",
    "            'N_Y_3' : dist.Uniform(torch.zeros(self.label_dims[3]),torch.ones(self.label_dims[3])),\n",
    "            'N_Y_4' : dist.Uniform(torch.zeros(self.label_dims[4]),torch.ones(self.label_dims[4])),\n",
    "            'N_Y_5' : dist.Uniform(torch.zeros(self.label_dims[5]),torch.ones(self.label_dims[5]))            \n",
    "        }\n",
    "        \n",
    "    def update_noise_svi(self, obs_data, intervened_model=None):\n",
    "        \"\"\"\n",
    "        Use svi to find out the mu, sigma of the distributionsfor the \n",
    "        condition outlined in obs_data\n",
    "        \"\"\"\n",
    "        \n",
    "        def guide(noise):\n",
    "            \"\"\"\n",
    "            The guide serves as an approximation to the posterior p(z|x). \n",
    "            The guide provides a valid joint probability density over all the \n",
    "            latent random variables in the model.\n",
    "            \n",
    "            https://pyro.ai/examples/svi_part_i.html\n",
    "            \"\"\"\n",
    "            # create params with constraints\n",
    "            mu = {\n",
    "                'N_X': pyro.param('N_X_mu', 0.5*torch.ones(self.image_dim),constraint = constraints.interval(0., 1.)),\n",
    "                'N_Z': pyro.param('N_Z_mu', torch.zeros(self.z_dim),constraint = constraints.interval(-3., 3.)),\n",
    "                'N_Y_1': pyro.param('N_Y_1_mu', 0.5*torch.ones(self.label_dims[1]),constraint = constraints.interval(0., 1.)),\n",
    "                'N_Y_2': pyro.param('N_Y_2_mu', 0.5*torch.ones(self.label_dims[2]),constraint = constraints.interval(0., 1.)),\n",
    "                'N_Y_3': pyro.param('N_Y_3_mu', 0.5*torch.ones(self.label_dims[3]),constraint = constraints.interval(0., 1.)),\n",
    "                'N_Y_4': pyro.param('N_Y_4_mu', 0.5*torch.ones(self.label_dims[4]),constraint = constraints.interval(0., 1.)),\n",
    "                'N_Y_5': pyro.param('N_Y_5_mu', 0.5*torch.ones(self.label_dims[5]),constraint = constraints.interval(0., 1.))\n",
    "                }\n",
    "            sigma = {\n",
    "                'N_X': pyro.param('N_X_sigma', 0.1*torch.ones(self.image_dim),constraint = constraints.interval(0.0001, 0.5)),\n",
    "                'N_Z': pyro.param('N_Z_sigma', torch.ones(self.z_dim),constraint = constraints.interval(0.0001, 3.)),\n",
    "                'N_Y_1': pyro.param('N_Y_1_sigma', 0.1*torch.ones(self.label_dims[1]),constraint = constraints.interval(0.0001, 0.5)),\n",
    "                'N_Y_2': pyro.param('N_Y_2_sigma', 0.1*torch.ones(self.label_dims[2]),constraint = constraints.interval(0.0001, 0.5)),\n",
    "                'N_Y_3': pyro.param('N_Y_3_sigma', 0.1*torch.ones(self.label_dims[3]),constraint = constraints.interval(0.0001, 0.5)),\n",
    "                'N_Y_4': pyro.param('N_Y_4_sigma', 0.1*torch.ones(self.label_dims[4]),constraint = constraints.interval(0.0001, 0.5)),\n",
    "                'N_Y_5': pyro.param('N_Y_5_sigma', 0.1*torch.ones(self.label_dims[5]),constraint = constraints.interval(0.0001, 0.5))\n",
    "                }\n",
    "            for noise_term in noise.keys():\n",
    "                pyro.sample(noise_term, dist.Normal(mu[noise_term], sigma[noise_term]).to_event(1))\n",
    "        \n",
    "        # Condition the model\n",
    "        if intervened_model is not None:\n",
    "          obs_model = pyro.condition(intervened_model, obs_data)\n",
    "        else:\n",
    "          obs_model = pyro.condition(self.model, obs_data)\n",
    "          \n",
    "        pyro.clear_param_store()\n",
    "\n",
    "        # Once we’ve specified a guide, we’re ready to proceed to inference. \n",
    "        # Now, this an optimization problem where each iteration of training takes  \n",
    "        # a step that moves the guide closer to the exact posterior \n",
    "        \n",
    "        # https://arxiv.org/pdf/1601.00670.pdf\n",
    "        svi = SVI(\n",
    "            model= obs_model,\n",
    "            guide= guide,\n",
    "            optim= SGD({\"lr\": 1e-5, 'momentum': 0.1}),\n",
    "            loss=Trace_ELBO(retain_graph=True)\n",
    "        )\n",
    "        \n",
    "        num_steps = 1500\n",
    "        samples = defaultdict(list)\n",
    "        for t in range(num_steps):\n",
    "            loss = svi.step(self.init_noise)\n",
    "#             if t % 100 == 0:\n",
    "#                 print(\"step %d: loss of %.2f\" % (t, loss))\n",
    "            for noise in self.init_noise.keys():\n",
    "                mu = '{}_mu'.format(noise)\n",
    "                sigma = '{}_sigma'.format(noise)\n",
    "                samples[mu].append(pyro.param(mu).detach().numpy())\n",
    "                samples[sigma].append(pyro.param(sigma).detach().numpy())\n",
    "        means = {k: torch.tensor(np.array(v).mean(axis=0)) for k, v in samples.items()}\n",
    "        \n",
    "        # update the inferred noise\n",
    "        updated_noise = {\n",
    "            'N_X'  : dist.Normal(means['N_X_mu'], means['N_X_sigma']),\n",
    "            'N_Z'  : dist.Normal(means['N_Z_mu'], means['N_Z_sigma']),\n",
    "            'N_Y_1': dist.Normal(means['N_Y_1_mu'], means['N_Y_1_sigma']),\n",
    "            'N_Y_2': dist.Normal(means['N_Y_2_mu'], means['N_Y_2_sigma']),\n",
    "            'N_Y_3': dist.Normal(means['N_Y_3_mu'], means['N_Y_3_sigma']),\n",
    "            'N_Y_4': dist.Normal(means['N_Y_4_mu'], means['N_Y_4_sigma']),\n",
    "            'N_Y_5': dist.Normal(means['N_Y_5_mu'], means['N_Y_5_sigma']),\n",
    "        }\n",
    "        return updated_noise\n",
    "        \n",
    "    def __call__(self):\n",
    "        return self.model(self.init_noise)"
   ]
  },
  {
   "cell_type": "markdown",
   "metadata": {
    "colab_type": "text",
    "id": "lk7vAe8byP5G"
   },
   "source": [
    "## Sanity check: 1\n",
    "### Making sure VAE works"
   ]
  },
  {
   "cell_type": "code",
   "execution_count": 22,
   "metadata": {
    "colab": {
     "base_uri": "https://localhost:8080/",
     "height": 265
    },
    "colab_type": "code",
    "id": "TDI4enwfEPCY",
    "outputId": "3af0525e-bb98-43a3-db37-e6eb72ff391f"
   },
   "outputs": [
    {
     "name": "stdout",
     "output_type": "stream",
     "text": [
      "tensor([[ 0.,  2.,  5., 16.,  8., 13.]], device='cuda:0')\n"
     ]
    },
    {
     "data": {
      "image/png": "[encoded data removed]",
      "text/plain": [
       "<Figure size 432x288 with 1 Axes>"
      ]
     },
     "metadata": {
      "tags": []
     },
     "output_type": "display_data"
    }
   ],
   "source": [
    "# Generate an instance of dSprites image \n",
    "ox, y = get_specific_data(cuda=True)\n",
    "plot_image(ox)\n",
    "# Pass it through VAE to get q(z|x) => N(mu, sigma)\n",
    "mu, sigma = vae.encoder.forward(ox,vae.remap_y(y))\n",
    "# Feed these params to our custom SCM\n",
    "scm = SCM(vae, mu.cpu(), sigma.cpu())\n",
    "print(y)\n",
    "# Check for reconstruction\n"
   ]
  },
  {
   "cell_type": "markdown",
   "metadata": {
    "colab_type": "text",
    "id": "B1rkIEyL-357"
   },
   "source": [
    "## Sanity check 2\n",
    "\n",
    "### To check if the decoder is able to generate the image if the latents are changed:\n",
    "#### To achieve this we manually change the labels in the code and run it through the decoder and check for reconstruction"
   ]
  },
  {
   "cell_type": "code",
   "execution_count": 23,
   "metadata": {
    "colab": {
     "base_uri": "https://localhost:8080/",
     "height": 427
    },
    "colab_type": "code",
    "id": "1CcO36iqEf_T",
    "outputId": "448f3fcf-ec4f-4b25-b709-78b2d1d12121"
   },
   "outputs": [
    {
     "name": "stdout",
     "output_type": "stream",
     "text": [
      "top:  tensor([[ 0.,  2.,  5., 15., 14., 27.]], device='cuda:0')\n",
      "bottom:  tensor([[ 0.,  1.,  5., 15., 14., 27.]], device='cuda:0')\n"
     ]
    },
    {
     "data": {
      "image/png": "[encoded data removed]",
      "text/plain": [
       "<Figure size 432x288 with 2 Axes>"
      ]
     },
     "metadata": {
      "tags": []
     },
     "output_type": "display_data"
    },
    {
     "data": {
      "image/png": "[encoded data removed]",
      "text/plain": [
       "<Figure size 432x288 with 2 Axes>"
      ]
     },
     "metadata": {
      "tags": []
     },
     "output_type": "display_data"
    }
   ],
   "source": [
    "original, y_original = get_specific_data(cuda=True)\n",
    "print('top: ',y_original)\n",
    "mu, sigma = vae.encoder.forward(original,vae.remap_y(y_original))\n",
    "B = 100\n",
    "zs = torch.cat([dist.Normal(mu.cpu(), sigma.cpu()).sample() for a in range(B)], 0)\n",
    "ys = torch.cat([vae.remap_y(y_original) for a in range(B)], 0)\n",
    "rs = vae.decoder.forward(zs.cuda(), ys).detach()\n",
    "compare_to_density(original,rs)\n",
    "\n",
    "y_new = torch.tensor(y_original)\n",
    "y_new[0,1] = (y_original[0,1] + 1) % 2\n",
    "print('bottom: ', y_new)\n",
    "zs = torch.cat([dist.Normal(mu.cpu(), sigma.cpu()).sample() for a in range(B)], 0)\n",
    "ys = torch.cat([vae.remap_y(y_new) for a in range(B)], 0)\n",
    "rs = vae.decoder.forward(zs.cuda(), ys).detach()\n",
    "compare_to_density(original,rs)"
   ]
  },
  {
   "cell_type": "markdown",
   "metadata": {
    "colab_type": "text",
    "id": "bwyk5S5a7knN"
   },
   "source": [
    "## Conditioning the model"
   ]
  },
  {
   "cell_type": "code",
   "execution_count": 24,
   "metadata": {
    "colab": {
     "base_uri": "https://localhost:8080/",
     "height": 34
    },
    "colab_type": "code",
    "id": "tQu4lzTMp8QH",
    "outputId": "6a9cc36b-71a6-4aba-d2e5-39e080c3e3aa"
   },
   "outputs": [
    {
     "name": "stdout",
     "output_type": "stream",
     "text": [
      "{'Y_1': tensor(2.), 'Y_2': tensor(5.), 'Y_3': tensor(16.), 'Y_4': tensor(8.), 'Y_5': tensor(13.)}\n"
     ]
    }
   ],
   "source": [
    "cond_data = {}\n",
    "for i in range(1, 6):\n",
    "    cond_data[\"Y_{}\".format(i)] = torch.tensor(y[0,i].cpu()).to(torch.float32)\n",
    "print(cond_data)"
   ]
  },
  {
   "cell_type": "code",
   "execution_count": 25,
   "metadata": {
    "colab": {
     "base_uri": "https://localhost:8080/",
     "height": 34
    },
    "colab_type": "code",
    "id": "rtJRtQgJve2A",
    "outputId": "d554e96a-e109-4e3e-c6f5-3aa85f0787e8"
   },
   "outputs": [
    {
     "name": "stdout",
     "output_type": "stream",
     "text": [
      "{'Y_1': tensor(2.), 'Y_2': tensor(5.), 'Y_3': tensor(16.), 'Y_4': tensor(8.), 'Y_5': tensor(13.)}\n"
     ]
    }
   ],
   "source": [
    "# cond_data['Y_1'] = torch.tensor(1.)\n",
    "# cond_data['Y_2'] = torch.tensor(4.)\n",
    "conditioned_model = pyro.condition(scm.model, data=cond_data)\n",
    "cond_noise = scm.update_noise_svi(cond_data)\n",
    "print(cond_data)"
   ]
  },
  {
   "cell_type": "code",
   "execution_count": 26,
   "metadata": {
    "colab": {
     "base_uri": "https://localhost:8080/",
     "height": 245
    },
    "colab_type": "code",
    "id": "0r2HePhs9DnB",
    "outputId": "959a4afb-57e6-4186-9b57-8185a289fa2f"
   },
   "outputs": [
    {
     "data": {
      "image/png": "[encoded data removed]",
      "text/plain": [
       "<Figure size 432x288 with 2 Axes>"
      ]
     },
     "metadata": {
      "tags": []
     },
     "output_type": "display_data"
    }
   ],
   "source": [
    "rxs = []\n",
    "for i in range(100):\n",
    "     (rx,ry,_), _ = scm.model(cond_noise)\n",
    "     rxs.append(rx)\n",
    "compare_to_density(ox, torch.cat(rxs))\n",
    "_ =plt.suptitle(\"SCM Conditioned on Original\", fontsize=18, fontstyle='italic')\n"
   ]
  },
  {
   "cell_type": "markdown",
   "metadata": {
    "colab_type": "text",
    "id": "T9q5R5Az7qUO"
   },
   "source": [
    "## Counterfactuals"
   ]
  },
  {
   "cell_type": "code",
   "execution_count": null,
   "metadata": {
    "colab": {},
    "colab_type": "code",
    "id": "4NA_mpKv7t4P"
   },
   "outputs": [],
   "source": [
    "# intervening on Shape, posX and PosY \n",
    "intervened_model = pyro.do(scm.model, data={\n",
    "    \"Y_1\": torch.tensor(0.),\n",
    "#     \"Y_4\": torch.tensor(5.),\n",
    "#     \"Y_5\": torch.tensor(25.),\n",
    "})\n",
    "noise_data = {}\n",
    "for term, d in cond_noise.items():\n",
    "  noise_data[term] = d.loc\n",
    "# intervened_noise = scm.update_noise_svi(noise_data, intervened_model)"
   ]
  },
  {
   "cell_type": "code",
   "execution_count": 28,
   "metadata": {
    "colab": {
     "base_uri": "https://localhost:8080/",
     "height": 222
    },
    "colab_type": "code",
    "id": "rffN8m75cKrd",
    "outputId": "066144a0-95dc-4b89-9eef-c90a58bc2a23"
   },
   "outputs": [
    {
     "name": "stdout",
     "output_type": "stream",
     "text": [
      "(tensor(0.), tensor(1.6802), tensor(20.1076), tensor(13.2424), tensor(15.5899))\n"
     ]
    },
    {
     "data": {
      "image/png": "[encoded data removed]",
      "text/plain": [
       "<Figure size 432x288 with 2 Axes>"
      ]
     },
     "metadata": {
      "tags": []
     },
     "output_type": "display_data"
    }
   ],
   "source": [
    "(rx1,ry,_), _ = intervened_model(scm.init_noise)\n",
    "compare_to_density(ox, rx1)\n",
    "print(ry)"
   ]
  },
  {
   "cell_type": "code",
   "execution_count": 29,
   "metadata": {
    "colab": {
     "base_uri": "https://localhost:8080/",
     "height": 245
    },
    "colab_type": "code",
    "id": "WwvqXamE4hqb",
    "outputId": "b175d618-45f8-4f56-e41d-20b5fbb3a09e"
   },
   "outputs": [
    {
     "data": {
      "image/png": "[encoded data removed]",
      "text/plain": [
       "<Figure size 432x288 with 2 Axes>"
      ]
     },
     "metadata": {
      "tags": []
     },
     "output_type": "display_data"
    }
   ],
   "source": [
    "rxs = []\n",
    "for i in range(100):\n",
    "     (cfo1,ny1,nz1), _= intervened_model(cond_noise)\n",
    "     rxs.append(cfo1)\n",
    "compare_to_density(ox, torch.cat(rxs))\n",
    "_ =plt.suptitle(\"SCM intervened on shape\", fontsize=18, fontstyle='italic')"
   ]
  }
 ],
 "metadata": {
  "accelerator": "GPU",
  "colab": {
   "collapsed_sections": [],
   "machine_shape": "hm",
   "name": "causal_vae_dsprites.ipynb",
   "provenance": [],
   "toc_visible": true
  },
  "kernelspec": {
   "display_name": "Python 3",
   "language": "python",
   "name": "python3"
  },
  "language_info": {
   "codemirror_mode": {
    "name": "ipython",
    "version": 3
   },
   "file_extension": ".py",
   "mimetype": "text/x-python",
   "name": "python",
   "nbconvert_exporter": "python",
   "pygments_lexer": "ipython3",
   "version": "3.7.3"
  },
  "widgets": {
   "application/vnd.jupyter.widget-state+json": {
    "3004305d210242fba2881d9fd707865d": {
     "model_module": "@jupyter-widgets/controls",
     "model_name": "SliderStyleModel",
     "state": {
      "_model_module": "@jupyter-widgets/controls",
      "_model_module_version": "1.5.0",
      "_model_name": "SliderStyleModel",
      "_view_count": null,
      "_view_module": "@jupyter-widgets/base",
      "_view_module_version": "1.2.0",
      "_view_name": "StyleView",
      "description_width": "",
      "handle_color": null
     }
    },
    "5ab23a5f470149129573418510f7d89c": {
     "model_module": "@jupyter-widgets/output",
     "model_name": "OutputModel",
     "state": {
      "_dom_classes": [],
      "_model_module": "@jupyter-widgets/output",
      "_model_module_version": "1.0.0",
      "_model_name": "OutputModel",
      "_view_count": null,
      "_view_module": "@jupyter-widgets/output",
      "_view_module_version": "1.0.0",
      "_view_name": "OutputView",
      "layout": "IPY_MODEL_0ec9d18511b04c0cafaf8b1ac7900a25",
      "msg_id": "",
      "outputs": [
       {
        "image/png": "iVBORw0KGgoAAAANSUhEUgAAAV0AAACmCAYAAAB5qlzZAAAABHNCSVQICAgIfAhkiAAAAAlwSFlz\nAAALEgAACxIB0t1+/AAAADh0RVh0U29mdHdhcmUAbWF0cGxvdGxpYiB2ZXJzaW9uMy4xLjIsIGh0\ndHA6Ly9tYXRwbG90bGliLm9yZy8li6FKAAADKUlEQVR4nO3cwU7jQBQAQQbx/788nJBYFJywsXsS\np+oKAh+emuexyZhzvgHQeF99AQCvRHQBQqILEBJdgJDoAoREFyD0sfXFMYb3yTjUnHOs+L1mm6P9\nNts2XYCQ6AKERBcgJLoAIdEFCIkuQEh0AUKiCxASXYCQ6AKERBcgJLoAIdEFCIkuQEh0AUKiCxAS\nXYCQ6AKERBcgJLoAIdEFCIkuQEh0AUKiCxASXYCQ6AKERBcgJLoAIdEFCInuDuacb3PO1ZcBPAHR\nBQh9rL6AM7m07Y4xFlwJ7MNM78+mCxASXYCQ44U73PLw7Pv3uC3jWWzNtiOH+9h0AUI23dDPDcF2\nwFl8zbaZvs6mCxASXYCQ44U/2vM/zzyQ4GzM9HU2XYCQTfdG1WcreMWMVY6a8a2f+4ozbtMFCNl0\nH5jXcCj4hLyWTRcgJLoAIccLV7j1AvZk0wUI2XQfmAdoHGnlXdwrz7ZNFyAkugAhxwsXuO3irMz2\nejZdgJDoAoREFyDkTPeCS2dPR5+FOe+i8H3OqvNds/0vmy5ASHQBQo4XbrTiyAGO9HOm95xnRwq/\ns+kChGy6d/j6a/6/G4JtgEeyNY/u6vZj0wUIiS5AyPHCDjxk4+xufb/Xkdl1Nl2AkE33IFvbr22A\nZ2Z+72PTBQjZdEM2BMCmCxASXYCQ6AKERBcgJLoAIdEFCIkuQEh0AUKiCxASXYCQ6AKERBcgJLoA\nIdEFCIkuQEh0AUKiCxASXYCQ6AKERBcgJLoAIdEFCIkuQEh0AUKiCxASXYCQ6AKERBcgJLoAIdEF\nCIkuQEh0AUKiCxASXYCQ6AKERBcgJLoAIdEFCIkuQEh0AUKiCxASXYCQ6AKERBcgJLoAIdEFCIku\nQEh0AUKiCxASXYCQ6AKERBcgJLoAIdEFCIkuQEh0AUKiCxASXYCQ6AKERBcgJLoAIdEFCIkuQEh0\nAUKiCxASXYCQ6AKERBcgJLoAIdEFCIkuQEh0AUKiCxASXYCQ6AKERBcgJLoAIdEFCIkuQEh0AUKi\nCxASXYCQ6AKExpxz9TUAvAybLkBIdAFCogsQEl2AkOgChEQXIPQJtJVvZQOFR58AAAAASUVORK5C\nYII=\n",
        "metadata": {
         "tags": []
        },
        "output_type": "display_data",
        "text/plain": "<Figure size 432x288 with 2 Axes>"
       }
      ]
     }
    },
    "5d43a81214e9478fb124161f7d8d1b23": {
     "model_module": "@jupyter-widgets/base",
     "model_name": "LayoutModel",
     "state": {
      "_model_module": "@jupyter-widgets/base",
      "_model_module_version": "1.2.0",
      "_model_name": "LayoutModel",
      "_view_count": null,
      "_view_module": "@jupyter-widgets/base",
      "_view_module_version": "1.2.0",
      "_view_name": "LayoutView",
      "align_content": null,
      "align_items": null,
      "align_self": null,
      "border": null,
      "bottom": null,
      "display": null,
      "flex": null,
      "flex_flow": null,
      "grid_area": null,
      "grid_auto_columns": null,
      "grid_auto_flow": null,
      "grid_auto_rows": null,
      "grid_column": null,
      "grid_gap": null,
      "grid_row": null,
      "grid_template_areas": null,
      "grid_template_columns": null,
      "grid_template_rows": null,
      "height": null,
      "justify_content": null,
      "justify_items": null,
      "left": null,
      "margin": null,
      "max_height": null,
      "max_width": null,
      "min_height": null,
      "min_width": null,
      "object_fit": null,
      "object_position": null,
      "order": null,
      "overflow": null,
      "overflow_x": null,
      "overflow_y": null,
      "padding": null,
      "right": null,
      "top": null,
      "visibility": null,
      "width": null
     }
    },
    "5ef3de141f6b4ecf8273c2b86ce6fd10": {
     "model_module": "@jupyter-widgets/controls",
     "model_name": "SliderStyleModel",
     "state": {
      "_model_module": "@jupyter-widgets/controls",
      "_model_module_version": "1.5.0",
      "_model_name": "SliderStyleModel",
      "_view_count": null,
      "_view_module": "@jupyter-widgets/base",
      "_view_module_version": "1.2.0",
      "_view_name": "StyleView",
      "description_width": "",
      "handle_color": null
     }
    },
    "5f1ce50584164b249fb6db1f82c923a1": {
     "model_module": "@jupyter-widgets/base",
     "model_name": "LayoutModel",
     "state": {
      "_model_module": "@jupyter-widgets/base",
      "_model_module_version": "1.2.0",
      "_model_name": "LayoutModel",
      "_view_count": null,
      "_view_module": "@jupyter-widgets/base",
      "_view_module_version": "1.2.0",
      "_view_name": "LayoutView",
      "align_content": null,
      "align_items": null,
      "align_self": null,
      "border": null,
      "bottom": null,
      "display": null,
      "flex": null,
      "flex_flow": null,
      "grid_area": null,
      "grid_auto_columns": null,
      "grid_auto_flow": null,
      "grid_auto_rows": null,
      "grid_column": null,
      "grid_gap": null,
      "grid_row": null,
      "grid_template_areas": null,
      "grid_template_columns": null,
      "grid_template_rows": null,
      "height": null,
      "justify_content": null,
      "justify_items": null,
      "left": null,
      "margin": null,
      "max_height": null,
      "max_width": null,
      "min_height": null,
      "min_width": null,
      "object_fit": null,
      "object_position": null,
      "order": null,
      "overflow": null,
      "overflow_x": null,
      "overflow_y": null,
      "padding": null,
      "right": null,
      "top": null,
      "visibility": null,
      "width": null
     }
    },
    "73d3d07ddd0b461f9ae5d2b78a939b17": {
     "model_module": "@jupyter-widgets/base",
     "model_name": "LayoutModel",
     "state": {
      "_model_module": "@jupyter-widgets/base",
      "_model_module_version": "1.2.0",
      "_model_name": "LayoutModel",
      "_view_count": null,
      "_view_module": "@jupyter-widgets/base",
      "_view_module_version": "1.2.0",
      "_view_name": "LayoutView",
      "align_content": null,
      "align_items": null,
      "align_self": null,
      "border": null,
      "bottom": null,
      "display": null,
      "flex": null,
      "flex_flow": null,
      "grid_area": null,
      "grid_auto_columns": null,
      "grid_auto_flow": null,
      "grid_auto_rows": null,
      "grid_column": null,
      "grid_gap": null,
      "grid_row": null,
      "grid_template_areas": null,
      "grid_template_columns": null,
      "grid_template_rows": null,
      "height": null,
      "justify_content": null,
      "justify_items": null,
      "left": null,
      "margin": null,
      "max_height": null,
      "max_width": null,
      "min_height": null,
      "min_width": null,
      "object_fit": null,
      "object_position": null,
      "order": null,
      "overflow": null,
      "overflow_x": null,
      "overflow_y": null,
      "padding": null,
      "right": null,
      "top": null,
      "visibility": null,
      "width": null
     }
    },
    "7ff711de7ae443a5bfa6235c0931f3f8": {
     "model_module": "@jupyter-widgets/base",
     "model_name": "LayoutModel",
     "state": {
      "_model_module": "@jupyter-widgets/base",
      "_model_module_version": "1.2.0",
      "_model_name": "LayoutModel",
      "_view_count": null,
      "_view_module": "@jupyter-widgets/base",
      "_view_module_version": "1.2.0",
      "_view_name": "LayoutView",
      "align_content": null,
      "align_items": null,
      "align_self": null,
      "border": null,
      "bottom": null,
      "display": null,
      "flex": null,
      "flex_flow": null,
      "grid_area": null,
      "grid_auto_columns": null,
      "grid_auto_flow": null,
      "grid_auto_rows": null,
      "grid_column": null,
      "grid_gap": null,
      "grid_row": null,
      "grid_template_areas": null,
      "grid_template_columns": null,
      "grid_template_rows": null,
      "height": null,
      "justify_content": null,
      "justify_items": null,
      "left": null,
      "margin": null,
      "max_height": null,
      "max_width": null,
      "min_height": null,
      "min_width": null,
      "object_fit": null,
      "object_position": null,
      "order": null,
      "overflow": null,
      "overflow_x": null,
      "overflow_y": null,
      "padding": null,
      "right": null,
      "top": null,
      "visibility": null,
      "width": null
     }
    },
    "833bb871a0044e31ba551b69cc47a3b6": {
     "model_module": "@jupyter-widgets/output",
     "model_name": "OutputModel",
     "state": {
      "_dom_classes": [],
      "_model_module": "@jupyter-widgets/output",
      "_model_module_version": "1.0.0",
      "_model_name": "OutputModel",
      "_view_count": null,
      "_view_module": "@jupyter-widgets/output",
      "_view_module_version": "1.0.0",
      "_view_name": "OutputView",
      "layout": "IPY_MODEL_258f41db8f3f475f9bc12ba596a5dbcf",
      "msg_id": "",
      "outputs": [
       {
        "image/png": "iVBORw0KGgoAAAANSUhEUgAAAOcAAADnCAYAAADl9EEgAAAABHNCSVQICAgIfAhkiAAAAAlwSFlz\nAAALEgAACxIB0t1+/AAAADh0RVh0U29mdHdhcmUAbWF0cGxvdGxpYiB2ZXJzaW9uMy4xLjIsIGh0\ndHA6Ly9tYXRwbG90bGliLm9yZy8li6FKAAAC4klEQVR4nO3dMW4DMQwAQdO4/3+Z6VwdDKQItLFn\nSqlhsyCgRrO7D6DneXoA4J44IUqcECVOiBInRF3vLmfGUy78sd2du3ObE6LECVHihChxQpQ4IUqc\nECVOiBInRIkTosQJUeKEKHFClDghSpwQJU6IEidEiROixAlR4oQocUKUOCFKnBAlTogSJ0SJE6LE\nCVHihChxQpQ4IUqcECVOiBInRIkTosQJUeKEKHFC1HV6gN/a3dMjvMzM6RH4YDYnRIkTosQJUeKE\nKHFClDghSpwQJU6IEidEiROixAlR4oQocUKUOCFKnBAlTogSJ0SJE6LECVHihChxQpQ4IUqcECVO\niBInRIkTosQJUeKEKHFClDghSpwQJU6IEidEiROi/t23875651vYnBAlTogSJ0SJE6LECVHihChx\nQpQ4IUqcECVOiBInRIkTosQJUeKEKHFClDghSpwQJU6IEidEiROixAlR4oQocUKUOCFKnBAlTogS\nJ0SJE6LECVHihChxQpQ4IUqcECVOiBInRIkTosQJUeKEKHFClDghSpwQJU6IEidEiROixAlR4oQo\ncUKUOCFKnBAlTogSJ0SJE6LECVHihChxQpQ4IUqcECVOiBInRIkTosQJUeKEKHFClDghSpwQJU6I\nEidEiROixAlR4oQocUKUOCFKnBAlTogSJ0SJE6LECVHihChxQpQ4IUqcECVOiBInRIkTosQJUeKE\nKHFClDghSpwQJU6IEidEiROixAlR4oQocUKUOCFKnBAlTogSJ0SJE6LECVHihChxQpQ4IUqcECVO\niBInRIkTosQJUeKEKHFClDghSpwQJU6IEidEiROixAlR4oQocUKUOCFKnBAlTogSJ0SJE6LECVHi\nhChxQpQ4IUqcECVOiBInRIkTosQJUeKEKHFClDghSpwQJU6IEidEiROixAlR4oQocUKUOCFKnBA1\nu3t6BuCGzQlR4oQocUKUOCFKnBAlToj6AZUlDtC8HnrcAAAAAElFTkSuQmCC\n",
        "metadata": {
         "tags": []
        },
        "output_type": "display_data",
        "text/plain": "<Figure size 432x288 with 1 Axes>"
       }
      ]
     }
    },
    "85658c34185141399bc07ae9b42209f4": {
     "model_module": "@jupyter-widgets/controls",
     "model_name": "SliderStyleModel",
     "state": {
      "_model_module": "@jupyter-widgets/controls",
      "_model_module_version": "1.5.0",
      "_model_name": "SliderStyleModel",
      "_view_count": null,
      "_view_module": "@jupyter-widgets/base",
      "_view_module_version": "1.2.0",
      "_view_name": "StyleView",
      "description_width": "",
      "handle_color": null
     }
    },
    "88c8835268f74a2dab8970e50ac40d5e": {
     "model_module": "@jupyter-widgets/controls",
     "model_name": "IntSliderModel",
     "state": {
      "_dom_classes": [],
      "_model_module": "@jupyter-widgets/controls",
      "_model_module_version": "1.5.0",
      "_model_name": "IntSliderModel",
      "_view_count": null,
      "_view_module": "@jupyter-widgets/controls",
      "_view_module_version": "1.5.0",
      "_view_name": "IntSliderView",
      "continuous_update": true,
      "description": "scale",
      "description_tooltip": null,
      "disabled": false,
      "layout": "IPY_MODEL_5f1ce50584164b249fb6db1f82c923a1",
      "max": 5,
      "min": 0,
      "orientation": "horizontal",
      "readout": true,
      "readout_format": "d",
      "step": 1,
      "style": "IPY_MODEL_5ef3de141f6b4ecf8273c2b86ce6fd10",
      "value": 0
     }
    },
    "ae69e391870841598457cb208ba9c8e1": {
     "model_module": "@jupyter-widgets/base",
     "model_name": "LayoutModel",
     "state": {
      "_model_module": "@jupyter-widgets/base",
      "_model_module_version": "1.2.0",
      "_model_name": "LayoutModel",
      "_view_count": null,
      "_view_module": "@jupyter-widgets/base",
      "_view_module_version": "1.2.0",
      "_view_name": "LayoutView",
      "align_content": null,
      "align_items": null,
      "align_self": null,
      "border": null,
      "bottom": null,
      "display": null,
      "flex": null,
      "flex_flow": null,
      "grid_area": null,
      "grid_auto_columns": null,
      "grid_auto_flow": null,
      "grid_auto_rows": null,
      "grid_column": null,
      "grid_gap": null,
      "grid_row": null,
      "grid_template_areas": null,
      "grid_template_columns": null,
      "grid_template_rows": null,
      "height": null,
      "justify_content": null,
      "justify_items": null,
      "left": null,
      "margin": null,
      "max_height": null,
      "max_width": null,
      "min_height": null,
      "min_width": null,
      "object_fit": null,
      "object_position": null,
      "order": null,
      "overflow": null,
      "overflow_x": null,
      "overflow_y": null,
      "padding": null,
      "right": null,
      "top": null,
      "visibility": null,
      "width": null
     }
    },
    "aea9b73671a2462eb6765f04e37c31b8": {
     "model_module": "@jupyter-widgets/base",
     "model_name": "LayoutModel",
     "state": {
      "_model_module": "@jupyter-widgets/base",
      "_model_module_version": "1.2.0",
      "_model_name": "LayoutModel",
      "_view_count": null,
      "_view_module": "@jupyter-widgets/base",
      "_view_module_version": "1.2.0",
      "_view_name": "LayoutView",
      "align_content": null,
      "align_items": null,
      "align_self": null,
      "border": null,
      "bottom": null,
      "display": null,
      "flex": null,
      "flex_flow": null,
      "grid_area": null,
      "grid_auto_columns": null,
      "grid_auto_flow": null,
      "grid_auto_rows": null,
      "grid_column": null,
      "grid_gap": null,
      "grid_row": null,
      "grid_template_areas": null,
      "grid_template_columns": null,
      "grid_template_rows": null,
      "height": null,
      "justify_content": null,
      "justify_items": null,
      "left": null,
      "margin": null,
      "max_height": null,
      "max_width": null,
      "min_height": null,
      "min_width": null,
      "object_fit": null,
      "object_position": null,
      "order": null,
      "overflow": null,
      "overflow_x": null,
      "overflow_y": null,
      "padding": null,
      "right": null,
      "top": null,
      "visibility": null,
      "width": null
     }
    },
    "b2dd52e317b44b1c9b3f650310af272e": {
     "model_module": "@jupyter-widgets/base",
     "model_name": "LayoutModel",
     "state": {
      "_model_module": "@jupyter-widgets/base",
      "_model_module_version": "1.2.0",
      "_model_name": "LayoutModel",
      "_view_count": null,
      "_view_module": "@jupyter-widgets/base",
      "_view_module_version": "1.2.0",
      "_view_name": "LayoutView",
      "align_content": null,
      "align_items": null,
      "align_self": null,
      "border": null,
      "bottom": null,
      "display": null,
      "flex": null,
      "flex_flow": null,
      "grid_area": null,
      "grid_auto_columns": null,
      "grid_auto_flow": null,
      "grid_auto_rows": null,
      "grid_column": null,
      "grid_gap": null,
      "grid_row": null,
      "grid_template_areas": null,
      "grid_template_columns": null,
      "grid_template_rows": null,
      "height": null,
      "justify_content": null,
      "justify_items": null,
      "left": null,
      "margin": null,
      "max_height": null,
      "max_width": null,
      "min_height": null,
      "min_width": null,
      "object_fit": null,
      "object_position": null,
      "order": null,
      "overflow": null,
      "overflow_x": null,
      "overflow_y": null,
      "padding": null,
      "right": null,
      "top": null,
      "visibility": null,
      "width": null
     }
    },
    "c054d1696c264d82bab35653517c1616": {
     "model_module": "@jupyter-widgets/controls",
     "model_name": "VBoxModel",
     "state": {
      "_dom_classes": [
       "widget-interact"
      ],
      "_model_module": "@jupyter-widgets/controls",
      "_model_module_version": "1.5.0",
      "_model_name": "VBoxModel",
      "_view_count": null,
      "_view_module": "@jupyter-widgets/controls",
      "_view_module_version": "1.5.0",
      "_view_name": "VBoxView",
      "box_style": "",
      "children": [
       "IPY_MODEL_e396f4c81086415fb9093717a9f6c461",
       "IPY_MODEL_88c8835268f74a2dab8970e50ac40d5e",
       "IPY_MODEL_f5fd9bcd4cfe4cdfa85d2b719b2347aa",
       "IPY_MODEL_cd52d4f6db844f299fd442ad3e291fa5",
       "IPY_MODEL_f2cd165223cd430a958d08727ae1711f",
       "IPY_MODEL_833bb871a0044e31ba551b69cc47a3b6"
      ],
      "layout": "IPY_MODEL_73d3d07ddd0b461f9ae5d2b78a939b17"
     }
    },
    "cd52d4f6db844f299fd442ad3e291fa5": {
     "model_module": "@jupyter-widgets/controls",
     "model_name": "IntSliderModel",
     "state": {
      "_dom_classes": [],
      "_model_module": "@jupyter-widgets/controls",
      "_model_module_version": "1.5.0",
      "_model_name": "IntSliderModel",
      "_view_count": null,
      "_view_module": "@jupyter-widgets/controls",
      "_view_module_version": "1.5.0",
      "_view_name": "IntSliderView",
      "continuous_update": true,
      "description": "posX",
      "description_tooltip": null,
      "disabled": false,
      "layout": "IPY_MODEL_7ff711de7ae443a5bfa6235c0931f3f8",
      "max": 31,
      "min": 0,
      "orientation": "horizontal",
      "readout": true,
      "readout_format": "d",
      "step": 1,
      "style": "IPY_MODEL_ea11c1584f5d4a44a5cfe59b9aef968b",
      "value": 0
     }
    },
    "ce7dcb02b9144e6fa5541e48f045e12f": {
     "model_module": "@jupyter-widgets/controls",
     "model_name": "IntSliderModel",
     "state": {
      "_dom_classes": [],
      "_model_module": "@jupyter-widgets/controls",
      "_model_module_version": "1.5.0",
      "_model_name": "IntSliderModel",
      "_view_count": null,
      "_view_module": "@jupyter-widgets/controls",
      "_view_module_version": "1.5.0",
      "_view_name": "IntSliderView",
      "continuous_update": true,
      "description": "x",
      "description_tooltip": null,
      "disabled": false,
      "layout": "IPY_MODEL_f7597400e1034b38879172fd3671a31c",
      "max": 256,
      "min": 0,
      "orientation": "horizontal",
      "readout": true,
      "readout_format": "d",
      "step": 1,
      "style": "IPY_MODEL_e356679bf1204fbe90c967987fb74e91",
      "value": 0
     }
    },
    "d37321a6e3e04c8681ca062b4f7a655a": {
     "model_module": "@jupyter-widgets/controls",
     "model_name": "VBoxModel",
     "state": {
      "_dom_classes": [
       "widget-interact"
      ],
      "_model_module": "@jupyter-widgets/controls",
      "_model_module_version": "1.5.0",
      "_model_name": "VBoxModel",
      "_view_count": null,
      "_view_module": "@jupyter-widgets/controls",
      "_view_module_version": "1.5.0",
      "_view_name": "VBoxView",
      "box_style": "",
      "children": [
       "IPY_MODEL_ce7dcb02b9144e6fa5541e48f045e12f",
       "IPY_MODEL_5ab23a5f470149129573418510f7d89c"
      ],
      "layout": "IPY_MODEL_aea9b73671a2462eb6765f04e37c31b8"
     }
    },
    "e095a0f3e7d044d8b414af91afbfafbd": {
     "model_module": "@jupyter-widgets/controls",
     "model_name": "SliderStyleModel",
     "state": {
      "_model_module": "@jupyter-widgets/controls",
      "_model_module_version": "1.5.0",
      "_model_name": "SliderStyleModel",
      "_view_count": null,
      "_view_module": "@jupyter-widgets/base",
      "_view_module_version": "1.2.0",
      "_view_name": "StyleView",
      "description_width": "",
      "handle_color": null
     }
    },
    "e356679bf1204fbe90c967987fb74e91": {
     "model_module": "@jupyter-widgets/controls",
     "model_name": "SliderStyleModel",
     "state": {
      "_model_module": "@jupyter-widgets/controls",
      "_model_module_version": "1.5.0",
      "_model_name": "SliderStyleModel",
      "_view_count": null,
      "_view_module": "@jupyter-widgets/base",
      "_view_module_version": "1.2.0",
      "_view_name": "StyleView",
      "description_width": "",
      "handle_color": null
     }
    },
    "e396f4c81086415fb9093717a9f6c461": {
     "model_module": "@jupyter-widgets/controls",
     "model_name": "IntSliderModel",
     "state": {
      "_dom_classes": [],
      "_model_module": "@jupyter-widgets/controls",
      "_model_module_version": "1.5.0",
      "_model_name": "IntSliderModel",
      "_view_count": null,
      "_view_module": "@jupyter-widgets/controls",
      "_view_module_version": "1.5.0",
      "_view_name": "IntSliderView",
      "continuous_update": true,
      "description": "shape",
      "description_tooltip": null,
      "disabled": false,
      "layout": "IPY_MODEL_b2dd52e317b44b1c9b3f650310af272e",
      "max": 2,
      "min": 0,
      "orientation": "horizontal",
      "readout": true,
      "readout_format": "d",
      "step": 1,
      "style": "IPY_MODEL_85658c34185141399bc07ae9b42209f4",
      "value": 0
     }
    },
    "ea11c1584f5d4a44a5cfe59b9aef968b": {
     "model_module": "@jupyter-widgets/controls",
     "model_name": "SliderStyleModel",
     "state": {
      "_model_module": "@jupyter-widgets/controls",
      "_model_module_version": "1.5.0",
      "_model_name": "SliderStyleModel",
      "_view_count": null,
      "_view_module": "@jupyter-widgets/base",
      "_view_module_version": "1.2.0",
      "_view_name": "StyleView",
      "description_width": "",
      "handle_color": null
     }
    },
    "f2cd165223cd430a958d08727ae1711f": {
     "model_module": "@jupyter-widgets/controls",
     "model_name": "IntSliderModel",
     "state": {
      "_dom_classes": [],
      "_model_module": "@jupyter-widgets/controls",
      "_model_module_version": "1.5.0",
      "_model_name": "IntSliderModel",
      "_view_count": null,
      "_view_module": "@jupyter-widgets/controls",
      "_view_module_version": "1.5.0",
      "_view_name": "IntSliderView",
      "continuous_update": true,
      "description": "posY",
      "description_tooltip": null,
      "disabled": false,
      "layout": "IPY_MODEL_ae69e391870841598457cb208ba9c8e1",
      "max": 31,
      "min": 0,
      "orientation": "horizontal",
      "readout": true,
      "readout_format": "d",
      "step": 1,
      "style": "IPY_MODEL_3004305d210242fba2881d9fd707865d",
      "value": 0
     }
    },
    "f5fd9bcd4cfe4cdfa85d2b719b2347aa": {
     "model_module": "@jupyter-widgets/controls",
     "model_name": "IntSliderModel",
     "state": {
      "_dom_classes": [],
      "_model_module": "@jupyter-widgets/controls",
      "_model_module_version": "1.5.0",
      "_model_name": "IntSliderModel",
      "_view_count": null,
      "_view_module": "@jupyter-widgets/controls",
      "_view_module_version": "1.5.0",
      "_view_name": "IntSliderView",
      "continuous_update": true,
      "description": "orient",
      "description_tooltip": null,
      "disabled": false,
      "layout": "IPY_MODEL_5d43a81214e9478fb124161f7d8d1b23",
      "max": 39,
      "min": 0,
      "orientation": "horizontal",
      "readout": true,
      "readout_format": "d",
      "step": 1,
      "style": "IPY_MODEL_e095a0f3e7d044d8b414af91afbfafbd",
      "value": 0
     }
    },
    "f7597400e1034b38879172fd3671a31c": {
     "model_module": "@jupyter-widgets/base",
     "model_name": "LayoutModel",
     "state": {
      "_model_module": "@jupyter-widgets/base",
      "_model_module_version": "1.2.0",
      "_model_name": "LayoutModel",
      "_view_count": null,
      "_view_module": "@jupyter-widgets/base",
      "_view_module_version": "1.2.0",
      "_view_name": "LayoutView",
      "align_content": null,
      "align_items": null,
      "align_self": null,
      "border": null,
      "bottom": null,
      "display": null,
      "flex": null,
      "flex_flow": null,
      "grid_area": null,
      "grid_auto_columns": null,
      "grid_auto_flow": null,
      "grid_auto_rows": null,
      "grid_column": null,
      "grid_gap": null,
      "grid_row": null,
      "grid_template_areas": null,
      "grid_template_columns": null,
      "grid_template_rows": null,
      "height": null,
      "justify_content": null,
      "justify_items": null,
      "left": null,
      "margin": null,
      "max_height": null,
      "max_width": null,
      "min_height": null,
      "min_width": null,
      "object_fit": null,
      "object_position": null,
      "order": null,
      "overflow": null,
      "overflow_x": null,
      "overflow_y": null,
      "padding": null,
      "right": null,
      "top": null,
      "visibility": null,
      "width": null
     }
    }
   }
  }
 },
 "nbformat": 4,
 "nbformat_minor": 4
}
