{
  "nbformat": 4,
  "nbformat_minor": 0,
  "metadata": {
    "kernelspec": {
      "name": "python3",
      "display_name": "Python 3"
    },
    "language_info": {
      "codemirror_mode": {
        "name": "ipython",
        "version": 3
      },
      "file_extension": ".py",
      "mimetype": "text/x-python",
      "name": "python",
      "nbconvert_exporter": "python",
      "pygments_lexer": "ipython3",
      "version": "3.6.8"
    },
    "colab": {
      "name": "tutorialVAE.ipynb",
      "provenance": [],
      "collapsed_sections": [],
      "toc_visible": true,
      "machine_shape": "hm"
    },
    "accelerator": "GPU",
    "widgets": {
      "application/vnd.jupyter.widget-state+json": {
        "4c787d6864b24f1da3048a1762a39565": {
          "model_module": "@jupyter-widgets/controls",
          "model_name": "VBoxModel",
          "state": {
            "_view_name": "VBoxView",
            "_dom_classes": [
              "widget-interact"
            ],
            "_model_name": "VBoxModel",
            "_view_module": "@jupyter-widgets/controls",
            "_model_module_version": "1.5.0",
            "_view_count": null,
            "_view_module_version": "1.5.0",
            "box_style": "",
            "layout": "IPY_MODEL_68c126a6174a4a0bb43c884371ebc181",
            "_model_module": "@jupyter-widgets/controls",
            "children": [
              "IPY_MODEL_510978fc8f794ada80b8d9bde64db8ba",
              "IPY_MODEL_cc766b69c6984c6797e91cf6d3a211d2"
            ]
          }
        },
        "68c126a6174a4a0bb43c884371ebc181": {
          "model_module": "@jupyter-widgets/base",
          "model_name": "LayoutModel",
          "state": {
            "_view_name": "LayoutView",
            "grid_template_rows": null,
            "right": null,
            "justify_content": null,
            "_view_module": "@jupyter-widgets/base",
            "overflow": null,
            "_model_module_version": "1.2.0",
            "_view_count": null,
            "flex_flow": null,
            "width": null,
            "min_width": null,
            "border": null,
            "align_items": null,
            "bottom": null,
            "_model_module": "@jupyter-widgets/base",
            "top": null,
            "grid_column": null,
            "overflow_y": null,
            "overflow_x": null,
            "grid_auto_flow": null,
            "grid_area": null,
            "grid_template_columns": null,
            "flex": null,
            "_model_name": "LayoutModel",
            "justify_items": null,
            "grid_row": null,
            "max_height": null,
            "align_content": null,
            "visibility": null,
            "align_self": null,
            "height": null,
            "min_height": null,
            "padding": null,
            "grid_auto_rows": null,
            "grid_gap": null,
            "max_width": null,
            "order": null,
            "_view_module_version": "1.2.0",
            "grid_template_areas": null,
            "object_position": null,
            "object_fit": null,
            "grid_auto_columns": null,
            "margin": null,
            "display": null,
            "left": null
          }
        },
        "510978fc8f794ada80b8d9bde64db8ba": {
          "model_module": "@jupyter-widgets/controls",
          "model_name": "IntSliderModel",
          "state": {
            "_view_name": "IntSliderView",
            "style": "IPY_MODEL_aa03ddb5e3cd4b3fb2d1cf86afd73f4f",
            "_dom_classes": [],
            "description": "x",
            "step": 1,
            "_model_name": "IntSliderModel",
            "orientation": "horizontal",
            "max": 255,
            "_view_module": "@jupyter-widgets/controls",
            "_model_module_version": "1.5.0",
            "value": 0,
            "_view_count": null,
            "disabled": false,
            "_view_module_version": "1.5.0",
            "min": 0,
            "continuous_update": true,
            "readout_format": "d",
            "description_tooltip": null,
            "readout": true,
            "_model_module": "@jupyter-widgets/controls",
            "layout": "IPY_MODEL_223fc9ae47204b519e34d4c850cd03bb"
          }
        },
        "cc766b69c6984c6797e91cf6d3a211d2": {
          "model_module": "@jupyter-widgets/output",
          "model_name": "OutputModel",
          "state": {
            "_view_name": "OutputView",
            "msg_id": "",
            "_dom_classes": [],
            "_model_name": "OutputModel",
            "outputs": [
              {
                "output_type": "display_data",
                "metadata": {
                  "tags": [],
                  "needs_background": "light"
                },
                "image/png": "iVBORw0KGgoAAAANSUhEUgAAAV0AAACmCAYAAAB5qlzZAAAABHNCSVQICAgIfAhkiAAAAAlwSFlzAAALEgAACxIB0t1+/AAAADh0RVh0U29mdHdhcmUAbWF0cGxvdGxpYiB2ZXJzaW9uMy4yLjEsIGh0dHA6Ly9tYXRwbG90bGliLm9yZy+j8jraAAADV0lEQVR4nO3dwW7aQBRAUVz1/3/ZXVVCiFIczPV4fM42CmTxdHm2R2RZ1/UGQOPX0X8AwJWILkBIdAFCogsQEl2AkOgChH6/+uGyLM6T8VXrui5HvK/Z5tv+Nds2XYCQ6AKERBcgJLoAIdEFCIkuQEh0AUKiCxASXYCQ6AKERBcgJLoAIdEFCIkuQEh0AUIvv093BJ/8i/hlOeSrWuEtW2fbPM/BpgsQGnbT/WTDffUatgWO9tPZfvf3zPjYbLoAIdEFCA13e2GP2wpbXt+lGJVvz/bj+5jtMdl0AULDbbo1D9uY1f1sm+lx2HQBQpffdJ+xITAbV3TjsOkChEQXICS6/7Gua3bUB0pm+xiiCxDyIO1NDpwzKw/ZWjZdgJBNdyPHyYBP2HQBQqILEBJdgJDoAoSGi+6yLKd5QOVwOVuYbW63AaMLMDPRBQiJ7g5cigHvEl2A0LDRPdNDB9jiTLPtKm5/w0YXYEbDf/fC/UbgE5eZmO1rsukChEQXIDT87YUz8bWPzMps78emCxA6VXTPdNQGtjDb13Gq6AKcnegChE75IM35RmZltudn0wUInXLTvff48MF2wCzM9pxsugCh02+6j468J+bID9/kfu8cbLoAIdEFCE13e+Hes8t9l2XM4O9sV/Ps1tl+bLoAoak33Wf2PIbj05+jvZpBsz0mmy5ASHQBQpe7vfDIZRSzMttjsukChEQXICS6ACHRBQiJLkBIdAFCogsQEl2AkOgChEQXICS6ACHRBQiJLkBIdAFCogsQEl2AkOgChEQXICS6ACHRBQiJLkBIdAFCogsQEl2AkOgChEQXICS6ACHRBQiJLkBIdAFCogsQEl2AkOgChEQXICS6ACHRBQiJLkBIdAFCogsQEl2AkOgChEQXICS6ACHRBQiJLkBIdAFCogsQEl2AkOgChEQXICS6ACHRBQiJLkBIdAFCogsQEl2AkOgChEQXICS6ACHRBQiJLkBIdAFCogsQEl2AkOgChEQXICS6ACHRBQiJLkBIdAFCogsQEl2AkOgChEQXICS6ACHRBQiJLkBIdAFCogsQEl2AkOgChEQXICS6ACHRBQiJLkBIdAFCogsQWtZ1PfpvALgMmy5ASHQBQqILEBJdgJDoAoREFyD0BzRZkGtJ/udXAAAAAElFTkSuQmCC\n",
                "text/plain": "<Figure size 432x288 with 2 Axes>"
              }
            ],
            "_view_module": "@jupyter-widgets/output",
            "_model_module_version": "1.0.0",
            "_view_count": null,
            "_view_module_version": "1.0.0",
            "layout": "IPY_MODEL_af66678085bc442ab82f14f530483c2f",
            "_model_module": "@jupyter-widgets/output"
          }
        },
        "aa03ddb5e3cd4b3fb2d1cf86afd73f4f": {
          "model_module": "@jupyter-widgets/controls",
          "model_name": "SliderStyleModel",
          "state": {
            "_view_name": "StyleView",
            "handle_color": null,
            "_model_name": "SliderStyleModel",
            "description_width": "",
            "_view_module": "@jupyter-widgets/base",
            "_model_module_version": "1.5.0",
            "_view_count": null,
            "_view_module_version": "1.2.0",
            "_model_module": "@jupyter-widgets/controls"
          }
        },
        "223fc9ae47204b519e34d4c850cd03bb": {
          "model_module": "@jupyter-widgets/base",
          "model_name": "LayoutModel",
          "state": {
            "_view_name": "LayoutView",
            "grid_template_rows": null,
            "right": null,
            "justify_content": null,
            "_view_module": "@jupyter-widgets/base",
            "overflow": null,
            "_model_module_version": "1.2.0",
            "_view_count": null,
            "flex_flow": null,
            "width": null,
            "min_width": null,
            "border": null,
            "align_items": null,
            "bottom": null,
            "_model_module": "@jupyter-widgets/base",
            "top": null,
            "grid_column": null,
            "overflow_y": null,
            "overflow_x": null,
            "grid_auto_flow": null,
            "grid_area": null,
            "grid_template_columns": null,
            "flex": null,
            "_model_name": "LayoutModel",
            "justify_items": null,
            "grid_row": null,
            "max_height": null,
            "align_content": null,
            "visibility": null,
            "align_self": null,
            "height": null,
            "min_height": null,
            "padding": null,
            "grid_auto_rows": null,
            "grid_gap": null,
            "max_width": null,
            "order": null,
            "_view_module_version": "1.2.0",
            "grid_template_areas": null,
            "object_position": null,
            "object_fit": null,
            "grid_auto_columns": null,
            "margin": null,
            "display": null,
            "left": null
          }
        },
        "af66678085bc442ab82f14f530483c2f": {
          "model_module": "@jupyter-widgets/base",
          "model_name": "LayoutModel",
          "state": {
            "_view_name": "LayoutView",
            "grid_template_rows": null,
            "right": null,
            "justify_content": null,
            "_view_module": "@jupyter-widgets/base",
            "overflow": null,
            "_model_module_version": "1.2.0",
            "_view_count": null,
            "flex_flow": null,
            "width": null,
            "min_width": null,
            "border": null,
            "align_items": null,
            "bottom": null,
            "_model_module": "@jupyter-widgets/base",
            "top": null,
            "grid_column": null,
            "overflow_y": null,
            "overflow_x": null,
            "grid_auto_flow": null,
            "grid_area": null,
            "grid_template_columns": null,
            "flex": null,
            "_model_name": "LayoutModel",
            "justify_items": null,
            "grid_row": null,
            "max_height": null,
            "align_content": null,
            "visibility": null,
            "align_self": null,
            "height": null,
            "min_height": null,
            "padding": null,
            "grid_auto_rows": null,
            "grid_gap": null,
            "max_width": null,
            "order": null,
            "_view_module_version": "1.2.0",
            "grid_template_areas": null,
            "object_position": null,
            "object_fit": null,
            "grid_auto_columns": null,
            "margin": null,
            "display": null,
            "left": null
          }
        },
        "a31408074d014d4c9778fc85a845de78": {
          "model_module": "@jupyter-widgets/controls",
          "model_name": "VBoxModel",
          "state": {
            "_view_name": "VBoxView",
            "_dom_classes": [
              "widget-interact"
            ],
            "_model_name": "VBoxModel",
            "_view_module": "@jupyter-widgets/controls",
            "_model_module_version": "1.5.0",
            "_view_count": null,
            "_view_module_version": "1.5.0",
            "box_style": "",
            "layout": "IPY_MODEL_6dfbfe98cd3548238f9ce938c1432ecc",
            "_model_module": "@jupyter-widgets/controls",
            "children": [
              "IPY_MODEL_b90513b915364f0d86ffa8ade6f68bb3",
              "IPY_MODEL_85cd09992f4140f7a64a16c1a6a85160",
              "IPY_MODEL_047fa57da8364539a18954fb4276e816",
              "IPY_MODEL_556313595dbd4fd395dd54a676268ee7",
              "IPY_MODEL_1206f096953d439c9011f6664bffce0c",
              "IPY_MODEL_18cb0a3746d74330b4d0d6436b071c91"
            ]
          }
        },
        "6dfbfe98cd3548238f9ce938c1432ecc": {
          "model_module": "@jupyter-widgets/base",
          "model_name": "LayoutModel",
          "state": {
            "_view_name": "LayoutView",
            "grid_template_rows": null,
            "right": null,
            "justify_content": null,
            "_view_module": "@jupyter-widgets/base",
            "overflow": null,
            "_model_module_version": "1.2.0",
            "_view_count": null,
            "flex_flow": null,
            "width": null,
            "min_width": null,
            "border": null,
            "align_items": null,
            "bottom": null,
            "_model_module": "@jupyter-widgets/base",
            "top": null,
            "grid_column": null,
            "overflow_y": null,
            "overflow_x": null,
            "grid_auto_flow": null,
            "grid_area": null,
            "grid_template_columns": null,
            "flex": null,
            "_model_name": "LayoutModel",
            "justify_items": null,
            "grid_row": null,
            "max_height": null,
            "align_content": null,
            "visibility": null,
            "align_self": null,
            "height": null,
            "min_height": null,
            "padding": null,
            "grid_auto_rows": null,
            "grid_gap": null,
            "max_width": null,
            "order": null,
            "_view_module_version": "1.2.0",
            "grid_template_areas": null,
            "object_position": null,
            "object_fit": null,
            "grid_auto_columns": null,
            "margin": null,
            "display": null,
            "left": null
          }
        },
        "b90513b915364f0d86ffa8ade6f68bb3": {
          "model_module": "@jupyter-widgets/controls",
          "model_name": "IntSliderModel",
          "state": {
            "_view_name": "IntSliderView",
            "style": "IPY_MODEL_e8ad8f2f79fe4cb7b6a4ec056c94e931",
            "_dom_classes": [],
            "description": "shape",
            "step": 1,
            "_model_name": "IntSliderModel",
            "orientation": "horizontal",
            "max": 2,
            "_view_module": "@jupyter-widgets/controls",
            "_model_module_version": "1.5.0",
            "value": 0,
            "_view_count": null,
            "disabled": false,
            "_view_module_version": "1.5.0",
            "min": 0,
            "continuous_update": true,
            "readout_format": "d",
            "description_tooltip": null,
            "readout": true,
            "_model_module": "@jupyter-widgets/controls",
            "layout": "IPY_MODEL_c3363d683dc74de29c89a2af593b53ab"
          }
        },
        "85cd09992f4140f7a64a16c1a6a85160": {
          "model_module": "@jupyter-widgets/controls",
          "model_name": "IntSliderModel",
          "state": {
            "_view_name": "IntSliderView",
            "style": "IPY_MODEL_a095d912567b4affbb2865058a66ca0d",
            "_dom_classes": [],
            "description": "scale",
            "step": 1,
            "_model_name": "IntSliderModel",
            "orientation": "horizontal",
            "max": 5,
            "_view_module": "@jupyter-widgets/controls",
            "_model_module_version": "1.5.0",
            "value": 0,
            "_view_count": null,
            "disabled": false,
            "_view_module_version": "1.5.0",
            "min": 0,
            "continuous_update": true,
            "readout_format": "d",
            "description_tooltip": null,
            "readout": true,
            "_model_module": "@jupyter-widgets/controls",
            "layout": "IPY_MODEL_9b20ab3e883c4fc6adcdfbb5fd2733b0"
          }
        },
        "047fa57da8364539a18954fb4276e816": {
          "model_module": "@jupyter-widgets/controls",
          "model_name": "IntSliderModel",
          "state": {
            "_view_name": "IntSliderView",
            "style": "IPY_MODEL_605064179e7d441ab2c6952510cea91a",
            "_dom_classes": [],
            "description": "orient",
            "step": 1,
            "_model_name": "IntSliderModel",
            "orientation": "horizontal",
            "max": 39,
            "_view_module": "@jupyter-widgets/controls",
            "_model_module_version": "1.5.0",
            "value": 0,
            "_view_count": null,
            "disabled": false,
            "_view_module_version": "1.5.0",
            "min": 0,
            "continuous_update": true,
            "readout_format": "d",
            "description_tooltip": null,
            "readout": true,
            "_model_module": "@jupyter-widgets/controls",
            "layout": "IPY_MODEL_0d708dd8ab0c4a79b81d7d9b8022c0f6"
          }
        },
        "556313595dbd4fd395dd54a676268ee7": {
          "model_module": "@jupyter-widgets/controls",
          "model_name": "IntSliderModel",
          "state": {
            "_view_name": "IntSliderView",
            "style": "IPY_MODEL_ebbad31a50c746de8e9290f16fe7ac38",
            "_dom_classes": [],
            "description": "posX",
            "step": 1,
            "_model_name": "IntSliderModel",
            "orientation": "horizontal",
            "max": 31,
            "_view_module": "@jupyter-widgets/controls",
            "_model_module_version": "1.5.0",
            "value": 0,
            "_view_count": null,
            "disabled": false,
            "_view_module_version": "1.5.0",
            "min": 0,
            "continuous_update": true,
            "readout_format": "d",
            "description_tooltip": null,
            "readout": true,
            "_model_module": "@jupyter-widgets/controls",
            "layout": "IPY_MODEL_149f5fd0385b4f93aaa907bba74a87e1"
          }
        },
        "1206f096953d439c9011f6664bffce0c": {
          "model_module": "@jupyter-widgets/controls",
          "model_name": "IntSliderModel",
          "state": {
            "_view_name": "IntSliderView",
            "style": "IPY_MODEL_4ff7d3628e524925ac61b0fa0e0f769a",
            "_dom_classes": [],
            "description": "posY",
            "step": 1,
            "_model_name": "IntSliderModel",
            "orientation": "horizontal",
            "max": 31,
            "_view_module": "@jupyter-widgets/controls",
            "_model_module_version": "1.5.0",
            "value": 0,
            "_view_count": null,
            "disabled": false,
            "_view_module_version": "1.5.0",
            "min": 0,
            "continuous_update": true,
            "readout_format": "d",
            "description_tooltip": null,
            "readout": true,
            "_model_module": "@jupyter-widgets/controls",
            "layout": "IPY_MODEL_ce0265b2e0774e1fb5ea095582c496bb"
          }
        },
        "18cb0a3746d74330b4d0d6436b071c91": {
          "model_module": "@jupyter-widgets/output",
          "model_name": "OutputModel",
          "state": {
            "_view_name": "OutputView",
            "msg_id": "",
            "_dom_classes": [],
            "_model_name": "OutputModel",
            "outputs": [
              {
                "output_type": "display_data",
                "metadata": {
                  "tags": [],
                  "needs_background": "light"
                },
                "image/png": "iVBORw0KGgoAAAANSUhEUgAAAOcAAADnCAYAAADl9EEgAAAABHNCSVQICAgIfAhkiAAAAAlwSFlzAAALEgAACxIB0t1+/AAAADh0RVh0U29mdHdhcmUAbWF0cGxvdGxpYiB2ZXJzaW9uMy4yLjEsIGh0dHA6Ly9tYXRwbG90bGliLm9yZy+j8jraAAAC4klEQVR4nO3dMW4DMQwAQdO4/3+Z6VwdDKQItLFnSqlhsyCgRrO7D6DneXoA4J44IUqcECVOiBInRF3vLmfGUy78sd2du3ObE6LECVHihChxQpQ4IUqcECVOiBInRIkTosQJUeKEKHFClDghSpwQJU6IEidEiROixAlR4oQocUKUOCFKnBAlTogSJ0SJE6LECVHihChxQpQ4IUqcECVOiBInRIkTosQJUeKEKHFC1HV6gN/a3dMjvMzM6RH4YDYnRIkTosQJUeKEKHFClDghSpwQJU6IEidEiROixAlR4oQocUKUOCFKnBAlTogSJ0SJE6LECVHihChxQpQ4IUqcECVOiBInRIkTosQJUeKEKHFClDghSpwQJU6IEidEiROi/t23875651vYnBAlTogSJ0SJE6LECVHihChxQpQ4IUqcECVOiBInRIkTosQJUeKEKHFClDghSpwQJU6IEidEiROixAlR4oQocUKUOCFKnBAlTogSJ0SJE6LECVHihChxQpQ4IUqcECVOiBInRIkTosQJUeKEKHFClDghSpwQJU6IEidEiROixAlR4oQocUKUOCFKnBAlTogSJ0SJE6LECVHihChxQpQ4IUqcECVOiBInRIkTosQJUeKEKHFClDghSpwQJU6IEidEiROixAlR4oQocUKUOCFKnBAlTogSJ0SJE6LECVHihChxQpQ4IUqcECVOiBInRIkTosQJUeKEKHFClDghSpwQJU6IEidEiROixAlR4oQocUKUOCFKnBAlTogSJ0SJE6LECVHihChxQpQ4IUqcECVOiBInRIkTosQJUeKEKHFClDghSpwQJU6IEidEiROixAlR4oQocUKUOCFKnBAlTogSJ0SJE6LECVHihChxQpQ4IUqcECVOiBInRIkTosQJUeKEKHFClDghSpwQJU6IEidEiROixAlR4oQocUKUOCFKnBA1u3t6BuCGzQlR4oQocUKUOCFKnBAlToj6AZUlDtC8HnrcAAAAAElFTkSuQmCC\n",
                "text/plain": "<Figure size 432x288 with 1 Axes>"
              }
            ],
            "_view_module": "@jupyter-widgets/output",
            "_model_module_version": "1.0.0",
            "_view_count": null,
            "_view_module_version": "1.0.0",
            "layout": "IPY_MODEL_cab28c4b71b447d9b9d12dfa45a0fa4b",
            "_model_module": "@jupyter-widgets/output"
          }
        },
        "e8ad8f2f79fe4cb7b6a4ec056c94e931": {
          "model_module": "@jupyter-widgets/controls",
          "model_name": "SliderStyleModel",
          "state": {
            "_view_name": "StyleView",
            "handle_color": null,
            "_model_name": "SliderStyleModel",
            "description_width": "",
            "_view_module": "@jupyter-widgets/base",
            "_model_module_version": "1.5.0",
            "_view_count": null,
            "_view_module_version": "1.2.0",
            "_model_module": "@jupyter-widgets/controls"
          }
        },
        "c3363d683dc74de29c89a2af593b53ab": {
          "model_module": "@jupyter-widgets/base",
          "model_name": "LayoutModel",
          "state": {
            "_view_name": "LayoutView",
            "grid_template_rows": null,
            "right": null,
            "justify_content": null,
            "_view_module": "@jupyter-widgets/base",
            "overflow": null,
            "_model_module_version": "1.2.0",
            "_view_count": null,
            "flex_flow": null,
            "width": null,
            "min_width": null,
            "border": null,
            "align_items": null,
            "bottom": null,
            "_model_module": "@jupyter-widgets/base",
            "top": null,
            "grid_column": null,
            "overflow_y": null,
            "overflow_x": null,
            "grid_auto_flow": null,
            "grid_area": null,
            "grid_template_columns": null,
            "flex": null,
            "_model_name": "LayoutModel",
            "justify_items": null,
            "grid_row": null,
            "max_height": null,
            "align_content": null,
            "visibility": null,
            "align_self": null,
            "height": null,
            "min_height": null,
            "padding": null,
            "grid_auto_rows": null,
            "grid_gap": null,
            "max_width": null,
            "order": null,
            "_view_module_version": "1.2.0",
            "grid_template_areas": null,
            "object_position": null,
            "object_fit": null,
            "grid_auto_columns": null,
            "margin": null,
            "display": null,
            "left": null
          }
        },
        "a095d912567b4affbb2865058a66ca0d": {
          "model_module": "@jupyter-widgets/controls",
          "model_name": "SliderStyleModel",
          "state": {
            "_view_name": "StyleView",
            "handle_color": null,
            "_model_name": "SliderStyleModel",
            "description_width": "",
            "_view_module": "@jupyter-widgets/base",
            "_model_module_version": "1.5.0",
            "_view_count": null,
            "_view_module_version": "1.2.0",
            "_model_module": "@jupyter-widgets/controls"
          }
        },
        "9b20ab3e883c4fc6adcdfbb5fd2733b0": {
          "model_module": "@jupyter-widgets/base",
          "model_name": "LayoutModel",
          "state": {
            "_view_name": "LayoutView",
            "grid_template_rows": null,
            "right": null,
            "justify_content": null,
            "_view_module": "@jupyter-widgets/base",
            "overflow": null,
            "_model_module_version": "1.2.0",
            "_view_count": null,
            "flex_flow": null,
            "width": null,
            "min_width": null,
            "border": null,
            "align_items": null,
            "bottom": null,
            "_model_module": "@jupyter-widgets/base",
            "top": null,
            "grid_column": null,
            "overflow_y": null,
            "overflow_x": null,
            "grid_auto_flow": null,
            "grid_area": null,
            "grid_template_columns": null,
            "flex": null,
            "_model_name": "LayoutModel",
            "justify_items": null,
            "grid_row": null,
            "max_height": null,
            "align_content": null,
            "visibility": null,
            "align_self": null,
            "height": null,
            "min_height": null,
            "padding": null,
            "grid_auto_rows": null,
            "grid_gap": null,
            "max_width": null,
            "order": null,
            "_view_module_version": "1.2.0",
            "grid_template_areas": null,
            "object_position": null,
            "object_fit": null,
            "grid_auto_columns": null,
            "margin": null,
            "display": null,
            "left": null
          }
        },
        "605064179e7d441ab2c6952510cea91a": {
          "model_module": "@jupyter-widgets/controls",
          "model_name": "SliderStyleModel",
          "state": {
            "_view_name": "StyleView",
            "handle_color": null,
            "_model_name": "SliderStyleModel",
            "description_width": "",
            "_view_module": "@jupyter-widgets/base",
            "_model_module_version": "1.5.0",
            "_view_count": null,
            "_view_module_version": "1.2.0",
            "_model_module": "@jupyter-widgets/controls"
          }
        },
        "0d708dd8ab0c4a79b81d7d9b8022c0f6": {
          "model_module": "@jupyter-widgets/base",
          "model_name": "LayoutModel",
          "state": {
            "_view_name": "LayoutView",
            "grid_template_rows": null,
            "right": null,
            "justify_content": null,
            "_view_module": "@jupyter-widgets/base",
            "overflow": null,
            "_model_module_version": "1.2.0",
            "_view_count": null,
            "flex_flow": null,
            "width": null,
            "min_width": null,
            "border": null,
            "align_items": null,
            "bottom": null,
            "_model_module": "@jupyter-widgets/base",
            "top": null,
            "grid_column": null,
            "overflow_y": null,
            "overflow_x": null,
            "grid_auto_flow": null,
            "grid_area": null,
            "grid_template_columns": null,
            "flex": null,
            "_model_name": "LayoutModel",
            "justify_items": null,
            "grid_row": null,
            "max_height": null,
            "align_content": null,
            "visibility": null,
            "align_self": null,
            "height": null,
            "min_height": null,
            "padding": null,
            "grid_auto_rows": null,
            "grid_gap": null,
            "max_width": null,
            "order": null,
            "_view_module_version": "1.2.0",
            "grid_template_areas": null,
            "object_position": null,
            "object_fit": null,
            "grid_auto_columns": null,
            "margin": null,
            "display": null,
            "left": null
          }
        },
        "ebbad31a50c746de8e9290f16fe7ac38": {
          "model_module": "@jupyter-widgets/controls",
          "model_name": "SliderStyleModel",
          "state": {
            "_view_name": "StyleView",
            "handle_color": null,
            "_model_name": "SliderStyleModel",
            "description_width": "",
            "_view_module": "@jupyter-widgets/base",
            "_model_module_version": "1.5.0",
            "_view_count": null,
            "_view_module_version": "1.2.0",
            "_model_module": "@jupyter-widgets/controls"
          }
        },
        "149f5fd0385b4f93aaa907bba74a87e1": {
          "model_module": "@jupyter-widgets/base",
          "model_name": "LayoutModel",
          "state": {
            "_view_name": "LayoutView",
            "grid_template_rows": null,
            "right": null,
            "justify_content": null,
            "_view_module": "@jupyter-widgets/base",
            "overflow": null,
            "_model_module_version": "1.2.0",
            "_view_count": null,
            "flex_flow": null,
            "width": null,
            "min_width": null,
            "border": null,
            "align_items": null,
            "bottom": null,
            "_model_module": "@jupyter-widgets/base",
            "top": null,
            "grid_column": null,
            "overflow_y": null,
            "overflow_x": null,
            "grid_auto_flow": null,
            "grid_area": null,
            "grid_template_columns": null,
            "flex": null,
            "_model_name": "LayoutModel",
            "justify_items": null,
            "grid_row": null,
            "max_height": null,
            "align_content": null,
            "visibility": null,
            "align_self": null,
            "height": null,
            "min_height": null,
            "padding": null,
            "grid_auto_rows": null,
            "grid_gap": null,
            "max_width": null,
            "order": null,
            "_view_module_version": "1.2.0",
            "grid_template_areas": null,
            "object_position": null,
            "object_fit": null,
            "grid_auto_columns": null,
            "margin": null,
            "display": null,
            "left": null
          }
        },
        "4ff7d3628e524925ac61b0fa0e0f769a": {
          "model_module": "@jupyter-widgets/controls",
          "model_name": "SliderStyleModel",
          "state": {
            "_view_name": "StyleView",
            "handle_color": null,
            "_model_name": "SliderStyleModel",
            "description_width": "",
            "_view_module": "@jupyter-widgets/base",
            "_model_module_version": "1.5.0",
            "_view_count": null,
            "_view_module_version": "1.2.0",
            "_model_module": "@jupyter-widgets/controls"
          }
        },
        "ce0265b2e0774e1fb5ea095582c496bb": {
          "model_module": "@jupyter-widgets/base",
          "model_name": "LayoutModel",
          "state": {
            "_view_name": "LayoutView",
            "grid_template_rows": null,
            "right": null,
            "justify_content": null,
            "_view_module": "@jupyter-widgets/base",
            "overflow": null,
            "_model_module_version": "1.2.0",
            "_view_count": null,
            "flex_flow": null,
            "width": null,
            "min_width": null,
            "border": null,
            "align_items": null,
            "bottom": null,
            "_model_module": "@jupyter-widgets/base",
            "top": null,
            "grid_column": null,
            "overflow_y": null,
            "overflow_x": null,
            "grid_auto_flow": null,
            "grid_area": null,
            "grid_template_columns": null,
            "flex": null,
            "_model_name": "LayoutModel",
            "justify_items": null,
            "grid_row": null,
            "max_height": null,
            "align_content": null,
            "visibility": null,
            "align_self": null,
            "height": null,
            "min_height": null,
            "padding": null,
            "grid_auto_rows": null,
            "grid_gap": null,
            "max_width": null,
            "order": null,
            "_view_module_version": "1.2.0",
            "grid_template_areas": null,
            "object_position": null,
            "object_fit": null,
            "grid_auto_columns": null,
            "margin": null,
            "display": null,
            "left": null
          }
        },
        "cab28c4b71b447d9b9d12dfa45a0fa4b": {
          "model_module": "@jupyter-widgets/base",
          "model_name": "LayoutModel",
          "state": {
            "_view_name": "LayoutView",
            "grid_template_rows": null,
            "right": null,
            "justify_content": null,
            "_view_module": "@jupyter-widgets/base",
            "overflow": null,
            "_model_module_version": "1.2.0",
            "_view_count": null,
            "flex_flow": null,
            "width": null,
            "min_width": null,
            "border": null,
            "align_items": null,
            "bottom": null,
            "_model_module": "@jupyter-widgets/base",
            "top": null,
            "grid_column": null,
            "overflow_y": null,
            "overflow_x": null,
            "grid_auto_flow": null,
            "grid_area": null,
            "grid_template_columns": null,
            "flex": null,
            "_model_name": "LayoutModel",
            "justify_items": null,
            "grid_row": null,
            "max_height": null,
            "align_content": null,
            "visibility": null,
            "align_self": null,
            "height": null,
            "min_height": null,
            "padding": null,
            "grid_auto_rows": null,
            "grid_gap": null,
            "max_width": null,
            "order": null,
            "_view_module_version": "1.2.0",
            "grid_template_areas": null,
            "object_position": null,
            "object_fit": null,
            "grid_auto_columns": null,
            "margin": null,
            "display": null,
            "left": null
          }
        }
      }
    }
  },
  "cells": [
    {
      "cell_type": "markdown",
      "metadata": {
        "id": "zSOMAHldq2xR",
        "colab_type": "text"
      },
      "source": [
        "## Deep Causal Variational Inference\n",
        "### Abstract\n",
        "In this project we refractored the provided program for Causal Variational AutoEncoders such that there is a causal relationship between the latent variables as mentioned in the dataset. Once retained, we will apply various interventions to elements of the program and have that generate a new image that reflects that intervention. We aim to apply various counterfactual queries on our dataset and observe whether the reconstruction works appropriately.\n",
        "\n",
        "\n",
        "### Dataset:\n",
        "To train a supervised variational autoencoder using Deepmind's [dSprites](https://github.com/deepmind/dsprites-dataset) dataset.\n",
        "\n",
        "dSprites is a dataset of sprites, which are 2D shapes procedurally generated from 5 ground truth independent \"factors.\" These factors are color, shape, scale, rotation, x and y positions of a sprite.\n",
        "\n",
        "All possible combinations of these variables are present exactly once, generating N = 737280 total images.\n",
        "\n",
        "Factors and their values:\n",
        "\n",
        "* Shape: 3 values {square, ellipse, heart}\n",
        "* Scale: 6 values linearly spaced in (0.5, 1)\n",
        "* Orientation: 40 values in (0, 2$\\pi$)\n",
        "* Position X: 32 values in (0, 1)\n",
        "* Position Y: 32 values in (0, 1)\n",
        "\n",
        "\n",
        "Further, the objective of any generative model is essentially to capture underlying data generative factors, the disentangled representation would mean a single latent unit being sensitive to variations in single generative factors\n",
        "\n",
        "## Goal\n",
        "The goal is to apply counterfactual queries on our dataset and observe the reconstructed images and results\n",
        "\n",
        "Reference \n",
        "\n",
        "[Structured Disentangled Representation](https://arxiv.org/pdf/1804.02086.pdf)"
      ]
    },
    {
      "cell_type": "markdown",
      "metadata": {
        "id": "wsDJV_pV5N4S",
        "colab_type": "text"
      },
      "source": [
        "### Dependencies\n",
        "\n",
        "We will require several dependencies to install several packages to get the project working. We will be essentially requiring several packages like - \n",
        "* **Pyro Package** -  pyro is used for Deep Probabilistic Programming.\n",
        "* **Torch Vision Package** - The torchvision package consists of popular datasets, \n",
        "model architectures, and common image transformations for computer vision.\n",
        "* **Pydrive Package** - File management made easy. Upload/update the file with one method. PyDrive will do it in the most efficient way.\n",
        "* **Tqdm Package** - tqdm package is used to plot user-interactive plot used for visualization."
      ]
    },
    {
      "cell_type": "code",
      "metadata": {
        "id": "CMhHGoIwCwkN",
        "colab_type": "code",
        "outputId": "abc270ce-4f73-4655-f81d-d42a320e0a6f",
        "colab": {
          "base_uri": "https://localhost:8080/",
          "height": 677
        }
      },
      "source": [
        "!pip install -r requirements.txt"
      ],
      "execution_count": 3,
      "outputs": [
        {
          "output_type": "stream",
          "text": [
            "Collecting pyro-ppl\n",
            "\u001b[?25l  Downloading https://files.pythonhosted.org/packages/c0/77/4db4946f6b5bf0601869c7b7594def42a7197729167484e1779fff5ca0d6/pyro_ppl-1.3.1-py3-none-any.whl (520kB)\n",
            "\r\u001b[K     |▋                               | 10kB 23.3MB/s eta 0:00:01\r\u001b[K     |█▎                              | 20kB 2.1MB/s eta 0:00:01\r\u001b[K     |█▉                              | 30kB 3.1MB/s eta 0:00:01\r\u001b[K     |██▌                             | 40kB 2.1MB/s eta 0:00:01\r\u001b[K     |███▏                            | 51kB 2.6MB/s eta 0:00:01\r\u001b[K     |███▊                            | 61kB 3.1MB/s eta 0:00:01\r\u001b[K     |████▍                           | 71kB 3.6MB/s eta 0:00:01\r\u001b[K     |█████                           | 81kB 2.7MB/s eta 0:00:01\r\u001b[K     |█████▋                          | 92kB 3.1MB/s eta 0:00:01\r\u001b[K     |██████▎                         | 102kB 3.4MB/s eta 0:00:01\r\u001b[K     |███████                         | 112kB 3.4MB/s eta 0:00:01\r\u001b[K     |███████▌                        | 122kB 3.4MB/s eta 0:00:01\r\u001b[K     |████████▏                       | 133kB 3.4MB/s eta 0:00:01\r\u001b[K     |████████▉                       | 143kB 3.4MB/s eta 0:00:01\r\u001b[K     |█████████▍                      | 153kB 3.4MB/s eta 0:00:01\r\u001b[K     |██████████                      | 163kB 3.4MB/s eta 0:00:01\r\u001b[K     |██████████▊                     | 174kB 3.4MB/s eta 0:00:01\r\u001b[K     |███████████▎                    | 184kB 3.4MB/s eta 0:00:01\r\u001b[K     |████████████                    | 194kB 3.4MB/s eta 0:00:01\r\u001b[K     |████████████▋                   | 204kB 3.4MB/s eta 0:00:01\r\u001b[K     |█████████████▏                  | 215kB 3.4MB/s eta 0:00:01\r\u001b[K     |█████████████▉                  | 225kB 3.4MB/s eta 0:00:01\r\u001b[K     |██████████████▌                 | 235kB 3.4MB/s eta 0:00:01\r\u001b[K     |███████████████                 | 245kB 3.4MB/s eta 0:00:01\r\u001b[K     |███████████████▊                | 256kB 3.4MB/s eta 0:00:01\r\u001b[K     |████████████████▍               | 266kB 3.4MB/s eta 0:00:01\r\u001b[K     |█████████████████               | 276kB 3.4MB/s eta 0:00:01\r\u001b[K     |█████████████████▋              | 286kB 3.4MB/s eta 0:00:01\r\u001b[K     |██████████████████▎             | 296kB 3.4MB/s eta 0:00:01\r\u001b[K     |██████████████████▉             | 307kB 3.4MB/s eta 0:00:01\r\u001b[K     |███████████████████▌            | 317kB 3.4MB/s eta 0:00:01\r\u001b[K     |████████████████████▏           | 327kB 3.4MB/s eta 0:00:01\r\u001b[K     |████████████████████▊           | 337kB 3.4MB/s eta 0:00:01\r\u001b[K     |█████████████████████▍          | 348kB 3.4MB/s eta 0:00:01\r\u001b[K     |██████████████████████          | 358kB 3.4MB/s eta 0:00:01\r\u001b[K     |██████████████████████▋         | 368kB 3.4MB/s eta 0:00:01\r\u001b[K     |███████████████████████▎        | 378kB 3.4MB/s eta 0:00:01\r\u001b[K     |████████████████████████        | 389kB 3.4MB/s eta 0:00:01\r\u001b[K     |████████████████████████▌       | 399kB 3.4MB/s eta 0:00:01\r\u001b[K     |█████████████████████████▏      | 409kB 3.4MB/s eta 0:00:01\r\u001b[K     |█████████████████████████▉      | 419kB 3.4MB/s eta 0:00:01\r\u001b[K     |██████████████████████████▍     | 430kB 3.4MB/s eta 0:00:01\r\u001b[K     |███████████████████████████     | 440kB 3.4MB/s eta 0:00:01\r\u001b[K     |███████████████████████████▊    | 450kB 3.4MB/s eta 0:00:01\r\u001b[K     |████████████████████████████▎   | 460kB 3.4MB/s eta 0:00:01\r\u001b[K     |█████████████████████████████   | 471kB 3.4MB/s eta 0:00:01\r\u001b[K     |█████████████████████████████▋  | 481kB 3.4MB/s eta 0:00:01\r\u001b[K     |██████████████████████████████▏ | 491kB 3.4MB/s eta 0:00:01\r\u001b[K     |██████████████████████████████▉ | 501kB 3.4MB/s eta 0:00:01\r\u001b[K     |███████████████████████████████▌| 512kB 3.4MB/s eta 0:00:01\r\u001b[K     |████████████████████████████████| 522kB 3.4MB/s \n",
            "\u001b[?25hRequirement already satisfied: torch in /usr/local/lib/python3.6/dist-packages (from -r /content/gdrive/My Drive/CausalML_VAE/requirements.txt (line 3)) (1.4.0)\n",
            "Requirement already satisfied: torchvision in /usr/local/lib/python3.6/dist-packages (from -r /content/gdrive/My Drive/CausalML_VAE/requirements.txt (line 4)) (0.5.0)\n",
            "Requirement already satisfied: pydrive in /usr/local/lib/python3.6/dist-packages (from -r /content/gdrive/My Drive/CausalML_VAE/requirements.txt (line 5)) (1.3.1)\n",
            "Requirement already satisfied: tqdm in /usr/local/lib/python3.6/dist-packages (from -r /content/gdrive/My Drive/CausalML_VAE/requirements.txt (line 6)) (4.38.0)\n",
            "Collecting gputil\n",
            "  Downloading https://files.pythonhosted.org/packages/ed/0e/5c61eedde9f6c87713e89d794f01e378cfd9565847d4576fa627d758c554/GPUtil-1.4.0.tar.gz\n",
            "Requirement already satisfied: psutil in /usr/local/lib/python3.6/dist-packages (from -r /content/gdrive/My Drive/CausalML_VAE/requirements.txt (line 8)) (5.4.8)\n",
            "Requirement already satisfied: humanize in /usr/local/lib/python3.6/dist-packages (from -r /content/gdrive/My Drive/CausalML_VAE/requirements.txt (line 9)) (0.5.1)\n",
            "Requirement already satisfied: numpy>=1.7 in /usr/local/lib/python3.6/dist-packages (from pyro-ppl->-r /content/gdrive/My Drive/CausalML_VAE/requirements.txt (line 2)) (1.18.3)\n",
            "Collecting pyro-api>=0.1.1\n",
            "  Downloading https://files.pythonhosted.org/packages/c2/bc/6cdbd1929e32fff62a33592633c2cc0393c7f7739131ccc9c9c4e28ac8dd/pyro_api-0.1.1-py3-none-any.whl\n",
            "Requirement already satisfied: opt-einsum>=2.3.2 in /usr/local/lib/python3.6/dist-packages (from pyro-ppl->-r /content/gdrive/My Drive/CausalML_VAE/requirements.txt (line 2)) (3.2.1)\n",
            "Requirement already satisfied: six in /usr/local/lib/python3.6/dist-packages (from torchvision->-r /content/gdrive/My Drive/CausalML_VAE/requirements.txt (line 4)) (1.12.0)\n",
            "Requirement already satisfied: pillow>=4.1.1 in /usr/local/lib/python3.6/dist-packages (from torchvision->-r /content/gdrive/My Drive/CausalML_VAE/requirements.txt (line 4)) (7.0.0)\n",
            "Requirement already satisfied: google-api-python-client>=1.2 in /usr/local/lib/python3.6/dist-packages (from pydrive->-r /content/gdrive/My Drive/CausalML_VAE/requirements.txt (line 5)) (1.7.12)\n",
            "Requirement already satisfied: oauth2client>=4.0.0 in /usr/local/lib/python3.6/dist-packages (from pydrive->-r /content/gdrive/My Drive/CausalML_VAE/requirements.txt (line 5)) (4.1.3)\n",
            "Requirement already satisfied: PyYAML>=3.0 in /usr/local/lib/python3.6/dist-packages (from pydrive->-r /content/gdrive/My Drive/CausalML_VAE/requirements.txt (line 5)) (3.13)\n",
            "Requirement already satisfied: httplib2<1dev,>=0.17.0 in /usr/local/lib/python3.6/dist-packages (from google-api-python-client>=1.2->pydrive->-r /content/gdrive/My Drive/CausalML_VAE/requirements.txt (line 5)) (0.17.3)\n",
            "Requirement already satisfied: google-auth-httplib2>=0.0.3 in /usr/local/lib/python3.6/dist-packages (from google-api-python-client>=1.2->pydrive->-r /content/gdrive/My Drive/CausalML_VAE/requirements.txt (line 5)) (0.0.3)\n",
            "Requirement already satisfied: uritemplate<4dev,>=3.0.0 in /usr/local/lib/python3.6/dist-packages (from google-api-python-client>=1.2->pydrive->-r /content/gdrive/My Drive/CausalML_VAE/requirements.txt (line 5)) (3.0.1)\n",
            "Requirement already satisfied: google-auth>=1.4.1 in /usr/local/lib/python3.6/dist-packages (from google-api-python-client>=1.2->pydrive->-r /content/gdrive/My Drive/CausalML_VAE/requirements.txt (line 5)) (1.7.2)\n",
            "Requirement already satisfied: pyasn1>=0.1.7 in /usr/local/lib/python3.6/dist-packages (from oauth2client>=4.0.0->pydrive->-r /content/gdrive/My Drive/CausalML_VAE/requirements.txt (line 5)) (0.4.8)\n",
            "Requirement already satisfied: pyasn1-modules>=0.0.5 in /usr/local/lib/python3.6/dist-packages (from oauth2client>=4.0.0->pydrive->-r /content/gdrive/My Drive/CausalML_VAE/requirements.txt (line 5)) (0.2.8)\n",
            "Requirement already satisfied: rsa>=3.1.4 in /usr/local/lib/python3.6/dist-packages (from oauth2client>=4.0.0->pydrive->-r /content/gdrive/My Drive/CausalML_VAE/requirements.txt (line 5)) (4.0)\n",
            "Requirement already satisfied: cachetools<3.2,>=2.0.0 in /usr/local/lib/python3.6/dist-packages (from google-auth>=1.4.1->google-api-python-client>=1.2->pydrive->-r /content/gdrive/My Drive/CausalML_VAE/requirements.txt (line 5)) (3.1.1)\n",
            "Requirement already satisfied: setuptools>=40.3.0 in /usr/local/lib/python3.6/dist-packages (from google-auth>=1.4.1->google-api-python-client>=1.2->pydrive->-r /content/gdrive/My Drive/CausalML_VAE/requirements.txt (line 5)) (46.1.3)\n",
            "Building wheels for collected packages: gputil\n",
            "  Building wheel for gputil (setup.py) ... \u001b[?25l\u001b[?25hdone\n",
            "  Created wheel for gputil: filename=GPUtil-1.4.0-cp36-none-any.whl size=7413 sha256=a1898cf62a47e008492c10689dd749584245bb443032f50725c382d73e8662fd\n",
            "  Stored in directory: /root/.cache/pip/wheels/3d/77/07/80562de4bb0786e5ea186911a2c831fdd0018bda69beab71fd\n",
            "Successfully built gputil\n",
            "Installing collected packages: pyro-api, pyro-ppl, gputil\n",
            "Successfully installed gputil-1.4.0 pyro-api-0.1.1 pyro-ppl-1.3.1\n"
          ],
          "name": "stdout"
        }
      ]
    },
    {
      "cell_type": "markdown",
      "metadata": {
        "id": "rSoXsYigBGCS",
        "colab_type": "text"
      },
      "source": [
        "### Required Libraries\n",
        "We will be importing various libraries and packages to work on with in Causal Variational AutoEncoder Implementation. \n"
      ]
    },
    {
      "cell_type": "code",
      "metadata": {
        "id": "uNa3MO8GCqWg",
        "colab_type": "code",
        "colab": {}
      },
      "source": [
        "# LOADING NECESSARY LIBRARIES\n",
        "\n",
        "from matplotlib import pyplot as plt\n",
        "import numpy as np\n",
        "import seaborn as sns\n",
        "\n",
        "import os\n",
        "from collections import defaultdict\n",
        "\n",
        "import torch\n",
        "import torch.nn as nn\n",
        "\n",
        "from tqdm import tqdm\n",
        "import pyro\n",
        "import pyro.distributions as dist\n",
        "from pyro.infer import SVI, Trace_ELBO, TraceEnum_ELBO, config_enumerate, EmpiricalMarginal\n",
        "from pyro.optim import Adam, SGD\n",
        "import torch.distributions.constraints as constraints\n",
        "\n",
        "# Change figure aesthetics\n",
        "\n",
        "%matplotlib inline\n",
        "sns.set_context('talk', font_scale=1.2, rc={'lines.linewidth': 1.5})\n",
        "from ipywidgets import interact, interactive, fixed, interact_manual\n",
        "import ipywidgets as widgets\n",
        "\n",
        "#to utilize GPU capabilities\n",
        "\n",
        "USE_CUDA = True\n",
        "pyro.enable_validation(True)\n",
        "pyro.distributions.enable_validation(False)"
      ],
      "execution_count": 0,
      "outputs": []
    },
    {
      "cell_type": "code",
      "metadata": {
        "id": "nkXRHmSqDFTy",
        "colab_type": "code",
        "outputId": "9099dd15-75ae-4bb3-fddb-c437dd7a4002",
        "colab": {
          "base_uri": "https://localhost:8080/",
          "height": 35
        }
      },
      "source": [
        "# Mount Google drive to load data\n",
        "from google.colab import drive\n",
        "drive.mount('/content/gdrive')"
      ],
      "execution_count": 5,
      "outputs": [
        {
          "output_type": "stream",
          "text": [
            "Drive already mounted at /content/gdrive; to attempt to forcibly remount, call drive.mount(\"/content/gdrive\", force_remount=True).\n"
          ],
          "name": "stdout"
        }
      ]
    },
    {
      "cell_type": "markdown",
      "metadata": {
        "id": "osWWjzi35eTq",
        "colab_type": "text"
      },
      "source": [
        "### GPU Compatibility\n",
        "The project is made to be GPU compatible as the dataset comprises 737280 images of 64 x 64 dimensions each. Training of these images using neural network architecture would require a lot of time without GPU compatibility. We allocated the GPU using packages like psutil, humanize and gputil packages. Hereby, we will attach the code snippet which walks us through the code which will perform GPU allocation with ease."
      ]
    },
    {
      "cell_type": "code",
      "metadata": {
        "id": "cqyc4SqyDLIq",
        "colab_type": "code",
        "outputId": "bf0025e2-2647-4142-9805-928ef39f8620",
        "colab": {
          "base_uri": "https://localhost:8080/",
          "height": 52
        }
      },
      "source": [
        "# Hack to get all available GPU ram.\n",
        "\n",
        "import tensorflow as tf\n",
        "tf.test.gpu_device_name()\n",
        "\n",
        "# !ln -sf /opt/bin/nvidia-smi /usr/bin/nvidia-smi\n",
        "\n",
        "import psutil\n",
        "import humanize\n",
        "import os\n",
        "import GPUtil as GPU\n",
        "GPUs = GPU.getGPUs()\n",
        "# XXX: only one GPU on Colab and isn’t guaranteed\n",
        "gpu = GPUs[0]\n",
        "def printm():\n",
        " process = psutil.Process(os.getpid())\n",
        " print(\"Gen RAM Free: \" + humanize.naturalsize( psutil.virtual_memory().available ), \" | Proc size: \" + humanize.naturalsize( process.memory_info().rss))\n",
        " print(\"GPU RAM Free: {0:.0f}MB | Used: {1:.0f}MB | Util {2:3.0f}% | Total {3:.0f}MB\".format(gpu.memoryFree, gpu.memoryUsed, gpu.memoryUtil*100, gpu.memoryTotal))\n",
        "printm()"
      ],
      "execution_count": 6,
      "outputs": [
        {
          "output_type": "stream",
          "text": [
            "Gen RAM Free: 24.3 GB  | Proc size: 3.3 GB\n",
            "GPU RAM Free: 15477MB | Used: 803MB | Util   5% | Total 16280MB\n"
          ],
          "name": "stdout"
        }
      ]
    },
    {
      "cell_type": "markdown",
      "metadata": {
        "id": "jmKXCcRJ5lVe",
        "colab_type": "text"
      },
      "source": [
        "### Encoder and Decoder\n",
        "\n",
        "***Variational AutoEncoders*** are powerful data generative models. They are made up of multilayer perceptrons or feedforward networks where the provided activation parameter is used on every linear layer except for the output layer where we use the provided output activation parameter. \n",
        "They consist of two main components:\n",
        "\n",
        "1.   Encoder\n",
        "2.   Decoder\n",
        "\n",
        "We have implemented them in our code using 3 layer neural networks in each. \n",
        "\n",
        "> The ***encoder*** class is used for converting the input image into latent variable. It takes in as input the image(xs) and the label(ys) and after processing through the forward function it gives as output the z_loc and z_scale values.\n",
        "> These are the mean and variance values which are used in sampling the latent variable(zs) from a normal distribution. \n",
        "\n",
        ">The **decoder** class is used for decoding the image from the latent variables. It takes in as input the latent variable(zs) and the image label(ys). After passing these values through the neural network it reconstructs a new image which resembles very closely to the input image after training the variational autoencoder.  \n"
      ]
    },
    {
      "cell_type": "code",
      "metadata": {
        "id": "nSkXleG1CqWj",
        "colab_type": "code",
        "colab": {}
      },
      "source": [
        "class Encoder(nn.Module):\n",
        "\t\"\"\"\n",
        "    MLPs (multi-layered perceptrons or simple feed-forward networks)\n",
        "    where the provided activation parameter is used on every linear layer except\n",
        "    for the output layer where we use the provided output_activation parameter\n",
        "\t\"\"\"\n",
        "\tdef __init__(self, image_dim, label_dim, z_dim):\n",
        "\t\tsuper(Encoder, self).__init__()\n",
        "\t\t#setup image and label dimensions from the dataset\n",
        "\t\tself.image_dim = image_dim\n",
        "\t\tself.label_dim = label_dim\n",
        "\t\tself.z_dim = z_dim\n",
        "\t\t# setup the three linear transformations used\n",
        "\t\tself.fc1 = nn.Linear(self.image_dim+self.label_dim, 1000)\n",
        "\t\tself.fc2 = nn.Linear(1000, 1000)\n",
        "\t\tself.fc31 = nn.Linear(1000, z_dim)  # mu values\n",
        "\t\tself.fc32 = nn.Linear(1000, z_dim)  # sigma values\n",
        "\t\t# setup the non-linearities\n",
        "\t\tself.softplus = nn.Softplus()\n",
        "\n",
        "\t#Explaination: xs:- shape: [1, 4096] flattened 64*64 image; ys:- shape[1, 114] flattended one hot encoded values of 6 labels\n",
        "\tdef forward(self, xs, ys):\n",
        "\t\txs = xs.reshape(-1, self.image_dim)\n",
        "\t\t#now concatenate the image and label\n",
        "\t\tinputs = torch.cat((xs,ys), -1)\n",
        "\t\t# then compute the hidden units\n",
        "\t\thidden1 = self.softplus(self.fc1(inputs))\n",
        "\t\thidden2 = self.softplus(self.fc2(hidden1))\n",
        "\t\t# then return a mean vector and a (positive) square root covariance\n",
        "\t\t# each of size batch_size x z_dim\n",
        "\t\tz_loc = self.fc31(hidden2)\n",
        "\t\tz_scale = torch.exp(self.fc32(hidden2))\n",
        "\t\treturn z_loc, z_scale\n",
        "\n",
        "\n",
        "class Decoder(nn.Module):\n",
        "\tdef __init__(self, image_dim, label_dim, z_dim):\n",
        "\t\tsuper(Decoder, self).__init__()\n",
        "\t\t# setup the two linear transformations used\n",
        "\t\thidden_dim = 1000\n",
        "\t\tself.fc1 = nn.Linear(z_dim+label_dim, hidden_dim)\n",
        "\t\tself.fc2 = nn.Linear(hidden_dim, hidden_dim)\n",
        "\t\tself.fc3 = nn.Linear(hidden_dim, hidden_dim)\n",
        "\t\tself.fc4 = nn.Linear(hidden_dim, image_dim)\n",
        "\t\t# setup the non-linearities\n",
        "\t\tself.softplus = nn.Softplus()\n",
        "\t\tself.sigmoid = nn.Sigmoid()\n",
        "\n",
        "\tdef forward(self, zs, ys):\n",
        "\t\tinputs = torch.cat((zs, ys),-1)\n",
        "\t\t# then compute the hidden units\n",
        "\t\thidden1 = self.softplus(self.fc1(inputs))\n",
        "\t\thidden2 = self.softplus(self.fc2(hidden1))\n",
        "\t\thidden3 = self.softplus(self.fc3(hidden2))\n",
        "\t\t# return the parameter for the output Bernoulli\n",
        "\t\t# each is of size batch_size x 784\n",
        "\t\tloc_img = self.sigmoid(self.fc4(hidden3))\n",
        "\t\treturn loc_img"
      ],
      "execution_count": 0,
      "outputs": []
    },
    {
      "cell_type": "markdown",
      "metadata": {
        "id": "cpfhbGcb5p7w",
        "colab_type": "text"
      },
      "source": [
        "### Causal Variational AutoEncoder (CVAE)\n",
        "\n",
        "This module implements the Causal Effect Variational Autoencoder [1], which demonstrates a number of innovations including:\n",
        "\n",
        "\n",
        "*   a generative model for causal effect inference with hidden confounders;\n",
        "*   a model and guide with twin neural nets to allow imbalanced treatment,\n",
        "\n",
        "\n",
        "\n",
        "\n",
        "class *Model*\n",
        "\n",
        "Generative model for a causal model with latent confounder z and binary treatment t:\n",
        "\n",
        "    z ~ p(z)      # latent confounder\n",
        "\n",
        "    x ~ p(x|z)    # partial noisy observation of z\n",
        "\n",
        "    t ~ p(t|z)    # treatment, whose application is biased by z\n",
        "\n",
        "    y ~ p(y|t,z)  # outcome\n",
        "\n",
        "Each of these distributions is defined by a neural network. The y distribution is defined by a disjoint pair of neural networks defining p(y|t=0,z) and p(y|t=1,z); this allows highly imbalanced treatment.\n",
        "\n",
        "class *Guide*\n",
        "\n",
        "Inference model for causal effect estimation with latent confounder z and binary treatment t:\n",
        "\n",
        "    t ~ p(t|x)      # treatment\n",
        "\n",
        "    y ~ p(y|t,x)    # outcome\n",
        "\n",
        "    z ~ p(t|y,t,x)  # latent confounder, an embedding\n",
        "\n",
        "Each of these distributions is defined by a neural network. The y and z distributions are defined by disjoint pairs of neural networks defining p(-|t=0,...) and p(-|t=1,...); this allows highly imbalanced treatment.\n",
        "\n",
        "\n",
        "\n",
        "*   a custom training loss that includes both ELBO terms and extra terms needed to  train the guide to be able to answer counterfactual queries.\n",
        "\n",
        "The main interface is the CEVAE class, but users may customize by using components Model, Guide, TraceCausalEffect_ELBO and utilities.\n",
        "\n",
        "\n",
        "\n",
        "\n"
      ]
    },
    {
      "cell_type": "code",
      "metadata": {
        "id": "Yqj05Mv8CqWm",
        "colab_type": "code",
        "colab": {}
      },
      "source": [
        "#Explaination: Shapes:- xs: [1, image_dim(4096)], ys: [1, label_dim(114)], zs: [1, z_dim(50)]\n",
        "class CVAE(nn.Module):\n",
        "\t\"\"\"\n",
        "\tThis class encapsulates the parameters (neural networks) and models & guides \n",
        "\tneeded to train a supervised variational auto-encoder \n",
        "\t\"\"\"\n",
        "\tdef __init__(self, config_enum=None, use_cuda=False, aux_loss_multiplier=None):\n",
        "    \n",
        "\t\tsuper(CVAE, self).__init__()\n",
        "\t\tself.image_dim = 64**2\n",
        "\t\tself.label_shape = np.array((1,3,6,40,32,32))\n",
        "\t\tself.label_names = np.array(('color', 'shape', 'scale', 'orientation', 'posX', 'posY'))\n",
        "\t\tself.label_dim = np.sum(self.label_shape)\n",
        "\t\tself.z_dim = 50                                           \n",
        "\t\tself.allow_broadcast = config_enum == 'parallel'\n",
        "\t\tself.use_cuda = use_cuda\n",
        "\t\tself.aux_loss_multiplier = aux_loss_multiplier\n",
        "\t    # define and instantiate the neural networks representing\n",
        "\t    # the paramters of various distributions in the model\n",
        "\t\tself.setup_networks()\n",
        "\n",
        "\tdef setup_networks(self):\n",
        "\t\t\"\"\"\n",
        "\t\tSetup and initialize Encoder and decoder units\n",
        "\t\t\"\"\"\n",
        "\t\tself.encoder = Encoder(self.image_dim, self.label_dim, self.z_dim)\n",
        "\t\tself.decoder = Decoder(self.image_dim, self.label_dim, self.z_dim)\n",
        "\t\t# using GPUs for faster training of the networks\n",
        "\t\tif self.use_cuda:\n",
        "\t\t    self.cuda()\n",
        "\n",
        "\tdef model(self, xs, ys):\n",
        "\t\tpyro.module(\"cvae\", self)\n",
        "\t\tbatch_size = xs.size(0)\n",
        "\t\toptions = dict(dtype=xs.dtype, device=xs.device)\n",
        "\t\twith pyro.plate(\"data\"):\n",
        "\t\t\tprior_loc = torch.zeros(batch_size, self.z_dim, **options)\n",
        "\t\t\tprior_scale = torch.ones(batch_size, self.z_dim, **options)\n",
        "\t\t\tzs = pyro.sample(\"z\", dist.Normal(prior_loc, prior_scale).to_event(1))\n",
        "\t\t\t# if the label y (which digit to write) is supervised, sample from the\n",
        "\t\t\t# constant prior, otherwise, observe the value (i.e. score it against the constant prior)\n",
        "\t\t\tloc = self.decoder.forward(zs, self.remap_y(ys))\n",
        "\t\t\tpyro.sample(\"x\", dist.Bernoulli(loc).to_event(1), obs=xs)\n",
        "\t\t  \t# return the loc so we can visualize it later\n",
        "\t\t\treturn loc\n",
        "\n",
        "\tdef guide(self, xs, ys):\n",
        "\t\twith pyro.plate(\"data\"):\n",
        "\t\t\t# sample (and score) the latent handwriting-style with the variational\n",
        "\t\t\t# distribution q(z|x) = normal(loc(x),scale(x))\n",
        "\t\t\tloc, scale = self.encoder.forward(xs, self.remap_y(ys))\n",
        "\t\t\tpyro.sample(\"z\", dist.Normal(loc, scale).to_event(1))\n",
        "\n",
        "\t#Explaination: Kind of one hot encodes each labels of ys. ys size: 6. size of each label: 1+3+6+40+32+32. new_ys size: 114. new_ys contains 1 at particular place of value of that label in ys \n",
        "\tdef remap_y(self, ys):\n",
        "\t\tnew_ys = []\n",
        "\t\toptions = dict(dtype=ys.dtype, device=ys.device)\n",
        "\t\tfor i, label_length in enumerate(self.label_shape):\n",
        "\t\t    prior = torch.ones(ys.size(0), label_length, **options) / (1.0 * label_length)\n",
        "\t\t    new_ys.append(pyro.sample(\"y_%s\" % self.label_names[i], dist.OneHotCategorical(prior), \n",
        "\t\t                           obs=torch.nn.functional.one_hot(ys[:,i].to(torch.int64), int(label_length))))\n",
        "\t\tnew_ys = torch.cat(new_ys, -1)\n",
        "\t\treturn new_ys.to(torch.float32)\n",
        "\n",
        "\t#Explaination: Reconstruct decoded image using a VAE by using an original image and its label\n",
        "\tdef reconstruct_image(self, xs, ys):\n",
        "\t\t# backward\n",
        "\t\tsim_z_loc, sim_z_scale = self.encoder.forward(xs, self.remap_y(ys))\n",
        "\t\tzs = dist.Normal(sim_z_loc, sim_z_scale).to_event(1).sample()\n",
        "\t\t# forward\n",
        "\t\tloc = self.decoder.forward(zs, self.remap_y(ys))\n",
        "\t\treturn dist.Bernoulli(loc).to_event(1).sample()"
      ],
      "execution_count": 0,
      "outputs": []
    },
    {
      "cell_type": "markdown",
      "metadata": {
        "id": "ibLgQEnT5xvS",
        "colab_type": "text"
      },
      "source": [
        "### Data Setup\n",
        "We will be splitting our dataset in test and train data both for the images and the labels. The image will be split into test and train images. Also, we have 6 types of labels for a single image therefore, we split the label as well in the similar format and store them in a dictionary inside the data_loader function. The code snippet here explains how this dataset is combined and stored in the data_loader dictionary. The important thing here to notice is how the labels and individual images are combined within the train and the test keys of the dictionary formed."
      ]
    },
    {
      "cell_type": "code",
      "metadata": {
        "id": "1mmMe3D8CqWo",
        "colab_type": "code",
        "colab": {}
      },
      "source": [
        "def setup_data_loaders(train_x, test_x, train_y, test_y, batch_size=128, use_cuda=False):\n",
        "\ttrain_dset = torch.utils.data.TensorDataset(\n",
        "\t  torch.from_numpy(train_x.astype(np.float32)).reshape(-1, 4096),\n",
        "\t  torch.from_numpy(train_y.astype(np.float32))\n",
        "\t)\n",
        "\ttest_dset = torch.utils.data.TensorDataset(\n",
        "\t  torch.from_numpy(test_x.astype(np.float32)).reshape(-1, 4096),\n",
        "\t  torch.from_numpy(test_y.astype(np.float32))\n",
        "\t)    \n",
        "\tkwargs = {'num_workers': 1, 'pin_memory': use_cuda}\n",
        "\ttrain_loader = torch.utils.data.DataLoader(\n",
        "\t  dataset=train_dset, batch_size=batch_size, shuffle=False, **kwargs\n",
        "\t)\n",
        "\n",
        "\ttest_loader = torch.utils.data.DataLoader(\n",
        "\t  dataset=test_dset, batch_size=batch_size, shuffle=False, **kwargs\n",
        "\t)\n",
        "\treturn {\"train\":train_loader, \"test\":test_loader}"
      ],
      "execution_count": 0,
      "outputs": []
    },
    {
      "cell_type": "markdown",
      "metadata": {
        "id": "O9cXJBwg52vG",
        "colab_type": "text"
      },
      "source": [
        "### Data Loading\n",
        "\n",
        " We will now load the dataset into the Google Colab form our drive. The link for the dataset should be changed based on the location of the dataset within an individual drive. We will be then creating the set of sampled images from the loaded dataset, along with labels sampled. Once the dataset is loaded into the Colab, which eventually will take some time as due to the size of the dataset. We then call the setup_data_loaders function to prepare the data loaders dictionary. The data loaders dictionary will comprise of the train and the test data in appropriate format with labels attached."
      ]
    },
    {
      "cell_type": "code",
      "metadata": {
        "id": "azMSBtsnCqWr",
        "colab_type": "code",
        "colab": {}
      },
      "source": [
        "dataset_zip = np.load(\n",
        "    '/content/gdrive/My Drive/CausalML_VAE/data/dsprites_ndarray_co1sh3sc6or40x32y32_64x64.npz',\n",
        "    encoding = 'bytes',\n",
        "    allow_pickle=True\n",
        ")\n",
        "\n",
        "imgs = dataset_zip['imgs']\n",
        "labels = dataset_zip['latents_classes']\n",
        "label_sizes = dataset_zip['metadata'][()][b'latents_sizes']\n",
        "label_names = dataset_zip['metadata'][()][b'latents_names']\n",
        "\n",
        "# Sample imgs randomly\n",
        "indices_sampled = np.arange(imgs.shape[0])\n",
        "np.random.shuffle(indices_sampled)\n",
        "imgs_sampled = imgs[indices_sampled]\n",
        "labels_sampled = labels[indices_sampled]\n",
        "\n",
        "## Sampled Images of Dimension (737280, 64, 64) and Labels Dimension (737280, 6)\n",
        "\n",
        "data_loaders = setup_data_loaders(\n",
        "    imgs_sampled[1000:],\n",
        "    imgs_sampled[:1000],\n",
        "    labels_sampled[1000:],\n",
        "    labels_sampled[:1000],\n",
        "    batch_size=256,\n",
        "    use_cuda=USE_CUDA\n",
        ")\n"
      ],
      "execution_count": 0,
      "outputs": []
    },
    {
      "cell_type": "markdown",
      "metadata": {
        "id": "YuHxZ9jhBrYC",
        "colab_type": "text"
      },
      "source": [
        "### Training the Dataset on CVAE Model\n",
        "\n",
        "# Loss Functions on Train and Test Dataset\n",
        "\n",
        "We have used the SVI (Stochastic Variational Inference) in Pyro to compute the losses from the train and the test dataset. We will be using svi.step for observing the loss for the train data and svi.evaluate for observing the loss for test dataset.\n",
        "Details for the SVI.step and SVI.evaluate from pyro documentation - \n",
        "\n",
        "The SVI object provides two methods, step() and evaluate_loss(), that encapsulate the logic for variational learning and evaluation:\n",
        "\n",
        "\n",
        "\n",
        "1.   The method svi.step() takes a single gradient step and returns an estimate of the loss (i.e. minus the ELBO). If provided, the arguments to step() are piped to model() and guide().\n",
        "2.   The method svi.evaluate_loss() \n",
        "returns an estimate of the loss without taking a gradient step. Just like for step(), if provided, arguments to evaluate_loss() are piped to model() and guide()"
      ]
    },
    {
      "cell_type": "code",
      "metadata": {
        "id": "Eamf-n9hCqWt",
        "colab_type": "code",
        "colab": {}
      },
      "source": [
        "# Loss function for train Data\n",
        "\n",
        "def train(svi, train_loader, use_cuda=False):\n",
        "\t# initialize loss accumulator\n",
        "\tepoch_loss = 0.\n",
        "\t# do a training epoch over each mini-batch x returned\n",
        "\t# by the data loader\n",
        "\tfor xs,ys in train_loader:\n",
        "\t  # if on GPU put mini-batch into CUDA memory\n",
        "\t  if use_cuda:\n",
        "\t      xs = xs.cuda()\n",
        "\t      ys = ys.cuda()\n",
        "\t  # do ELBO gradient and accumulate loss\n",
        "\t  epoch_loss += svi.step(xs, ys)\n",
        "\t# return epoch loss\n",
        "\tnormalizer_train = len(train_loader.dataset)\n",
        "\ttotal_epoch_loss_train = epoch_loss / normalizer_train\n",
        "\treturn total_epoch_loss_train\n",
        "\n",
        "# Loss function for test data\n",
        "\n",
        "def evaluate(svi, test_loader, use_cuda=False):\n",
        "\t# initialize loss accumulator\n",
        "\ttest_loss = 0.\n",
        "\t# compute the loss over the entire test set\n",
        "\tfor xs, ys in test_loader:\n",
        "\t  # if on GPU put mini-batch into CUDA memory\n",
        "\t  if use_cuda:\n",
        "\t      xs = xs.cuda()\n",
        "\t      ys = ys.cuda()\n",
        "\t  # compute ELBO estimate and accumulate loss\n",
        "\t  test_loss += svi.evaluate_loss(xs, ys)\n",
        "\tnormalizer_test = len(test_loader.dataset)\n",
        "\ttotal_epoch_loss_test = test_loss / normalizer_test\n",
        "\treturn total_epoch_loss_test"
      ],
      "execution_count": 0,
      "outputs": []
    },
    {
      "cell_type": "markdown",
      "metadata": {
        "id": "jJFt9A2gCTem",
        "colab_type": "text"
      },
      "source": [
        "# Hyperparameters used for Training the Model\n",
        "\n",
        "The Hyperparameters used for the optimal working of the model is the learning rate and the number of epochs. We used the learning rate of **1.0e-3** and the number of epochs are **10**. The following hyperparameter gave the best results for the model.\n"
      ]
    },
    {
      "cell_type": "code",
      "metadata": {
        "id": "LR-hW5UzCqWv",
        "colab_type": "code",
        "colab": {}
      },
      "source": [
        "# Declaring parameters to train the model\n",
        "# Run options\n",
        "LEARNING_RATE = 1.0e-3\n",
        "\n",
        "# Run only for a single iteration for testing\n",
        "NUM_EPOCHS = 10\n",
        "TEST_FREQUENCY = 5"
      ],
      "execution_count": 0,
      "outputs": []
    },
    {
      "cell_type": "markdown",
      "metadata": {
        "id": "usux4OJrgYXs",
        "colab_type": "text"
      },
      "source": [
        "### Training the Model\n",
        "\n",
        "\n",
        "\n",
        "1.   We have trained the dataset by setting up the SVI inference algorithm. The model and the guide are used from the VAE class. We have used an **Adam** optimizer as they perform the best for stochastic data \n",
        "2.  We then use the svi.step and svi.evaluate to compute the losses for the train and test data and keep a check whether the model is performing well.\n",
        "\n"
      ]
    },
    {
      "cell_type": "code",
      "metadata": {
        "id": "hIuVKC2lCqWx",
        "colab_type": "code",
        "outputId": "c4fecc99-29e7-4708-9b3a-8371c2e1a8ed",
        "colab": {
          "base_uri": "https://localhost:8080/",
          "height": 248
        }
      },
      "source": [
        "import warnings\n",
        "warnings.filterwarnings('ignore')\n",
        "\n",
        "# clear param store\n",
        "pyro.clear_param_store()\n",
        "\n",
        "# setup the VAE\n",
        "vae = CVAE(use_cuda=USE_CUDA)\n",
        "\n",
        "# setup the optimizer\n",
        "adam_args = {\"lr\": LEARNING_RATE}\n",
        "optimizer = Adam(adam_args)\n",
        "\n",
        "# setup the inference algorithm\n",
        "svi = SVI(vae.model, vae.guide, optimizer, loss=Trace_ELBO())\n",
        "\n",
        "train_elbo = []\n",
        "test_elbo = []\n",
        "# training loop\n",
        "\n",
        "VERBOSE = True\n",
        "pbar = tqdm(range(NUM_EPOCHS))\n",
        "for epoch in pbar:\n",
        "    total_epoch_loss_train = train(svi, data_loaders[\"train\"], use_cuda=USE_CUDA)\n",
        "    train_elbo.append(-total_epoch_loss_train)\n",
        "    if VERBOSE:\n",
        "        print(\"[epoch %03d]  average training loss: %.4f\" % (epoch, total_epoch_loss_train))\n",
        "    if epoch % TEST_FREQUENCY == 0:\n",
        "        # report test diagnostics\n",
        "        total_epoch_loss_test = evaluate(svi, data_loaders[\"test\"], use_cuda=USE_CUDA)\n",
        "        test_elbo.append(-total_epoch_loss_test)\n",
        "        if VERBOSE:\n",
        "            print(\"[epoch %03d] average test loss: %.4f\" % (epoch, total_epoch_loss_test))"
      ],
      "execution_count": 14,
      "outputs": [
        {
          "output_type": "stream",
          "text": [
            "\r  0%|          | 0/10 [00:00<?, ?it/s]"
          ],
          "name": "stderr"
        },
        {
          "output_type": "stream",
          "text": [
            "[epoch 000]  average training loss: 167.4154\n"
          ],
          "name": "stdout"
        },
        {
          "output_type": "stream",
          "text": [
            "\r 10%|█         | 1/10 [00:59<08:56, 59.66s/it]"
          ],
          "name": "stderr"
        },
        {
          "output_type": "stream",
          "text": [
            "[epoch 000] average test loss: 102.0709\n"
          ],
          "name": "stdout"
        },
        {
          "output_type": "stream",
          "text": [
            "\r 20%|██        | 2/10 [01:58<07:55, 59.46s/it]"
          ],
          "name": "stderr"
        },
        {
          "output_type": "stream",
          "text": [
            "[epoch 001]  average training loss: 77.0416\n"
          ],
          "name": "stdout"
        },
        {
          "output_type": "stream",
          "text": [
            "\r 30%|███       | 3/10 [02:57<06:54, 59.28s/it]"
          ],
          "name": "stderr"
        },
        {
          "output_type": "stream",
          "text": [
            "[epoch 002]  average training loss: 64.1255\n"
          ],
          "name": "stdout"
        },
        {
          "output_type": "stream",
          "text": [
            "\r 40%|████      | 4/10 [03:55<05:54, 59.02s/it]"
          ],
          "name": "stderr"
        },
        {
          "output_type": "stream",
          "text": [
            "[epoch 003]  average training loss: 42.4773\n"
          ],
          "name": "stdout"
        },
        {
          "output_type": "stream",
          "text": [
            "\r 50%|█████     | 5/10 [04:54<04:53, 58.80s/it]"
          ],
          "name": "stderr"
        },
        {
          "output_type": "stream",
          "text": [
            "[epoch 004]  average training loss: 33.2054\n",
            "[epoch 005]  average training loss: 25.0997\n"
          ],
          "name": "stdout"
        },
        {
          "output_type": "stream",
          "text": [
            "\r 60%|██████    | 6/10 [05:51<03:53, 58.49s/it]"
          ],
          "name": "stderr"
        },
        {
          "output_type": "stream",
          "text": [
            "[epoch 005] average test loss: 21.8711\n"
          ],
          "name": "stdout"
        },
        {
          "output_type": "stream",
          "text": [
            "\r 70%|███████   | 7/10 [06:49<02:54, 58.20s/it]"
          ],
          "name": "stderr"
        },
        {
          "output_type": "stream",
          "text": [
            "[epoch 006]  average training loss: 20.2512\n"
          ],
          "name": "stdout"
        },
        {
          "output_type": "stream",
          "text": [
            "\r 80%|████████  | 8/10 [07:47<01:56, 58.17s/it]"
          ],
          "name": "stderr"
        },
        {
          "output_type": "stream",
          "text": [
            "[epoch 007]  average training loss: 18.8102\n"
          ],
          "name": "stdout"
        },
        {
          "output_type": "stream",
          "text": [
            "\r 90%|█████████ | 9/10 [08:44<00:57, 57.94s/it]"
          ],
          "name": "stderr"
        },
        {
          "output_type": "stream",
          "text": [
            "[epoch 008]  average training loss: 17.6850\n"
          ],
          "name": "stdout"
        },
        {
          "output_type": "stream",
          "text": [
            "100%|██████████| 10/10 [09:42<00:00, 58.20s/it]"
          ],
          "name": "stderr"
        },
        {
          "output_type": "stream",
          "text": [
            "[epoch 009]  average training loss: 16.8149\n"
          ],
          "name": "stdout"
        },
        {
          "output_type": "stream",
          "text": [
            "\n"
          ],
          "name": "stderr"
        }
      ]
    },
    {
      "cell_type": "markdown",
      "metadata": {
        "id": "6BmKZcmBFbLx",
        "colab_type": "text"
      },
      "source": [
        "### Saving the model for Reusability\n",
        "\n",
        "We also saved the weights for the trained model in a file to enable the reusability as it would take a lot of time to rerun the training iteratively. Therefore, to overcome this issue we can save the weights once the training is completed and then reuse the weights merely by loading them again. This saves a lot of time and ensures the reusability of the model.\n"
      ]
    },
    {
      "cell_type": "markdown",
      "metadata": {
        "id": "DShk1og86DcE",
        "colab_type": "text"
      },
      "source": [
        "### Saving the Model"
      ]
    },
    {
      "cell_type": "code",
      "metadata": {
        "id": "pk4CtaTlSkiS",
        "colab_type": "code",
        "colab": {}
      },
      "source": [
        "#################################\n",
        "### FOR SAVING AND LOADING MODEL\n",
        "################################\n",
        "# clear param store\n",
        "\n",
        "pyro.clear_param_store()\n",
        "\n",
        "network_path = \"/trained_model.save\"\n",
        "torch.save(vae.state_dict(), network_path)"
      ],
      "execution_count": 0,
      "outputs": []
    },
    {
      "cell_type": "markdown",
      "metadata": {
        "id": "kSPyNLkrC5Ha",
        "colab_type": "text"
      },
      "source": [
        "### Loss Plot \n",
        "\n",
        "We can clearly observe from the loss plot in the image attached below, that the given hyperparameters used are performing well, as after 10 epochs there is no significant change in the training losses and thus we achieved average training loss of 16.92 and average test loss of 20.43 from our code.\n"
      ]
    },
    {
      "cell_type": "code",
      "metadata": {
        "id": "5Ku3cq4NQ7WX",
        "colab_type": "code",
        "outputId": "8d175f20-e6a7-46a3-c04d-5e190d5afda6",
        "colab": {
          "base_uri": "https://localhost:8080/",
          "height": 344
        }
      },
      "source": [
        "import matplotlib.pyplot as plt\n",
        "\n",
        "plt.plot(train_elbo)\n",
        "plt.xlabel(\"Epochs\")\n",
        "plt.ylabel(\"Total Epoch Loss Train\")\n",
        "\n",
        "plt.title(\"ELBO Plot for Train Data\")"
      ],
      "execution_count": 15,
      "outputs": [
        {
          "output_type": "execute_result",
          "data": {
            "text/plain": [
              "Text(0.5, 1.0, 'ELBO Plot for Train Data')"
            ]
          },
          "metadata": {
            "tags": []
          },
          "execution_count": 15
        },
        {
          "output_type": "display_data",
          "data": {
            "image/png": "[encoded data removed]",
            "text/plain": [
              "<Figure size 432x288 with 1 Axes>"
            ]
          },
          "metadata": {
            "tags": [],
            "needs_background": "light"
          }
        }
      ]
    },
    {
      "cell_type": "code",
      "metadata": {
        "id": "_iDqSUYcSuZX",
        "colab_type": "code",
        "outputId": "e20c3322-7ef3-4a4c-a150-872fb31477a6",
        "colab": {
          "base_uri": "https://localhost:8080/",
          "height": 34
        }
      },
      "source": [
        "######LOADING THE SAVED MODEL#############\n",
        "network_path = \"/trained_model.save\"\n",
        "\n",
        "vae=CVAE(use_cuda=USE_CUDA)\n",
        "vae.load_state_dict(torch.load(network_path))"
      ],
      "execution_count": 0,
      "outputs": [
        {
          "output_type": "execute_result",
          "data": {
            "text/plain": [
              "<All keys matched successfully>"
            ]
          },
          "metadata": {
            "tags": []
          },
          "execution_count": 15
        }
      ]
    },
    {
      "cell_type": "markdown",
      "metadata": {
        "id": "aFnfYMd3CqW0",
        "colab_type": "text"
      },
      "source": [
        "## Visualizing the reconstruction accuracy of VAE"
      ]
    },
    {
      "cell_type": "markdown",
      "metadata": {
        "id": "EwNTke9MJy5x",
        "colab_type": "text"
      },
      "source": [
        "Explaination: [2 cells] Checking and comparing original image with the one reconstructed from decoder"
      ]
    },
    {
      "cell_type": "code",
      "metadata": {
        "id": "nIt0T2eUCqW0",
        "colab_type": "code",
        "outputId": "99d3ca80-b552-49cb-dfa7-7603602f376d",
        "colab": {
          "base_uri": "https://localhost:8080/",
          "height": 35
        }
      },
      "source": [
        "import warnings\n",
        "warnings.filterwarnings(\"ignore\")\n",
        "\n",
        "data_iter = iter(data_loaders[\"train\"])\n",
        "\n",
        "xs, ys = next(data_iter)\n",
        "print(xs.shape, ys.shape)\n",
        "if USE_CUDA:\n",
        "    xs = xs.cuda()\n",
        "    ys = ys.cuda()\n",
        "\n",
        "# Call to Reconstruct the Images from the Decoder\n",
        "rs = vae.reconstruct_image(xs, ys)\n",
        "\n",
        "if USE_CUDA:\n",
        "    xs = xs.cpu()\n",
        "    rs = rs.cpu()\n",
        "# Original Image\n",
        "originals = xs.numpy().reshape(-1, 64,64)\n",
        "\n",
        "# Reconstructed Image from VAE\n",
        "recons = rs.reshape(-1,64,64)"
      ],
      "execution_count": 16,
      "outputs": [
        {
          "output_type": "stream",
          "text": [
            "torch.Size([256, 4096]) torch.Size([256, 6])\n"
          ],
          "name": "stdout"
        }
      ]
    },
    {
      "cell_type": "code",
      "metadata": {
        "id": "1YBT2lo7CqW2",
        "colab_type": "code",
        "outputId": "689dc4dd-851c-44a1-9e1a-3b5bdbe2fe65",
        "colab": {
          "base_uri": "https://localhost:8080/",
          "height": 233,
          "referenced_widgets": [
            "4c787d6864b24f1da3048a1762a39565",
            "68c126a6174a4a0bb43c884371ebc181",
            "510978fc8f794ada80b8d9bde64db8ba",
            "cc766b69c6984c6797e91cf6d3a211d2",
            "aa03ddb5e3cd4b3fb2d1cf86afd73f4f",
            "223fc9ae47204b519e34d4c850cd03bb",
            "af66678085bc442ab82f14f530483c2f"
          ]
        }
      },
      "source": [
        "# f(x) plots the given image possibilities that is its variation observed with a given label which here is shape\n",
        "def f(x):\n",
        "    fig = plt.figure()\n",
        "    ax0 = fig.add_subplot(121)\n",
        "    plt.imshow(originals[x], cmap='Greys_r',  interpolation='nearest')\n",
        "    plt.axis('off')\n",
        "    ax1 = fig.add_subplot(122)\n",
        "    plt.imshow(recons[x], cmap='Greys_r',  interpolation='nearest')\n",
        "    plt.axis('off')\n",
        "    \n",
        "interact(f, x=widgets.IntSlider(min=0, max=xs.shape[0]-1, step=1, value=0))"
      ],
      "execution_count": 17,
      "outputs": [
        {
          "output_type": "display_data",
          "data": {
            "application/vnd.jupyter.widget-view+json": {
              "model_id": "4c787d6864b24f1da3048a1762a39565",
              "version_minor": 0,
              "version_major": 2
            },
            "text/plain": [
              "interactive(children=(IntSlider(value=0, description='x', max=255), Output()), _dom_classes=('widget-interact'…"
            ]
          },
          "metadata": {
            "tags": []
          }
        },
        {
          "output_type": "execute_result",
          "data": {
            "text/plain": [
              "<function __main__.f>"
            ]
          },
          "metadata": {
            "tags": []
          },
          "execution_count": 17
        }
      ]
    },
    {
      "cell_type": "markdown",
      "metadata": {
        "id": "Ou1in2mCJICn",
        "colab_type": "text"
      },
      "source": [
        "Explaination: [1 Cell] Sampled Images of the datset- All possible combination of dsprite images\n",
        "(Nothing to do with encoder-decoder or CVAE or anything)"
      ]
    },
    {
      "cell_type": "code",
      "metadata": {
        "id": "EVCzRnuIzNpL",
        "colab_type": "code",
        "outputId": "cd4e2b43-7fe4-40f3-fd78-55df8685bada",
        "colab": {
          "base_uri": "https://localhost:8080/",
          "height": 426,
          "referenced_widgets": [
            "a31408074d014d4c9778fc85a845de78",
            "6dfbfe98cd3548238f9ce938c1432ecc",
            "b90513b915364f0d86ffa8ade6f68bb3",
            "85cd09992f4140f7a64a16c1a6a85160",
            "047fa57da8364539a18954fb4276e816",
            "556313595dbd4fd395dd54a676268ee7",
            "1206f096953d439c9011f6664bffce0c",
            "18cb0a3746d74330b4d0d6436b071c91",
            "e8ad8f2f79fe4cb7b6a4ec056c94e931",
            "c3363d683dc74de29c89a2af593b53ab",
            "a095d912567b4affbb2865058a66ca0d",
            "9b20ab3e883c4fc6adcdfbb5fd2733b0",
            "605064179e7d441ab2c6952510cea91a",
            "0d708dd8ab0c4a79b81d7d9b8022c0f6",
            "ebbad31a50c746de8e9290f16fe7ac38",
            "149f5fd0385b4f93aaa907bba74a87e1",
            "4ff7d3628e524925ac61b0fa0e0f769a",
            "ce0265b2e0774e1fb5ea095582c496bb",
            "cab28c4b71b447d9b9d12dfa45a0fa4b"
          ]
        }
      },
      "source": [
        "y_names = ['shape', 'scale', 'orientation', 'posX', 'posY']\n",
        "y_shapes = np.array((3,6,40,32,32))\n",
        "img_dict = {}\n",
        "\n",
        "for i, img in enumerate(imgs_sampled):\n",
        "     img_dict[tuple(labels_sampled[i])] = img\n",
        "\n",
        "# print(img_dict)\n",
        "def find_in_dataset(shape, scale, orient, posX, posY):\n",
        "  fig = plt.figure()\n",
        "  img = img_dict[(0, shape, scale, orient, posX, posY)]\n",
        "  plt.imshow(img.reshape(64,64), cmap='Greys_r', interpolation='nearest')\n",
        "  plt.axis('off')\n",
        "\n",
        "interact(find_in_dataset, \n",
        "         shape=widgets.IntSlider(min=0, max=2, step=1, value=0),\n",
        "         scale=widgets.IntSlider(min=0, max=5, step=1, value=0),\n",
        "         orient=widgets.IntSlider(min=0, max=39, step=1, value=0),\n",
        "         posX=widgets.IntSlider(min=0, max=31, step=1, value=0),\n",
        "         posY=widgets.IntSlider(min=0, max=31, step=1, value=0))"
      ],
      "execution_count": 18,
      "outputs": [
        {
          "output_type": "display_data",
          "data": {
            "application/vnd.jupyter.widget-view+json": {
              "model_id": "a31408074d014d4c9778fc85a845de78",
              "version_minor": 0,
              "version_major": 2
            },
            "text/plain": [
              "interactive(children=(IntSlider(value=0, description='shape', max=2), IntSlider(value=0, description='scale', …"
            ]
          },
          "metadata": {
            "tags": []
          }
        },
        {
          "output_type": "execute_result",
          "data": {
            "text/plain": [
              "<function __main__.find_in_dataset>"
            ]
          },
          "metadata": {
            "tags": []
          },
          "execution_count": 18
        }
      ]
    },
    {
      "cell_type": "code",
      "metadata": {
        "id": "1EueLb0OzSDm",
        "colab_type": "code",
        "outputId": "e1637ba3-3eb7-4d0a-93fd-a1906009f99a",
        "colab": {
          "base_uri": "https://localhost:8080/",
          "height": 541
        }
      },
      "source": [
        "def get_specific_data(args=dict(), cuda=False):\n",
        "    '''\n",
        "    use this function to get examples of data with specific class labels\n",
        "    inputs: \n",
        "        args - dictionary whose keys can include {shape, scale, orientation,\n",
        "                posX, posY} and values can include any integers less than the \n",
        "                corresponding size of that label dimension\n",
        "        cuda - bool to indicate whether the output should be placed on GPU\n",
        "    '''\n",
        "    \n",
        "    names_dict = {'shape': 1, 'scale': 2, 'orientation': 3, 'posX': 4, 'posY': 5}\n",
        "    selected_ind = np.ones(imgs.shape[0], dtype=bool)\n",
        "    for k,v in args.items():\n",
        "        col_id = names_dict[k]\n",
        "        selected_ind = np.bitwise_and(selected_ind, labels[:, col_id] == v)\n",
        "    # print(selected_ind)\n",
        "    ind = np.random.choice(np.arange(imgs.shape[0])[selected_ind])\n",
        "    # print(ind)\n",
        "    x = torch.from_numpy(imgs[ind].reshape(1,64**2).astype(np.float32))\n",
        "    y = torch.from_numpy(labels[ind].reshape(1,6).astype(np.float32))\n",
        "    if not cuda:\n",
        "        return x,y\n",
        "    x = x.cuda()\n",
        "    y = y.cuda()\n",
        "    return x,y\n",
        "\n",
        "def plot_image(x):\n",
        "    \"\"\"\n",
        "    helper to plot dSprites images\n",
        "    \"\"\"\n",
        "    x = x.cpu()\n",
        "    plt.figure()\n",
        "    plt.imshow(x.reshape(64,64), interpolation='nearest', cmap='Greys_r')\n",
        "    plt.axis('off')\n",
        "\n",
        "def see_specific_image(args=dict(), verbose=True):\n",
        "    '''\n",
        "    use this function to get examples of data with specific class labels\n",
        "    inputs: \n",
        "        args - dictionary whose keys can include {shape, scale, orientation,\n",
        "                posX, posY} and values can include any integers less than the \n",
        "                corresponding size of that label dimension\n",
        "        verbose - bool to indicate whether the full class label should be written \n",
        "                    as the title of the plot\n",
        "    '''\n",
        "    x,y = get_specific_data(args, cuda=False)\n",
        "    plot_image(x)\n",
        "    if verbose:\n",
        "        string = ''\n",
        "        for i, s in enumerate(['Shape', 'Scale', 'Orientation', 'PosX', 'PosY']):\n",
        "            string += '%s: %d, ' % (s, int(y[0][i+1]))\n",
        "            if i == 2:\n",
        "                string = string[:-2] + '\\n'\n",
        "        plt.title(string[:-2], fontsize=12)\n",
        "\n",
        "    \n",
        "def compare_to_density(original, recons):\n",
        "    \"\"\"\n",
        "    compare two images side by side\n",
        "    inputs:\n",
        "        original - array for original image\n",
        "        recon - array of multiple recon images\n",
        "    \"\"\"\n",
        "    fig = plt.figure()\n",
        "    ax0 = fig.add_subplot(121)\n",
        "    plt.imshow(original.cpu().reshape(64,64), cmap='Greys_r',  interpolation='nearest')\n",
        "    plt.axis('off')\n",
        "    plt.title('original')\n",
        "    ax1 = fig.add_subplot(122)\n",
        "    plt.imshow(torch.mean(recons.cpu(), 0).reshape(64,64), cmap='Greys_r',  interpolation='nearest')\n",
        "    plt.axis('off')\n",
        "    plt.title('reconstructions')\n",
        "\n",
        "#See random image\n",
        "see_specific_image()\n",
        "#See specific image        \n",
        "see_specific_image({'shape': 1, 'scale': 3, 'orientation': 3, 'posX': 4, 'posY': 5})"
      ],
      "execution_count": 19,
      "outputs": [
        {
          "output_type": "display_data",
          "data": {
            "image/png": "[encoded data removed]",
            "text/plain": [
              "<Figure size 432x288 with 1 Axes>"
            ]
          },
          "metadata": {
            "tags": [],
            "needs_background": "light"
          }
        },
        {
          "output_type": "display_data",
          "data": {
            "image/png": "[encoded data removed]",
            "text/plain": [
              "<Figure size 432x288 with 1 Axes>"
            ]
          },
          "metadata": {
            "tags": [],
            "needs_background": "light"
          }
        }
      ]
    },
    {
      "cell_type": "code",
      "metadata": {
        "id": "OkB6V4LjESxV",
        "colab_type": "code",
        "outputId": "3df8660e-7fb1-4ada-c068-c5cf3f897b78",
        "colab": {
          "base_uri": "https://localhost:8080/",
          "height": 35
        }
      },
      "source": [
        "label_dims = vae.label_shape\n",
        "label_dim_offsets = np.cumsum(label_dims)\n",
        "label_dim_offsets"
      ],
      "execution_count": 20,
      "outputs": [
        {
          "output_type": "execute_result",
          "data": {
            "text/plain": [
              "array([  1,   4,  10,  50,  82, 114])"
            ]
          },
          "metadata": {
            "tags": []
          },
          "execution_count": 20
        }
      ]
    },
    {
      "cell_type": "markdown",
      "metadata": {
        "id": "YBg2Xc-l6ZJG",
        "colab_type": "text"
      },
      "source": [
        "## Structural Causal Model\n",
        "\n",
        "We implemented a Structural causal model capturing the causal dependencies of the endogenous and exogenous variables in our model. An object of class SCM() takes in 3 arguments, an instance of a VAE, loc of q(z|x) given by the VAE encoder, and the sigma of q(z|x) also given by the VAE encoder. \n",
        "\n",
        "The endogenous variables in our model are of 3 types:-\n",
        " dSprite image(X), \n",
        " \n",
        " labels corresponding to the image(Y), \n",
        " \n",
        " and the latent variable(Z) sampled from a normal distribution with mean and variance returned by the variational autoencoder. Here Y is further subdivided into 5 variables ‘Y_1’, ‘Y_2’, ‘Y_3’, ‘Y_4’, and ‘Y_5’. Each of these variables represents the individual image label. The exogenous variables in our SCM are represented by noises corresponding to each of the endogenous variables with a suffix ‘N_’.\n",
        "\n",
        "There are two main functions in the SCM class:\n",
        "1. model:\n",
        "\n",
        "\n",
        "> This function corresponds to a data generative process. It takes in input as argument the noise variables i.e the exogenous variables and returns X(image), Y(labels), and Z(latents). \n",
        "> It does so by sampling the individual endogenous variables using a normal probability distribution.\n",
        "\n",
        "\n",
        "2. updated_noise_svi\n",
        "\n",
        "\n",
        "> This function takes in as input the labels of an image in the form of a dictionary (obs_data), and an optional intervened model(intervened_model) and returns the exogenous variables or noises corresponding to the images referred by obs_data. \n",
        "\n",
        "> It uses SVI to find out the mu and sigma of the distribution for the conditions outlined in obs_data.\n",
        "\n",
        "It has has a guide function which serves as an approximation to the posterior p(z|x). The guide provides a valid joint probability density over all the latent random variables in the model.\n",
        "\n",
        "Once the guide is specified and the model is conditioned, we move to the inference step. Now, this is an optimization problem where each iteration of training takes a step that moves the guide closer to the exact posterior.\n",
        "\n"
      ]
    },
    {
      "cell_type": "code",
      "metadata": {
        "id": "VXhaIdcBEHnS",
        "colab_type": "code",
        "colab": {}
      },
      "source": [
        "#Explaination: While creating object, takes as input the mu, sigma values generated from an encoder\n",
        "class SCM():\n",
        "    \"\"\"\n",
        "    Structural causal model\n",
        "    \n",
        "    args: \n",
        "      vae: instance of vae\n",
        "      mu: loc of q(z|x) given by the vae encoder\n",
        "      sigma: scale of q(z|x) given by the vae encoder\n",
        "    \n",
        "    \"\"\"\n",
        "    def __init__(self, vae, mu, sigma):\n",
        "        \"\"\"\n",
        "        Constructor\n",
        "        \n",
        "        Intializes :\n",
        "          image dimensions - 4096(64*64), \n",
        "          z dimensions: size of the tensor representing the latent random variable z, \n",
        "          label dimensions: 114 labels y that correspond to an image(one hot encoded)\n",
        "          f(x) = p(x|y,z)\n",
        "          Noise variables in the model N_#\n",
        "        \"\"\"\n",
        "        self.vae = vae\n",
        "        self.image_dim = vae.image_dim\n",
        "        self.z_dim = vae.z_dim\n",
        "        # these are used for f_X\n",
        "        self.label_dims = vae.label_shape\n",
        "        \n",
        "        def f_X(Y, Z, N):\n",
        "            \"\"\"\n",
        "            Generating one hots for the factors\n",
        "            \"\"\" \n",
        "            zs = Z.cuda()\n",
        "            # convert the labels to one hot\n",
        "            ys = [torch.tensor([0])]\n",
        "            ys.append(torch.nn.functional.one_hot(torch.round(Y[0]).to(torch.long), int(self.label_dims[1])))\n",
        "            ys.append(torch.nn.functional.one_hot(torch.round(Y[1]).to(torch.long), int(self.label_dims[2])))\n",
        "            ys.append(torch.nn.functional.one_hot(torch.round(Y[2]).to(torch.long), int(self.label_dims[3])))\n",
        "            ys.append(torch.nn.functional.one_hot(torch.round(Y[3]).to(torch.long), int(self.label_dims[4])))\n",
        "            ys.append(torch.nn.functional.one_hot(torch.round(Y[4]).to(torch.long), int(self.label_dims[5])))\n",
        "            ys = torch.cat(ys).to(torch.float32).reshape(1,-1).cuda()\n",
        "            p = vae.decoder.forward(zs, ys)\n",
        "            return (N < p.cpu()).type(torch.float)\n",
        "        \n",
        "        def f_Y(N):\n",
        "            \"\"\"\n",
        "            Gumbel distribution - to model the distribution of the maximum of a number of samples\n",
        "            m = Gumbel(torch.tensor([1.0]), torch.tensor([2.0])).sample() # sample from Gumbel distribution with loc=1, scale=2\n",
        "            tensor([ 1.0124])\n",
        "            \n",
        "            https://pytorch.org/docs/stable/_modules/torch/distributions/gumbel.html\n",
        "            \"\"\"\n",
        "            beta = 12\n",
        "            indices = torch.tensor(np.arange(N.size(0))).to(torch.float32)\n",
        "            smax = nn.functional.softmax(beta*N)\n",
        "            argmax_ind = torch.sum(smax*indices)\n",
        "            return argmax_ind\n",
        "        \n",
        "        def f_Z(N):\n",
        "            \"\"\"\n",
        "            Z ~ Normal(mu, sigma) \n",
        "            \"\"\"\n",
        "            return N * sigma + mu\n",
        "        \n",
        "        def model(noise): \n",
        "            \"\"\"\n",
        "            The model corresponds to a generative process\n",
        "            \n",
        "            args: noise variables\n",
        "            return: X(image), Y(labels), Z(latents) \n",
        "            \"\"\"\n",
        "            N_X = pyro.sample( 'N_X', noise['N_X'].to_event(1) )\n",
        "            # denoted using the index in the sequence \n",
        "            # that they are stored in as vae.label_names:\n",
        "            # ['shape', 'scale', 'orientation', 'posX', 'posY']\n",
        "            N_Y_1 = pyro.sample( 'N_Y_1', noise['N_Y_1'].to_event(1) )\n",
        "            N_Y_2 = pyro.sample( 'N_Y_2', noise['N_Y_2'].to_event(1) )\n",
        "            N_Y_3 = pyro.sample( 'N_Y_3', noise['N_Y_3'].to_event(1) )\n",
        "            N_Y_4 = pyro.sample( 'N_Y_4', noise['N_Y_4'].to_event(1) )\n",
        "            N_Y_5 = pyro.sample( 'N_Y_5', noise['N_Y_5'].to_event(1) )\n",
        "            \n",
        "            # Z ~ Normal(Nx_mu, Nx_sigma)              \n",
        "            N_Z = pyro.sample( 'N_Z', noise['N_Z'].to_event(1) )\n",
        "            Z = pyro.sample('Z', dist.Normal( f_Z( N_Z ), 1e-1).to_event(1) )\n",
        "       \n",
        "            Y_1 = pyro.sample('Y_1', dist.Normal( f_Y(N_Y_1), 1e-2) )\n",
        "            Y_2 = pyro.sample('Y_2', dist.Normal( f_Y(N_Y_2), 1e-1) )\n",
        "            Y_3 = pyro.sample('Y_3', dist.Normal( f_Y(N_Y_3), 1e-1) )\n",
        "            Y_4 = pyro.sample('Y_4', dist.Normal( f_Y(N_Y_4), 1e-1) )\n",
        "            Y_5 = pyro.sample('Y_5', dist.Normal( f_Y(N_Y_5), 1e-1) )\n",
        "            \n",
        "            \n",
        "            # X ~ p(x|y,z) = bernoulli(loc(y,z))             \n",
        "            X = pyro.sample('X', dist.Normal( f_X( (Y_1, Y_2, Y_3,Y_4,Y_5), Z, N_X ), 1e-2).to_event(1))\n",
        "            \n",
        "            # return noise and variables\n",
        "            noise_samples = N_X, (N_Y_1, N_Y_2, N_Y_3, N_Y_4, N_Y_5), N_Z\n",
        "            variable_samples = X, (Y_1, Y_2, Y_3, Y_4, Y_5), Z\n",
        "            return variable_samples, noise_samples\n",
        "        \n",
        "        self.model = model\n",
        "        #Initialize all noise variables in the model         \n",
        "        self.init_noise = {\n",
        "            'N_X'   : dist.Uniform(torch.zeros(vae.image_dim), torch.ones(vae.image_dim)),\n",
        "            'N_Z'   : dist.Normal(torch.zeros(vae.z_dim), torch.ones(vae.z_dim)),\n",
        "            'N_Y_1' : dist.Uniform(torch.zeros(self.label_dims[1]),torch.ones(self.label_dims[1])),\n",
        "            'N_Y_2' : dist.Uniform(torch.zeros(self.label_dims[2]),torch.ones(self.label_dims[2])),\n",
        "            'N_Y_3' : dist.Uniform(torch.zeros(self.label_dims[3]),torch.ones(self.label_dims[3])),\n",
        "            'N_Y_4' : dist.Uniform(torch.zeros(self.label_dims[4]),torch.ones(self.label_dims[4])),\n",
        "            'N_Y_5' : dist.Uniform(torch.zeros(self.label_dims[5]),torch.ones(self.label_dims[5]))            \n",
        "        }\n",
        "        \n",
        "    def update_noise_svi(self, obs_data, intervened_model=None):\n",
        "        \"\"\"\n",
        "        Use svi to find out the mu, sigma of the distributions for the \n",
        "        condition outlined in obs_data\n",
        "        \"\"\"\n",
        "        \n",
        "        def guide(noise):\n",
        "            \"\"\"\n",
        "            The guide serves as an approximation to the posterior p(z|x). \n",
        "            The guide provides a valid joint probability density over all the \n",
        "            latent random variables in the model.\n",
        "            \n",
        "            https://pyro.ai/examples/svi_part_i.html\n",
        "            \"\"\"\n",
        "            # create params with constraints\n",
        "            mu = {\n",
        "                'N_X': pyro.param('N_X_mu', 0.5*torch.ones(self.image_dim),constraint = constraints.interval(0., 1.)),\n",
        "                'N_Z': pyro.param('N_Z_mu', torch.zeros(self.z_dim),constraint = constraints.interval(-3., 3.)),\n",
        "                'N_Y_1': pyro.param('N_Y_1_mu', 0.5*torch.ones(self.label_dims[1]),constraint = constraints.interval(0., 1.)),\n",
        "                'N_Y_2': pyro.param('N_Y_2_mu', 0.5*torch.ones(self.label_dims[2]),constraint = constraints.interval(0., 1.)),\n",
        "                'N_Y_3': pyro.param('N_Y_3_mu', 0.5*torch.ones(self.label_dims[3]),constraint = constraints.interval(0., 1.)),\n",
        "                'N_Y_4': pyro.param('N_Y_4_mu', 0.5*torch.ones(self.label_dims[4]),constraint = constraints.interval(0., 1.)),\n",
        "                'N_Y_5': pyro.param('N_Y_5_mu', 0.5*torch.ones(self.label_dims[5]),constraint = constraints.interval(0., 1.))\n",
        "                }\n",
        "            sigma = {\n",
        "                'N_X': pyro.param('N_X_sigma', 0.1*torch.ones(self.image_dim),constraint = constraints.interval(0.0001, 0.5)),\n",
        "                'N_Z': pyro.param('N_Z_sigma', torch.ones(self.z_dim),constraint = constraints.interval(0.0001, 3.)),\n",
        "                'N_Y_1': pyro.param('N_Y_1_sigma', 0.1*torch.ones(self.label_dims[1]),constraint = constraints.interval(0.0001, 0.5)),\n",
        "                'N_Y_2': pyro.param('N_Y_2_sigma', 0.1*torch.ones(self.label_dims[2]),constraint = constraints.interval(0.0001, 0.5)),\n",
        "                'N_Y_3': pyro.param('N_Y_3_sigma', 0.1*torch.ones(self.label_dims[3]),constraint = constraints.interval(0.0001, 0.5)),\n",
        "                'N_Y_4': pyro.param('N_Y_4_sigma', 0.1*torch.ones(self.label_dims[4]),constraint = constraints.interval(0.0001, 0.5)),\n",
        "                'N_Y_5': pyro.param('N_Y_5_sigma', 0.1*torch.ones(self.label_dims[5]),constraint = constraints.interval(0.0001, 0.5))\n",
        "                }\n",
        "            for noise_term in noise.keys():\n",
        "                pyro.sample(noise_term, dist.Normal(mu[noise_term], sigma[noise_term]).to_event(1))\n",
        "        \n",
        "        # Condition the model\n",
        "        if intervened_model is not None:\n",
        "          obs_model = pyro.condition(intervened_model, obs_data)\n",
        "        else:\n",
        "          obs_model = pyro.condition(self.model, obs_data)\n",
        "          \n",
        "        pyro.clear_param_store()\n",
        "\n",
        "        # Once we’ve specified a guide, we’re ready to proceed to inference. \n",
        "        # Now, this an optimization problem where each iteration of training takes  \n",
        "        # a step that moves the guide closer to the exact posterior \n",
        "        \n",
        "        # https://arxiv.org/pdf/1601.00670.pdf\n",
        "        svi = SVI(\n",
        "            model= obs_model,\n",
        "            guide= guide,\n",
        "            optim= SGD({\"lr\": 1e-5, 'momentum': 0.1}),\n",
        "            loss=Trace_ELBO(retain_graph=True)\n",
        "        )\n",
        "        \n",
        "        num_steps = 1500\n",
        "        samples = defaultdict(list)\n",
        "        for t in range(num_steps):\n",
        "            loss = svi.step(self.init_noise)\n",
        "            for noise in self.init_noise.keys():\n",
        "                mu = '{}_mu'.format(noise)\n",
        "                sigma = '{}_sigma'.format(noise)\n",
        "                samples[mu].append(pyro.param(mu).detach().numpy())\n",
        "                samples[sigma].append(pyro.param(sigma).detach().numpy())\n",
        "        means = {k: torch.tensor(np.array(v).mean(axis=0)) for k, v in samples.items()}\n",
        "        \n",
        "        # update the inferred noise\n",
        "        updated_noise = {\n",
        "            'N_X'  : dist.Normal(means['N_X_mu'], means['N_X_sigma']),\n",
        "            'N_Z'  : dist.Normal(means['N_Z_mu'], means['N_Z_sigma']),\n",
        "            'N_Y_1': dist.Normal(means['N_Y_1_mu'], means['N_Y_1_sigma']),\n",
        "            'N_Y_2': dist.Normal(means['N_Y_2_mu'], means['N_Y_2_sigma']),\n",
        "            'N_Y_3': dist.Normal(means['N_Y_3_mu'], means['N_Y_3_sigma']),\n",
        "            'N_Y_4': dist.Normal(means['N_Y_4_mu'], means['N_Y_4_sigma']),\n",
        "            'N_Y_5': dist.Normal(means['N_Y_5_mu'], means['N_Y_5_sigma']),\n",
        "        }\n",
        "        return updated_noise\n",
        "        \n",
        "    def __call__(self):\n",
        "        return self.model(self.init_noise)"
      ],
      "execution_count": 0,
      "outputs": []
    },
    {
      "cell_type": "markdown",
      "metadata": {
        "id": "lk7vAe8byP5G",
        "colab_type": "text"
      },
      "source": [
        "### Sanity Check on Working of CVAE\n",
        "\n",
        "##Sanity Check [1]\n",
        "\n",
        "Description - Make sure that the VAE is working properly. We will do this by generating a single image from the dataset and reconstructing it using sampling from VAE.\n",
        "\n",
        "From the results in  the figure attached, we can observe that the Sanity Check [1] passed as we were able to generate the exact same image using the CVAE."
      ]
    },
    {
      "cell_type": "code",
      "metadata": {
        "id": "TDI4enwfEPCY",
        "colab_type": "code",
        "outputId": "9d263c4b-b452-4672-fc8b-12c3719acbf9",
        "colab": {
          "base_uri": "https://localhost:8080/",
          "height": 532
        }
      },
      "source": [
        "# Generate an instance of dSprites image \n",
        "ox, y = get_specific_data(cuda=True)\n",
        "# Pass it through VAE to get q(z|x) => N(mu, sigma)\n",
        "mu, sigma = vae.encoder.forward(ox,vae.remap_y(y))\n",
        "# Feed these params to our custom SCM\n",
        "scm = SCM(vae, mu.cpu(), sigma.cpu())\n",
        "string = ''\n",
        "for i, s in enumerate(['Shape', 'Scale', 'Orientation', 'PosX', 'PosY']):\n",
        "    string += '%s: %d, ' % (s, int(y[0][i+1]))\n",
        "    if i == 2:\n",
        "        string = string[:-2] + '\\n'\n",
        "plot_image(ox)\n",
        "plt.title(string[:-2], fontsize=12)\n",
        "plt.show()\n",
        "# Check for reconstruction\n",
        "zs = dist.Normal(mu.cpu(), sigma.cpu()).to_event(1).sample()\n",
        "loc = vae.decoder.forward(zs.cuda(), vae.remap_y(y))\n",
        "recon = dist.Bernoulli(loc).to_event(1).sample()\n",
        "recon = recon.reshape(64,64)\n",
        "plt.imshow(recon.cpu(), cmap='Greys_r',  interpolation='nearest')\n",
        "plt.axis('off')\n",
        "plt.title('Reconstructed image')\n",
        "plt.show()"
      ],
      "execution_count": 22,
      "outputs": [
        {
          "output_type": "display_data",
          "data": {
            "image/png": "[encoded data removed]",
            "text/plain": [
              "<Figure size 432x288 with 1 Axes>"
            ]
          },
          "metadata": {
            "tags": [],
            "needs_background": "light"
          }
        },
        {
          "output_type": "display_data",
          "data": {
            "image/png": "[encoded data removed]",
            "text/plain": [
              "<Figure size 432x288 with 1 Axes>"
            ]
          },
          "metadata": {
            "tags": [],
            "needs_background": "light"
          }
        }
      ]
    },
    {
      "cell_type": "markdown",
      "metadata": {
        "id": "B1rkIEyL-357",
        "colab_type": "text"
      },
      "source": [
        "### Sanity Check [2]\n",
        "Description - To ensure proper functioning of the decoder, by checking the decoder is able to generate the images if the latents are changed manually. We will implement this by manually changing the latents in the code and run it through the decoder and check for the reconstruction.\n",
        "\n",
        " From the results attached in the figure, we can observe that we manually changed the shape of the original image from square to an oval, the decoder worked well and generated an oval without changing any other latent variable for the original image.\n",
        "\n"
      ]
    },
    {
      "cell_type": "code",
      "metadata": {
        "id": "1CcO36iqEf_T",
        "colab_type": "code",
        "outputId": "cd8aedac-1a0c-4eb7-d7b9-d23b60ec94db",
        "colab": {
          "base_uri": "https://localhost:8080/",
          "height": 635
        }
      },
      "source": [
        "original, y_original = get_specific_data(cuda=True)\n",
        "print('top original image with no change: ',y_original)\n",
        "mu, sigma = vae.encoder.forward(original,vae.remap_y(y_original))\n",
        "B = 100\n",
        "#Explaination: here zs is being sampled 100 times with new values from distribution\n",
        "zs = torch.cat([dist.Normal(mu.cpu(), sigma.cpu()).sample() for a in range(B)], 0)\n",
        "#Explaination: here ys is being repeatedly 100 times assigned the same value\n",
        "ys = torch.cat([vae.remap_y(y_original) for a in range(B)], 0)\n",
        "rs = vae.decoder.forward(zs.cuda(), ys).detach()\n",
        "compare_to_density(original,rs)\n",
        "\n",
        "y_new = torch.tensor(y_original)\n",
        "\n",
        "y_new[0,1] = (y_original[0,1] + 1) % 2\n",
        "print('Middle with change in shape: ', y_new)\n",
        "zs = torch.cat([dist.Normal(mu.cpu(), sigma.cpu()).sample() for a in range(B)], 0)\n",
        "ys = torch.cat([vae.remap_y(y_new) for a in range(B)], 0)\n",
        "rs = vae.decoder.forward(zs.cuda(), ys).detach()\n",
        "compare_to_density(original,rs)\n",
        "\n",
        "\n",
        "y_new[0,3] = (y_original[0,3] + 1) % 2\n",
        "print('bottom with change in Orientation: ', y_new)\n",
        "zs = torch.cat([dist.Normal(mu.cpu(), sigma.cpu()).sample() for a in range(B)], 0)\n",
        "ys = torch.cat([vae.remap_y(y_new) for a in range(B)], 0)\n",
        "rs = vae.decoder.forward(zs.cuda(), ys).detach()\n",
        "compare_to_density(original,rs)\n"
      ],
      "execution_count": 23,
      "outputs": [
        {
          "output_type": "stream",
          "text": [
            "top original image with no change:  tensor([[ 0.,  1.,  0., 34.,  4., 12.]], device='cuda:0')\n",
            "Middle with change in shape:  tensor([[ 0.,  0.,  0., 34.,  4., 12.]], device='cuda:0')\n",
            "bottom with change in Orientation:  tensor([[ 0.,  0.,  0.,  1.,  4., 12.]], device='cuda:0')\n"
          ],
          "name": "stdout"
        },
        {
          "output_type": "display_data",
          "data": {
            "image/png": "[encoded data removed]",
            "text/plain": [
              "<Figure size 432x288 with 2 Axes>"
            ]
          },
          "metadata": {
            "tags": [],
            "needs_background": "light"
          }
        },
        {
          "output_type": "display_data",
          "data": {
            "image/png": "[encoded data removed]",
            "text/plain": [
              "<Figure size 432x288 with 2 Axes>"
            ]
          },
          "metadata": {
            "tags": [],
            "needs_background": "light"
          }
        },
        {
          "output_type": "display_data",
          "data": {
            "image/png": "[encoded data removed]",
            "text/plain": [
              "<Figure size 432x288 with 2 Axes>"
            ]
          },
          "metadata": {
            "tags": [],
            "needs_background": "light"
          }
        }
      ]
    },
    {
      "cell_type": "markdown",
      "metadata": {
        "id": "V8jvyv_2DjAb",
        "colab_type": "text"
      },
      "source": [
        "From the two sanity checks we ensured that the CVAE model and the Encoder and Decoder both are working well, and thus we can use them for performing Causal Variational Inference on the model.\n"
      ]
    },
    {
      "cell_type": "markdown",
      "metadata": {
        "id": "fCCQpxRaATA9",
        "colab_type": "text"
      },
      "source": [
        "### Causal Inferences\n",
        "\n",
        "> ### SCM Reconstruction\n",
        "First, we checked whether SCM is working properly or not by taking a randomly generated image and trying to reconstruct it by making use of SCM functions. \n",
        "\n",
        "> For this, we first generated a random image and tried to capture its label in a dictionary.\n",
        "\n",
        "> We then passed the image and its label through the trained VAE object to get it’s mean and variance. \n",
        "\n",
        "> Using this mean and variance we created an object of SCM class. The label dictionary is passed to the update_noise_svi to capture the noise of the input image. \n",
        "\n",
        "> This output noise is then passed to the model class to regenerate it. This reconstruction is sampled 1000 times and is displayed using the compare_to_density function.\n"
      ]
    },
    {
      "cell_type": "code",
      "metadata": {
        "id": "HBZWyiXGAfVp",
        "colab_type": "code",
        "outputId": "aa06b8ee-723c-4cb7-ff4d-7518bc77092f",
        "colab": {
          "base_uri": "https://localhost:8080/",
          "height": 35
        }
      },
      "source": [
        "#Getting original image\n",
        "scm_x, scm_y = get_specific_data(cuda=True)\n",
        "scm_cond_data = {}\n",
        "for i in range(1, 6):\n",
        "    scm_cond_data[\"Y_{}\".format(i)] = torch.tensor(scm_y[0,i].cpu()).to(torch.float32)\n",
        "# Pass it through VAE to get q(z|x) => N(mu, sigma)\n",
        "scm_mu, scm_sigma = vae.encoder.forward(scm_x,vae.remap_y(scm_y))\n",
        "# Feed these params to our custom SCM\n",
        "scm = SCM(vae, scm_mu.cpu(), scm_sigma.cpu())\n",
        "#infer Noise variables from original image\n",
        "scm_cond_noise = scm.update_noise_svi(scm_cond_data) \n",
        "print(scm_cond_data)"
      ],
      "execution_count": 24,
      "outputs": [
        {
          "output_type": "stream",
          "text": [
            "{'Y_1': tensor(1.), 'Y_2': tensor(1.), 'Y_3': tensor(22.), 'Y_4': tensor(5.), 'Y_5': tensor(30.)}\n"
          ],
          "name": "stdout"
        }
      ]
    },
    {
      "cell_type": "code",
      "metadata": {
        "id": "1FKqDpsbAfY2",
        "colab_type": "code",
        "colab": {
          "base_uri": "https://localhost:8080/",
          "height": 245
        },
        "outputId": "de7007e8-7b3e-448e-a708-54ec1e99e070"
      },
      "source": [
        "#Sampling prediction on 1000 images\n",
        "scm_rxs = []\n",
        "for i in range(1000):\n",
        "     (scm_rx,scm_ry,_), _= scm.model(scm_cond_noise)\n",
        "     scm_rxs.append(scm_rx)\n",
        "compare_to_density(scm_x, torch.cat(scm_rxs))\n",
        "_ =plt.suptitle(\"SCM Reconstructed Image\", fontsize=18, fontstyle='italic')"
      ],
      "execution_count": 25,
      "outputs": [
        {
          "output_type": "display_data",
          "data": {
            "image/png": "[encoded data removed]",
            "text/plain": [
              "<Figure size 432x288 with 2 Axes>"
            ]
          },
          "metadata": {
            "tags": [],
            "needs_background": "light"
          }
        }
      ]
    },
    {
      "cell_type": "markdown",
      "metadata": {
        "id": "XuY3BvkZAoAw",
        "colab_type": "text"
      },
      "source": [
        "### SCM Conditioning\n",
        "\n",
        "In order to check the causal inference of conditioning is working on SCM, we take a randomly generated image and try to generate reconstructions of this image by passing them through a conditioned model, we achieve this by making use of SCM an object of SCM class.\n",
        "\n",
        "For this, we first generate a random image and try to capture its label in a dictionary. We then passed the image and its label through the trained VAE object to get it’s mean and variance. Using this mean and variance we created an object of SCM class. \n",
        "\n",
        "The label dictionary is passed to the update_noise_svi to capture the noise of the input image. Then a conditioned model is created by applying pyro.condition to the object of SCM class. \n",
        "\n",
        "The output noise is then passed to the conditioned model class to regenerate new images. This reconstruction is sampled 1000 times and is displayed using the compare_to_density function.\n"
      ]
    },
    {
      "cell_type": "code",
      "metadata": {
        "id": "6mE2GramAsX_",
        "colab_type": "code",
        "colab": {
          "base_uri": "https://localhost:8080/",
          "height": 35
        },
        "outputId": "8c6ef3f0-dac8-4311-fd2a-268fb0961fbf"
      },
      "source": [
        "#Getting original image\n",
        "scm_x, scm_y = get_specific_data(cuda=True)\n",
        "scm_cond_data = {}\n",
        "for i in range(1, 6):\n",
        "    scm_cond_data[\"Y_{}\".format(i)] = torch.tensor(scm_y[0,i].cpu()).to(torch.float32)\n",
        "# Pass it through VAE to get q(z|x) => N(mu, sigma)\n",
        "scm_mu, scm_sigma = vae.encoder.forward(scm_x,vae.remap_y(scm_y))\n",
        "# Feed these params to our custom SCM\n",
        "scm = SCM(vae, scm_mu.cpu(), scm_sigma.cpu())\n",
        "#infer Noise variables from original image\n",
        "scm_cond_noise = scm.update_noise_svi(scm_cond_data) \n",
        "print(scm_cond_data)"
      ],
      "execution_count": 26,
      "outputs": [
        {
          "output_type": "stream",
          "text": [
            "{'Y_1': tensor(0.), 'Y_2': tensor(5.), 'Y_3': tensor(17.), 'Y_4': tensor(28.), 'Y_5': tensor(26.)}\n"
          ],
          "name": "stdout"
        }
      ]
    },
    {
      "cell_type": "code",
      "metadata": {
        "id": "tBFypE2LAsbp",
        "colab_type": "code",
        "colab": {
          "base_uri": "https://localhost:8080/",
          "height": 245
        },
        "outputId": "96d38f78-64c0-4aad-d36f-4ebd7d91f3c9"
      },
      "source": [
        "# Conditioning on Scale\n",
        "conditioned_model = pyro.condition(scm.model, data={\n",
        "    # \"Y_1\": torch.tensor(2.),\n",
        "    \"Y_2\": torch.tensor(5.),\n",
        "    # \"Y_3\": torch.tensor(2.),\n",
        "    # \"Y_4\": torch.tensor(5.),\n",
        "    # \"Y_5\": torch.tensor(25.),\n",
        "})\n",
        "#Sampling prediction on 1000 images\n",
        "scm_rxs = []\n",
        "for i in range(1000):\n",
        "     (scm_rx,scm_ry,_), _= conditioned_model(scm_cond_noise)\n",
        "     scm_rxs.append(scm_rx)\n",
        "compare_to_density(scm_x, torch.cat(scm_rxs))\n",
        "_ =plt.suptitle(\"SCM conditioned on scale\", fontsize=18, fontstyle='italic')"
      ],
      "execution_count": 27,
      "outputs": [
        {
          "output_type": "display_data",
          "data": {
            "image/png": "[encoded data removed]",
            "text/plain": [
              "<Figure size 432x288 with 2 Axes>"
            ]
          },
          "metadata": {
            "tags": [],
            "needs_background": "light"
          }
        }
      ]
    },
    {
      "cell_type": "markdown",
      "metadata": {
        "id": "Y4UZvAd0A0tH",
        "colab_type": "text"
      },
      "source": [
        "### SCM Counterfactual Interventions\n",
        "\n",
        "In this causal inference, we try to capture the twin world counterfactual on the dSprite image dataset by making use of exogenous and endogenous variables using an SCM class object. First of all, we generate a random image and then try to capture its label in a dictionary. \n"
      ]
    },
    {
      "cell_type": "code",
      "metadata": {
        "id": "dkpdYxaDA4pC",
        "colab_type": "code",
        "colab": {
          "base_uri": "https://localhost:8080/",
          "height": 35
        },
        "outputId": "a00d09e4-4f6f-480e-aa1c-b096b0eab161"
      },
      "source": [
        "#Getting original image\n",
        "scm_x, scm_y = get_specific_data(cuda=True)\n",
        "scm_cond_data = {}\n",
        "for i in range(1, 6):\n",
        "    scm_cond_data[\"Y_{}\".format(i)] = torch.tensor(scm_y[0,i].cpu()).to(torch.float32)\n",
        "# Pass it through VAE to get q(z|x) => N(mu, sigma)\n",
        "scm_mu, scm_sigma = vae.encoder.forward(scm_x,vae.remap_y(scm_y))\n",
        "# Feed these params to our custom SCM\n",
        "scm = SCM(vae, scm_mu.cpu(), scm_sigma.cpu())\n",
        "#infer Noise variables from original image\n",
        "scm_cond_noise = scm.update_noise_svi(scm_cond_data) \n",
        "print(scm_cond_data)"
      ],
      "execution_count": 28,
      "outputs": [
        {
          "output_type": "stream",
          "text": [
            "{'Y_1': tensor(2.), 'Y_2': tensor(2.), 'Y_3': tensor(25.), 'Y_4': tensor(0.), 'Y_5': tensor(22.)}\n"
          ],
          "name": "stdout"
        }
      ]
    },
    {
      "cell_type": "code",
      "metadata": {
        "id": "V145WCO_A4sR",
        "colab_type": "code",
        "colab": {
          "base_uri": "https://localhost:8080/",
          "height": 245
        },
        "outputId": "3298628f-7195-4d39-8045-186a68c18b8a"
      },
      "source": [
        "# Intervening on PositionX and PositionY\n",
        "intervened_model = pyro.do(scm.model, data={\n",
        "    # \"Y_1\": torch.tensor(2.),\n",
        "    # \"Y_2\": torch.tensor(5.),\n",
        "    # \"Y_3\": torch.tensor(2.),\n",
        "    \"Y_4\": torch.tensor(31.),\n",
        "    \"Y_5\": torch.tensor(31.),\n",
        "})\n",
        "#Sampling prediction on 1000 images\n",
        "scm_rxs = []\n",
        "for i in range(1000):\n",
        "     (scm_rx,scm_ry,_), _= intervened_model(scm_cond_noise)\n",
        "     scm_rxs.append(scm_rx)\n",
        "compare_to_density(scm_x, torch.cat(scm_rxs))\n",
        "_ =plt.suptitle(\"SCM intervened on positionX and positionY\", fontsize=18, fontstyle='italic')"
      ],
      "execution_count": 29,
      "outputs": [
        {
          "output_type": "display_data",
          "data": {
            "image/png": "[encoded data removed]",
            "text/plain": [
              "<Figure size 432x288 with 2 Axes>"
            ]
          },
          "metadata": {
            "tags": [],
            "needs_background": "light"
          }
        }
      ]
    },
    {
      "cell_type": "markdown",
      "metadata": {
        "id": "ol8WUkIzBx4B",
        "colab_type": "text"
      },
      "source": [
        "### SCM Counterfactuals"
      ]
    },
    {
      "cell_type": "markdown",
      "metadata": {
        "id": "4AzdESGhPVkl",
        "colab_type": "text"
      },
      "source": [
        "##### Original image"
      ]
    },
    {
      "cell_type": "code",
      "metadata": {
        "id": "JNR-54S6D378",
        "colab_type": "code",
        "outputId": "264b4836-dcd5-4cb4-e0f7-8db2d1c880e4",
        "colab": {
          "base_uri": "https://localhost:8080/",
          "height": 288
        }
      },
      "source": [
        "# Generate an instance of dSprites image \n",
        "x_original, y_original = get_specific_data(cuda=True)\n",
        "print('Original Labels:', y_original)\n",
        "plot_image(x_original)\n",
        "plt.title(\"Original Image\")\n",
        "plt.show()"
      ],
      "execution_count": 30,
      "outputs": [
        {
          "output_type": "stream",
          "text": [
            "Original Labels: tensor([[ 0.,  2.,  5., 27., 17., 14.]], device='cuda:0')\n"
          ],
          "name": "stdout"
        },
        {
          "output_type": "display_data",
          "data": {
            "image/png": "[encoded data removed]",
            "text/plain": [
              "<Figure size 432x288 with 1 Axes>"
            ]
          },
          "metadata": {
            "tags": [],
            "needs_background": "light"
          }
        }
      ]
    },
    {
      "cell_type": "code",
      "metadata": {
        "id": "6CKPpO0pETCl",
        "colab_type": "code",
        "outputId": "a1163ae4-a6f0-4f16-9c68-5238294d0407",
        "colab": {
          "base_uri": "https://localhost:8080/",
          "height": 35
        }
      },
      "source": [
        "#Creating a conditional variable of Noise variables for the abduction step\n",
        "original_cond_data = {}\n",
        "for i in range(1, 6):\n",
        "    original_cond_data[\"Y_{}\".format(i)] = torch.tensor(y_original[0,i].cpu()).to(torch.float32)\n",
        "print(\"original_cond_data:\", original_cond_data)"
      ],
      "execution_count": 31,
      "outputs": [
        {
          "output_type": "stream",
          "text": [
            "original_cond_data: {'Y_1': tensor(2.), 'Y_2': tensor(5.), 'Y_3': tensor(27.), 'Y_4': tensor(17.), 'Y_5': tensor(14.)}\n"
          ],
          "name": "stdout"
        }
      ]
    },
    {
      "cell_type": "markdown",
      "metadata": {
        "id": "JL_mM5DpP5yc",
        "colab_type": "text"
      },
      "source": [
        "We applied counterfactual interventions on the input image in 3 steps -\n",
        "### Abduction step\n",
        "In this step, we passed the image and its label through the trained VAE object to get it’s mean and variance. Using this mean and variance we created an object of SCM class. The label dictionary is then passed to the update_noise_svi to capture the noise of the input image.\n"
      ]
    },
    {
      "cell_type": "code",
      "metadata": {
        "id": "-oEOiDutE5Ay",
        "colab_type": "code",
        "outputId": "3d901d72-7f7e-4be2-e6c0-3d4c26f5bdd7",
        "colab": {
          "base_uri": "https://localhost:8080/",
          "height": 55
        }
      },
      "source": [
        "# Pass it through VAE to get q(z|x) => N(mu, sigma)\n",
        "mu, sigma = vae.encoder.forward(x_original,vae.remap_y(y_original))\n",
        "# Feed these params to our custom SCM\n",
        "scm = SCM(vae, mu.cpu(), sigma.cpu())\n",
        "#infer Noise variables from original image\n",
        "infer_cond_noise = scm.update_noise_svi(original_cond_data) \n",
        "print(infer_cond_noise)"
      ],
      "execution_count": 32,
      "outputs": [
        {
          "output_type": "stream",
          "text": [
            "{'N_X': Normal(loc: torch.Size([4096]), scale: torch.Size([4096])), 'N_Z': Normal(loc: torch.Size([50]), scale: torch.Size([50])), 'N_Y_1': Normal(loc: torch.Size([3]), scale: torch.Size([3])), 'N_Y_2': Normal(loc: torch.Size([6]), scale: torch.Size([6])), 'N_Y_3': Normal(loc: torch.Size([40]), scale: torch.Size([40])), 'N_Y_4': Normal(loc: torch.Size([32]), scale: torch.Size([32])), 'N_Y_5': Normal(loc: torch.Size([32]), scale: torch.Size([32]))}\n"
          ],
          "name": "stdout"
        }
      ]
    },
    {
      "cell_type": "code",
      "metadata": {
        "id": "qY3M4O0LUDBr",
        "colab_type": "code",
        "outputId": "33a43e05-a261-46ac-b2fd-b52be34a0b56",
        "colab": {
          "base_uri": "https://localhost:8080/",
          "height": 392
        }
      },
      "source": [
        "# Printing the inferred noise variables\n",
        "cf_noise_data = {}\n",
        "for term, d in infer_cond_noise.items():\n",
        "  cf_noise_data[term] = d.loc\n",
        "print(cf_noise_data)"
      ],
      "execution_count": 33,
      "outputs": [
        {
          "output_type": "stream",
          "text": [
            "{'N_X': tensor([0.5000, 0.5000, 0.5000,  ..., 0.5000, 0.5000, 0.5000]), 'N_Z': tensor([ 2.4133e-04,  5.3015e-04, -8.4128e-06, -2.5820e-04, -9.7703e-04,\n",
            "         3.8525e-04,  1.0851e-03, -1.7011e-04,  4.9608e-04, -8.8183e-04,\n",
            "        -6.7435e-04, -2.1240e-04,  2.4444e-04,  1.6723e-04, -8.6025e-04,\n",
            "         8.3443e-04, -8.1638e-04, -1.0827e-03,  2.1475e-04,  7.3251e-04,\n",
            "         1.0274e-04,  5.5848e-04, -6.5973e-04, -3.0053e-04, -6.7984e-04,\n",
            "        -1.4534e-03, -3.2754e-04,  2.8519e-04,  4.7615e-05, -9.5064e-04,\n",
            "        -5.1816e-04,  3.0870e-04,  8.8582e-04,  3.3348e-04, -1.3739e-04,\n",
            "         2.6292e-04, -1.0522e-03,  6.2258e-04, -3.3733e-04, -9.1708e-04,\n",
            "         2.1077e-04, -4.3519e-04,  1.0745e-03,  4.8362e-04,  7.3184e-04,\n",
            "        -8.0571e-04,  1.0277e-03, -7.6776e-04,  7.4105e-04, -1.9926e-04]), 'N_Y_1': tensor([0.2789, 0.3565, 0.7989]), 'N_Y_2': tensor([0.3770, 0.3985, 0.4302, 0.4825, 0.5662, 0.7117]), 'N_Y_3': tensor([0.3960, 0.4077, 0.4073, 0.4044, 0.4157, 0.4047, 0.4158, 0.4134, 0.4284,\n",
            "        0.4247, 0.4403, 0.4302, 0.4344, 0.4505, 0.4503, 0.4586, 0.4585, 0.4669,\n",
            "        0.4716, 0.4819, 0.4981, 0.4986, 0.5274, 0.5365, 0.5425, 0.5438, 0.5735,\n",
            "        0.5994, 0.6071, 0.6198, 0.6072, 0.6230, 0.6024, 0.5832, 0.5749, 0.5874,\n",
            "        0.5683, 0.5630, 0.5314, 0.5393]), 'N_Y_4': tensor([0.4309, 0.4409, 0.4362, 0.4331, 0.4488, 0.4632, 0.4605, 0.4729, 0.4768,\n",
            "        0.4843, 0.4963, 0.5036, 0.5031, 0.5293, 0.5384, 0.5558, 0.5547, 0.5802,\n",
            "        0.5689, 0.5534, 0.5416, 0.5395, 0.5255, 0.5098, 0.5149, 0.5128, 0.5042,\n",
            "        0.4982, 0.4877, 0.4854, 0.4784, 0.4677]), 'N_Y_5': tensor([0.4681, 0.4696, 0.4755, 0.4810, 0.4910, 0.4998, 0.5038, 0.5029, 0.5317,\n",
            "        0.5357, 0.5395, 0.5505, 0.5657, 0.5850, 0.5618, 0.5601, 0.5491, 0.5351,\n",
            "        0.5252, 0.5104, 0.5072, 0.4956, 0.4845, 0.4766, 0.4689, 0.4659, 0.4546,\n",
            "        0.4512, 0.4423, 0.4364, 0.4370, 0.4349])}\n"
          ],
          "name": "stdout"
        }
      ]
    },
    {
      "cell_type": "markdown",
      "metadata": {
        "id": "Aj3YF9GkQEQ1",
        "colab_type": "text"
      },
      "source": [
        "###Action Step\n",
        "In this step, we intervene on the SCM object according to the conditions we want to intervene on and by using the pyro.do method.\n"
      ]
    },
    {
      "cell_type": "code",
      "metadata": {
        "id": "g2bzjzjGIkdf",
        "colab_type": "code",
        "colab": {}
      },
      "source": [
        "# intervening on the SCM model\n",
        "cf_intervened_model = pyro.do(scm.model, data={\n",
        "    \"Y_1\": torch.tensor(1.),\n",
        "    # \"Y_2\": torch.tensor(2.),\n",
        "    # \"Y_3\": torch.tensor(2.),\n",
        "    # \"Y_4\": torch.tensor(5.),\n",
        "    # \"Y_5\": torch.tensor(25.),\n",
        "})"
      ],
      "execution_count": 0,
      "outputs": []
    },
    {
      "cell_type": "markdown",
      "metadata": {
        "id": "U9tLhflASq7a",
        "colab_type": "text"
      },
      "source": [
        "#### Prediction Step\n",
        "In this final step, we sample the images 1000 times passing the input object noise to the intervened model and generating the output image. We store these 1000 images in a list and pass it to compare_to_density function for image reconstructions.\n"
      ]
    },
    {
      "cell_type": "code",
      "metadata": {
        "id": "LE05fVCoJHqW",
        "colab_type": "code",
        "outputId": "b89418a0-e0f5-4599-ac3a-4beff40d0207",
        "colab": {
          "base_uri": "https://localhost:8080/",
          "height": 245
        }
      },
      "source": [
        "#Predicting single image\n",
        "(cf_rx,cf_ry,_), _ = cf_intervened_model(infer_cond_noise)\n",
        "compare_to_density(x_original, cf_rx)\n",
        "_ =plt.suptitle(\"Counterfactual Image\", fontsize=18, fontstyle='italic')"
      ],
      "execution_count": 40,
      "outputs": [
        {
          "output_type": "display_data",
          "data": {
            "image/png": "[encoded data removed]",
            "text/plain": [
              "<Figure size 432x288 with 2 Axes>"
            ]
          },
          "metadata": {
            "tags": [],
            "needs_background": "light"
          }
        }
      ]
    },
    {
      "cell_type": "code",
      "metadata": {
        "id": "GLCAvHC-ISYR",
        "colab_type": "code",
        "colab": {}
      },
      "source": [
        "# Prediction step with Sampling will produce a \"Blur\" Image as the Mean values are considered."
      ],
      "execution_count": 0,
      "outputs": []
    },
    {
      "cell_type": "code",
      "metadata": {
        "id": "aXSHxJx7Jmwu",
        "colab_type": "code",
        "outputId": "42021acf-37c2-450f-e1f0-32f217174247",
        "colab": {
          "base_uri": "https://localhost:8080/",
          "height": 245
        }
      },
      "source": [
        "#Sampling prediction on 1000 images\n",
        "cf_rxs = []\n",
        "for i in range(1000):\n",
        "     (cf_rx,cf_ry,_), _= cf_intervened_model(infer_cond_noise)\n",
        "     cf_rxs.append(cf_rx)\n",
        "compare_to_density(x_original, torch.cat(cf_rxs))\n",
        "_ =plt.suptitle(\"Counterfactual Image\", fontsize=18, fontstyle='italic')"
      ],
      "execution_count": 41,
      "outputs": [
        {
          "output_type": "display_data",
          "data": {
            "image/png": "[encoded data removed]",
            "text/plain": [
              "<Figure size 432x288 with 2 Axes>"
            ]
          },
          "metadata": {
            "tags": [],
            "needs_background": "light"
          }
        }
      ]
    },
    {
      "cell_type": "markdown",
      "metadata": {
        "id": "oe31gEAzJzn8",
        "colab_type": "text"
      },
      "source": [
        "### ***Applications of CVAE***\n",
        "> ### ***Deepfakes***\n",
        "Generating fake human faces by using counterfactual interventions\n",
        "\n",
        "> They are synthetic media in which a person in an existing image or video is replaced with someone else’s likeness\n",
        "\n",
        "> ### ***MusicVAE***\n",
        "Producing purely synthetic music\n",
        "\n",
        ">Creating a palette for musical scores with machine learning.\n"
      ]
    }
  ]
}