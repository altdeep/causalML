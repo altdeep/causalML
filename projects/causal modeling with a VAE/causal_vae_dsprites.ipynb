{
  "nbformat": 4,
  "nbformat_minor": 0,
  "metadata": {
    "kernelspec": {
      "name": "python3",
      "display_name": "Python 3"
    },
    "language_info": {
      "codemirror_mode": {
        "name": "ipython",
        "version": 3
      },
      "file_extension": ".py",
      "mimetype": "text/x-python",
      "name": "python",
      "nbconvert_exporter": "python",
      "pygments_lexer": "ipython3",
      "version": "3.6.8"
    },
    "colab": {
      "name": "causal_vae_dsprites.ipynb",
      "provenance": [],
      "collapsed_sections": [
        "SF--tmTZj6e4",
        "tVSEjAmswFgE"
      ],
      "machine_shape": "hm"
    },
    "accelerator": "GPU",
    "widgets": {
      "application/vnd.jupyter.widget-state+json": {
        "20c1b7d6c7904b6db7d67ed12077459a": {
          "model_module": "@jupyter-widgets/controls",
          "model_name": "VBoxModel",
          "state": {
            "_view_name": "VBoxView",
            "_dom_classes": [
              "widget-interact"
            ],
            "_model_name": "VBoxModel",
            "_view_module": "@jupyter-widgets/controls",
            "_model_module_version": "1.5.0",
            "_view_count": null,
            "_view_module_version": "1.5.0",
            "box_style": "",
            "layout": "IPY_MODEL_63e212ed98af44e3a309315bfdd6acbd",
            "_model_module": "@jupyter-widgets/controls",
            "children": [
              "IPY_MODEL_62d075165c9045ec86f6c9ff29f48991",
              "IPY_MODEL_a4170310807a43afb402ec4edf69b4c2"
            ]
          }
        },
        "63e212ed98af44e3a309315bfdd6acbd": {
          "model_module": "@jupyter-widgets/base",
          "model_name": "LayoutModel",
          "state": {
            "_view_name": "LayoutView",
            "grid_template_rows": null,
            "right": null,
            "justify_content": null,
            "_view_module": "@jupyter-widgets/base",
            "overflow": null,
            "_model_module_version": "1.2.0",
            "_view_count": null,
            "flex_flow": null,
            "width": null,
            "min_width": null,
            "border": null,
            "align_items": null,
            "bottom": null,
            "_model_module": "@jupyter-widgets/base",
            "top": null,
            "grid_column": null,
            "overflow_y": null,
            "overflow_x": null,
            "grid_auto_flow": null,
            "grid_area": null,
            "grid_template_columns": null,
            "flex": null,
            "_model_name": "LayoutModel",
            "justify_items": null,
            "grid_row": null,
            "max_height": null,
            "align_content": null,
            "visibility": null,
            "align_self": null,
            "height": null,
            "min_height": null,
            "padding": null,
            "grid_auto_rows": null,
            "grid_gap": null,
            "max_width": null,
            "order": null,
            "_view_module_version": "1.2.0",
            "grid_template_areas": null,
            "object_position": null,
            "object_fit": null,
            "grid_auto_columns": null,
            "margin": null,
            "display": null,
            "left": null
          }
        },
        "62d075165c9045ec86f6c9ff29f48991": {
          "model_module": "@jupyter-widgets/controls",
          "model_name": "IntSliderModel",
          "state": {
            "_view_name": "IntSliderView",
            "style": "IPY_MODEL_63f9654c47944614993f8c49296bd417",
            "_dom_classes": [],
            "description": "x",
            "step": 1,
            "_model_name": "IntSliderModel",
            "orientation": "horizontal",
            "max": 255,
            "_view_module": "@jupyter-widgets/controls",
            "_model_module_version": "1.5.0",
            "value": 134,
            "_view_count": null,
            "disabled": false,
            "_view_module_version": "1.5.0",
            "min": 0,
            "continuous_update": true,
            "readout_format": "d",
            "description_tooltip": null,
            "readout": true,
            "_model_module": "@jupyter-widgets/controls",
            "layout": "IPY_MODEL_f9944d3bd9544acfa88902b4b0e5b657"
          }
        },
        "a4170310807a43afb402ec4edf69b4c2": {
          "model_module": "@jupyter-widgets/output",
          "model_name": "OutputModel",
          "state": {
            "_view_name": "OutputView",
            "msg_id": "",
            "_dom_classes": [],
            "_model_name": "OutputModel",
            "outputs": [
              {
                "output_type": "display_data",
                "metadata": {
                  "tags": [],
                  "needs_background": "light"
                },
                "image/png": "iVBORw0KGgoAAAANSUhEUgAAAV0AAACmCAYAAAB5qlzZAAAABHNCSVQICAgIfAhkiAAAAAlwSFlzAAALEgAACxIB0t1+/AAAADh0RVh0U29mdHdhcmUAbWF0cGxvdGxpYiB2ZXJzaW9uMy4yLjEsIGh0dHA6Ly9tYXRwbG90bGliLm9yZy+j8jraAAADXUlEQVR4nO3dy27bMBBAUavI//8yuzIgCGnqNtElLZ2zzcuLwfWQTuJtjPEAoPFr9gMAuBPRBQiJLkBIdAFCogsQEl2A0MdXH9y2ze+Tcaoxxjbj55ptzvan2bbpAoREFyAkugAh0QUIiS5ASHQBQqILEBJdgJDoAoREFyAkugAh0QUIiS5ASHQBQqILEBJdgJDoAoREFyAkugAh0QUIiS5ASHQBQqILEBJdgJDoAoREFyAkugAh0QUIiS5ASHQBQqILEBJdgJDoAoREFyAkugAh0QUIiS5ASHQBQqILEBJdgJDoAoREFyAkugAh0QUIiS5ASHQBQqILEBJdgNDH7AfwN2OMlz5v27aTHwn8jFdn+slsX4tNFyAkugCh5a4X/vXo9dXXOZZxBWb7Wmy6AKElNt3/3W5f/b62AmYx2xzZdAFCS2y6Z9tvGzYDrsRsvx+bLkBIdAFCt7he2Du+sOFIxlWY7fdg0wUI3W7TPfJCBFdlttdk0wUIiS5ASHR3xhin/QURzGS21yG6AKHbv5D2GS9A8FP287PCpmm257PpAoSW2HRX2wb2/Dcnrspsz2HTBQiJLkBoieuFveNRZ5XrBkcxvus5O6vMtFmew6YLEFpu032yDXA1q8z0k9PbHDZdgNBym+4K24Bnfs4w8073s59tzuew6QKERBcgtMT1wgpXCo+H4xbnWmHOzfh8Nl2A0BKb7kye+bkqs70mmy5ASHQBQre/XoAzzfydXNZk0wUI3XbTtQ0AM9h0AUJLbLrl2/XYcCmZbY5sugAh0QUILXG9cDbHLq7KbL8fmy5AaLlN97tvTOmZn1WZbR4Pmy5ASnQBQstdLxw5UnFVZvuebLoAIdEFCIkuQEh0AUKiCxASXYCQ6AKERBcgJLoAIdEFCIkuQEh0AUKiCxASXYCQ6AKERBcgJLoAIdEFCIkuQEh0AUKiCxASXYCQ6AKERBcgJLoAIdEFCIkuQEh0AUKiCxASXYCQ6AKERBcgJLoAIdEFCIkuQEh0AUKiCxASXYCQ6AKERBcgJLoAIdEFCIkuQEh0AUKiCxASXYCQ6AKERBcgJLoAIdEFCIkuQEh0AUKiCxASXYCQ6AKERBcgtI0xZj8GgNuw6QKERBcgJLoAIdEFCIkuQEh0AUK/Ackdinwn3kUwAAAAAElFTkSuQmCC\n",
                "text/plain": "<Figure size 432x288 with 2 Axes>"
              }
            ],
            "_view_module": "@jupyter-widgets/output",
            "_model_module_version": "1.0.0",
            "_view_count": null,
            "_view_module_version": "1.0.0",
            "layout": "IPY_MODEL_1472bc4cdee54d2ea6e738f04a0f2ace",
            "_model_module": "@jupyter-widgets/output"
          }
        },
        "63f9654c47944614993f8c49296bd417": {
          "model_module": "@jupyter-widgets/controls",
          "model_name": "SliderStyleModel",
          "state": {
            "_view_name": "StyleView",
            "handle_color": null,
            "_model_name": "SliderStyleModel",
            "description_width": "",
            "_view_module": "@jupyter-widgets/base",
            "_model_module_version": "1.5.0",
            "_view_count": null,
            "_view_module_version": "1.2.0",
            "_model_module": "@jupyter-widgets/controls"
          }
        },
        "f9944d3bd9544acfa88902b4b0e5b657": {
          "model_module": "@jupyter-widgets/base",
          "model_name": "LayoutModel",
          "state": {
            "_view_name": "LayoutView",
            "grid_template_rows": null,
            "right": null,
            "justify_content": null,
            "_view_module": "@jupyter-widgets/base",
            "overflow": null,
            "_model_module_version": "1.2.0",
            "_view_count": null,
            "flex_flow": null,
            "width": null,
            "min_width": null,
            "border": null,
            "align_items": null,
            "bottom": null,
            "_model_module": "@jupyter-widgets/base",
            "top": null,
            "grid_column": null,
            "overflow_y": null,
            "overflow_x": null,
            "grid_auto_flow": null,
            "grid_area": null,
            "grid_template_columns": null,
            "flex": null,
            "_model_name": "LayoutModel",
            "justify_items": null,
            "grid_row": null,
            "max_height": null,
            "align_content": null,
            "visibility": null,
            "align_self": null,
            "height": null,
            "min_height": null,
            "padding": null,
            "grid_auto_rows": null,
            "grid_gap": null,
            "max_width": null,
            "order": null,
            "_view_module_version": "1.2.0",
            "grid_template_areas": null,
            "object_position": null,
            "object_fit": null,
            "grid_auto_columns": null,
            "margin": null,
            "display": null,
            "left": null
          }
        },
        "1472bc4cdee54d2ea6e738f04a0f2ace": {
          "model_module": "@jupyter-widgets/base",
          "model_name": "LayoutModel",
          "state": {
            "_view_name": "LayoutView",
            "grid_template_rows": null,
            "right": null,
            "justify_content": null,
            "_view_module": "@jupyter-widgets/base",
            "overflow": null,
            "_model_module_version": "1.2.0",
            "_view_count": null,
            "flex_flow": null,
            "width": null,
            "min_width": null,
            "border": null,
            "align_items": null,
            "bottom": null,
            "_model_module": "@jupyter-widgets/base",
            "top": null,
            "grid_column": null,
            "overflow_y": null,
            "overflow_x": null,
            "grid_auto_flow": null,
            "grid_area": null,
            "grid_template_columns": null,
            "flex": null,
            "_model_name": "LayoutModel",
            "justify_items": null,
            "grid_row": null,
            "max_height": null,
            "align_content": null,
            "visibility": null,
            "align_self": null,
            "height": null,
            "min_height": null,
            "padding": null,
            "grid_auto_rows": null,
            "grid_gap": null,
            "max_width": null,
            "order": null,
            "_view_module_version": "1.2.0",
            "grid_template_areas": null,
            "object_position": null,
            "object_fit": null,
            "grid_auto_columns": null,
            "margin": null,
            "display": null,
            "left": null
          }
        },
        "2593486fe6d44ebc87a38e027b45cece": {
          "model_module": "@jupyter-widgets/controls",
          "model_name": "VBoxModel",
          "state": {
            "_view_name": "VBoxView",
            "_dom_classes": [
              "widget-interact"
            ],
            "_model_name": "VBoxModel",
            "_view_module": "@jupyter-widgets/controls",
            "_model_module_version": "1.5.0",
            "_view_count": null,
            "_view_module_version": "1.5.0",
            "box_style": "",
            "layout": "IPY_MODEL_dfbf80ec7a2c4194bd99cd5e54764774",
            "_model_module": "@jupyter-widgets/controls",
            "children": [
              "IPY_MODEL_d40d72a213c0431fa2ba4ced42e4b4f0",
              "IPY_MODEL_33f97e1a000a4ca8b6d03e9ec7cd6ee9",
              "IPY_MODEL_99fb9553b21c4f88a66a9bbcdc65b802",
              "IPY_MODEL_125398c041d64083896b9269ad4ba784",
              "IPY_MODEL_53b0d9c962eb4cb3985be3815592b5ed",
              "IPY_MODEL_c5a0025cc01944cf83ba6a7bbdf9f115"
            ]
          }
        },
        "dfbf80ec7a2c4194bd99cd5e54764774": {
          "model_module": "@jupyter-widgets/base",
          "model_name": "LayoutModel",
          "state": {
            "_view_name": "LayoutView",
            "grid_template_rows": null,
            "right": null,
            "justify_content": null,
            "_view_module": "@jupyter-widgets/base",
            "overflow": null,
            "_model_module_version": "1.2.0",
            "_view_count": null,
            "flex_flow": null,
            "width": null,
            "min_width": null,
            "border": null,
            "align_items": null,
            "bottom": null,
            "_model_module": "@jupyter-widgets/base",
            "top": null,
            "grid_column": null,
            "overflow_y": null,
            "overflow_x": null,
            "grid_auto_flow": null,
            "grid_area": null,
            "grid_template_columns": null,
            "flex": null,
            "_model_name": "LayoutModel",
            "justify_items": null,
            "grid_row": null,
            "max_height": null,
            "align_content": null,
            "visibility": null,
            "align_self": null,
            "height": null,
            "min_height": null,
            "padding": null,
            "grid_auto_rows": null,
            "grid_gap": null,
            "max_width": null,
            "order": null,
            "_view_module_version": "1.2.0",
            "grid_template_areas": null,
            "object_position": null,
            "object_fit": null,
            "grid_auto_columns": null,
            "margin": null,
            "display": null,
            "left": null
          }
        },
        "d40d72a213c0431fa2ba4ced42e4b4f0": {
          "model_module": "@jupyter-widgets/controls",
          "model_name": "IntSliderModel",
          "state": {
            "_view_name": "IntSliderView",
            "style": "IPY_MODEL_e3a7228d82ea4b42b7e11c78f74c0a41",
            "_dom_classes": [],
            "description": "shape",
            "step": 1,
            "_model_name": "IntSliderModel",
            "orientation": "horizontal",
            "max": 2,
            "_view_module": "@jupyter-widgets/controls",
            "_model_module_version": "1.5.0",
            "value": 1,
            "_view_count": null,
            "disabled": false,
            "_view_module_version": "1.5.0",
            "min": 0,
            "continuous_update": true,
            "readout_format": "d",
            "description_tooltip": null,
            "readout": true,
            "_model_module": "@jupyter-widgets/controls",
            "layout": "IPY_MODEL_d9c2ef8bbf934d0b91241a8d216bd0de"
          }
        },
        "33f97e1a000a4ca8b6d03e9ec7cd6ee9": {
          "model_module": "@jupyter-widgets/controls",
          "model_name": "IntSliderModel",
          "state": {
            "_view_name": "IntSliderView",
            "style": "IPY_MODEL_480eac1707ef472eac4cd36f30f43fef",
            "_dom_classes": [],
            "description": "scale",
            "step": 1,
            "_model_name": "IntSliderModel",
            "orientation": "horizontal",
            "max": 5,
            "_view_module": "@jupyter-widgets/controls",
            "_model_module_version": "1.5.0",
            "value": 1,
            "_view_count": null,
            "disabled": false,
            "_view_module_version": "1.5.0",
            "min": 0,
            "continuous_update": true,
            "readout_format": "d",
            "description_tooltip": null,
            "readout": true,
            "_model_module": "@jupyter-widgets/controls",
            "layout": "IPY_MODEL_ae3a92937dd64360a7909cdafecd401b"
          }
        },
        "99fb9553b21c4f88a66a9bbcdc65b802": {
          "model_module": "@jupyter-widgets/controls",
          "model_name": "IntSliderModel",
          "state": {
            "_view_name": "IntSliderView",
            "style": "IPY_MODEL_dea9426358ea44749e864ccb38ece362",
            "_dom_classes": [],
            "description": "orient",
            "step": 1,
            "_model_name": "IntSliderModel",
            "orientation": "horizontal",
            "max": 39,
            "_view_module": "@jupyter-widgets/controls",
            "_model_module_version": "1.5.0",
            "value": 22,
            "_view_count": null,
            "disabled": false,
            "_view_module_version": "1.5.0",
            "min": 0,
            "continuous_update": true,
            "readout_format": "d",
            "description_tooltip": null,
            "readout": true,
            "_model_module": "@jupyter-widgets/controls",
            "layout": "IPY_MODEL_5caea2f952404b718e391bf5c004684a"
          }
        },
        "125398c041d64083896b9269ad4ba784": {
          "model_module": "@jupyter-widgets/controls",
          "model_name": "IntSliderModel",
          "state": {
            "_view_name": "IntSliderView",
            "style": "IPY_MODEL_7a6eda9806d64550a2a96f6552bb1c5a",
            "_dom_classes": [],
            "description": "posX",
            "step": 1,
            "_model_name": "IntSliderModel",
            "orientation": "horizontal",
            "max": 31,
            "_view_module": "@jupyter-widgets/controls",
            "_model_module_version": "1.5.0",
            "value": 13,
            "_view_count": null,
            "disabled": false,
            "_view_module_version": "1.5.0",
            "min": 0,
            "continuous_update": true,
            "readout_format": "d",
            "description_tooltip": null,
            "readout": true,
            "_model_module": "@jupyter-widgets/controls",
            "layout": "IPY_MODEL_58ca323cd82a4bbeb02c04f4d42e6858"
          }
        },
        "53b0d9c962eb4cb3985be3815592b5ed": {
          "model_module": "@jupyter-widgets/controls",
          "model_name": "IntSliderModel",
          "state": {
            "_view_name": "IntSliderView",
            "style": "IPY_MODEL_a1e6e350439242a18d3c089e1938794e",
            "_dom_classes": [],
            "description": "posY",
            "step": 1,
            "_model_name": "IntSliderModel",
            "orientation": "horizontal",
            "max": 31,
            "_view_module": "@jupyter-widgets/controls",
            "_model_module_version": "1.5.0",
            "value": 0,
            "_view_count": null,
            "disabled": false,
            "_view_module_version": "1.5.0",
            "min": 0,
            "continuous_update": true,
            "readout_format": "d",
            "description_tooltip": null,
            "readout": true,
            "_model_module": "@jupyter-widgets/controls",
            "layout": "IPY_MODEL_7bc13d5b85374c53b31b17b5d80a2962"
          }
        },
        "c5a0025cc01944cf83ba6a7bbdf9f115": {
          "model_module": "@jupyter-widgets/output",
          "model_name": "OutputModel",
          "state": {
            "_view_name": "OutputView",
            "msg_id": "",
            "_dom_classes": [],
            "_model_name": "OutputModel",
            "outputs": [
              {
                "output_type": "display_data",
                "metadata": {
                  "tags": [],
                  "needs_background": "light"
                },
                "image/png": "iVBORw0KGgoAAAANSUhEUgAAAOcAAADnCAYAAADl9EEgAAAABHNCSVQICAgIfAhkiAAAAAlwSFlzAAALEgAACxIB0t1+/AAAADh0RVh0U29mdHdhcmUAbWF0cGxvdGxpYiB2ZXJzaW9uMy4yLjEsIGh0dHA6Ly9tYXRwbG90bGliLm9yZy+j8jraAAADJElEQVR4nO3dy2oCQRBA0XTw/3+5spUwhCjzuJOcs1TQ2Vyqy164ZuYD6Pm8+gGAbeKEKHFClDghSpwQ9fjpzbWWn3LhYDOztl43OSFKnBAlTogSJ0SJE6LECVHihChxQpQ4IUqcECVOiBInRIkTosQJUeKEKHFClDghSpwQJU6IEidEiROixAlR4oQocUKUOCFKnBAlTogSJ0SJE6LECVHihChxQpQ4IUqcECVOiBInRD2ufgB+Z2Z2/by11q6fx/5MTogSJ0SJE6LsnCF775WvfJcdtMfkhChxQpRj7cnOPLq+4vm5HHEbTE6IEidEiROi7JwnqO6ZtJmcECVOiHKsPcAdj7GuT3pMTogSJ0SJE6LECVHihChxQpSrlJ3c7frE1UmfyQlR4oQox9p/xFH2XkxOiBInRIkTouycO3ne5668VrFX/h0mJ0SJE6Icaw/w/Wjp7/t4h8kJUeKEKHFClJ3zBHZE3mFyQpQ4IUqcECVOiBInRIkTosQJUeKEKHFClDghSpwQJU6IEidEiROixAlR4oQocUKUOCFKnBAlTogSJ0SJE6LECVHihChxQpQ4IUqcECVOiBInRIkTosQJUeKEKHFClDghSpwQJU6IEidEiROixAlR4oQocUKUOCFKnBAlTogSJ0SJE6LECVHihChxQpQ4IUqcECVOiBInRIkTosQJUeKEKHFClDghSpwQJU6IEidEiROixAlR4oQocUKUOCFKnBAlTogSJ0SJE6LECVHihChxQpQ4IUqcECVOiBInRIkTosQJUeKEKHFClDghSpwQJU6IEidEiROixAlR4oQocUKUOCFKnBAlTogSJ0SJE6LECVHihChxQpQ4IUqcECVOiBInRIkTosQJUeKEKHFClDghSpwQJU6IEidEiROixAlR4oQocUKUOCFKnBAlTogSJ0SJE6LECVHihChxQpQ4IUqcECVOiBInRIkTosQJUeKEKHFClDghSpwQJU6IEidEiROixAlR4oQocUKUOCFKnBAlTogSJ0SJE6LECVHihChxQtSamaufAdhgckKUOCFKnBAlTogSJ0SJE6K+AHruKeD40nXaAAAAAElFTkSuQmCC\n",
                "text/plain": "<Figure size 432x288 with 1 Axes>"
              }
            ],
            "_view_module": "@jupyter-widgets/output",
            "_model_module_version": "1.0.0",
            "_view_count": null,
            "_view_module_version": "1.0.0",
            "layout": "IPY_MODEL_1e4063fc32f24a91a5dd8cd2065e298c",
            "_model_module": "@jupyter-widgets/output"
          }
        },
        "e3a7228d82ea4b42b7e11c78f74c0a41": {
          "model_module": "@jupyter-widgets/controls",
          "model_name": "SliderStyleModel",
          "state": {
            "_view_name": "StyleView",
            "handle_color": null,
            "_model_name": "SliderStyleModel",
            "description_width": "",
            "_view_module": "@jupyter-widgets/base",
            "_model_module_version": "1.5.0",
            "_view_count": null,
            "_view_module_version": "1.2.0",
            "_model_module": "@jupyter-widgets/controls"
          }
        },
        "d9c2ef8bbf934d0b91241a8d216bd0de": {
          "model_module": "@jupyter-widgets/base",
          "model_name": "LayoutModel",
          "state": {
            "_view_name": "LayoutView",
            "grid_template_rows": null,
            "right": null,
            "justify_content": null,
            "_view_module": "@jupyter-widgets/base",
            "overflow": null,
            "_model_module_version": "1.2.0",
            "_view_count": null,
            "flex_flow": null,
            "width": null,
            "min_width": null,
            "border": null,
            "align_items": null,
            "bottom": null,
            "_model_module": "@jupyter-widgets/base",
            "top": null,
            "grid_column": null,
            "overflow_y": null,
            "overflow_x": null,
            "grid_auto_flow": null,
            "grid_area": null,
            "grid_template_columns": null,
            "flex": null,
            "_model_name": "LayoutModel",
            "justify_items": null,
            "grid_row": null,
            "max_height": null,
            "align_content": null,
            "visibility": null,
            "align_self": null,
            "height": null,
            "min_height": null,
            "padding": null,
            "grid_auto_rows": null,
            "grid_gap": null,
            "max_width": null,
            "order": null,
            "_view_module_version": "1.2.0",
            "grid_template_areas": null,
            "object_position": null,
            "object_fit": null,
            "grid_auto_columns": null,
            "margin": null,
            "display": null,
            "left": null
          }
        },
        "480eac1707ef472eac4cd36f30f43fef": {
          "model_module": "@jupyter-widgets/controls",
          "model_name": "SliderStyleModel",
          "state": {
            "_view_name": "StyleView",
            "handle_color": null,
            "_model_name": "SliderStyleModel",
            "description_width": "",
            "_view_module": "@jupyter-widgets/base",
            "_model_module_version": "1.5.0",
            "_view_count": null,
            "_view_module_version": "1.2.0",
            "_model_module": "@jupyter-widgets/controls"
          }
        },
        "ae3a92937dd64360a7909cdafecd401b": {
          "model_module": "@jupyter-widgets/base",
          "model_name": "LayoutModel",
          "state": {
            "_view_name": "LayoutView",
            "grid_template_rows": null,
            "right": null,
            "justify_content": null,
            "_view_module": "@jupyter-widgets/base",
            "overflow": null,
            "_model_module_version": "1.2.0",
            "_view_count": null,
            "flex_flow": null,
            "width": null,
            "min_width": null,
            "border": null,
            "align_items": null,
            "bottom": null,
            "_model_module": "@jupyter-widgets/base",
            "top": null,
            "grid_column": null,
            "overflow_y": null,
            "overflow_x": null,
            "grid_auto_flow": null,
            "grid_area": null,
            "grid_template_columns": null,
            "flex": null,
            "_model_name": "LayoutModel",
            "justify_items": null,
            "grid_row": null,
            "max_height": null,
            "align_content": null,
            "visibility": null,
            "align_self": null,
            "height": null,
            "min_height": null,
            "padding": null,
            "grid_auto_rows": null,
            "grid_gap": null,
            "max_width": null,
            "order": null,
            "_view_module_version": "1.2.0",
            "grid_template_areas": null,
            "object_position": null,
            "object_fit": null,
            "grid_auto_columns": null,
            "margin": null,
            "display": null,
            "left": null
          }
        },
        "dea9426358ea44749e864ccb38ece362": {
          "model_module": "@jupyter-widgets/controls",
          "model_name": "SliderStyleModel",
          "state": {
            "_view_name": "StyleView",
            "handle_color": null,
            "_model_name": "SliderStyleModel",
            "description_width": "",
            "_view_module": "@jupyter-widgets/base",
            "_model_module_version": "1.5.0",
            "_view_count": null,
            "_view_module_version": "1.2.0",
            "_model_module": "@jupyter-widgets/controls"
          }
        },
        "5caea2f952404b718e391bf5c004684a": {
          "model_module": "@jupyter-widgets/base",
          "model_name": "LayoutModel",
          "state": {
            "_view_name": "LayoutView",
            "grid_template_rows": null,
            "right": null,
            "justify_content": null,
            "_view_module": "@jupyter-widgets/base",
            "overflow": null,
            "_model_module_version": "1.2.0",
            "_view_count": null,
            "flex_flow": null,
            "width": null,
            "min_width": null,
            "border": null,
            "align_items": null,
            "bottom": null,
            "_model_module": "@jupyter-widgets/base",
            "top": null,
            "grid_column": null,
            "overflow_y": null,
            "overflow_x": null,
            "grid_auto_flow": null,
            "grid_area": null,
            "grid_template_columns": null,
            "flex": null,
            "_model_name": "LayoutModel",
            "justify_items": null,
            "grid_row": null,
            "max_height": null,
            "align_content": null,
            "visibility": null,
            "align_self": null,
            "height": null,
            "min_height": null,
            "padding": null,
            "grid_auto_rows": null,
            "grid_gap": null,
            "max_width": null,
            "order": null,
            "_view_module_version": "1.2.0",
            "grid_template_areas": null,
            "object_position": null,
            "object_fit": null,
            "grid_auto_columns": null,
            "margin": null,
            "display": null,
            "left": null
          }
        },
        "7a6eda9806d64550a2a96f6552bb1c5a": {
          "model_module": "@jupyter-widgets/controls",
          "model_name": "SliderStyleModel",
          "state": {
            "_view_name": "StyleView",
            "handle_color": null,
            "_model_name": "SliderStyleModel",
            "description_width": "",
            "_view_module": "@jupyter-widgets/base",
            "_model_module_version": "1.5.0",
            "_view_count": null,
            "_view_module_version": "1.2.0",
            "_model_module": "@jupyter-widgets/controls"
          }
        },
        "58ca323cd82a4bbeb02c04f4d42e6858": {
          "model_module": "@jupyter-widgets/base",
          "model_name": "LayoutModel",
          "state": {
            "_view_name": "LayoutView",
            "grid_template_rows": null,
            "right": null,
            "justify_content": null,
            "_view_module": "@jupyter-widgets/base",
            "overflow": null,
            "_model_module_version": "1.2.0",
            "_view_count": null,
            "flex_flow": null,
            "width": null,
            "min_width": null,
            "border": null,
            "align_items": null,
            "bottom": null,
            "_model_module": "@jupyter-widgets/base",
            "top": null,
            "grid_column": null,
            "overflow_y": null,
            "overflow_x": null,
            "grid_auto_flow": null,
            "grid_area": null,
            "grid_template_columns": null,
            "flex": null,
            "_model_name": "LayoutModel",
            "justify_items": null,
            "grid_row": null,
            "max_height": null,
            "align_content": null,
            "visibility": null,
            "align_self": null,
            "height": null,
            "min_height": null,
            "padding": null,
            "grid_auto_rows": null,
            "grid_gap": null,
            "max_width": null,
            "order": null,
            "_view_module_version": "1.2.0",
            "grid_template_areas": null,
            "object_position": null,
            "object_fit": null,
            "grid_auto_columns": null,
            "margin": null,
            "display": null,
            "left": null
          }
        },
        "a1e6e350439242a18d3c089e1938794e": {
          "model_module": "@jupyter-widgets/controls",
          "model_name": "SliderStyleModel",
          "state": {
            "_view_name": "StyleView",
            "handle_color": null,
            "_model_name": "SliderStyleModel",
            "description_width": "",
            "_view_module": "@jupyter-widgets/base",
            "_model_module_version": "1.5.0",
            "_view_count": null,
            "_view_module_version": "1.2.0",
            "_model_module": "@jupyter-widgets/controls"
          }
        },
        "7bc13d5b85374c53b31b17b5d80a2962": {
          "model_module": "@jupyter-widgets/base",
          "model_name": "LayoutModel",
          "state": {
            "_view_name": "LayoutView",
            "grid_template_rows": null,
            "right": null,
            "justify_content": null,
            "_view_module": "@jupyter-widgets/base",
            "overflow": null,
            "_model_module_version": "1.2.0",
            "_view_count": null,
            "flex_flow": null,
            "width": null,
            "min_width": null,
            "border": null,
            "align_items": null,
            "bottom": null,
            "_model_module": "@jupyter-widgets/base",
            "top": null,
            "grid_column": null,
            "overflow_y": null,
            "overflow_x": null,
            "grid_auto_flow": null,
            "grid_area": null,
            "grid_template_columns": null,
            "flex": null,
            "_model_name": "LayoutModel",
            "justify_items": null,
            "grid_row": null,
            "max_height": null,
            "align_content": null,
            "visibility": null,
            "align_self": null,
            "height": null,
            "min_height": null,
            "padding": null,
            "grid_auto_rows": null,
            "grid_gap": null,
            "max_width": null,
            "order": null,
            "_view_module_version": "1.2.0",
            "grid_template_areas": null,
            "object_position": null,
            "object_fit": null,
            "grid_auto_columns": null,
            "margin": null,
            "display": null,
            "left": null
          }
        },
        "1e4063fc32f24a91a5dd8cd2065e298c": {
          "model_module": "@jupyter-widgets/base",
          "model_name": "LayoutModel",
          "state": {
            "_view_name": "LayoutView",
            "grid_template_rows": null,
            "right": null,
            "justify_content": null,
            "_view_module": "@jupyter-widgets/base",
            "overflow": null,
            "_model_module_version": "1.2.0",
            "_view_count": null,
            "flex_flow": null,
            "width": null,
            "min_width": null,
            "border": null,
            "align_items": null,
            "bottom": null,
            "_model_module": "@jupyter-widgets/base",
            "top": null,
            "grid_column": null,
            "overflow_y": null,
            "overflow_x": null,
            "grid_auto_flow": null,
            "grid_area": null,
            "grid_template_columns": null,
            "flex": null,
            "_model_name": "LayoutModel",
            "justify_items": null,
            "grid_row": null,
            "max_height": null,
            "align_content": null,
            "visibility": null,
            "align_self": null,
            "height": null,
            "min_height": null,
            "padding": null,
            "grid_auto_rows": null,
            "grid_gap": null,
            "max_width": null,
            "order": null,
            "_view_module_version": "1.2.0",
            "grid_template_areas": null,
            "object_position": null,
            "object_fit": null,
            "grid_auto_columns": null,
            "margin": null,
            "display": null,
            "left": null
          }
        }
      }
    }
  },
  "cells": [
    {
      "cell_type": "markdown",
      "metadata": {
        "id": "zSOMAHldq2xR",
        "colab_type": "text"
      },
      "source": [
        "## Deep Causal Variational Inference\n",
        "\n",
        "### Introduction:\n",
        "To train a supervised variational autoencoder using Deepmind's [dSprites](https://github.com/deepmind/dsprites-dataset) dataset.\n",
        "\n",
        "dSprites is a dataset of sprites, which are 2D shapes procedurally generated from 5 ground truth independent \"factors.\" These factors are color, shape, scale, rotation, x and y positions of a sprite.\n",
        "\n",
        "All possible combinations of these variables are present exactly once, generating N = 737280 total images.\n",
        "\n",
        "Factors and their values:\n",
        "\n",
        "* Shape: 3 values {square, ellipse, heart}\n",
        "* Scale: 6 values linearly spaced in (0.5, 1)\n",
        "* Orientation: 40 values in (0, 2$\\pi$)\n",
        "* Position X: 32 values in (0, 1)\n",
        "* Position Y: 32 values in (0, 1)\n",
        "\n",
        "\n",
        "Further, the objective of any generative model is essentially to capture underlying data generative factors, the disentangled representation would mean a single latent unit being sensitive to variations in single generative factors\n",
        "\n",
        "\n",
        "### Goal:\n",
        "To include the latent factors  as labels in the training and to invent a causal story that relates these factors and the images in a DAG.\n",
        "\n",
        "Reference \n",
        "\n",
        "[Structured Disentangled Representation](https://arxiv.org/pdf/1804.02086.pdf)"
      ]
    },
    {
      "cell_type": "code",
      "metadata": {
        "id": "CMhHGoIwCwkN",
        "colab_type": "code",
        "outputId": "23307915-1ba8-4234-8c5b-af740b91ae24",
        "colab": {
          "base_uri": "https://localhost:8080/",
          "height": 582
        }
      },
      "source": [
        "#Install dependencies\n",
        "!pip3 install pyro-ppl\n",
        "!pip3 install torch torchvision\n",
        "!pip3 install pydrive --upgrade\n",
        "!pip3 install tqdm"
      ],
      "execution_count": 0,
      "outputs": [
        {
          "output_type": "stream",
          "text": [
            "Collecting pyro-ppl\n",
            "\u001b[?25l  Downloading https://files.pythonhosted.org/packages/c0/77/4db4946f6b5bf0601869c7b7594def42a7197729167484e1779fff5ca0d6/pyro_ppl-1.3.1-py3-none-any.whl (520kB)\n",
            "\u001b[K     |████████████████████████████████| 522kB 2.8MB/s \n",
            "\u001b[?25hRequirement already satisfied: tqdm>=4.36 in /usr/local/lib/python3.6/dist-packages (from pyro-ppl) (4.38.0)\n",
            "Requirement already satisfied: opt-einsum>=2.3.2 in /usr/local/lib/python3.6/dist-packages (from pyro-ppl) (3.2.1)\n",
            "Requirement already satisfied: torch>=1.4.0 in /usr/local/lib/python3.6/dist-packages (from pyro-ppl) (1.4.0)\n",
            "Requirement already satisfied: numpy>=1.7 in /usr/local/lib/python3.6/dist-packages (from pyro-ppl) (1.18.3)\n",
            "Collecting pyro-api>=0.1.1\n",
            "  Downloading https://files.pythonhosted.org/packages/c2/bc/6cdbd1929e32fff62a33592633c2cc0393c7f7739131ccc9c9c4e28ac8dd/pyro_api-0.1.1-py3-none-any.whl\n",
            "Installing collected packages: pyro-api, pyro-ppl\n",
            "Successfully installed pyro-api-0.1.1 pyro-ppl-1.3.1\n",
            "Requirement already satisfied: torch in /usr/local/lib/python3.6/dist-packages (1.4.0)\n",
            "Requirement already satisfied: torchvision in /usr/local/lib/python3.6/dist-packages (0.5.0)\n",
            "Requirement already satisfied: six in /usr/local/lib/python3.6/dist-packages (from torchvision) (1.12.0)\n",
            "Requirement already satisfied: pillow>=4.1.1 in /usr/local/lib/python3.6/dist-packages (from torchvision) (7.0.0)\n",
            "Requirement already satisfied: numpy in /usr/local/lib/python3.6/dist-packages (from torchvision) (1.18.3)\n",
            "Requirement already up-to-date: pydrive in /usr/local/lib/python3.6/dist-packages (1.3.1)\n",
            "Requirement already satisfied, skipping upgrade: google-api-python-client>=1.2 in /usr/local/lib/python3.6/dist-packages (from pydrive) (1.7.12)\n",
            "Requirement already satisfied, skipping upgrade: oauth2client>=4.0.0 in /usr/local/lib/python3.6/dist-packages (from pydrive) (4.1.3)\n",
            "Requirement already satisfied, skipping upgrade: PyYAML>=3.0 in /usr/local/lib/python3.6/dist-packages (from pydrive) (3.13)\n",
            "Requirement already satisfied, skipping upgrade: six<2dev,>=1.6.1 in /usr/local/lib/python3.6/dist-packages (from google-api-python-client>=1.2->pydrive) (1.12.0)\n",
            "Requirement already satisfied, skipping upgrade: httplib2<1dev,>=0.17.0 in /usr/local/lib/python3.6/dist-packages (from google-api-python-client>=1.2->pydrive) (0.17.3)\n",
            "Requirement already satisfied, skipping upgrade: google-auth-httplib2>=0.0.3 in /usr/local/lib/python3.6/dist-packages (from google-api-python-client>=1.2->pydrive) (0.0.3)\n",
            "Requirement already satisfied, skipping upgrade: uritemplate<4dev,>=3.0.0 in /usr/local/lib/python3.6/dist-packages (from google-api-python-client>=1.2->pydrive) (3.0.1)\n",
            "Requirement already satisfied, skipping upgrade: google-auth>=1.4.1 in /usr/local/lib/python3.6/dist-packages (from google-api-python-client>=1.2->pydrive) (1.7.2)\n",
            "Requirement already satisfied, skipping upgrade: pyasn1-modules>=0.0.5 in /usr/local/lib/python3.6/dist-packages (from oauth2client>=4.0.0->pydrive) (0.2.8)\n",
            "Requirement already satisfied, skipping upgrade: pyasn1>=0.1.7 in /usr/local/lib/python3.6/dist-packages (from oauth2client>=4.0.0->pydrive) (0.4.8)\n",
            "Requirement already satisfied, skipping upgrade: rsa>=3.1.4 in /usr/local/lib/python3.6/dist-packages (from oauth2client>=4.0.0->pydrive) (4.0)\n",
            "Requirement already satisfied, skipping upgrade: cachetools<3.2,>=2.0.0 in /usr/local/lib/python3.6/dist-packages (from google-auth>=1.4.1->google-api-python-client>=1.2->pydrive) (3.1.1)\n",
            "Requirement already satisfied, skipping upgrade: setuptools>=40.3.0 in /usr/local/lib/python3.6/dist-packages (from google-auth>=1.4.1->google-api-python-client>=1.2->pydrive) (46.1.3)\n",
            "Requirement already satisfied: tqdm in /usr/local/lib/python3.6/dist-packages (4.38.0)\n"
          ],
          "name": "stdout"
        }
      ]
    },
    {
      "cell_type": "code",
      "metadata": {
        "id": "uNa3MO8GCqWg",
        "colab_type": "code",
        "outputId": "bab04662-52f1-4086-d54c-b9344b63b9d3",
        "colab": {
          "base_uri": "https://localhost:8080/",
          "height": 72
        }
      },
      "source": [
        "# Load necessary libraries\n",
        "from matplotlib import pyplot as plt\n",
        "import numpy as np\n",
        "import seaborn as sns\n",
        "\n",
        "import os\n",
        "from collections import defaultdict\n",
        "\n",
        "import torch\n",
        "import torch.nn as nn\n",
        "\n",
        "from tqdm import tqdm\n",
        "import pyro\n",
        "import pyro.distributions as dist\n",
        "from pyro.infer import SVI, Trace_ELBO, TraceEnum_ELBO, config_enumerate, EmpiricalMarginal\n",
        "from pyro.optim import Adam, SGD\n",
        "import torch.distributions.constraints as constraints\n",
        "\n",
        "# Change figure aesthetics\n",
        "%matplotlib inline\n",
        "sns.set_context('talk', font_scale=1.2, rc={'lines.linewidth': 1.5})\n",
        "\n",
        "from ipywidgets import interact, interactive, fixed, interact_manual\n",
        "import ipywidgets as widgets\n",
        "\n",
        "#to utilize GPU capabilities\n",
        "USE_CUDA = True\n",
        "# USE_CUDA = False\n",
        "\n",
        "pyro.enable_validation(True)\n",
        "pyro.distributions.enable_validation(False)"
      ],
      "execution_count": 0,
      "outputs": [
        {
          "output_type": "stream",
          "text": [
            "/usr/local/lib/python3.6/dist-packages/statsmodels/tools/_testing.py:19: FutureWarning: pandas.util.testing is deprecated. Use the functions in the public API at pandas.testing instead.\n",
            "  import pandas.util.testing as tm\n"
          ],
          "name": "stderr"
        }
      ]
    },
    {
      "cell_type": "markdown",
      "metadata": {
        "id": "tUV6bfcUxeS3",
        "colab_type": "text"
      },
      "source": [
        "If this is being run on google colab (which is advisable), have a copy of your dataset in your google drive. "
      ]
    },
    {
      "cell_type": "code",
      "metadata": {
        "id": "nkXRHmSqDFTy",
        "colab_type": "code",
        "outputId": "2295a4a5-9acb-4b54-e3b4-09e62ec68d77",
        "colab": {
          "base_uri": "https://localhost:8080/",
          "height": 125
        }
      },
      "source": [
        "# Mount Google drive to load data\n",
        "from google.colab import drive\n",
        "drive.mount('/content/gdrive')"
      ],
      "execution_count": 0,
      "outputs": [
        {
          "output_type": "stream",
          "text": [
            "Go to this URL in a browser: https://accounts.google.com/o/oauth2/auth?client_id=947318989803-6bn6qk8qdgf4n4g3pfee6491hc0brc4i.apps.googleusercontent.com&redirect_uri=urn%3aietf%3awg%3aoauth%3a2.0%3aoob&response_type=code&scope=email%20https%3a%2f%2fwww.googleapis.com%2fauth%2fdocs.test%20https%3a%2f%2fwww.googleapis.com%2fauth%2fdrive%20https%3a%2f%2fwww.googleapis.com%2fauth%2fdrive.photos.readonly%20https%3a%2f%2fwww.googleapis.com%2fauth%2fpeopleapi.readonly\n",
            "\n",
            "Enter your authorization code:\n",
            "··········\n",
            "Mounted at /content/gdrive\n"
          ],
          "name": "stdout"
        }
      ]
    },
    {
      "cell_type": "code",
      "metadata": {
        "id": "cqyc4SqyDLIq",
        "colab_type": "code",
        "outputId": "d7d0f6e4-9bf3-46fb-d906-a705c94e3e1c",
        "colab": {
          "base_uri": "https://localhost:8080/",
          "height": 246
        }
      },
      "source": [
        "# Hack to get all available GPU ram.\n",
        "\n",
        "import tensorflow as tf\n",
        "tf.test.gpu_device_name()\n",
        "\n",
        "!ln -sf /opt/bin/nvidia-smi /usr/bin/nvidia-smi\n",
        "!pip install gputil\n",
        "!pip install psutil\n",
        "!pip install humanize\n",
        "import psutil\n",
        "import humanize\n",
        "import os\n",
        "import GPUtil as GPU\n",
        "GPUs = GPU.getGPUs()\n",
        "# XXX: only one GPU on Colab and isn’t guaranteed\n",
        "gpu = GPUs[0]\n",
        "def printm():\n",
        " process = psutil.Process(os.getpid())\n",
        " print(\"Gen RAM Free: \" + humanize.naturalsize( psutil.virtual_memory().available ), \" | Proc size: \" + humanize.naturalsize( process.memory_info().rss))\n",
        " print(\"GPU RAM Free: {0:.0f}MB | Used: {1:.0f}MB | Util {2:3.0f}% | Total {3:.0f}MB\".format(gpu.memoryFree, gpu.memoryUsed, gpu.memoryUtil*100, gpu.memoryTotal))\n",
        "printm()"
      ],
      "execution_count": 0,
      "outputs": [
        {
          "output_type": "stream",
          "text": [
            "Collecting gputil\n",
            "  Downloading https://files.pythonhosted.org/packages/ed/0e/5c61eedde9f6c87713e89d794f01e378cfd9565847d4576fa627d758c554/GPUtil-1.4.0.tar.gz\n",
            "Building wheels for collected packages: gputil\n",
            "  Building wheel for gputil (setup.py) ... \u001b[?25l\u001b[?25hdone\n",
            "  Created wheel for gputil: filename=GPUtil-1.4.0-cp36-none-any.whl size=7413 sha256=c4aa924fc7bf72f31ed4d65e9f755585521b5899f7cee93f59f43ef78d1ca277\n",
            "  Stored in directory: /root/.cache/pip/wheels/3d/77/07/80562de4bb0786e5ea186911a2c831fdd0018bda69beab71fd\n",
            "Successfully built gputil\n",
            "Installing collected packages: gputil\n",
            "Successfully installed gputil-1.4.0\n",
            "Requirement already satisfied: psutil in /usr/local/lib/python3.6/dist-packages (5.4.8)\n",
            "Requirement already satisfied: humanize in /usr/local/lib/python3.6/dist-packages (0.5.1)\n",
            "Gen RAM Free: 24.3 GB  | Proc size: 3.3 GB\n",
            "GPU RAM Free: 15477MB | Used: 803MB | Util   5% | Total 16280MB\n"
          ],
          "name": "stdout"
        }
      ]
    },
    {
      "cell_type": "code",
      "metadata": {
        "id": "nSkXleG1CqWj",
        "colab_type": "code",
        "colab": {}
      },
      "source": [
        "class EncoderY(nn.Module):\n",
        "\t\t\"\"\"\n",
        "\t\tMLP-based encoder for Y.\n",
        "\t\t\n",
        "\t\tThis is used for inference of Y. In the model, each element of Y is drawn\n",
        "\t\tfrom its own distribution.  However, during inference, we will sample values\n",
        "\t\tof Y from a multivariate Gaussian.\n",
        "\t\t\"\"\"\n",
        "\t\tdef __init__(self, image_dim, label_dim):\n",
        "\t\t\tsuper(EncoderY, self).__init__()\n",
        "\t\t\t#setup image and label dimensions from the dataset\n",
        "\t\t\tself.image_dim = image_dim\n",
        "\t\t\tself.label_dim = label_dim\n",
        "\t\t\n",
        "\t\t\t# setup the three linear transformations used\n",
        "\t\t\tself.fc1 = nn.Linear(image_dim, 1000)\n",
        "\t\t\tself.fc2 = nn.Linear(1000, 1000)\n",
        "\t\t\tself.fc31 = nn.Linear(1000, label_dim)  # mu values\n",
        "\t\t\tself.fc32 = nn.Linear(1000, label_dim)  # sigma values\n",
        "\t\t\t# setup the non-linearities\n",
        "\t\t\tself.softplus = nn.Softplus()\n",
        "\n",
        "\t\tdef forward(self, xs):\n",
        "\t\t\txs = xs.reshape(-1, self.image_dim)\n",
        "\t\t\t#now concatenate the image and label\n",
        "\t\t\t#inputs = torch.cat((xs,), -1)\n",
        "\t\t\t# then compute the hidden units\n",
        "\t\t\thidden1 = self.softplus(self.fc1(xs))\n",
        "\t\t\thidden2 = self.softplus(self.fc2(hidden1))\n",
        "\t\t\t# then return a mean vector and a (positive) square root covariance\n",
        "\t\t\t# each of size batch_size x z_dim\n",
        "\t\t\ty_loc = self.fc31(hidden2)\n",
        "\t\t\ty_scale = torch.exp(self.fc32(hidden2))\n",
        "\t\t\treturn y_loc, y_scale\n",
        "\n",
        "class EncoderZ(nn.Module):\n",
        "\t\"\"\"\n",
        "    MLPs (multi-layered perceptrons or simple feed-forward networks)\n",
        "    where the provided activation parameter is used on every linear layer except\n",
        "    for the output layer where we use the provided output_activation parameter\n",
        "\t\"\"\"\n",
        "\tdef __init__(self, image_dim, label_dim, z_dim):\n",
        "\t\tsuper(EncoderZ, self).__init__()\n",
        "\t\t#setup image and label dimensions from the dataset\n",
        "\t\tself.image_dim = image_dim\n",
        "\t\tself.label_dim = label_dim\n",
        "\t\tself.z_dim = z_dim\n",
        "\t\t# setup the three linear transformations used\n",
        "\t\tself.fc1 = nn.Linear(self.image_dim+self.label_dim, 1000)\n",
        "\t\tself.fc2 = nn.Linear(1000, 1000)\n",
        "\t\tself.fc31 = nn.Linear(1000, z_dim)  # mu values\n",
        "\t\tself.fc32 = nn.Linear(1000, z_dim)  # sigma values\n",
        "\t\t# setup the non-linearities\n",
        "\t\tself.softplus = nn.Softplus()\n",
        "\n",
        "\tdef forward(self, xs, ys):\n",
        "\t\txs = xs.reshape(-1, self.image_dim)\n",
        "\t\t#now concatenate the image and label\n",
        "\t\tinputs = torch.cat((xs,ys), -1)\n",
        "\t\t# then compute the hidden units\n",
        "\t\thidden1 = self.softplus(self.fc1(inputs))\n",
        "\t\thidden2 = self.softplus(self.fc2(hidden1))\n",
        "\t\t# then return a mean vector and a (positive) square root covariance\n",
        "\t\t# each of size batch_size x z_dim\n",
        "\t\tz_loc = self.fc31(hidden2)\n",
        "\t\tz_scale = torch.exp(self.fc32(hidden2))\n",
        "\t\treturn z_loc, z_scale\n",
        "\n",
        "class Decoder(nn.Module):\n",
        "\tdef __init__(self, image_dim, label_dim, z_dim):\n",
        "\t\tsuper(Decoder, self).__init__()\n",
        "\t\t# setup the two linear transformations used\n",
        "\t\thidden_dim = 1000\n",
        "\t\tself.fc1 = nn.Linear(z_dim+label_dim, hidden_dim)\n",
        "\t\tself.fc2 = nn.Linear(hidden_dim, hidden_dim)\n",
        "\t\tself.fc3 = nn.Linear(hidden_dim, hidden_dim)\n",
        "\t\tself.fc4 = nn.Linear(hidden_dim, image_dim)\n",
        "\t\t# setup the non-linearities\n",
        "\t\tself.softplus = nn.Softplus()\n",
        "\t\tself.sigmoid = nn.Sigmoid()\n",
        "\n",
        "\tdef forward(self, zs, ys):\n",
        "\t\tinputs = torch.cat((zs, ys),-1)\n",
        "\t\t# then compute the hidden units\n",
        "\t\thidden1 = self.softplus(self.fc1(inputs))\n",
        "\t\thidden2 = self.softplus(self.fc2(hidden1))\n",
        "\t\thidden3 = self.softplus(self.fc3(hidden2))\n",
        "\t\t# return the parameter for the output Bernoulli\n",
        "\t\t# each is of size batch_size x 784\n",
        "\t\tloc_img = self.sigmoid(self.fc4(hidden3))\n",
        "\t\treturn loc_img"
      ],
      "execution_count": 0,
      "outputs": []
    },
    {
      "cell_type": "code",
      "metadata": {
        "id": "Yqj05Mv8CqWm",
        "colab_type": "code",
        "colab": {}
      },
      "source": [
        "class CVAE(nn.Module):\n",
        "\t\"\"\"\n",
        "\tThis class encapsulates the parameters (neural networks) and models & guides \n",
        "\tneeded to train a supervised variational auto-encoder \n",
        "\t\"\"\"\n",
        "\tdef __init__(self, config_enum=None, use_cuda=False, aux_loss_multiplier=None):\n",
        "\t\t\n",
        "\t\tsuper(CVAE, self).__init__()\n",
        "\t\tself.image_dim = 64**2\n",
        "\t\tself.label_shape = np.array((1,3,6,40,32,32))\n",
        "\t\tself.label_names = np.array(('color', 'shape', 'scale', 'orientation', 'posX', 'posY'))\n",
        "\t\tself.label_dim = np.sum(self.label_shape)\n",
        "\t\tself.z_dim = 50                                           \n",
        "\t\tself.allow_broadcast = config_enum == 'parallel'\n",
        "\t\tself.use_cuda = use_cuda\n",
        "\t\tself.aux_loss_multiplier = aux_loss_multiplier\n",
        "\t\t\t# define and instantiate the neural networks representing\n",
        "\t\t\t# the paramters of various distributions in the model\n",
        "\t\tself.setup_networks()\n",
        "\n",
        "\tdef setup_networks(self):\n",
        "\t\t\"\"\"\n",
        "\t\tSetup and initialize encoder and decoder units\n",
        "\t\t\"\"\"\n",
        "\t\tself.encoder_y = EncoderY(self.image_dim, 4)\n",
        "\t\tself.encoder_z = EncoderZ(self.image_dim, self.label_dim, self.z_dim)\n",
        "\t\tself.decoder = Decoder(self.image_dim, self.label_dim, self.z_dim)\n",
        "\t\t# using GPUs for faster training of the networks\n",
        "\t\tif self.use_cuda:\n",
        "\t\t\t\tself.cuda()\n",
        "\n",
        "\tdef model(self, xs_obs, ys_obs):\n",
        "\t\t\tpyro.module(\"cvae\", self)\n",
        "\t\t\tbatch_size = xs_obs.size(0)\n",
        "\t\t\toptions = dict(dtype=xs_obs.dtype, device=xs_obs.device)\n",
        "\t\t\tzero_vec = torch.zeros([batch_size], **options)\n",
        "\n",
        "\t\t\tdef p_Z():\n",
        "\t\t\t\t\tprior_loc = torch.zeros(batch_size, self.z_dim, **options)\n",
        "\t\t\t\t\tprior_scale = torch.ones(batch_size, self.z_dim, **options)\n",
        "\t\t\t\t\tzs = pyro.sample(\"z\", dist.Normal(prior_loc, prior_scale).to_event(1))\n",
        "\t\t\t\t\treturn zs\n",
        "\t\t\t\t\n",
        "\t\t\tdef p_Y(ys_obs):\n",
        "\t\t\t\t\tnum_shapes = 3\n",
        "\t\t\t\t\tone_vec = torch.ones([batch_size], **options)\n",
        "\t\t\t\t\tshape_probs = torch.ones([batch_size, num_shapes], **options)  # 3 shapes\n",
        "\t\t\t\t\torientation_probs = torch.ones([batch_size, 40], **options)  # 40 orientation vals\n",
        "\t\t\t\t\t\n",
        "\t\t\t\t\t_, shape_obs, scale_obs, orient_obs, pos_x_obs, pos_y_obs = ys_obs.t()\n",
        "\n",
        "\t\t\t\t\t# sample the shapes\n",
        "\t\t\t\t\tshape = pyro.sample('shape', dist.Categorical(probs=shape_probs), obs=shape_obs.int())\n",
        "\t\t\t\t\tscale = pyro.sample('scale', dist.Uniform(zero_vec, one_vec*40), obs=scale_obs)\n",
        "\t\t\t\t\torientation = pyro.sample(\n",
        "\t\t\t\t\t\t\t'orientation',\n",
        "\t\t\t\t\t\t\tdist.Uniform(zero_vec, one_vec*40),\n",
        "\t\t\t\t\t\t\tobs=orient_obs\n",
        "\t\t\t\t\t)\n",
        "\t\t\t\t\tposition_x = pyro.sample('x_pos', dist.Uniform(zero_vec, one_vec*32), obs=pos_x_obs)\n",
        "\t\t\t\t\tposition_y = pyro.sample('y_pos', dist.Uniform(zero_vec, one_vec*32), obs=pos_y_obs)\n",
        "\n",
        "\t\t\t\t\tys = torch.stack((zero_vec, shape.float(), scale, orientation, position_x, position_y)).t()\n",
        "\t\t\t\t\treturn ys\n",
        "\n",
        "\t\t\tdef f_X_obs(ys, zs, xs_obs):\n",
        "\t\t\t\t\t# if the label y (which digit to write) is supervised, sample from the\n",
        "\t\t\t\t\t# constant prior, otherwise, observe the value (i.e. score it against\n",
        "\t\t\t\t\t# the constant prior)\n",
        "\t\t\t\t\tloc = self.decoder.forward(zs, self.p_Y_onehot(ys))\n",
        "\t\t\t\t\txs = pyro.sample(\"x\", dist.Bernoulli(loc).to_event(1), obs=xs_obs)\n",
        "\t\t\t\t\treturn xs\n",
        "\n",
        "\t\t\twith pyro.plate(\"data\"):\n",
        "\t\t\t\t\tzs = p_Z()\n",
        "\t\t\t\t\tys = p_Y(ys_obs)\n",
        "\t\t\t\t\txs = f_X_obs(ys, zs, xs_obs)\n",
        "\t\t\t\t\treturn xs, ys\n",
        "\n",
        "\tdef p_Y_onehot(self, ys): # Is this better? At least it works\n",
        "\t\t\t\tnew_ys = []\n",
        "\t\t\t\toptions = dict(dtype=ys.dtype, device=ys.device)\n",
        "\t\t\t\tfor i, label_length in enumerate(self.label_shape):\n",
        "\t\t\t\t\t\tprior = torch.ones(ys.size(0), label_length, **options) / (1.0 * label_length)\n",
        "\t\t\t\t\t\tnew_ys.append(pyro.sample(\"y_%s\" % self.label_names[i], dist.OneHotCategorical(prior), \n",
        "\t\t\t\t\t\t\t\t\t\t\t\t\t\t\t\t\tobs=torch.nn.functional.one_hot(ys[:,i].to(torch.int64), int(label_length))))\n",
        "\t\t\t\tnew_ys = torch.cat(new_ys, -1)\n",
        "\t\t\t\treturn new_ys.to(torch.float32)\n",
        "\t\n",
        "\tdef guide(self, xs, ys):\n",
        "\t\twith pyro.plate(\"data\"):\n",
        "\t\t\tz_loc, z_scale = self.encoder_z.forward(xs, self.p_Y_onehot(ys))\n",
        "\t\t\tpyro.sample(\"z\", dist.Normal(z_loc, z_scale).to_event(1))\n",
        "\n",
        "\tdef remap_y(self, ys):\n",
        "\t\tnew_ys = []\n",
        "\t\toptions = dict(dtype=ys.dtype, device=ys.device)\n",
        "\t\tfor i, label_length in enumerate(self.label_shape):\n",
        "\t\t    prior = torch.ones(ys.size(0), label_length, **options) / (1.0 * label_length)\n",
        "\t\t    new_ys.append(pyro.sample(\"y_%s\" % self.label_names[i], dist.OneHotCategorical(prior), \n",
        "\t\t                           obs=torch.nn.functional.one_hot(ys[:,i].to(torch.int64), int(label_length))))\n",
        "\t\tnew_ys = torch.cat(new_ys, -1)\n",
        "\t\treturn new_ys.to(torch.float32)\n",
        "\n",
        "\t\n",
        "\n",
        "\tdef reconstruct_image(self, xs, ys):\n",
        "\t\t# backward\n",
        "\t\tsim_z_loc, sim_z_scale = self.encoder_z.forward(xs, self.p_Y_onehot(ys))\n",
        "\t\tzs = dist.Normal(sim_z_loc, sim_z_scale).to_event(1).sample()\n",
        "\t\t# forward\n",
        "\t\tloc = self.decoder.forward(zs, self.p_Y_onehot(ys))\n",
        "\t\treturn dist.Bernoulli(loc).to_event(1).sample()"
      ],
      "execution_count": 0,
      "outputs": []
    },
    {
      "cell_type": "markdown",
      "metadata": {
        "id": "SF--tmTZj6e4",
        "colab_type": "text"
      },
      "source": [
        "## Data Loading and defining training funcitons"
      ]
    },
    {
      "cell_type": "code",
      "metadata": {
        "id": "1mmMe3D8CqWo",
        "colab_type": "code",
        "colab": {}
      },
      "source": [
        "def setup_data_loaders(train_x, test_x, train_y, test_y, batch_size=128, use_cuda=False):\n",
        "\ttrain_dset = torch.utils.data.TensorDataset(\n",
        "\t  torch.from_numpy(train_x.astype(np.float32)).reshape(-1, 4096),\n",
        "\t  torch.from_numpy(train_y.astype(np.float32))\n",
        "\t)\n",
        "\ttest_dset = torch.utils.data.TensorDataset(\n",
        "\t  torch.from_numpy(test_x.astype(np.float32)).reshape(-1, 4096),\n",
        "\t  torch.from_numpy(test_y.astype(np.float32))\n",
        "\t)    \n",
        "\tkwargs = {'num_workers': 1, 'pin_memory': use_cuda}\n",
        "\ttrain_loader = torch.utils.data.DataLoader(\n",
        "\t  dataset=train_dset, batch_size=batch_size, shuffle=False, **kwargs\n",
        "\t)\n",
        "\n",
        "\ttest_loader = torch.utils.data.DataLoader(\n",
        "\t  dataset=test_dset, batch_size=batch_size, shuffle=False, **kwargs\n",
        "\t)\n",
        "\treturn {\"train\":train_loader, \"test\":test_loader}"
      ],
      "execution_count": 0,
      "outputs": []
    },
    {
      "cell_type": "code",
      "metadata": {
        "id": "azMSBtsnCqWr",
        "colab_type": "code",
        "colab": {}
      },
      "source": [
        "dataset_zip = np.load(\n",
        "    '/content/gdrive/My Drive/Colab Notebooks/Causal Inference/data/dsprites-dataset/dsprites_ndarray_co1sh3sc6or40x32y32_64x64.npz',\n",
        "    encoding = 'bytes',\n",
        "    allow_pickle=True\n",
        ")\n",
        "\n",
        "imgs = dataset_zip['imgs']\n",
        "labels = dataset_zip['latents_classes']\n",
        "label_sizes = dataset_zip['metadata'][()][b'latents_sizes']\n",
        "label_names = dataset_zip['metadata'][()][b'latents_names']\n",
        "\n",
        "# Sample imgs randomly\n",
        "indices_sampled = np.arange(imgs.shape[0])\n",
        "np.random.shuffle(indices_sampled)\n",
        "imgs_sampled = imgs[indices_sampled]\n",
        "labels_sampled = labels[indices_sampled]\n",
        "\n",
        "data_loaders = setup_data_loaders(\n",
        "   imgs_sampled[1000:],\n",
        "   imgs_sampled[:1000],\n",
        "   labels_sampled[1000:],\n",
        "   labels_sampled[:1000],\n",
        "   batch_size=256,\n",
        "   use_cuda=USE_CUDA\n",
        ")\n",
        "\n",
        "# Load small data for debugging purposes\n",
        "# data_loaders = setup_data_loaders(\n",
        "#     imgs_sampled[50:150],\n",
        "#     imgs_sampled[:100],\n",
        "#     labels_sampled[50:150],\n",
        "#     labels_sampled[50:150],\n",
        "#     batch_size=256,\n",
        "#     use_cuda=USE_CUDA\n",
        "# )"
      ],
      "execution_count": 0,
      "outputs": []
    },
    {
      "cell_type": "code",
      "metadata": {
        "id": "Eamf-n9hCqWt",
        "colab_type": "code",
        "colab": {}
      },
      "source": [
        "def train(svi, train_loader, use_cuda=False):\n",
        "\t# initialize loss accumulator\n",
        "\tepoch_loss = 0.\n",
        "\t# do a training epoch over each mini-batch x returned\n",
        "\t# by the data loader\n",
        "\tfor xs,ys in train_loader:\n",
        "\t  # if on GPU put mini-batch into CUDA memory\n",
        "\t  if use_cuda:\n",
        "\t      xs = xs.cuda()\n",
        "\t      ys = ys.cuda()\n",
        "\t  # do ELBO gradient and accumulate loss\n",
        "\t  epoch_loss += svi.step(xs, ys)\n",
        "\t# return epoch loss\n",
        "\tnormalizer_train = len(train_loader.dataset)\n",
        "\ttotal_epoch_loss_train = epoch_loss / normalizer_train\n",
        "\treturn total_epoch_loss_train\n",
        "\n",
        "def evaluate(svi, test_loader, use_cuda=False):\n",
        "\t# initialize loss accumulator\n",
        "\ttest_loss = 0.\n",
        "\t# compute the loss over the entire test set\n",
        "\tfor xs, ys in test_loader:\n",
        "\t  # if on GPU put mini-batch into CUDA memory\n",
        "\t  if use_cuda:\n",
        "\t      xs = xs.cuda()\n",
        "\t      ys = ys.cuda()\n",
        "\t  # compute ELBO estimate and accumulate loss\n",
        "\t  test_loss += svi.evaluate_loss(xs, ys)\n",
        "\tnormalizer_test = len(test_loader.dataset)\n",
        "\ttotal_epoch_loss_test = test_loss / normalizer_test\n",
        "\treturn total_epoch_loss_test"
      ],
      "execution_count": 0,
      "outputs": []
    },
    {
      "cell_type": "markdown",
      "metadata": {
        "id": "tVSEjAmswFgE",
        "colab_type": "text"
      },
      "source": [
        "## Training the model:"
      ]
    },
    {
      "cell_type": "code",
      "metadata": {
        "id": "LR-hW5UzCqWv",
        "colab_type": "code",
        "colab": {}
      },
      "source": [
        "# Run options\n",
        "LEARNING_RATE = 1.0e-3\n",
        "\n",
        "# Run only for a single iteration for testing\n",
        "NUM_EPOCHS = 10\n",
        "TEST_FREQUENCY = 5"
      ],
      "execution_count": 0,
      "outputs": []
    },
    {
      "cell_type": "code",
      "metadata": {
        "id": "hIuVKC2lCqWx",
        "colab_type": "code",
        "outputId": "e649ae4f-1170-47a4-ecc2-ee831cfd5e84",
        "colab": {
          "base_uri": "https://localhost:8080/",
          "height": 246
        }
      },
      "source": [
        "import warnings\n",
        "warnings.filterwarnings('ignore')\n",
        "\n",
        "# clear param store\n",
        "pyro.clear_param_store()\n",
        "\n",
        "# setup the VAE\n",
        "vae = CVAE(use_cuda=USE_CUDA)\n",
        "\n",
        "# setup the optimizer\n",
        "adam_args = {\"lr\": LEARNING_RATE}\n",
        "optimizer = Adam(adam_args)\n",
        "\n",
        "# setup the inference algorithm\n",
        "svi = SVI(vae.model, vae.guide, optimizer, loss=Trace_ELBO())\n",
        "\n",
        "train_elbo = []\n",
        "test_elbo = []\n",
        "# training loop\n",
        "\n",
        "VERBOSE = True\n",
        "pbar = tqdm(range(NUM_EPOCHS))\n",
        "for epoch in pbar:\n",
        "    total_epoch_loss_train = train(svi, data_loaders[\"train\"], use_cuda=USE_CUDA)\n",
        "    train_elbo.append(-total_epoch_loss_train)\n",
        "    if VERBOSE:\n",
        "        print(\"[epoch %03d]  average training loss: %.4f\" % (epoch, total_epoch_loss_train))\n",
        "    if epoch % TEST_FREQUENCY == 0:\n",
        "        # report test diagnostics\n",
        "        total_epoch_loss_test = evaluate(svi, data_loaders[\"test\"], use_cuda=USE_CUDA)\n",
        "        test_elbo.append(-total_epoch_loss_test)\n",
        "        if VERBOSE:\n",
        "            print(\"[epoch %03d] average test loss: %.4f\" % (epoch, total_epoch_loss_test))"
      ],
      "execution_count": 0,
      "outputs": [
        {
          "output_type": "stream",
          "text": [
            "\r  0%|          | 0/10 [00:00<?, ?it/s]"
          ],
          "name": "stderr"
        },
        {
          "output_type": "stream",
          "text": [
            "[epoch 000]  average training loss: 175.8226\n"
          ],
          "name": "stdout"
        },
        {
          "output_type": "stream",
          "text": [
            "\r 10%|█         | 1/10 [02:08<19:14, 128.28s/it]"
          ],
          "name": "stderr"
        },
        {
          "output_type": "stream",
          "text": [
            "[epoch 000] average test loss: 107.7350\n"
          ],
          "name": "stdout"
        },
        {
          "output_type": "stream",
          "text": [
            "\r 20%|██        | 2/10 [04:17<17:07, 128.41s/it]"
          ],
          "name": "stderr"
        },
        {
          "output_type": "stream",
          "text": [
            "[epoch 001]  average training loss: 94.0646\n"
          ],
          "name": "stdout"
        },
        {
          "output_type": "stream",
          "text": [
            "\r 30%|███       | 3/10 [06:24<14:56, 128.04s/it]"
          ],
          "name": "stderr"
        },
        {
          "output_type": "stream",
          "text": [
            "[epoch 002]  average training loss: 77.0793\n"
          ],
          "name": "stdout"
        },
        {
          "output_type": "stream",
          "text": [
            "\r 40%|████      | 4/10 [08:30<12:45, 127.51s/it]"
          ],
          "name": "stderr"
        },
        {
          "output_type": "stream",
          "text": [
            "[epoch 003]  average training loss: 58.5258\n"
          ],
          "name": "stdout"
        },
        {
          "output_type": "stream",
          "text": [
            "\r 50%|█████     | 5/10 [10:35<10:34, 126.82s/it]"
          ],
          "name": "stderr"
        },
        {
          "output_type": "stream",
          "text": [
            "[epoch 004]  average training loss: 48.2552\n",
            "[epoch 005]  average training loss: 39.3637\n"
          ],
          "name": "stdout"
        },
        {
          "output_type": "stream",
          "text": [
            "\r 60%|██████    | 6/10 [12:42<08:27, 126.77s/it]"
          ],
          "name": "stderr"
        },
        {
          "output_type": "stream",
          "text": [
            "[epoch 005] average test loss: 39.1669\n"
          ],
          "name": "stdout"
        },
        {
          "output_type": "stream",
          "text": [
            "\r 70%|███████   | 7/10 [14:48<06:19, 126.56s/it]"
          ],
          "name": "stderr"
        },
        {
          "output_type": "stream",
          "text": [
            "[epoch 006]  average training loss: 36.2029\n"
          ],
          "name": "stdout"
        },
        {
          "output_type": "stream",
          "text": [
            "\r 80%|████████  | 8/10 [16:55<04:13, 126.63s/it]"
          ],
          "name": "stderr"
        },
        {
          "output_type": "stream",
          "text": [
            "[epoch 007]  average training loss: 34.0598\n"
          ],
          "name": "stdout"
        },
        {
          "output_type": "stream",
          "text": [
            "\r 90%|█████████ | 9/10 [19:02<02:06, 126.73s/it]"
          ],
          "name": "stderr"
        },
        {
          "output_type": "stream",
          "text": [
            "[epoch 008]  average training loss: 32.5824\n"
          ],
          "name": "stdout"
        },
        {
          "output_type": "stream",
          "text": [
            "100%|██████████| 10/10 [21:09<00:00, 126.95s/it]"
          ],
          "name": "stderr"
        },
        {
          "output_type": "stream",
          "text": [
            "[epoch 009]  average training loss: 31.4489\n"
          ],
          "name": "stdout"
        },
        {
          "output_type": "stream",
          "text": [
            "\n"
          ],
          "name": "stderr"
        }
      ]
    },
    {
      "cell_type": "markdown",
      "metadata": {
        "id": "5_K4mKeSwQoZ",
        "colab_type": "text"
      },
      "source": [
        "## Save the results so that you can avoid retraining again. Once the following step is executed, we dont need to retrain the model. \n"
      ]
    },
    {
      "cell_type": "code",
      "metadata": {
        "id": "puMbph4idkYg",
        "colab_type": "code",
        "colab": {}
      },
      "source": [
        "#################################\n",
        "### FOR SAVING AND LOADING MODEL\n",
        "################################\n",
        "# clear param store\n",
        "\n",
        "pyro.clear_param_store()\n",
        "\n",
        "network_path = \"/content/gdrive/My Drive/Colab Notebooks/Causal Inference/trained_model.save\"\n",
        "torch.save(vae.state_dict(), network_path)"
      ],
      "execution_count": 0,
      "outputs": []
    },
    {
      "cell_type": "code",
      "metadata": {
        "id": "f40jxGui6s3K",
        "colab_type": "code",
        "outputId": "9c2ca90f-7d63-4579-c023-c42cdc9243b7",
        "colab": {
          "base_uri": "https://localhost:8080/",
          "height": 34
        }
      },
      "source": [
        "network_path = \"/content/gdrive/My Drive/Colab Notebooks/Causal Inference/trained_model.save\"\n",
        "\n",
        "vae=CVAE(use_cuda=USE_CUDA)\n",
        "vae.load_state_dict(torch.load(network_path))"
      ],
      "execution_count": 0,
      "outputs": [
        {
          "output_type": "execute_result",
          "data": {
            "text/plain": [
              "<All keys matched successfully>"
            ]
          },
          "metadata": {
            "tags": []
          },
          "execution_count": 10
        }
      ]
    },
    {
      "cell_type": "markdown",
      "metadata": {
        "id": "aFnfYMd3CqW0",
        "colab_type": "text"
      },
      "source": [
        "## Visualizing the reconstruction accuracy of VAE (Without interventions)"
      ]
    },
    {
      "cell_type": "code",
      "metadata": {
        "id": "nIt0T2eUCqW0",
        "colab_type": "code",
        "colab": {}
      },
      "source": [
        "import warnings\n",
        "warnings.filterwarnings(\"ignore\")\n",
        "\n",
        "data_iter = iter(data_loaders[\"test\"])\n",
        "xs, ys = next(data_iter)\n",
        "\n",
        "if USE_CUDA:\n",
        "    xs = xs.cuda()\n",
        "    ys = ys.cuda()\n",
        "\n",
        "rs = vae.reconstruct_image(xs, ys)\n",
        "if USE_CUDA:\n",
        "    xs = xs.cpu()\n",
        "    rs = rs.cpu()\n",
        "originals = xs.numpy().reshape(-1, 64,64)\n",
        "recons = rs.reshape(-1,64,64)"
      ],
      "execution_count": 0,
      "outputs": []
    },
    {
      "cell_type": "code",
      "metadata": {
        "id": "1YBT2lo7CqW2",
        "colab_type": "code",
        "outputId": "1742486e-78d7-428f-8854-20ebbe4ff5a4",
        "colab": {
          "base_uri": "https://localhost:8080/",
          "height": 233,
          "referenced_widgets": [
            "20c1b7d6c7904b6db7d67ed12077459a",
            "63e212ed98af44e3a309315bfdd6acbd",
            "62d075165c9045ec86f6c9ff29f48991",
            "a4170310807a43afb402ec4edf69b4c2",
            "63f9654c47944614993f8c49296bd417",
            "f9944d3bd9544acfa88902b4b0e5b657",
            "1472bc4cdee54d2ea6e738f04a0f2ace"
          ]
        }
      },
      "source": [
        "def recon_check(original, recon):\n",
        "  fig = plt.figure()\n",
        "  ax0 = fig.add_subplot(121)\n",
        "  plt.imshow(original, cmap='Greys_r',  interpolation='nearest')\n",
        "  plt.axis('off')\n",
        "  ax1 = fig.add_subplot(122)\n",
        "  plt.imshow(recon , cmap='Greys_r', interpolation='nearest')\n",
        "  plt.axis('off')\n",
        "  \n",
        "def f(x):\n",
        "    fig = plt.figure()\n",
        "    ax0 = fig.add_subplot(121)\n",
        "    plt.imshow(originals[x], cmap='Greys_r',  interpolation='nearest')\n",
        "    plt.axis('off')\n",
        "    ax1 = fig.add_subplot(122)\n",
        "    plt.imshow(recons[x], cmap='Greys_r',  interpolation='nearest')\n",
        "    plt.axis('off')\n",
        "    \n",
        "interact(f, x=widgets.IntSlider(min=0, max=xs.shape[0]-1, step=1, value=0))"
      ],
      "execution_count": 0,
      "outputs": [
        {
          "output_type": "display_data",
          "data": {
            "application/vnd.jupyter.widget-view+json": {
              "model_id": "20c1b7d6c7904b6db7d67ed12077459a",
              "version_minor": 0,
              "version_major": 2
            },
            "text/plain": [
              "interactive(children=(IntSlider(value=0, description='x', max=255), Output()), _dom_classes=('widget-interact'…"
            ]
          },
          "metadata": {
            "tags": []
          }
        },
        {
          "output_type": "execute_result",
          "data": {
            "text/plain": [
              "<function __main__.f>"
            ]
          },
          "metadata": {
            "tags": []
          },
          "execution_count": 12
        }
      ]
    },
    {
      "cell_type": "code",
      "metadata": {
        "id": "EVCzRnuIzNpL",
        "colab_type": "code",
        "outputId": "fc050bee-7f03-4d90-a237-bc207b2d1006",
        "colab": {
          "base_uri": "https://localhost:8080/",
          "height": 426,
          "referenced_widgets": [
            "2593486fe6d44ebc87a38e027b45cece",
            "dfbf80ec7a2c4194bd99cd5e54764774",
            "d40d72a213c0431fa2ba4ced42e4b4f0",
            "33f97e1a000a4ca8b6d03e9ec7cd6ee9",
            "99fb9553b21c4f88a66a9bbcdc65b802",
            "125398c041d64083896b9269ad4ba784",
            "53b0d9c962eb4cb3985be3815592b5ed",
            "c5a0025cc01944cf83ba6a7bbdf9f115",
            "e3a7228d82ea4b42b7e11c78f74c0a41",
            "d9c2ef8bbf934d0b91241a8d216bd0de",
            "480eac1707ef472eac4cd36f30f43fef",
            "ae3a92937dd64360a7909cdafecd401b",
            "dea9426358ea44749e864ccb38ece362",
            "5caea2f952404b718e391bf5c004684a",
            "7a6eda9806d64550a2a96f6552bb1c5a",
            "58ca323cd82a4bbeb02c04f4d42e6858",
            "a1e6e350439242a18d3c089e1938794e",
            "7bc13d5b85374c53b31b17b5d80a2962",
            "1e4063fc32f24a91a5dd8cd2065e298c"
          ]
        }
      },
      "source": [
        "y_names = ['shape', 'scale', 'orientation', 'posX', 'posY']\n",
        "y_shapes = np.array((3,6,40,32,32))\n",
        "img_dict = {}\n",
        "\n",
        "for i, img in enumerate(imgs_sampled):\n",
        "     img_dict[tuple(labels_sampled[i])] = img\n",
        "\n",
        "def find_in_dataset(shape, scale, orient, posX, posY):\n",
        "  fig = plt.figure()\n",
        "  img = img_dict[(0, shape, scale, orient, posX, posY)]\n",
        "  plt.imshow(img.reshape(64,64), cmap='Greys_r', interpolation='nearest')\n",
        "  plt.axis('off')\n",
        "\n",
        "interact(find_in_dataset, \n",
        "         shape=widgets.IntSlider(min=0, max=2, step=1, value=0),\n",
        "         scale=widgets.IntSlider(min=0, max=5, step=1, value=0),\n",
        "         orient=widgets.IntSlider(min=0, max=39, step=1, value=0),\n",
        "         posX=widgets.IntSlider(min=0, max=31, step=1, value=0),\n",
        "         posY=widgets.IntSlider(min=0, max=31, step=1, value=0))"
      ],
      "execution_count": 0,
      "outputs": [
        {
          "output_type": "display_data",
          "data": {
            "application/vnd.jupyter.widget-view+json": {
              "model_id": "2593486fe6d44ebc87a38e027b45cece",
              "version_minor": 0,
              "version_major": 2
            },
            "text/plain": [
              "interactive(children=(IntSlider(value=0, description='shape', max=2), IntSlider(value=0, description='scale', …"
            ]
          },
          "metadata": {
            "tags": []
          }
        },
        {
          "output_type": "execute_result",
          "data": {
            "text/plain": [
              "<function __main__.find_in_dataset>"
            ]
          },
          "metadata": {
            "tags": []
          },
          "execution_count": 13
        }
      ]
    },
    {
      "cell_type": "markdown",
      "metadata": {
        "id": "RRtFUBu2RlBl",
        "colab_type": "text"
      },
      "source": [
        "## Helper Functions"
      ]
    },
    {
      "cell_type": "code",
      "metadata": {
        "id": "TzvKPe7gRkst",
        "colab_type": "code",
        "outputId": "162b6ce1-590e-4166-bca6-add0d57452c3",
        "colab": {
          "base_uri": "https://localhost:8080/",
          "height": 279
        }
      },
      "source": [
        "def get_specific_data(args=dict(), cuda=False):\n",
        "    '''\n",
        "    use this function to get examples of data with specific class labels\n",
        "    inputs: \n",
        "        args - dictionary whose keys can include {shape, scale, orientation,\n",
        "                posX, posY} and values can include any integers less than the \n",
        "                corresponding size of that label dimension\n",
        "        cuda - bool to indicate whether the output should be placed on GPU\n",
        "    '''\n",
        "    names_dict = {'shape': 1, 'scale': 2, 'orientation': 3, 'posX': 4, 'posY': 5}\n",
        "    selected_ind = np.ones(imgs.shape[0], dtype=bool)\n",
        "    for k,v in args.items():\n",
        "        col_id = names_dict[k]\n",
        "        selected_ind = np.bitwise_and(selected_ind, labels[:, col_id] == v)\n",
        "    ind = np.random.choice(np.arange(imgs.shape[0])[selected_ind])\n",
        "    x = torch.from_numpy(imgs[ind].reshape(1,64**2).astype(np.float32))\n",
        "    y = torch.from_numpy(labels[ind].reshape(1,6).astype(np.float32))\n",
        "    if not cuda:\n",
        "        return x,y\n",
        "    x = x.cuda()\n",
        "    y = y.cuda()\n",
        "    return x,y\n",
        "\n",
        "def plot_image(x):\n",
        "    \"\"\"\n",
        "    helper to plot dSprites images\n",
        "    \"\"\"\n",
        "    x = x.cpu()\n",
        "    plt.figure()\n",
        "    plt.imshow(x.reshape(64,64), interpolation='nearest', cmap='Greys_r')\n",
        "    plt.axis('off')\n",
        "\n",
        "def see_specific_image(args=dict(), verbose=True):\n",
        "    '''\n",
        "    use this function to get examples of data with specific class labels\n",
        "    inputs: \n",
        "        args - dictionary whose keys can include {shape, scale, orientation,\n",
        "                posX, posY} and values can include any integers less than the \n",
        "                corresponding size of that label dimension\n",
        "        verbose - bool to indicate whether the full class label should be written \n",
        "                    as the title of the plot\n",
        "    '''\n",
        "    x,y = get_specific_data(args, cuda=False)\n",
        "    plot_image(x)\n",
        "    if verbose:\n",
        "        string = ''\n",
        "        for i, s in enumerate(['Shape', 'Scale', 'Orientation', 'PosX', 'PosY']):\n",
        "            string += '%s: %d, ' % (s, int(y[0][i+1]))\n",
        "            if i == 2:\n",
        "                string = string[:-2] + '\\n'\n",
        "        plt.title(string[:-2], fontsize=12)\n",
        "        \n",
        "def compare_reconstruction(original, recon):\n",
        "    \"\"\"\n",
        "    compare two images side by side\n",
        "    inputs:\n",
        "        original - array for original image\n",
        "        recon - array for recon image\n",
        "    \"\"\"\n",
        "    fig = plt.figure()\n",
        "    ax0 = fig.add_subplot(121)\n",
        "    plt.imshow(original.cpu().reshape(64,64), cmap='Greys_r',  interpolation='nearest')\n",
        "    plt.axis('off')\n",
        "    plt.title('original')\n",
        "    ax1 = fig.add_subplot(122)\n",
        "    plt.imshow(recon.cpu().reshape(64,64), cmap='Greys_r',  interpolation='nearest')\n",
        "    plt.axis('off')\n",
        "    plt.title('reconstruction')\n",
        "    \n",
        "def compare_to_density(original, recons):\n",
        "    \"\"\"\n",
        "    compare two images side by side\n",
        "    inputs:\n",
        "        original - array for original image\n",
        "        recon - array of multiple recon images\n",
        "    \"\"\"\n",
        "    fig = plt.figure()\n",
        "    ax0 = fig.add_subplot(121)\n",
        "    plt.imshow(original.cpu().reshape(64,64), cmap='Greys_r',  interpolation='nearest')\n",
        "    plt.axis('off')\n",
        "    plt.title('original')\n",
        "    ax1 = fig.add_subplot(122)\n",
        "    plt.imshow(torch.mean(recons.cpu(), 0).reshape(64,64), cmap='Greys_r',  interpolation='nearest')\n",
        "    plt.axis('off')\n",
        "    plt.title('reconstructions')\n",
        "\n",
        "        \n",
        "see_specific_image()"
      ],
      "execution_count": 0,
      "outputs": [
        {
          "output_type": "display_data",
          "data": {
            "image/png": "[encoded data removed]",
            "text/plain": [
              "<Figure size 432x288 with 1 Axes>"
            ]
          },
          "metadata": {
            "tags": [],
            "needs_background": "light"
          }
        }
      ]
    },
    {
      "cell_type": "code",
      "metadata": {
        "id": "8jCnd3giSNDR",
        "colab_type": "code",
        "outputId": "8b817452-d6e2-4d62-f678-b4e1c6c5e9a3",
        "colab": {
          "base_uri": "https://localhost:8080/",
          "height": 34
        }
      },
      "source": [
        "label_dims = vae.label_shape\n",
        "label_dim_offsets = np.cumsum(label_dims)\n",
        "label_dim_offsets"
      ],
      "execution_count": 0,
      "outputs": [
        {
          "output_type": "execute_result",
          "data": {
            "text/plain": [
              "array([  1,   4,  10,  50,  82, 114])"
            ]
          },
          "metadata": {
            "tags": []
          },
          "execution_count": 15
        }
      ]
    },
    {
      "cell_type": "code",
      "metadata": {
        "id": "bF2snPDESVe1",
        "colab_type": "code",
        "colab": {}
      },
      "source": [
        "class SCM():\n",
        "    \"\"\"\n",
        "    Structural causal model\n",
        "    \n",
        "    args: \n",
        "      vae: instance of vae\n",
        "      mu: loc of q(z|x) given by the vae encoder\n",
        "      sigma: scale of q(z|x) given by the vae encoder\n",
        "    \n",
        "    \"\"\"\n",
        "    def __init__(self, vae, mu, sigma):\n",
        "        \"\"\"\n",
        "        Constructor\n",
        "        \n",
        "        Intializes :\n",
        "          image dimensions - 4096(64*64), \n",
        "          z dimensions: size of the tensor representing the latent random variable z, \n",
        "          label dimensions: 114 labels y that correspond to an image(one hot encoded)\n",
        "          f(x) = p(x|y,z)\n",
        "          Noise variables in the model N_#\n",
        "        \"\"\"\n",
        "        self.vae = vae\n",
        "        self.image_dim = vae.image_dim\n",
        "        self.z_dim = vae.z_dim\n",
        "        # these are used for f_X\n",
        "        self.label_dims = vae.label_shape\n",
        "        \n",
        "        def f_X(Y, Z, N):\n",
        "            \"\"\"\n",
        "            Generating one hots for the factors\n",
        "            \"\"\" \n",
        "            zs = Z.cuda()\n",
        "            # convert the labels to one hot\n",
        "            ys = [torch.tensor([0])]\n",
        "            ys.append(torch.nn.functional.one_hot(torch.round(Y[0]).to(torch.long), int(self.label_dims[1])))\n",
        "            ys.append(torch.nn.functional.one_hot(torch.round(Y[1]).to(torch.long), int(self.label_dims[2])))\n",
        "            ys.append(torch.nn.functional.one_hot(torch.round(Y[2]).to(torch.long), int(self.label_dims[3])))\n",
        "            ys.append(torch.nn.functional.one_hot(torch.round(Y[3]).to(torch.long), int(self.label_dims[4])))\n",
        "            ys.append(torch.nn.functional.one_hot(torch.round(Y[4]).to(torch.long), int(self.label_dims[5])))\n",
        "            ys = torch.cat(ys).to(torch.float32).reshape(1,-1).cuda()\n",
        "            p = vae.decoder.forward(zs, ys)\n",
        "            return (N < p.cpu()).type(torch.float)\n",
        "        \n",
        "        def f_Y(N):\n",
        "            \"\"\"\n",
        "            Gumbel distribution - to model the distribution of the maximum of a number of samples\n",
        "            m = Gumbel(torch.tensor([1.0]), torch.tensor([2.0])).sample() # sample from Gumbel distribution with loc=1, scale=2\n",
        "            tensor([ 1.0124])\n",
        "            \n",
        "            https://pytorch.org/docs/stable/_modules/torch/distributions/gumbel.html\n",
        "            \"\"\"\n",
        "#             m = torch.distributions.gumbel.Gumbel(torch.zeros(N.size(0)), torch.ones(N.size(0)))\n",
        "            beta = 12\n",
        "            indices = torch.tensor(np.arange(N.size(0))).to(torch.float32)\n",
        "            smax = nn.functional.softmax(beta*N)\n",
        "            argmax_ind = torch.sum(smax*indices)\n",
        "            return argmax_ind\n",
        "        \n",
        "        def f_Z(N):\n",
        "            \"\"\"\n",
        "            Z ~ Normal(mu, sigma) \n",
        "            \"\"\"\n",
        "            return N * sigma + mu\n",
        "        \n",
        "        def model(noise): \n",
        "            \"\"\"\n",
        "            The model corresponds to a generative process\n",
        "            \n",
        "            args: noise variables\n",
        "            return: X(image), Y(labels), Z(latents) \n",
        "            \"\"\"\n",
        "            N_X = pyro.sample( 'N_X', noise['N_X'].to_event(1) )\n",
        "            # denoted using the index in the sequence \n",
        "            # that they are stored in as vae.label_names:\n",
        "            # ['shape', 'scale', 'orientation', 'posX', 'posY']\n",
        "            N_Y_1 = pyro.sample( 'N_Y_1', noise['N_Y_1'].to_event(1) )\n",
        "            N_Y_2 = pyro.sample( 'N_Y_2', noise['N_Y_2'].to_event(1) )\n",
        "            N_Y_3 = pyro.sample( 'N_Y_3', noise['N_Y_3'].to_event(1) )\n",
        "            N_Y_4 = pyro.sample( 'N_Y_4', noise['N_Y_4'].to_event(1) )\n",
        "            N_Y_5 = pyro.sample( 'N_Y_5', noise['N_Y_5'].to_event(1) )\n",
        "            \n",
        "            # Z ~ Normal(Nx_mu, Nx_sigma)              \n",
        "            N_Z = pyro.sample( 'N_Z', noise['N_Z'].to_event(1) )\n",
        "            Z = pyro.sample('Z', dist.Normal( f_Z( N_Z ), 1e-1).to_event(1) )\n",
        "            \n",
        "            # Y ~ Gumbel max of Ny             \n",
        "#             Y_1_mu = f_Y(N_Y_1)\n",
        "#             Y_2_mu = f_Y(N_Y_2)\n",
        "#             Y_3_mu = f_Y(N_Y_3)\n",
        "#             Y_4_mu = f_Y(N_Y_4)\n",
        "#             Y_5_mu = f_Y(N_Y_5)\n",
        "       \n",
        "            Y_1 = pyro.sample('Y_1', dist.Normal( f_Y(N_Y_1), 1e-2) )\n",
        "            Y_2 = pyro.sample('Y_2', dist.Normal( f_Y(N_Y_2), 1e-1) )\n",
        "            Y_3 = pyro.sample('Y_3', dist.Normal( f_Y(N_Y_3), 1e-1) )\n",
        "            Y_4 = pyro.sample('Y_4', dist.Normal( f_Y(N_Y_4), 1e-1) )\n",
        "            Y_5 = pyro.sample('Y_5', dist.Normal( f_Y(N_Y_5), 1e-1) )\n",
        "            \n",
        "#             Y_mu = (Y_1_mu, Y_2_mu, Y_3_mu, Y_4_mu, Y_5_mu)\n",
        "            \n",
        "            # X ~ p(x|y,z) = bernoulli(loc(y,z))             \n",
        "            X = pyro.sample('X', dist.Normal( f_X( (Y_1, Y_2, Y_3,Y_4,Y_5), Z, N_X ), 1e-2).to_event(1))\n",
        "            \n",
        "            # return noise and variables\n",
        "            noise_samples = N_X, (N_Y_1, N_Y_2, N_Y_3, N_Y_4, N_Y_5), N_Z\n",
        "            variable_samples = X, (Y_1, Y_2, Y_3, Y_4, Y_5), Z\n",
        "            return variable_samples, noise_samples\n",
        "        \n",
        "        self.model = model\n",
        "        #Initialize all noise variables in the model         \n",
        "        self.init_noise = {\n",
        "            'N_X'   : dist.Uniform(torch.zeros(vae.image_dim), torch.ones(vae.image_dim)),\n",
        "            'N_Z'   : dist.Normal(torch.zeros(vae.z_dim), torch.ones(vae.z_dim)),\n",
        "            'N_Y_1' : dist.Uniform(torch.zeros(self.label_dims[1]),torch.ones(self.label_dims[1])),\n",
        "            'N_Y_2' : dist.Uniform(torch.zeros(self.label_dims[2]),torch.ones(self.label_dims[2])),\n",
        "            'N_Y_3' : dist.Uniform(torch.zeros(self.label_dims[3]),torch.ones(self.label_dims[3])),\n",
        "            'N_Y_4' : dist.Uniform(torch.zeros(self.label_dims[4]),torch.ones(self.label_dims[4])),\n",
        "            'N_Y_5' : dist.Uniform(torch.zeros(self.label_dims[5]),torch.ones(self.label_dims[5]))            \n",
        "        }\n",
        "        \n",
        "    def update_noise_svi(self, obs_data, intervened_model=None):\n",
        "        \"\"\"\n",
        "        Use svi to find out the mu, sigma of the distributionsfor the \n",
        "        condition outlined in obs_data\n",
        "        \"\"\"\n",
        "        \n",
        "        def guide(noise):\n",
        "            \"\"\"\n",
        "            The guide serves as an approximation to the posterior p(z|x). \n",
        "            The guide provides a valid joint probability density over all the \n",
        "            latent random variables in the model.\n",
        "            \n",
        "            https://pyro.ai/examples/svi_part_i.html\n",
        "            \"\"\"\n",
        "            # create params with constraints\n",
        "            mu = {\n",
        "                'N_X': pyro.param('N_X_mu', 0.5*torch.ones(self.image_dim),constraint = constraints.interval(0., 1.)),\n",
        "                'N_Z': pyro.param('N_Z_mu', torch.zeros(self.z_dim),constraint = constraints.interval(-3., 3.)),\n",
        "                'N_Y_1': pyro.param('N_Y_1_mu', 0.5*torch.ones(self.label_dims[1]),constraint = constraints.interval(0., 1.)),\n",
        "                'N_Y_2': pyro.param('N_Y_2_mu', 0.5*torch.ones(self.label_dims[2]),constraint = constraints.interval(0., 1.)),\n",
        "                'N_Y_3': pyro.param('N_Y_3_mu', 0.5*torch.ones(self.label_dims[3]),constraint = constraints.interval(0., 1.)),\n",
        "                'N_Y_4': pyro.param('N_Y_4_mu', 0.5*torch.ones(self.label_dims[4]),constraint = constraints.interval(0., 1.)),\n",
        "                'N_Y_5': pyro.param('N_Y_5_mu', 0.5*torch.ones(self.label_dims[5]),constraint = constraints.interval(0., 1.))\n",
        "                }\n",
        "            sigma = {\n",
        "                'N_X': pyro.param('N_X_sigma', 0.1*torch.ones(self.image_dim),constraint = constraints.interval(0.0001, 0.5)),\n",
        "                'N_Z': pyro.param('N_Z_sigma', torch.ones(self.z_dim),constraint = constraints.interval(0.0001, 3.)),\n",
        "                'N_Y_1': pyro.param('N_Y_1_sigma', 0.1*torch.ones(self.label_dims[1]),constraint = constraints.interval(0.0001, 0.5)),\n",
        "                'N_Y_2': pyro.param('N_Y_2_sigma', 0.1*torch.ones(self.label_dims[2]),constraint = constraints.interval(0.0001, 0.5)),\n",
        "                'N_Y_3': pyro.param('N_Y_3_sigma', 0.1*torch.ones(self.label_dims[3]),constraint = constraints.interval(0.0001, 0.5)),\n",
        "                'N_Y_4': pyro.param('N_Y_4_sigma', 0.1*torch.ones(self.label_dims[4]),constraint = constraints.interval(0.0001, 0.5)),\n",
        "                'N_Y_5': pyro.param('N_Y_5_sigma', 0.1*torch.ones(self.label_dims[5]),constraint = constraints.interval(0.0001, 0.5))\n",
        "                }\n",
        "            for noise_term in noise.keys():\n",
        "                pyro.sample(noise_term, dist.Normal(mu[noise_term], sigma[noise_term]).to_event(1))\n",
        "        \n",
        "        # Condition the model\n",
        "        if intervened_model is not None:\n",
        "          obs_model = pyro.condition(intervened_model, obs_data)\n",
        "        else:\n",
        "          obs_model = pyro.condition(self.model, obs_data)\n",
        "          \n",
        "        pyro.clear_param_store()\n",
        "\n",
        "        # Once we’ve specified a guide, we’re ready to proceed to inference. \n",
        "        # Now, this an optimization problem where each iteration of training takes  \n",
        "        # a step that moves the guide closer to the exact posterior \n",
        "        \n",
        "        # https://arxiv.org/pdf/1601.00670.pdf\n",
        "        svi = SVI(\n",
        "            model= obs_model,\n",
        "            guide= guide,\n",
        "            optim= SGD({\"lr\": 1e-5, 'momentum': 0.1}),\n",
        "            loss=Trace_ELBO(retain_graph=True)\n",
        "        )\n",
        "        \n",
        "        num_steps = 1500\n",
        "        samples = defaultdict(list)\n",
        "        for t in range(num_steps):\n",
        "            loss = svi.step(self.init_noise)\n",
        "#             if t % 100 == 0:\n",
        "#                 print(\"step %d: loss of %.2f\" % (t, loss))\n",
        "            for noise in self.init_noise.keys():\n",
        "                mu = '{}_mu'.format(noise)\n",
        "                sigma = '{}_sigma'.format(noise)\n",
        "                samples[mu].append(pyro.param(mu).detach().numpy())\n",
        "                samples[sigma].append(pyro.param(sigma).detach().numpy())\n",
        "        means = {k: torch.tensor(np.array(v).mean(axis=0)) for k, v in samples.items()}\n",
        "        \n",
        "        # update the inferred noise\n",
        "        updated_noise = {\n",
        "            'N_X'  : dist.Normal(means['N_X_mu'], means['N_X_sigma']),\n",
        "            'N_Z'  : dist.Normal(means['N_Z_mu'], means['N_Z_sigma']),\n",
        "            'N_Y_1': dist.Normal(means['N_Y_1_mu'], means['N_Y_1_sigma']),\n",
        "            'N_Y_2': dist.Normal(means['N_Y_2_mu'], means['N_Y_2_sigma']),\n",
        "            'N_Y_3': dist.Normal(means['N_Y_3_mu'], means['N_Y_3_sigma']),\n",
        "            'N_Y_4': dist.Normal(means['N_Y_4_mu'], means['N_Y_4_sigma']),\n",
        "            'N_Y_5': dist.Normal(means['N_Y_5_mu'], means['N_Y_5_sigma']),\n",
        "        }\n",
        "        return updated_noise\n",
        "        \n",
        "    def __call__(self):\n",
        "        return self.model(self.init_noise)"
      ],
      "execution_count": 0,
      "outputs": []
    },
    {
      "cell_type": "markdown",
      "metadata": {
        "id": "jjowqMwnS-KK",
        "colab_type": "text"
      },
      "source": [
        "## Sanity Check 1: Making sure VAE works"
      ]
    },
    {
      "cell_type": "code",
      "metadata": {
        "id": "5HgNcmakSY4c",
        "colab_type": "code",
        "outputId": "2096e987-5c08-4969-db31-b22845880619",
        "colab": {
          "base_uri": "https://localhost:8080/",
          "height": 266
        }
      },
      "source": [
        "# Generate an instance of dSprites image \n",
        "ox, y = get_specific_data(cuda=True)\n",
        "plot_image(ox)\n",
        "# Pass it through VAE to get q(z|x) => N(mu, sigma)\n",
        "mu, sigma = vae.encoder_z.forward(ox,vae.remap_y(y))\n",
        "# Feed these params to our custom SCM\n",
        "scm = SCM(vae, mu.cpu(), sigma.cpu())\n",
        "print(y)\n",
        "# Check for reconstruction"
      ],
      "execution_count": 0,
      "outputs": [
        {
          "output_type": "stream",
          "text": [
            "tensor([[ 0.,  0.,  1., 32., 19., 18.]], device='cuda:0')\n"
          ],
          "name": "stdout"
        },
        {
          "output_type": "display_data",
          "data": {
            "image/png": "[encoded data removed]",
            "text/plain": [
              "<Figure size 432x288 with 1 Axes>"
            ]
          },
          "metadata": {
            "tags": [],
            "needs_background": "light"
          }
        }
      ]
    },
    {
      "cell_type": "markdown",
      "metadata": {
        "id": "PVZjiIg-TIxj",
        "colab_type": "text"
      },
      "source": [
        "## Sanity Check 2: To check if the decoder is able to generate the image if the latents are changed:\n",
        "To achieve this we manually change the labels in the code and run it through the decoder and check for reconstruction"
      ]
    },
    {
      "cell_type": "code",
      "metadata": {
        "id": "7hL_YHR7TITr",
        "colab_type": "code",
        "outputId": "f3b0f819-0d03-4886-9a12-2c612ac8e82c",
        "colab": {
          "base_uri": "https://localhost:8080/",
          "height": 428
        }
      },
      "source": [
        "original, y_original = get_specific_data(cuda=True)\n",
        "print('top: ',y_original)\n",
        "mu, sigma = vae.encoder_z.forward(original,vae.remap_y(y_original))\n",
        "B = 100\n",
        "zs = torch.cat([dist.Normal(mu.cpu(), sigma.cpu()).sample() for a in range(B)], 0)\n",
        "ys = torch.cat([vae.remap_y(y_original) for a in range(B)], 0)\n",
        "rs = vae.decoder.forward(zs.cuda(), ys).detach()\n",
        "compare_to_density(original,rs)\n",
        "\n",
        "y_new = torch.tensor(y_original)\n",
        "y_new[0,1] = (y_original[0,1] + 1) % 2\n",
        "print('bottom: ', y_new)\n",
        "zs = torch.cat([dist.Normal(mu.cpu(), sigma.cpu()).sample() for a in range(B)], 0)\n",
        "ys = torch.cat([vae.remap_y(y_new) for a in range(B)], 0)\n",
        "rs = vae.decoder.forward(zs.cuda(), ys).detach()\n",
        "compare_to_density(original,rs)"
      ],
      "execution_count": 0,
      "outputs": [
        {
          "output_type": "stream",
          "text": [
            "top:  tensor([[ 0.,  1.,  1.,  5., 27.,  8.]], device='cuda:0')\n",
            "bottom:  tensor([[ 0.,  0.,  1.,  5., 27.,  8.]], device='cuda:0')\n"
          ],
          "name": "stdout"
        },
        {
          "output_type": "display_data",
          "data": {
            "image/png": "[encoded data removed]",
            "text/plain": [
              "<Figure size 432x288 with 2 Axes>"
            ]
          },
          "metadata": {
            "tags": [],
            "needs_background": "light"
          }
        },
        {
          "output_type": "display_data",
          "data": {
            "image/png": "[encoded data removed]",
            "text/plain": [
              "<Figure size 432x288 with 2 Axes>"
            ]
          },
          "metadata": {
            "tags": [],
            "needs_background": "light"
          }
        }
      ]
    },
    {
      "cell_type": "markdown",
      "metadata": {
        "id": "kP-yMLE7Tv0e",
        "colab_type": "text"
      },
      "source": [
        "### Conditioning with SCM VAE"
      ]
    },
    {
      "cell_type": "code",
      "metadata": {
        "colab_type": "code",
        "outputId": "5b64dac3-08d1-4129-9d8e-892f5d8a62d7",
        "id": "MF6WdAToBA5q",
        "colab": {
          "base_uri": "https://localhost:8080/",
          "height": 51
        }
      },
      "source": [
        "cond_data = {}\n",
        "for i in range(1, 6):\n",
        "    cond_data[\"Y_{}\".format(i)] = torch.tensor(y[0,i].cpu()).to(torch.float32)\n",
        "print(cond_data)\n",
        "\n",
        "cond_data['Y_1'] = torch.tensor(1.)\n",
        "cond_data['Y_2'] = torch.tensor(4.)\n",
        "conditioned_model = pyro.condition(scm.model, data=cond_data)\n",
        "cond_noise = scm.update_noise_svi(cond_data)\n",
        "print(cond_data)"
      ],
      "execution_count": 0,
      "outputs": [
        {
          "output_type": "stream",
          "text": [
            "{'Y_1': tensor(0.), 'Y_2': tensor(5.), 'Y_3': tensor(15.), 'Y_4': tensor(26.), 'Y_5': tensor(23.)}\n",
            "{'Y_1': tensor(1.), 'Y_2': tensor(4.), 'Y_3': tensor(15.), 'Y_4': tensor(26.), 'Y_5': tensor(23.)}\n"
          ],
          "name": "stdout"
        }
      ]
    },
    {
      "cell_type": "code",
      "metadata": {
        "id": "t_0xV8ldT10-",
        "colab_type": "code",
        "outputId": "31171d77-3b0e-4cba-f1db-7f1383cd735e",
        "colab": {
          "base_uri": "https://localhost:8080/",
          "height": 245
        }
      },
      "source": [
        "rxs = []\n",
        "for i in range(100):\n",
        "     (rx,ry,_), _ = scm.model(cond_noise)\n",
        "     rxs.append(rx)\n",
        "compare_to_density(ox, torch.cat(rxs))\n",
        "_ =plt.suptitle(\"SCM Conditioned on Original\", fontsize=18, fontstyle='italic')"
      ],
      "execution_count": 0,
      "outputs": [
        {
          "output_type": "display_data",
          "data": {
            "image/png": "[encoded data removed]",
            "text/plain": [
              "<Figure size 432x288 with 2 Axes>"
            ]
          },
          "metadata": {
            "tags": [],
            "needs_background": "light"
          }
        }
      ]
    },
    {
      "cell_type": "code",
      "metadata": {
        "colab_type": "code",
        "outputId": "3088a07b-bc21-46a0-c146-f0a82eaa36a1",
        "id": "ZYIrrWb1ayn8",
        "colab": {
          "base_uri": "https://localhost:8080/",
          "height": 245
        }
      },
      "source": [
        "rxs = []\n",
        "for i in range(100):\n",
        "     (rx,ry,_), _ = conditioned_model(scm.init_noise)\n",
        "     rxs.append(rx)\n",
        "compare_to_density(ox, torch.cat(rxs))\n",
        "_ =plt.suptitle(\"SCM Conditioned on Original\", fontsize=18, fontstyle='italic')"
      ],
      "execution_count": 0,
      "outputs": [
        {
          "output_type": "display_data",
          "data": {
            "image/png": "[encoded data removed]",
            "text/plain": [
              "<Figure size 432x288 with 2 Axes>"
            ]
          },
          "metadata": {
            "tags": [],
            "needs_background": "light"
          }
        }
      ]
    },
    {
      "cell_type": "markdown",
      "metadata": {
        "id": "uBqSMcUIURnm",
        "colab_type": "text"
      },
      "source": [
        "## Counterfactuals"
      ]
    },
    {
      "cell_type": "code",
      "metadata": {
        "id": "idv2fnVeUHX_",
        "colab_type": "code",
        "colab": {}
      },
      "source": [
        "# intervening on Shape, posX and PosY \n",
        "intervened_model = pyro.do(scm.model, data={\n",
        "    \"Y_1\": torch.tensor(0.),\n",
        "    \"Y_2\": torch.tensor(3.),\n",
        "#    \"Y_5\": torch.tensor(25.),\n",
        "})\n",
        "noise_data = {}\n",
        "for term, d in cond_noise.items():\n",
        "  noise_data[term] = d.loc\n",
        "intervened_noise = scm.update_noise_svi(noise_data, intervened_model)"
      ],
      "execution_count": 0,
      "outputs": []
    },
    {
      "cell_type": "code",
      "metadata": {
        "id": "0vTQfErJUOQ1",
        "colab_type": "code",
        "outputId": "7706df99-080a-47aa-b984-0d3b58e21b9d",
        "colab": {
          "base_uri": "https://localhost:8080/",
          "height": 223
        }
      },
      "source": [
        "(rx1,ry,_), _ = intervened_model(scm.init_noise)\n",
        "compare_to_density(ox, rx1)\n",
        "print(ry)"
      ],
      "execution_count": 0,
      "outputs": [
        {
          "output_type": "stream",
          "text": [
            "(tensor(0.), tensor(3.), tensor(19.9179), tensor(10.8298), tensor(21.0969))\n"
          ],
          "name": "stdout"
        },
        {
          "output_type": "display_data",
          "data": {
            "image/png": "[encoded data removed]",
            "text/plain": [
              "<Figure size 432x288 with 2 Axes>"
            ]
          },
          "metadata": {
            "tags": [],
            "needs_background": "light"
          }
        }
      ]
    },
    {
      "cell_type": "code",
      "metadata": {
        "id": "PGvh-50LUk16",
        "colab_type": "code",
        "outputId": "38e6f932-65a3-4fab-fa70-6e8a745d87dc",
        "colab": {
          "base_uri": "https://localhost:8080/",
          "height": 245
        }
      },
      "source": [
        "rxs = []\n",
        "for i in range(100):\n",
        "     (cfo1,ny1,nz1), _= intervened_model(scm.init_noise)\n",
        "     rxs.append(cfo1)\n",
        "compare_to_density(ox, torch.cat(rxs))\n",
        "_ =plt.suptitle(\"SCM intervened on shape and scale with scm.init_noise\", fontsize=18, fontstyle='italic')"
      ],
      "execution_count": 0,
      "outputs": [
        {
          "output_type": "display_data",
          "data": {
            "image/png": "[encoded data removed]",
            "text/plain": [
              "<Figure size 432x288 with 2 Axes>"
            ]
          },
          "metadata": {
            "tags": [],
            "needs_background": "light"
          }
        }
      ]
    },
    {
      "cell_type": "code",
      "metadata": {
        "colab_type": "code",
        "outputId": "21066f16-d601-4603-ff13-ab1b784a1297",
        "id": "mElevsMhtgA8",
        "colab": {
          "base_uri": "https://localhost:8080/",
          "height": 245
        }
      },
      "source": [
        "rxs = []\n",
        "for i in range(100):\n",
        "     (cfo1,ny1,nz1), _= intervened_model(intervened_noise)\n",
        "     rxs.append(cfo1)\n",
        "compare_to_density(ox, torch.cat(rxs))\n",
        "_ =plt.suptitle(\"SCM intervened on shape and scale with intervened_noise\", fontsize=18, fontstyle='italic')"
      ],
      "execution_count": 0,
      "outputs": [
        {
          "output_type": "display_data",
          "data": {
            "image/png": "[encoded data removed]",
            "text/plain": [
              "<Figure size 432x288 with 2 Axes>"
            ]
          },
          "metadata": {
            "tags": [],
            "needs_background": "light"
          }
        }
      ]
    },
    {
      "cell_type": "code",
      "metadata": {
        "colab_type": "code",
        "outputId": "28c64ead-78dd-409d-fd7a-de7c06890bbd",
        "id": "-JU9IsPiaYS3",
        "colab": {
          "base_uri": "https://localhost:8080/",
          "height": 245
        }
      },
      "source": [
        "rxs = []\n",
        "for i in range(100):\n",
        "     (cfo1,ny1,nz1), _= intervened_model(cond_noise)\n",
        "     rxs.append(cfo1)\n",
        "compare_to_density(ox, torch.cat(rxs))\n",
        "_ =plt.suptitle(\"SCM intervened on shape and scale with cond_noise\", fontsize=18, fontstyle='italic')"
      ],
      "execution_count": 0,
      "outputs": [
        {
          "output_type": "display_data",
          "data": {
            "image/png": "[encoded data removed]",
            "text/plain": [
              "<Figure size 432x288 with 2 Axes>"
            ]
          },
          "metadata": {
            "tags": [],
            "needs_background": "light"
          }
        }
      ]
    }
  ]
}