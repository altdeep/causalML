{
  "cells": [
    {
      "cell_type": "code",
      "execution_count": null,
      "metadata": {
        "id": "PurlHJbP2ww6"
      },
      "outputs": [],
      "source": [
        "pip install dowhy"
      ]
    },
    {
      "cell_type": "code",
      "execution_count": null,
      "metadata": {
        "id": "2u_7vmHN28YX"
      },
      "outputs": [],
      "source": [
        "pip install econml"
      ]
    },
    {
      "cell_type": "code",
      "execution_count": null,
      "metadata": {
        "id": "K1FvlsSI2eu-"
      },
      "outputs": [],
      "source": [
        "import pandas as pd\n",
        "import numpy as np\n",
        "import matplotlib.pyplot as plt\n",
        "import dowhy\n",
        "from dowhy import CausalModel\n",
        "import dowhy.datasets\n",
        "import econml\n",
        "import plotly.express as px\n",
        "import plotly.figure_factory as ff\n",
        "import seaborn as sns\n",
        "import requests\n",
        "import io\n",
        "from sklearn.preprocessing import PolynomialFeatures\n",
        "from sklearn.linear_model import LassoCV\n",
        "from sklearn.ensemble import GradientBoostingRegressor\n",
        "\n",
        "# Avoiding unnecessary log messges and warnings\n",
        "import logging\n",
        "logging.getLogger(\"dowhy\").setLevel(logging.WARNING)\n",
        "import warnings\n",
        "from sklearn.exceptions import DataConversionWarning\n",
        "warnings.filterwarnings(action='ignore', category=DataConversionWarning)"
      ]
    },
    {
      "cell_type": "markdown",
      "source": [
        "#### For analysing the importance of features, feature engineering and the counterfactual effect observed by having additional data and features, we compare two datasets, one with minimal relevant features, and another with additional features"
      ],
      "metadata": {
        "id": "9_lOqHatteJ3"
      }
    },
    {
      "cell_type": "markdown",
      "source": [
        "####Dataset 1: \n",
        "\n",
        "A 1980 census extract, also used in Angrist and Krueger (1991),329,509  observations on the following variables:\n",
        "\n",
        "1) log weekly wage\n",
        "\n",
        "2) quarter of birth (1-4)\n",
        "\n",
        "3) year of birth (30-39)\n",
        "\n",
        "4) place of birth (1980 census state codes)\n",
        "\n",
        "5) education (highest grade completed)"
      ],
      "metadata": {
        "id": "ssp45k1xvLMi"
      }
    },
    {
      "cell_type": "markdown",
      "source": [
        "Iniitial Exploratory Data Analysis on the data"
      ],
      "metadata": {
        "id": "VPl3_QvFwCNM"
      }
    },
    {
      "cell_type": "code",
      "execution_count": null,
      "metadata": {
        "id": "VRa_c9RHTMnS"
      },
      "outputs": [],
      "source": [
        "df = pd.read_csv(\"/content/sample_data/asciiqob.txt\", sep=\"         \",on_bad_lines='skip', header=None)"
      ]
    },
    {
      "cell_type": "code",
      "execution_count": null,
      "metadata": {
        "id": "PH5PqIQFH2N6"
      },
      "outputs": [],
      "source": [
        "(df[1].unique())"
      ]
    },
    {
      "cell_type": "code",
      "execution_count": null,
      "metadata": {
        "id": "qiluDWELJTbX"
      },
      "outputs": [],
      "source": [
        "(df[2].unique())"
      ]
    },
    {
      "cell_type": "code",
      "execution_count": null,
      "metadata": {
        "id": "L1NgvCV0JYUq"
      },
      "outputs": [],
      "source": [
        "(df[3].unique())"
      ]
    },
    {
      "cell_type": "code",
      "execution_count": null,
      "metadata": {
        "id": "_OiDqa2pJcPS"
      },
      "outputs": [],
      "source": [
        "(df[4].unique())"
      ]
    },
    {
      "cell_type": "code",
      "execution_count": null,
      "metadata": {
        "id": "wN6ctxUgSphE"
      },
      "outputs": [],
      "source": [
        "df.rename(columns = {0:'log weekly wage',1 : 'Education', 2 : 'Year of Birth', 3: 'Quarter of Birth', 4 : 'Place of Birth'}, inplace = True)"
      ]
    },
    {
      "cell_type": "code",
      "execution_count": null,
      "metadata": {
        "id": "Xl7O6smt_ply"
      },
      "outputs": [],
      "source": [
        "df['Education'].value_counts()"
      ]
    },
    {
      "cell_type": "code",
      "execution_count": null,
      "metadata": {
        "id": "dUsfgT9RzEGC"
      },
      "outputs": [],
      "source": [
        "fig = ff.create_distplot([df['Education']],group_labels=['Education'])\n",
        "fig.show()"
      ]
    },
    {
      "cell_type": "code",
      "execution_count": null,
      "metadata": {
        "id": "JZ4PBUS2_x4e"
      },
      "outputs": [],
      "source": [
        "df['Place of Birth'].value_counts()"
      ]
    },
    {
      "cell_type": "code",
      "execution_count": null,
      "metadata": {
        "id": "N6RuzJBd0vT6"
      },
      "outputs": [],
      "source": [
        "fig = ff.create_distplot([df['Place of Birth']],group_labels=['Place of Birth'])\n",
        "fig.show()"
      ]
    },
    {
      "cell_type": "code",
      "execution_count": null,
      "metadata": {
        "id": "-YG8ukZf_0-c"
      },
      "outputs": [],
      "source": [
        "df['Quarter of Birth'].value_counts()"
      ]
    },
    {
      "cell_type": "code",
      "execution_count": null,
      "metadata": {
        "id": "qJt-MiTB054k"
      },
      "outputs": [],
      "source": [
        "fig = ff.create_distplot([df['Quarter of Birth']],group_labels=['Quarter of Birth'])\n",
        "fig.show()"
      ]
    },
    {
      "cell_type": "code",
      "execution_count": null,
      "metadata": {
        "id": "VrH7BQ48_6sO"
      },
      "outputs": [],
      "source": [
        "df['Year of Birth'].value_counts()"
      ]
    },
    {
      "cell_type": "code",
      "execution_count": null,
      "metadata": {
        "id": "0zekJuzB1Gfy"
      },
      "outputs": [],
      "source": [
        "fig = ff.create_distplot([df['Year of Birth']],group_labels=['Year of Birth'])\n",
        "fig.show()"
      ]
    },
    {
      "cell_type": "code",
      "execution_count": null,
      "metadata": {
        "id": "S6H0aVHT7oPx"
      },
      "outputs": [],
      "source": [
        "fig = px.imshow(df.corr(), text_auto=True)\n",
        "fig.show()"
      ]
    },
    {
      "cell_type": "code",
      "execution_count": null,
      "metadata": {
        "id": "CPs1e0fJ262q"
      },
      "outputs": [],
      "source": [
        "fig = ff.create_distplot([df['log weekly wage']],group_labels=['log weekly wage'])\n",
        "fig.show()"
      ]
    },
    {
      "cell_type": "code",
      "execution_count": null,
      "metadata": {
        "id": "R6GIV-ncyHSn"
      },
      "outputs": [],
      "source": [
        "corr =  df.corr()\n",
        "\n",
        "# Create a mask\n",
        "mask = np.triu(np.ones_like(corr, dtype=bool))\n",
        "\n",
        "plt.figure(figsize=(10, 6))\n",
        "sns.heatmap(corr, mask=mask, center=0, annot=True,\n",
        "            fmt='.2f', square=True, cmap = \"YlGnBu\")\n",
        "\n",
        "plt.show()"
      ]
    },
    {
      "cell_type": "markdown",
      "source": [
        "As seen in the correlartional matrix, we can only find a relevant signal/predictor of weekly wage from the education variable, with no relavant signals from other variables"
      ],
      "metadata": {
        "id": "S0K6lsE4wMj_"
      }
    },
    {
      "cell_type": "markdown",
      "source": [
        "#####1) Creating the causal model"
      ],
      "metadata": {
        "id": "loovubhBwmS8"
      }
    },
    {
      "cell_type": "code",
      "execution_count": null,
      "metadata": {
        "id": "82qE_2YIvVXB"
      },
      "outputs": [],
      "source": [
        "cols = ['Place of Birth','Year of Birth']"
      ]
    },
    {
      "cell_type": "code",
      "execution_count": null,
      "metadata": {
        "id": "nQg4Dw97n1Y7"
      },
      "outputs": [],
      "source": [
        "model = CausalModel(\n",
        "    data=df,\n",
        "    treatment=['Education'],\n",
        "    outcome=['log weekly wage'],\n",
        "    common_causes=cols,\n",
        "    instruments = ['Quarter of Birth'])"
      ]
    },
    {
      "cell_type": "code",
      "execution_count": null,
      "metadata": {
        "id": "th0TBxXBwLDT"
      },
      "outputs": [],
      "source": [
        "model.view_model(layout=\"dot\")\n",
        "from IPython.display import Image, display"
      ]
    },
    {
      "cell_type": "markdown",
      "source": [
        "##### II. Identify causal effect and return target estimands"
      ],
      "metadata": {
        "id": "IOFA3K9qw6Y0"
      }
    },
    {
      "cell_type": "code",
      "execution_count": null,
      "metadata": {
        "id": "jpNnWSLeyQha"
      },
      "outputs": [],
      "source": [
        "identified_estimand = model.identify_effect(proceed_when_unidentifiable=True)\n",
        "print(identified_estimand)"
      ]
    },
    {
      "cell_type": "markdown",
      "source": [
        "##### III. Estimate the target estimand using a statistical method.\n",
        "We use the backdoor estimator"
      ],
      "metadata": {
        "id": "0mdmDLVOxLss"
      }
    },
    {
      "cell_type": "code",
      "execution_count": null,
      "metadata": {
        "id": "ZLFvwmULy1kX"
      },
      "outputs": [],
      "source": [
        "dml_estimate = model.estimate_effect(identified_estimand, \n",
        "                                    method_name=\"backdoor.econml.dml.DML\",\n",
        "                                    method_params={\n",
        "                                        'init_params': {'model_y':GradientBoostingRegressor(),\n",
        "                                                        'model_t': GradientBoostingRegressor(),\n",
        "                                                        'model_final':LassoCV(fit_intercept=False), },\n",
        "                                        'fit_params': {}\n",
        "                                     },confidence_intervals= False )\n",
        "print(dml_estimate)"
      ]
    },
    {
      "cell_type": "markdown",
      "source": [
        "##### 4) For our refutational analysis, we use three refuters, namely\n",
        "1) placebo_treatment_refuter\n",
        "\n",
        "2) random_common_cause\n",
        "\n",
        "3) dataset_subset_refuter"
      ],
      "metadata": {
        "id": "r96RO0j0xd0p"
      }
    },
    {
      "cell_type": "markdown",
      "source": [
        "##### Runs for each refuter technique for 5 simulations"
      ],
      "metadata": {
        "id": "r-sUAoDyyFBd"
      }
    },
    {
      "cell_type": "code",
      "execution_count": null,
      "metadata": {
        "id": "NxWW_DXsy6Pz"
      },
      "outputs": [],
      "source": [
        "refute_results = model.refute_estimate(identified_estimand, dml_estimate,\n",
        "                                       method_name=\"placebo_treatment_refuter\",num_simulations=5)\n",
        "print(refute_results)"
      ]
    },
    {
      "cell_type": "code",
      "execution_count": null,
      "metadata": {
        "id": "dowDKhfY4l0c"
      },
      "outputs": [],
      "source": [
        "refute_results = model.refute_estimate(identified_estimand, dml_estimate,\n",
        "                                       method_name=\"random_common_cause\",num_simulations=5)\n",
        "print(refute_results)"
      ]
    },
    {
      "cell_type": "code",
      "execution_count": null,
      "metadata": {
        "id": "mMzog9NB6a2E"
      },
      "outputs": [],
      "source": [
        "refute_results = model.refute_estimate(identified_estimand, dml_estimate,\n",
        "                                       method_name=\"data_subset_refuter\",num_simulations=5)\n",
        "print(refute_results)"
      ]
    },
    {
      "cell_type": "markdown",
      "source": [
        "##### Refuter experiments for 10 simulations"
      ],
      "metadata": {
        "id": "DKHX7K53yO8e"
      }
    },
    {
      "cell_type": "code",
      "execution_count": null,
      "metadata": {
        "id": "0Nxoxglc3WCE"
      },
      "outputs": [],
      "source": [
        "refute_results = model.refute_estimate(identified_estimand, dml_estimate,\n",
        "                                       method_name=\"placebo_treatment_refuter\",num_simulations=10)\n",
        "print(refute_results)"
      ]
    },
    {
      "cell_type": "code",
      "execution_count": null,
      "metadata": {
        "id": "yLmtp19p4vIm"
      },
      "outputs": [],
      "source": [
        "refute_results = model.refute_estimate(identified_estimand, dml_estimate,\n",
        "                                       method_name=\"random_common_cause\",num_simulations=10)\n",
        "print(refute_results)"
      ]
    },
    {
      "cell_type": "code",
      "execution_count": null,
      "metadata": {
        "id": "NLhLMHBV6Wyu"
      },
      "outputs": [],
      "source": [
        "refute_results = model.refute_estimate(identified_estimand, dml_estimate,\n",
        "                                       method_name=\"data_subset_refuter\",num_simulations=10)\n",
        "print(refute_results)"
      ]
    },
    {
      "cell_type": "markdown",
      "source": [
        "#### Dataset 2: Wage data from UCI's ML repository\n",
        "\n",
        "Contains the following features\n",
        "\n",
        "1)year\n",
        "\n",
        "2)age\n",
        "\n",
        "3)sex\n",
        "\n",
        "4)maritl\n",
        "\n",
        "5)race\n",
        "\n",
        "6)education\n",
        "\n",
        "7)region\n",
        "\n",
        "8)jobclass\n",
        "\n",
        "9)health\n",
        "\n",
        "10)health_ins\n",
        "\n",
        "11)logwage\n",
        "\n",
        "12)wage"
      ],
      "metadata": {
        "id": "-lH9F7RjycxN"
      }
    },
    {
      "cell_type": "markdown",
      "source": [
        "Initial Exploratory Data Analysis from the data"
      ],
      "metadata": {
        "id": "Szof7Fje1MG4"
      }
    },
    {
      "cell_type": "code",
      "execution_count": null,
      "metadata": {
        "id": "tGhj8UQbyX4V"
      },
      "outputs": [],
      "source": [
        "url = \"https://raw.githubusercontent.com/selva86/datasets/master/Wage.csv\" # Make sure the url is the raw version of the file on GitHub\n",
        "download = requests.get(url).content\n",
        "\n",
        "# Reading the downloaded content and turning it into a pandas dataframe\n",
        "\n",
        "df = pd.read_csv(io.StringIO(download.decode('utf-8')))\n",
        "\n",
        "# Printing out the first 5 rows of the dataframe"
      ]
    },
    {
      "cell_type": "code",
      "execution_count": null,
      "metadata": {
        "id": "7bT8qO9eylv4"
      },
      "outputs": [],
      "source": [
        "df"
      ]
    },
    {
      "cell_type": "code",
      "execution_count": null,
      "metadata": {
        "id": "vGmcfXkszRkj"
      },
      "outputs": [],
      "source": [
        "df['sex'].unique()"
      ]
    },
    {
      "cell_type": "code",
      "execution_count": null,
      "metadata": {
        "id": "6WgFT3Vj3BAJ"
      },
      "outputs": [],
      "source": [
        "df['sex'].value_counts()"
      ]
    },
    {
      "cell_type": "code",
      "execution_count": null,
      "metadata": {
        "id": "K9YafiFjzUqb"
      },
      "outputs": [],
      "source": [
        "df['maritl'].unique()"
      ]
    },
    {
      "cell_type": "code",
      "execution_count": null,
      "metadata": {
        "id": "DFiyQb4D3Dmn"
      },
      "outputs": [],
      "source": [
        "df['maritl'].value_counts()"
      ]
    },
    {
      "cell_type": "code",
      "execution_count": null,
      "metadata": {
        "id": "Kqjs01N2zall"
      },
      "outputs": [],
      "source": [
        "df['race'].unique()"
      ]
    },
    {
      "cell_type": "code",
      "execution_count": null,
      "metadata": {
        "id": "q9pCcJ7q3I60"
      },
      "outputs": [],
      "source": [
        "df['race'].value_counts()"
      ]
    },
    {
      "cell_type": "code",
      "execution_count": null,
      "metadata": {
        "id": "M9dlRdrMzejD"
      },
      "outputs": [],
      "source": [
        "df['education'].unique()"
      ]
    },
    {
      "cell_type": "code",
      "execution_count": null,
      "metadata": {
        "id": "g82TW1mY3Mgp"
      },
      "outputs": [],
      "source": [
        "df['education'].value_counts()"
      ]
    },
    {
      "cell_type": "code",
      "execution_count": null,
      "metadata": {
        "id": "E7MFY9Cnzhve"
      },
      "outputs": [],
      "source": [
        "df['region'].unique()"
      ]
    },
    {
      "cell_type": "code",
      "execution_count": null,
      "metadata": {
        "id": "EviBpD_23PxM"
      },
      "outputs": [],
      "source": [
        "df['region'].value_counts()"
      ]
    },
    {
      "cell_type": "code",
      "execution_count": null,
      "metadata": {
        "id": "c5qp_eZVzoEh"
      },
      "outputs": [],
      "source": [
        "df['jobclass'].unique()"
      ]
    },
    {
      "cell_type": "code",
      "execution_count": null,
      "metadata": {
        "id": "JOu39Dot3W0d"
      },
      "outputs": [],
      "source": [
        "df['jobclass'].value_counts()"
      ]
    },
    {
      "cell_type": "code",
      "execution_count": null,
      "metadata": {
        "id": "JnOQI_yRzwjz"
      },
      "outputs": [],
      "source": [
        "df['health'].unique()"
      ]
    },
    {
      "cell_type": "code",
      "execution_count": null,
      "metadata": {
        "id": "l6QMqyLg3a7E"
      },
      "outputs": [],
      "source": [
        "df['health'].value_counts()"
      ]
    },
    {
      "cell_type": "code",
      "execution_count": null,
      "metadata": {
        "id": "nyZ5oYoPz0TE"
      },
      "outputs": [],
      "source": [
        "df['health_ins'].unique()"
      ]
    },
    {
      "cell_type": "code",
      "execution_count": null,
      "metadata": {
        "id": "4GSSvVHjz6J9"
      },
      "outputs": [],
      "source": [
        "data = df"
      ]
    },
    {
      "cell_type": "markdown",
      "source": [
        "Procesing and encoding the data so the model can work with categorical values"
      ],
      "metadata": {
        "id": "xHrNwLLz1XK7"
      }
    },
    {
      "cell_type": "code",
      "execution_count": null,
      "metadata": {
        "id": "0rrTWXsb0UuT"
      },
      "outputs": [],
      "source": [
        "data.replace({'1. Male':1,'1. Never Married':1,'2. Married':2,'4. Divorced': 4,'3. Widowed':3,'5. Separated': 5,'1. White':1,'3. Asian':3,'4. Other':4,'2. Black':2,'1. < HS Grad': 1, '4. College Grad':4, '3. Some College':3, '2. HS Grad':2,\n",
        "       '5. Advanced Degree':5,'2. Middle Atlantic':2,'1. Industrial':1, '2. Information':2,'1. <=Good':1, '2. >=Very Good':2,'2. No':2, '1. Yes':1},inplace = True)"
      ]
    },
    {
      "cell_type": "code",
      "execution_count": null,
      "metadata": {
        "id": "nCh4X6eJ2UOV"
      },
      "outputs": [],
      "source": [
        "data"
      ]
    },
    {
      "cell_type": "code",
      "execution_count": null,
      "metadata": {
        "id": "V6bpz__Ay314"
      },
      "outputs": [],
      "source": [
        "corr =  data.corr()\n",
        "\n",
        "# Create a mask\n",
        "mask = np.triu(np.ones_like(corr, dtype=bool))\n",
        "\n",
        "plt.figure(figsize=(10, 6))\n",
        "sns.heatmap(corr, mask=mask, center=0, annot=True,\n",
        "            fmt='.2f', square=True, cmap = \"YlGnBu\")\n",
        "\n",
        "plt.show()"
      ]
    },
    {
      "cell_type": "markdown",
      "source": [
        "As we see in the figure above, in contrast to the first dataset, we have additional signals/predictors in this dataset, which will be beneficial for the modelling efforts"
      ],
      "metadata": {
        "id": "MgYHedQT1hpr"
      }
    },
    {
      "cell_type": "code",
      "execution_count": null,
      "metadata": {
        "id": "HctVh6Zn4C7x"
      },
      "outputs": [],
      "source": [
        "data.columns"
      ]
    },
    {
      "cell_type": "code",
      "execution_count": null,
      "metadata": {
        "id": "jtlrS4a033x6"
      },
      "outputs": [],
      "source": [
        "cols = ['jobclass','year','age','sex','maritl','race']"
      ]
    },
    {
      "cell_type": "markdown",
      "source": [
        "#####1) Creating the causal model"
      ],
      "metadata": {
        "id": "wu46L-jK2NsS"
      }
    },
    {
      "cell_type": "code",
      "execution_count": null,
      "metadata": {
        "id": "kcq0NzAp278d"
      },
      "outputs": [],
      "source": [
        "model = CausalModel(\n",
        "    data=data,\n",
        "    treatment=['education'],\n",
        "    outcome=['logwage'],\n",
        "    common_causes=cols,\n",
        "    instruments=['year','region','health','health_ins'])"
      ]
    },
    {
      "cell_type": "code",
      "execution_count": null,
      "metadata": {
        "id": "U2JAYcAl5Pt0"
      },
      "outputs": [],
      "source": [
        "model.view_model(layout=\"dot\")\n",
        "from IPython.display import Image, display"
      ]
    },
    {
      "cell_type": "markdown",
      "source": [
        "##### II. Identify causal effect and return target estimands"
      ],
      "metadata": {
        "id": "IzYkpjC72dYx"
      }
    },
    {
      "cell_type": "code",
      "execution_count": null,
      "metadata": {
        "id": "72Pc_c_A5UPL"
      },
      "outputs": [],
      "source": [
        "identified_estimand = model.identify_effect(proceed_when_unidentifiable=True)\n",
        "print(identified_estimand)"
      ]
    },
    {
      "cell_type": "markdown",
      "source": [
        "##### III. Estimate the target estimand using a statistical method.\n",
        "We use the backdoor estimator to obtain the estimates with 95% confidence intervals"
      ],
      "metadata": {
        "id": "z-LEviZR283m"
      }
    },
    {
      "cell_type": "code",
      "execution_count": null,
      "metadata": {
        "id": "VprnKh9w8jRP"
      },
      "outputs": [],
      "source": [
        "estimate = model.estimate_effect(identified_estimand,\n",
        "                                 method_name=\"backdoor.linear_regression\",\n",
        "                                method_params={'need_conditional_estimates': False},\n",
        "                                confidence_intervals=\"bootstrap\")\n",
        "print(estimate)"
      ]
    },
    {
      "cell_type": "markdown",
      "source": [
        "##### 4) Refutational analysis"
      ],
      "metadata": {
        "id": "S-ciuZnL3Pv_"
      }
    },
    {
      "cell_type": "code",
      "execution_count": null,
      "metadata": {
        "id": "hbUH3B-177tp"
      },
      "outputs": [],
      "source": [
        "refute_results = model.refute_estimate(identified_estimand, dml_estimate,\n",
        "                                       method_name=\"placebo_treatment_refuter\",num_simulations=5)\n",
        "print(refute_results)"
      ]
    },
    {
      "cell_type": "markdown",
      "source": [
        "#### Conclusion:\n",
        "\n",
        "Null hypothesis from Dataset 1: Education can be a sole indicator of weekly wages\n",
        "\n",
        "Since our p value > 0.05, we cannot refute the null hypothesis\n",
        "\n",
        "Null hypothesis from Dataset 2: Education along with factors such as age, job class, health are indicators of wage\n",
        "\n",
        "Since the obtained p value > 0.05, we cannot refute the null hypothesis\n",
        "\n",
        "Hence, we can conclude that having additional features and data can help provide more context into the causal analysis results"
      ],
      "metadata": {
        "id": "Fq9femiV3l5Y"
      }
    }
  ],
  "metadata": {
    "colab": {
      "collapsed_sections": [],
      "name": "Project.ipynb",
      "provenance": []
    },
    "kernelspec": {
      "display_name": "Python 3",
      "name": "python3"
    },
    "language_info": {
      "name": "python"
    }
  },
  "nbformat": 4,
  "nbformat_minor": 0
}