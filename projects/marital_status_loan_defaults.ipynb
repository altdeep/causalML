{
  "cells": [
    {
      "cell_type": "markdown",
      "metadata": {
        "id": "view-in-github",
        "colab_type": "text"
      },
      "source": [
        "<a href=\"https://colab.research.google.com/github/nagaichsid/causalML/blob/master/projects/marital_status_loan_defaults.ipynb\" target=\"_parent\"><img src=\"https://colab.research.google.com/assets/colab-badge.svg\" alt=\"Open In Colab\"/></a>"
      ]
    },
    {
      "cell_type": "markdown",
      "metadata": {
        "id": "zemOV_UP6MkN"
      },
      "source": [
        "# Are Two Heads Better Than One? Investigating Causal Relationships Between Marital Status and Loan Defaults\n",
        "\n",
        "For Dr. Ness' Causal ML Workshop in Summer 2022\n",
        "\n",
        "Authors: Shefali Khatri and Sid Nagaich\n",
        "\n",
        "An example on how DoWhy can be used to estimate the effect of marital status on Loan Defaults. In this notebook, we use real-world data about Loan Defaults to estimate treatment effect for Marital Status on Risk Factor for Defaulting on Loans. We will further look at the differences in treatment effects between groups based on income."
      ]
    },
    {
      "cell_type": "markdown",
      "metadata": {
        "id": "2UJwB17Z6MkU"
      },
      "source": [
        "## Background\n",
        "\n",
        "The most common types of consumer loans are mortgage, auto loan, education loan, personal loan, refinance loan, and credit card. Individuals who default on these loans are a risk to the lender, so lenders use a variety of factors to determine whether or not it is risky to approve such loans.\n",
        "\n",
        "In this notebook, we look specifically at the effects of marital status on default risk. A lender could consider whether your spouse has an ability to provide additional coverage in the event of a nonpayment. We also hypothesize that married couples are potentially more meticulous about financial risks, as failure to repay a loan has an impact on not only oneself for these couples."
      ]
    },
    {
      "cell_type": "markdown",
      "source": [
        "![](https://images.unsplash.com/photo-1607863680198-23d4b2565df0?ixlib=rb-1.2.1&ixid=MnwxMjA3fDB8MHxwaG90by1wYWdlfHx8fGVufDB8fHx8&auto=format&fit=crop&w=1470&q=80)"
      ],
      "metadata": {
        "id": "BZ2RDhBQihRu"
      }
    },
    {
      "cell_type": "markdown",
      "source": [
        "## Benefits of Understanding the Causal Mechanisms\n",
        "\n",
        "Suppose that a new individual signs up for a loan. How do we know the individual won't default? Here the relevant causal question is:\n",
        "\n",
        "What is the impact of marital status on the likeliehood of a loan default?\n",
        "\n",
        "And the equivalent counterfactual question is:\n",
        "\n",
        "If the individual had not been married, how likely is it that they would have otherwise experienced a loan default?\n",
        "\n",
        "In formal language, we are interested in the Average Treatment Effect on the Treated (ATT). "
      ],
      "metadata": {
        "id": "LahLKcXpaATR"
      }
    },
    {
      "cell_type": "markdown",
      "source": [
        "## Proposed Scenario\n",
        "A lender, such as a bank, wants to know how marital status affects the risk of defaulting on a potential loan.\n",
        "\n",
        "A direct interventional study is infeasible because a bank cannot force customers to get married. Likewise, the bank can’t look directly at existing data of married customers and non-married customers, because the customers who choose to take a loan likely already skews heavily towards those who are married. Thus, the bank needs a causal model that can evaluate the causal effect through an intervention.\n",
        "\n",
        "## Proposed Solution\n",
        "The DoWhy library can help build a causal model, identify the causal effect and test causal assumptions."
      ],
      "metadata": {
        "id": "1nyWUFY7ai-W"
      }
    },
    {
      "cell_type": "markdown",
      "metadata": {
        "id": "MVMsgMtI6MkV"
      },
      "source": [
        "## Data\n",
        "\n",
        "The dataset can be found at https://www.kaggle.com/datasets/subhamjain/loan-prediction-based-on-customer-behavior?select=Training+Data.csv. The goal of our investigation is to evaluate how income, home ownership, and car ownership may be causally related to whether an individual defaults on a loan and conversely, how defaulting on a loan may be causally related to home or car ownership. We will conduct this analysis by estimating the average treatment effect (ATE) and conditional average treatment effect (CATE) to evaluate the causal relationship between loan defaults and home ownership, car ownership, and income. Our first step in evaluating the impact of these factors is to theorize how these factors may be related to each other and develop Causal DAGs that reflect our domain knowledge. Below we propose a Causal DAG that represents our assumptions about how income is causally related to loan defaults. We also evaluated whether a history of loan default is causally related to the lack of home or car ownership by income to evaluate how individuals in different income groups may be affected differently by loan defaults. Before we construct the Causal DAG, we import the data and perform data cleaning.\n",
        "\n",
        "For our project we are using Loan Prediction data from kaggle that contains 252,000 observations. We summarise the variables used for this case study in the table below:\n",
        "\n",
        "| Variable Name | Type | Details |\n",
        "| --- | --- | --- |\n",
        "|Marital Status|Treatment|Married/Single|\n",
        "|Risk_Flag|Outcome|At Risk for Default of Consumer Loan?|\n",
        "|Income|Covariate of Interest|Income (Indian Rupees)|\n",
        "|Age|Covariate|Age|\n",
        "|Experience|Covariate|Years of Work Experience|\n",
        "|House Ownership|Covariate|Owns a Home?|\n",
        "|Car Ownership|Covariate|Owns a Car?|\n",
        "|Profession|Covariate|Work Occupation|\n",
        "|City|Covariate|City|\n",
        "|State|Covariate|State|\n",
        "|Years in Current Job|Covariate|Years in Current Job|\n",
        "|Years in Current House|Covariate|Years in Current House|\n",
        "\n",
        "\n",
        "We first load the data via Kaggle's API for analysis."
      ]
    },
    {
      "cell_type": "markdown",
      "source": [
        "## Import Data via Kaggle API"
      ],
      "metadata": {
        "id": "UNuTGWu16fwg"
      }
    },
    {
      "cell_type": "markdown",
      "source": [
        "Installation of required libraries not included in a Colab runtime:"
      ],
      "metadata": {
        "id": "jExxLJbMOop2"
      }
    },
    {
      "cell_type": "code",
      "source": [
        "%%capture\n",
        "!pip install kaggle\n",
        "!pip install pgmpy\n",
        "!pip install pygraphviz\n",
        "!pip install dowhy"
      ],
      "metadata": {
        "id": "w2mWIqeQ68Ce"
      },
      "execution_count": 1,
      "outputs": []
    },
    {
      "cell_type": "markdown",
      "source": [
        "Import all needed libraries:"
      ],
      "metadata": {
        "id": "HAP9uc98Osse"
      }
    },
    {
      "cell_type": "code",
      "source": [
        "import pandas as pd\n",
        "import numpy as np\n",
        "import matplotlib.pyplot as plt\n",
        "import json \n",
        "import os\n",
        "import networkx as nx\n",
        "import graphviz\n",
        "from IPython.display import Image, display\n",
        "from dowhy import CausalModel\n",
        "import dowhy.gcm as gcm\n",
        "from pathlib import Path\n",
        "from pgmpy.base.DAG import DAG\n",
        "\n",
        "import warnings\n",
        "warnings.filterwarnings(\"ignore\")"
      ],
      "metadata": {
        "id": "8oZWOjb4vO4N"
      },
      "execution_count": 24,
      "outputs": []
    },
    {
      "cell_type": "markdown",
      "source": [
        "We use Kaggle's API to access and download the data, then we unzip it to a local directory."
      ],
      "metadata": {
        "id": "TjsDGgglOz32"
      }
    },
    {
      "cell_type": "code",
      "source": [
        "# your api key\n",
        "api_key = {\n",
        "'username':\"neusnagaich\" ,\n",
        "'key':\"5eca26127ba98bcfacb91b6d9716df50\"}\n",
        "\n",
        "# uses pathlib Path\n",
        "kaggle_path = Path('/root/.kaggle')\n",
        "os.makedirs(kaggle_path, exist_ok=True)\n",
        "\n",
        "# opens file and dumps python dict to json object \n",
        "with open (kaggle_path/'kaggle.json', 'w') as handl:\n",
        "    json.dump(api_key,handl)\n",
        "\n",
        "os.chmod(kaggle_path/'kaggle.json', 600)  "
      ],
      "metadata": {
        "id": "46ZZXjUw7-Lf"
      },
      "execution_count": 3,
      "outputs": []
    },
    {
      "cell_type": "code",
      "source": [
        "%%capture\n",
        "!kaggle datasets download subhamjain/loan-prediction-based-on-customer-behavior\n",
        "!unzip loan-prediction-based-on-customer-behavior.zip"
      ],
      "metadata": {
        "id": "e_ymJnsN8Dz-"
      },
      "execution_count": 4,
      "outputs": []
    },
    {
      "cell_type": "markdown",
      "source": [
        "## Inspecting and Cleaning the Data\n",
        "In this section, we inspect our loaded data and clean it as needed. \n",
        "\n",
        "The home ownership column has 3 categories and therefore would be converted into 3 classes, by default. To convert this into a binary variable, rented ownership status is changed to no ownership. In our data cleaning process, we encode categorical variables using n-hot encoding"
      ],
      "metadata": {
        "id": "R8JATeWN8da9"
      }
    },
    {
      "cell_type": "code",
      "source": [
        "## Import Data\n",
        "df = pd.read_csv('Training Data.csv')\n",
        "\n",
        "# Fix Ownership column\n",
        "def change_ownership(ownership_status):\n",
        "  if ownership_status == \"rented\":\n",
        "    return \"norent_noown\"\n",
        "  return ownership_status\n",
        "\n",
        "# Apply Fix \n",
        "df['House_Ownership'] = df['House_Ownership'].apply(change_ownership)\n",
        "\n",
        "# Cleaning Data\n",
        "def cleanData(df):\n",
        "  # grab headers\n",
        "  headers = [h for h in df.columns]\n",
        "\n",
        "  # these columns contain numeric data\n",
        "  n_cols = df[headers].select_dtypes(include=np.number).columns.tolist()\n",
        "  print(\"\\nnumeric columns: \", n_cols)\n",
        "\n",
        "  # these columns contain categorical data\n",
        "  c_cols = df[headers].select_dtypes('object').columns.tolist()\n",
        "  print(\"\\ncategorical columns: \", c_cols)\n",
        "\n",
        "  # encode categorical data using pandas \n",
        "  df[c_cols] = df[c_cols].astype('category')\n",
        "  df[c_cols] = df[c_cols].apply(lambda x: x.cat.codes)\n",
        "\n",
        "  # replace missing data with the average of the column\n",
        "  df = df.fillna(df.mean())\n",
        "\n",
        "# clean data\n",
        "cleanData(df)"
      ],
      "metadata": {
        "colab": {
          "base_uri": "https://localhost:8080/"
        },
        "id": "7c6xL9J08LGe",
        "outputId": "8b01839f-0370-4e39-862f-a0e47c0fbf45"
      },
      "execution_count": 5,
      "outputs": [
        {
          "output_type": "stream",
          "name": "stdout",
          "text": [
            "\n",
            "numeric columns:  ['Id', 'Income', 'Age', 'Experience', 'CURRENT_JOB_YRS', 'CURRENT_HOUSE_YRS', 'Risk_Flag']\n",
            "\n",
            "categorical columns:  ['Married/Single', 'House_Ownership', 'Car_Ownership', 'Profession', 'CITY', 'STATE']\n"
          ]
        }
      ]
    },
    {
      "cell_type": "markdown",
      "source": [
        "Here we visualize the cleaned data"
      ],
      "metadata": {
        "id": "wzZEgTVZPPo8"
      }
    },
    {
      "cell_type": "code",
      "source": [
        "df.head()"
      ],
      "metadata": {
        "colab": {
          "base_uri": "https://localhost:8080/",
          "height": 270
        },
        "id": "_rFimZ9l7cVz",
        "outputId": "1bb64c3f-be76-40d2-e680-0bdc26aabe80"
      },
      "execution_count": 6,
      "outputs": [
        {
          "output_type": "execute_result",
          "data": {
            "text/plain": [
              "   Id   Income  Age  Experience  Married/Single  House_Ownership  \\\n",
              "0   1  1303834   23           3               1                0   \n",
              "1   2  7574516   40          10               1                0   \n",
              "2   3  3991815   66           4               0                0   \n",
              "3   4  6256451   41           2               1                0   \n",
              "4   5  5768871   47          11               1                0   \n",
              "\n",
              "   Car_Ownership  Profession  CITY  STATE  CURRENT_JOB_YRS  CURRENT_HOUSE_YRS  \\\n",
              "0              0          33   251     13                3                 13   \n",
              "1              0          43   227     14                9                 13   \n",
              "2              0          47     8     12                4                 10   \n",
              "3              1          43    54     17                2                 12   \n",
              "4              0          11   296     22                3                 14   \n",
              "\n",
              "   Risk_Flag  \n",
              "0          0  \n",
              "1          0  \n",
              "2          0  \n",
              "3          1  \n",
              "4          1  "
            ],
            "text/html": [
              "\n",
              "  <div id=\"df-4ebb4a07-87fc-42cc-9e77-fa4816b8766c\">\n",
              "    <div class=\"colab-df-container\">\n",
              "      <div>\n",
              "<style scoped>\n",
              "    .dataframe tbody tr th:only-of-type {\n",
              "        vertical-align: middle;\n",
              "    }\n",
              "\n",
              "    .dataframe tbody tr th {\n",
              "        vertical-align: top;\n",
              "    }\n",
              "\n",
              "    .dataframe thead th {\n",
              "        text-align: right;\n",
              "    }\n",
              "</style>\n",
              "<table border=\"1\" class=\"dataframe\">\n",
              "  <thead>\n",
              "    <tr style=\"text-align: right;\">\n",
              "      <th></th>\n",
              "      <th>Id</th>\n",
              "      <th>Income</th>\n",
              "      <th>Age</th>\n",
              "      <th>Experience</th>\n",
              "      <th>Married/Single</th>\n",
              "      <th>House_Ownership</th>\n",
              "      <th>Car_Ownership</th>\n",
              "      <th>Profession</th>\n",
              "      <th>CITY</th>\n",
              "      <th>STATE</th>\n",
              "      <th>CURRENT_JOB_YRS</th>\n",
              "      <th>CURRENT_HOUSE_YRS</th>\n",
              "      <th>Risk_Flag</th>\n",
              "    </tr>\n",
              "  </thead>\n",
              "  <tbody>\n",
              "    <tr>\n",
              "      <th>0</th>\n",
              "      <td>1</td>\n",
              "      <td>1303834</td>\n",
              "      <td>23</td>\n",
              "      <td>3</td>\n",
              "      <td>1</td>\n",
              "      <td>0</td>\n",
              "      <td>0</td>\n",
              "      <td>33</td>\n",
              "      <td>251</td>\n",
              "      <td>13</td>\n",
              "      <td>3</td>\n",
              "      <td>13</td>\n",
              "      <td>0</td>\n",
              "    </tr>\n",
              "    <tr>\n",
              "      <th>1</th>\n",
              "      <td>2</td>\n",
              "      <td>7574516</td>\n",
              "      <td>40</td>\n",
              "      <td>10</td>\n",
              "      <td>1</td>\n",
              "      <td>0</td>\n",
              "      <td>0</td>\n",
              "      <td>43</td>\n",
              "      <td>227</td>\n",
              "      <td>14</td>\n",
              "      <td>9</td>\n",
              "      <td>13</td>\n",
              "      <td>0</td>\n",
              "    </tr>\n",
              "    <tr>\n",
              "      <th>2</th>\n",
              "      <td>3</td>\n",
              "      <td>3991815</td>\n",
              "      <td>66</td>\n",
              "      <td>4</td>\n",
              "      <td>0</td>\n",
              "      <td>0</td>\n",
              "      <td>0</td>\n",
              "      <td>47</td>\n",
              "      <td>8</td>\n",
              "      <td>12</td>\n",
              "      <td>4</td>\n",
              "      <td>10</td>\n",
              "      <td>0</td>\n",
              "    </tr>\n",
              "    <tr>\n",
              "      <th>3</th>\n",
              "      <td>4</td>\n",
              "      <td>6256451</td>\n",
              "      <td>41</td>\n",
              "      <td>2</td>\n",
              "      <td>1</td>\n",
              "      <td>0</td>\n",
              "      <td>1</td>\n",
              "      <td>43</td>\n",
              "      <td>54</td>\n",
              "      <td>17</td>\n",
              "      <td>2</td>\n",
              "      <td>12</td>\n",
              "      <td>1</td>\n",
              "    </tr>\n",
              "    <tr>\n",
              "      <th>4</th>\n",
              "      <td>5</td>\n",
              "      <td>5768871</td>\n",
              "      <td>47</td>\n",
              "      <td>11</td>\n",
              "      <td>1</td>\n",
              "      <td>0</td>\n",
              "      <td>0</td>\n",
              "      <td>11</td>\n",
              "      <td>296</td>\n",
              "      <td>22</td>\n",
              "      <td>3</td>\n",
              "      <td>14</td>\n",
              "      <td>1</td>\n",
              "    </tr>\n",
              "  </tbody>\n",
              "</table>\n",
              "</div>\n",
              "      <button class=\"colab-df-convert\" onclick=\"convertToInteractive('df-4ebb4a07-87fc-42cc-9e77-fa4816b8766c')\"\n",
              "              title=\"Convert this dataframe to an interactive table.\"\n",
              "              style=\"display:none;\">\n",
              "        \n",
              "  <svg xmlns=\"http://www.w3.org/2000/svg\" height=\"24px\"viewBox=\"0 0 24 24\"\n",
              "       width=\"24px\">\n",
              "    <path d=\"M0 0h24v24H0V0z\" fill=\"none\"/>\n",
              "    <path d=\"M18.56 5.44l.94 2.06.94-2.06 2.06-.94-2.06-.94-.94-2.06-.94 2.06-2.06.94zm-11 1L8.5 8.5l.94-2.06 2.06-.94-2.06-.94L8.5 2.5l-.94 2.06-2.06.94zm10 10l.94 2.06.94-2.06 2.06-.94-2.06-.94-.94-2.06-.94 2.06-2.06.94z\"/><path d=\"M17.41 7.96l-1.37-1.37c-.4-.4-.92-.59-1.43-.59-.52 0-1.04.2-1.43.59L10.3 9.45l-7.72 7.72c-.78.78-.78 2.05 0 2.83L4 21.41c.39.39.9.59 1.41.59.51 0 1.02-.2 1.41-.59l7.78-7.78 2.81-2.81c.8-.78.8-2.07 0-2.86zM5.41 20L4 18.59l7.72-7.72 1.47 1.35L5.41 20z\"/>\n",
              "  </svg>\n",
              "      </button>\n",
              "      \n",
              "  <style>\n",
              "    .colab-df-container {\n",
              "      display:flex;\n",
              "      flex-wrap:wrap;\n",
              "      gap: 12px;\n",
              "    }\n",
              "\n",
              "    .colab-df-convert {\n",
              "      background-color: #E8F0FE;\n",
              "      border: none;\n",
              "      border-radius: 50%;\n",
              "      cursor: pointer;\n",
              "      display: none;\n",
              "      fill: #1967D2;\n",
              "      height: 32px;\n",
              "      padding: 0 0 0 0;\n",
              "      width: 32px;\n",
              "    }\n",
              "\n",
              "    .colab-df-convert:hover {\n",
              "      background-color: #E2EBFA;\n",
              "      box-shadow: 0px 1px 2px rgba(60, 64, 67, 0.3), 0px 1px 3px 1px rgba(60, 64, 67, 0.15);\n",
              "      fill: #174EA6;\n",
              "    }\n",
              "\n",
              "    [theme=dark] .colab-df-convert {\n",
              "      background-color: #3B4455;\n",
              "      fill: #D2E3FC;\n",
              "    }\n",
              "\n",
              "    [theme=dark] .colab-df-convert:hover {\n",
              "      background-color: #434B5C;\n",
              "      box-shadow: 0px 1px 3px 1px rgba(0, 0, 0, 0.15);\n",
              "      filter: drop-shadow(0px 1px 2px rgba(0, 0, 0, 0.3));\n",
              "      fill: #FFFFFF;\n",
              "    }\n",
              "  </style>\n",
              "\n",
              "      <script>\n",
              "        const buttonEl =\n",
              "          document.querySelector('#df-4ebb4a07-87fc-42cc-9e77-fa4816b8766c button.colab-df-convert');\n",
              "        buttonEl.style.display =\n",
              "          google.colab.kernel.accessAllowed ? 'block' : 'none';\n",
              "\n",
              "        async function convertToInteractive(key) {\n",
              "          const element = document.querySelector('#df-4ebb4a07-87fc-42cc-9e77-fa4816b8766c');\n",
              "          const dataTable =\n",
              "            await google.colab.kernel.invokeFunction('convertToInteractive',\n",
              "                                                     [key], {});\n",
              "          if (!dataTable) return;\n",
              "\n",
              "          const docLinkHtml = 'Like what you see? Visit the ' +\n",
              "            '<a target=\"_blank\" href=https://colab.research.google.com/notebooks/data_table.ipynb>data table notebook</a>'\n",
              "            + ' to learn more about interactive tables.';\n",
              "          element.innerHTML = '';\n",
              "          dataTable['output_type'] = 'display_data';\n",
              "          await google.colab.output.renderOutput(dataTable, element);\n",
              "          const docLink = document.createElement('div');\n",
              "          docLink.innerHTML = docLinkHtml;\n",
              "          element.appendChild(docLink);\n",
              "        }\n",
              "      </script>\n",
              "    </div>\n",
              "  </div>\n",
              "  "
            ]
          },
          "metadata": {},
          "execution_count": 6
        }
      ]
    },
    {
      "cell_type": "markdown",
      "source": [
        "We note that our data was compiled using stratified sampling of income groups, leaving us with a roughly uniform distribution of income. This is not representative of our population, but we will be using the uniform amounts of data to better compare between income buckets, as we will also sample from these stratified groups."
      ],
      "metadata": {
        "id": "TbZTq89gvSb4"
      }
    },
    {
      "cell_type": "code",
      "source": [
        "df['Income'].plot.kde();"
      ],
      "metadata": {
        "colab": {
          "base_uri": "https://localhost:8080/",
          "height": 289
        },
        "id": "zOTlZ054vHc7",
        "outputId": "e93b35ce-ced1-48b5-dde4-f3f1aaef5821"
      },
      "execution_count": 7,
      "outputs": [
        {
          "output_type": "display_data",
          "data": {
            "text/plain": [
              "<Figure size 432x288 with 1 Axes>"
            ],
            "image/png": "[encoded data removed]"
          },
          "metadata": {
            "needs_background": "light"
          }
        }
      ]
    },
    {
      "cell_type": "markdown",
      "source": [
        "## Step 1: Create Causal Model\n",
        "We define causal assumptions with DoWhy. For example, we can include features we believe as common causes and instrumental variables. With these assumptions defined, DoWhy can generate a causal graph, and we can use that graph to identify the causal effect."
      ],
      "metadata": {
        "id": "UmQK2k5qNdy3"
      }
    },
    {
      "cell_type": "code",
      "source": [
        "# Build the causal DAG.\n",
        "dot = graphviz.Digraph()\n",
        "\n",
        "dot.node('Age', 'Age')\n",
        "dot.node('Married/Single', 'Married/Single')\n",
        "dot.node('House_Ownership', 'House_Ownership')\n",
        "dot.node('CURRENT_JOB_YRS', 'CURRENT_JOB_YRS')\n",
        "dot.node('Experience', 'Experience')\n",
        "dot.node('Income', 'Income')\n",
        "dot.node('House_Ownership', 'House_Ownership')\n",
        "dot.node('Profession', 'Profession')\n",
        "dot.node('CITY', 'CITY')\n",
        "dot.node('Car_Ownership', 'Car_Ownership')\n",
        "dot.node('CURRENT_HOUSE_YRS', 'CURRENT_HOUSE_YRS')\n",
        "dot.node('Risk_Flag', 'Risk_Flag')\n",
        "dot.node('Latent Variables', 'Latent Variables')\n",
        "\n",
        "dot.edge('Age','Married/Single')\n",
        "dot.edge('Married/Single','House_Ownership')\n",
        "dot.edge('Age','CURRENT_JOB_YRS')\n",
        "dot.edge('CURRENT_JOB_YRS','Experience')\n",
        "dot.edge('Experience','Income')\n",
        "dot.edge('Income','House_Ownership')\n",
        "dot.edge('Profession','Income')\n",
        "dot.edge('CITY', 'Profession')\n",
        "dot.edge('CITY', 'Car_Ownership')\n",
        "dot.edge('CITY', 'House_Ownership')\n",
        "dot.edge('Income', 'Car_Ownership')\n",
        "dot.edge('House_Ownership', 'CURRENT_HOUSE_YRS')\n",
        "dot.edge('Married/Single', 'Risk_Flag')\n",
        "dot.edge('Income', 'Risk_Flag')\n",
        "dot.edge('CITY', 'Risk_Flag')\n",
        "    \n",
        "\n",
        "model = CausalModel(\n",
        "    data=df,\n",
        "    graph = dot.source.replace(\"\\t\", \" \").replace(\"\\n\", ' '),\n",
        "    treatment=['Married/Single'],\n",
        "    outcome=[\"Risk_Flag\"],\n",
        "    instruments =['Age'])\n",
        "model.view_model();"
      ],
      "metadata": {
        "colab": {
          "base_uri": "https://localhost:8080/",
          "height": 411
        },
        "id": "v5dsovuZNw94",
        "outputId": "c00f0fec-70fa-4a85-e3ab-cebb603a1d25"
      },
      "execution_count": 22,
      "outputs": [
        {
          "output_type": "stream",
          "name": "stderr",
          "text": [
            "ERROR:dowhy.causal_graph:Error: Pygraphviz cannot be loaded. No module named 'pygraphviz'\n",
            "Trying pydot ...\n",
            "WARNING:dowhy.causal_graph:Warning: Pygraphviz cannot be loaded. Check that graphviz and pygraphviz are installed.\n"
          ]
        },
        {
          "output_type": "display_data",
          "data": {
            "text/plain": [
              "<Figure size 576x432 with 1 Axes>"
            ],
            "image/png": "[encoded data removed]"
          },
          "metadata": {}
        }
      ]
    },
    {
      "cell_type": "markdown",
      "source": [
        "## Step 2: Identify Estimand\n",
        "\n",
        "We identify the causal effect that we are interested in between Married/Single and Risk_Flag"
      ],
      "metadata": {
        "id": "a3UZg-w2c_JT"
      }
    },
    {
      "cell_type": "code",
      "source": [
        "identified_estimand = model.identify_effect(proceed_when_unidentifiable=True)\n",
        "print(identified_estimand)"
      ],
      "metadata": {
        "colab": {
          "base_uri": "https://localhost:8080/"
        },
        "id": "94i1pHlWPfcV",
        "outputId": "368ed667-a507-483f-f025-5259b975c265"
      },
      "execution_count": 9,
      "outputs": [
        {
          "output_type": "stream",
          "name": "stdout",
          "text": [
            "Estimand type: nonparametric-ate\n",
            "\n",
            "### Estimand : 1\n",
            "Estimand name: backdoor\n",
            "Estimand expression:\n",
            "        d                                    \n",
            "─────────────────(Expectation(Risk_Flag|Age))\n",
            "d[Married/Single]                            \n",
            "Estimand assumption 1, Unconfoundedness: If U→{Married/Single} and U→Risk_Flag then P(Risk_Flag|Married/Single,Age,U) = P(Risk_Flag|Married/Single,Age)\n",
            "\n",
            "### Estimand : 2\n",
            "Estimand name: iv\n",
            "No such variable(s) found!\n",
            "\n",
            "### Estimand : 3\n",
            "Estimand name: frontdoor\n",
            "No such variable(s) found!\n",
            "\n"
          ]
        }
      ]
    },
    {
      "cell_type": "markdown",
      "metadata": {
        "id": "FIHYK9sa6MkZ"
      },
      "source": [
        "## Step 3: Calculate Effect of Marital Status on Risk Flag\n",
        "We use linear regression to calculate the average treatment effect."
      ]
    },
    {
      "cell_type": "code",
      "source": [
        "causal_estimate_reg = model.estimate_effect(identified_estimand,\n",
        "        method_name=\"backdoor.linear_regression\",\n",
        "        confidence_intervals=True)\n",
        "\n",
        "print(causal_estimate_reg)\n",
        "print(\"The causal effect estimate is \" + str(round(causal_estimate_reg.value, 4)))"
      ],
      "metadata": {
        "colab": {
          "base_uri": "https://localhost:8080/"
        },
        "id": "yo8hNBTyrW12",
        "outputId": "417a5db9-de9f-4fd8-dfc0-7aff192ddebf"
      },
      "execution_count": 10,
      "outputs": [
        {
          "output_type": "stream",
          "name": "stdout",
          "text": [
            "linear_regression\n",
            "{'control_value': 0, 'treatment_value': 1, 'test_significance': None, 'evaluate_effect_strength': False, 'confidence_intervals': True, 'target_units': 'ate', 'effect_modifiers': ['Experience', 'CITY', 'CURRENT_JOB_YRS', 'Income', 'Profession']}\n",
            "{'treatment_value': 1, 'control_value': 0, 'test_significance': False, 'evaluate_effect_strength': False, 'confidence_intervals': False, 'target_units': 'ate', 'effect_modifiers': ['Experience', 'CITY', 'CURRENT_JOB_YRS', 'Income', 'Profession']}\n",
            "{'treatment_value': 1, 'control_value': 0, 'test_significance': False, 'evaluate_effect_strength': False, 'confidence_intervals': False, 'target_units': 'ate', 'effect_modifiers': ['Experience', 'CITY', 'CURRENT_JOB_YRS', 'Income', 'Profession']}\n",
            "{'treatment_value': 1, 'control_value': 0, 'test_significance': False, 'evaluate_effect_strength': False, 'confidence_intervals': False, 'target_units': 'ate', 'effect_modifiers': ['Experience', 'CITY', 'CURRENT_JOB_YRS', 'Income', 'Profession']}\n",
            "{'treatment_value': 1, 'control_value': 0, 'test_significance': False, 'evaluate_effect_strength': False, 'confidence_intervals': False, 'target_units': 'ate', 'effect_modifiers': ['Experience', 'CITY', 'CURRENT_JOB_YRS', 'Income', 'Profession']}\n",
            "{'treatment_value': 1, 'control_value': 0, 'test_significance': False, 'evaluate_effect_strength': False, 'confidence_intervals': False, 'target_units': 'ate', 'effect_modifiers': ['Experience', 'CITY', 'CURRENT_JOB_YRS', 'Income', 'Profession']}\n",
            "{'treatment_value': 1, 'control_value': 0, 'test_significance': False, 'evaluate_effect_strength': False, 'confidence_intervals': False, 'target_units': 'ate', 'effect_modifiers': ['Experience', 'CITY', 'CURRENT_JOB_YRS', 'Income', 'Profession']}\n",
            "{'treatment_value': 1, 'control_value': 0, 'test_significance': False, 'evaluate_effect_strength': False, 'confidence_intervals': False, 'target_units': 'ate', 'effect_modifiers': ['Experience', 'CITY', 'CURRENT_JOB_YRS', 'Income', 'Profession']}\n",
            "{'treatment_value': 1, 'control_value': 0, 'test_significance': False, 'evaluate_effect_strength': False, 'confidence_intervals': False, 'target_units': 'ate', 'effect_modifiers': ['Experience', 'CITY', 'CURRENT_JOB_YRS', 'Income', 'Profession']}\n",
            "{'treatment_value': 1, 'control_value': 0, 'test_significance': False, 'evaluate_effect_strength': False, 'confidence_intervals': False, 'target_units': 'ate', 'effect_modifiers': ['Experience', 'CITY', 'CURRENT_JOB_YRS', 'Income', 'Profession']}\n",
            "{'treatment_value': 1, 'control_value': 0, 'test_significance': False, 'evaluate_effect_strength': False, 'confidence_intervals': False, 'target_units': 'ate', 'effect_modifiers': ['Experience', 'CITY', 'CURRENT_JOB_YRS', 'Income', 'Profession']}\n",
            "{'treatment_value': 1, 'control_value': 0, 'test_significance': False, 'evaluate_effect_strength': False, 'confidence_intervals': False, 'target_units': 'ate', 'effect_modifiers': ['Experience', 'CITY', 'CURRENT_JOB_YRS', 'Income', 'Profession']}\n",
            "{'treatment_value': 1, 'control_value': 0, 'test_significance': False, 'evaluate_effect_strength': False, 'confidence_intervals': False, 'target_units': 'ate', 'effect_modifiers': ['Experience', 'CITY', 'CURRENT_JOB_YRS', 'Income', 'Profession']}\n",
            "{'treatment_value': 1, 'control_value': 0, 'test_significance': False, 'evaluate_effect_strength': False, 'confidence_intervals': False, 'target_units': 'ate', 'effect_modifiers': ['Experience', 'CITY', 'CURRENT_JOB_YRS', 'Income', 'Profession']}\n",
            "{'treatment_value': 1, 'control_value': 0, 'test_significance': False, 'evaluate_effect_strength': False, 'confidence_intervals': False, 'target_units': 'ate', 'effect_modifiers': ['Experience', 'CITY', 'CURRENT_JOB_YRS', 'Income', 'Profession']}\n",
            "{'treatment_value': 1, 'control_value': 0, 'test_significance': False, 'evaluate_effect_strength': False, 'confidence_intervals': False, 'target_units': 'ate', 'effect_modifiers': ['Experience', 'CITY', 'CURRENT_JOB_YRS', 'Income', 'Profession']}\n",
            "{'treatment_value': 1, 'control_value': 0, 'test_significance': False, 'evaluate_effect_strength': False, 'confidence_intervals': False, 'target_units': 'ate', 'effect_modifiers': ['Experience', 'CITY', 'CURRENT_JOB_YRS', 'Income', 'Profession']}\n",
            "{'treatment_value': 1, 'control_value': 0, 'test_significance': False, 'evaluate_effect_strength': False, 'confidence_intervals': False, 'target_units': 'ate', 'effect_modifiers': ['Experience', 'CITY', 'CURRENT_JOB_YRS', 'Income', 'Profession']}\n",
            "{'treatment_value': 1, 'control_value': 0, 'test_significance': False, 'evaluate_effect_strength': False, 'confidence_intervals': False, 'target_units': 'ate', 'effect_modifiers': ['Experience', 'CITY', 'CURRENT_JOB_YRS', 'Income', 'Profession']}\n",
            "{'treatment_value': 1, 'control_value': 0, 'test_significance': False, 'evaluate_effect_strength': False, 'confidence_intervals': False, 'target_units': 'ate', 'effect_modifiers': ['Experience', 'CITY', 'CURRENT_JOB_YRS', 'Income', 'Profession']}\n",
            "{'treatment_value': 1, 'control_value': 0, 'test_significance': False, 'evaluate_effect_strength': False, 'confidence_intervals': False, 'target_units': 'ate', 'effect_modifiers': ['Experience', 'CITY', 'CURRENT_JOB_YRS', 'Income', 'Profession']}\n",
            "{'treatment_value': 1, 'control_value': 0, 'test_significance': False, 'evaluate_effect_strength': False, 'confidence_intervals': False, 'target_units': 'ate', 'effect_modifiers': ['Experience', 'CITY', 'CURRENT_JOB_YRS', 'Income', 'Profession']}\n",
            "{'treatment_value': 1, 'control_value': 0, 'test_significance': False, 'evaluate_effect_strength': False, 'confidence_intervals': False, 'target_units': 'ate', 'effect_modifiers': ['Experience', 'CITY', 'CURRENT_JOB_YRS', 'Income', 'Profession']}\n",
            "{'treatment_value': 1, 'control_value': 0, 'test_significance': False, 'evaluate_effect_strength': False, 'confidence_intervals': False, 'target_units': 'ate', 'effect_modifiers': ['Experience', 'CITY', 'CURRENT_JOB_YRS', 'Income', 'Profession']}\n",
            "{'treatment_value': 1, 'control_value': 0, 'test_significance': False, 'evaluate_effect_strength': False, 'confidence_intervals': False, 'target_units': 'ate', 'effect_modifiers': ['Experience', 'CITY', 'CURRENT_JOB_YRS', 'Income', 'Profession']}\n",
            "{'treatment_value': 1, 'control_value': 0, 'test_significance': False, 'evaluate_effect_strength': False, 'confidence_intervals': False, 'target_units': 'ate', 'effect_modifiers': ['Experience', 'CITY', 'CURRENT_JOB_YRS', 'Income', 'Profession']}\n",
            "{'treatment_value': 1, 'control_value': 0, 'test_significance': False, 'evaluate_effect_strength': False, 'confidence_intervals': False, 'target_units': 'ate', 'effect_modifiers': ['Experience', 'CITY', 'CURRENT_JOB_YRS', 'Income', 'Profession']}\n",
            "{'treatment_value': 1, 'control_value': 0, 'test_significance': False, 'evaluate_effect_strength': False, 'confidence_intervals': False, 'target_units': 'ate', 'effect_modifiers': ['Experience', 'CITY', 'CURRENT_JOB_YRS', 'Income', 'Profession']}\n",
            "{'treatment_value': 1, 'control_value': 0, 'test_significance': False, 'evaluate_effect_strength': False, 'confidence_intervals': False, 'target_units': 'ate', 'effect_modifiers': ['Experience', 'CITY', 'CURRENT_JOB_YRS', 'Income', 'Profession']}\n",
            "{'treatment_value': 1, 'control_value': 0, 'test_significance': False, 'evaluate_effect_strength': False, 'confidence_intervals': False, 'target_units': 'ate', 'effect_modifiers': ['Experience', 'CITY', 'CURRENT_JOB_YRS', 'Income', 'Profession']}\n",
            "{'treatment_value': 1, 'control_value': 0, 'test_significance': False, 'evaluate_effect_strength': False, 'confidence_intervals': False, 'target_units': 'ate', 'effect_modifiers': ['Experience', 'CITY', 'CURRENT_JOB_YRS', 'Income', 'Profession']}\n",
            "{'treatment_value': 1, 'control_value': 0, 'test_significance': False, 'evaluate_effect_strength': False, 'confidence_intervals': False, 'target_units': 'ate', 'effect_modifiers': ['Experience', 'CITY', 'CURRENT_JOB_YRS', 'Income', 'Profession']}\n",
            "{'treatment_value': 1, 'control_value': 0, 'test_significance': False, 'evaluate_effect_strength': False, 'confidence_intervals': False, 'target_units': 'ate', 'effect_modifiers': ['Experience', 'CITY', 'CURRENT_JOB_YRS', 'Income', 'Profession']}\n",
            "{'treatment_value': 1, 'control_value': 0, 'test_significance': False, 'evaluate_effect_strength': False, 'confidence_intervals': False, 'target_units': 'ate', 'effect_modifiers': ['Experience', 'CITY', 'CURRENT_JOB_YRS', 'Income', 'Profession']}\n",
            "{'treatment_value': 1, 'control_value': 0, 'test_significance': False, 'evaluate_effect_strength': False, 'confidence_intervals': False, 'target_units': 'ate', 'effect_modifiers': ['Experience', 'CITY', 'CURRENT_JOB_YRS', 'Income', 'Profession']}\n",
            "{'treatment_value': 1, 'control_value': 0, 'test_significance': False, 'evaluate_effect_strength': False, 'confidence_intervals': False, 'target_units': 'ate', 'effect_modifiers': ['Experience', 'CITY', 'CURRENT_JOB_YRS', 'Income', 'Profession']}\n",
            "{'treatment_value': 1, 'control_value': 0, 'test_significance': False, 'evaluate_effect_strength': False, 'confidence_intervals': False, 'target_units': 'ate', 'effect_modifiers': ['Experience', 'CITY', 'CURRENT_JOB_YRS', 'Income', 'Profession']}\n",
            "{'treatment_value': 1, 'control_value': 0, 'test_significance': False, 'evaluate_effect_strength': False, 'confidence_intervals': False, 'target_units': 'ate', 'effect_modifiers': ['Experience', 'CITY', 'CURRENT_JOB_YRS', 'Income', 'Profession']}\n",
            "{'treatment_value': 1, 'control_value': 0, 'test_significance': False, 'evaluate_effect_strength': False, 'confidence_intervals': False, 'target_units': 'ate', 'effect_modifiers': ['Experience', 'CITY', 'CURRENT_JOB_YRS', 'Income', 'Profession']}\n",
            "{'treatment_value': 1, 'control_value': 0, 'test_significance': False, 'evaluate_effect_strength': False, 'confidence_intervals': False, 'target_units': 'ate', 'effect_modifiers': ['Experience', 'CITY', 'CURRENT_JOB_YRS', 'Income', 'Profession']}\n",
            "{'treatment_value': 1, 'control_value': 0, 'test_significance': False, 'evaluate_effect_strength': False, 'confidence_intervals': False, 'target_units': 'ate', 'effect_modifiers': ['Experience', 'CITY', 'CURRENT_JOB_YRS', 'Income', 'Profession']}\n",
            "{'treatment_value': 1, 'control_value': 0, 'test_significance': False, 'evaluate_effect_strength': False, 'confidence_intervals': False, 'target_units': 'ate', 'effect_modifiers': ['Experience', 'CITY', 'CURRENT_JOB_YRS', 'Income', 'Profession']}\n",
            "{'treatment_value': 1, 'control_value': 0, 'test_significance': False, 'evaluate_effect_strength': False, 'confidence_intervals': False, 'target_units': 'ate', 'effect_modifiers': ['Experience', 'CITY', 'CURRENT_JOB_YRS', 'Income', 'Profession']}\n",
            "{'treatment_value': 1, 'control_value': 0, 'test_significance': False, 'evaluate_effect_strength': False, 'confidence_intervals': False, 'target_units': 'ate', 'effect_modifiers': ['Experience', 'CITY', 'CURRENT_JOB_YRS', 'Income', 'Profession']}\n",
            "{'treatment_value': 1, 'control_value': 0, 'test_significance': False, 'evaluate_effect_strength': False, 'confidence_intervals': False, 'target_units': 'ate', 'effect_modifiers': ['Experience', 'CITY', 'CURRENT_JOB_YRS', 'Income', 'Profession']}\n",
            "{'treatment_value': 1, 'control_value': 0, 'test_significance': False, 'evaluate_effect_strength': False, 'confidence_intervals': False, 'target_units': 'ate', 'effect_modifiers': ['Experience', 'CITY', 'CURRENT_JOB_YRS', 'Income', 'Profession']}\n",
            "{'treatment_value': 1, 'control_value': 0, 'test_significance': False, 'evaluate_effect_strength': False, 'confidence_intervals': False, 'target_units': 'ate', 'effect_modifiers': ['Experience', 'CITY', 'CURRENT_JOB_YRS', 'Income', 'Profession']}\n",
            "{'treatment_value': 1, 'control_value': 0, 'test_significance': False, 'evaluate_effect_strength': False, 'confidence_intervals': False, 'target_units': 'ate', 'effect_modifiers': ['Experience', 'CITY', 'CURRENT_JOB_YRS', 'Income', 'Profession']}\n",
            "{'treatment_value': 1, 'control_value': 0, 'test_significance': False, 'evaluate_effect_strength': False, 'confidence_intervals': False, 'target_units': 'ate', 'effect_modifiers': ['Experience', 'CITY', 'CURRENT_JOB_YRS', 'Income', 'Profession']}\n",
            "{'treatment_value': 1, 'control_value': 0, 'test_significance': False, 'evaluate_effect_strength': False, 'confidence_intervals': False, 'target_units': 'ate', 'effect_modifiers': ['Experience', 'CITY', 'CURRENT_JOB_YRS', 'Income', 'Profession']}\n",
            "{'treatment_value': 1, 'control_value': 0, 'test_significance': False, 'evaluate_effect_strength': False, 'confidence_intervals': False, 'target_units': 'ate', 'effect_modifiers': ['Experience', 'CITY', 'CURRENT_JOB_YRS', 'Income', 'Profession']}\n",
            "{'treatment_value': 1, 'control_value': 0, 'test_significance': False, 'evaluate_effect_strength': False, 'confidence_intervals': False, 'target_units': 'ate', 'effect_modifiers': ['Experience', 'CITY', 'CURRENT_JOB_YRS', 'Income', 'Profession']}\n",
            "{'treatment_value': 1, 'control_value': 0, 'test_significance': False, 'evaluate_effect_strength': False, 'confidence_intervals': False, 'target_units': 'ate', 'effect_modifiers': ['Experience', 'CITY', 'CURRENT_JOB_YRS', 'Income', 'Profession']}\n",
            "{'treatment_value': 1, 'control_value': 0, 'test_significance': False, 'evaluate_effect_strength': False, 'confidence_intervals': False, 'target_units': 'ate', 'effect_modifiers': ['Experience', 'CITY', 'CURRENT_JOB_YRS', 'Income', 'Profession']}\n",
            "{'treatment_value': 1, 'control_value': 0, 'test_significance': False, 'evaluate_effect_strength': False, 'confidence_intervals': False, 'target_units': 'ate', 'effect_modifiers': ['Experience', 'CITY', 'CURRENT_JOB_YRS', 'Income', 'Profession']}\n",
            "{'treatment_value': 1, 'control_value': 0, 'test_significance': False, 'evaluate_effect_strength': False, 'confidence_intervals': False, 'target_units': 'ate', 'effect_modifiers': ['Experience', 'CITY', 'CURRENT_JOB_YRS', 'Income', 'Profession']}\n",
            "{'treatment_value': 1, 'control_value': 0, 'test_significance': False, 'evaluate_effect_strength': False, 'confidence_intervals': False, 'target_units': 'ate', 'effect_modifiers': ['Experience', 'CITY', 'CURRENT_JOB_YRS', 'Income', 'Profession']}\n",
            "{'treatment_value': 1, 'control_value': 0, 'test_significance': False, 'evaluate_effect_strength': False, 'confidence_intervals': False, 'target_units': 'ate', 'effect_modifiers': ['Experience', 'CITY', 'CURRENT_JOB_YRS', 'Income', 'Profession']}\n",
            "{'treatment_value': 1, 'control_value': 0, 'test_significance': False, 'evaluate_effect_strength': False, 'confidence_intervals': False, 'target_units': 'ate', 'effect_modifiers': ['Experience', 'CITY', 'CURRENT_JOB_YRS', 'Income', 'Profession']}\n",
            "{'treatment_value': 1, 'control_value': 0, 'test_significance': False, 'evaluate_effect_strength': False, 'confidence_intervals': False, 'target_units': 'ate', 'effect_modifiers': ['Experience', 'CITY', 'CURRENT_JOB_YRS', 'Income', 'Profession']}\n",
            "{'treatment_value': 1, 'control_value': 0, 'test_significance': False, 'evaluate_effect_strength': False, 'confidence_intervals': False, 'target_units': 'ate', 'effect_modifiers': ['Experience', 'CITY', 'CURRENT_JOB_YRS', 'Income', 'Profession']}\n",
            "{'treatment_value': 1, 'control_value': 0, 'test_significance': False, 'evaluate_effect_strength': False, 'confidence_intervals': False, 'target_units': 'ate', 'effect_modifiers': ['Experience', 'CITY', 'CURRENT_JOB_YRS', 'Income', 'Profession']}\n",
            "{'treatment_value': 1, 'control_value': 0, 'test_significance': False, 'evaluate_effect_strength': False, 'confidence_intervals': False, 'target_units': 'ate', 'effect_modifiers': ['Experience', 'CITY', 'CURRENT_JOB_YRS', 'Income', 'Profession']}\n",
            "{'treatment_value': 1, 'control_value': 0, 'test_significance': False, 'evaluate_effect_strength': False, 'confidence_intervals': False, 'target_units': 'ate', 'effect_modifiers': ['Experience', 'CITY', 'CURRENT_JOB_YRS', 'Income', 'Profession']}\n",
            "{'treatment_value': 1, 'control_value': 0, 'test_significance': False, 'evaluate_effect_strength': False, 'confidence_intervals': False, 'target_units': 'ate', 'effect_modifiers': ['Experience', 'CITY', 'CURRENT_JOB_YRS', 'Income', 'Profession']}\n",
            "{'treatment_value': 1, 'control_value': 0, 'test_significance': False, 'evaluate_effect_strength': False, 'confidence_intervals': False, 'target_units': 'ate', 'effect_modifiers': ['Experience', 'CITY', 'CURRENT_JOB_YRS', 'Income', 'Profession']}\n",
            "{'treatment_value': 1, 'control_value': 0, 'test_significance': False, 'evaluate_effect_strength': False, 'confidence_intervals': False, 'target_units': 'ate', 'effect_modifiers': ['Experience', 'CITY', 'CURRENT_JOB_YRS', 'Income', 'Profession']}\n",
            "{'treatment_value': 1, 'control_value': 0, 'test_significance': False, 'evaluate_effect_strength': False, 'confidence_intervals': False, 'target_units': 'ate', 'effect_modifiers': ['Experience', 'CITY', 'CURRENT_JOB_YRS', 'Income', 'Profession']}\n",
            "{'treatment_value': 1, 'control_value': 0, 'test_significance': False, 'evaluate_effect_strength': False, 'confidence_intervals': False, 'target_units': 'ate', 'effect_modifiers': ['Experience', 'CITY', 'CURRENT_JOB_YRS', 'Income', 'Profession']}\n",
            "{'treatment_value': 1, 'control_value': 0, 'test_significance': False, 'evaluate_effect_strength': False, 'confidence_intervals': False, 'target_units': 'ate', 'effect_modifiers': ['Experience', 'CITY', 'CURRENT_JOB_YRS', 'Income', 'Profession']}\n",
            "{'treatment_value': 1, 'control_value': 0, 'test_significance': False, 'evaluate_effect_strength': False, 'confidence_intervals': False, 'target_units': 'ate', 'effect_modifiers': ['Experience', 'CITY', 'CURRENT_JOB_YRS', 'Income', 'Profession']}\n",
            "{'treatment_value': 1, 'control_value': 0, 'test_significance': False, 'evaluate_effect_strength': False, 'confidence_intervals': False, 'target_units': 'ate', 'effect_modifiers': ['Experience', 'CITY', 'CURRENT_JOB_YRS', 'Income', 'Profession']}\n",
            "{'treatment_value': 1, 'control_value': 0, 'test_significance': False, 'evaluate_effect_strength': False, 'confidence_intervals': False, 'target_units': 'ate', 'effect_modifiers': ['Experience', 'CITY', 'CURRENT_JOB_YRS', 'Income', 'Profession']}\n",
            "{'treatment_value': 1, 'control_value': 0, 'test_significance': False, 'evaluate_effect_strength': False, 'confidence_intervals': False, 'target_units': 'ate', 'effect_modifiers': ['Experience', 'CITY', 'CURRENT_JOB_YRS', 'Income', 'Profession']}\n",
            "{'treatment_value': 1, 'control_value': 0, 'test_significance': False, 'evaluate_effect_strength': False, 'confidence_intervals': False, 'target_units': 'ate', 'effect_modifiers': ['Experience', 'CITY', 'CURRENT_JOB_YRS', 'Income', 'Profession']}\n",
            "{'treatment_value': 1, 'control_value': 0, 'test_significance': False, 'evaluate_effect_strength': False, 'confidence_intervals': False, 'target_units': 'ate', 'effect_modifiers': ['Experience', 'CITY', 'CURRENT_JOB_YRS', 'Income', 'Profession']}\n",
            "{'treatment_value': 1, 'control_value': 0, 'test_significance': False, 'evaluate_effect_strength': False, 'confidence_intervals': False, 'target_units': 'ate', 'effect_modifiers': ['Experience', 'CITY', 'CURRENT_JOB_YRS', 'Income', 'Profession']}\n",
            "{'treatment_value': 1, 'control_value': 0, 'test_significance': False, 'evaluate_effect_strength': False, 'confidence_intervals': False, 'target_units': 'ate', 'effect_modifiers': ['Experience', 'CITY', 'CURRENT_JOB_YRS', 'Income', 'Profession']}\n",
            "{'treatment_value': 1, 'control_value': 0, 'test_significance': False, 'evaluate_effect_strength': False, 'confidence_intervals': False, 'target_units': 'ate', 'effect_modifiers': ['Experience', 'CITY', 'CURRENT_JOB_YRS', 'Income', 'Profession']}\n",
            "{'treatment_value': 1, 'control_value': 0, 'test_significance': False, 'evaluate_effect_strength': False, 'confidence_intervals': False, 'target_units': 'ate', 'effect_modifiers': ['Experience', 'CITY', 'CURRENT_JOB_YRS', 'Income', 'Profession']}\n",
            "{'treatment_value': 1, 'control_value': 0, 'test_significance': False, 'evaluate_effect_strength': False, 'confidence_intervals': False, 'target_units': 'ate', 'effect_modifiers': ['Experience', 'CITY', 'CURRENT_JOB_YRS', 'Income', 'Profession']}\n",
            "{'treatment_value': 1, 'control_value': 0, 'test_significance': False, 'evaluate_effect_strength': False, 'confidence_intervals': False, 'target_units': 'ate', 'effect_modifiers': ['Experience', 'CITY', 'CURRENT_JOB_YRS', 'Income', 'Profession']}\n",
            "{'treatment_value': 1, 'control_value': 0, 'test_significance': False, 'evaluate_effect_strength': False, 'confidence_intervals': False, 'target_units': 'ate', 'effect_modifiers': ['Experience', 'CITY', 'CURRENT_JOB_YRS', 'Income', 'Profession']}\n",
            "{'treatment_value': 1, 'control_value': 0, 'test_significance': False, 'evaluate_effect_strength': False, 'confidence_intervals': False, 'target_units': 'ate', 'effect_modifiers': ['Experience', 'CITY', 'CURRENT_JOB_YRS', 'Income', 'Profession']}\n",
            "{'treatment_value': 1, 'control_value': 0, 'test_significance': False, 'evaluate_effect_strength': False, 'confidence_intervals': False, 'target_units': 'ate', 'effect_modifiers': ['Experience', 'CITY', 'CURRENT_JOB_YRS', 'Income', 'Profession']}\n",
            "{'treatment_value': 1, 'control_value': 0, 'test_significance': False, 'evaluate_effect_strength': False, 'confidence_intervals': False, 'target_units': 'ate', 'effect_modifiers': ['Experience', 'CITY', 'CURRENT_JOB_YRS', 'Income', 'Profession']}\n",
            "{'treatment_value': 1, 'control_value': 0, 'test_significance': False, 'evaluate_effect_strength': False, 'confidence_intervals': False, 'target_units': 'ate', 'effect_modifiers': ['Experience', 'CITY', 'CURRENT_JOB_YRS', 'Income', 'Profession']}\n",
            "{'treatment_value': 1, 'control_value': 0, 'test_significance': False, 'evaluate_effect_strength': False, 'confidence_intervals': False, 'target_units': 'ate', 'effect_modifiers': ['Experience', 'CITY', 'CURRENT_JOB_YRS', 'Income', 'Profession']}\n",
            "{'treatment_value': 1, 'control_value': 0, 'test_significance': False, 'evaluate_effect_strength': False, 'confidence_intervals': False, 'target_units': 'ate', 'effect_modifiers': ['Experience', 'CITY', 'CURRENT_JOB_YRS', 'Income', 'Profession']}\n",
            "{'treatment_value': 1, 'control_value': 0, 'test_significance': False, 'evaluate_effect_strength': False, 'confidence_intervals': False, 'target_units': 'ate', 'effect_modifiers': ['Experience', 'CITY', 'CURRENT_JOB_YRS', 'Income', 'Profession']}\n",
            "{'treatment_value': 1, 'control_value': 0, 'test_significance': False, 'evaluate_effect_strength': False, 'confidence_intervals': False, 'target_units': 'ate', 'effect_modifiers': ['Experience', 'CITY', 'CURRENT_JOB_YRS', 'Income', 'Profession']}\n",
            "{'treatment_value': 1, 'control_value': 0, 'test_significance': False, 'evaluate_effect_strength': False, 'confidence_intervals': False, 'target_units': 'ate', 'effect_modifiers': ['Experience', 'CITY', 'CURRENT_JOB_YRS', 'Income', 'Profession']}\n",
            "{'treatment_value': 1, 'control_value': 0, 'test_significance': False, 'evaluate_effect_strength': False, 'confidence_intervals': False, 'target_units': 'ate', 'effect_modifiers': ['Experience', 'CITY', 'CURRENT_JOB_YRS', 'Income', 'Profession']}\n",
            "{'treatment_value': 1, 'control_value': 0, 'test_significance': False, 'evaluate_effect_strength': False, 'confidence_intervals': False, 'target_units': 'ate', 'effect_modifiers': ['Experience', 'CITY', 'CURRENT_JOB_YRS', 'Income', 'Profession']}\n",
            "{'treatment_value': 1, 'control_value': 0, 'test_significance': False, 'evaluate_effect_strength': False, 'confidence_intervals': False, 'target_units': 'ate', 'effect_modifiers': ['Experience', 'CITY', 'CURRENT_JOB_YRS', 'Income', 'Profession']}\n",
            "{'treatment_value': 1, 'control_value': 0, 'test_significance': False, 'evaluate_effect_strength': False, 'confidence_intervals': False, 'target_units': 'ate', 'effect_modifiers': ['Experience', 'CITY', 'CURRENT_JOB_YRS', 'Income', 'Profession']}\n",
            "{'treatment_value': 1, 'control_value': 0, 'test_significance': False, 'evaluate_effect_strength': False, 'confidence_intervals': False, 'target_units': 'ate', 'effect_modifiers': ['Experience', 'CITY', 'CURRENT_JOB_YRS', 'Income', 'Profession']}\n",
            "{'treatment_value': 1, 'control_value': 0, 'test_significance': False, 'evaluate_effect_strength': False, 'confidence_intervals': False, 'target_units': 'ate', 'effect_modifiers': ['Experience', 'CITY', 'CURRENT_JOB_YRS', 'Income', 'Profession']}\n",
            "{'treatment_value': 1, 'control_value': 0, 'test_significance': False, 'evaluate_effect_strength': False, 'confidence_intervals': False, 'target_units': 'ate', 'effect_modifiers': ['Experience', 'CITY', 'CURRENT_JOB_YRS', 'Income', 'Profession']}\n",
            "{'treatment_value': 1, 'control_value': 0, 'test_significance': False, 'evaluate_effect_strength': False, 'confidence_intervals': False, 'target_units': 'ate', 'effect_modifiers': ['Experience', 'CITY', 'CURRENT_JOB_YRS', 'Income', 'Profession']}\n",
            "{'treatment_value': 1, 'control_value': 0, 'test_significance': False, 'evaluate_effect_strength': False, 'confidence_intervals': False, 'target_units': 'ate', 'effect_modifiers': ['Experience', 'CITY', 'CURRENT_JOB_YRS', 'Income', 'Profession']}\n",
            "*** Causal Estimate ***\n",
            "\n",
            "## Identified estimand\n",
            "Estimand type: nonparametric-ate\n",
            "\n",
            "### Estimand : 1\n",
            "Estimand name: backdoor\n",
            "Estimand expression:\n",
            "        d                                    \n",
            "─────────────────(Expectation(Risk_Flag|Age))\n",
            "d[Married/Single]                            \n",
            "Estimand assumption 1, Unconfoundedness: If U→{Married/Single} and U→Risk_Flag then P(Risk_Flag|Married/Single,Age,U) = P(Risk_Flag|Married/Single,Age)\n",
            "\n",
            "## Realized estimand\n",
            "b: Risk_Flag~Married/Single+Age+Married/Single*Experience+Married/Single*CITY+Married/Single*CURRENT_JOB_YRS+Married/Single*Income+Married/Single*Profession\n",
            "Target units: ate\n",
            "\n",
            "## Estimate\n",
            "Mean value: 0.02272796912728403\n",
            "95.0% confidence interval: (0.01933475739075005, 0.026144199516596967)\n",
            "### Conditional Estimates\n",
            "__categorical__Experience  __categorical__CITY  __categorical__CURRENT_JOB_YRS  __categorical__Income   __categorical__Profession\n",
            "(-0.001, 4.0]              (-0.001, 63.0]       (-0.001, 3.0]                   (10309.999, 2010564.0]  (-0.001, 10.0]               0.036934\n",
            "                                                                                                        (10.0, 20.0]                 0.036546\n",
            "                                                                                                        (20.0, 31.0]                 0.035276\n",
            "                                                                                                        (31.0, 40.0]                 0.032263\n",
            "                                                                                                        (40.0, 50.0]                 0.032424\n",
            "                                                                                                                                       ...   \n",
            "(16.0, 20.0]               (256.0, 316.0]       (10.0, 14.0]                    (7957694.0, 9999938.0]  (-0.001, 10.0]               0.017964\n",
            "                                                                                                        (10.0, 20.0]                 0.013340\n",
            "                                                                                                        (20.0, 31.0]                 0.009975\n",
            "                                                                                                        (31.0, 40.0]                 0.010083\n",
            "                                                                                                        (40.0, 50.0]                 0.008115\n",
            "Length: 2622, dtype: float64\n",
            "The causal effect estimate is 0.0227\n"
          ]
        }
      ]
    },
    {
      "cell_type": "markdown",
      "source": [
        "## Step 4: Refute Estimand\n",
        "Here we attempt to test the robustness of our estimand. If a future user wishes to demonstrate a more thorough examination of the estimand, one could utilize the following refutation methods on all observed CATEs across the income groups.\n",
        "\n",
        "### Add Random Common Cause\n",
        "How robust are our estimates to adding a confounder?"
      ],
      "metadata": {
        "id": "HKDv3ZKUQNCB"
      }
    },
    {
      "cell_type": "code",
      "source": [
        "res_random = model.refute_estimate(identified_estimand, causal_estimate_reg,\n",
        "                                   method_name=\"random_common_cause\", num_simulations=10)\n",
        "print(res_random)"
      ],
      "metadata": {
        "id": "mVsomIh2P8qo"
      },
      "execution_count": null,
      "outputs": []
    },
    {
      "cell_type": "markdown",
      "source": [
        "### Add Unobserved Common Cause\n",
        "How robust are our estimates to unobserved confounders? "
      ],
      "metadata": {
        "id": "U-JzaXj8Qegu"
      }
    },
    {
      "cell_type": "code",
      "source": [
        "res_unobserved = model.refute_estimate(identified_estimand, causal_estimate_reg,\n",
        "                                       method_name=\"add_unobserved_common_cause\",\n",
        "                                       confounders_effect_on_treatment=\"binary_flip\", confounders_effect_on_outcome=\"linear\",\n",
        "                                       effect_strength_on_treatment=0.05, effect_strength_on_outcome=0.5)\n",
        "print(res_unobserved)"
      ],
      "metadata": {
        "id": "aHMYBt3EMxZo"
      },
      "execution_count": null,
      "outputs": []
    },
    {
      "cell_type": "markdown",
      "source": [
        "### Replace Treatment with a Random (Placebo) Variable\n",
        "What happens to our estimate if we replace the treatment with noise?"
      ],
      "metadata": {
        "id": "c-K_jvOxRVfK"
      }
    },
    {
      "cell_type": "code",
      "source": [
        "res_placebo=model.refute_estimate(identified_estimand, causal_estimate_reg,\n",
        "        method_name=\"placebo_treatment_refuter\", placebo_type=\"permute\",\n",
        "        num_simulations=10)\n",
        "print(res_placebo)"
      ],
      "metadata": {
        "id": "TewE-1t7Px5i"
      },
      "execution_count": null,
      "outputs": []
    },
    {
      "cell_type": "markdown",
      "source": [
        "### Remove a Random Subset of the Data\n",
        "Do we observe similar estimates on subsets of the data?"
      ],
      "metadata": {
        "id": "G7v3d4N2RlT1"
      }
    },
    {
      "cell_type": "code",
      "source": [
        "res_subset = model.refute_estimate(identified_estimand, causal_estimate_reg,\n",
        "                                  method_name=\"data_subset_refuter\", subset_fraction=0.8, \n",
        "                                    num_simulations=10)\n",
        "print(res_subset)"
      ],
      "metadata": {
        "id": "G_Ccu9UpPwCE"
      },
      "execution_count": null,
      "outputs": []
    },
    {
      "cell_type": "markdown",
      "metadata": {
        "id": "R3EISkFgsCdm"
      },
      "source": [
        "# Further Analysis: Conditioning the Treatment Effect on Income\n",
        "\n",
        "First we simplify our causal graph of Marital Status (the treatment $T$), Risk Flag (the outcome $Y$), and control variables $W$. We adjust for assuming that they block all back-door paths between $Y$ and $T$, and income $X$ (the covariate of interest based on which we want to study the heterogeneity of treatment effect)."
      ]
    },
    {
      "cell_type": "code",
      "execution_count": 13,
      "metadata": {
        "id": "RXSNKii56MkZ"
      },
      "outputs": [],
      "source": [
        "# treatment is Loan Default status\n",
        "treatment_var = \"Married/Single\"\n",
        "# outcome is Income\n",
        "outcome_var = \"Risk_Flag\"\n",
        "\n",
        "# Remove treatment/outcome from list of all columns\n",
        "headers = [h for h in df.columns]\n",
        "headers.remove('Married/Single')\n",
        "headers.remove('Risk_Flag')\n",
        "# Use this as list of covariates\n",
        "covariates = headers\n",
        "\n",
        "# draw edges assuming no interactions between covariates (may want to further study/model)\n",
        "edges = [(treatment_var, outcome_var)]\n",
        "edges.extend([(covariate, treatment_var) for covariate in covariates])\n",
        "edges.extend([(covariate, outcome_var) for covariate in covariates])\n",
        "\n",
        "causal_graph = nx.DiGraph(edges)"
      ]
    },
    {
      "cell_type": "markdown",
      "metadata": {
        "id": "_hQ0sqgo6Mkb"
      },
      "source": [
        "Here we created a simplified graph where there are no interactions between covariates (i.e. nodes in $X \\cup W$). This is not the case in actuality. However, since we take joint samples of the covariates directly from the data to later estimate CATEs, we can ignore their interactions."
      ]
    },
    {
      "cell_type": "code",
      "source": [
        "gcm.util.plot(causal_graph)"
      ],
      "metadata": {
        "colab": {
          "base_uri": "https://localhost:8080/",
          "height": 319
        },
        "id": "y75Ckf-JxfZd",
        "outputId": "1733caa5-47b4-428a-bc75-9eafa1507cc4"
      },
      "execution_count": 15,
      "outputs": [
        {
          "output_type": "display_data",
          "data": {
            "text/plain": [
              "<Figure size 432x288 with 1 Axes>"
            ],
            "image/png": "[encoded data removed]"
          },
          "metadata": {}
        }
      ]
    },
    {
      "cell_type": "markdown",
      "metadata": {
        "id": "IRc95cC56Mke"
      },
      "source": [
        "We assign causal models to variables.  We fit empirical distributions. For the treatment variable, we assign a classifier functional causal model (FCM) with a random forest classifier. For the outcome variable, we assign an additive noise model with a random forest classification as a function and empirical distribution for the noise.  We assign empirical distributions to all covariates."
      ]
    },
    {
      "cell_type": "code",
      "execution_count": 16,
      "metadata": {
        "id": "Q-T2grfa6Mkf"
      },
      "outputs": [],
      "source": [
        "causal_model = gcm.StructuralCausalModel(causal_graph)\n",
        "causal_model.set_causal_mechanism(treatment_var, gcm.ClassifierFCM(gcm.ml.create_random_forest_classifier()))\n",
        "causal_model.set_causal_mechanism(outcome_var, gcm.AdditiveNoiseModel(gcm.ml.create_random_forest_classifier()))\n",
        "for covariate in covariates:\n",
        "    causal_model.set_causal_mechanism(covariate, gcm.EmpiricalDistribution())"
      ]
    },
    {
      "cell_type": "markdown",
      "metadata": {
        "id": "sT2KzRoz6Mkh"
      },
      "source": [
        "To fit a classifier FCM, we cast the treatment column to string type."
      ]
    },
    {
      "cell_type": "code",
      "execution_count": null,
      "metadata": {
        "id": "0TY0xjBY6Mkh"
      },
      "outputs": [],
      "source": [
        "df = df.astype({treatment_var: str})"
      ]
    },
    {
      "cell_type": "markdown",
      "metadata": {
        "id": "C317i3Z56Mki"
      },
      "source": [
        "With that, we can now fit the learn the causal models from data."
      ]
    },
    {
      "cell_type": "code",
      "execution_count": null,
      "metadata": {
        "colab": {
          "base_uri": "https://localhost:8080/"
        },
        "id": "72IkRdeJ6Mkj",
        "outputId": "854668ac-200f-406f-9334-c160739eac87"
      },
      "outputs": [
        {
          "output_type": "stream",
          "name": "stderr",
          "text": [
            "Fitting causal mechanism of node CURRENT_HOUSE_YRS: 100%|██████████| 13/13 [01:50<00:00,  8.48s/it]\n"
          ]
        }
      ],
      "source": [
        "gcm.fit(causal_model, df)"
      ]
    },
    {
      "cell_type": "markdown",
      "metadata": {
        "id": "gsIOO_mV6Mkj"
      },
      "source": [
        "Before computing CATE, we first divide subjects into bins of income percentiles. This allows us to study the impact on various income groups."
      ]
    },
    {
      "cell_type": "code",
      "execution_count": null,
      "metadata": {
        "id": "coT2Ns7p6Mkj"
      },
      "outputs": [],
      "source": [
        "percentages = [0.0, 0.2, 0.4, 0.6, 0.8, 1.0]\n",
        "bin_edges = [0]\n",
        "bin_edges.extend(np.quantile(df.Income, percentages[1:]).tolist())\n",
        "bin_edges[-1] += 1 # adding 1 to the last edge as last edge is excluded by np.digitize\n",
        "\n",
        "groups = [f'{percentages[i]*100:.0f}%-{percentages[i+1]*100:.0f}%' for i in range(len(percentages)-1)]\n",
        "group_index_to_group_label = dict(zip(range(1, len(bin_edges)+1), groups))"
      ]
    },
    {
      "cell_type": "markdown",
      "metadata": {
        "id": "tokA5gLv6Mkk"
      },
      "source": [
        "Now we compute Conditional Average Treatment Effect (CATE). We perform a randomised intervention on the treatment variable in the fitted causal graph, draw samples from the interventional distribution, group observations by the income group, and finally compute the treatment effect in each group. "
      ]
    },
    {
      "cell_type": "code",
      "execution_count": null,
      "metadata": {
        "colab": {
          "base_uri": "https://localhost:8080/"
        },
        "id": "Pf6nWOis6Mkk",
        "outputId": "092f88bc-7d37-4526-a6cb-4640756f8b82"
      },
      "outputs": [
        {
          "output_type": "stream",
          "name": "stderr",
          "text": [
            "Estimating boostrap interval...: 100%|██████████| 100/100 [23:34<00:00, 14.15s/it]"
          ]
        },
        {
          "output_type": "stream",
          "name": "stdout",
          "text": [
            "{'ate': 0.08559544976415374, '0%-20%': 0.08666928115057027, '20%-40%': 0.07978938486675906, '40%-60%': 0.08180811237489234, '60%-80%': 0.08255103475499215, '80%-100%': 0.0971455537582202}\n",
            "{'ate': array([0.08435052, 0.08680084]), '0%-20%': array([0.08296557, 0.08957134]), '20%-40%': array([0.07727236, 0.08295174]), '40%-60%': array([0.07930905, 0.08440282]), '60%-80%': array([0.07982208, 0.0855877 ]), '80%-100%': array([0.09459002, 0.10030626])}\n"
          ]
        },
        {
          "output_type": "stream",
          "name": "stderr",
          "text": [
            "\n"
          ]
        }
      ],
      "source": [
        "np.random.seed(42)\n",
        "\n",
        "def estimate_cate():\n",
        "    samples = gcm.interventional_samples(causal_model, \n",
        "                                         {treatment_var: lambda x: np.random.choice(['0', '1'])},\n",
        "                                         observed_data=df)\n",
        "    eligible = samples[treatment_var] == '1'\n",
        "    ate = samples[eligible][outcome_var].mean() - samples[~eligible][outcome_var].mean()\n",
        "    result = dict(ate = ate)\n",
        "    \n",
        "    group_indices = np.digitize(samples['Income'], bin_edges)\n",
        "    samples['group_index'] = group_indices\n",
        "    \n",
        "    for group_index in group_index_to_group_label:\n",
        "        group_samples = samples[samples['group_index'] == group_index]\n",
        "        eligible_in_group = group_samples[treatment_var] == '1'\n",
        "        cate = group_samples[eligible_in_group][outcome_var].mean() - group_samples[~eligible_in_group][outcome_var].mean()\n",
        "        result[group_index_to_group_label[group_index]] = cate\n",
        "        \n",
        "    return result\n",
        "\n",
        "group_to_median, group_to_ci = gcm.confidence_intervals(estimate_cate, num_bootstrap_resamples=100)\n",
        "print(group_to_median)\n",
        "print(group_to_ci)"
      ]
    },
    {
      "cell_type": "markdown",
      "metadata": {
        "id": "bkDTT0Vp6Mkl"
      },
      "source": [
        "The average treatment effect of Marital Status on Risk for Defaulting is positive as indicated by our confidence intervals. We next plot CATEs of various income groups to gain more insights."
      ]
    },
    {
      "cell_type": "code",
      "execution_count": null,
      "metadata": {
        "colab": {
          "base_uri": "https://localhost:8080/",
          "height": 303
        },
        "id": "J26O3Ag16Mkl",
        "outputId": "a92804bc-b1a8-4a55-c8c6-ae1503a335ba"
      },
      "outputs": [
        {
          "output_type": "display_data",
          "data": {
            "text/plain": [
              "<Figure size 576x288 with 1 Axes>"
            ],
            "image/png": "[encoded data removed]"
          },
          "metadata": {
            "needs_background": "light"
          }
        }
      ],
      "source": [
        "fig = plt.figure(figsize=(8,4))\n",
        "for x, group in enumerate(groups):\n",
        "    ci = group_to_ci[group]\n",
        "    plt.plot((x, x), (ci[0], ci[1]), 'ro-', color='red')\n",
        "ax = fig.axes[0]\n",
        "ax.spines['right'].set_visible(False)\n",
        "ax.spines['top'].set_visible(False)\n",
        "plt.xticks(range(len(groups)), groups)\n",
        "plt.xlabel('Income group')\n",
        "plt.ylabel('ATE of Marital Status on Risk Factor for Loan Defaults')\n",
        "plt.show()"
      ]
    },
    {
      "cell_type": "markdown",
      "metadata": {
        "id": "fgFlVB7p6Mkm"
      },
      "source": [
        "The impact is highest for the highest earners. This lends credibility to our hypothesis that married couples are potentially more meticulous about financial risks. Risky financial decisions in married couples would affect more than only oneself, leading to more meticulous planning and the avoidance of such risks. Furthermore, risky financial decisions in high income groups would likely lead to more significant impacts on quality of life due to the magnitude of money being affected.\n"
      ]
    }
  ],
  "metadata": {
    "kernelspec": {
      "display_name": "Python 3 (ipykernel)",
      "language": "python",
      "name": "python3"
    },
    "language_info": {
      "codemirror_mode": {
        "name": "ipython",
        "version": 3
      },
      "file_extension": ".py",
      "mimetype": "text/x-python",
      "name": "python",
      "nbconvert_exporter": "python",
      "pygments_lexer": "ipython3",
      "version": "3.9.12"
    },
    "colab": {
      "name": "marital_status_loan_defaults.ipynb",
      "provenance": [],
      "collapsed_sections": [],
      "include_colab_link": true
    },
    "gpuClass": "standard",
    "accelerator": "GPU"
  },
  "nbformat": 4,
  "nbformat_minor": 0
}