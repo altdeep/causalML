{
 "cells": [
  {
   "cell_type": "markdown",
   "metadata": {},
   "source": [
    "# Model Generation and Analysis\n",
    "### 5 types of analysis across 3 SCMs:\n",
    "- Model 1: Indirect by Race and Gender\n",
    "    - Analysis by three classes: \n",
    "        - a) Race\n",
    "        - b) Gender\n",
    "        - c) Race + Gender\n",
    "- Model 2: Direct by Race, and Indirect by Race + Gender\n",
    "    - Analysis by one class of Race\n",
    "- Model 3: Unaware by Race\n",
    "    - Analysis by one class of Race\n",
    "    \n",
    "### All 5 types of analysis each involve all of:\n",
    "- 1) False Positive Rate by Class\n",
    "- 2) False Negative Rate by Class\n",
    "- 3) Intervention by Class\n",
    "- 4) Counterfactual Fairness by Class\n",
    "- 5) Average Total Effects on Recitivism by Class\n",
    "- 6) Natural Direct Effects Identification of Class to Recitivism\n",
    "- 7) Natural Indirect Effects Identification of Class to Recitivism\n",
    "- 8) Necessity\n",
    "- 9) Sufficiency\n",
    "- 10) Necessity and Sufficiency"
   ]
  },
  {
   "cell_type": "code",
   "execution_count": 1,
   "metadata": {},
   "outputs": [],
   "source": [
    "import matplotlib.pyplot as plt\n",
    "import torch\n",
    "import pyro\n",
    "import pyro.distributions as dist\n",
    "import numpy as np\n",
    "import pandas as pd\n",
    "import tqdm\n",
    "from sklearn.metrics import confusion_matrix,roc_auc_score,accuracy_score\n",
    "from statistics import mean\n",
    "\n",
    "%matplotlib inline\n",
    "\n",
    "pyro.set_rng_seed(42)"
   ]
  },
  {
   "cell_type": "code",
   "execution_count": 2,
   "metadata": {},
   "outputs": [],
   "source": [
    "def swap_value(x):\n",
    "    if x == 1:\n",
    "        return 0\n",
    "    elif x == 0:\n",
    "        return 1\n",
    "    else:\n",
    "        print('Error')"
   ]
  },
  {
   "cell_type": "markdown",
   "metadata": {},
   "source": [
    "# Data Import"
   ]
  },
  {
   "cell_type": "code",
   "execution_count": 3,
   "metadata": {},
   "outputs": [],
   "source": [
    "data_file_path = 'data/compas-scores-two-years-short.csv'"
   ]
  },
  {
   "cell_type": "markdown",
   "metadata": {},
   "source": [
    "# Model 1 - Indirect by Race + Gender"
   ]
  },
  {
   "cell_type": "markdown",
   "metadata": {},
   "source": [
    "### Read Model Parameters"
   ]
  },
  {
   "cell_type": "code",
   "execution_count": 4,
   "metadata": {},
   "outputs": [],
   "source": [
    "# race\n",
    "df = pd.read_csv('data/model1_race.csv')\n",
    "race_alias = list(df['Var1'])\n",
    "race_prob = torch.tensor(list(df['Freq']) )\n",
    "\n",
    "# sex\n",
    "df = pd.read_csv('data/model1_sex.csv')\n",
    "sex_alias = list(df['Var1'])\n",
    "sex_prob = torch.tensor(list(df['Freq']) )\n",
    "\n",
    "# age_cat\n",
    "df = pd.read_csv('data/model1_age_cat.csv')\n",
    "age_cat_alias = list(df['Var1'])\n",
    "age_cat_prob = torch.tensor(list(df['Freq']) )\n",
    "\n",
    "\n",
    "\n",
    "# priors_count\n",
    "df = pd.read_csv('data/model1_priors_count.csv')\n",
    "priors_count_alias = list(set( df['priors_count'] ))\n",
    "\n",
    "dic = {}\n",
    "for index, row in df.iterrows():\n",
    "    dic[(row['race'], row['sex'],row['age_cat'],row['priors_count'])] = row['Freq']\n",
    "l0 = []\n",
    "for r in race_alias:\n",
    "    l1 = []\n",
    "    for s in sex_alias:\n",
    "        l2 = []\n",
    "        for a in age_cat_alias:\n",
    "            l3 = []\n",
    "            for c in priors_count_alias:            \n",
    "                l3 += [ dic[r,s,a,c] ]\n",
    "            l2 +=  [ l3 ]\n",
    "        l1 += [ l2 ]\n",
    "    l0 += [ l1 ]\n",
    "\n",
    "priors_count_probs = torch.tensor( l0 )\n",
    "\n",
    "# two_year_recid\n",
    "df = pd.read_csv('data/model1_two_year_recid.csv')\n",
    "two_year_recid_alias = list(df['Unnamed: 0'])\n",
    "\n",
    "l = []\n",
    "for e in priors_count_alias:\n",
    "    l += [ list( df[e] )  ]\n",
    "two_year_recid_probs = torch.tensor( l )"
   ]
  },
  {
   "cell_type": "markdown",
   "metadata": {},
   "source": [
    "### Define Model"
   ]
  },
  {
   "cell_type": "code",
   "execution_count": 5,
   "metadata": {},
   "outputs": [],
   "source": [
    "def model():\n",
    "    race = pyro.sample(\"race\", dist.Categorical( race_prob )) \n",
    "    sex = pyro.sample(\"sex\", dist.Categorical( sex_prob )) \n",
    "    age_cat = pyro.sample(\"age_cat\", dist.Categorical( age_cat_prob )) \n",
    "    priors_count = pyro.sample(\"priors_count\", dist.Categorical(priors_count_probs[race][sex][age_cat]))\n",
    "    two_year_recid_prob = dist.Categorical(two_year_recid_probs[priors_count])\n",
    "    two_year_recid = pyro.sample(\"two_year_recid\", two_year_recid_prob)\n",
    "    return two_year_recid"
   ]
  },
  {
   "cell_type": "markdown",
   "metadata": {},
   "source": [
    "## Model 1 - a) Analysis by Race"
   ]
  },
  {
   "cell_type": "markdown",
   "metadata": {},
   "source": [
    "### TP vs FN Rate"
   ]
  },
  {
   "cell_type": "code",
   "execution_count": 6,
   "metadata": {
    "jupyter": {
     "outputs_hidden": true
    }
   },
   "outputs": [
    {
     "name": "stdout",
     "output_type": "stream",
     "text": [
      "False positive rate (Black)      :  0.44549763033175355\n",
      "False negative rate (Black)      :  0.5047301057317752\n",
      "Accuracy (Black)      :   0.5257034632034632\n",
      "AUC (Black)      :   0.5248861319682356\n",
      "\n",
      "False positive rate (White)      :  0.4087912087912088\n",
      "False negative rate (White)      :  0.5151515151515151\n",
      "Accuracy (White)      :   0.5440097799511002\n",
      "AUC (White)      :   0.5380286380286381\n",
      "\n",
      "False positive rate Gap: 0.036706421540544765\n",
      "False negative rate Gap: 0.010421409419739902\n"
     ]
    }
   ],
   "source": [
    "df = pd.read_csv(data_file_path)\n",
    "\n",
    "truth = []\n",
    "preds = []\n",
    "num_sample = 10\n",
    "for index, row in df.iterrows():\n",
    "    r = race_alias.index( row['race'] ) \n",
    "    s = sex_alias.index( row['sex'] ) \n",
    "    a = age_cat_alias.index( row['age_cat'] ) \n",
    "    c = priors_count_alias.index( row['priors_count'] ) \n",
    "    t = two_year_recid_alias.index( row['two_year_recid'] ) \n",
    "    conditioned_model = pyro.condition(model, data = {\"race\": torch.tensor( r ),\n",
    "                                                      \"sex\": torch.tensor( s ),\n",
    "                                                      \"age_cat\": torch.tensor( a ),\n",
    "                                                      \"priors_count\": torch.tensor( c )\n",
    "                                                     })\n",
    "    posterior = pyro.infer.Importance(conditioned_model, num_samples=num_sample).run()\n",
    "    trace = posterior()\n",
    "    pred = int(trace.nodes['two_year_recid']['value'])\n",
    "    truth += [ conditioned_model() ]\n",
    "    preds += [ pred ]\n",
    "    #if ((index%500)==0):print(index//500)\n",
    "truth = np.array(truth)\n",
    "preds = np.array(preds)\n",
    "\n",
    "# score for Black defendants\n",
    "y_test_ = truth[ df['race']=='African-American' ]\n",
    "y_pred_ = preds[ df['race']=='African-American' ]\n",
    "[[tn , fp],[fn , tp]]  = confusion_matrix(y_test_, y_pred_)\n",
    "print(\"False positive rate (Black)      : \", fp/(fp+tn))\n",
    "print(\"False negative rate (Black)      : \", fn/(fn+tp))\n",
    "print(\"Accuracy (Black)      :  \", accuracy_score(y_test_, y_pred_) )\n",
    "print(\"AUC (Black)      :  \", roc_auc_score(y_test_, y_pred_) )\n",
    "\n",
    "fpr_black = fp/(fp+tn)\n",
    "fnr_black =  fn/(fn+tp)\n",
    "\n",
    "# score for White defendants\n",
    "y_test_ = truth[ df['race']=='Caucasian' ]\n",
    "y_pred_ = preds[ df['race']=='Caucasian' ]\n",
    "[[tn , fp],[fn , tp]]  = confusion_matrix(y_test_, y_pred_)\n",
    "print(\"\\nFalse positive rate (White)      : \", fp/(fp+tn))\n",
    "print(\"False negative rate (White)      : \", fn/(fn+tp))\n",
    "print(\"Accuracy (White)      :  \", accuracy_score(y_test_, y_pred_) )\n",
    "print(\"AUC (White)      :  \", roc_auc_score(y_test_, y_pred_) )\n",
    "\n",
    "fpr_white = fp/(fp+tn)\n",
    "fnr_white =  fn/(fn+tp)\n",
    "\n",
    "print('\\nFalse positive rate Gap:', abs(fpr_black-fpr_white))\n",
    "print('False negative rate Gap:', abs(fnr_black-fnr_white))"
   ]
  },
  {
   "cell_type": "markdown",
   "metadata": {},
   "source": [
    "### Intervention\n",
    "P(two_year_recid=1 | do(race=1)) - P(two_year_recid=1 | do(race=0))"
   ]
  },
  {
   "cell_type": "code",
   "execution_count": 7,
   "metadata": {},
   "outputs": [
    {
     "name": "stderr",
     "output_type": "stream",
     "text": [
      "100%|██████████| 100/100 [00:23<00:00,  4.27it/s]\n"
     ]
    }
   ],
   "source": [
    "ls = []\n",
    "for run in tqdm.tqdm(range(100)):\n",
    "    num_sample = 100\n",
    "    P_y1_do = {}\n",
    "    for x in [0,1]:\n",
    "        do_model = pyro.do(model, data={ 'race': torch.tensor( x )  })\n",
    "        posterior = pyro.infer.Importance(do_model, num_samples=num_sample).run()\n",
    "        marginal = pyro.infer.EmpiricalMarginal(posterior, \"two_year_recid\") \n",
    "        samples = np.array([marginal().item() for _ in range(num_sample)])\n",
    "        e_unique, e_counts = np.unique(samples, return_counts=True)\n",
    "        dic = dict( zip(e_unique, e_counts) )\n",
    "        P_y1_do[ x ] = dic[ 1 ] / num_sample\n",
    "    diff = P_y1_do[0] - P_y1_do[1]\n",
    "    ls += [ diff ]"
   ]
  },
  {
   "cell_type": "code",
   "execution_count": 8,
   "metadata": {},
   "outputs": [
    {
     "data": {
      "image/png": "[encoded data removed]",
      "text/plain": [
       "<Figure size 432x288 with 1 Axes>"
      ]
     },
     "metadata": {
      "needs_background": "light"
     },
     "output_type": "display_data"
    }
   ],
   "source": [
    "plt.hist(ls)\n",
    "plt.show()"
   ]
  },
  {
   "cell_type": "code",
   "execution_count": 9,
   "metadata": {},
   "outputs": [
    {
     "name": "stdout",
     "output_type": "stream",
     "text": [
      "0.04920000000000003\n"
     ]
    }
   ],
   "source": [
    "total = 0\n",
    "for x in ls:\n",
    "    total = total + x\n",
    "print(total / len(ls))"
   ]
  },
  {
   "cell_type": "markdown",
   "metadata": {},
   "source": [
    "### Counterfactual fairness"
   ]
  },
  {
   "cell_type": "markdown",
   "metadata": {},
   "source": [
    "P(two_year_recid race=0 = 1 | race = 1, two_year_recid = 0)"
   ]
  },
  {
   "cell_type": "code",
   "execution_count": 10,
   "metadata": {},
   "outputs": [
    {
     "name": "stderr",
     "output_type": "stream",
     "text": [
      "100%|██████████| 100/100 [00:02<00:00, 35.76it/s]\n"
     ]
    }
   ],
   "source": [
    "num_sample = 100\n",
    "conditioned_model = pyro.condition(model, data = {\"race\": torch.tensor(1), \"two_year_recid\": torch.tensor(0)})\n",
    "posterior = pyro.infer.Importance(conditioned_model, num_samples=num_sample).run()\n",
    "ls = []\n",
    "for run in tqdm.tqdm(range(100)):\n",
    "    z = 0\n",
    "    for _ in range(num_sample):\n",
    "        trace = posterior()\n",
    "        s = trace.nodes['sex']['value']\n",
    "        a = trace.nodes['age_cat']['value']\n",
    "        c = trace.nodes['priors_count']['value']\n",
    "        do_model = pyro.do(model, data = {\"race\": torch.tensor(0)})\n",
    "        counterfactual_model = pyro.condition(do_model, data = {'sex': s,'age_cat': a, 'priors_count': c })\n",
    "        trace_counterfactual = pyro.poutine.trace(counterfactual_model)\n",
    "        trace = trace_counterfactual.get_trace()\n",
    "        z += trace.nodes['two_year_recid']['value']\n",
    "    ls += [ float(z)/num_sample ]"
   ]
  },
  {
   "cell_type": "code",
   "execution_count": 11,
   "metadata": {},
   "outputs": [
    {
     "data": {
      "image/png": "[encoded data removed]",
      "text/plain": [
       "<Figure size 432x288 with 1 Axes>"
      ]
     },
     "metadata": {
      "needs_background": "light"
     },
     "output_type": "display_data"
    }
   ],
   "source": [
    "plt.hist(ls) \n",
    "plt.show()"
   ]
  },
  {
   "cell_type": "code",
   "execution_count": 12,
   "metadata": {},
   "outputs": [
    {
     "name": "stdout",
     "output_type": "stream",
     "text": [
      "0.4078000000000001\n"
     ]
    }
   ],
   "source": [
    "total = 0\n",
    "for x in ls:\n",
    "    total = total + x\n",
    "print(total / len(ls))"
   ]
  },
  {
   "cell_type": "markdown",
   "metadata": {},
   "source": [
    "### Average Total Effect"
   ]
  },
  {
   "cell_type": "code",
   "execution_count": 13,
   "metadata": {},
   "outputs": [
    {
     "data": {
      "text/plain": [
       "-0.02699999999999997"
      ]
     },
     "execution_count": 13,
     "metadata": {},
     "output_type": "execute_result"
    }
   ],
   "source": [
    "# E(Y|do(X=1))−E(Y|do(X=0)).\n",
    "e1_samples = [pyro.do(model, data={'race': torch.tensor(1)})() for _ in range(1000)]\n",
    "e2_samples = [pyro.do(model, data={'race': torch.tensor(0)})() for _ in range(1000)]\n",
    "e1_avg = sum(e1_samples).item() / len(e1_samples)\n",
    "e2_avg = sum(e2_samples).item() / len(e2_samples)\n",
    "e1_avg - e2_avg"
   ]
  },
  {
   "cell_type": "markdown",
   "metadata": {},
   "source": [
    "### Natural Effects"
   ]
  },
  {
   "cell_type": "markdown",
   "metadata": {},
   "source": [
    "#### Natural Direct Effects"
   ]
  },
  {
   "cell_type": "code",
   "execution_count": 14,
   "metadata": {},
   "outputs": [],
   "source": [
    "# When Z = 1 E(Y|(M = 1), do(X = 1)) - E(Y|(M = 1), do(X = 0))\n",
    "cond_model = pyro.condition(model, data={'priors_count': torch.tensor(0)})\n",
    "e1_samples = [pyro.do(cond_model, data={'race': torch.tensor(1)})() for _ in range(1000)]\n",
    "e2_samples = [pyro.do(cond_model, data={'race': torch.tensor(0)})() for _ in range(1000)]"
   ]
  },
  {
   "cell_type": "code",
   "execution_count": 15,
   "metadata": {},
   "outputs": [],
   "source": [
    "e1_avg = sum(e1_samples).item() / len(e1_samples)\n",
    "e2_avg = sum(e2_samples).item() / len(e2_samples)"
   ]
  },
  {
   "cell_type": "code",
   "execution_count": 16,
   "metadata": {},
   "outputs": [
    {
     "data": {
      "text/plain": [
       "0.329"
      ]
     },
     "execution_count": 16,
     "metadata": {},
     "output_type": "execute_result"
    }
   ],
   "source": [
    "e1_avg"
   ]
  },
  {
   "cell_type": "code",
   "execution_count": 17,
   "metadata": {},
   "outputs": [
    {
     "data": {
      "text/plain": [
       "0.328"
      ]
     },
     "execution_count": 17,
     "metadata": {},
     "output_type": "execute_result"
    }
   ],
   "source": [
    "e2_avg"
   ]
  },
  {
   "cell_type": "code",
   "execution_count": 18,
   "metadata": {},
   "outputs": [
    {
     "data": {
      "text/plain": [
       "0.0010000000000000009"
      ]
     },
     "execution_count": 18,
     "metadata": {},
     "output_type": "execute_result"
    }
   ],
   "source": [
    "e1_avg - e2_avg"
   ]
  },
  {
   "cell_type": "markdown",
   "metadata": {},
   "source": [
    "#### Natural Indirect Effect"
   ]
  },
  {
   "cell_type": "code",
   "execution_count": 19,
   "metadata": {},
   "outputs": [],
   "source": [
    "# When Z = 1 E(Y|(X = 1), do(M = 1)) - E(Y|(X = 1), do(M = 0))\n",
    "cond_model = pyro.condition(model, data={'race': torch.tensor(1)})\n",
    "e1_samples = [pyro.do(cond_model, data={'priors_count': torch.tensor(1)})() for _ in range(1000)]\n",
    "e2_samples = [pyro.do(cond_model, data={'priors_count': torch.tensor(0)})() for _ in range(1000)]"
   ]
  },
  {
   "cell_type": "code",
   "execution_count": 20,
   "metadata": {},
   "outputs": [],
   "source": [
    "e1_avg = sum(e1_samples).item() / len(e1_samples)\n",
    "e2_avg = sum(e2_samples).item() / len(e2_samples)"
   ]
  },
  {
   "cell_type": "code",
   "execution_count": 21,
   "metadata": {},
   "outputs": [
    {
     "data": {
      "text/plain": [
       "0.25599999999999995"
      ]
     },
     "execution_count": 21,
     "metadata": {},
     "output_type": "execute_result"
    }
   ],
   "source": [
    "e1_avg - e2_avg"
   ]
  },
  {
   "cell_type": "markdown",
   "metadata": {},
   "source": [
    "### Necessity and Sufficienty"
   ]
  },
  {
   "cell_type": "markdown",
   "metadata": {},
   "source": [
    "#### Necessity"
   ]
  },
  {
   "cell_type": "markdown",
   "metadata": {},
   "source": [
    "$P_{necessity} = P(Y_{X=1} = 0 | X=0, Y=1)$"
   ]
  },
  {
   "cell_type": "code",
   "execution_count": 22,
   "metadata": {},
   "outputs": [],
   "source": [
    "cond_model = pyro.condition(model, data = {\"race\": torch.tensor(0), \"two_year_recid\": torch.tensor(1)})\n",
    "posterior = pyro.infer.Importance(cond_model, num_samples=num_sample).run()\n",
    "p_necessities = []\n",
    "for _ in range(1000):\n",
    "    trace = posterior()\n",
    "    s = trace.nodes['sex']['value']\n",
    "    a = trace.nodes['age_cat']['value']\n",
    "    c = trace.nodes['priors_count']['value']\n",
    "    do_model = pyro.do(model, data = {\"race\": torch.tensor(1)})\n",
    "    counterfactual_model = pyro.condition(do_model, data = {'sex': s,'age_cat': a, 'priors_count': c })\n",
    "    trace_counterfactual = pyro.poutine.trace(counterfactual_model)\n",
    "    trace = trace_counterfactual.get_trace()\n",
    "    p_necessities.append(float(trace.nodes['two_year_recid']['value']))"
   ]
  },
  {
   "cell_type": "code",
   "execution_count": 23,
   "metadata": {},
   "outputs": [
    {
     "name": "stdout",
     "output_type": "stream",
     "text": [
      "P necessity = 0.488\n"
     ]
    }
   ],
   "source": [
    "p_necessity = 1 - mean(p_necessities)\n",
    "print(\"P necessity =\", p_necessity)"
   ]
  },
  {
   "cell_type": "markdown",
   "metadata": {},
   "source": [
    "#### Sufficiency\n",
    "$P(Y_{X=0} = 1 | X=1, Y=0)$"
   ]
  },
  {
   "cell_type": "code",
   "execution_count": 24,
   "metadata": {},
   "outputs": [],
   "source": [
    "cond_model = pyro.condition(model, data = {\"race\": torch.tensor(1), \"two_year_recid\": torch.tensor(0)})\n",
    "posterior = pyro.infer.Importance(cond_model, num_samples=num_sample).run()\n",
    "p_sufficiencies = []\n",
    "for _ in range(1000):\n",
    "    trace = posterior()\n",
    "    s = trace.nodes['sex']['value']\n",
    "    a = trace.nodes['age_cat']['value']\n",
    "    c = trace.nodes['priors_count']['value']\n",
    "    do_model = pyro.do(model, data = {\"race\": torch.tensor(0)})\n",
    "    counterfactual_model = pyro.condition(do_model, data = {'sex': s,'age_cat': a, 'priors_count': c })\n",
    "    trace_counterfactual = pyro.poutine.trace(counterfactual_model)\n",
    "    trace = trace_counterfactual.get_trace()\n",
    "    p_sufficiencies.append(float(trace.nodes['two_year_recid']['value']))"
   ]
  },
  {
   "cell_type": "code",
   "execution_count": 25,
   "metadata": {
    "scrolled": false
   },
   "outputs": [
    {
     "name": "stdout",
     "output_type": "stream",
     "text": [
      "P necessity = 0.442\n"
     ]
    }
   ],
   "source": [
    "p_sufficiency = mean(p_sufficiencies)\n",
    "print(\"P necessity =\", p_sufficiency)"
   ]
  },
  {
   "cell_type": "markdown",
   "metadata": {},
   "source": [
    "#### Necessity and Sufficiency\n",
    "$PNS = P(X=0, Y=1) * PN + P(X=1, Y=0) * PS$"
   ]
  },
  {
   "cell_type": "code",
   "execution_count": 26,
   "metadata": {},
   "outputs": [
    {
     "name": "stdout",
     "output_type": "stream",
     "text": [
      "PNS = 0.24644\n"
     ]
    }
   ],
   "source": [
    "num_trials = 1000\n",
    "num_x0_y1 = 0\n",
    "num_x1_y0 = 0\n",
    "trace_handler = pyro.poutine.trace(model)\n",
    "for _ in range(num_trials):\n",
    "    trace = trace_handler.get_trace()\n",
    "    x = trace.nodes['race']['value']\n",
    "    y = trace.nodes['two_year_recid']['value']\n",
    "    if x == 0 and y == 1:\n",
    "        num_x0_y1 += 1\n",
    "    if x == 1 and y == 0:\n",
    "        num_x1_y0 += 1\n",
    "pns = (num_x0_y1 / num_trials) * p_necessity + (num_x1_y0 / num_trials) * p_sufficiency\n",
    "print('PNS =', pns)"
   ]
  },
  {
   "cell_type": "markdown",
   "metadata": {},
   "source": [
    "## Model 1 - b) Analysis by Gender"
   ]
  },
  {
   "cell_type": "markdown",
   "metadata": {},
   "source": [
    "### TP vs FN Rate"
   ]
  },
  {
   "cell_type": "code",
   "execution_count": 27,
   "metadata": {
    "jupyter": {
     "outputs_hidden": true
    }
   },
   "outputs": [
    {
     "name": "stdout",
     "output_type": "stream",
     "text": [
      "False positive rate (Male)      :  0.4291746641074856\n",
      "False negative rate (Male)      :  0.49699054170249357\n",
      "Accuracy (Male)      :   0.5388359359156357\n",
      "AUC (Male)      :   0.5369173970950104\n",
      "\n",
      "False positive rate (Female)      :  0.39913544668587897\n",
      "False negative rate (Female)      :  0.4990476190476191\n",
      "Accuracy (White)      :   0.5578342904019689\n",
      "AUC (White)      :   0.550908467133251\n",
      "\n",
      "False positive rate Gap: 0.030039217421606645\n",
      "False negative rate Gap: 0.002057077345125502\n"
     ]
    }
   ],
   "source": [
    "df = pd.read_csv(data_file_path)\n",
    "\n",
    "truth = []\n",
    "preds = []\n",
    "num_sample = 10\n",
    "for index, row in df.iterrows():\n",
    "    r = race_alias.index( row['race'] ) \n",
    "    s = sex_alias.index( row['sex'] ) \n",
    "    a = age_cat_alias.index( row['age_cat'] ) \n",
    "    c = priors_count_alias.index( row['priors_count'] ) \n",
    "    t = two_year_recid_alias.index( row['two_year_recid'] ) \n",
    "    conditioned_model = pyro.condition(model, data = {\"race\": torch.tensor( r ),\n",
    "                                                      \"sex\": torch.tensor( s ),\n",
    "                                                      \"age_cat\": torch.tensor( a ),\n",
    "                                                      \"priors_count\": torch.tensor( c )\n",
    "                                                     })\n",
    "    posterior = pyro.infer.Importance(conditioned_model, num_samples=num_sample).run()\n",
    "    trace = posterior()\n",
    "    pred = int(trace.nodes['two_year_recid']['value'])\n",
    "    truth += [ conditioned_model() ]\n",
    "    preds += [ pred ]\n",
    "    #if ((index%500)==0):print(index//500)\n",
    "truth = np.array(truth)\n",
    "preds = np.array(preds)\n",
    "\n",
    "# score for male defendants\n",
    "y_test_ = truth[ df['sex']=='Male' ]\n",
    "y_pred_ = preds[ df['sex']=='Male' ]\n",
    "[[tn , fp],[fn , tp]]  = confusion_matrix(y_test_, y_pred_)\n",
    "print(\"False positive rate (Male)      : \", fp/(fp+tn))\n",
    "print(\"False negative rate (Male)      : \", fn/(fn+tp))\n",
    "print(\"Accuracy (Male)      :  \", accuracy_score(y_test_, y_pred_) )\n",
    "print(\"AUC (Male)      :  \", roc_auc_score(y_test_, y_pred_) )\n",
    "\n",
    "fpr_male = fp/(fp+tn)\n",
    "fnr_male =  fn/(fn+tp)\n",
    "\n",
    "# score for White defendants\n",
    "y_test_ = truth[ df['sex']=='Female' ]\n",
    "y_pred_ = preds[ df['sex']=='Female' ]\n",
    "[[tn , fp],[fn , tp]]  = confusion_matrix(y_test_, y_pred_)\n",
    "print(\"\\nFalse positive rate (Female)      : \", fp/(fp+tn))\n",
    "print(\"False negative rate (Female)      : \", fn/(fn+tp))\n",
    "print(\"Accuracy (White)      :  \", accuracy_score(y_test_, y_pred_) )\n",
    "print(\"AUC (White)      :  \", roc_auc_score(y_test_, y_pred_) )\n",
    "\n",
    "fpr_female = fp/(fp+tn)\n",
    "fnr_female =  fn/(fn+tp)\n",
    "\n",
    "print('\\nFalse positive rate Gap:', abs(fpr_male-fpr_female))\n",
    "print('False negative rate Gap:', abs(fnr_male-fnr_female))"
   ]
  },
  {
   "cell_type": "markdown",
   "metadata": {},
   "source": [
    "### Intervention\n",
    "P(two_year_recid=1 | do(sex=1)) - P(two_year_recid=1 | do(sex=0))"
   ]
  },
  {
   "cell_type": "code",
   "execution_count": 28,
   "metadata": {},
   "outputs": [
    {
     "name": "stderr",
     "output_type": "stream",
     "text": [
      "100%|██████████| 100/100 [00:24<00:00,  4.14it/s]\n"
     ]
    }
   ],
   "source": [
    "ls = []\n",
    "for run in tqdm.tqdm(range(100)):\n",
    "    num_sample = 100\n",
    "    P_y1_do = {}\n",
    "    for x in [0,1]:\n",
    "        do_model = pyro.do(model, data={ 'sex': torch.tensor( x )  })\n",
    "        posterior = pyro.infer.Importance(do_model, num_samples=num_sample).run()\n",
    "        marginal = pyro.infer.EmpiricalMarginal(posterior, \"two_year_recid\") \n",
    "        samples = np.array([marginal().item() for _ in range(num_sample)])\n",
    "        e_unique, e_counts = np.unique(samples, return_counts=True)\n",
    "        dic = dict( zip(e_unique, e_counts) )\n",
    "        P_y1_do[ x ] = dic[ 1 ] / num_sample\n",
    "    diff = P_y1_do[0] - P_y1_do[1]\n",
    "    ls += [ diff ]"
   ]
  },
  {
   "cell_type": "code",
   "execution_count": 29,
   "metadata": {},
   "outputs": [
    {
     "data": {
      "image/png": "[encoded data removed]",
      "text/plain": [
       "<Figure size 432x288 with 1 Axes>"
      ]
     },
     "metadata": {
      "needs_background": "light"
     },
     "output_type": "display_data"
    }
   ],
   "source": [
    "plt.hist(ls)\n",
    "plt.show()"
   ]
  },
  {
   "cell_type": "code",
   "execution_count": 30,
   "metadata": {},
   "outputs": [
    {
     "name": "stdout",
     "output_type": "stream",
     "text": [
      "-0.0545\n"
     ]
    }
   ],
   "source": [
    "total = 0\n",
    "for x in ls:\n",
    "    total = total + x\n",
    "print(total / len(ls))"
   ]
  },
  {
   "cell_type": "markdown",
   "metadata": {},
   "source": [
    "### Counterfactual fairness"
   ]
  },
  {
   "cell_type": "markdown",
   "metadata": {},
   "source": [
    "P(two_year_recid sex=0 = 1 | sex = 1, two_year_recid = 0)"
   ]
  },
  {
   "cell_type": "code",
   "execution_count": 31,
   "metadata": {},
   "outputs": [
    {
     "name": "stderr",
     "output_type": "stream",
     "text": [
      "100%|██████████| 100/100 [00:02<00:00, 36.13it/s]\n"
     ]
    }
   ],
   "source": [
    "num_sample = 100\n",
    "conditioned_model = pyro.condition(model, data = {\"sex\": torch.tensor(1), \"two_year_recid\": torch.tensor(0)})\n",
    "posterior = pyro.infer.Importance(conditioned_model, num_samples=num_sample).run()\n",
    "ls = []\n",
    "for run in tqdm.tqdm(range(100)):\n",
    "    z = 0\n",
    "    for _ in range(num_sample):\n",
    "        trace = posterior()\n",
    "        r = trace.nodes['race']['value']\n",
    "        a = trace.nodes['age_cat']['value']\n",
    "        c = trace.nodes['priors_count']['value']\n",
    "        do_model = pyro.do(model, data = {\"sex\": torch.tensor(0)})\n",
    "        counterfactual_model = pyro.condition(do_model, data = {'race': r,'age_cat': a, 'priors_count': c })\n",
    "        trace_counterfactual = pyro.poutine.trace(counterfactual_model)\n",
    "        trace = trace_counterfactual.get_trace()\n",
    "        z += trace.nodes['two_year_recid']['value']\n",
    "    ls += [ float(z)/num_sample ]"
   ]
  },
  {
   "cell_type": "code",
   "execution_count": 32,
   "metadata": {},
   "outputs": [
    {
     "data": {
      "image/png": "[encoded data removed]",
      "text/plain": [
       "<Figure size 432x288 with 1 Axes>"
      ]
     },
     "metadata": {
      "needs_background": "light"
     },
     "output_type": "display_data"
    }
   ],
   "source": [
    "plt.hist(ls) \n",
    "plt.show()"
   ]
  },
  {
   "cell_type": "code",
   "execution_count": 33,
   "metadata": {},
   "outputs": [
    {
     "name": "stdout",
     "output_type": "stream",
     "text": [
      "0.46019999999999994\n"
     ]
    }
   ],
   "source": [
    "total = 0\n",
    "for x in ls:\n",
    "    total = total + x\n",
    "print(total / len(ls))"
   ]
  },
  {
   "cell_type": "markdown",
   "metadata": {},
   "source": [
    "### Average Total Effect"
   ]
  },
  {
   "cell_type": "code",
   "execution_count": 34,
   "metadata": {},
   "outputs": [
    {
     "data": {
      "text/plain": [
       "0.007000000000000006"
      ]
     },
     "execution_count": 34,
     "metadata": {},
     "output_type": "execute_result"
    }
   ],
   "source": [
    "# E(Y|do(X=1))−E(Y|do(X=0)).\n",
    "e1_samples = [pyro.do(model, data={'sex': torch.tensor(1)})() for _ in range(1000)]\n",
    "e2_samples = [pyro.do(model, data={'sex': torch.tensor(0)})() for _ in range(1000)]\n",
    "e1_avg = sum(e1_samples).item() / len(e1_samples)\n",
    "e2_avg = sum(e2_samples).item() / len(e2_samples)\n",
    "e1_avg - e2_avg"
   ]
  },
  {
   "cell_type": "markdown",
   "metadata": {},
   "source": [
    "### Natural Effects"
   ]
  },
  {
   "cell_type": "markdown",
   "metadata": {},
   "source": [
    "#### Natural Direct Effects"
   ]
  },
  {
   "cell_type": "code",
   "execution_count": 35,
   "metadata": {},
   "outputs": [],
   "source": [
    "# When Z = 1 E(Y|(M = 1), do(X = 1)) - E(Y|(M = 1), do(X = 0))\n",
    "cond_model = pyro.condition(model, data={'priors_count': torch.tensor(0)})\n",
    "e1_samples = [pyro.do(cond_model, data={'sex': torch.tensor(1)})() for _ in range(1000)]\n",
    "e2_samples = [pyro.do(cond_model, data={'sex': torch.tensor(0)})() for _ in range(1000)]"
   ]
  },
  {
   "cell_type": "code",
   "execution_count": 36,
   "metadata": {},
   "outputs": [],
   "source": [
    "e1_avg = sum(e1_samples).item() / len(e1_samples)\n",
    "e2_avg = sum(e2_samples).item() / len(e2_samples)"
   ]
  },
  {
   "cell_type": "code",
   "execution_count": 37,
   "metadata": {},
   "outputs": [
    {
     "data": {
      "text/plain": [
       "0.346"
      ]
     },
     "execution_count": 37,
     "metadata": {},
     "output_type": "execute_result"
    }
   ],
   "source": [
    "e1_avg"
   ]
  },
  {
   "cell_type": "code",
   "execution_count": 38,
   "metadata": {},
   "outputs": [
    {
     "data": {
      "text/plain": [
       "0.329"
      ]
     },
     "execution_count": 38,
     "metadata": {},
     "output_type": "execute_result"
    }
   ],
   "source": [
    "e2_avg"
   ]
  },
  {
   "cell_type": "code",
   "execution_count": 39,
   "metadata": {},
   "outputs": [
    {
     "data": {
      "text/plain": [
       "0.01699999999999996"
      ]
     },
     "execution_count": 39,
     "metadata": {},
     "output_type": "execute_result"
    }
   ],
   "source": [
    "e1_avg - e2_avg"
   ]
  },
  {
   "cell_type": "markdown",
   "metadata": {},
   "source": [
    "#### Natural Indirect Effect"
   ]
  },
  {
   "cell_type": "code",
   "execution_count": 40,
   "metadata": {},
   "outputs": [],
   "source": [
    "# When Z = 1 E(Y|(X = 1), do(M = 1)) - E(Y|(X = 1), do(M = 0))\n",
    "cond_model = pyro.condition(model, data={'sex': torch.tensor(1)})\n",
    "e1_samples = [pyro.do(cond_model, data={'priors_count': torch.tensor(1)})() for _ in range(1000)]\n",
    "e2_samples = [pyro.do(cond_model, data={'priors_count': torch.tensor(0)})() for _ in range(1000)]"
   ]
  },
  {
   "cell_type": "code",
   "execution_count": 41,
   "metadata": {},
   "outputs": [],
   "source": [
    "e1_avg = sum(e1_samples).item() / len(e1_samples)\n",
    "e2_avg = sum(e2_samples).item() / len(e2_samples)"
   ]
  },
  {
   "cell_type": "code",
   "execution_count": 42,
   "metadata": {},
   "outputs": [
    {
     "data": {
      "text/plain": [
       "0.25499999999999995"
      ]
     },
     "execution_count": 42,
     "metadata": {},
     "output_type": "execute_result"
    }
   ],
   "source": [
    "e1_avg - e2_avg"
   ]
  },
  {
   "cell_type": "markdown",
   "metadata": {},
   "source": [
    "### Necessity and Sufficienty"
   ]
  },
  {
   "cell_type": "markdown",
   "metadata": {},
   "source": [
    "#### Necessity"
   ]
  },
  {
   "cell_type": "markdown",
   "metadata": {},
   "source": [
    "$P_{necessity} = P(Y_{X=1} = 0 | X=0, Y=1)$"
   ]
  },
  {
   "cell_type": "code",
   "execution_count": 43,
   "metadata": {},
   "outputs": [],
   "source": [
    "cond_model = pyro.condition(model, data = {\"sex\": torch.tensor(0), \"two_year_recid\": torch.tensor(1)})\n",
    "posterior = pyro.infer.Importance(cond_model, num_samples=num_sample).run()\n",
    "p_necessities = []\n",
    "for _ in range(1000):\n",
    "    trace = posterior()\n",
    "    r = trace.nodes['race']['value']\n",
    "    a = trace.nodes['age_cat']['value']\n",
    "    c = trace.nodes['priors_count']['value']\n",
    "    do_model = pyro.do(model, data = {\"sex\": torch.tensor(1)})\n",
    "    counterfactual_model = pyro.condition(do_model, data = {'race': r,'age_cat': a, 'priors_count': c })\n",
    "    trace_counterfactual = pyro.poutine.trace(counterfactual_model)\n",
    "    trace = trace_counterfactual.get_trace()\n",
    "    p_necessities.append(float(trace.nodes['two_year_recid']['value']))"
   ]
  },
  {
   "cell_type": "code",
   "execution_count": 44,
   "metadata": {},
   "outputs": [
    {
     "name": "stdout",
     "output_type": "stream",
     "text": [
      "P necessity = 0.525\n"
     ]
    }
   ],
   "source": [
    "p_necessity = 1 - mean(p_necessities)\n",
    "print(\"P necessity =\", p_necessity)"
   ]
  },
  {
   "cell_type": "markdown",
   "metadata": {},
   "source": [
    "#### Sufficiency\n",
    "$P(Y_{X=0} = 1 | X=1, Y=0)$"
   ]
  },
  {
   "cell_type": "code",
   "execution_count": 45,
   "metadata": {},
   "outputs": [],
   "source": [
    "cond_model = pyro.condition(model, data = {\"sex\": torch.tensor(1), \"two_year_recid\": torch.tensor(0)})\n",
    "posterior = pyro.infer.Importance(cond_model, num_samples=num_sample).run()\n",
    "p_sufficiencies = []\n",
    "for _ in range(1000):\n",
    "    trace = posterior()\n",
    "    r = trace.nodes['race']['value']\n",
    "    a = trace.nodes['age_cat']['value']\n",
    "    c = trace.nodes['priors_count']['value']\n",
    "    do_model = pyro.do(model, data = {\"race\": torch.tensor(0)})\n",
    "    counterfactual_model = pyro.condition(do_model, data = {'race': r,'age_cat': a, 'priors_count': c })\n",
    "    trace_counterfactual = pyro.poutine.trace(counterfactual_model)\n",
    "    trace = trace_counterfactual.get_trace()\n",
    "    p_sufficiencies.append(float(trace.nodes['two_year_recid']['value']))"
   ]
  },
  {
   "cell_type": "code",
   "execution_count": 46,
   "metadata": {
    "scrolled": true
   },
   "outputs": [
    {
     "name": "stdout",
     "output_type": "stream",
     "text": [
      "P necessity = 0.465\n"
     ]
    }
   ],
   "source": [
    "p_sufficiency = mean(p_sufficiencies)\n",
    "print(\"P necessity =\", p_sufficiency)"
   ]
  },
  {
   "cell_type": "markdown",
   "metadata": {},
   "source": [
    "#### Necessity and Sufficiency\n",
    "$PNS = P(X=0, Y=1) * PN + P(X=1, Y=0) * PS$"
   ]
  },
  {
   "cell_type": "code",
   "execution_count": 47,
   "metadata": {},
   "outputs": [
    {
     "name": "stdout",
     "output_type": "stream",
     "text": [
      "PNS = 0.232245\n"
     ]
    }
   ],
   "source": [
    "num_trials = 1000\n",
    "num_x0_y1 = 0\n",
    "num_x1_y0 = 0\n",
    "trace_handler = pyro.poutine.trace(model)\n",
    "for _ in range(num_trials):\n",
    "    trace = trace_handler.get_trace()\n",
    "    x = trace.nodes['sex']['value']\n",
    "    y = trace.nodes['two_year_recid']['value']\n",
    "    if x == 0 and y == 1:\n",
    "        num_x0_y1 += 1\n",
    "    if x == 1 and y == 0:\n",
    "        num_x1_y0 += 1\n",
    "        \n",
    "pns = (num_x0_y1 / num_trials) * p_necessity + (num_x1_y0 / num_trials) * p_sufficiency\n",
    "print('PNS =', pns)"
   ]
  },
  {
   "cell_type": "markdown",
   "metadata": {},
   "source": [
    "## Model 1 -  c) Analysis by Race + Gender"
   ]
  },
  {
   "cell_type": "markdown",
   "metadata": {},
   "source": [
    "### TP vs FN Rate"
   ]
  },
  {
   "cell_type": "code",
   "execution_count": 48,
   "metadata": {
    "jupyter": {
     "outputs_hidden": true
    }
   },
   "outputs": [
    {
     "name": "stdout",
     "output_type": "stream",
     "text": [
      "False positive rate (African-American and Male)      :  0.47470331043098063\n",
      "False negative rate (African-American and Male)      :  0.49757449757449757\n",
      "Accuracy (African-American and Male)      :   0.514454664914586\n",
      "AUC (African-American and Male)      :   0.5138610959972609\n",
      "\n",
      "\n",
      "False positive rate (African-American and Female)      :  0.40285714285714286\n",
      "False negative rate (African-American and Female)      :  0.4900662251655629\n",
      "Accuracy (African-American and Female)      :   0.5567484662576687\n",
      "AUC (African-American and Female)      :   0.5535383159886472\n",
      "\n",
      "False positive rate (Caucasian and Male)      :  0.4251968503937008\n",
      "False negative rate (Caucasian and Male)      :  0.5177956371986223\n",
      "Accuracy (Caucasian and Male)      :   0.5320614732379438\n",
      "AUC (Caucasian and Male)      :   0.5285037562038385\n",
      "\n",
      "False positive rate (Caucasian and Female)      :  0.40058479532163743\n",
      "False negative rate (Caucasian and Female)      :  0.5333333333333333\n",
      "Accuracy (Caucasian and Female)      :   0.54673721340388\n",
      "AUC (Caucasian and Female)      :   0.5330409356725146\n",
      "\n",
      "False positive rate Gap across African-American versus Caucasian Males: 0.04950646003727982\n",
      "False negative rate Gap across African-American versus Caucasian Males: 0.02022113962412475\n",
      "\n",
      "False positive rate Gap across African-American versus Caucasian Females: 0.0022723475355054257\n",
      "False negative rate Gap across African-American versus Caucasian Females: 0.04326710816777041\n",
      "\n",
      "False positive rate Gap across African-American Male versus Caucasian Female: 0.0741185151093432\n",
      "False negative rate Gap across African-American Male versus Caucasian Female: 0.03575883575883576\n",
      "\n",
      "False positive rate Gap across African-American Female versus Caucasian Male: 0.02233970753655795\n",
      "False negative rate Gap across African-American Female versus Caucasian Male: 0.027729412033059397\n"
     ]
    }
   ],
   "source": [
    "df = pd.read_csv(data_file_path)\n",
    "\n",
    "truth = []\n",
    "preds = []\n",
    "num_sample = 10\n",
    "for index, row in df.iterrows():\n",
    "    r = race_alias.index( row['race'] ) \n",
    "    s = sex_alias.index( row['sex'] ) \n",
    "    a = age_cat_alias.index( row['age_cat'] ) \n",
    "    c = priors_count_alias.index( row['priors_count'] ) \n",
    "    t = two_year_recid_alias.index( row['two_year_recid'] ) \n",
    "    conditioned_model = pyro.condition(model, data = {\"race\": torch.tensor( r ),\n",
    "                                                      \"sex\": torch.tensor( s ),\n",
    "                                                      \"age_cat\": torch.tensor( a ),\n",
    "                                                      \"priors_count\": torch.tensor( c )\n",
    "                                                     })\n",
    "    posterior = pyro.infer.Importance(conditioned_model, num_samples=num_sample).run()\n",
    "    trace = posterior()\n",
    "    pred = int(trace.nodes['two_year_recid']['value'])\n",
    "    truth += [ conditioned_model() ]\n",
    "    preds += [ pred ]\n",
    "    #if ((index%500)==0):print(index//500)\n",
    "truth = np.array(truth)\n",
    "preds = np.array(preds)\n",
    "\n",
    "## all scores for black defendants\n",
    "# score for black and male defendants\n",
    "y_test_ = truth[(df['race']=='African-American') & (df['sex']=='Male') ]\n",
    "y_pred_ = preds[(df['race']=='African-American') & (df['sex']=='Male')]\n",
    "[[tn , fp],[fn , tp]]  = confusion_matrix(y_test_, y_pred_)\n",
    "print(\"False positive rate (African-American and Male)      : \", fp/(fp+tn))\n",
    "print(\"False negative rate (African-American and Male)      : \", fn/(fn+tp))\n",
    "print(\"Accuracy (African-American and Male)      :  \", accuracy_score(y_test_, y_pred_) )\n",
    "print(\"AUC (African-American and Male)      :  \", roc_auc_score(y_test_, y_pred_) )\n",
    "\n",
    "fpr_black_male = fp/(fp+tn)\n",
    "fnr_black_male =  fn/(fn+tp)\n",
    "\n",
    "print('')\n",
    "# score for black and female defendants\n",
    "y_test_ = truth[(df['race']=='African-American') & (df['sex']=='Female')]\n",
    "y_pred_ = preds[(df['race']=='African-American') & (df['sex']=='Female')]\n",
    "[[tn , fp],[fn , tp]]  = confusion_matrix(y_test_, y_pred_)\n",
    "print(\"\\nFalse positive rate (African-American and Female)      : \", fp/(fp+tn))\n",
    "print(\"False negative rate (African-American and Female)      : \", fn/(fn+tp))\n",
    "print(\"Accuracy (African-American and Female)      :  \", accuracy_score(y_test_, y_pred_) )\n",
    "print(\"AUC (African-American and Female)      :  \", roc_auc_score(y_test_, y_pred_) )\n",
    "\n",
    "fpr_black_female = fp/(fp+tn)\n",
    "fnr_black_female =  fn/(fn+tp)\n",
    "\n",
    "## all scores for white defendants\n",
    "print('')\n",
    "# scores for white and male defendants\n",
    "y_test_ = truth[(df['race']=='Caucasian') & (df['sex']=='Male') ]\n",
    "y_pred_ = preds[(df['race']=='Caucasian') & (df['sex']=='Male')]\n",
    "[[tn , fp],[fn , tp]]  = confusion_matrix(y_test_, y_pred_)\n",
    "print(\"False positive rate (Caucasian and Male)      : \", fp/(fp+tn))\n",
    "print(\"False negative rate (Caucasian and Male)      : \", fn/(fn+tp))\n",
    "print(\"Accuracy (Caucasian and Male)      :  \", accuracy_score(y_test_, y_pred_) )\n",
    "print(\"AUC (Caucasian and Male)      :  \", roc_auc_score(y_test_, y_pred_) )\n",
    "\n",
    "fpr_white_male = fp/(fp+tn)\n",
    "fnr_white_male =  fn/(fn+tp)\n",
    "\n",
    "print('')\n",
    "# scores for white and female defendants\n",
    "y_test_ = truth[(df['race']=='Caucasian') & (df['sex']=='Female') ]\n",
    "y_pred_ = preds[(df['race']=='Caucasian') & (df['sex']=='Female')]\n",
    "[[tn , fp],[fn , tp]]  = confusion_matrix(y_test_, y_pred_)\n",
    "print(\"False positive rate (Caucasian and Female)      : \", fp/(fp+tn))\n",
    "print(\"False negative rate (Caucasian and Female)      : \", fn/(fn+tp))\n",
    "print(\"Accuracy (Caucasian and Female)      :  \", accuracy_score(y_test_, y_pred_) )\n",
    "print(\"AUC (Caucasian and Female)      :  \", roc_auc_score(y_test_, y_pred_) )\n",
    "\n",
    "fpr_white_female = fp/(fp+tn)\n",
    "fnr_white_female =  fn/(fn+tp)\n",
    "\n",
    "### calculate gaps\n",
    "## race gap with same gender\n",
    "# African-American versus Caucasian Males\n",
    "print('\\nFalse positive rate Gap across African-American versus Caucasian Males:', abs(fpr_black_male-fpr_white_male))\n",
    "print('False negative rate Gap across African-American versus Caucasian Males:', abs(fnr_black_male-fnr_white_male))\n",
    "# African-American versus Caucasian Female\n",
    "print('\\nFalse positive rate Gap across African-American versus Caucasian Females:', abs(fpr_black_female-fpr_white_female))\n",
    "print('False negative rate Gap across African-American versus Caucasian Females:', abs(fnr_black_female-fnr_white_female))\n",
    "## race gap versus different gender\n",
    "# African-American Male versus Caucasian Female\n",
    "print('\\nFalse positive rate Gap across African-American Male versus Caucasian Female:', abs(fpr_black_male-fpr_white_female))\n",
    "print('False negative rate Gap across African-American Male versus Caucasian Female:', abs(fnr_black_male-fnr_white_female))\n",
    "# African-American Female versus Caucasian Male\n",
    "print('\\nFalse positive rate Gap across African-American Female versus Caucasian Male:', abs(fpr_black_female-fpr_white_male))\n",
    "print('False negative rate Gap across African-American Female versus Caucasian Male:', abs(fnr_black_female-fnr_white_male))\n"
   ]
  },
  {
   "cell_type": "markdown",
   "metadata": {},
   "source": [
    "### Intervention"
   ]
  },
  {
   "cell_type": "code",
   "execution_count": 49,
   "metadata": {},
   "outputs": [
    {
     "name": "stderr",
     "output_type": "stream",
     "text": [
      "100%|██████████| 20/20 [00:01<00:00, 18.52it/s]\n",
      "100%|██████████| 20/20 [00:01<00:00, 19.81it/s]\n"
     ]
    }
   ],
   "source": [
    "ls = []\n",
    "combos = [(0, 0), (1, 0)]\n",
    "for combo in combos:\n",
    "    num_sample = 20\n",
    "    P_y1_do = {}\n",
    "    cur_ls = []\n",
    "    for run in tqdm.tqdm(range(20)):\n",
    "        for x in [0,1]:\n",
    "            do_model = pyro.do(model, data={ 'race': torch.tensor( combo[0] ), 'sex': torch.tensor(combo[1])  })\n",
    "            posterior = pyro.infer.Importance(do_model, num_samples=num_sample).run()\n",
    "            marginal = pyro.infer.EmpiricalMarginal(posterior, \"two_year_recid\") \n",
    "            samples = np.array([marginal().item() for _ in range(num_sample)])\n",
    "            e_unique, e_counts = np.unique(samples, return_counts=True)\n",
    "            dic = dict( zip(e_unique, e_counts) )\n",
    "            P_y1_do[ x ] = dic[ 1 ] / num_sample\n",
    "        diff = P_y1_do[0] - P_y1_do[1]\n",
    "        cur_ls += [ diff ]\n",
    "    ls.append(cur_ls)"
   ]
  },
  {
   "cell_type": "code",
   "execution_count": 50,
   "metadata": {},
   "outputs": [
    {
     "name": "stdout",
     "output_type": "stream",
     "text": [
      "African-American Female Intervention: 0.07499999999999993\n",
      "Caucasian Female Intervention: -0.05000000000000007\n"
     ]
    }
   ],
   "source": [
    "for items, combo in zip(ls, combos):\n",
    "    total = 0\n",
    "    for x in items:\n",
    "        total = total + x\n",
    "    print(race_alias[combo[0]], sex_alias[combo[1]],'Intervention:' , total / len(ls))"
   ]
  },
  {
   "cell_type": "markdown",
   "metadata": {},
   "source": [
    "### Counterfactual fairness"
   ]
  },
  {
   "cell_type": "markdown",
   "metadata": {},
   "source": [
    "P(two_year_recid sex=0 = 1 | sex = 1, two_year_recid = 0)"
   ]
  },
  {
   "cell_type": "code",
   "execution_count": 51,
   "metadata": {},
   "outputs": [
    {
     "name": "stderr",
     "output_type": "stream",
     "text": [
      "100%|██████████| 100/100 [00:05<00:00, 16.93it/s]"
     ]
    },
    {
     "name": "stdout",
     "output_type": "stream",
     "text": [
      "African-American Female Counterfactual: 0.009000000000000001\n",
      "Caucasian Female Counterfactual: 0.0087\n"
     ]
    },
    {
     "name": "stderr",
     "output_type": "stream",
     "text": [
      "\n"
     ]
    }
   ],
   "source": [
    "num_sample = 100\n",
    "conditioned_model = pyro.condition(model, data = {\"sex\": torch.tensor(1), \"two_year_recid\": torch.tensor(0)})\n",
    "posterior = pyro.infer.Importance(conditioned_model, num_samples=num_sample).run()\n",
    "ls = []\n",
    "combos = [(0, 0), (1, 0)]\n",
    "for run in tqdm.tqdm(range(100)):\n",
    "    z = 0\n",
    "    for combo in combos:\n",
    "        cur_ls = []\n",
    "        for _ in range(num_sample):\n",
    "            trace = posterior()\n",
    "            r = trace.nodes['race']['value']\n",
    "            a = trace.nodes['age_cat']['value']\n",
    "            c = trace.nodes['priors_count']['value']\n",
    "            do_model = pyro.do(model, data = {\"race\": torch.tensor(combo[0]), 'sex': torch.tensor(combo[1])})\n",
    "            counterfactual_model = pyro.condition(do_model, data = {'race': r,'age_cat': a, 'priors_count': c })\n",
    "            trace_counterfactual = pyro.poutine.trace(counterfactual_model)\n",
    "            trace = trace_counterfactual.get_trace()\n",
    "            z += trace.nodes['two_year_recid']['value']\n",
    "        cur_ls += [ float(z)/num_sample ]\n",
    "    ls.append(cur_ls)\n",
    "    \n",
    "for items, combo in zip(ls, combos):\n",
    "    total = 0\n",
    "    for x in items:\n",
    "        total = total + x\n",
    "    print(race_alias[combo[0]], sex_alias[combo[1]],'Counterfactual:' , total / len(ls))"
   ]
  },
  {
   "cell_type": "markdown",
   "metadata": {},
   "source": [
    "### Average Total Effect"
   ]
  },
  {
   "cell_type": "code",
   "execution_count": 52,
   "metadata": {},
   "outputs": [
    {
     "name": "stdout",
     "output_type": "stream",
     "text": [
      "African-American Male versus Caucasian Female TE 0.07300000000000001\n"
     ]
    }
   ],
   "source": [
    "# E(Y|do(X=1))−E(Y|do(X=0)).\n",
    "e1_samples = [pyro.do(model, data={'sex': torch.tensor(1), 'race': torch.tensor(0)})() for _ in range(1000)]\n",
    "e2_samples = [pyro.do(model, data={'sex': torch.tensor(0), 'race': torch.tensor(1)})() for _ in range(1000)]\n",
    "e1_avg = sum(e1_samples).item() / len(e1_samples)\n",
    "e2_avg = sum(e2_samples).item() / len(e2_samples)\n",
    "te = e1_avg - e2_avg\n",
    "print(race_alias[0], sex_alias[1], 'versus' ,race_alias[1], sex_alias[0],'TE' ,te)"
   ]
  },
  {
   "cell_type": "code",
   "execution_count": 53,
   "metadata": {},
   "outputs": [
    {
     "name": "stdout",
     "output_type": "stream",
     "text": [
      "Caucasian Male versus African-American Female TE 0.030000000000000027\n"
     ]
    }
   ],
   "source": [
    "# E(Y|do(X=1))−E(Y|do(X=0)).\n",
    "e1_samples = [pyro.do(model, data={'sex': torch.tensor(1), 'race': torch.tensor(1)})() for _ in range(1000)]\n",
    "e2_samples = [pyro.do(model, data={'sex': torch.tensor(0), 'race': torch.tensor(0)})() for _ in range(1000)]\n",
    "e1_avg = sum(e1_samples).item() / len(e1_samples)\n",
    "e2_avg = sum(e2_samples).item() / len(e2_samples)\n",
    "te = e1_avg - e2_avg\n",
    "print(race_alias[1], sex_alias[1], 'versus' ,race_alias[0], sex_alias[0],'TE' ,te)"
   ]
  },
  {
   "cell_type": "markdown",
   "metadata": {},
   "source": [
    "### Natural Effects"
   ]
  },
  {
   "cell_type": "markdown",
   "metadata": {},
   "source": [
    "#### Natural Direct Effects"
   ]
  },
  {
   "cell_type": "code",
   "execution_count": 54,
   "metadata": {},
   "outputs": [
    {
     "name": "stdout",
     "output_type": "stream",
     "text": [
      "African-American Male versus Caucasian Female NDE -0.03199999999999997\n"
     ]
    }
   ],
   "source": [
    "cond_model = pyro.condition(model, data={'priors_count': torch.tensor(0)})\n",
    "e1_samples = [pyro.do(cond_model, data={'sex': torch.tensor(1), 'race': torch.tensor(0)})() for _ in range(1000)]\n",
    "e2_samples = [pyro.do(cond_model, data={'sex': torch.tensor(0), 'race': torch.tensor(1)})() for _ in range(1000)]\n",
    "\n",
    "e1_avg = sum(e1_samples).item() / len(e1_samples)\n",
    "e2_avg = sum(e2_samples).item() / len(e2_samples)\n",
    "\n",
    "nde = e1_avg - e2_avg\n",
    "print(race_alias[0], sex_alias[1], 'versus' ,race_alias[1], sex_alias[0],'NDE', nde)"
   ]
  },
  {
   "cell_type": "code",
   "execution_count": 55,
   "metadata": {},
   "outputs": [
    {
     "name": "stdout",
     "output_type": "stream",
     "text": [
      "Caucasian Male versus African-American Female NDE 0.03400000000000003\n"
     ]
    }
   ],
   "source": [
    "cond_model = pyro.condition(model, data={'priors_count': torch.tensor(0)})\n",
    "e1_samples = [pyro.do(cond_model, data={'sex': torch.tensor(1), 'race': torch.tensor(1)})() for _ in range(1000)]\n",
    "e2_samples = [pyro.do(cond_model, data={'sex': torch.tensor(0), 'race': torch.tensor(0)})() for _ in range(1000)]\n",
    "\n",
    "e1_avg = sum(e1_samples).item() / len(e1_samples)\n",
    "e2_avg = sum(e2_samples).item() / len(e2_samples)\n",
    "\n",
    "nde = e1_avg - e2_avg\n",
    "print(race_alias[1], sex_alias[1], 'versus' ,race_alias[0], sex_alias[0],'NDE', nde)"
   ]
  },
  {
   "cell_type": "markdown",
   "metadata": {},
   "source": [
    "#### Natural Indirect Effect"
   ]
  },
  {
   "cell_type": "code",
   "execution_count": 56,
   "metadata": {},
   "outputs": [
    {
     "name": "stdout",
     "output_type": "stream",
     "text": [
      "NIE of African-American Female : 0.22999999999999998\n",
      "NIE of Caucasian Female : 0.22899999999999998\n"
     ]
    }
   ],
   "source": [
    "# When Z = 1 E(Y|(X = 1), do(M = 1)) - E(Y|(X = 1), do(M = 0))\n",
    "\n",
    "combos = [(0, 0), (1, 0)]\n",
    "for combo in combos:\n",
    "    race_index = combo[0]\n",
    "    sex_index = combo[1]\n",
    "    cond_model = pyro.condition(model, data={'sex': torch.tensor(sex_index), 'race': torch.tensor(race_index)})\n",
    "    e1_samples = [pyro.do(cond_model, data={'priors_count': torch.tensor(1)})() for _ in range(1000)]\n",
    "    e2_samples = [pyro.do(cond_model, data={'priors_count': torch.tensor(0)})() for _ in range(1000)]\n",
    "\n",
    "    e1_avg = sum(e1_samples).item() / len(e1_samples)\n",
    "    e2_avg = sum(e2_samples).item() / len(e2_samples)\n",
    "\n",
    "    nie = e1_avg - e2_avg\n",
    "\n",
    "    print('NIE of', race_alias[race_index], sex_alias[sex_index], ':', nie)"
   ]
  },
  {
   "cell_type": "markdown",
   "metadata": {},
   "source": [
    "### Necessity and Sufficienty"
   ]
  },
  {
   "cell_type": "markdown",
   "metadata": {},
   "source": [
    "#### Necessity"
   ]
  },
  {
   "cell_type": "markdown",
   "metadata": {},
   "source": [
    "$P_{necessity} = P(Y_{X=1} = 0 | X=0, Y=1)$"
   ]
  },
  {
   "cell_type": "code",
   "execution_count": 57,
   "metadata": {},
   "outputs": [
    {
     "name": "stdout",
     "output_type": "stream",
     "text": [
      "P necessity with Caucasian Male : 0.521\n",
      "P necessity with Caucasian Female : 0.491\n"
     ]
    }
   ],
   "source": [
    "stored_necessity = list()\n",
    "combos = [(1, 1), (1, 0)]\n",
    "for combo in combos:\n",
    "    race_index = combo[0]\n",
    "    sex_index = combo[1]\n",
    "\n",
    "    cond_model = pyro.condition(model, data = {\"sex\": torch.tensor(swap_value(sex_index)), \"race\": torch.tensor(swap_value(race_index)), \"two_year_recid\": torch.tensor(1)})\n",
    "    posterior = pyro.infer.Importance(cond_model, num_samples=num_sample).run()\n",
    "    p_necessities = []\n",
    "    for _ in range(1000):\n",
    "        trace = posterior()\n",
    "        a = trace.nodes['age_cat']['value']\n",
    "        c = trace.nodes['priors_count']['value']\n",
    "        do_model = pyro.do(model, data = {\"sex\": torch.tensor(sex_index), \"race\": torch.tensor(race_index)})\n",
    "        counterfactual_model = pyro.condition(do_model, data = {'age_cat': a, 'priors_count': c })\n",
    "        trace_counterfactual = pyro.poutine.trace(counterfactual_model)\n",
    "        trace = trace_counterfactual.get_trace()\n",
    "        p_necessities.append(float(trace.nodes['two_year_recid']['value']))\n",
    "\n",
    "    p_necessity = 1 - mean(p_necessities)\n",
    "    stored_necessity.append(p_necessity)\n",
    "    print(\"P necessity with\", race_alias[race_index], sex_alias[sex_index],':' , p_necessity)"
   ]
  },
  {
   "cell_type": "markdown",
   "metadata": {},
   "source": [
    "#### Sufficiency"
   ]
  },
  {
   "cell_type": "code",
   "execution_count": 58,
   "metadata": {},
   "outputs": [
    {
     "name": "stdout",
     "output_type": "stream",
     "text": [
      "P necessity of African-American Female 0.431\n",
      "P necessity of African-American Male 0.399\n"
     ]
    }
   ],
   "source": [
    "stored_sufficiency = list()\n",
    "combos = [(1, 1), (1, 0)]\n",
    "for combo in combos:\n",
    "    race_index = combo[0]\n",
    "    sex_index = combo[1]\n",
    "\n",
    "    cond_model = pyro.condition(model, data = {\"sex\": torch.tensor(sex_index), \"race\": torch.tensor(race_index), \"two_year_recid\": torch.tensor(0)})\n",
    "    posterior = pyro.infer.Importance(cond_model, num_samples=num_sample).run()\n",
    "    p_sufficiencies = []\n",
    "    for _ in range(1000):\n",
    "        trace = posterior()\n",
    "        a = trace.nodes['age_cat']['value']\n",
    "        c = trace.nodes['priors_count']['value']\n",
    "        do_model = pyro.do(model, data = {\"race\": torch.tensor(swap_value(race_index)), \"sex\": torch.tensor(swap_value(sex_index))})\n",
    "        counterfactual_model = pyro.condition(do_model, data = {'age_cat': a, 'priors_count': c })\n",
    "        trace_counterfactual = pyro.poutine.trace(counterfactual_model)\n",
    "        trace = trace_counterfactual.get_trace()\n",
    "        p_sufficiencies.append(float(trace.nodes['two_year_recid']['value']))\n",
    "\n",
    "    p_sufficiency = mean(p_sufficiencies)\n",
    "    stored_sufficiency.append(p_sufficiency)\n",
    "    print(\"P necessity of\", race_alias[swap_value(race_index)], sex_alias[swap_value(sex_index)], p_sufficiency)"
   ]
  },
  {
   "cell_type": "markdown",
   "metadata": {},
   "source": [
    "#### Necessity and Sufficiency\n",
    "$PNS = P(X=0, Y=1) * PN + P(X=1, Y=0) * PS$"
   ]
  },
  {
   "cell_type": "code",
   "execution_count": 59,
   "metadata": {},
   "outputs": [
    {
     "name": "stdout",
     "output_type": "stream",
     "text": [
      "PNS of Caucasian Male : 0.250542\n",
      "PNS of Caucasian Female : 0.23376\n"
     ]
    }
   ],
   "source": [
    "for p_necessity, p_sufficiency, index in zip(stored_necessity, stored_sufficiency, ((1, 1), (1, 0))):\n",
    "    num_trials = 1000\n",
    "    num_x0_y1 = 0\n",
    "    num_x1_y0 = 0\n",
    "    trace_handler = pyro.poutine.trace(model)\n",
    "    for _ in range(num_trials):\n",
    "        trace = trace_handler.get_trace()\n",
    "        x = trace.nodes['race']['value']\n",
    "        y = trace.nodes['two_year_recid']['value']\n",
    "        if x == 0 and y == 1:\n",
    "            num_x0_y1 += 1\n",
    "        if x == 1 and y == 0:\n",
    "            num_x1_y0 += 1\n",
    "    pns = (num_x0_y1 / num_trials) * p_necessity + (num_x1_y0 / num_trials) * p_sufficiency\n",
    "    race_alias[race_index], sex_alias[sex_index]\n",
    "    print('PNS of', race_alias[index[0]], sex_alias[index[1]], ':', pns)"
   ]
  },
  {
   "cell_type": "markdown",
   "metadata": {},
   "source": [
    "## Model 2 - Direct Race Path"
   ]
  },
  {
   "cell_type": "markdown",
   "metadata": {},
   "source": [
    "### Read Model Parameters"
   ]
  },
  {
   "cell_type": "code",
   "execution_count": 60,
   "metadata": {},
   "outputs": [],
   "source": [
    "# race\n",
    "df = pd.read_csv('data/model2_race.csv')\n",
    "race_alias = list(df['Var1'])\n",
    "race_prob = torch.tensor(list(df['Freq']) )\n",
    "\n",
    "# sex\n",
    "df = pd.read_csv('data/model2_sex.csv')\n",
    "sex_alias = list(df['Var1'])\n",
    "sex_prob = torch.tensor(list(df['Freq']) )\n",
    "\n",
    "# age_cat\n",
    "df = pd.read_csv('data/model2_age_cat.csv')\n",
    "age_cat_alias = list(df['Var1'])\n",
    "age_cat_prob = torch.tensor(list(df['Freq']) )\n",
    "\n",
    "# priors_count\n",
    "df = pd.read_csv('data/model2_priors_count.csv')\n",
    "priors_count_alias = list(set( df['priors_count'] ))\n",
    "\n",
    "dic = {}\n",
    "for index, row in df.iterrows():\n",
    "    dic[(row['race'], row['sex'],row['age_cat'],row['priors_count'])] = row['Freq']\n",
    "l0 = []\n",
    "for r in race_alias:\n",
    "    l1 = []\n",
    "    for s in sex_alias:\n",
    "        l2 = []\n",
    "        for a in age_cat_alias:\n",
    "            l3 = []\n",
    "            for c in priors_count_alias:            \n",
    "                l3 += [ dic[r,s,a,c] ]\n",
    "            l2 +=  [ l3 ]\n",
    "        l1 += [ l2 ]\n",
    "    l0 += [ l1 ]\n",
    "\n",
    "priors_count_probs = torch.tensor( l0 )\n",
    "\n",
    "# two_year_recid\n",
    "df = pd.read_csv('data/model2_two_year_recid.csv')\n",
    "two_year_recid_alias = list(set( df['two_year_recid'] ))\n",
    "\n",
    "dic = {}\n",
    "for index, row in df.iterrows():\n",
    "    dic[(row['race'], row['priors_count'],row['two_year_recid'])] = row['Freq']\n",
    "    \n",
    "l0 = []\n",
    "for r in race_alias:\n",
    "    l1 = []\n",
    "    for c in priors_count_alias:\n",
    "        l2 = []\n",
    "        for t in two_year_recid_alias:\n",
    "            l2 += [ dic[r,c,t] ]\n",
    "        l1 += [ l2 ]\n",
    "    l0 += [ l1 ]\n",
    "\n",
    "two_year_recid_probs = torch.tensor( l0 )"
   ]
  },
  {
   "cell_type": "markdown",
   "metadata": {},
   "source": [
    "### Define model"
   ]
  },
  {
   "cell_type": "code",
   "execution_count": 61,
   "metadata": {},
   "outputs": [],
   "source": [
    "def model():\n",
    "    race = pyro.sample(\"race\", dist.Categorical( race_prob )) \n",
    "    sex = pyro.sample(\"sex\", dist.Categorical( sex_prob )) \n",
    "    age_cat = pyro.sample(\"age_cat\", dist.Categorical( age_cat_prob )) \n",
    "    priors_count = pyro.sample(\"priors_count\", dist.Categorical(priors_count_probs[race][sex][age_cat]))\n",
    "    two_year_recid = pyro.sample(\"two_year_recid\", dist.Categorical(two_year_recid_probs[race][priors_count]))\n",
    "    return two_year_recid"
   ]
  },
  {
   "cell_type": "code",
   "execution_count": 62,
   "metadata": {},
   "outputs": [
    {
     "name": "stdout",
     "output_type": "stream",
     "text": [
      "False positive rate (Black)      :  0.46901172529313234\n",
      "False negative rate (Black)      :  0.45984251968503936\n",
      "Accuracy (Black)      :   0.5357142857142857\n",
      "AUC (Black)      :   0.5355728775109141\n",
      "\n",
      "False positive rate (White)      :  0.3689839572192513\n",
      "False negative rate (White)      :  0.5490605427974948\n",
      "Accuracy (White)      :   0.560717196414018\n",
      "AUC (White)      :   0.540977749991627\n",
      "\n",
      "False positive rate Gap: 0.10002776807388103\n",
      "False negative rate Gap: 0.08921802311245547\n"
     ]
    }
   ],
   "source": [
    "df = pd.read_csv(data_file_path)\n",
    "\n",
    "truth = []\n",
    "preds = []\n",
    "num_sample = 10\n",
    "for index, row in df.iterrows():\n",
    "    r = race_alias.index( row['race'] ) \n",
    "    s = sex_alias.index( row['sex'] ) \n",
    "    a = age_cat_alias.index( row['age_cat'] ) \n",
    "    c = priors_count_alias.index( row['priors_count'] ) \n",
    "    t = two_year_recid_alias.index( row['two_year_recid'] ) \n",
    "    conditioned_model = pyro.condition(model, data = {\"race\": torch.tensor( r ),\n",
    "                                                      \"sex\": torch.tensor( s ),\n",
    "                                                      \"age_cat\": torch.tensor( a ),\n",
    "                                                      \"priors_count\": torch.tensor( c )\n",
    "                                                     })\n",
    "    posterior = pyro.infer.Importance(conditioned_model, num_samples=num_sample).run()\n",
    "    trace = posterior()\n",
    "    pred = int(trace.nodes['two_year_recid']['value'])\n",
    "    truth += [ conditioned_model() ]\n",
    "    preds += [ pred ]\n",
    "    #if ((index%500)==0):print(index//500)\n",
    "truth = np.array(truth)\n",
    "preds = np.array(preds)\n",
    "\n",
    "# score for Black defendants\n",
    "y_test_ = truth[ df['race']=='African-American' ]\n",
    "y_pred_ = preds[ df['race']=='African-American' ]\n",
    "[[tn , fp],[fn , tp]]  = confusion_matrix(y_test_, y_pred_)\n",
    "print(\"False positive rate (Black)      : \", fp/(fp+tn))\n",
    "print(\"False negative rate (Black)      : \", fn/(fn+tp))\n",
    "print(\"Accuracy (Black)      :  \", accuracy_score(y_test_, y_pred_) )\n",
    "print(\"AUC (Black)      :  \", roc_auc_score(y_test_, y_pred_) )\n",
    "\n",
    "fpr_black = fp/(fp+tn)\n",
    "fnr_black =  fn/(fn+tp)\n",
    "\n",
    "# score for White defendants\n",
    "y_test_ = truth[ df['race']=='Caucasian' ]\n",
    "y_pred_ = preds[ df['race']=='Caucasian' ]\n",
    "[[tn , fp],[fn , tp]]  = confusion_matrix(y_test_, y_pred_)\n",
    "print(\"\\nFalse positive rate (White)      : \", fp/(fp+tn))\n",
    "print(\"False negative rate (White)      : \", fn/(fn+tp))\n",
    "print(\"Accuracy (White)      :  \", accuracy_score(y_test_, y_pred_) )\n",
    "print(\"AUC (White)      :  \", roc_auc_score(y_test_, y_pred_) )\n",
    "\n",
    "fpr_white = fp/(fp+tn)\n",
    "fnr_white =  fn/(fn+tp)\n",
    "\n",
    "print('\\nFalse positive rate Gap:', abs(fpr_black-fpr_white))\n",
    "print('False negative rate Gap:', abs(fnr_black-fnr_white))"
   ]
  },
  {
   "cell_type": "markdown",
   "metadata": {},
   "source": [
    "### Intervention"
   ]
  },
  {
   "cell_type": "markdown",
   "metadata": {},
   "source": [
    "You are interested in the average causal effect P(two_year_recid = 1|do(race = 0)) − P(two_year_recid = 1|do(race = 1)),\n",
    "where two_year_recid=1 represents recidivism, \n",
    "race=0 represents \"African-American\" \n",
    "race=1 represents \"Caucasian\" "
   ]
  },
  {
   "cell_type": "code",
   "execution_count": 63,
   "metadata": {},
   "outputs": [
    {
     "name": "stderr",
     "output_type": "stream",
     "text": [
      "100%|██████████| 100/100 [00:24<00:00,  4.05it/s]\n"
     ]
    }
   ],
   "source": [
    "ls = []\n",
    "for run in tqdm.tqdm(range(100)):\n",
    "    num_sample = 100\n",
    "    P_y1_do = {}\n",
    "    for x in [0,1]:\n",
    "        do_model = pyro.do(model, data={ 'race': torch.tensor( x )  })\n",
    "        posterior = pyro.infer.Importance(do_model, num_samples=num_sample).run()\n",
    "        marginal = pyro.infer.EmpiricalMarginal(posterior, \"two_year_recid\") \n",
    "        samples = np.array([marginal().item() for _ in range(num_sample)])\n",
    "        e_unique, e_counts = np.unique(samples, return_counts=True)\n",
    "        dic = dict( zip(e_unique, e_counts) )\n",
    "        P_y1_do[ x ] = dic[ 1 ] / num_sample\n",
    "    diff = P_y1_do[0] - P_y1_do[1]\n",
    "    ls += [ diff ]"
   ]
  },
  {
   "cell_type": "code",
   "execution_count": 64,
   "metadata": {
    "scrolled": true
   },
   "outputs": [
    {
     "data": {
      "image/png": "[encoded data removed]",
      "text/plain": [
       "<Figure size 432x288 with 1 Axes>"
      ]
     },
     "metadata": {
      "needs_background": "light"
     },
     "output_type": "display_data"
    }
   ],
   "source": [
    "plt.hist(ls) \n",
    "plt.show()"
   ]
  },
  {
   "cell_type": "code",
   "execution_count": 65,
   "metadata": {},
   "outputs": [
    {
     "name": "stdout",
     "output_type": "stream",
     "text": [
      "0.12970000000000004\n"
     ]
    }
   ],
   "source": [
    "total = 0\n",
    "for x in ls:\n",
    "    total = total + x\n",
    "print(total / len(ls))"
   ]
  },
  {
   "cell_type": "markdown",
   "metadata": {},
   "source": [
    "### Counterfactual fairness"
   ]
  },
  {
   "cell_type": "code",
   "execution_count": 66,
   "metadata": {},
   "outputs": [
    {
     "name": "stderr",
     "output_type": "stream",
     "text": [
      "100%|██████████| 100/100 [00:02<00:00, 34.73it/s]\n"
     ]
    }
   ],
   "source": [
    "num_sample = 100\n",
    "conditioned_model = pyro.condition(model, data = {\"race\": torch.tensor(1), \"two_year_recid\": torch.tensor(0)})\n",
    "posterior = pyro.infer.Importance(conditioned_model, num_samples=num_sample).run()\n",
    "ls = []\n",
    "for run in tqdm.tqdm(range(100)):\n",
    "    z = 0\n",
    "    for _ in range(num_sample):\n",
    "        trace = posterior()\n",
    "        s = trace.nodes['sex']['value']\n",
    "        a = trace.nodes['age_cat']['value']\n",
    "        c = trace.nodes['priors_count']['value']\n",
    "        do_model = pyro.do(model, data = {\"race\": torch.tensor(0)})\n",
    "        counterfactual_model = pyro.condition(do_model, data = {'sex': s,'age_cat': a, 'priors_count': c })\n",
    "        trace_counterfactual = pyro.poutine.trace(counterfactual_model)\n",
    "        trace = trace_counterfactual.get_trace()\n",
    "        z += trace.nodes['two_year_recid']['value']\n",
    "    ls += [ float(z)/num_sample ]"
   ]
  },
  {
   "cell_type": "code",
   "execution_count": 67,
   "metadata": {},
   "outputs": [
    {
     "data": {
      "image/png": "[encoded data removed]",
      "text/plain": [
       "<Figure size 432x288 with 1 Axes>"
      ]
     },
     "metadata": {
      "needs_background": "light"
     },
     "output_type": "display_data"
    }
   ],
   "source": [
    "plt.hist(ls)\n",
    "plt.show()"
   ]
  },
  {
   "cell_type": "code",
   "execution_count": 68,
   "metadata": {},
   "outputs": [
    {
     "name": "stdout",
     "output_type": "stream",
     "text": [
      "0.4440000000000002\n"
     ]
    }
   ],
   "source": [
    "total = 0\n",
    "for x in ls:\n",
    "    total = total + x\n",
    "print(total / len(ls))"
   ]
  },
  {
   "cell_type": "markdown",
   "metadata": {},
   "source": [
    "### Average Total Effects"
   ]
  },
  {
   "cell_type": "code",
   "execution_count": 69,
   "metadata": {
    "scrolled": false
   },
   "outputs": [
    {
     "data": {
      "text/plain": [
       "-0.09599999999999997"
      ]
     },
     "execution_count": 69,
     "metadata": {},
     "output_type": "execute_result"
    }
   ],
   "source": [
    "# E(Y|do(X=1))−E(Y|do(X=0)).\n",
    "e1_samples = [pyro.do(model, data={'race': torch.tensor(1)})() for _ in range(1000)]\n",
    "e2_samples = [pyro.do(model, data={'race': torch.tensor(0)})() for _ in range(1000)]\n",
    "e1_avg = sum(e1_samples).item() / len(e1_samples)\n",
    "e2_avg = sum(e2_samples).item() / len(e2_samples)\n",
    "e1_avg - e2_avg"
   ]
  },
  {
   "cell_type": "markdown",
   "metadata": {},
   "source": [
    "### Natural effects"
   ]
  },
  {
   "cell_type": "markdown",
   "metadata": {},
   "source": [
    "#### Natural Direct Effects"
   ]
  },
  {
   "cell_type": "code",
   "execution_count": 70,
   "metadata": {},
   "outputs": [],
   "source": [
    "# When Z = 1 E(Y|(M = 1), do(X = 1)) - E(Y|(M = 1), do(X = 0))\n",
    "cond_model = pyro.condition(model, data={'priors_count': torch.tensor(0)})\n",
    "e1_samples = [pyro.do(cond_model, data={'race': torch.tensor(1)})() for _ in range(1000)]\n",
    "e2_samples = [pyro.do(cond_model, data={'race': torch.tensor(0)})() for _ in range(1000)]"
   ]
  },
  {
   "cell_type": "code",
   "execution_count": 71,
   "metadata": {},
   "outputs": [],
   "source": [
    "e1_avg = sum(e1_samples).item() / len(e1_samples)\n",
    "e2_avg = sum(e2_samples).item() / len(e2_samples)"
   ]
  },
  {
   "cell_type": "code",
   "execution_count": 72,
   "metadata": {},
   "outputs": [
    {
     "data": {
      "text/plain": [
       "0.307"
      ]
     },
     "execution_count": 72,
     "metadata": {},
     "output_type": "execute_result"
    }
   ],
   "source": [
    "e1_avg"
   ]
  },
  {
   "cell_type": "code",
   "execution_count": 73,
   "metadata": {},
   "outputs": [
    {
     "data": {
      "text/plain": [
       "0.365"
      ]
     },
     "execution_count": 73,
     "metadata": {},
     "output_type": "execute_result"
    }
   ],
   "source": [
    "e2_avg"
   ]
  },
  {
   "cell_type": "code",
   "execution_count": 74,
   "metadata": {},
   "outputs": [
    {
     "data": {
      "text/plain": [
       "-0.057999999999999996"
      ]
     },
     "execution_count": 74,
     "metadata": {},
     "output_type": "execute_result"
    }
   ],
   "source": [
    "e1_avg - e2_avg"
   ]
  },
  {
   "cell_type": "markdown",
   "metadata": {},
   "source": [
    "#### Natural Indirect Effects"
   ]
  },
  {
   "cell_type": "code",
   "execution_count": 75,
   "metadata": {},
   "outputs": [],
   "source": [
    "# NIE = E(Y | M=1, do(X=0)) – E(Y | M=0, do(X=0))\n",
    "cond_model_1 = pyro.condition(model, data={'priors_count': torch.tensor(1)})\n",
    "cond_model_2 = pyro.condition(model, data={'priors_count': torch.tensor(0)})\n",
    "e1_samples = [pyro.do(cond_model_1, data={'race': torch.tensor(0)})() for _ in range(1000)]\n",
    "e2_samples = [pyro.do(cond_model_2, data={'race': torch.tensor(0)})() for _ in range(1000)]"
   ]
  },
  {
   "cell_type": "code",
   "execution_count": 76,
   "metadata": {},
   "outputs": [],
   "source": [
    "e1_avg = sum(e1_samples).item() / len(e1_samples)\n",
    "e2_avg = sum(e2_samples).item() / len(e2_samples)"
   ]
  },
  {
   "cell_type": "code",
   "execution_count": 77,
   "metadata": {},
   "outputs": [
    {
     "data": {
      "text/plain": [
       "0.271"
      ]
     },
     "execution_count": 77,
     "metadata": {},
     "output_type": "execute_result"
    }
   ],
   "source": [
    "e1_avg - e2_avg"
   ]
  },
  {
   "cell_type": "markdown",
   "metadata": {},
   "source": [
    "### Necessity and Sufficienty"
   ]
  },
  {
   "cell_type": "markdown",
   "metadata": {},
   "source": [
    "#### Necessity"
   ]
  },
  {
   "cell_type": "markdown",
   "metadata": {},
   "source": [
    "$P_{necessity} = P(Y_{X=1} = 0 | X=0, Y=1)$"
   ]
  },
  {
   "cell_type": "code",
   "execution_count": 78,
   "metadata": {},
   "outputs": [],
   "source": [
    "cond_model = pyro.condition(model, data = {\"race\": torch.tensor(0), \"two_year_recid\": torch.tensor(1)})\n",
    "posterior = pyro.infer.Importance(cond_model, num_samples=num_sample).run()\n",
    "p_necessities = []\n",
    "for _ in range(1000):\n",
    "    trace = posterior()\n",
    "    s = trace.nodes['sex']['value']\n",
    "    a = trace.nodes['age_cat']['value']\n",
    "    c = trace.nodes['priors_count']['value']\n",
    "    do_model = pyro.do(model, data = {\"race\": torch.tensor(1)})\n",
    "    counterfactual_model = pyro.condition(do_model, data = {'sex': s,'age_cat': a, 'priors_count': c })\n",
    "    trace_counterfactual = pyro.poutine.trace(counterfactual_model)\n",
    "    trace = trace_counterfactual.get_trace()\n",
    "    p_necessities.append(float(trace.nodes['two_year_recid']['value']))"
   ]
  },
  {
   "cell_type": "code",
   "execution_count": 79,
   "metadata": {},
   "outputs": [
    {
     "name": "stdout",
     "output_type": "stream",
     "text": [
      "P necessity = 0.538\n"
     ]
    }
   ],
   "source": [
    "p_necessity = 1 - mean(p_necessities)\n",
    "print(\"P necessity =\", p_necessity)"
   ]
  },
  {
   "cell_type": "markdown",
   "metadata": {},
   "source": [
    "#### Sufficiency\n",
    "$P(Y_{X=0} = 1 | X=1, Y=0)$"
   ]
  },
  {
   "cell_type": "code",
   "execution_count": 80,
   "metadata": {},
   "outputs": [],
   "source": [
    "cond_model = pyro.condition(model, data = {\"race\": torch.tensor(1), \"two_year_recid\": torch.tensor(0)})\n",
    "posterior = pyro.infer.Importance(cond_model, num_samples=num_sample).run()\n",
    "p_sufficiencies = []\n",
    "for _ in range(1000):\n",
    "    trace = posterior()\n",
    "    s = trace.nodes['sex']['value']\n",
    "    a = trace.nodes['age_cat']['value']\n",
    "    c = trace.nodes['priors_count']['value']\n",
    "    do_model = pyro.do(model, data = {\"race\": torch.tensor(0)})\n",
    "    counterfactual_model = pyro.condition(do_model, data = {'sex': s,'age_cat': a, 'priors_count': c })\n",
    "    trace_counterfactual = pyro.poutine.trace(counterfactual_model)\n",
    "    trace = trace_counterfactual.get_trace()\n",
    "    p_sufficiencies.append(float(trace.nodes['two_year_recid']['value']))"
   ]
  },
  {
   "cell_type": "code",
   "execution_count": 81,
   "metadata": {},
   "outputs": [
    {
     "name": "stdout",
     "output_type": "stream",
     "text": [
      "P necessity = 0.468\n"
     ]
    }
   ],
   "source": [
    "p_sufficiency = mean(p_sufficiencies)\n",
    "print(\"P necessity =\", p_sufficiency)"
   ]
  },
  {
   "cell_type": "markdown",
   "metadata": {},
   "source": [
    "#### Necessity and Sufficiency\n",
    "$PNS = P(X=0, Y=1) * PN + P(X=1, Y=0) * PS$"
   ]
  },
  {
   "cell_type": "code",
   "execution_count": 82,
   "metadata": {},
   "outputs": [
    {
     "name": "stdout",
     "output_type": "stream",
     "text": [
      "PNS = 0.286212\n"
     ]
    }
   ],
   "source": [
    "num_trials = 1000\n",
    "num_x0_y1 = 0\n",
    "num_x1_y0 = 0\n",
    "trace_handler = pyro.poutine.trace(model)\n",
    "for _ in range(num_trials):\n",
    "    trace = trace_handler.get_trace()\n",
    "    x = trace.nodes['race']['value']\n",
    "    y = trace.nodes['two_year_recid']['value']\n",
    "    if x == 0 and y == 1:\n",
    "        num_x0_y1 += 1\n",
    "    if x == 1 and y == 0:\n",
    "        num_x1_y0 += 1\n",
    "pns = (num_x0_y1 / num_trials) * p_necessity + (num_x1_y0 / num_trials) * p_sufficiency\n",
    "print('PNS =', pns)"
   ]
  },
  {
   "cell_type": "markdown",
   "metadata": {},
   "source": [
    "## Model 3 - Unaware by Race"
   ]
  },
  {
   "cell_type": "markdown",
   "metadata": {},
   "source": [
    "### Read data"
   ]
  },
  {
   "cell_type": "code",
   "execution_count": 83,
   "metadata": {},
   "outputs": [],
   "source": [
    "# race\n",
    "df = pd.read_csv('data/model3_race.csv')\n",
    "race_alias = list(df['Var1'])\n",
    "race_prob = torch.tensor(list(df['Freq']) )\n",
    "\n",
    "# sex\n",
    "df = pd.read_csv('data/model3_sex.csv')\n",
    "sex_alias = list(df['Var1'])\n",
    "sex_prob = torch.tensor(list(df['Freq']) )\n",
    "\n",
    "# age_cat\n",
    "df = pd.read_csv('data/model3_age_cat.csv')\n",
    "age_cat_alias = list(df['Var1'])\n",
    "age_cat_prob = torch.tensor(list(df['Freq']) )\n",
    "\n",
    "# priors_count\n",
    "df = pd.read_csv('data/model3_priors_count.csv')\n",
    "priors_count_alias = list(set( df['priors_count'] ))\n",
    "\n",
    "dic = {}\n",
    "for index, row in df.iterrows():\n",
    "    dic[( row['sex'],row['age_cat'],row['priors_count'])] = row['Freq']\n",
    "l1 = []\n",
    "for s in sex_alias:\n",
    "    l2 = []\n",
    "    for a in age_cat_alias:\n",
    "        l3 = []\n",
    "        for c in priors_count_alias:            \n",
    "            l3 += [ dic[s,a,c] ]\n",
    "        l2 +=  [ l3 ]\n",
    "    l1 += [ l2 ]\n",
    "\n",
    "priors_count_probs = torch.tensor( l1 )\n",
    "\n",
    "# two_year_recid\n",
    "df = pd.read_csv('data/model3_two_year_recid.csv')\n",
    "two_year_recid_alias = list(df['Unnamed: 0'])\n",
    "\n",
    "l = []\n",
    "for e in priors_count_alias:\n",
    "    l += [ list( df[e] )  ]\n",
    "two_year_recid_probs = torch.tensor( l )"
   ]
  },
  {
   "cell_type": "markdown",
   "metadata": {},
   "source": [
    "### Define model"
   ]
  },
  {
   "cell_type": "code",
   "execution_count": 84,
   "metadata": {},
   "outputs": [],
   "source": [
    "def model():\n",
    "    race = pyro.sample(\"race\", dist.Categorical( race_prob )) \n",
    "    sex = pyro.sample(\"sex\", dist.Categorical( sex_prob )) \n",
    "    age_cat = pyro.sample(\"age_cat\", dist.Categorical( age_cat_prob )) \n",
    "    priors_count = pyro.sample(\"priors_count\", dist.Categorical(priors_count_probs[sex][age_cat]))\n",
    "    two_year_recid = pyro.sample(\"two_year_recid\", dist.Categorical(two_year_recid_probs[priors_count]))\n",
    "    return two_year_recid\n"
   ]
  },
  {
   "cell_type": "markdown",
   "metadata": {},
   "source": [
    "### Association"
   ]
  },
  {
   "cell_type": "code",
   "execution_count": 85,
   "metadata": {
    "jupyter": {
     "outputs_hidden": true
    }
   },
   "outputs": [
    {
     "name": "stdout",
     "output_type": "stream",
     "text": [
      "False positive rate (Black)      :  0.4398750650702759\n",
      "False negative rate (Black)      :  0.48845070422535214\n",
      "Accuracy (Black)      :   0.5367965367965368\n",
      "AUC (Black)      :   0.535837115352186\n",
      "\n",
      "False positive rate (White)      :  0.41353383458646614\n",
      "False negative rate (White)      :  0.5195729537366548\n",
      "Accuracy (White)      :   0.5378973105134475\n",
      "AUC (White)      :   0.5334466058384396\n",
      "\n",
      "False positive rate Gap: 0.026341230483809763\n",
      "False negative rate Gap: 0.031122249511302658\n"
     ]
    }
   ],
   "source": [
    "df = pd.read_csv(data_file_path)\n",
    "\n",
    "truth = []\n",
    "preds = []\n",
    "num_sample = 10\n",
    "for index, row in df.iterrows():\n",
    "    r = race_alias.index( row['race'] ) \n",
    "    s = sex_alias.index( row['sex'] ) \n",
    "    a = age_cat_alias.index( row['age_cat'] ) \n",
    "    c = priors_count_alias.index( row['priors_count'] ) \n",
    "    t = two_year_recid_alias.index( row['two_year_recid'] ) \n",
    "    conditioned_model = pyro.condition(model, data = {\"race\": torch.tensor( r ),\n",
    "                                                      \"sex\": torch.tensor( s ),\n",
    "                                                      \"age_cat\": torch.tensor( a ),\n",
    "                                                      \"priors_count\": torch.tensor( c )\n",
    "                                                     })\n",
    "    posterior = pyro.infer.Importance(conditioned_model, num_samples=num_sample).run()\n",
    "    trace = posterior()\n",
    "    pred = int(trace.nodes['two_year_recid']['value'])\n",
    "    truth += [ conditioned_model() ]\n",
    "    preds += [ pred ]\n",
    "    #if ((index%500)==0):print(index//500)\n",
    "truth = np.array(truth)\n",
    "preds = np.array(preds)\n",
    "\n",
    "# score for Black defendants\n",
    "y_test_ = truth[ df['race']=='African-American' ]\n",
    "y_pred_ = preds[ df['race']=='African-American' ]\n",
    "[[tn , fp],[fn , tp]]  = confusion_matrix(y_test_, y_pred_)\n",
    "print(\"False positive rate (Black)      : \", fp/(fp+tn))\n",
    "print(\"False negative rate (Black)      : \", fn/(fn+tp))\n",
    "print(\"Accuracy (Black)      :  \", accuracy_score(y_test_, y_pred_) )\n",
    "print(\"AUC (Black)      :  \", roc_auc_score(y_test_, y_pred_) )\n",
    "\n",
    "fpr_black = fp/(fp+tn)\n",
    "fnr_black =  fn/(fn+tp)\n",
    "\n",
    "# score for White defendants\n",
    "y_test_ = truth[ df['race']=='Caucasian' ]\n",
    "y_pred_ = preds[ df['race']=='Caucasian' ]\n",
    "[[tn , fp],[fn , tp]]  = confusion_matrix(y_test_, y_pred_)\n",
    "print(\"\\nFalse positive rate (White)      : \", fp/(fp+tn))\n",
    "print(\"False negative rate (White)      : \", fn/(fn+tp))\n",
    "print(\"Accuracy (White)      :  \", accuracy_score(y_test_, y_pred_) )\n",
    "print(\"AUC (White)      :  \", roc_auc_score(y_test_, y_pred_) )\n",
    "\n",
    "fpr_white = fp/(fp+tn)\n",
    "fnr_white =  fn/(fn+tp)\n",
    "\n",
    "print('\\nFalse positive rate Gap:', abs(fpr_black-fpr_white))\n",
    "print('False negative rate Gap:', abs(fnr_black-fnr_white))"
   ]
  },
  {
   "cell_type": "markdown",
   "metadata": {},
   "source": [
    "### Intervention"
   ]
  },
  {
   "cell_type": "code",
   "execution_count": 86,
   "metadata": {},
   "outputs": [],
   "source": [
    "# You are interested in the average causal effect P(two_year_recid = 1|do(race = 0)) − P(two_year_recid = 1|do(race = 1)),\n",
    "# where two_year_recid=1 represents recidivism, \n",
    "# race=0 represents \"African-American\" \n",
    "# race=0 represents \"Caucasian\" "
   ]
  },
  {
   "cell_type": "code",
   "execution_count": 87,
   "metadata": {},
   "outputs": [
    {
     "name": "stderr",
     "output_type": "stream",
     "text": [
      "100%|██████████| 100/100 [00:24<00:00,  4.08it/s]\n"
     ]
    }
   ],
   "source": [
    "ls = []\n",
    "for run in tqdm.tqdm(range(100)):\n",
    "    num_sample = 100\n",
    "    P_y1_do = {}\n",
    "    for x in [0,1]:\n",
    "        do_model = pyro.do(model, data={ 'race': torch.tensor( x )  })\n",
    "        posterior = pyro.infer.Importance(do_model, num_samples=num_sample).run()\n",
    "        marginal = pyro.infer.EmpiricalMarginal(posterior, \"two_year_recid\") \n",
    "        samples = np.array([marginal().item() for _ in range(num_sample)])\n",
    "        e_unique, e_counts = np.unique(samples, return_counts=True)\n",
    "        dic = dict( zip(e_unique, e_counts) )\n",
    "        P_y1_do[ x ] = dic[ 1 ] / num_sample\n",
    "    diff = P_y1_do[0] - P_y1_do[1]\n",
    "    ls += [ diff ]"
   ]
  },
  {
   "cell_type": "code",
   "execution_count": 88,
   "metadata": {},
   "outputs": [
    {
     "data": {
      "image/png": "[encoded data removed]",
      "text/plain": [
       "<Figure size 432x288 with 1 Axes>"
      ]
     },
     "metadata": {
      "needs_background": "light"
     },
     "output_type": "display_data"
    }
   ],
   "source": [
    "plt.hist(ls)\n",
    "plt.show()"
   ]
  },
  {
   "cell_type": "code",
   "execution_count": 89,
   "metadata": {},
   "outputs": [
    {
     "name": "stdout",
     "output_type": "stream",
     "text": [
      "0.00019999999999999795\n"
     ]
    }
   ],
   "source": [
    "total = 0\n",
    "for x in ls:\n",
    "    total = total + x\n",
    "print(total / len(ls))"
   ]
  },
  {
   "cell_type": "markdown",
   "metadata": {},
   "source": [
    "### Counterfactual fairness"
   ]
  },
  {
   "cell_type": "code",
   "execution_count": 90,
   "metadata": {},
   "outputs": [],
   "source": [
    "# P(two_year_recid race=0 = 1|race = 1,two_year_recid = 0)"
   ]
  },
  {
   "cell_type": "code",
   "execution_count": 91,
   "metadata": {},
   "outputs": [
    {
     "name": "stderr",
     "output_type": "stream",
     "text": [
      "100%|██████████| 100/100 [00:02<00:00, 36.13it/s]\n"
     ]
    }
   ],
   "source": [
    "num_sample = 100\n",
    "conditioned_model = pyro.condition(model, data = {\"race\": torch.tensor(1), \"two_year_recid\": torch.tensor(0)})\n",
    "posterior = pyro.infer.Importance(conditioned_model, num_samples=num_sample).run()\n",
    "ls = []\n",
    "for run in tqdm.tqdm(range(100)):\n",
    "    z = 0\n",
    "    for _ in range(num_sample):\n",
    "        trace = posterior()\n",
    "        s = trace.nodes['sex']['value']\n",
    "        a = trace.nodes['age_cat']['value']\n",
    "        c = trace.nodes['priors_count']['value']\n",
    "        do_model = pyro.do(model, data = {\"race\": torch.tensor(0)})\n",
    "        counterfactual_model = pyro.condition(do_model, data = {'sex': s,'age_cat': a, 'priors_count': c })\n",
    "        trace_counterfactual = pyro.poutine.trace(counterfactual_model)\n",
    "        trace = trace_counterfactual.get_trace()\n",
    "        z += trace.nodes['two_year_recid']['value']\n",
    "    ls += [ float(z)/num_sample ]"
   ]
  },
  {
   "cell_type": "code",
   "execution_count": 92,
   "metadata": {},
   "outputs": [
    {
     "data": {
      "image/png": "[encoded data removed]",
      "text/plain": [
       "<Figure size 432x288 with 1 Axes>"
      ]
     },
     "metadata": {
      "needs_background": "light"
     },
     "output_type": "display_data"
    }
   ],
   "source": [
    "plt.hist(ls)\n",
    "plt.show()"
   ]
  },
  {
   "cell_type": "code",
   "execution_count": 93,
   "metadata": {},
   "outputs": [
    {
     "name": "stdout",
     "output_type": "stream",
     "text": [
      "0.41900000000000004\n"
     ]
    }
   ],
   "source": [
    "total = 0\n",
    "for x in ls:\n",
    "    total = total + x\n",
    "print(total / len(ls))"
   ]
  },
  {
   "cell_type": "code",
   "execution_count": 94,
   "metadata": {},
   "outputs": [],
   "source": [
    "# P(two_year_recid race=1 = 1|race = 0,two_year_recid = 1)"
   ]
  },
  {
   "cell_type": "code",
   "execution_count": 95,
   "metadata": {},
   "outputs": [
    {
     "name": "stderr",
     "output_type": "stream",
     "text": [
      "100%|██████████| 100/100 [00:03<00:00, 33.33it/s]\n"
     ]
    }
   ],
   "source": [
    "num_sample = 100\n",
    "conditioned_model = pyro.condition(model, data = {\"race\": torch.tensor(0), \"two_year_recid\": torch.tensor(1)})\n",
    "posterior = pyro.infer.Importance(conditioned_model, num_samples=num_sample).run()\n",
    "ls = []\n",
    "for run in tqdm.tqdm(range(100)):\n",
    "    z = 0\n",
    "    for _ in range(num_sample):\n",
    "        trace = posterior()\n",
    "        s = trace.nodes['sex']['value']\n",
    "        a = trace.nodes['age_cat']['value']\n",
    "        c = trace.nodes['priors_count']['value']\n",
    "        do_model = pyro.do(model, data = {\"race\": torch.tensor(1)})\n",
    "        counterfactual_model = pyro.condition(do_model, data = {'sex': s,'age_cat': a, 'priors_count': c })\n",
    "        trace_counterfactual = pyro.poutine.trace(counterfactual_model)\n",
    "        trace = trace_counterfactual.get_trace()\n",
    "        z += trace.nodes['two_year_recid']['value']\n",
    "    ls += [ float(z)/num_sample ]"
   ]
  },
  {
   "cell_type": "code",
   "execution_count": 96,
   "metadata": {},
   "outputs": [
    {
     "data": {
      "image/png": "[encoded data removed]",
      "text/plain": [
       "<Figure size 432x288 with 1 Axes>"
      ]
     },
     "metadata": {
      "needs_background": "light"
     },
     "output_type": "display_data"
    }
   ],
   "source": [
    "plt.hist(ls)\n",
    "plt.show()"
   ]
  },
  {
   "cell_type": "code",
   "execution_count": 97,
   "metadata": {},
   "outputs": [
    {
     "name": "stdout",
     "output_type": "stream",
     "text": [
      "0.5017999999999998\n"
     ]
    }
   ],
   "source": [
    "total = 0\n",
    "for x in ls:\n",
    "    total = total + x\n",
    "print(total / len(ls))"
   ]
  },
  {
   "cell_type": "markdown",
   "metadata": {},
   "source": [
    "### Average Total Effects"
   ]
  },
  {
   "cell_type": "code",
   "execution_count": 98,
   "metadata": {
    "scrolled": false
   },
   "outputs": [
    {
     "data": {
      "text/plain": [
       "-0.01899999999999996"
      ]
     },
     "execution_count": 98,
     "metadata": {},
     "output_type": "execute_result"
    }
   ],
   "source": [
    "# E(Y|do(X=1))−E(Y|do(X=0)).\n",
    "e1_samples = [pyro.do(model, data={'race': torch.tensor(1)})() for _ in range(1000)]\n",
    "e2_samples = [pyro.do(model, data={'race': torch.tensor(0)})() for _ in range(1000)]\n",
    "e1_avg = sum(e1_samples).item() / len(e1_samples)\n",
    "e2_avg = sum(e2_samples).item() / len(e2_samples)\n",
    "e1_avg - e2_avg"
   ]
  },
  {
   "cell_type": "markdown",
   "metadata": {},
   "source": [
    "### Natural effects"
   ]
  },
  {
   "cell_type": "markdown",
   "metadata": {},
   "source": [
    "#### Natural Direct Effects"
   ]
  },
  {
   "cell_type": "code",
   "execution_count": 99,
   "metadata": {},
   "outputs": [],
   "source": [
    "# When Z = 1 E(Y|(M = 1), do(X = 1)) - E(Y|(M = 1), do(X = 0))\n",
    "cond_model = pyro.condition(model, data={'priors_count': torch.tensor(0)})\n",
    "e1_samples = [pyro.do(cond_model, data={'race': torch.tensor(1)})() for _ in range(1000)]\n",
    "e2_samples = [pyro.do(cond_model, data={'race': torch.tensor(0)})() for _ in range(1000)]"
   ]
  },
  {
   "cell_type": "code",
   "execution_count": 100,
   "metadata": {},
   "outputs": [],
   "source": [
    "e1_avg = sum(e1_samples).item() / len(e1_samples)\n",
    "e2_avg = sum(e2_samples).item() / len(e2_samples)"
   ]
  },
  {
   "cell_type": "code",
   "execution_count": 101,
   "metadata": {},
   "outputs": [
    {
     "data": {
      "text/plain": [
       "0.329"
      ]
     },
     "execution_count": 101,
     "metadata": {},
     "output_type": "execute_result"
    }
   ],
   "source": [
    "e1_avg"
   ]
  },
  {
   "cell_type": "code",
   "execution_count": 102,
   "metadata": {},
   "outputs": [
    {
     "data": {
      "text/plain": [
       "0.319"
      ]
     },
     "execution_count": 102,
     "metadata": {},
     "output_type": "execute_result"
    }
   ],
   "source": [
    "e2_avg"
   ]
  },
  {
   "cell_type": "code",
   "execution_count": 103,
   "metadata": {},
   "outputs": [
    {
     "data": {
      "text/plain": [
       "0.010000000000000009"
      ]
     },
     "execution_count": 103,
     "metadata": {},
     "output_type": "execute_result"
    }
   ],
   "source": [
    "e1_avg - e2_avg"
   ]
  },
  {
   "cell_type": "markdown",
   "metadata": {},
   "source": [
    "#### Natural Indirect Effects"
   ]
  },
  {
   "cell_type": "code",
   "execution_count": 104,
   "metadata": {},
   "outputs": [],
   "source": [
    "# NIE = E(Y | M=1, do(X=0)) – E(Y | M=0, do(X=0))\n",
    "cond_model_1 = pyro.condition(model, data={'priors_count': torch.tensor(1)})\n",
    "cond_model_2 = pyro.condition(model, data={'priors_count': torch.tensor(0)})\n",
    "e1_samples = [pyro.do(cond_model_1, data={'race': torch.tensor(0)})() for _ in range(1000)]\n",
    "e2_samples = [pyro.do(cond_model_2, data={'race': torch.tensor(0)})() for _ in range(1000)]"
   ]
  },
  {
   "cell_type": "code",
   "execution_count": 105,
   "metadata": {},
   "outputs": [],
   "source": [
    "e1_avg = sum(e1_samples).item() / len(e1_samples)\n",
    "e2_avg = sum(e2_samples).item() / len(e2_samples)"
   ]
  },
  {
   "cell_type": "code",
   "execution_count": 106,
   "metadata": {},
   "outputs": [
    {
     "data": {
      "text/plain": [
       "0.283"
      ]
     },
     "execution_count": 106,
     "metadata": {},
     "output_type": "execute_result"
    }
   ],
   "source": [
    "e1_avg - e2_avg"
   ]
  },
  {
   "cell_type": "markdown",
   "metadata": {},
   "source": [
    "### Necessity and Sufficienty"
   ]
  },
  {
   "cell_type": "markdown",
   "metadata": {},
   "source": [
    "#### Necessity"
   ]
  },
  {
   "cell_type": "markdown",
   "metadata": {},
   "source": [
    "$P_{necessity} = P(Y_{X=1} = 0 | X=0, Y=1)$"
   ]
  },
  {
   "cell_type": "code",
   "execution_count": 107,
   "metadata": {},
   "outputs": [],
   "source": [
    "cond_model = pyro.condition(model, data = {\"race\": torch.tensor(0), \"two_year_recid\": torch.tensor(1)})\n",
    "posterior = pyro.infer.Importance(cond_model, num_samples=num_sample).run()\n",
    "p_necessities = []\n",
    "for _ in range(1000):\n",
    "    trace = posterior()\n",
    "    s = trace.nodes['sex']['value']\n",
    "    a = trace.nodes['age_cat']['value']\n",
    "    c = trace.nodes['priors_count']['value']\n",
    "    do_model = pyro.do(model, data = {\"race\": torch.tensor(1)})\n",
    "    counterfactual_model = pyro.condition(do_model, data = {'sex': s,'age_cat': a, 'priors_count': c })\n",
    "    trace_counterfactual = pyro.poutine.trace(counterfactual_model)\n",
    "    trace = trace_counterfactual.get_trace()\n",
    "    p_necessities.append(float(trace.nodes['two_year_recid']['value']))"
   ]
  },
  {
   "cell_type": "code",
   "execution_count": 108,
   "metadata": {},
   "outputs": [
    {
     "name": "stdout",
     "output_type": "stream",
     "text": [
      "P necessity = 0.472\n"
     ]
    }
   ],
   "source": [
    "p_necessity = 1 - mean(p_necessities)\n",
    "print(\"P necessity =\", p_necessity)"
   ]
  },
  {
   "cell_type": "markdown",
   "metadata": {},
   "source": [
    "#### Sufficiency\n",
    "$P(Y_{X=0} = 1 | X=1, Y=0)$"
   ]
  },
  {
   "cell_type": "code",
   "execution_count": 109,
   "metadata": {},
   "outputs": [],
   "source": [
    "cond_model = pyro.condition(model, data = {\"race\": torch.tensor(1), \"two_year_recid\": torch.tensor(0)})\n",
    "posterior = pyro.infer.Importance(cond_model, num_samples=num_sample).run()\n",
    "p_sufficiencies = []\n",
    "for _ in range(1000):\n",
    "    trace = posterior()\n",
    "    s = trace.nodes['sex']['value']\n",
    "    a = trace.nodes['age_cat']['value']\n",
    "    c = trace.nodes['priors_count']['value']\n",
    "    do_model = pyro.do(model, data = {\"race\": torch.tensor(0)})\n",
    "    counterfactual_model = pyro.condition(do_model, data = {'sex': s,'age_cat': a, 'priors_count': c })\n",
    "    trace_counterfactual = pyro.poutine.trace(counterfactual_model)\n",
    "    trace = trace_counterfactual.get_trace()\n",
    "    p_sufficiencies.append(float(trace.nodes['two_year_recid']['value']))"
   ]
  },
  {
   "cell_type": "code",
   "execution_count": 110,
   "metadata": {
    "scrolled": true
   },
   "outputs": [
    {
     "name": "stdout",
     "output_type": "stream",
     "text": [
      "P necessity = 0.419\n"
     ]
    }
   ],
   "source": [
    "p_sufficiency = mean(p_sufficiencies)\n",
    "print(\"P necessity =\", p_sufficiency)"
   ]
  },
  {
   "cell_type": "markdown",
   "metadata": {},
   "source": [
    "#### Necessity and Sufficiency\n",
    "$PNS = P(X=0, Y=1) * PN + P(X=1, Y=0) * PS$"
   ]
  },
  {
   "cell_type": "code",
   "execution_count": 111,
   "metadata": {},
   "outputs": [
    {
     "name": "stdout",
     "output_type": "stream",
     "text": [
      "PNS = 0.22251499999999996\n"
     ]
    }
   ],
   "source": [
    "num_trials = 1000\n",
    "num_x0_y1 = 0\n",
    "num_x1_y0 = 0\n",
    "trace_handler = pyro.poutine.trace(model)\n",
    "for _ in range(num_trials):\n",
    "    trace = trace_handler.get_trace()\n",
    "    x = trace.nodes['race']['value']\n",
    "    y = trace.nodes['two_year_recid']['value']\n",
    "    if x == 0 and y == 1:\n",
    "        num_x0_y1 += 1\n",
    "    if x == 1 and y == 0:\n",
    "        num_x1_y0 += 1\n",
    "pns = (num_x0_y1 / num_trials) * p_necessity + (num_x1_y0 / num_trials) * p_sufficiency\n",
    "print('PNS =', pns)"
   ]
  }
 ],
 "metadata": {
  "kernelspec": {
   "display_name": "Python 3",
   "language": "python",
   "name": "python3"
  },
  "language_info": {
   "codemirror_mode": {
    "name": "ipython",
    "version": 3
   },
   "file_extension": ".py",
   "mimetype": "text/x-python",
   "name": "python",
   "nbconvert_exporter": "python",
   "pygments_lexer": "ipython3",
   "version": "3.7.3"
  }
 },
 "nbformat": 4,
 "nbformat_minor": 4
}
