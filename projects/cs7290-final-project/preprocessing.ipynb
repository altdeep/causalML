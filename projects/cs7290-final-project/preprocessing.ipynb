{
 "cells": [
  {
   "cell_type": "markdown",
   "metadata": {},
   "source": [
    "# Pre-Processing"
   ]
  },
  {
   "cell_type": "code",
   "execution_count": 1,
   "metadata": {},
   "outputs": [],
   "source": [
    "import pandas as pd"
   ]
  },
  {
   "cell_type": "code",
   "execution_count": 8,
   "metadata": {},
   "outputs": [
    {
     "name": "stdout",
     "output_type": "stream",
     "text": [
      "race              object\n",
      "sex               object\n",
      "age_cat           object\n",
      "priors_count      object\n",
      "two_year_recid    object\n",
      "dtype: object\n"
     ]
    }
   ],
   "source": [
    "# New Model\n",
    "df = pd.read_csv('data/compas-scores-two-years.csv')\n",
    "df = df[ df['race'].isin(['African-American', 'Caucasian']) ]\n",
    "\n",
    "df = df[ [\"race\",\"sex\",\"age_cat\",\"two_year_recid\",\"priors_count\"]]\n",
    "def prior_categorical(priors_count):\n",
    "    if priors_count > 1: # 25th percentile\n",
    "        return 'H'\n",
    "    else: # greater than 25th percentile\n",
    "        return 'L'\n",
    "df['priors_count'] = df['priors_count'].apply(lambda x: prior_categorical(x))\n",
    "df['two_year_recid'] = df['two_year_recid'].apply(lambda x: str(x))\n",
    "\n",
    "df = df[ [\"race\",\"sex\",\"age_cat\",\"priors_count\",\"two_year_recid\"] ]\n",
    "\n",
    "df.to_csv('data/compas-scores-two-years-short.csv',index=None)"
   ]
  }
 ],
 "metadata": {
  "kernelspec": {
   "display_name": "Python 3",
   "language": "python",
   "name": "python3"
  },
  "language_info": {
   "codemirror_mode": {
    "name": "ipython",
    "version": 3
   },
   "file_extension": ".py",
   "mimetype": "text/x-python",
   "name": "python",
   "nbconvert_exporter": "python",
   "pygments_lexer": "ipython3",
   "version": "3.7.3"
  }
 },
 "nbformat": 4,
 "nbformat_minor": 4
}
