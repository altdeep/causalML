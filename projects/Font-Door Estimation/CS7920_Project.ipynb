{
  "nbformat": 4,
  "nbformat_minor": 0,
  "metadata": {
    "colab": {
      "name": "CS7920 Project",
      "provenance": [],
      "collapsed_sections": [
        "sSknoMUvuag2",
        "bP8OiKX3yB09",
        "Hx28TAPA6UGX",
        "wuLJqhFQzbSq"
      ]
    },
    "kernelspec": {
      "name": "python3",
      "display_name": "Python 3"
    },
    "language_info": {
      "name": "python"
    },
    "widgets": {
      "application/vnd.jupyter.widget-state+json": {
        "765ac724fdd444ffbf68f447d68c2dcd": {
          "model_module": "@jupyter-widgets/controls",
          "model_name": "HBoxModel",
          "model_module_version": "2.0.0",
          "state": {
            "_dom_classes": [],
            "_model_module": "@jupyter-widgets/controls",
            "_model_module_version": "2.0.0",
            "_model_name": "HBoxModel",
            "_view_count": null,
            "_view_module": "@jupyter-widgets/controls",
            "_view_module_version": "2.0.0",
            "_view_name": "HBoxView",
            "box_style": "",
            "children": [
              "IPY_MODEL_f088ffe9cde2417aa3c4c41cc2792b59",
              "IPY_MODEL_25e0a561fd3e4abda06f95509505b5fe",
              "IPY_MODEL_4eab9cecf3154079b544a07200914286"
            ],
            "layout": "IPY_MODEL_b3633fb316574b16b2a8149ebc2ea6c8",
            "tabbable": null,
            "tooltip": null
          }
        },
        "f088ffe9cde2417aa3c4c41cc2792b59": {
          "model_module": "@jupyter-widgets/controls",
          "model_name": "HTMLModel",
          "model_module_version": "2.0.0",
          "state": {
            "_dom_classes": [],
            "_model_module": "@jupyter-widgets/controls",
            "_model_module_version": "2.0.0",
            "_model_name": "HTMLModel",
            "_view_count": null,
            "_view_module": "@jupyter-widgets/controls",
            "_view_module_version": "2.0.0",
            "_view_name": "HTMLView",
            "description": "",
            "description_allow_html": false,
            "layout": "IPY_MODEL_6232640c0fd34155bd23543cb52edd10",
            "placeholder": "​",
            "style": "IPY_MODEL_5b2f4c47dcf440e6ac564f3b94546122",
            "tabbable": null,
            "tooltip": null,
            "value": " 24%"
          }
        },
        "25e0a561fd3e4abda06f95509505b5fe": {
          "model_module": "@jupyter-widgets/controls",
          "model_name": "FloatProgressModel",
          "model_module_version": "2.0.0",
          "state": {
            "_dom_classes": [],
            "_model_module": "@jupyter-widgets/controls",
            "_model_module_version": "2.0.0",
            "_model_name": "FloatProgressModel",
            "_view_count": null,
            "_view_module": "@jupyter-widgets/controls",
            "_view_module_version": "2.0.0",
            "_view_name": "ProgressView",
            "bar_style": "danger",
            "description": "",
            "description_allow_html": false,
            "layout": "IPY_MODEL_84dc46beb3e044149f800f63d3a610ca",
            "max": 100,
            "min": 0,
            "orientation": "horizontal",
            "style": "IPY_MODEL_349011dea89240a9bca97f81ea6619e7",
            "tabbable": null,
            "tooltip": null,
            "value": 24
          }
        },
        "4eab9cecf3154079b544a07200914286": {
          "model_module": "@jupyter-widgets/controls",
          "model_name": "HTMLModel",
          "model_module_version": "2.0.0",
          "state": {
            "_dom_classes": [],
            "_model_module": "@jupyter-widgets/controls",
            "_model_module_version": "2.0.0",
            "_model_name": "HTMLModel",
            "_view_count": null,
            "_view_module": "@jupyter-widgets/controls",
            "_view_module_version": "2.0.0",
            "_view_name": "HTMLView",
            "description": "",
            "description_allow_html": false,
            "layout": "IPY_MODEL_3bbd679b0fa345d2a2debe740480ed27",
            "placeholder": "​",
            "style": "IPY_MODEL_faae0752413642bfbb938dc6e5122cc5",
            "tabbable": null,
            "tooltip": null,
            "value": " 24/100 [00:07&lt;00:14,  5.22it/s]"
          }
        },
        "b3633fb316574b16b2a8149ebc2ea6c8": {
          "model_module": "@jupyter-widgets/base",
          "model_name": "LayoutModel",
          "model_module_version": "2.0.0",
          "state": {
            "_model_module": "@jupyter-widgets/base",
            "_model_module_version": "2.0.0",
            "_model_name": "LayoutModel",
            "_view_count": null,
            "_view_module": "@jupyter-widgets/base",
            "_view_module_version": "2.0.0",
            "_view_name": "LayoutView",
            "align_content": null,
            "align_items": null,
            "align_self": null,
            "border_bottom": null,
            "border_left": null,
            "border_right": null,
            "border_top": null,
            "bottom": null,
            "display": null,
            "flex": null,
            "flex_flow": null,
            "grid_area": null,
            "grid_auto_columns": null,
            "grid_auto_flow": null,
            "grid_auto_rows": null,
            "grid_column": null,
            "grid_gap": null,
            "grid_row": null,
            "grid_template_areas": null,
            "grid_template_columns": null,
            "grid_template_rows": null,
            "height": null,
            "justify_content": null,
            "justify_items": null,
            "left": null,
            "margin": null,
            "max_height": null,
            "max_width": null,
            "min_height": null,
            "min_width": null,
            "object_fit": null,
            "object_position": null,
            "order": null,
            "overflow": null,
            "padding": null,
            "right": null,
            "top": null,
            "visibility": null,
            "width": null
          }
        },
        "6232640c0fd34155bd23543cb52edd10": {
          "model_module": "@jupyter-widgets/base",
          "model_name": "LayoutModel",
          "model_module_version": "2.0.0",
          "state": {
            "_model_module": "@jupyter-widgets/base",
            "_model_module_version": "2.0.0",
            "_model_name": "LayoutModel",
            "_view_count": null,
            "_view_module": "@jupyter-widgets/base",
            "_view_module_version": "2.0.0",
            "_view_name": "LayoutView",
            "align_content": null,
            "align_items": null,
            "align_self": null,
            "border_bottom": null,
            "border_left": null,
            "border_right": null,
            "border_top": null,
            "bottom": null,
            "display": null,
            "flex": null,
            "flex_flow": null,
            "grid_area": null,
            "grid_auto_columns": null,
            "grid_auto_flow": null,
            "grid_auto_rows": null,
            "grid_column": null,
            "grid_gap": null,
            "grid_row": null,
            "grid_template_areas": null,
            "grid_template_columns": null,
            "grid_template_rows": null,
            "height": null,
            "justify_content": null,
            "justify_items": null,
            "left": null,
            "margin": null,
            "max_height": null,
            "max_width": null,
            "min_height": null,
            "min_width": null,
            "object_fit": null,
            "object_position": null,
            "order": null,
            "overflow": null,
            "padding": null,
            "right": null,
            "top": null,
            "visibility": null,
            "width": null
          }
        },
        "5b2f4c47dcf440e6ac564f3b94546122": {
          "model_module": "@jupyter-widgets/controls",
          "model_name": "HTMLStyleModel",
          "model_module_version": "2.0.0",
          "state": {
            "_model_module": "@jupyter-widgets/controls",
            "_model_module_version": "2.0.0",
            "_model_name": "HTMLStyleModel",
            "_view_count": null,
            "_view_module": "@jupyter-widgets/base",
            "_view_module_version": "2.0.0",
            "_view_name": "StyleView",
            "background": null,
            "description_width": "",
            "font_size": null,
            "text_color": null
          }
        },
        "84dc46beb3e044149f800f63d3a610ca": {
          "model_module": "@jupyter-widgets/base",
          "model_name": "LayoutModel",
          "model_module_version": "2.0.0",
          "state": {
            "_model_module": "@jupyter-widgets/base",
            "_model_module_version": "2.0.0",
            "_model_name": "LayoutModel",
            "_view_count": null,
            "_view_module": "@jupyter-widgets/base",
            "_view_module_version": "2.0.0",
            "_view_name": "LayoutView",
            "align_content": null,
            "align_items": null,
            "align_self": null,
            "border_bottom": null,
            "border_left": null,
            "border_right": null,
            "border_top": null,
            "bottom": null,
            "display": null,
            "flex": null,
            "flex_flow": null,
            "grid_area": null,
            "grid_auto_columns": null,
            "grid_auto_flow": null,
            "grid_auto_rows": null,
            "grid_column": null,
            "grid_gap": null,
            "grid_row": null,
            "grid_template_areas": null,
            "grid_template_columns": null,
            "grid_template_rows": null,
            "height": null,
            "justify_content": null,
            "justify_items": null,
            "left": null,
            "margin": null,
            "max_height": null,
            "max_width": null,
            "min_height": null,
            "min_width": null,
            "object_fit": null,
            "object_position": null,
            "order": null,
            "overflow": null,
            "padding": null,
            "right": null,
            "top": null,
            "visibility": null,
            "width": null
          }
        },
        "349011dea89240a9bca97f81ea6619e7": {
          "model_module": "@jupyter-widgets/controls",
          "model_name": "ProgressStyleModel",
          "model_module_version": "2.0.0",
          "state": {
            "_model_module": "@jupyter-widgets/controls",
            "_model_module_version": "2.0.0",
            "_model_name": "ProgressStyleModel",
            "_view_count": null,
            "_view_module": "@jupyter-widgets/base",
            "_view_module_version": "2.0.0",
            "_view_name": "StyleView",
            "bar_color": null,
            "description_width": ""
          }
        },
        "3bbd679b0fa345d2a2debe740480ed27": {
          "model_module": "@jupyter-widgets/base",
          "model_name": "LayoutModel",
          "model_module_version": "2.0.0",
          "state": {
            "_model_module": "@jupyter-widgets/base",
            "_model_module_version": "2.0.0",
            "_model_name": "LayoutModel",
            "_view_count": null,
            "_view_module": "@jupyter-widgets/base",
            "_view_module_version": "2.0.0",
            "_view_name": "LayoutView",
            "align_content": null,
            "align_items": null,
            "align_self": null,
            "border_bottom": null,
            "border_left": null,
            "border_right": null,
            "border_top": null,
            "bottom": null,
            "display": null,
            "flex": null,
            "flex_flow": null,
            "grid_area": null,
            "grid_auto_columns": null,
            "grid_auto_flow": null,
            "grid_auto_rows": null,
            "grid_column": null,
            "grid_gap": null,
            "grid_row": null,
            "grid_template_areas": null,
            "grid_template_columns": null,
            "grid_template_rows": null,
            "height": null,
            "justify_content": null,
            "justify_items": null,
            "left": null,
            "margin": null,
            "max_height": null,
            "max_width": null,
            "min_height": null,
            "min_width": null,
            "object_fit": null,
            "object_position": null,
            "order": null,
            "overflow": null,
            "padding": null,
            "right": null,
            "top": null,
            "visibility": null,
            "width": null
          }
        },
        "faae0752413642bfbb938dc6e5122cc5": {
          "model_module": "@jupyter-widgets/controls",
          "model_name": "HTMLStyleModel",
          "model_module_version": "2.0.0",
          "state": {
            "_model_module": "@jupyter-widgets/controls",
            "_model_module_version": "2.0.0",
            "_model_name": "HTMLStyleModel",
            "_view_count": null,
            "_view_module": "@jupyter-widgets/base",
            "_view_module_version": "2.0.0",
            "_view_name": "StyleView",
            "background": null,
            "description_width": "",
            "font_size": null,
            "text_color": null
          }
        }
      }
    }
  },
  "cells": [
    {
      "cell_type": "code",
      "source": [
        "!pip install pgmpy\n",
        "!pip install dowhy\n",
        "!apt-get install python3-dev graphviz libgraphviz-dev pkg-config\n",
        "!pip install pygraphviz"
      ],
      "metadata": {
        "colab": {
          "base_uri": "https://localhost:8080/"
        },
        "id": "YqmXZ-UzueKN",
        "outputId": "e97b3cdb-0bc7-4918-da02-68f1afd4e04f"
      },
      "execution_count": 1,
      "outputs": [
        {
          "output_type": "stream",
          "name": "stdout",
          "text": [
            "Looking in indexes: https://pypi.org/simple, https://us-python.pkg.dev/colab-wheels/public/simple/\n",
            "Requirement already satisfied: pgmpy in /usr/local/lib/python3.7/dist-packages (0.1.19)\n",
            "Requirement already satisfied: networkx in /usr/local/lib/python3.7/dist-packages (from pgmpy) (2.6.3)\n",
            "Requirement already satisfied: scipy in /usr/local/lib/python3.7/dist-packages (from pgmpy) (1.7.3)\n",
            "Requirement already satisfied: numpy in /usr/local/lib/python3.7/dist-packages (from pgmpy) (1.21.6)\n",
            "Requirement already satisfied: pandas in /usr/local/lib/python3.7/dist-packages (from pgmpy) (1.3.5)\n",
            "Requirement already satisfied: scikit-learn in /usr/local/lib/python3.7/dist-packages (from pgmpy) (1.0.2)\n",
            "Requirement already satisfied: torch in /usr/local/lib/python3.7/dist-packages (from pgmpy) (1.12.1+cu113)\n",
            "Requirement already satisfied: statsmodels in /usr/local/lib/python3.7/dist-packages (from pgmpy) (0.12.2)\n",
            "Requirement already satisfied: joblib in /usr/local/lib/python3.7/dist-packages (from pgmpy) (1.1.0)\n",
            "Requirement already satisfied: pyparsing in /usr/local/lib/python3.7/dist-packages (from pgmpy) (3.0.9)\n",
            "Requirement already satisfied: tqdm in /usr/local/lib/python3.7/dist-packages (from pgmpy) (4.64.0)\n",
            "Requirement already satisfied: python-dateutil>=2.7.3 in /usr/local/lib/python3.7/dist-packages (from pandas->pgmpy) (2.8.2)\n",
            "Requirement already satisfied: pytz>=2017.3 in /usr/local/lib/python3.7/dist-packages (from pandas->pgmpy) (2022.2.1)\n",
            "Requirement already satisfied: six>=1.5 in /usr/local/lib/python3.7/dist-packages (from python-dateutil>=2.7.3->pandas->pgmpy) (1.15.0)\n",
            "Requirement already satisfied: threadpoolctl>=2.0.0 in /usr/local/lib/python3.7/dist-packages (from scikit-learn->pgmpy) (3.1.0)\n",
            "Requirement already satisfied: patsy>=0.5 in /usr/local/lib/python3.7/dist-packages (from statsmodels->pgmpy) (0.5.2)\n",
            "Requirement already satisfied: typing-extensions in /usr/local/lib/python3.7/dist-packages (from torch->pgmpy) (4.1.1)\n",
            "Looking in indexes: https://pypi.org/simple, https://us-python.pkg.dev/colab-wheels/public/simple/\n",
            "Requirement already satisfied: dowhy in /usr/local/lib/python3.7/dist-packages (0.8)\n",
            "Requirement already satisfied: numpy>=1.15 in /usr/local/lib/python3.7/dist-packages (from dowhy) (1.21.6)\n",
            "Requirement already satisfied: pandas>=0.24 in /usr/local/lib/python3.7/dist-packages (from dowhy) (1.3.5)\n",
            "Requirement already satisfied: pydot>=1.4 in /usr/local/lib/python3.7/dist-packages (from dowhy) (1.4.2)\n",
            "Requirement already satisfied: scikit-learn in /usr/local/lib/python3.7/dist-packages (from dowhy) (1.0.2)\n",
            "Requirement already satisfied: statsmodels in /usr/local/lib/python3.7/dist-packages (from dowhy) (0.12.2)\n",
            "Requirement already satisfied: scipy in /usr/local/lib/python3.7/dist-packages (from dowhy) (1.7.3)\n",
            "Requirement already satisfied: sympy>=1.4 in /usr/local/lib/python3.7/dist-packages (from dowhy) (1.7.1)\n",
            "Requirement already satisfied: networkx>=2.0 in /usr/local/lib/python3.7/dist-packages (from dowhy) (2.6.3)\n",
            "Requirement already satisfied: pytz>=2017.3 in /usr/local/lib/python3.7/dist-packages (from pandas>=0.24->dowhy) (2022.2.1)\n",
            "Requirement already satisfied: python-dateutil>=2.7.3 in /usr/local/lib/python3.7/dist-packages (from pandas>=0.24->dowhy) (2.8.2)\n",
            "Requirement already satisfied: pyparsing>=2.1.4 in /usr/local/lib/python3.7/dist-packages (from pydot>=1.4->dowhy) (3.0.9)\n",
            "Requirement already satisfied: six>=1.5 in /usr/local/lib/python3.7/dist-packages (from python-dateutil>=2.7.3->pandas>=0.24->dowhy) (1.15.0)\n",
            "Requirement already satisfied: mpmath>=0.19 in /usr/local/lib/python3.7/dist-packages (from sympy>=1.4->dowhy) (1.2.1)\n",
            "Requirement already satisfied: joblib>=0.11 in /usr/local/lib/python3.7/dist-packages (from scikit-learn->dowhy) (1.1.0)\n",
            "Requirement already satisfied: threadpoolctl>=2.0.0 in /usr/local/lib/python3.7/dist-packages (from scikit-learn->dowhy) (3.1.0)\n",
            "Requirement already satisfied: patsy>=0.5 in /usr/local/lib/python3.7/dist-packages (from statsmodels->dowhy) (0.5.2)\n",
            "Reading package lists... Done\n",
            "Building dependency tree       \n",
            "Reading state information... Done\n",
            "pkg-config is already the newest version (0.29.1-0ubuntu2).\n",
            "graphviz is already the newest version (2.40.1-2).\n",
            "libgraphviz-dev is already the newest version (2.40.1-2).\n",
            "python3-dev is already the newest version (3.6.7-1~18.04).\n",
            "The following package was automatically installed and is no longer required:\n",
            "  libnvidia-common-460\n",
            "Use 'apt autoremove' to remove it.\n",
            "0 upgraded, 0 newly installed, 0 to remove and 20 not upgraded.\n",
            "Looking in indexes: https://pypi.org/simple, https://us-python.pkg.dev/colab-wheels/public/simple/\n",
            "Requirement already satisfied: pygraphviz in /usr/local/lib/python3.7/dist-packages (1.7)\n"
          ]
        }
      ]
    },
    {
      "cell_type": "code",
      "source": [
        "!if [ ! -e social_media_advertisements.csv ] ; then wget social_media_advertisements.csv https://raw.githubusercontent.com/altdeep/causalML/1ecf8b12a170a3b3e44553070a7f44c076fffb93/datasets/social_media_advertisements.csv; fi"
      ],
      "metadata": {
        "id": "bvwIr03syMf-"
      },
      "execution_count": 2,
      "outputs": []
    },
    {
      "cell_type": "code",
      "execution_count": 3,
      "metadata": {
        "id": "wDSkSJLPuMKJ"
      },
      "outputs": [],
      "source": [
        "import pandas as pd\n",
        "import numpy as np\n",
        "\n",
        "from pgmpy.base.DAG import DAG\n",
        "from pgmpy.inference.CausalInference import CausalInference\n",
        "from pgmpy.estimators import ExpectationMaximization\n",
        "from pgmpy.models import BayesianNetwork\n",
        "from pgmpy.sampling import BayesianModelSampling\n",
        "from pgmpy.factors.discrete.CPD import TabularCPD\n",
        "from pgmpy.inference import VariableElimination as Inference\n",
        "\n",
        "import warnings\n",
        "warnings.filterwarnings('ignore')\n",
        "\n",
        "from dowhy import CausalModel\n",
        "from dowhy import datasets\n",
        "from dowhy.causal_estimators.linear_regression_estimator import LinearRegressionEstimator\n",
        "import dowhy\n",
        "\n",
        "import graphviz\n",
        "import pygraphviz\n",
        "\n",
        "import time"
      ]
    },
    {
      "cell_type": "markdown",
      "source": [
        "# Task 0:\n",
        "Creating the model and loading the dataset. "
      ],
      "metadata": {
        "id": "sSknoMUvuag2"
      }
    },
    {
      "cell_type": "code",
      "source": [
        "model = BayesianNetwork([\n",
        "      ('U','X'),\n",
        "      ('X','Z'),\n",
        "      ('Z','Y'),\n",
        "      ('U','Y'),\n",
        "    ], latents={'U'})"
      ],
      "metadata": {
        "id": "JSwFro9Pw7co"
      },
      "execution_count": 4,
      "outputs": []
    },
    {
      "cell_type": "code",
      "source": [
        "data = pd.read_csv('social_media_advertisements.csv')\n",
        "\n",
        "# Helpe function for turning string values to a binary indicator (0 or 1)\n",
        "def alias(entry):\n",
        "    return {'no_ad': 0, 'ad': 1, 'no_purchase': 0, 'no_social': 0, 'social': 1, 'purchase': 1}[entry]"
      ],
      "metadata": {
        "id": "IlCYP1xfy4VA"
      },
      "execution_count": 5,
      "outputs": []
    },
    {
      "cell_type": "code",
      "source": [
        "data.head()"
      ],
      "metadata": {
        "colab": {
          "base_uri": "https://localhost:8080/",
          "height": 206
        },
        "id": "YoZ2vFWczIf8",
        "outputId": "7cfdfed3-8acc-4c0b-e82e-829d21e947f2"
      },
      "execution_count": 6,
      "outputs": [
        {
          "output_type": "execute_result",
          "data": {
            "text/plain": [
              "       Z          X            Y\n",
              "0  no_ad  no_social     purchase\n",
              "1  no_ad  no_social     purchase\n",
              "2     ad     social  no_purchase\n",
              "3     ad     social  no_purchase\n",
              "4  no_ad  no_social     purchase"
            ],
            "text/html": [
              "\n",
              "  <div id=\"df-e952c59d-7dc3-4faf-b38e-889c1186fec1\">\n",
              "    <div class=\"colab-df-container\">\n",
              "      <div>\n",
              "<style scoped>\n",
              "    .dataframe tbody tr th:only-of-type {\n",
              "        vertical-align: middle;\n",
              "    }\n",
              "\n",
              "    .dataframe tbody tr th {\n",
              "        vertical-align: top;\n",
              "    }\n",
              "\n",
              "    .dataframe thead th {\n",
              "        text-align: right;\n",
              "    }\n",
              "</style>\n",
              "<table border=\"1\" class=\"dataframe\">\n",
              "  <thead>\n",
              "    <tr style=\"text-align: right;\">\n",
              "      <th></th>\n",
              "      <th>Z</th>\n",
              "      <th>X</th>\n",
              "      <th>Y</th>\n",
              "    </tr>\n",
              "  </thead>\n",
              "  <tbody>\n",
              "    <tr>\n",
              "      <th>0</th>\n",
              "      <td>no_ad</td>\n",
              "      <td>no_social</td>\n",
              "      <td>purchase</td>\n",
              "    </tr>\n",
              "    <tr>\n",
              "      <th>1</th>\n",
              "      <td>no_ad</td>\n",
              "      <td>no_social</td>\n",
              "      <td>purchase</td>\n",
              "    </tr>\n",
              "    <tr>\n",
              "      <th>2</th>\n",
              "      <td>ad</td>\n",
              "      <td>social</td>\n",
              "      <td>no_purchase</td>\n",
              "    </tr>\n",
              "    <tr>\n",
              "      <th>3</th>\n",
              "      <td>ad</td>\n",
              "      <td>social</td>\n",
              "      <td>no_purchase</td>\n",
              "    </tr>\n",
              "    <tr>\n",
              "      <th>4</th>\n",
              "      <td>no_ad</td>\n",
              "      <td>no_social</td>\n",
              "      <td>purchase</td>\n",
              "    </tr>\n",
              "  </tbody>\n",
              "</table>\n",
              "</div>\n",
              "      <button class=\"colab-df-convert\" onclick=\"convertToInteractive('df-e952c59d-7dc3-4faf-b38e-889c1186fec1')\"\n",
              "              title=\"Convert this dataframe to an interactive table.\"\n",
              "              style=\"display:none;\">\n",
              "        \n",
              "  <svg xmlns=\"http://www.w3.org/2000/svg\" height=\"24px\"viewBox=\"0 0 24 24\"\n",
              "       width=\"24px\">\n",
              "    <path d=\"M0 0h24v24H0V0z\" fill=\"none\"/>\n",
              "    <path d=\"M18.56 5.44l.94 2.06.94-2.06 2.06-.94-2.06-.94-.94-2.06-.94 2.06-2.06.94zm-11 1L8.5 8.5l.94-2.06 2.06-.94-2.06-.94L8.5 2.5l-.94 2.06-2.06.94zm10 10l.94 2.06.94-2.06 2.06-.94-2.06-.94-.94-2.06-.94 2.06-2.06.94z\"/><path d=\"M17.41 7.96l-1.37-1.37c-.4-.4-.92-.59-1.43-.59-.52 0-1.04.2-1.43.59L10.3 9.45l-7.72 7.72c-.78.78-.78 2.05 0 2.83L4 21.41c.39.39.9.59 1.41.59.51 0 1.02-.2 1.41-.59l7.78-7.78 2.81-2.81c.8-.78.8-2.07 0-2.86zM5.41 20L4 18.59l7.72-7.72 1.47 1.35L5.41 20z\"/>\n",
              "  </svg>\n",
              "      </button>\n",
              "      \n",
              "  <style>\n",
              "    .colab-df-container {\n",
              "      display:flex;\n",
              "      flex-wrap:wrap;\n",
              "      gap: 12px;\n",
              "    }\n",
              "\n",
              "    .colab-df-convert {\n",
              "      background-color: #E8F0FE;\n",
              "      border: none;\n",
              "      border-radius: 50%;\n",
              "      cursor: pointer;\n",
              "      display: none;\n",
              "      fill: #1967D2;\n",
              "      height: 32px;\n",
              "      padding: 0 0 0 0;\n",
              "      width: 32px;\n",
              "    }\n",
              "\n",
              "    .colab-df-convert:hover {\n",
              "      background-color: #E2EBFA;\n",
              "      box-shadow: 0px 1px 2px rgba(60, 64, 67, 0.3), 0px 1px 3px 1px rgba(60, 64, 67, 0.15);\n",
              "      fill: #174EA6;\n",
              "    }\n",
              "\n",
              "    [theme=dark] .colab-df-convert {\n",
              "      background-color: #3B4455;\n",
              "      fill: #D2E3FC;\n",
              "    }\n",
              "\n",
              "    [theme=dark] .colab-df-convert:hover {\n",
              "      background-color: #434B5C;\n",
              "      box-shadow: 0px 1px 3px 1px rgba(0, 0, 0, 0.15);\n",
              "      filter: drop-shadow(0px 1px 2px rgba(0, 0, 0, 0.3));\n",
              "      fill: #FFFFFF;\n",
              "    }\n",
              "  </style>\n",
              "\n",
              "      <script>\n",
              "        const buttonEl =\n",
              "          document.querySelector('#df-e952c59d-7dc3-4faf-b38e-889c1186fec1 button.colab-df-convert');\n",
              "        buttonEl.style.display =\n",
              "          google.colab.kernel.accessAllowed ? 'block' : 'none';\n",
              "\n",
              "        async function convertToInteractive(key) {\n",
              "          const element = document.querySelector('#df-e952c59d-7dc3-4faf-b38e-889c1186fec1');\n",
              "          const dataTable =\n",
              "            await google.colab.kernel.invokeFunction('convertToInteractive',\n",
              "                                                     [key], {});\n",
              "          if (!dataTable) return;\n",
              "\n",
              "          const docLinkHtml = 'Like what you see? Visit the ' +\n",
              "            '<a target=\"_blank\" href=https://colab.research.google.com/notebooks/data_table.ipynb>data table notebook</a>'\n",
              "            + ' to learn more about interactive tables.';\n",
              "          element.innerHTML = '';\n",
              "          dataTable['output_type'] = 'display_data';\n",
              "          await google.colab.output.renderOutput(dataTable, element);\n",
              "          const docLink = document.createElement('div');\n",
              "          docLink.innerHTML = docLinkHtml;\n",
              "          element.appendChild(docLink);\n",
              "        }\n",
              "      </script>\n",
              "    </div>\n",
              "  </div>\n",
              "  "
            ]
          },
          "metadata": {},
          "execution_count": 6
        }
      ]
    },
    {
      "cell_type": "markdown",
      "source": [
        "# Task 1:\n",
        "Train the parameters of the new model using the data. Use EM to learn the causal Markov kernel for U."
      ],
      "metadata": {
        "id": "1QOXGoz7ufd9"
      }
    },
    {
      "cell_type": "code",
      "source": [
        "start_time = time.time()\n",
        "model.fit(data, estimator=ExpectationMaximization)\n",
        "end_time = time.time()\n",
        "model_fit_time = end_time - start_time\n",
        "print('Time (s) to fit model: ', model_fit_time)\n",
        "for cpd in model.get_cpds():\n",
        "  print(cpd)"
      ],
      "metadata": {
        "colab": {
          "base_uri": "https://localhost:8080/",
          "height": 520,
          "referenced_widgets": [
            "765ac724fdd444ffbf68f447d68c2dcd",
            "f088ffe9cde2417aa3c4c41cc2792b59",
            "25e0a561fd3e4abda06f95509505b5fe",
            "4eab9cecf3154079b544a07200914286",
            "b3633fb316574b16b2a8149ebc2ea6c8",
            "6232640c0fd34155bd23543cb52edd10",
            "5b2f4c47dcf440e6ac564f3b94546122",
            "84dc46beb3e044149f800f63d3a610ca",
            "349011dea89240a9bca97f81ea6619e7",
            "3bbd679b0fa345d2a2debe740480ed27",
            "faae0752413642bfbb938dc6e5122cc5"
          ]
        },
        "id": "CdjHPwDm4RTE",
        "outputId": "103fe297-e9aa-42aa-b900-9061ca0e1403"
      },
      "execution_count": 7,
      "outputs": [
        {
          "output_type": "display_data",
          "data": {
            "text/plain": [
              "  0%|          | 0/100 [00:00<?, ?it/s]"
            ],
            "application/vnd.jupyter.widget-view+json": {
              "version_major": 2,
              "version_minor": 0,
              "model_id": "765ac724fdd444ffbf68f447d68c2dcd"
            },
            "application/json": {
              "n": 0,
              "total": 100,
              "elapsed": 0.023421287536621094,
              "ncols": null,
              "nrows": null,
              "prefix": "",
              "ascii": false,
              "unit": "it",
              "unit_scale": false,
              "rate": null,
              "bar_format": null,
              "postfix": null,
              "unit_divisor": 1000,
              "initial": 0,
              "colour": null
            }
          },
          "metadata": {}
        },
        {
          "output_type": "stream",
          "name": "stdout",
          "text": [
            "Time (s) to fit model:  7.580073595046997\n",
            "+------+----------+\n",
            "| U(0) | 0.499999 |\n",
            "+------+----------+\n",
            "| U(1) | 0.500001 |\n",
            "+------+----------+\n",
            "+--------------+---------------------+--------------------+\n",
            "| U            | U(0)                | U(1)               |\n",
            "+--------------+---------------------+--------------------+\n",
            "| X(no_social) | 0.49999947936084643 | 0.5000005206376316 |\n",
            "+--------------+---------------------+--------------------+\n",
            "| X(social)    | 0.5000005206391536  | 0.4999994793623683 |\n",
            "+--------------+---------------------+--------------------+\n",
            "+----------+--------------+-----------+\n",
            "| X        | X(no_social) | X(social) |\n",
            "+----------+--------------+-----------+\n",
            "| Z(ad)    | 0.05         | 0.95      |\n",
            "+----------+--------------+-----------+\n",
            "| Z(no_ad) | 0.95         | 0.05      |\n",
            "+----------+--------------+-----------+\n",
            "+----------------+-----+---------------------+\n",
            "| U              | ... | U(1)                |\n",
            "+----------------+-----+---------------------+\n",
            "| Z              | ... | Z(no_ad)            |\n",
            "+----------------+-----+---------------------+\n",
            "| Y(no_purchase) | ... | 0.13999962499366023 |\n",
            "+----------------+-----+---------------------+\n",
            "| Y(purchase)    | ... | 0.8600003750063397  |\n",
            "+----------------+-----+---------------------+\n"
          ]
        }
      ]
    },
    {
      "cell_type": "markdown",
      "source": [
        "# Task 2:\n",
        "Use graph mutilation and Monte Carlo estimation to estimate the causal effect of X on Y"
      ],
      "metadata": {
        "id": "bP8OiKX3yB09"
      }
    },
    {
      "cell_type": "code",
      "source": [
        "model_do_X0 = model.do(\"X\")\n",
        "model_do_X1 = model.do(\"X\")"
      ],
      "metadata": {
        "id": "p7OvIzl6vSQp"
      },
      "execution_count": 8,
      "outputs": []
    },
    {
      "cell_type": "code",
      "source": [
        "# Monte Carlo Estimate\n",
        "\n",
        "# causal effect = P(Y|do(X=1)) - P(Y|do(X=0))\n",
        "\n",
        "start_time = time.time()\n",
        "\n",
        "generator_0 = BayesianModelSampling(model_do_X0)\n",
        "generator_1 = BayesianModelSampling(model_do_X1)\n",
        "\n",
        "n_iterations = 100\n",
        "n_samples = 1000\n",
        "deltas = np.zeros(n_iterations)\n",
        "for i in range(n_iterations):\n",
        "  generated_samples_0 = generator_0.forward_sample(size=n_samples, show_progress=False)\n",
        "  # Sample Estimate for P(Y|do(X=0))\n",
        "  pY_doX0 = generated_samples_0['Y'].apply(alias).mean()\n",
        "\n",
        "  generated_samples_1 = generator_1.forward_sample(size=n_samples, show_progress=False)\n",
        "  # Sample Estimate for P(Y|do(X=1))\n",
        "  pY_doX1 = generated_samples_1['Y'].apply(alias).mean()\n",
        "\n",
        "  # print(pY_doX0, pY_doX1)\n",
        "\n",
        "  # print(pY_doX1, pY_doX0)\n",
        "  deltas[i] = pY_doX1 - pY_doX0\n",
        "\n",
        "causal_estimate = deltas.mean()\n",
        "confidence_interval = np.quantile(deltas, [.25, .975])\n",
        "end_time = time.time()\n",
        "monte_carlo_time = end_time - start_time\n",
        "print('Monte Carlo elapsed time (s): ', monte_carlo_time)\n",
        "print('Causal Estaimate: ', causal_estimate)\n",
        "print('Confidence Interval: ', confidence_interval)\n"
      ],
      "metadata": {
        "colab": {
          "base_uri": "https://localhost:8080/"
        },
        "id": "l2mxJGBxKORp",
        "outputId": "03279d38-49cc-4b29-f47f-6d80a517804b"
      },
      "execution_count": 9,
      "outputs": [
        {
          "output_type": "stream",
          "name": "stdout",
          "text": [
            "Monte Carlo elapsed time (s):  3.9794533252716064\n",
            "Causal Estaimate:  0.0036000000000000025\n",
            "Confidence Interval:  [-0.01125  0.04505]\n"
          ]
        }
      ]
    },
    {
      "cell_type": "markdown",
      "source": [
        "# Task 3: \n",
        "Calculate the front-door estimator in DoWhy"
      ],
      "metadata": {
        "id": "Hx28TAPA6UGX"
      }
    },
    {
      "cell_type": "code",
      "source": [
        "temp_string = 'digraph { U -> X U -> Y X -> Z Z -> Y }'\n",
        "\n",
        "numerical_data = pd.DataFrame()\n",
        "numerical_data['X'] = data['X'].apply(alias)\n",
        "numerical_data['Y'] = data['Y'].apply(alias)\n",
        "numerical_data['Z'] = data['Z'].apply(alias)\n",
        "\n",
        "dowhy_model = CausalModel(\n",
        "        data=numerical_data,\n",
        "        treatment='X',\n",
        "        outcome='Y',\n",
        "        graph=temp_string\n",
        "    )\n",
        "\n",
        "dowhy_model.view_model()\n",
        "\n",
        "from IPython.display import Image, display\n",
        "display(Image(filename=\"causal_model.png\"))"
      ],
      "metadata": {
        "id": "Ohtwf30Z__SD"
      },
      "execution_count": null,
      "outputs": []
    },
    {
      "cell_type": "code",
      "source": [
        "identified_estimand = dowhy_model.identify_effect(proceed_when_unidentifiable=True)\n",
        "print(identified_estimand)"
      ],
      "metadata": {
        "id": "0UwO8SkWHJTt"
      },
      "execution_count": null,
      "outputs": []
    },
    {
      "cell_type": "code",
      "source": [
        "start_time = time.time()\n",
        "estimate = dowhy_model.estimate_effect(identified_estimand, method_name='frontdoor.two_stage_regression',\n",
        "                                       confidence_intervals=True, \n",
        "                                       method_params = {\n",
        "                                            'first_stage_model': LinearRegressionEstimator,\n",
        "                                            'second_stage_model': LinearRegressionEstimator\n",
        "                                        })\n",
        "end_time = time.time()\n",
        "dowhy_estimate_time = end_time - start_time\n",
        "print(estimate)"
      ],
      "metadata": {
        "id": "FdkxkTg9HvGi"
      },
      "execution_count": null,
      "outputs": []
    },
    {
      "cell_type": "code",
      "source": [
        "print('DoWhy Estimate Elapsed Time (s): ', dowhy_estimate_time)\n",
        "print('Causal Estimaet: ', estimate.value)\n",
        "print('Confidence Interval: ', estimate.get_confidence_intervals())"
      ],
      "metadata": {
        "colab": {
          "base_uri": "https://localhost:8080/"
        },
        "id": "slyu9_zkwpLw",
        "outputId": "5a00ac5b-1e78-42bf-e1d7-5052b65e1a77"
      },
      "execution_count": 13,
      "outputs": [
        {
          "output_type": "stream",
          "name": "stdout",
          "text": [
            "DoWhy Estimate Elapsed Time (s):  12.672666549682617\n",
            "Causal Estimaet:  0.044999999999999166\n",
            "Confidence Interval:  (-0.013808282808236524, 0.10212563957012252)\n"
          ]
        }
      ]
    },
    {
      "cell_type": "markdown",
      "source": [
        "# Task 4:\n",
        "Calculate the front-door estimate by hand"
      ],
      "metadata": {
        "id": "56OuZwrAwcBN"
      }
    },
    {
      "cell_type": "code",
      "source": [
        "# FORMULA\n",
        "# P(Y|do(X)) = Sum(Z, Sum(X', P(Y|Z, X')*P(X')*P(Z|X))\n",
        "def frontdoor_calc(dataset):\n",
        "  pY_doX1 = 0\n",
        "  pY_doX0 = 0\n",
        "  for x_prime in dataset['X'].unique():\n",
        "    for z in data['Z'].unique():\n",
        "      #P(Y|Z, X')\n",
        "      # Random Sampling Means sometimes the groups dont exist\n",
        "      try:\n",
        "        Y0_xz_count = dataset.groupby(['X', 'Y', 'Z']).get_group((x_prime, 'no_purchase', z)).count()[0]\n",
        "      except KeyError:\n",
        "        Y0_xz_count = 0\n",
        "      try:\n",
        "        Y1_xz_count = dataset.groupby(['X', 'Y', 'Z']).get_group((x_prime, 'purchase', z)).count()[0]\n",
        "      except KeyError:\n",
        "        Y1_xz_count = 0\n",
        "\n",
        "      py_ZX = Y1_xz_count / (Y0_xz_count + Y1_xz_count)\n",
        "\n",
        "      # P(X') \n",
        "      x_prime_count = dataset.groupby(['X']).get_group(x_prime).count()[0]\n",
        "\n",
        "      pX_prime = x_prime_count / (len(dataset['X']))\n",
        "\n",
        "      # P(Z|X)\n",
        "      z0_X1_count = dataset.groupby(['X', 'Z']).get_group(('social', 'no_ad')).count()[0]\n",
        "      z0_X0_count = dataset.groupby(['X', 'Z']).get_group(('no_social', 'no_ad')).count()[0]\n",
        "      z1_X1_count = dataset.groupby(['X', 'Z']).get_group(('social', 'ad')).count()[0]\n",
        "      z1_X0_count = dataset.groupby(['X', 'Z']).get_group(('no_social', 'ad')).count()[0]\n",
        "\n",
        "      if z == 'ad':\n",
        "        pZ_X1 = z1_X1_count / (z0_X1_count + z1_X1_count)\n",
        "        pZ_X0 = z1_X0_count / (z0_X0_count + z1_X0_count)\n",
        "      else: \n",
        "        pZ_X1 = z0_X1_count / (z0_X1_count + z1_X1_count)\n",
        "        pZ_X0 = z0_X0_count / (z0_X0_count + z1_X0_count)\n",
        "\n",
        "      # Multiply\n",
        "      pY_doX1 += (py_ZX * pX_prime * pZ_X1)\n",
        "      pY_doX0 += (py_ZX * pX_prime * pZ_X0)\n",
        "\n",
        "  return (pY_doX1 - pY_doX0)"
      ],
      "metadata": {
        "id": "yhjF1uC3ptOw"
      },
      "execution_count": 14,
      "outputs": []
    },
    {
      "cell_type": "code",
      "source": [
        "start_time = time.time()\n",
        "print('Confidence Interval: ', frontdoor_calc(data))\n",
        "end_time = time.time()\n",
        "print('Manual Elapsed Time (s): ', end_time - start_time)"
      ],
      "metadata": {
        "colab": {
          "base_uri": "https://localhost:8080/"
        },
        "id": "ZREroVNwqK1i",
        "outputId": "f9be01d8-5e04-4a65-b44e-0c244c612715"
      },
      "execution_count": 15,
      "outputs": [
        {
          "output_type": "stream",
          "name": "stdout",
          "text": [
            "Confidence Interval:  0.04500000000000004\n",
            "Manual Elapsed Time (s):  0.08831453323364258\n"
          ]
        }
      ]
    },
    {
      "cell_type": "markdown",
      "source": [
        "Using Bootstrapping to determine aconfidence interval, and more accurate estiamte"
      ],
      "metadata": {
        "id": "efwps9aexF6R"
      }
    },
    {
      "cell_type": "code",
      "source": [
        "bootstrap_iterations = 100\n",
        "causal_estimates = np.zeros(bootstrap_iterations)\n",
        "\n",
        "start_time = time.time()\n",
        "for n in range(bootstrap_iterations):\n",
        "  sampled_data = data.sample(len(data), replace=True)\n",
        "  causal_estimates[n] = frontdoor_calc(sampled_data)\n",
        "end_time = time.time()\n",
        "\n",
        "print('Manual Bootstrap Elapsed Time (s): ', end_time - start_time)\n",
        "print('Causal Estimate: ', causal_estimates.mean())\n",
        "print('Confidence Interval: ', np.quantile(causal_estimates, [.25, .975]))"
      ],
      "metadata": {
        "colab": {
          "base_uri": "https://localhost:8080/"
        },
        "id": "NylVLqvK8cmJ",
        "outputId": "41dc617d-7fe3-4db1-d62d-c2e45a87eddc"
      },
      "execution_count": 16,
      "outputs": [
        {
          "output_type": "stream",
          "name": "stdout",
          "text": [
            "Manual Bootstrap Elapsed Time (s):  4.852885723114014\n",
            "Causal Estimate:  0.04451406322918086\n",
            "Confidence Interval:  [0.01636701 0.11112524]\n"
          ]
        }
      ]
    },
    {
      "cell_type": "markdown",
      "source": [
        "# Task 5\n",
        "Compare your Monte Carlo estimate to the DoWhy estimate and you hand-calculated estimate."
      ],
      "metadata": {
        "id": "wuLJqhFQzbSq"
      }
    },
    {
      "cell_type": "markdown",
      "source": [
        "Total Results: <br>\n",
        "\n",
        "| Method | Causal Estimate | Confidence Interval | Elapsed Time (s) |\n",
        "| --- | --- | --- | --- |\n",
        "| Monte Carlo | 0.0036 |  [-0.01125, 0.04505] | 3.9795 |\n",
        "| DoWhy |  0.0450 | [-0.0138, 0.1021] | 12.6727 |\n",
        "| Manual | 0.0445 | [0.0164,  0.1111] | 4.8529 |"
      ],
      "metadata": {
        "id": "EKqnSy9f27r-"
      }
    },
    {
      "cell_type": "markdown",
      "source": [
        "## Task 5.1\n",
        "Are the estimates the close in value?"
      ],
      "metadata": {
        "id": "_Xhn5MrwzgjF"
      }
    },
    {
      "cell_type": "markdown",
      "source": [
        "Yes the estimates are close in value. In fact, the DoWhy estimate and the non-bootstrapped Manual version give the exact same results. The Monte Carlo estimate was farthest from the other two. "
      ],
      "metadata": {
        "id": "nZkUARtV23vQ"
      }
    },
    {
      "cell_type": "markdown",
      "source": [
        "## Task 5.2\n",
        "How do the DoWhy and Monte Carlo estimates compare in terms of confidence interval?"
      ],
      "metadata": {
        "id": "lBDMF8DXzn6j"
      }
    },
    {
      "cell_type": "markdown",
      "source": [
        "The Monte Carlo estimate had a confidence interval slightly shifted down from the other two. This makes sense as the estimation method has the most random sampling. Furthermore, the confidence intervals for all estimates contain the other estimates. "
      ],
      "metadata": {
        "id": "IghZh5jk5N7e"
      }
    },
    {
      "cell_type": "markdown",
      "source": [
        "## Task 5.3\n",
        "How do they compare in terms of computation time?  For the Monte Carlo estimate, separately calculate the time it takes to train the model and the time it takes to run the Monte Carlo estimation procedure.  This is because training only has to be done once, then you can run different inference queries on the trained model."
      ],
      "metadata": {
        "id": "wG_vi34bzya4"
      }
    },
    {
      "cell_type": "markdown",
      "source": [
        "The fastest algorithm was Monte Carlo followed closely by the bootstrapped manual version. The manual version without bootstrapping was by far the fastest as the calculations are already known, as opposed to regressing to the value. "
      ],
      "metadata": {
        "id": "dyto5jY454tb"
      }
    }
  ]
}