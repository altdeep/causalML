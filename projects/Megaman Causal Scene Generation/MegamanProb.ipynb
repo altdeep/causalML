{
 "cells": [
  {
   "cell_type": "code",
   "execution_count": 4,
   "metadata": {},
   "outputs": [],
   "source": [
    "import torch\n",
    "import pyro\n",
    "import seaborn as sns\n",
    "import numpy as np\n"
   ]
  },
  {
   "cell_type": "code",
   "execution_count": 5,
   "metadata": {},
   "outputs": [],
   "source": [
    "HC = ['megaman']\n",
    "VC = ['shademan']\n",
    "HA = ['attack', 'jump', 'taunt', 'block', 'stationary', 'teleport']\n",
    "VA = ['attack', 'block', 'taunt', 'stationary', 'teleport']\n",
    "VR = ['attack', 'block', 'taunt', 'stationary', 'hurt', 'die']\n",
    "HR = ['attack', 'block', 'taunt', 'stationary', 'hurt', 'die', 'jump', 'teleport']"
   ]
  },
  {
   "cell_type": "code",
   "execution_count": 6,
   "metadata": {},
   "outputs": [],
   "source": [
    "probHC = torch.tensor([1.00])\n",
    "probVC = torch.tensor([1.00])\n",
    "probHA = torch.tensor([[0.3], [0.2], [0.1], [0.2] ,[0.15], [0.05]])\n",
    "probVA = torch.tensor([[0.4], [0.2], [0.25], [0.1], [0.05]])\n",
    "probHR = torch.tensor([[0.1, 0.3, 0.05, 0.1, 0.05, 0.2, 0.15, 0.05], [0.1, 0.3, 0.05, 0.3, 0.0, 0.0, 0.15, 0.1],\n",
    "                      [0.2, 0.1, 0.4,0.1, 0.0, 0.0, 0.15, 0.05], [0.35, 0.05, 0.05, 0.3, 0.0, 0.0, 0.2, 0.05],\n",
    "                      [0.0, 0.0 ,0.0,0.0,0.0, 0.0, 0.0, 1.0]])\n",
    "probVR = torch.tensor([[0.15, 0.4, 0.05, 0.1, 0.2, 0.1], [0.4,0.1, 0.1, 0.4, 0.0, 0.0], [0.35,0.1,0.4,0.1,0.0,0.0], \n",
    "                       [0.4, 0.2, 0.2, 0.2,0.0,0.0], [0.6,0.15,0.05,0.2, 0.0,0.0], [0.2, 0.0, 0.3, 0.5,0.0,0.0]\n",
    "                      ])\n"
   ]
  },
  {
   "cell_type": "code",
   "execution_count": 7,
   "metadata": {},
   "outputs": [],
   "source": [
    "# Variables should be order of the flow of model otherwise out of index error comes for variable S [length 2]\n",
    "def megaman_model():\n",
    "    HC = sample(\"HC\", Categorical(probs=probHC))\n",
    "    VC = sample(\"VC\", Categorical(probs=probVC))\n",
    "    HA = sample(\"HA\", Categorical(probs=probHA[HC]))\n",
    "    VA = sample(\"VA\", Categorical(probs=probVA[VC]))\n",
    "    HR = sample(\"HR\", Categorical(probs=probHR[VA]))\n",
    "    VR = sample(\"VR\", Categorical(probs=probVR[HA]))\n",
    "    return{'HC': HC,'VC': VC,'HA': HA,'VA': VA,'HR': HR,'VR': VR }"
   ]
  },
  {
   "cell_type": "code",
   "execution_count": null,
   "metadata": {},
   "outputs": [],
   "source": []
  }
 ],
 "metadata": {
  "kernelspec": {
   "display_name": "Python 3",
   "language": "python",
   "name": "python3"
  },
  "language_info": {
   "codemirror_mode": {
    "name": "ipython",
    "version": 3
   },
   "file_extension": ".py",
   "mimetype": "text/x-python",
   "name": "python",
   "nbconvert_exporter": "python",
   "pygments_lexer": "ipython3",
   "version": "3.8.3"
  }
 },
 "nbformat": 4,
 "nbformat_minor": 4
}
