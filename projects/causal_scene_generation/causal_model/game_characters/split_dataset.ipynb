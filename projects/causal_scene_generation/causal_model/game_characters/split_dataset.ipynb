{
 "cells": [
  {
   "cell_type": "code",
   "execution_count": 1,
   "metadata": {},
   "outputs": [],
   "source": [
    "import pandas as pd\n",
    "from sklearn.model_selection import train_test_split\n",
    "from shutil import copy2\n",
    "import os"
   ]
  },
  {
   "cell_type": "code",
   "execution_count": 2,
   "metadata": {},
   "outputs": [],
   "source": [
    "df = pd.read_csv(\"./images/generated/dataset.csv\")"
   ]
  },
  {
   "cell_type": "code",
   "execution_count": 3,
   "metadata": {},
   "outputs": [],
   "source": [
    "X_train, X_test, Y_train, Y_test = train_test_split(df[\"img_name\"], df.drop([\"img_name\"], axis=1), test_size = 0.2, random_state = 300)"
   ]
  },
  {
   "cell_type": "code",
   "execution_count": 4,
   "metadata": {},
   "outputs": [],
   "source": [
    "if \"train\" not in os.listdir(\"./images/generated/\"):\n",
    "    os.mkdir(\"./images/generated/train\")\n",
    "if \"test\" not in os.listdir(\"./images/generated/\"):\n",
    "    os.mkdir(\"./images/generated/test\")"
   ]
  },
  {
   "cell_type": "code",
   "execution_count": 5,
   "metadata": {},
   "outputs": [],
   "source": [
    "train_dataset = pd.concat([X_train, Y_train], axis=1)\n",
    "test_dataset = pd.concat([X_test, Y_test], axis=1)\n",
    "\n",
    "train_dataset.to_csv(\"./images/generated/train/train.csv\", index=False)\n",
    "test_dataset.to_csv(\"./images/generated/test/test.csv\", index=False)"
   ]
  },
  {
   "cell_type": "code",
   "execution_count": 6,
   "metadata": {},
   "outputs": [],
   "source": [
    "def copyimages(srcFolder, destFolder, imageList):\n",
    "    for imgName in imageList:\n",
    "        name = imgName+\".png\"\n",
    "        srcFile = srcFolder+name\n",
    "        destFile = destFolder+name\n",
    "        copy2(srcFile, destFile)"
   ]
  },
  {
   "cell_type": "code",
   "execution_count": 7,
   "metadata": {},
   "outputs": [],
   "source": [
    "copyimages(\"./images/generated/\", \"./images/generated/train/\", list(X_train.values))"
   ]
  },
  {
   "cell_type": "code",
   "execution_count": 8,
   "metadata": {},
   "outputs": [],
   "source": [
    "copyimages(\"./images/generated/\", \"./images/generated/test/\", list(X_test.values))"
   ]
  },
  {
   "cell_type": "code",
   "execution_count": null,
   "metadata": {},
   "outputs": [],
   "source": []
  }
 ],
 "metadata": {
  "kernelspec": {
   "display_name": "Python 3",
   "language": "python",
   "name": "python3"
  },
  "language_info": {
   "codemirror_mode": {
    "name": "ipython",
    "version": 3
   },
   "file_extension": ".py",
   "mimetype": "text/x-python",
   "name": "python",
   "nbconvert_exporter": "python",
   "pygments_lexer": "ipython3",
   "version": "3.6.10"
  }
 },
 "nbformat": 4,
 "nbformat_minor": 2
}
