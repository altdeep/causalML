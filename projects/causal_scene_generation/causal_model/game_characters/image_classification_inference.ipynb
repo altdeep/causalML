{
  "nbformat": 4,
  "nbformat_minor": 0,
  "metadata": {
    "colab": {
      "name": "image_classification_inference.ipynb",
      "provenance": [],
      "collapsed_sections": [],
      "authorship_tag": "ABX9TyNPD7DX8/jRTFXl/nTfy5Jm",
      "include_colab_link": true
    },
    "kernelspec": {
      "name": "python3",
      "display_name": "Python 3"
    }
  },
  "cells": [
    {
      "cell_type": "markdown",
      "metadata": {
        "id": "view-in-github",
        "colab_type": "text"
      },
      "source": [
        "<a href=\"https://colab.research.google.com/github/mancunian1792/causal_scene_generation/blob/master/causal_model/game_characters/image_classification_inference.ipynb\" target=\"_parent\"><img src=\"https://colab.research.google.com/assets/colab-badge.svg\" alt=\"Open In Colab\"/></a>"
      ]
    },
    {
      "cell_type": "code",
      "metadata": {
        "id": "Dp3VNywAvE8g",
        "colab_type": "code",
        "colab": {
          "base_uri": "https://localhost:8080/",
          "height": 127
        },
        "outputId": "732f782d-5032-4873-e07c-6c042369479a"
      },
      "source": [
        "from google.colab import drive\n",
        "\n",
        "drive.mount(\"/content/gdrive\", force_remount=True)"
      ],
      "execution_count": 1,
      "outputs": [
        {
          "output_type": "stream",
          "text": [
            "Go to this URL in a browser: https://accounts.google.com/o/oauth2/auth?client_id=947318989803-6bn6qk8qdgf4n4g3pfee6491hc0brc4i.apps.googleusercontent.com&redirect_uri=urn%3aietf%3awg%3aoauth%3a2.0%3aoob&response_type=code&scope=email%20https%3a%2f%2fwww.googleapis.com%2fauth%2fdocs.test%20https%3a%2f%2fwww.googleapis.com%2fauth%2fdrive%20https%3a%2f%2fwww.googleapis.com%2fauth%2fdrive.photos.readonly%20https%3a%2f%2fwww.googleapis.com%2fauth%2fpeopleapi.readonly\n",
            "\n",
            "Enter your authorization code:\n",
            "··········\n",
            "Mounted at /content/gdrive\n"
          ],
          "name": "stdout"
        }
      ]
    },
    {
      "cell_type": "code",
      "metadata": {
        "id": "2NW95zxbvlYZ",
        "colab_type": "code",
        "colab": {}
      },
      "source": [
        "root_path = 'gdrive/My Drive/causal_scene_generation/game_characters/'\n",
        "model1_name = \"model-both-images.hdf5\"\n",
        "model2_name_img_split = \"weights-10-0.930.hdf5\"\n",
        "test_path = root_path + 'test/'\n",
        "test_images = test_path + 'images/'\n",
        "test_csv = test_path + 'test.csv'"
      ],
      "execution_count": 2,
      "outputs": []
    },
    {
      "cell_type": "code",
      "metadata": {
        "id": "UC2ljAKWPNdG",
        "colab_type": "code",
        "colab": {
          "base_uri": "https://localhost:8080/",
          "height": 35
        },
        "outputId": "8ada70af-f51b-4ac5-aa40-c241ea187dff"
      },
      "source": [
        "import keras\n",
        "import numpy as np\n",
        "import pandas as pd\n",
        "import matplotlib.pyplot as plt\n",
        "from tqdm import tqdm\n",
        "from skimage.transform import rotate\n",
        "from skimage.util import random_noise\n",
        "from skimage.filters import gaussian\n",
        "from keras.preprocessing import image\n"
      ],
      "execution_count": 3,
      "outputs": [
        {
          "output_type": "stream",
          "text": [
            "Using TensorFlow backend.\n"
          ],
          "name": "stderr"
        }
      ]
    },
    {
      "cell_type": "markdown",
      "metadata": {
        "id": "iWoF3hobWbxl",
        "colab_type": "text"
      },
      "source": [
        "### Using only the model with greater validation accuracy. Use the other model if in case the professor wants to compare. Ideally, the second model should be better for inference as it;s a straightforward problem for the model to solve as it identifies only an image with only one entity (either actor/reactor), character, type of character, entity doing something"
      ]
    },
    {
      "cell_type": "code",
      "metadata": {
        "id": "rLHSuqmcWd_v",
        "colab_type": "code",
        "colab": {}
      },
      "source": [
        "# Modify the labels (Do - encoding)\n",
        "splits_path = root_path + 'splits/'\n",
        "splits_images = splits_path + 'images/'\n",
        "splits_dataset = splits_path + 'split_dataset.csv'"
      ],
      "execution_count": 4,
      "outputs": []
    },
    {
      "cell_type": "code",
      "metadata": {
        "id": "FGcv7tbaWm3F",
        "colab_type": "code",
        "colab": {}
      },
      "source": [
        "df = pd.read_csv(splits_dataset)\n",
        "images = df[\"img_name\"]\n",
        "#target = df.drop([\"img_name\"], axis=1)\n",
        "#target = pd.get_dummies(target)"
      ],
      "execution_count": 5,
      "outputs": []
    },
    {
      "cell_type": "code",
      "metadata": {
        "id": "8Cxl-YhXXBJM",
        "colab_type": "code",
        "colab": {}
      },
      "source": [
        "def processSplitImages(imgPath, filenames):\n",
        "  images_data = []\n",
        "  for img in tqdm(filenames):\n",
        "    imgFullPath = imgPath + img + \".png\"\n",
        "    img = image.load_img(imgFullPath, target_size=(400,400,3), grayscale=False)\n",
        "    img = image.img_to_array(img)\n",
        "    img = img/255\n",
        "    images_data.append(img)\n",
        "  features = np.array(images_data)\n",
        "  return features"
      ],
      "execution_count": 6,
      "outputs": []
    },
    {
      "cell_type": "code",
      "metadata": {
        "id": "alNO_7z1Weia",
        "colab_type": "code",
        "colab": {
          "base_uri": "https://localhost:8080/",
          "height": 35
        },
        "outputId": "bb85c234-7a4d-49df-e324-8730def65ea5"
      },
      "source": [
        "img_features = processSplitImages(splits_images, images)"
      ],
      "execution_count": null,
      "outputs": [
        {
          "output_type": "stream",
          "text": [
            "100%|██████████| 864/864 [03:26<00:00,  4.18it/s]\n"
          ],
          "name": "stderr"
        }
      ]
    },
    {
      "cell_type": "code",
      "metadata": {
        "id": "lx8bwt18W6co",
        "colab_type": "code",
        "colab": {}
      },
      "source": [
        "model2 = keras.models.load_model(root_path+model2_name_img_split)"
      ],
      "execution_count": 7,
      "outputs": []
    },
    {
      "cell_type": "code",
      "metadata": {
        "id": "0sBr-Pt5e9jW",
        "colab_type": "code",
        "colab": {
          "base_uri": "https://localhost:8080/",
          "height": 71
        },
        "outputId": "b2b2e236-dc6e-4e2a-aca5-4214875c79a3"
      },
      "source": [
        "'''\n",
        "Input -> Name of the image (containing both the actor and the reactor)\n",
        "Output -> Dictionary of the labels indicating the classes that the actor and reactor belong to\n",
        "\n",
        "Steps:\n",
        "1. Split the image in the middle.\n",
        "2. For both the images, pre-process it and predict the probabilities\n",
        "3. For a threshold of 0.7, find the classes that match those probabilities. (Hopefully it is 4 in all cases. Figure out a way to test them )\n",
        "4. From the labels , format them in a desired format that could be passed directly to the causal model conditioning.\n",
        "\n",
        "'''"
      ],
      "execution_count": null,
      "outputs": [
        {
          "output_type": "execute_result",
          "data": {
            "application/vnd.google.colaboratory.intrinsic": {
              "type": "string"
            },
            "text/plain": [
              "'\\nInput -> Name of the image (containing both the actor and the reactor)\\nOutput -> Dictionary of the labels indicating the classes that the actor and reactor belong to\\n\\nSteps:\\n1. Split the image in the middle.\\n2. For both the images, pre-process it and predict the probabilities\\n3. For a threshold of 0.7, find the classes that match those probabilities. (Hopefully it is 4 in all cases. Figure out a way to test them )\\n4. From the labels , format them in a desired format that could be passed directly to the causal model conditioning.\\n\\n'"
            ]
          },
          "metadata": {
            "tags": []
          },
          "execution_count": 16
        }
      ]
    },
    {
      "cell_type": "code",
      "metadata": {
        "id": "OpU4HV5VfsDR",
        "colab_type": "code",
        "colab": {}
      },
      "source": [
        "def get_prediction(img_path, model):\n",
        "  img = image.load_img(img_path, target_size=(400,400,3), grayscale=False)\n",
        "  img_left = img.crop((0,0,200,400)).resize((400,400))\n",
        "  img_right = img.crop((200,0,400,400)).resize((400,400))\n",
        "  img_left = image.img_to_array(img_left)\n",
        "  img_left = img_left/255\n",
        "\n",
        "  img_right = image.img_to_array(img_right)\n",
        "  img_right = img_right/255\n",
        "\n",
        "  plt.imshow(image.array_to_img(img))\n",
        "  pred_left = model.predict(img_left.reshape(1,400,400,3))\n",
        "  pred_right = model.predict(img_right.reshape(1,400,400,3))\n",
        "\n",
        "  return class_from_prob(pred_left), class_from_prob(pred_right)\n",
        "\n",
        "  #return dict(zip(keys, pred_left_map)), dict(zip(keys, pred_right_map))\n",
        "\n",
        "\n",
        "  "
      ],
      "execution_count": 12,
      "outputs": []
    },
    {
      "cell_type": "code",
      "metadata": {
        "id": "BCP-wVjPc8jF",
        "colab_type": "code",
        "colab": {}
      },
      "source": [
        "def class_from_prob(prob):\n",
        "  classes = np.array(['1', '2', '3', 'Attacking', 'Dying', 'Golem', 'Hurt', 'Idle',\n",
        "       'Satyr', 'Taunt', 'Walking', 'actor', 'reactor'], dtype=object)\n",
        "  mapping = dict(zip(classes, prob[0]))\n",
        "  reverse_mapping = {value : key for (key, value) in mapping.items()}\n",
        "\n",
        "  return {\n",
        "      \"entity\": reverse_mapping[max(mapping[\"actor\"], mapping[\"reactor\"])],\n",
        "      \"type\": reverse_mapping[max(mapping[\"1\"], mapping[\"2\"], mapping[\"3\"])],\n",
        "      \"character\": reverse_mapping[max(mapping[\"Satyr\"], mapping[\"Golem\"])],\n",
        "      \"entity_doing\": reverse_mapping[max(mapping[\"Taunt\"], mapping[\"Walking\"], mapping[\"Hurt\"], mapping[\"Idle\"], mapping[\"Dying\"], mapping[\"Attacking\"])]\n",
        "  }\n",
        "\n",
        "\n",
        "\n",
        "  "
      ],
      "execution_count": 18,
      "outputs": []
    },
    {
      "cell_type": "code",
      "metadata": {
        "id": "II9W8ukRpLRp",
        "colab_type": "code",
        "colab": {
          "base_uri": "https://localhost:8080/",
          "height": 413
        },
        "outputId": "cb16b61b-4eee-43d5-f097-67a4af1d4ab8"
      },
      "source": [
        "get_prediction(test_images+\"combination27.png\", model2)"
      ],
      "execution_count": 21,
      "outputs": [
        {
          "output_type": "execute_result",
          "data": {
            "text/plain": [
              "({'character': 'Satyr',\n",
              "  'entity': 'actor',\n",
              "  'entity_doing': 'Attacking',\n",
              "  'type': '1'},\n",
              " {'character': 'Satyr',\n",
              "  'entity': 'reactor',\n",
              "  'entity_doing': 'Attacking',\n",
              "  'type': '3'})"
            ]
          },
          "metadata": {
            "tags": []
          },
          "execution_count": 21
        },
        {
          "output_type": "display_data",
          "data": {
            "image/png": "[encoded data removed]",
            "text/plain": [
              "<Figure size 432x288 with 1 Axes>"
            ]
          },
          "metadata": {
            "tags": [],
            "needs_background": "light"
          }
        }
      ]
    },
    {
      "cell_type": "code",
      "metadata": {
        "id": "qa2U7pFfc8Yp",
        "colab_type": "code",
        "colab": {
          "base_uri": "https://localhost:8080/",
          "height": 899
        },
        "outputId": "6bf78b89-7cc0-4e27-dd35-206a3cd28939"
      },
      "source": [
        ""
      ],
      "execution_count": null,
      "outputs": [
        {
          "output_type": "execute_result",
          "data": {
            "text/plain": [
              "['DataFrameIterator',\n",
              " 'DirectoryIterator',\n",
              " 'ImageDataGenerator',\n",
              " 'ImageEnhance',\n",
              " 'Iterator',\n",
              " 'NumpyArrayIterator',\n",
              " '__builtins__',\n",
              " '__cached__',\n",
              " '__doc__',\n",
              " '__file__',\n",
              " '__loader__',\n",
              " '__name__',\n",
              " '__package__',\n",
              " '__path__',\n",
              " '__spec__',\n",
              " 'absolute_import',\n",
              " 'affine_transformations',\n",
              " 'apply_affine_transform',\n",
              " 'apply_brightness_shift',\n",
              " 'apply_channel_shift',\n",
              " 'array_to_img',\n",
              " 'dataframe_iterator',\n",
              " 'directory_iterator',\n",
              " 'division',\n",
              " 'flip_axis',\n",
              " 'image_data_generator',\n",
              " 'img_to_array',\n",
              " 'io',\n",
              " 'iterator',\n",
              " 'list_pictures',\n",
              " 'load_img',\n",
              " 'ndimage',\n",
              " 'np',\n",
              " 'numpy_array_iterator',\n",
              " 'os',\n",
              " 'pil_image',\n",
              " 'print_function',\n",
              " 'random_brightness',\n",
              " 'random_channel_shift',\n",
              " 'random_rotation',\n",
              " 'random_shear',\n",
              " 'random_shift',\n",
              " 'random_zoom',\n",
              " 'save_img',\n",
              " 'scipy',\n",
              " 'transform_matrix_offset_center',\n",
              " 'utils',\n",
              " 'validate_filename',\n",
              " 'warnings']"
            ]
          },
          "metadata": {
            "tags": []
          },
          "execution_count": 52
        }
      ]
    },
    {
      "cell_type": "code",
      "metadata": {
        "id": "wm14-PMZeLpr",
        "colab_type": "code",
        "colab": {}
      },
      "source": [
        ""
      ],
      "execution_count": null,
      "outputs": []
    }
  ]
}