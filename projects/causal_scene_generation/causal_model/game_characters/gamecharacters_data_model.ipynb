{
 "cells": [
  {
   "cell_type": "code",
   "execution_count": 1,
   "metadata": {},
   "outputs": [],
   "source": [
    "import sqlite3"
   ]
  },
  {
   "cell_type": "code",
   "execution_count": 21,
   "metadata": {},
   "outputs": [],
   "source": [
    "conn = sqlite3.connect(\"./data/gamecharacters\")\n",
    "cursor = conn.cursor()"
   ]
  },
  {
   "cell_type": "markdown",
   "metadata": {},
   "source": [
    "### Delete all existing tables"
   ]
  },
  {
   "cell_type": "code",
   "execution_count": 22,
   "metadata": {},
   "outputs": [],
   "source": [
    "DONT_TOUCH_TABLES = ['sqlite_sequence']\n",
    "def delete_all_tables(conn):\n",
    "    cursor = conn.cursor()\n",
    "    cursor.execute(\"select name from sqlite_master;\")\n",
    "    tableNames = [table[0] for table in cursor.fetchall()]\n",
    "    cursor.close()\n",
    "    for tablename in tableNames:\n",
    "        if tablename not in DONT_TOUCH_TABLES:\n",
    "            cursor = conn.cursor()\n",
    "            stmt = f\"DROP TABLE IF EXISTS {tablename}\"\n",
    "            cursor.execute(stmt)\n",
    "            conn.commit()\n",
    "    cursor.close()"
   ]
  },
  {
   "cell_type": "code",
   "execution_count": 23,
   "metadata": {},
   "outputs": [],
   "source": [
    "delete_all_tables(conn)"
   ]
  },
  {
   "cell_type": "code",
   "execution_count": 24,
   "metadata": {},
   "outputs": [],
   "source": [
    "cursor.execute(\"select name from sqlite_master;\")\n",
    "tableNames = [table[0] for table in cursor.fetchall()]"
   ]
  },
  {
   "cell_type": "code",
   "execution_count": 25,
   "metadata": {},
   "outputs": [
    {
     "data": {
      "text/plain": [
       "['sqlite_sequence']"
      ]
     },
     "execution_count": 25,
     "metadata": {},
     "output_type": "execute_result"
    }
   ],
   "source": [
    "tableNames"
   ]
  },
  {
   "cell_type": "markdown",
   "metadata": {},
   "source": [
    "### Create New Tables related to the game characters project"
   ]
  },
  {
   "cell_type": "code",
   "execution_count": 26,
   "metadata": {},
   "outputs": [],
   "source": [
    "# Create table\n",
    "conn.execute('''CREATE TABLE characters (id INTEGER NOT NULL, char_name text NOT NULL)''')\n",
    "\n",
    "conn.execute('''\n",
    "CREATE TABLE duels\n",
    "(id INTEGER NOT NULL,\n",
    "actor_name text NOT NULL,\n",
    "reactor_name text NOT NULL)\n",
    "''')\n",
    "\n",
    "# Insert a row of data\n",
    "conn.execute(\"INSERT INTO characters VALUES (1, 'Satyr')\")\n",
    "conn.execute(\"INSERT INTO characters VALUES (2, 'Golem')\")\n",
    "\n",
    "conn.execute(\"INSERT INTO duels VALUES (1, 'Satyr1', 'Golem2')\")\n",
    "conn.execute(\"INSERT INTO duels VALUES (2, 'Golem2', 'Satyr1')\")\n",
    "\n",
    "\n",
    "# Save (commit) the changes\n",
    "conn.commit()\n",
    "\n",
    "# We can also close the connection if we are done with it.\n",
    "# Just be sure any changes have been committed or they will be lost.\n",
    "conn.close()"
   ]
  }
 ],
 "metadata": {
  "kernelspec": {
   "display_name": "Python 3",
   "language": "python",
   "name": "python3"
  },
  "language_info": {
   "codemirror_mode": {
    "name": "ipython",
    "version": 3
   },
   "file_extension": ".py",
   "mimetype": "text/x-python",
   "name": "python",
   "nbconvert_exporter": "python",
   "pygments_lexer": "ipython3",
   "version": "3.6.10"
  }
 },
 "nbformat": 4,
 "nbformat_minor": 2
}
