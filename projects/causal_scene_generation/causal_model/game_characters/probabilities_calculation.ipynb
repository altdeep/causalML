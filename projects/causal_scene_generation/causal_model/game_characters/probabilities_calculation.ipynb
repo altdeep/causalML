{
 "cells": [
  {
   "cell_type": "code",
   "execution_count": 3,
   "metadata": {},
   "outputs": [],
   "source": [
    "import pandas as pd\n",
    "import numpy as np\n",
    "import matplotlib.pyplot as plt"
   ]
  },
  {
   "cell_type": "code",
   "execution_count": 5,
   "metadata": {},
   "outputs": [],
   "source": [
    "df = pd.read_csv(\"./images/generated/dataset_raw.csv\")"
   ]
  },
  {
   "cell_type": "code",
   "execution_count": 6,
   "metadata": {},
   "outputs": [
    {
     "data": {
      "text/html": [
       "<div>\n",
       "<style scoped>\n",
       "    .dataframe tbody tr th:only-of-type {\n",
       "        vertical-align: middle;\n",
       "    }\n",
       "\n",
       "    .dataframe tbody tr th {\n",
       "        vertical-align: top;\n",
       "    }\n",
       "\n",
       "    .dataframe thead th {\n",
       "        text-align: right;\n",
       "    }\n",
       "</style>\n",
       "<table border=\"1\" class=\"dataframe\">\n",
       "  <thead>\n",
       "    <tr style=\"text-align: right;\">\n",
       "      <th></th>\n",
       "      <th>actor_name</th>\n",
       "      <th>actor_type</th>\n",
       "      <th>actor_action</th>\n",
       "      <th>reactor_name</th>\n",
       "      <th>reactor_type</th>\n",
       "      <th>reactor_action</th>\n",
       "      <th>img_name</th>\n",
       "    </tr>\n",
       "  </thead>\n",
       "  <tbody>\n",
       "    <tr>\n",
       "      <th>0</th>\n",
       "      <td>Satyr</td>\n",
       "      <td>type1</td>\n",
       "      <td>Attacking</td>\n",
       "      <td>Satyr</td>\n",
       "      <td>type1</td>\n",
       "      <td>Dying</td>\n",
       "      <td>combination0</td>\n",
       "    </tr>\n",
       "    <tr>\n",
       "      <th>1</th>\n",
       "      <td>Satyr</td>\n",
       "      <td>type1</td>\n",
       "      <td>Attacking</td>\n",
       "      <td>Satyr</td>\n",
       "      <td>type1</td>\n",
       "      <td>Hurt</td>\n",
       "      <td>combination1</td>\n",
       "    </tr>\n",
       "    <tr>\n",
       "      <th>2</th>\n",
       "      <td>Satyr</td>\n",
       "      <td>type1</td>\n",
       "      <td>Attacking</td>\n",
       "      <td>Satyr</td>\n",
       "      <td>type1</td>\n",
       "      <td>Idle</td>\n",
       "      <td>combination2</td>\n",
       "    </tr>\n",
       "    <tr>\n",
       "      <th>3</th>\n",
       "      <td>Satyr</td>\n",
       "      <td>type1</td>\n",
       "      <td>Attacking</td>\n",
       "      <td>Satyr</td>\n",
       "      <td>type1</td>\n",
       "      <td>Attacking</td>\n",
       "      <td>combination3</td>\n",
       "    </tr>\n",
       "    <tr>\n",
       "      <th>4</th>\n",
       "      <td>Satyr</td>\n",
       "      <td>type1</td>\n",
       "      <td>Taunt</td>\n",
       "      <td>Satyr</td>\n",
       "      <td>type1</td>\n",
       "      <td>Dying</td>\n",
       "      <td>combination4</td>\n",
       "    </tr>\n",
       "  </tbody>\n",
       "</table>\n",
       "</div>"
      ],
      "text/plain": [
       "  actor_name actor_type actor_action reactor_name reactor_type reactor_action  \\\n",
       "0      Satyr      type1    Attacking        Satyr        type1          Dying   \n",
       "1      Satyr      type1    Attacking        Satyr        type1           Hurt   \n",
       "2      Satyr      type1    Attacking        Satyr        type1           Idle   \n",
       "3      Satyr      type1    Attacking        Satyr        type1      Attacking   \n",
       "4      Satyr      type1        Taunt        Satyr        type1          Dying   \n",
       "\n",
       "       img_name  \n",
       "0  combination0  \n",
       "1  combination1  \n",
       "2  combination2  \n",
       "3  combination3  \n",
       "4  combination4  "
      ]
     },
     "execution_count": 6,
     "metadata": {},
     "output_type": "execute_result"
    }
   ],
   "source": [
    "df.head()"
   ]
  },
  {
   "cell_type": "code",
   "execution_count": 8,
   "metadata": {},
   "outputs": [],
   "source": [
    "df.columns = [\"AC\", \"AT\", \"AACT\", \"RC\", \"RT\", \"RRCT\", \"img_name\"]"
   ]
  },
  {
   "cell_type": "markdown",
   "metadata": {},
   "source": [
    "### Probability of the characters being an actor (0.5, 0.5)"
   ]
  },
  {
   "cell_type": "code",
   "execution_count": 12,
   "metadata": {},
   "outputs": [
    {
     "data": {
      "text/plain": [
       "0.5"
      ]
     },
     "execution_count": 12,
     "metadata": {},
     "output_type": "execute_result"
    }
   ],
   "source": [
    "df[df.actor_name==\"Satyr\"].shape[0]/df.shape[0]"
   ]
  },
  {
   "cell_type": "code",
   "execution_count": 13,
   "metadata": {},
   "outputs": [
    {
     "data": {
      "text/plain": [
       "0.5"
      ]
     },
     "execution_count": 13,
     "metadata": {},
     "output_type": "execute_result"
    }
   ],
   "source": [
    "df[df.actor_name==\"Golem\"].shape[0]/df.shape[0]"
   ]
  },
  {
   "cell_type": "markdown",
   "metadata": {},
   "source": [
    "### Probability of the characters being a reactor (0.5, 0.5)"
   ]
  },
  {
   "cell_type": "code",
   "execution_count": 14,
   "metadata": {},
   "outputs": [
    {
     "data": {
      "text/plain": [
       "0.5"
      ]
     },
     "execution_count": 14,
     "metadata": {},
     "output_type": "execute_result"
    }
   ],
   "source": [
    "df[df.reactor_name==\"Satyr\"].shape[0]/df.shape[0]"
   ]
  },
  {
   "cell_type": "code",
   "execution_count": 15,
   "metadata": {},
   "outputs": [
    {
     "data": {
      "text/plain": [
       "0.5"
      ]
     },
     "execution_count": 15,
     "metadata": {},
     "output_type": "execute_result"
    }
   ],
   "source": [
    "df[df.reactor_name==\"Golem\"].shape[0]/df.shape[0]"
   ]
  },
  {
   "cell_type": "markdown",
   "metadata": {},
   "source": [
    "### Probability of actor type given actor character"
   ]
  },
  {
   "cell_type": "code",
   "execution_count": 27,
   "metadata": {},
   "outputs": [],
   "source": [
    "def conditional_prob_type(df, condition_val,query_val, is_actor=True):\n",
    "    if is_actor:\n",
    "        condition_key = \"actor_name\"\n",
    "        type_key = \"actor_type\"\n",
    "    else:\n",
    "        condition_key = \"reactor_name\"\n",
    "        type_key = \"reactor_type\"\n",
    "    \n",
    "    filter_df = df[df[condition_key]==condition_val]\n",
    "    return df[df[type_key]==query_val].shape[0]/filter_df.shape[0]\n",
    "    "
   ]
  },
  {
   "cell_type": "code",
   "execution_count": 30,
   "metadata": {},
   "outputs": [
    {
     "data": {
      "text/plain": [
       "0.3333333333333333"
      ]
     },
     "execution_count": 30,
     "metadata": {},
     "output_type": "execute_result"
    }
   ],
   "source": [
    "conditional_prob_type(df, \"Satyr\", \"satyr1\") # probability of type being satyr1 given that the character is Satyr"
   ]
  },
  {
   "cell_type": "code",
   "execution_count": 9,
   "metadata": {},
   "outputs": [
    {
     "data": {
      "text/plain": [
       "32"
      ]
     },
     "execution_count": 9,
     "metadata": {},
     "output_type": "execute_result"
    }
   ],
   "source": []
  },
  {
   "cell_type": "code",
   "execution_count": null,
   "metadata": {},
   "outputs": [],
   "source": []
  }
 ],
 "metadata": {
  "kernelspec": {
   "display_name": "Python 3",
   "language": "python",
   "name": "python3"
  },
  "language_info": {
   "codemirror_mode": {
    "name": "ipython",
    "version": 3
   },
   "file_extension": ".py",
   "mimetype": "text/x-python",
   "name": "python",
   "nbconvert_exporter": "python",
   "pygments_lexer": "ipython3",
   "version": "3.6.10"
  }
 },
 "nbformat": 4,
 "nbformat_minor": 2
}
