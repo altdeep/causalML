{
  "nbformat": 4,
  "nbformat_minor": 0,
  "metadata": {
    "colab": {
      "name": "GameCharacter_ImageClassification.ipynb",
      "provenance": [],
      "collapsed_sections": [],
      "include_colab_link": true
    },
    "kernelspec": {
      "name": "python3",
      "display_name": "Python 3"
    }
  },
  "cells": [
    {
      "cell_type": "markdown",
      "metadata": {
        "id": "view-in-github",
        "colab_type": "text"
      },
      "source": [
        "<a href=\"https://colab.research.google.com/github/mancunian1792/causal_scene_generation/blob/master/causal_model/game_characters/GameCharacter_ImageClassification.ipynb\" target=\"_parent\"><img src=\"https://colab.research.google.com/assets/colab-badge.svg\" alt=\"Open In Colab\"/></a>"
      ]
    },
    {
      "cell_type": "code",
      "metadata": {
        "id": "6kk6pcaaXAyw",
        "colab_type": "code",
        "colab": {
          "base_uri": "https://localhost:8080/",
          "height": 128
        },
        "outputId": "fd948b7e-377d-4fc8-9525-4939013ffd42"
      },
      "source": [
        "from google.colab import drive\n",
        "\n",
        "drive.mount(\"/content/gdrive\", force_remount=True)\n",
        "\n"
      ],
      "execution_count": null,
      "outputs": [
        {
          "output_type": "stream",
          "text": [
            "Go to this URL in a browser: https://accounts.google.com/o/oauth2/auth?client_id=947318989803-6bn6qk8qdgf4n4g3pfee6491hc0brc4i.apps.googleusercontent.com&redirect_uri=urn%3aietf%3awg%3aoauth%3a2.0%3aoob&response_type=code&scope=email%20https%3a%2f%2fwww.googleapis.com%2fauth%2fdocs.test%20https%3a%2f%2fwww.googleapis.com%2fauth%2fdrive%20https%3a%2f%2fwww.googleapis.com%2fauth%2fdrive.photos.readonly%20https%3a%2f%2fwww.googleapis.com%2fauth%2fpeopleapi.readonly\n",
            "\n",
            "Enter your authorization code:\n",
            "··········\n",
            "Mounted at /content/gdrive\n"
          ],
          "name": "stdout"
        }
      ]
    },
    {
      "cell_type": "code",
      "metadata": {
        "id": "AiY7ioW9bLCk",
        "colab_type": "code",
        "colab": {
          "base_uri": "https://localhost:8080/",
          "height": 35
        },
        "outputId": "464c38af-c03e-4ffc-896a-2e9df975599c"
      },
      "source": [
        "import keras\n",
        "from keras.models import Sequential\n",
        "from keras.layers import Dense, Dropout, Flatten\n",
        "from keras.layers import Conv2D, MaxPooling2D\n",
        "from keras.utils import to_categorical\n",
        "from keras.preprocessing import image\n",
        "import numpy as np\n",
        "import pandas as pd\n",
        "import matplotlib.pyplot as plt\n",
        "from sklearn.model_selection import train_test_split\n",
        "from keras.utils import to_categorical\n",
        "from tqdm import tqdm\n",
        "from skimage.transform import rotate\n",
        "from skimage.util import random_noise\n",
        "from skimage.filters import gaussian"
      ],
      "execution_count": null,
      "outputs": [
        {
          "output_type": "stream",
          "text": [
            "Using TensorFlow backend.\n"
          ],
          "name": "stderr"
        }
      ]
    },
    {
      "cell_type": "code",
      "metadata": {
        "id": "J_fsM6F5aaKf",
        "colab_type": "code",
        "colab": {}
      },
      "source": [
        "root_path = 'gdrive/My Drive/causal_scene_generation/game_characters/'"
      ],
      "execution_count": null,
      "outputs": []
    },
    {
      "cell_type": "code",
      "metadata": {
        "id": "ktLdjFTfaI6N",
        "colab_type": "code",
        "colab": {}
      },
      "source": [
        "train_path = root_path + 'train/'\n",
        "test_path = root_path + 'test/'\n",
        "\n",
        "train_images = train_path + 'images/'\n",
        "test_images = test_path + 'images/'\n",
        "train_csv = train_path + 'train.csv'\n",
        "test_csv = test_path + 'test.csv'"
      ],
      "execution_count": null,
      "outputs": []
    },
    {
      "cell_type": "code",
      "metadata": {
        "id": "PH6gg1vuauQM",
        "colab_type": "code",
        "colab": {}
      },
      "source": [
        "def preprocess(imgPath, filePath):\n",
        "  images = []\n",
        "  # Transform each image in the imgPath and add it to the input array\n",
        "  data = pd.read_csv(filePath)\n",
        "\n",
        "  for imgFile in tqdm(data[\"filename\"]):\n",
        "    imgFullPath = imgPath + imgFile + \".png\"\n",
        "    img = image.load_img(imgFullPath, target_size=(400,400,3), grayscale=False)\n",
        "    img = image.img_to_array(img)\n",
        "    img = img/255\n",
        "    images.append(img)\n",
        "  features = np.array(images)\n",
        "\n",
        "  # Get the labels for each \n",
        "  target = data.drop([\"filename\"], axis=1)\n",
        "  return features, target\n"
      ],
      "execution_count": null,
      "outputs": []
    },
    {
      "cell_type": "code",
      "metadata": {
        "id": "EnBqFrbzZHVJ",
        "colab_type": "code",
        "colab": {}
      },
      "source": [
        "def augmentData(features, target):\n",
        "  augmented_features = []\n",
        "  augmented_target = []\n",
        "  for idx in tqdm(range(features.shape[0])):\n",
        "    augmented_features.append(features[idx])\n",
        "    augmented_features.append(rotate(features[idx], angle=45, mode = 'wrap'))\n",
        "    augmented_features.append(np.fliplr(features[idx]))\n",
        "    augmented_features.append(np.flipud(features[idx]))\n",
        "    augmented_features.append(random_noise(features[idx],var=0.2**2))\n",
        "    for i in range(5):\n",
        "      augmented_target.append(target.iloc[idx, :])\n",
        "  return np.asarray(augmented_features), pd.DataFrame(augmented_target, columns= target.columns)"
      ],
      "execution_count": null,
      "outputs": []
    },
    {
      "cell_type": "code",
      "metadata": {
        "id": "UjybJJtdYdP-",
        "colab_type": "code",
        "colab": {
          "base_uri": "https://localhost:8080/",
          "height": 35
        },
        "outputId": "0910971b-280b-462f-ba0e-ac854e1d3c50"
      },
      "source": [
        "x_train, y_train = preprocess(train_images, train_csv)"
      ],
      "execution_count": null,
      "outputs": [
        {
          "output_type": "stream",
          "text": [
            "100%|██████████| 345/345 [01:21<00:00,  4.25it/s]\n"
          ],
          "name": "stderr"
        }
      ]
    },
    {
      "cell_type": "code",
      "metadata": {
        "id": "tdfy03G7Z32K",
        "colab_type": "code",
        "colab": {
          "base_uri": "https://localhost:8080/",
          "height": 35
        },
        "outputId": "ea9c552b-3627-4b59-c012-dc0e14c654da"
      },
      "source": [
        "x_train_augment, y_train_augment = augmentData(x_train, y_train)\n",
        "del x_train, y_train"
      ],
      "execution_count": null,
      "outputs": [
        {
          "output_type": "stream",
          "text": [
            "100%|██████████| 345/345 [00:18<00:00, 19.13it/s]\n"
          ],
          "name": "stderr"
        }
      ]
    },
    {
      "cell_type": "code",
      "metadata": {
        "id": "84hk9_FbdqRK",
        "colab_type": "code",
        "colab": {
          "base_uri": "https://localhost:8080/",
          "height": 35
        },
        "outputId": "3f74a6d0-798d-4fbe-86bb-80e58f9757f7"
      },
      "source": [
        "x_test, y_test = preprocess(test_images, test_csv)"
      ],
      "execution_count": null,
      "outputs": [
        {
          "output_type": "stream",
          "text": [
            "100%|██████████| 87/87 [00:17<00:00,  5.05it/s]\n"
          ],
          "name": "stderr"
        }
      ]
    },
    {
      "cell_type": "code",
      "metadata": {
        "id": "2qNHkYexvVG5",
        "colab_type": "code",
        "colab": {}
      },
      "source": [
        "x_test, x_validate, y_test, y_validate = train_test_split(x_test, y_test, random_state = 3000, test_size = 0.2)"
      ],
      "execution_count": null,
      "outputs": []
    },
    {
      "cell_type": "code",
      "metadata": {
        "id": "MqJVOKlcey8p",
        "colab_type": "code",
        "colab": {
          "base_uri": "https://localhost:8080/",
          "height": 287
        },
        "outputId": "12d72a46-5fbf-456e-ded1-e0cc82820af8"
      },
      "source": [
        "plt.imshow(x_validate[2])"
      ],
      "execution_count": null,
      "outputs": [
        {
          "output_type": "execute_result",
          "data": {
            "text/plain": [
              "<matplotlib.image.AxesImage at 0x7f70bfa574e0>"
            ]
          },
          "metadata": {
            "tags": []
          },
          "execution_count": 19
        },
        {
          "output_type": "display_data",
          "data": {
            "image/png": "[encoded data removed]",
            "text/plain": [
              "<Figure size 432x288 with 1 Axes>"
            ]
          },
          "metadata": {
            "tags": [],
            "needs_background": "light"
          }
        }
      ]
    },
    {
      "cell_type": "code",
      "metadata": {
        "id": "GjnFGjnl9cn7",
        "colab_type": "code",
        "colab": {}
      },
      "source": [
        "# Size of vector is 64 * 64 * 3 -> resize ((64 *64*3), 1)\n",
        "#  (/255 )\n",
        "\n",
        "# Convert to grayscale.-> \n",
        "\n",
        "# The output shape \n",
        "op_shape = y_train_augment.shape[1]"
      ],
      "execution_count": null,
      "outputs": []
    },
    {
      "cell_type": "code",
      "metadata": {
        "id": "sBlHrGnvfRBu",
        "colab_type": "code",
        "colab": {}
      },
      "source": [
        "model = Sequential()\n",
        "model.add(Conv2D(filters=16, kernel_size=(5, 5), activation=\"relu\", input_shape=(400,400,3)))\n",
        "model.add(MaxPooling2D(pool_size=(2, 2)))\n",
        "model.add(Dropout(0.25))\n",
        "model.add(Conv2D(filters=32, kernel_size=(10, 10), activation='relu'))\n",
        "model.add(MaxPooling2D(pool_size=(2, 2)))\n",
        "model.add(Dropout(0.25))\n",
        "model.add(Conv2D(filters=64, kernel_size=(10, 10), activation=\"relu\"))\n",
        "model.add(MaxPooling2D(pool_size=(2, 2)))\n",
        "model.add(Dropout(0.25))\n",
        "model.add(Conv2D(filters=64, kernel_size=(5, 5), activation='relu'))\n",
        "model.add(MaxPooling2D(pool_size=(2, 2)))\n",
        "model.add(Dropout(0.25))\n",
        "model.add(Flatten())\n",
        "model.add(Dense(128, activation='relu'))\n",
        "model.add(Dropout(0.5))\n",
        "model.add(Dense(64, activation='relu'))\n",
        "model.add(Dropout(0.5))\n",
        "model.add(Dense(op_shape, activation='sigmoid'))"
      ],
      "execution_count": null,
      "outputs": []
    },
    {
      "cell_type": "code",
      "metadata": {
        "id": "SttxbZ6Vfj8k",
        "colab_type": "code",
        "colab": {
          "base_uri": "https://localhost:8080/",
          "height": 817
        },
        "outputId": "79028d8d-03ef-442a-f506-9759d3395e76"
      },
      "source": [
        "model.summary()"
      ],
      "execution_count": null,
      "outputs": [
        {
          "output_type": "stream",
          "text": [
            "Model: \"sequential_1\"\n",
            "_________________________________________________________________\n",
            "Layer (type)                 Output Shape              Param #   \n",
            "=================================================================\n",
            "conv2d_1 (Conv2D)            (None, 396, 396, 16)      1216      \n",
            "_________________________________________________________________\n",
            "max_pooling2d_1 (MaxPooling2 (None, 198, 198, 16)      0         \n",
            "_________________________________________________________________\n",
            "dropout_1 (Dropout)          (None, 198, 198, 16)      0         \n",
            "_________________________________________________________________\n",
            "conv2d_2 (Conv2D)            (None, 189, 189, 32)      51232     \n",
            "_________________________________________________________________\n",
            "max_pooling2d_2 (MaxPooling2 (None, 94, 94, 32)        0         \n",
            "_________________________________________________________________\n",
            "dropout_2 (Dropout)          (None, 94, 94, 32)        0         \n",
            "_________________________________________________________________\n",
            "conv2d_3 (Conv2D)            (None, 85, 85, 64)        204864    \n",
            "_________________________________________________________________\n",
            "max_pooling2d_3 (MaxPooling2 (None, 42, 42, 64)        0         \n",
            "_________________________________________________________________\n",
            "dropout_3 (Dropout)          (None, 42, 42, 64)        0         \n",
            "_________________________________________________________________\n",
            "conv2d_4 (Conv2D)            (None, 38, 38, 64)        102464    \n",
            "_________________________________________________________________\n",
            "max_pooling2d_4 (MaxPooling2 (None, 19, 19, 64)        0         \n",
            "_________________________________________________________________\n",
            "dropout_4 (Dropout)          (None, 19, 19, 64)        0         \n",
            "_________________________________________________________________\n",
            "flatten_1 (Flatten)          (None, 23104)             0         \n",
            "_________________________________________________________________\n",
            "dense_1 (Dense)              (None, 128)               2957440   \n",
            "_________________________________________________________________\n",
            "dropout_5 (Dropout)          (None, 128)               0         \n",
            "_________________________________________________________________\n",
            "dense_2 (Dense)              (None, 64)                8256      \n",
            "_________________________________________________________________\n",
            "dropout_6 (Dropout)          (None, 64)                0         \n",
            "_________________________________________________________________\n",
            "dense_3 (Dense)              (None, 23)                1495      \n",
            "=================================================================\n",
            "Total params: 3,326,967\n",
            "Trainable params: 3,326,967\n",
            "Non-trainable params: 0\n",
            "_________________________________________________________________\n"
          ],
          "name": "stdout"
        }
      ]
    },
    {
      "cell_type": "code",
      "metadata": {
        "id": "Hk3iiSTqfmfg",
        "colab_type": "code",
        "colab": {}
      },
      "source": [
        "model.compile(optimizer='adam', loss='binary_crossentropy', metrics=['accuracy'])"
      ],
      "execution_count": null,
      "outputs": []
    },
    {
      "cell_type": "code",
      "metadata": {
        "id": "HA6Cz-2jfteB",
        "colab_type": "code",
        "colab": {
          "base_uri": "https://localhost:8080/",
          "height": 417
        },
        "outputId": "1855f5b7-d9b0-4c5b-8c2a-a9961237bdc7"
      },
      "source": [
        "model.fit(x_train_augment, y_train_augment, epochs=10, validation_data=(x_test, y_test), batch_size=64)"
      ],
      "execution_count": null,
      "outputs": [
        {
          "output_type": "stream",
          "text": [
            "Train on 1725 samples, validate on 69 samples\n",
            "Epoch 1/10\n",
            "1725/1725 [==============================] - 1190s 690ms/step - loss: 0.5421 - accuracy: 0.7570 - val_loss: 0.5140 - val_accuracy: 0.8210\n",
            "Epoch 2/10\n",
            "1725/1725 [==============================] - 1184s 687ms/step - loss: 0.5091 - accuracy: 0.7773 - val_loss: 0.4775 - val_accuracy: 0.8242\n",
            "Epoch 3/10\n",
            "1725/1725 [==============================] - 1187s 688ms/step - loss: 0.4734 - accuracy: 0.7948 - val_loss: 0.4355 - val_accuracy: 0.8299\n",
            "Epoch 4/10\n",
            "1725/1725 [==============================] - 1184s 686ms/step - loss: 0.4450 - accuracy: 0.8013 - val_loss: 0.3910 - val_accuracy: 0.8368\n",
            "Epoch 5/10\n",
            "1725/1725 [==============================] - 1184s 686ms/step - loss: 0.4258 - accuracy: 0.8045 - val_loss: 0.3662 - val_accuracy: 0.8355\n",
            "Epoch 6/10\n",
            "1725/1725 [==============================] - 1186s 688ms/step - loss: 0.4101 - accuracy: 0.8098 - val_loss: 0.3813 - val_accuracy: 0.8431\n",
            "Epoch 7/10\n",
            "1725/1725 [==============================] - 1200s 696ms/step - loss: 0.3947 - accuracy: 0.8168 - val_loss: 0.3558 - val_accuracy: 0.8488\n",
            "Epoch 8/10\n",
            "1725/1725 [==============================] - 1190s 690ms/step - loss: 0.3853 - accuracy: 0.8188 - val_loss: 0.3426 - val_accuracy: 0.8494\n",
            "Epoch 9/10\n",
            "1725/1725 [==============================] - 1186s 688ms/step - loss: 0.3756 - accuracy: 0.8231 - val_loss: 0.3270 - val_accuracy: 0.8557\n",
            "Epoch 10/10\n",
            "1725/1725 [==============================] - 1188s 689ms/step - loss: 0.3648 - accuracy: 0.8287 - val_loss: 0.3264 - val_accuracy: 0.8563\n"
          ],
          "name": "stdout"
        },
        {
          "output_type": "execute_result",
          "data": {
            "text/plain": [
              "<keras.callbacks.callbacks.History at 0x7f70b93dc780>"
            ]
          },
          "metadata": {
            "tags": []
          },
          "execution_count": 26
        }
      ]
    },
    {
      "cell_type": "code",
      "metadata": {
        "id": "NvY_yV9QlTMj",
        "colab_type": "code",
        "colab": {}
      },
      "source": [
        "model.save(root_path+\"model-both-images.hdf5\")"
      ],
      "execution_count": null,
      "outputs": []
    },
    {
      "cell_type": "code",
      "metadata": {
        "id": "IZSIb15Hf0cT",
        "colab_type": "code",
        "colab": {}
      },
      "source": [
        "prediction = model.predict(x_validate)"
      ],
      "execution_count": null,
      "outputs": []
    },
    {
      "cell_type": "code",
      "metadata": {
        "id": "65ioNud_ltc9",
        "colab_type": "code",
        "colab": {
          "base_uri": "https://localhost:8080/",
          "height": 108
        },
        "outputId": "3597f581-2aaa-4e28-9bff-cdea17440d0d"
      },
      "source": [
        "prediction[0]"
      ],
      "execution_count": null,
      "outputs": [
        {
          "output_type": "execute_result",
          "data": {
            "text/plain": [
              "array([0.05412871, 0.9452934 , 0.0415864 , 0.04666784, 0.05643195,\n",
              "       0.36952862, 0.4217787 , 0.32277754, 0.24282143, 0.39766943,\n",
              "       0.44778284, 0.96283925, 0.03289306, 0.37926552, 0.2857697 ,\n",
              "       0.40201467, 0.02193752, 0.03831947, 0.0361236 , 0.30381364,\n",
              "       0.27687413, 0.39059502, 0.21380812], dtype=float32)"
            ]
          },
          "metadata": {
            "tags": []
          },
          "execution_count": 34
        }
      ]
    },
    {
      "cell_type": "code",
      "metadata": {
        "id": "VEWZJ9TVmKJW",
        "colab_type": "code",
        "colab": {}
      },
      "source": [
        "del x_train_augment, y_train_augment, x_test, y_test"
      ],
      "execution_count": null,
      "outputs": []
    },
    {
      "cell_type": "markdown",
      "metadata": {
        "id": "bYNnrZm1ZXK8",
        "colab_type": "text"
      },
      "source": [
        "### Attempt 2 - Image Classification\n",
        "This time, i am splitting the images and modify the labels. The image classification will try to predict the entity (actor/reactor), character(satyr/golem), type(1/2/3) and entity_doing (action/reaction) and entity_doing_type(Idle/Attacking/Hurt/Die/Walking/Taunt)"
      ]
    },
    {
      "cell_type": "code",
      "metadata": {
        "id": "OEWtDiQ8afIi",
        "colab_type": "code",
        "colab": {}
      },
      "source": [
        "# Modify the labels (Do - encoding)\n",
        "splits_path = root_path + 'splits/'\n",
        "splits_images = splits_path + 'images/'\n",
        "splits_dataset = splits_path + 'split_dataset.csv'"
      ],
      "execution_count": null,
      "outputs": []
    },
    {
      "cell_type": "code",
      "metadata": {
        "id": "N4KqB2IBaj8J",
        "colab_type": "code",
        "colab": {}
      },
      "source": [
        "df = pd.read_csv(splits_dataset)"
      ],
      "execution_count": null,
      "outputs": []
    },
    {
      "cell_type": "code",
      "metadata": {
        "id": "xO4qj29tcCF4",
        "colab_type": "code",
        "colab": {}
      },
      "source": [
        "df[\"type\"] = df.type.str.extract('(\\d+)')"
      ],
      "execution_count": null,
      "outputs": []
    },
    {
      "cell_type": "code",
      "metadata": {
        "id": "8d9oqvW3bb28",
        "colab_type": "code",
        "colab": {}
      },
      "source": [
        "images = df[\"img_name\"]\n",
        "target = df.drop([\"img_name\"], axis=1)\n",
        "target = pd.get_dummies(target)"
      ],
      "execution_count": null,
      "outputs": []
    },
    {
      "cell_type": "code",
      "metadata": {
        "id": "0T2oMqBFdY-H",
        "colab_type": "code",
        "colab": {}
      },
      "source": [
        "def processSplitImages(imgPath, filenames):\n",
        "  images_data = []\n",
        "  for img in tqdm(filenames):\n",
        "    imgFullPath = imgPath + img + \".png\"\n",
        "    img = image.load_img(imgFullPath, target_size=(400,400,3), grayscale=False)\n",
        "    img = image.img_to_array(img)\n",
        "    img = img/255\n",
        "    images_data.append(img)\n",
        "  features = np.array(images_data)\n",
        "  return features"
      ],
      "execution_count": null,
      "outputs": []
    },
    {
      "cell_type": "code",
      "metadata": {
        "id": "xTQdxuLaeL7D",
        "colab_type": "code",
        "colab": {
          "base_uri": "https://localhost:8080/",
          "height": 35
        },
        "outputId": "ef6bdb0c-c1ab-4815-a51e-d102d4783424"
      },
      "source": [
        "img_features = processSplitImages(splits_images, images)"
      ],
      "execution_count": null,
      "outputs": [
        {
          "output_type": "stream",
          "text": [
            "100%|██████████| 864/864 [05:21<00:00,  2.68it/s]\n"
          ],
          "name": "stderr"
        }
      ]
    },
    {
      "cell_type": "code",
      "metadata": {
        "id": "Y0KyPex4eStF",
        "colab_type": "code",
        "colab": {}
      },
      "source": [
        "# Split into train and test . And then augment the train data.\n",
        "features_train, features_test, target_train, target_test = train_test_split(img_features, target, stratify=target, test_size=0.2)\n",
        "del img_features, target"
      ],
      "execution_count": null,
      "outputs": []
    },
    {
      "cell_type": "code",
      "metadata": {
        "id": "kHikuK_QgQwJ",
        "colab_type": "code",
        "colab": {
          "base_uri": "https://localhost:8080/",
          "height": 35
        },
        "outputId": "6edd4e34-b8ed-4ef9-ec31-0cce8bd9f7e7"
      },
      "source": [
        "# Augmenting train data -> Not able to allocate enough RAM\n",
        "#feature_train_augmented, target_augmented = augmentData(features_train, target_train)"
      ],
      "execution_count": null,
      "outputs": [
        {
          "output_type": "stream",
          "text": [
            "100%|██████████| 691/691 [00:38<00:00, 17.82it/s]\n"
          ],
          "name": "stderr"
        }
      ]
    },
    {
      "cell_type": "code",
      "metadata": {
        "id": "I7I7yVeknFUT",
        "colab_type": "code",
        "colab": {}
      },
      "source": [
        "op_shape = target_train.shape[1]"
      ],
      "execution_count": null,
      "outputs": []
    },
    {
      "cell_type": "code",
      "metadata": {
        "id": "iPlprGpggkYD",
        "colab_type": "code",
        "colab": {}
      },
      "source": [
        "model = Sequential()\n",
        "model.add(Conv2D(filters=16, kernel_size=(5, 5), activation=\"relu\", input_shape=(400,400,3)))\n",
        "model.add(MaxPooling2D(pool_size=(2, 2)))\n",
        "model.add(Dropout(0.25))\n",
        "model.add(Conv2D(filters=32, kernel_size=(10, 10), activation='relu'))\n",
        "model.add(MaxPooling2D(pool_size=(2, 2)))\n",
        "model.add(Dropout(0.25))\n",
        "model.add(Conv2D(filters=64, kernel_size=(10, 10), activation=\"relu\"))\n",
        "model.add(MaxPooling2D(pool_size=(2, 2)))\n",
        "model.add(Dropout(0.25))\n",
        "model.add(Conv2D(filters=64, kernel_size=(5, 5), activation='relu'))\n",
        "model.add(MaxPooling2D(pool_size=(2, 2)))\n",
        "model.add(Dropout(0.25))\n",
        "model.add(Flatten())\n",
        "model.add(Dense(128, activation='relu'))\n",
        "model.add(Dropout(0.5))\n",
        "model.add(Dense(64, activation='relu'))\n",
        "model.add(Dropout(0.5))\n",
        "model.add(Dense(op_shape, activation='sigmoid'))"
      ],
      "execution_count": null,
      "outputs": []
    },
    {
      "cell_type": "code",
      "metadata": {
        "id": "YSciNFsAnhdC",
        "colab_type": "code",
        "colab": {}
      },
      "source": [
        "model.compile(optimizer='adam', loss='binary_crossentropy', metrics=['accuracy'])"
      ],
      "execution_count": null,
      "outputs": []
    },
    {
      "cell_type": "code",
      "metadata": {
        "id": "vF2_lWqGnjaF",
        "colab_type": "code",
        "colab": {
          "base_uri": "https://localhost:8080/",
          "height": 781
        },
        "outputId": "c3fcd632-2442-44da-f440-e26c840629bc"
      },
      "source": [
        "from keras.callbacks import ModelCheckpoint\n",
        "\n",
        "filepath=root_path + \"weights-{epoch:02d}-{val_accuracy:.3f}.hdf5\"\n",
        "checkpoint = ModelCheckpoint(filepath, monitor='val_accuracy',\n",
        "                               verbose=1, mode='max')\n",
        "\n",
        "callbacks_list = [checkpoint]\n",
        "model.fit(features_train, target_train, epochs=10, validation_data=(features_test, target_test), batch_size=64, callbacks=callbacks_list)"
      ],
      "execution_count": null,
      "outputs": [
        {
          "output_type": "stream",
          "text": [
            "Train on 691 samples, validate on 173 samples\n",
            "Epoch 1/10\n",
            "691/691 [==============================] - 511s 739ms/step - loss: 0.6233 - accuracy: 0.6616 - val_loss: 0.6088 - val_accuracy: 0.8224\n",
            "\n",
            "Epoch 00001: saving model to gdrive/My Drive/causal_scene_generation/game_characters/weights-01-0.822.hdf5\n",
            "Epoch 2/10\n",
            "691/691 [==============================] - 507s 733ms/step - loss: 0.5335 - accuracy: 0.7487 - val_loss: 0.4891 - val_accuracy: 0.8482\n",
            "\n",
            "Epoch 00002: saving model to gdrive/My Drive/causal_scene_generation/game_characters/weights-02-0.848.hdf5\n",
            "Epoch 3/10\n",
            "691/691 [==============================] - 503s 727ms/step - loss: 0.4832 - accuracy: 0.7785 - val_loss: 0.4509 - val_accuracy: 0.8647\n",
            "\n",
            "Epoch 00003: saving model to gdrive/My Drive/causal_scene_generation/game_characters/weights-03-0.865.hdf5\n",
            "Epoch 4/10\n",
            "691/691 [==============================] - 504s 729ms/step - loss: 0.4373 - accuracy: 0.8068 - val_loss: 0.4061 - val_accuracy: 0.8844\n",
            "\n",
            "Epoch 00004: saving model to gdrive/My Drive/causal_scene_generation/game_characters/weights-04-0.884.hdf5\n",
            "Epoch 5/10\n",
            "691/691 [==============================] - 501s 725ms/step - loss: 0.3986 - accuracy: 0.8206 - val_loss: 0.3359 - val_accuracy: 0.9017\n",
            "\n",
            "Epoch 00005: saving model to gdrive/My Drive/causal_scene_generation/game_characters/weights-05-0.902.hdf5\n",
            "Epoch 6/10\n",
            "691/691 [==============================] - 500s 723ms/step - loss: 0.3721 - accuracy: 0.8337 - val_loss: 0.2794 - val_accuracy: 0.9110\n",
            "\n",
            "Epoch 00006: saving model to gdrive/My Drive/causal_scene_generation/game_characters/weights-06-0.911.hdf5\n",
            "Epoch 7/10\n",
            "691/691 [==============================] - 496s 718ms/step - loss: 0.3321 - accuracy: 0.8546 - val_loss: 0.2288 - val_accuracy: 0.9175\n",
            "\n",
            "Epoch 00007: saving model to gdrive/My Drive/causal_scene_generation/game_characters/weights-07-0.918.hdf5\n",
            "Epoch 8/10\n",
            "691/691 [==============================] - 496s 717ms/step - loss: 0.3238 - accuracy: 0.8553 - val_loss: 0.2294 - val_accuracy: 0.9299\n",
            "\n",
            "Epoch 00008: saving model to gdrive/My Drive/causal_scene_generation/game_characters/weights-08-0.930.hdf5\n",
            "Epoch 9/10\n",
            "691/691 [==============================] - 494s 715ms/step - loss: 0.2962 - accuracy: 0.8682 - val_loss: 0.2043 - val_accuracy: 0.9403\n",
            "\n",
            "Epoch 00009: saving model to gdrive/My Drive/causal_scene_generation/game_characters/weights-09-0.940.hdf5\n",
            "Epoch 10/10\n",
            "691/691 [==============================] - 496s 718ms/step - loss: 0.2761 - accuracy: 0.8753 - val_loss: 0.1933 - val_accuracy: 0.9538\n",
            "\n",
            "Epoch 00010: saving model to gdrive/My Drive/causal_scene_generation/game_characters/weights-10-0.954.hdf5\n"
          ],
          "name": "stdout"
        },
        {
          "output_type": "execute_result",
          "data": {
            "text/plain": [
              "<keras.callbacks.callbacks.History at 0x7f1266416390>"
            ]
          },
          "metadata": {
            "tags": []
          },
          "execution_count": 14
        }
      ]
    },
    {
      "cell_type": "code",
      "metadata": {
        "id": "EKVg7bhmoZ3S",
        "colab_type": "code",
        "colab": {}
      },
      "source": [
        ""
      ],
      "execution_count": null,
      "outputs": []
    }
  ]
}