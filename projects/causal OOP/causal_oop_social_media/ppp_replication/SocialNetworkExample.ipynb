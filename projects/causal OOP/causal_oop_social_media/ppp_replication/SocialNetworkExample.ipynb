{
 "cells": [
  {
   "cell_type": "markdown",
   "metadata": {},
   "source": [
    "# Object Oriented Probabilistic Programming in Pyro"
   ]
  },
  {
   "cell_type": "markdown",
   "metadata": {},
   "source": [
    "### Introduction\n",
    "\n",
    "#### Why do we need Object Oriented Probabilistic Models ?\n",
    "\n",
    "The causal scene generation project involves generating 2D images from natural language where the causal model describes the relationship between the entities in the caption. Flickr8k dataset contains captions and the corresponding images. Using these captions, along with the causal model, we can probabilistically reason the following:\n",
    "\n",
    "**Caption: A girl is going to a wooden building.**\n",
    "\n",
    "\n",
    "\n",
    "![girl-walking](./pictures/stock1.jpg)\n",
    "\n"
   ]
  },
  {
   "cell_type": "markdown",
   "metadata": {},
   "source": [
    "**Question: Had a boy been walking, would he still be going towards a wooden building?**"
   ]
  },
  {
   "cell_type": "markdown",
   "metadata": {},
   "source": [
    "![boy-walking](./pictures/stock2.jpg)"
   ]
  },
  {
   "cell_type": "markdown",
   "metadata": {},
   "source": [
    "In order to achieve this, we first need to model our real world concepts as entities so that we can translate them into object-oriented programming language. For example, in our cases we need to have classes for A girl and A boy (The Entities),  A building (The environment), and class for action (walking, running etc) for all the entities (Action).\n",
    "\n",
    "Object-oriented programming (OOP) has been around since the 70s[[1](https://en.wikipedia.org/wiki/Object-oriented_programming)].However, OOP is not prevalent in the probabilistic programming (PP) community. At the time of this writing, there is no OO probabilistic programming support in Python. In this tutorial, we attempt to model our domain entities as Python objects and then perform causal inference on them using Pyro.\n"
   ]
  },
  {
   "cell_type": "code",
   "execution_count": 1,
   "metadata": {},
   "outputs": [],
   "source": [
    "import abc\n",
    "import random\n",
    "import itertools\n",
    "import sqlite3\n",
    "import numpy as np\n",
    "import matplotlib.pyplot as plt\n",
    "\n",
    "import torch\n",
    "import pyro\n",
    "import pyro.distributions as dist\n",
    "\n",
    "pyro.set_rng_seed(101)\n",
    "sqlite_file = './data/SocialNetwork'\n",
    "conn = sqlite3.connect(sqlite_file)"
   ]
  },
  {
   "cell_type": "markdown",
   "metadata": {},
   "source": [
    "### Social Media Class Entity Diagram\n",
    "![Social Media Relationship](./pictures/social_media_diagram.jpg)"
   ]
  },
  {
   "cell_type": "markdown",
   "metadata": {},
   "source": [
    "### Interpretation\n",
    "\n",
    "1. The classes are represented in the `rectangle` boxes.\n",
    "2. Attributes represented within in the `oval` are Random Variables. For Person, the interest could be Politics or Sports in our case.\n",
    "3. Thick arrows show probabilistic dependencies. Post.Topic depends on Person.Interest and so on.\n",
    "4. Dashed line shows asymmetric dependency .Eg, Comment.match (Boolean Random Variable) and Connection.Type (Family/Friend/Acquintance) which explains the asymmetric dependency between Comment.Post.poster and Comment.Commenter.\n"
   ]
  },
  {
   "cell_type": "markdown",
   "metadata": {},
   "source": [
    "### Model Schema in Database\n",
    "\n",
    "![Class-Diagram](./pictures/class_diagram.png)\n",
    "\n",
    "#### NOTE: Although, it is represented as ids, we need the Primary keys and Foreign keys to have the value as \n",
    "\n",
    "#### `TABLE_NAME+FK/PK_ID`. Hence, postId in comment table would  have the value post1 or post2 etc."
   ]
  },
  {
   "cell_type": "markdown",
   "metadata": {},
   "source": [
    "### Implementation\n",
    "\n",
    "The notebook provides an example of object oriented probabilistic programming in pyro using an example of a social media which has classes defined for people, posts, connections and comments. Furthermore, it also shows a way to read in data from a knowledge base, here we are using sqlite. \n",
    "\n",
    "The key ideas introduced in this approach are:\n",
    "- Using unique ID's read from the knowledge base to create persistent trace objects accross model runs. \n",
    "- Creating observe and infer abstarct methods for each class to provide an interface to set value for a instance of an object and to infer a particular value for an instance\n",
    "- The idea of a Universe class (here it is SocialMedia) which contains the CPT's and provides and an interface between conditions on individual class instances and pyro's condition and intervention functions. "
   ]
  },
  {
   "cell_type": "code",
   "execution_count": 2,
   "metadata": {},
   "outputs": [],
   "source": [
    "class SocialMedia(metaclass=abc.ABCMeta):\n",
    "    \"\"\"\n",
    "    The SocialMedia class is not one of the entities we model in our domain. It serves as a convenient \n",
    "    meta class to capture the probabilities for the random variables in the inheriting class, abstract methods \n",
    "    to be implemented by the inheriting class and utility methods shared by the inheriting class. All the domain \n",
    "    entities inherit the SocialMedia class.\n",
    "    \"\"\"\n",
    "    \n",
    "    # Values the random variables can take\n",
    "    values = {\n",
    "        'interest': ['sports', 'politics'], \n",
    "        'topic': ['sports', 'politics'],\n",
    "        'connection': ['family', 'close friend', 'acquintance'],\n",
    "        'match': ['no', 'yes'],\n",
    "    }\n",
    "    \n",
    "    # Conditional probability tables\n",
    "    cpts = {\n",
    "        'interest': torch.tensor([.5, .5]), \n",
    "        'topic': torch.tensor([[.9, .1], [.1, .9]]),\n",
    "        'connection': torch.tensor([1/3, 1/3, 1/3]),\n",
    "        'match': torch.tensor([\n",
    "            [\n",
    "                [[0, 1.], [0, 1.], [0, 1.]], \n",
    "                [[.2, .8], [.5, .5], [.9, .1]],\n",
    "            ],\n",
    "            [\n",
    "                [[.2, .8], [.5, .5], [.9, .1]],\n",
    "                [[0, 1.], [0, 1.], [0, 1.]],\n",
    "            ],\n",
    "            \n",
    "        ]),\n",
    "    }\n",
    "    \n",
    "    # Dictionary containing the connections sampled in the current model run\n",
    "    existing_connections = dict()\n",
    "    \n",
    "    @abc.abstractmethod\n",
    "    def observe(self):\n",
    "        \"\"\"\n",
    "        Abstract method to make sure subclasses implement the observe function which allows the user \n",
    "        to set evidence pertaining to a class instance. \n",
    "        \"\"\"\n",
    "        pass\n",
    "    \n",
    "    @abc.abstractmethod\n",
    "    def infer(self):\n",
    "        \"\"\"\n",
    "        Abstract method to make sure subclasses implement the infer function which allows the user \n",
    "        infer a particular value for a class instance.\n",
    "        \"\"\"\n",
    "        pass\n",
    "    \n",
    "    @staticmethod\n",
    "    def evidence(conditions):\n",
    "        \"\"\"\n",
    "        Forms a dictionary to be passed to pyro from a list of conditions formed by calling\n",
    "        the observe function of each class object with the given observation. \n",
    "        \n",
    "        :param list(dict) conditions: List of dictionaries, each dictionary having key as the \n",
    "            trace object related to the class object and its observed value.\n",
    "        \n",
    "        :return: Dictionary where the keys are trace objects and values are the observed values. \n",
    "        :rtype: dict(str, torch.tesnor)\n",
    "        \"\"\"\n",
    "        \n",
    "        cond_dict = {}\n",
    "        for c in conditions:\n",
    "            cond_dict[list(c.keys())[0]] = list(c.values())[0]\n",
    "        \n",
    "        return cond_dict\n",
    "    \n",
    "    @staticmethod\n",
    "    def condition(model, evidence, infer, val, num_samples = 1000):\n",
    "        \"\"\"\n",
    "        Uses pyro condition function with importance sampling to get the conditional probability \n",
    "        of a particular value for the random variable under inference. \n",
    "        \n",
    "        :param func model: Probabilistic model defined with pyro sample methods.\n",
    "        :param dict(str, torch.tensor) evidence: Dictionary with trace objects and their observed values.\n",
    "        :param str infer: Trace object which needs to be inferred.\n",
    "        :param int val: Value of the trace object for which the probabilities are required.\n",
    "        :param int num_samples: Number of samples to run the inference alogrithm.\n",
    "        \n",
    "        :return: Probability of trace object being the value provided.\n",
    "        :rtype: int\n",
    "        \"\"\"\n",
    "        \n",
    "        conditioned_model = pyro.condition(model, data = evidence)\n",
    "        posterior = pyro.infer.Importance(conditioned_model, num_samples=num_samples).run()\n",
    "        marginal = pyro.infer.EmpiricalMarginal(posterior, infer)\n",
    "        samples = np.array([marginal().item() for _ in range(num_samples)])\n",
    "        \n",
    "        return sum([1 for s in samples if s.item() == val])/num_samples\n",
    "    \n",
    "    @staticmethod\n",
    "    def intervention(model, evidence, infer, val, num_samples = 1000):\n",
    "        \"\"\"\n",
    "        Uses pyro condition function with importance sampling to get the intervention probability \n",
    "        of a particular value for the random variable under inference.\n",
    "        \n",
    "        :param func model: Probabilistic model defined with pyro sample methods.\n",
    "        :param dict(str, torch.tensor) evidence: Dictionary with trace objects and their observed values.\n",
    "        :param str infer: Trace object which needs to be inferred.\n",
    "        :param int val: Value of the trace object for which the probabilities are required.\n",
    "        :param int num_samples: Number of samples to run the inference alogrithm.\n",
    "        \n",
    "        :return: Probability of trace object being the value provided.\n",
    "        :rtype: int\n",
    "        \"\"\"\n",
    "        \n",
    "        intervention_model = pyro.do(model, data = evidence)\n",
    "        posterior = pyro.infer.Importance(intervention_model, num_samples=num_samples).run()\n",
    "        marginal = pyro.infer.EmpiricalMarginal(posterior, infer)\n",
    "        samples = np.array([marginal().item() for _ in range(num_samples)])\n",
    "        \n",
    "        return sum([1 for s in samples if s.item() == val])/num_samples"
   ]
  },
  {
   "cell_type": "code",
   "execution_count": 3,
   "metadata": {},
   "outputs": [],
   "source": [
    "class Person(SocialMedia):\n",
    "    \"\"\"\n",
    "    Defines a person on the social media. \n",
    "    \n",
    "    Attributes:\n",
    "    - interest: Sampled from uniform distribution over [sports, politics]\n",
    "    \"\"\"\n",
    "    \n",
    "    def __init__(self, iid):\n",
    "        \"\"\"\n",
    "        Creates the trace object for the person and also samples the person's interest\n",
    "        using pyro.\n",
    "        \n",
    "        :param int iid: The unique ID obtained from the knowledge base.\n",
    "        \"\"\"\n",
    "        self.iid = iid\n",
    "        \n",
    "        self.trace_var = 'Interest%d' % (self.iid)\n",
    "        self.interest = pyro.sample(self.trace_var, dist.Categorical(self.cpts['interest']))\n",
    "    \n",
    "    def observe(self, topic):\n",
    "        \"\"\"\n",
    "        Overwrites the :func: `~SocialMedia.observe~` abstract method to set the trace object\n",
    "        of the person's interest to a particular topic.\n",
    "        \n",
    "        :param str topic: The observed topic for the trace object.\n",
    "        \n",
    "        :return: Dictionary containing the trace variable as key and topic as key.\n",
    "        :rtype: dict(str, torch.tensor)\n",
    "        \"\"\"\n",
    "        topic_idx = self.values['interest'].index(topic)\n",
    "        return {self.trace_var: torch.tensor(topic_idx)}\n",
    "    \n",
    "    def infer(self):\n",
    "        \"\"\"\n",
    "        Overwrites the :func: `~SocialMedia.infer~` abstract method to return the trace object\n",
    "        of the person's interest.\n",
    "        \n",
    "        :return: The trace object related to the person's interest. \n",
    "        :rtype: str\n",
    "        \"\"\"\n",
    "        return self.trace_var"
   ]
  },
  {
   "cell_type": "code",
   "execution_count": 4,
   "metadata": {},
   "outputs": [],
   "source": [
    "class Post(SocialMedia):\n",
    "    \"\"\"\n",
    "    Defines a post on the social media. \n",
    "    \n",
    "    Attributes:\n",
    "    - poster: The person who posted the post\n",
    "    - topic: Sampled using pyro based on cpt defined in :class: `~SocialMedia~` based on \n",
    "             poster's interest. \n",
    "    \"\"\"\n",
    "    \n",
    "    def __init__(self, poster, iid):\n",
    "        \"\"\"\n",
    "        Creates the trace object for the post and sample's the post's topic \n",
    "        based on the poster's interest. \n",
    "        \n",
    "        :param Person poster: Person who posted the post. \n",
    "        :param int iid: The unique ID obtained from the knowledge base.\n",
    "        \"\"\"\n",
    "        self.iid = iid\n",
    "        self.poster = poster\n",
    "        \n",
    "        self.trace_var = 'Topic%d' % (self.iid)\n",
    "        self.topic = pyro.sample(self.trace_var, dist.Categorical(self.cpts['topic'][self.poster.interest]))\n",
    "    \n",
    "    def observe(self, topic):\n",
    "        \"\"\"\n",
    "        Overwrites the :func: `~SocialMedia.observe~` abstract method to set the trace object\n",
    "        of the post's topic to a particular topic.\n",
    "        \n",
    "        :param str topic: The observed topic for the trace object.\n",
    "        \n",
    "        :return: Dictionary containing the trace variable as key and topic as key.\n",
    "        :rtype: dict(str, torch.tensor)\n",
    "        \"\"\"\n",
    "        topic_idx = self.values['interest'].index(topic)\n",
    "        return {self.trace_var: torch.tensor(topic_idx)}\n",
    "    \n",
    "    def infer(self):\n",
    "        \"\"\"\n",
    "        Overwrites the :func: `~SocialMedia.infer~` abstract method to return the trace object\n",
    "        of the post's topic.\n",
    "        \n",
    "        :return: The trace object related to the post's topic. \n",
    "        :rtype: str\n",
    "        \"\"\"\n",
    "        return self.trace_var"
   ]
  },
  {
   "cell_type": "code",
   "execution_count": 5,
   "metadata": {},
   "outputs": [],
   "source": [
    "class Connection(SocialMedia):\n",
    "    \"\"\"\n",
    "    Defines the connection between two people on the social network.\n",
    "    \n",
    "    Attributes:\n",
    "    - Person1: First person in the connection\n",
    "    - Person2: Second person in the connection\n",
    "    - connection: Connection type between the two person which is sampled from a uniform distribution\n",
    "                containing ['family', 'close friend', 'acquintance'] using pyro\n",
    "    \"\"\"\n",
    "    \n",
    "    def __init__(self, person1, person2):\n",
    "        \"\"\"\n",
    "        Creates trace object for connection between two people on the social network. Samples the \n",
    "        connection type from a uniform distribution using pyro. \n",
    "        \n",
    "        - The connections in this implementation are asymmetric, i.e Connection(person1, person2) is not the \n",
    "        same as Connection(person2, person1)\n",
    "        - A connection is only sampled once during a single model run. This is done because say we have two posts by person1\n",
    "        and person2 comments on the both posts, we dont want to sample Connection(person1, person2) twice which might \n",
    "        lead to two different connection types between person1 and person2, which doesn't make sense in the real world. \n",
    "        After the connections are sampled for the first time, they are stored in a dictionary and are retrieved from it if \n",
    "        they are needed thereafter. \n",
    "        \n",
    "        :param Person person1: First person involved in the connection\n",
    "        :param Person person2: Second person involved in the connection\n",
    "        \"\"\"\n",
    "        self.person1 = person1\n",
    "        self.person2 = person2 \n",
    "        \n",
    "        self.trace_var = 'Connection%d%d' % (self.person1.iid, self.person2.iid)\n",
    "        \n",
    "        if (self.person1.iid, self.person2.iid) not in self.existing_connections.keys():\n",
    "            self.connection = pyro.sample(self.trace_var, dist.Categorical(self.cpts['connection']))\n",
    "            self.existing_connections[(person1.iid, person2.iid)] = dict()\n",
    "            self.existing_connections[(person1.iid, person2.iid)]['connection'] = self.connection\n",
    "            self.existing_connections[(person1.iid, person2.iid)]['trace_var'] = self.trace_var\n",
    "        else:\n",
    "            self.connection = self.existing_connections[(person1.iid, person2.iid)]['connection']\n",
    "        \n",
    "    def observe(self, connection):\n",
    "        \"\"\"\n",
    "        Overwrites the :func: `~SocialMedia.observe~` abstract method to set the trace object\n",
    "        of the connection to a particular connection type\n",
    "        \n",
    "        :param str connection: Type of connection\n",
    "        \n",
    "        :return: Dictionary containing the trace variable as key and match as key.\n",
    "        :rtype: dict(str, torch.tensor)\n",
    "        \"\"\"\n",
    "        connection_idx = self.values['connection'].index(connection)\n",
    "        return {self.existing_connections[(self.person1.iid, self.person2.iid)]['trace_var']: \\\n",
    "                torch.tensor(connection_idx)}\n",
    "    \n",
    "    def infer(self):\n",
    "        \"\"\"\n",
    "        Overwrites the :func: `~SocialMedia.infer~` abstract method to return the trace object\n",
    "        of the connection type\n",
    "        \n",
    "        :return: The trace object related to the connection type \n",
    "        :rtype: str\n",
    "        \"\"\"\n",
    "        return self.existing_connections[(self.person1.iid, self.person2.iid)]['trace_var']"
   ]
  },
  {
   "cell_type": "code",
   "execution_count": 6,
   "metadata": {},
   "outputs": [],
   "source": [
    "class Comment(SocialMedia):\n",
    "    \"\"\"\n",
    "    Defines a comment on a post on the social media. \n",
    "    \n",
    "    Attributes:\n",
    "    - post: The post to which the comment is related\n",
    "    - commenter: The person who commented on the post\n",
    "    - connection: The connection type between the poster and commenter\n",
    "    - match: Wether the commenter or not. Sampled using cpt present in the :class: `~SocialMedia~`\n",
    "            class using the commenter's interest, post's topic and the connection between the commenter \n",
    "            and poster\n",
    "    \"\"\"\n",
    "    \n",
    "    def __init__(self, post, commenter, iid):\n",
    "        \"\"\"\n",
    "        Creates the trace object for comment and samples wether the commenter \n",
    "        will comment on the post or not.\n",
    "        \n",
    "        Eventhough it may seem that when we create an instance of the Comment class \n",
    "        it should mean that the comment exists, but thats not the case. The `match` attribute \n",
    "        of the class defines wether the comment exists or not. We create these objects so we \n",
    "        can run analysis on the probabilties of someone commenting/not commenting by changing \n",
    "        the value of `match` to either 1 or 0.\n",
    "        \n",
    "        :param Post post: The post to which the comment is related.\n",
    "        :param Person commenter: The person who commented on the post.\n",
    "        :param int iid: The unique ID obtained from the knowledge base.\n",
    "        \"\"\"\n",
    "        self.iid = iid\n",
    "        self.post = post\n",
    "        self.commenter = commenter\n",
    "        self.trace_var = 'Comment%d' % (self.iid)\n",
    "        \n",
    "        self.connection = Connection(self.post.poster, self.commenter).connection\n",
    "        self.match = pyro.sample(self.trace_var, \\\n",
    "                                 dist.Categorical(self.cpts['match'][self.commenter.interest]\\\n",
    "                                                  [self.post.topic][self.connection]))\n",
    "    \n",
    "    def observe(self, match):\n",
    "        \"\"\"\n",
    "        Overwrites the :func: `~SocialMedia.observe~` abstract method to set the trace object\n",
    "        of the comment to wether it is a match or not.\n",
    "        \n",
    "        :param int match: 1 if there is a match, 0 if not.\n",
    "        \n",
    "        :return: Dictionary containing the trace variable as key and match as key.\n",
    "        :rtype: dict(str, torch.tensor)\n",
    "        \"\"\"\n",
    "        return {self.trace_var: torch.tensor(match)}\n",
    "    \n",
    "    def infer(self):\n",
    "        \"\"\"\n",
    "        Overwrites the :func: `~SocialMedia.infer~` abstract method to return the trace object\n",
    "        of the comment's match.\n",
    "        \n",
    "        :return: The trace object related to the comment's match. \n",
    "        :rtype: str\n",
    "        \"\"\"\n",
    "        return self.trace_var"
   ]
  },
  {
   "cell_type": "code",
   "execution_count": 7,
   "metadata": {},
   "outputs": [],
   "source": [
    "def model():\n",
    "    \"\"\"\n",
    "    Defines the pyro model. It creates objects for each of the classes in the social media based on the \n",
    "    knowledge base. \n",
    "    \n",
    "    - The `SocialMedia.existing_connections` are cleared each run as they are used to store connections for a \n",
    "    single run and need to be cleared so they can be samples again for the next run. \n",
    "    - Connection are created between all pairs of people on the social media. This is only sampled once during \n",
    "    the model run and is thereafter read from the dictionary `SocialMedia.existing_connections`. \n",
    "    \"\"\"\n",
    "    SocialMedia.existing_connections = dict()\n",
    "    \n",
    "    persons = conn.execute(\"SELECT * from Persons\")\n",
    "    for person in persons:\n",
    "        globals()[person[1]] = Person(int(person[0]))\n",
    "    \n",
    "    persons = conn.execute(\"SELECT * from Persons\")\n",
    "    for pp in list(itertools.permutations([p[1] for p in persons])):\n",
    "        Connection(globals()[pp[0]], globals()[pp[1]])\n",
    "\n",
    "    posts = conn.execute(\"SELECT * from Posts\")\n",
    "    for post in posts:\n",
    "        globals()[post[1]] = Post(globals()[post[2]], int(post[0]))\n",
    "\n",
    "    comments = conn.execute('SELECT * from Comments')\n",
    "    for comment in comments:\n",
    "        globals()[comment[1]] = Comment(globals()[comment[2]], globals()[comment[3]], int(comment[0]))"
   ]
  },
  {
   "cell_type": "code",
   "execution_count": 8,
   "metadata": {},
   "outputs": [],
   "source": [
    "model()"
   ]
  },
  {
   "cell_type": "markdown",
   "metadata": {},
   "source": [
    "### Sample Data in Database"
   ]
  },
  {
   "cell_type": "markdown",
   "metadata": {},
   "source": [
    "![sample-data](./pictures/table-values.jpg)"
   ]
  },
  {
   "cell_type": "markdown",
   "metadata": {},
   "source": [
    "### DAG Representation\n",
    "\n",
    "![dag-representation](./pictures/dag.png)"
   ]
  },
  {
   "cell_type": "markdown",
   "metadata": {},
   "source": [
    "## Conditioning"
   ]
  },
  {
   "cell_type": "code",
   "execution_count": 9,
   "metadata": {},
   "outputs": [],
   "source": [
    "evidence = SocialMedia.evidence([Post1.observe('politics'), \\\n",
    "                                 Post2.observe('sports'), \\\n",
    "                                 Post3.observe('politics'), \n",
    "                                Comment1.observe(1), \n",
    "                                Comment2.observe(1), \n",
    "                                Comment3.observe(1), \n",
    "                                Comment4.observe(1)])"
   ]
  },
  {
   "cell_type": "code",
   "execution_count": 10,
   "metadata": {},
   "outputs": [
    {
     "name": "stdout",
     "output_type": "stream",
     "text": [
      "Probability Amy's interest is politics = 0.977\n",
      "Probability Brians's interest is politics = 0.175\n",
      "Probability Cheryl's interest is politics = 0.788\n",
      "Probability Brian is Amy's family = 0.604\n",
      "Probability Cheryl is Amy's family = 0.389\n",
      "Probability Cheryl is Brian's family = 0.295\n"
     ]
    }
   ],
   "source": [
    "print(\"Probability Amy's interest is politics = %.3f\" % (SocialMedia.condition(model, evidence, Amy.infer(), 1)))\n",
    "print(\"Probability Brians's interest is politics = %.3f\" % (SocialMedia.condition(model, evidence, Brian.infer(), 1)))\n",
    "print(\"Probability Cheryl's interest is politics = %.3f\" % (SocialMedia.condition(model, evidence, Cheryl.infer(), 1)))\n",
    "print(\"Probability Brian is Amy's family = %.3f\" % (SocialMedia.condition(model, evidence, Connection(Amy, Brian).infer(), 0)))\n",
    "print(\"Probability Cheryl is Amy's family = %.3f\" % (SocialMedia.condition(model, evidence, Connection(Amy, Cheryl).infer(), 0)))\n",
    "print(\"Probability Cheryl is Brian's family = %.3f\" % (SocialMedia.condition(model, evidence, Connection(Brian, Cheryl).infer(), 0)))"
   ]
  },
  {
   "cell_type": "markdown",
   "metadata": {},
   "source": [
    "#### Inference\n",
    "\n",
    "- Amy is most likely to be interested in politics because she’s posted twice on politics. \n",
    "- Cheryl is also likely to be interested in politics, even though she hasn’t posted, because she’s commented on two of Amy’s posts on politics.\n",
    "- Brian, on the other hand, posted on sports, so he’s probably not interested in politics. \n",
    "- On the other hand, Brian commented on one of Amy’s posts on politics, so he’s likely to be Amy’s family, because he’s probably not interested in politics. \n",
    "- Finally, because Cheryl never commented on Brian’s posts, the probability that Cheryl is Brian’s family is the same as it was originally, 1/3."
   ]
  },
  {
   "cell_type": "markdown",
   "metadata": {},
   "source": [
    "## Intervention"
   ]
  },
  {
   "cell_type": "code",
   "execution_count": 11,
   "metadata": {},
   "outputs": [],
   "source": [
    "evidence2 = SocialMedia.evidence([Post1.observe('politics'), \\\n",
    "                                 Post2.observe('sports'), \\\n",
    "                                 Post3.observe('politics')])"
   ]
  },
  {
   "cell_type": "code",
   "execution_count": 12,
   "metadata": {},
   "outputs": [
    {
     "name": "stdout",
     "output_type": "stream",
     "text": [
      "Conditional probability Brian will comment on Amy's first post = 0.498\n",
      "Intervention probability Brian will comment on Amy's first post = 0.703\n"
     ]
    }
   ],
   "source": [
    "print(\"Conditional probability Brian will comment on Amy's first post = %.3f\" %(SocialMedia.condition(model, evidence2, Comment1.infer(), 1)))\n",
    "print(\"Intervention probability Brian will comment on Amy's first post = %.3f\" %(SocialMedia.intervention(model, evidence2, Comment1.infer(), 1)))"
   ]
  },
  {
   "cell_type": "markdown",
   "metadata": {},
   "source": [
    "#### Inference\n",
    "\n",
    "- When we condition, it is highly likely Amy is interested in \"Politics\" and Brian is interested in \"Sports\", therefore the probability of Brian commenting would rely on their connection type\n",
    "$$P(\\text{Brian commenting on Post1 | evidence2}) \\approx (0.33 \\times 0.8) + (0.33 \\times 0.5) + (0.34 \\times 0.1) = 0.463$$\n",
    "\n",
    "- However when we perform the do operation we remove the effect of the person's interest on the topic of the post. Therefore we have no information about Amy or Brian's interest, the probability of Brian commenting will then be\n",
    "$$P(\\text{Brian commenting on Post1 | do(evidence2)}) \\approx (0.5 \\times 1) + 0.5 \\times (0.33 \\times 0.8 + 0.33 \\times 0.5 + 0.34 \\times 0.1) = 0.731$$"
   ]
  },
  {
   "cell_type": "code",
   "execution_count": null,
   "metadata": {},
   "outputs": [],
   "source": []
  }
 ],
 "metadata": {
  "kernelspec": {
   "display_name": "Python 3",
   "language": "python",
   "name": "python3"
  },
  "language_info": {
   "codemirror_mode": {
    "name": "ipython",
    "version": 3
   },
   "file_extension": ".py",
   "mimetype": "text/x-python",
   "name": "python",
   "nbconvert_exporter": "python",
   "pygments_lexer": "ipython3",
   "version": "3.7.6"
  }
 },
 "nbformat": 4,
 "nbformat_minor": 4
}