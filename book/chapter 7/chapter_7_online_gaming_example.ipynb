{
 "cells": [
  {
   "attachments": {},
   "cell_type": "markdown",
   "metadata": {},
   "source": [
    "<h1>Chapter 7 - Interventions and Causal effects <br><sub>Online Gaming Case Study</sub>\n",
    "</h1>\n",
    "\n",
    "The notebook is a code companion to chapter 7 of the book [Causal AI](https://www.manning.com/books/causal-ai) by [Robert Osazuwa Ness](https://www.linkedin.com/in/osazuwa/). View the [book resources](https://www.altdeep.ai/causalaibook) to see other tutorials and book-related links."
   ]
  },
  {
   "cell_type": "code",
   "execution_count": 1,
   "metadata": {
    "colab": {
     "base_uri": "https://localhost:8080/"
    },
    "id": "dHfRCUVXR1Vp",
    "outputId": "1bb45581-7fb4-4e94-fd56-2c5957dbe7c7"
   },
   "outputs": [],
   "source": [
    "# This code works with the following library versions. Older or more recent versions may work as well.\n",
    "#!pip install pyro-ppl==1.9.0\n",
    "#!pip install pandas==2.2.1"
   ]
  },
  {
   "cell_type": "markdown",
   "metadata": {},
   "source": [
    "This tutorial works through the online gaming case study in chapter 7. In this case study, you imagine you are a data scientist at an online role-playing game company. Your leadership wants to know if side-quest engagement (mini-objectives that are tangential to the game's primary objectives) is a driver of in-game purchases of virtual artifacts. If the answer is yes, the company will intervene in the game dynamics such that players engage in more side-quests.\n",
    "\n",
    "We first do a naive correlation analysis on observational <i>observational data</i>. In contrast to <i>experimental data</i>, we call this \"observational data\" because it is logged observations of the natural behavior of players as they log in and play. First, we download the data and generate summary statistics."
   ]
  },
  {
   "cell_type": "code",
   "execution_count": 2,
   "metadata": {
    "colab": {
     "base_uri": "https://localhost:8080/",
     "height": 175
    },
    "id": "TP-bCjzR1TKj",
    "outputId": "3164a12e-3e4a-41ee-9682-b6efb2604857"
   },
   "outputs": [
    {
     "data": {
      "text/html": [
       "<div>\n",
       "<style scoped>\n",
       "    .dataframe tbody tr th:only-of-type {\n",
       "        vertical-align: middle;\n",
       "    }\n",
       "\n",
       "    .dataframe tbody tr th {\n",
       "        vertical-align: top;\n",
       "    }\n",
       "\n",
       "    .dataframe thead tr th {\n",
       "        text-align: left;\n",
       "    }\n",
       "\n",
       "    .dataframe thead tr:last-of-type th {\n",
       "        text-align: right;\n",
       "    }\n",
       "</style>\n",
       "<table border=\"1\" class=\"dataframe\">\n",
       "  <thead>\n",
       "    <tr>\n",
       "      <th></th>\n",
       "      <th colspan=\"3\" halign=\"left\">In-game Purchases</th>\n",
       "    </tr>\n",
       "    <tr>\n",
       "      <th></th>\n",
       "      <th>count</th>\n",
       "      <th>mean</th>\n",
       "      <th>std</th>\n",
       "    </tr>\n",
       "    <tr>\n",
       "      <th>Side-quest Engagement</th>\n",
       "      <th></th>\n",
       "      <th></th>\n",
       "      <th></th>\n",
       "    </tr>\n",
       "  </thead>\n",
       "  <tbody>\n",
       "    <tr>\n",
       "      <th>high</th>\n",
       "      <td>482</td>\n",
       "      <td>111.609461</td>\n",
       "      <td>55.562334</td>\n",
       "    </tr>\n",
       "    <tr>\n",
       "      <th>low</th>\n",
       "      <td>518</td>\n",
       "      <td>73.096371</td>\n",
       "      <td>75.947688</td>\n",
       "    </tr>\n",
       "  </tbody>\n",
       "</table>\n",
       "</div>"
      ],
      "text/plain": [
       "                      In-game Purchases                       \n",
       "                                  count        mean        std\n",
       "Side-quest Engagement                                         \n",
       "high                                482  111.609461  55.562334\n",
       "low                                 518   73.096371  75.947688"
      ]
     },
     "execution_count": 2,
     "metadata": {},
     "output_type": "execute_result"
    }
   ],
   "source": [
    "import pandas as pd\n",
    "import numpy as np\n",
    "df = pd.read_csv(\"https://raw.githubusercontent.com/altdeep/causalML/master/datasets/sidequests_and_purchases_obs.csv\")\n",
    "df.drop('User ID', axis=1).groupby(\n",
    "    [\"Side-quest Engagement\"]\n",
    ").agg(\n",
    "    ['count', 'mean', 'std']\n",
    ")"
   ]
  },
  {
   "cell_type": "markdown",
   "metadata": {
    "id": "UrEdUX4xUxWe"
   },
   "source": [
    "We want to know if there is a significant difference in in-game purchases between players with high side-quest engagement and players with low side-quest engagement. Let's look at the difference in means between the two groups."
   ]
  },
  {
   "cell_type": "code",
   "execution_count": 3,
   "metadata": {
    "colab": {
     "base_uri": "https://localhost:8080/"
    },
    "id": "rkWUiKYuVD8V",
    "outputId": "3937c3fb-89a9-48b0-f291-d7e6b87e7b0a"
   },
   "outputs": [
    {
     "name": "stdout",
     "output_type": "stream",
     "text": [
      "38.513089924542214\n"
     ]
    }
   ],
   "source": [
    "summary = df.drop('User ID', axis=1).groupby(\n",
    "    [\"Side-quest Engagement\"]\n",
    ").agg(\n",
    "    ['count', 'mean', 'std']\n",
    ")\n",
    "\n",
    "m1, m2 = summary['In-game Purchases']['mean']\n",
    "diff = m1 - m2\n",
    "print(diff)"
   ]
  },
  {
   "cell_type": "markdown",
   "metadata": {},
   "source": [
    "The difference is positive, but just to be rigorous, we run a simple statistical test for significance. The following test computes a z-score. We'll conclude the difference is significant if the z-score is more than two standard deviations from the mean (roughly close to a significance level of .05)."
   ]
  },
  {
   "cell_type": "code",
   "execution_count": 4,
   "metadata": {},
   "outputs": [
    {
     "data": {
      "text/plain": [
       "True"
      ]
     },
     "execution_count": 4,
     "metadata": {},
     "output_type": "execute_result"
    }
   ],
   "source": [
    "n1, n2 = summary['In-game Purchases']['count']\n",
    "s1, s2 =  summary['In-game Purchases']['std']\n",
    "pooled_std = (s1**2 / n1 + s2**2 / n2) **.5\n",
    "z_score = diff / pooled_std\n",
    "abs(z_score) > 2."
   ]
  },
  {
   "cell_type": "markdown",
   "metadata": {},
   "source": [
    "The difference is significant.\n",
    "\n",
    "If you reported this result to your leadership, they might decide to modify the game to encourage more side-quest engagement. But this would be a mistake. To see why, we look at data from an experiment that randomly assigned players to a groups where one group was encouraged to have high side-quest engagement and the other group was encouraged to have lower engagement. Let's repeat the analysis with this data."
   ]
  },
  {
   "cell_type": "code",
   "execution_count": 5,
   "metadata": {
    "colab": {
     "base_uri": "https://localhost:8080/"
    },
    "id": "lrKQNEy58ZcG",
    "outputId": "bed82b12-5a04-443c-cc2f-a71f1a21aa0a"
   },
   "outputs": [
    {
     "name": "stdout",
     "output_type": "stream",
     "text": [
      "                      In-game Purchases                      \n",
      "                                  count       mean        std\n",
      "Side-quest Engagement                                        \n",
      "high                                500   92.99054  51.673631\n",
      "low                                 500  131.38228  94.840705\n",
      "Mean difference in in-game purchases across groups: -38.39174000000001\n"
     ]
    },
    {
     "data": {
      "text/plain": [
       "True"
      ]
     },
     "execution_count": 5,
     "metadata": {},
     "output_type": "execute_result"
    }
   ],
   "source": [
    "import pandas as pd\n",
    "import numpy as np\n",
    "df = pd.read_csv(\"https://raw.githubusercontent.com/altdeep/causalML/master/datasets/sidequests_and_purchases_exp.csv\")\n",
    "summary = df.drop('User ID', axis=1).groupby(\n",
    "    [\"Side-quest Engagement\"]\n",
    ").agg(\n",
    "    ['count', 'mean', 'std']\n",
    ")\n",
    "print(summary)\n",
    "n1, n2 = summary['In-game Purchases']['count']\n",
    "m1, m2 = summary['In-game Purchases']['mean']\n",
    "diff = m1 - m2\n",
    "print(f\"Mean difference in in-game purchases across groups: {diff}\")\n",
    "\n",
    "s1, s2 =  summary['In-game Purchases']['std']\n",
    "pooled_std = (s1**2 / n1 + s2**2 / n2) **.5\n",
    "z_score = (m1 - m2) / pooled_std\n",
    "abs(z_score) > 2."
   ]
  },
  {
   "cell_type": "markdown",
   "metadata": {
    "id": "4a0LFlyYVkoB"
   },
   "source": [
    "We still get a statistically different result, but the effect size is negative.\n",
    "\n",
    "Obviously, experimental results are preferable to observational results. Statistical common sense tells us that correlation does not imply causality, and that the difference in group means reflects correlation in the observational study, and refects causation in the experimental study.\n",
    "\n",
    "Experimental data is great, but it may not be readily available. Acquiring experimental data may be infeasible and when it is feasible, it has a cost. Even in cases when it is cheap and easy to run experiments, like in an online media company, there are still <i>opportunity costs</i> to running experiments -- see the book for discussion. \n",
    "\n",
    "Ideally, we could achieve the results we got with experimental data with only the observational data simply by incorporating some causal assumptions into that analysis. We do that next."
   ]
  },
  {
   "cell_type": "markdown",
   "metadata": {
    "id": "4iZCNPqDNKwn"
   },
   "source": [
    "# Building a generative model for use in simulating the experiment with intervention.\n",
    "\n",
    "Next, we assume the following causal DAG.\n",
    "\n",
    "![online game DAG](images/online-game-dag.png)\n",
    "\n",
    "Here, we introduce Guild Membership - whether a player belongs to a player guild - as a common cause of side-quest engagement and in-game purchases.\n",
    "\n",
    "Next, we use Pyro to build a full causal generative model on the observational data. First, we'll download the full observational data inclusive of guild membership. We'll then use that data to estimate some parameters for this model."
   ]
  },
  {
   "cell_type": "code",
   "execution_count": 6,
   "metadata": {
    "colab": {
     "base_uri": "https://localhost:8080/"
    },
    "id": "IyfgGcndVoht",
    "outputId": "1d53f73f-2f43-421b-aeb8-cf6ff6616e25"
   },
   "outputs": [],
   "source": [
    "import pandas as pd\n",
    "df = pd.read_csv(\"https://raw.githubusercontent.com/altdeep/causalML/master/datasets/sidequests_and_purchases_full_obs.csv\")     #A"
   ]
  },
  {
   "cell_type": "markdown",
   "metadata": {},
   "source": [
    "First, we'll estimate the marginal distribution of guild membership."
   ]
  },
  {
   "cell_type": "code",
   "execution_count": 7,
   "metadata": {},
   "outputs": [
    {
     "name": "stdout",
     "output_type": "stream",
     "text": [
      "Guild Membership\n",
      "nonmember    0.515\n",
      "member       0.485\n",
      "Name: count, dtype: float64\n"
     ]
    }
   ],
   "source": [
    "membership_counts = df['Guild Membership'].value_counts()\n",
    "dist_guild_membership = membership_counts / sum(membership_counts)\n",
    "print(dist_guild_membership)"
   ]
  },
  {
   "cell_type": "code",
   "execution_count": 8,
   "metadata": {},
   "outputs": [
    {
     "data": {
      "text/plain": [
       "0.485"
      ]
     },
     "execution_count": 8,
     "metadata": {},
     "output_type": "execute_result"
    }
   ],
   "source": [
    "dist_guild_membership.member"
   ]
  },
  {
   "cell_type": "markdown",
   "metadata": {
    "id": "2CuCrKoNNerw"
   },
   "source": [
    "Next, we calculate the probability distribution of side-quest engagement for guild members and nonmembers respectively. First we calculate the probability distribution of side-quest engagement level (\"high\" vs \"low\") given that a player is a member of a guild, then we calculate the probability distribution of side-quest engagement level given that a player is not a member of a guild."
   ]
  },
  {
   "cell_type": "code",
   "execution_count": 9,
   "metadata": {
    "colab": {
     "base_uri": "https://localhost:8080/"
    },
    "id": "-wweZaSWfKIV",
    "outputId": "3d4c7828-6f93-47aa-838e-c90a49fd0fd1"
   },
   "outputs": [
    {
     "name": "stdout",
     "output_type": "stream",
     "text": [
      "Side-quest Engagement\n",
      "high    0.797938\n",
      "low     0.202062\n",
      "Name: count, dtype: float64\n",
      "Side-quest Engagement\n",
      "low     0.815534\n",
      "high    0.184466\n",
      "Name: count, dtype: float64\n"
     ]
    }
   ],
   "source": [
    "member_subset = df[df['Guild Membership'] == 'member']\n",
    "member_engagement_counts = member_subset['Side-quest Engagement'].value_counts()\n",
    "dist_engagement_member = member_engagement_counts / sum(member_engagement_counts)\n",
    "print(dist_engagement_member)\n",
    "\n",
    "nonmember_subset = df[df['Guild Membership'] == 'nonmember']\n",
    "nonmember_engagement_counts = nonmember_subset['Side-quest Engagement'].value_counts()\n",
    "dist_engagement_nonmember = nonmember_engagement_counts / sum(nonmember_engagement_counts)\n",
    "print(dist_engagement_nonmember)"
   ]
  },
  {
   "cell_type": "markdown",
   "metadata": {
    "id": "ngM9h303N85O"
   },
   "source": [
    "Next, for each combination of guild membership and side-quest engagement, calculate the mean and standard deviation of in-game purchases."
   ]
  },
  {
   "cell_type": "code",
   "execution_count": 19,
   "metadata": {
    "colab": {
     "base_uri": "https://localhost:8080/"
    },
    "id": "yAMYV-oEW1zV",
    "outputId": "04e9cb49-3820-4bf4-ca96-b5953244a6cc"
   },
   "outputs": [
    {
     "name": "stdout",
     "output_type": "stream",
     "text": [
      "      In-game Purchases\n",
      "mean              37.95\n",
      "std               23.80\n",
      "      In-game Purchases\n",
      "mean              54.92\n",
      "std                4.92\n",
      "      In-game Purchases\n",
      "mean             223.71\n",
      "std                5.30\n",
      "      In-game Purchases\n",
      "mean             125.53\n",
      "std               53.44\n"
     ]
    }
   ],
   "source": [
    "# Estimate the sample mean and standard deviation of in-game purchases for non-guild-members with low side-quest engagement.\n",
    "purchase_dist_nonmember_low_engagement = df[\n",
    "    (df['Guild Membership'] == 'nonmember') &\n",
    "    (df['Side-quest Engagement'] == 'low')\n",
    "].drop(\n",
    "  ['User ID', 'Side-quest Engagement', 'Guild Membership'], axis=1  \n",
    ").agg(['mean', 'std'])\n",
    "print(round(purchase_dist_nonmember_low_engagement, 2))\n",
    "μ_nonmember_low_engagement = purchase_dist_nonmember_low_engagement['In-game Purchases']['mean']\n",
    "σ_nonmember_low_engagement = purchase_dist_nonmember_low_engagement['In-game Purchases']['std']\n",
    "\n",
    "# Estimate the sample mean and standard deviation of in-game purchases for non-guild-members with high side-quest engagement.\n",
    "purchase_dist_nonmember_high_engagement = df[\n",
    "    (df['Guild Membership'] == 'nonmember') &\n",
    "    (df['Side-quest Engagement'] == 'high')\n",
    "].drop(\n",
    "  ['User ID', 'Side-quest Engagement', 'Guild Membership'], axis=1  \n",
    ").agg(['mean', 'std'])\n",
    "print(round(purchase_dist_nonmember_high_engagement, 2))\n",
    "μ_nonmember_high_engagement = purchase_dist_nonmember_high_engagement['In-game Purchases']['mean']\n",
    "σ_nonmember_high_engagement = purchase_dist_nonmember_high_engagement['In-game Purchases']['std']\n",
    "\n",
    "# Estimate the sample mean and standard deviation of in-game purchases for guild-members with low side-quest engagement.\n",
    "purchase_dist_member_low_engagement = df[\n",
    "    (df['Guild Membership'] == 'member') &\n",
    "    (df['Side-quest Engagement'] == 'low')\n",
    "].drop(\n",
    "  ['User ID', 'Side-quest Engagement', 'Guild Membership'], axis=1  \n",
    ").agg(['mean', 'std']) \n",
    "print(round(purchase_dist_member_low_engagement, 2))\n",
    "μ_member_low_engagement = purchase_dist_member_low_engagement['In-game Purchases']['mean']\n",
    "σ_member_low_engagement = purchase_dist_member_low_engagement['In-game Purchases']['std']\n",
    "\n",
    "\n",
    "# Estimate the sample mean and standard deviation of in-game purchases for guild-members with high side-quest engagement.\n",
    "purchase_dist_member_high_engagement = df[\n",
    "    (df['Guild Membership'] == 'member') &\n",
    "    (df['Side-quest Engagement'] == 'high')\n",
    "].drop(\n",
    "  ['User ID', 'Side-quest Engagement', 'Guild Membership'], axis=1  \n",
    ").agg(['mean', 'std']) \n",
    "print(round(purchase_dist_member_high_engagement, 2))\n",
    "μ_member_high_engagement = purchase_dist_member_high_engagement['In-game Purchases']['mean']\n",
    "σ_member_high_engagement = purchase_dist_member_high_engagement['In-game Purchases']['std']"
   ]
  },
  {
   "cell_type": "markdown",
   "metadata": {
    "id": "XgDpro60OoHl"
   },
   "source": [
    "We'll use these sample statistics as parameter values in a generative model on the causal DAG. For Guild Membership and Side-Quest engagement, we'll use the sample proportions to estimate Bernoulli parameters.\n",
    "\n",
    "For in-game purchases, we use two canonical distributions; the normal distribution and [half-normal distribution](https://en.wikipedia.org/wiki/Half-normal_distribution). We'll use the normal distribution for every case except for non-guild-members with low side-quest engagement. In this case, because the low mean and large scale parameter means we'll generate many negative values.  In-game purchases of course cannot be negative. This is not a big deal. But unlike pgmpy, Pyro gives us tremendous parameteric flexibility, and this is a good reason to use that flexibility. So for unengaged non-guild-members I use the half-normal distribution.  Generating from the half-normal distribution is the same as generating from the normal, except any negative values will have their sign changed to positive.  Since this will happen only about 5.5% of the time with negative values close to zero, it adds minimal bias to the mean for this group."
   ]
  },
  {
   "cell_type": "code",
   "execution_count": 11,
   "metadata": {
    "id": "jEHi29iNRx0F"
   },
   "outputs": [],
   "source": [
    "import pyro\n",
    "from torch import tensor\n",
    "from pyro.distributions import Bernoulli, HalfNormal, Normal\n",
    "\n",
    "def model():\n",
    "    # Probability of being a guild member vs a non-member\n",
    "    p_member = tensor(dist_guild_membership.member) \n",
    "    # Generate a guild membership value from a Bernoulli distribution, where a value 1.0 indicates a member.\n",
    "    is_guild_member = pyro.sample(\n",
    "        \"Guild Membership\",\n",
    "        Bernoulli(p_member)\n",
    "    )\n",
    "    p_engaged = (tensor(dist_engagement_member.high)*is_guild_member +\n",
    "                 tensor(dist_engagement_nonmember.high)*(1-is_guild_member))\n",
    "    is_highly_engaged = pyro.sample(\n",
    "        \"Side-quest Engagement\",\n",
    "        Bernoulli(p_engaged)\n",
    "    )\n",
    "    # Use sample means as estimates of location parameters for in-game purchases\n",
    "    μ = (\n",
    "            μ_nonmember_low_engagement * (1-is_guild_member) * (1 - is_highly_engaged) +\n",
    "            μ_nonmember_high_engagement * (1-is_guild_member) * (is_highly_engaged) +\n",
    "            μ_member_low_engagement * (is_guild_member)   * (1 - is_highly_engaged) +  \n",
    "            μ_member_high_engagement * (is_guild_member)   * (is_highly_engaged)\n",
    "    )\n",
    "    # Use sample standard devs as estimates of scale parameters for in-game purchases\n",
    "    σ = (\n",
    "            σ_nonmember_low_engagement * (1-is_guild_member) * (1 - is_highly_engaged) +\n",
    "            σ_nonmember_high_engagement * (1-is_guild_member) * (is_highly_engaged) +\n",
    "            σ_member_low_engagement * (is_guild_member)   * (1 - is_highly_engaged) +  \n",
    "            σ_member_high_engagement * (is_guild_member)   * (is_highly_engaged)\n",
    "    )\n",
    "    if(is_guild_member == tensor(0.) and is_highly_engaged == tensor(0.)):\n",
    "        in_game_purchases = pyro.sample( \n",
    "            \"In-game Purchases\", \n",
    "            HalfNormal(μ, σ) \n",
    "        ) \n",
    "    else: \n",
    "        in_game_purchases = pyro.sample(\"In-game Purchases\", Normal(μ, σ))\n",
    "\n",
    "    # Convert the variable values from tensors into the datatypes seen in the original data.\n",
    "    guild_membership = \"member\" if is_guild_member else \"nonmember\"\n",
    "    engagement = \"high\" if is_highly_engaged else \"low\"\n",
    "    in_game_purchases = float(in_game_purchases)\n",
    "\n",
    "    return guild_membership, engagement, in_game_purchases"
   ]
  },
  {
   "cell_type": "markdown",
   "metadata": {
    "id": "322zKFc2O6Gk"
   },
   "source": [
    "We and use `pyro.render` to confirm that the generative model adheres to our causal DAG."
   ]
  },
  {
   "cell_type": "code",
   "execution_count": 12,
   "metadata": {
    "colab": {
     "base_uri": "https://localhost:8080/",
     "height": 307
    },
    "id": "f14wnt5tVzkG",
    "outputId": "073a8f6e-8db7-40a6-a2a8-0beb34a8488f"
   },
   "outputs": [
    {
     "data": {
      "image/svg+xml": [
       "<?xml version=\"1.0\" encoding=\"UTF-8\" standalone=\"no\"?>\n",
       "<!DOCTYPE svg PUBLIC \"-//W3C//DTD SVG 1.1//EN\"\n",
       " \"http://www.w3.org/Graphics/SVG/1.1/DTD/svg11.dtd\">\n",
       "<!-- Generated by graphviz version 10.0.1 (20240210.2158)\n",
       " -->\n",
       "<!-- Pages: 1 -->\n",
       "<svg width=\"252pt\" height=\"188pt\"\n",
       " viewBox=\"0.00 0.00 252.01 188.00\" xmlns=\"http://www.w3.org/2000/svg\" xmlns:xlink=\"http://www.w3.org/1999/xlink\">\n",
       "<g id=\"graph0\" class=\"graph\" transform=\"scale(1 1) rotate(0) translate(4 184)\">\n",
       "<polygon fill=\"white\" stroke=\"none\" points=\"-4,4 -4,-184 248.01,-184 248.01,4 -4,4\"/>\n",
       "<!-- Guild Membership -->\n",
       "<g id=\"node1\" class=\"node\">\n",
       "<title>Guild Membership</title>\n",
       "<ellipse fill=\"white\" stroke=\"black\" cx=\"161.95\" cy=\"-162\" rx=\"82.06\" ry=\"18\"/>\n",
       "<text text-anchor=\"middle\" x=\"161.95\" y=\"-156.95\" font-family=\"Times,serif\" font-size=\"14.00\">Guild Membership</text>\n",
       "</g>\n",
       "<!-- Side&#45;quest Engagement -->\n",
       "<g id=\"node2\" class=\"node\">\n",
       "<title>Side&#45;quest Engagement</title>\n",
       "<ellipse fill=\"white\" stroke=\"black\" cx=\"98.95\" cy=\"-90\" rx=\"98.95\" ry=\"18\"/>\n",
       "<text text-anchor=\"middle\" x=\"98.95\" y=\"-84.95\" font-family=\"Times,serif\" font-size=\"14.00\">Side&#45;quest Engagement</text>\n",
       "</g>\n",
       "<!-- Guild Membership&#45;&gt;Side&#45;quest Engagement -->\n",
       "<g id=\"edge1\" class=\"edge\">\n",
       "<title>Guild Membership&#45;&gt;Side&#45;quest Engagement</title>\n",
       "<path fill=\"none\" stroke=\"black\" d=\"M146.7,-144.05C139.19,-135.71 129.99,-125.49 121.68,-116.25\"/>\n",
       "<polygon fill=\"black\" stroke=\"black\" points=\"124.36,-114.01 115.07,-108.91 119.16,-118.69 124.36,-114.01\"/>\n",
       "</g>\n",
       "<!-- In&#45;game Purchases -->\n",
       "<g id=\"node3\" class=\"node\">\n",
       "<title>In&#45;game Purchases</title>\n",
       "<ellipse fill=\"white\" stroke=\"black\" cx=\"161.95\" cy=\"-18\" rx=\"81.55\" ry=\"18\"/>\n",
       "<text text-anchor=\"middle\" x=\"161.95\" y=\"-12.95\" font-family=\"Times,serif\" font-size=\"14.00\">In&#45;game Purchases</text>\n",
       "</g>\n",
       "<!-- Guild Membership&#45;&gt;In&#45;game Purchases -->\n",
       "<g id=\"edge2\" class=\"edge\">\n",
       "<title>Guild Membership&#45;&gt;In&#45;game Purchases</title>\n",
       "<path fill=\"none\" stroke=\"black\" d=\"M181.39,-144.46C191.07,-134.92 201.79,-122.05 206.95,-108 212.47,-92.98 212.47,-87.02 206.95,-72 203.16,-61.68 196.37,-52 189.2,-43.8\"/>\n",
       "<polygon fill=\"black\" stroke=\"black\" points=\"191.84,-41.5 182.43,-36.64 186.75,-46.31 191.84,-41.5\"/>\n",
       "</g>\n",
       "<!-- Side&#45;quest Engagement&#45;&gt;In&#45;game Purchases -->\n",
       "<g id=\"edge3\" class=\"edge\">\n",
       "<title>Side&#45;quest Engagement&#45;&gt;In&#45;game Purchases</title>\n",
       "<path fill=\"none\" stroke=\"black\" d=\"M114.2,-72.05C121.71,-63.71 130.91,-53.49 139.22,-44.25\"/>\n",
       "<polygon fill=\"black\" stroke=\"black\" points=\"141.74,-46.69 145.83,-36.91 136.54,-42.01 141.74,-46.69\"/>\n",
       "</g>\n",
       "</g>\n",
       "</svg>\n"
      ],
      "text/plain": [
       "<graphviz.graphs.Digraph at 0x132503e10>"
      ]
     },
     "execution_count": 12,
     "metadata": {},
     "output_type": "execute_result"
    }
   ],
   "source": [
    "pyro.render_model(model)"
   ]
  },
  {
   "cell_type": "markdown",
   "metadata": {
    "id": "aZ8D9DKnsCVB"
   },
   "source": [
    "Next, we can simulate tfrom the model and confirm that it has a distribution similar to the observational data. \n",
    "\n",
    "Let's look at the distribution of in-game purchases given side-quest engagement."
   ]
  },
  {
   "cell_type": "code",
   "execution_count": 13,
   "metadata": {
    "colab": {
     "base_uri": "https://localhost:8080/",
     "height": 175
    },
    "id": "qaEjxTxmr3DK",
    "outputId": "77bfb00e-4198-48fc-e123-27ebf863c680"
   },
   "outputs": [
    {
     "data": {
      "text/html": [
       "<div>\n",
       "<style scoped>\n",
       "    .dataframe tbody tr th:only-of-type {\n",
       "        vertical-align: middle;\n",
       "    }\n",
       "\n",
       "    .dataframe tbody tr th {\n",
       "        vertical-align: top;\n",
       "    }\n",
       "\n",
       "    .dataframe thead tr th {\n",
       "        text-align: left;\n",
       "    }\n",
       "\n",
       "    .dataframe thead tr:last-of-type th {\n",
       "        text-align: right;\n",
       "    }\n",
       "</style>\n",
       "<table border=\"1\" class=\"dataframe\">\n",
       "  <thead>\n",
       "    <tr>\n",
       "      <th></th>\n",
       "      <th colspan=\"3\" halign=\"left\">In-Game Purchases</th>\n",
       "    </tr>\n",
       "    <tr>\n",
       "      <th></th>\n",
       "      <th>count</th>\n",
       "      <th>mean</th>\n",
       "      <th>std</th>\n",
       "    </tr>\n",
       "    <tr>\n",
       "      <th>Side-quest Engagement</th>\n",
       "      <th></th>\n",
       "      <th></th>\n",
       "      <th></th>\n",
       "    </tr>\n",
       "  </thead>\n",
       "  <tbody>\n",
       "    <tr>\n",
       "      <th>high</th>\n",
       "      <td>486</td>\n",
       "      <td>116.672127</td>\n",
       "      <td>55.291171</td>\n",
       "    </tr>\n",
       "    <tr>\n",
       "      <th>low</th>\n",
       "      <td>514</td>\n",
       "      <td>60.642033</td>\n",
       "      <td>74.336396</td>\n",
       "    </tr>\n",
       "  </tbody>\n",
       "</table>\n",
       "</div>"
      ],
      "text/plain": [
       "                      In-Game Purchases                       \n",
       "                                  count        mean        std\n",
       "Side-quest Engagement                                         \n",
       "high                                486  116.672127  55.291171\n",
       "low                                 514   60.642033  74.336396"
      ]
     },
     "execution_count": 13,
     "metadata": {},
     "output_type": "execute_result"
    }
   ],
   "source": [
    "pyro.util.set_rng_seed(123)\n",
    "simulated_observational_data = [model() for _ in range(1000)]    \n",
    "sim_full_obs_df = pd.DataFrame(\n",
    "    simulated_observational_data,\n",
    "    columns=[\"Guild Membership\", \"Side-quest Engagement\", \"In-Game Purchases\"]\n",
    ")\n",
    "sim_obs_df = sim_full_obs_df.drop(\"Guild Membership\", axis=1)\n",
    "sim_obs_df.groupby([\"Side-quest Engagement\"]).agg(['count', 'mean', 'std'])"
   ]
  },
  {
   "cell_type": "markdown",
   "metadata": {
    "id": "7Yth-z5APGZ7"
   },
   "source": [
    "We compare this to the observational distribution in the actual data."
   ]
  },
  {
   "cell_type": "code",
   "execution_count": 14,
   "metadata": {
    "colab": {
     "base_uri": "https://localhost:8080/",
     "height": 175
    },
    "id": "lphZ0nkGwL6T",
    "outputId": "2c227f2c-d25e-4ecb-d0c3-a9fb67c67373"
   },
   "outputs": [
    {
     "data": {
      "text/html": [
       "<div>\n",
       "<style scoped>\n",
       "    .dataframe tbody tr th:only-of-type {\n",
       "        vertical-align: middle;\n",
       "    }\n",
       "\n",
       "    .dataframe tbody tr th {\n",
       "        vertical-align: top;\n",
       "    }\n",
       "\n",
       "    .dataframe thead tr th {\n",
       "        text-align: left;\n",
       "    }\n",
       "\n",
       "    .dataframe thead tr:last-of-type th {\n",
       "        text-align: right;\n",
       "    }\n",
       "</style>\n",
       "<table border=\"1\" class=\"dataframe\">\n",
       "  <thead>\n",
       "    <tr>\n",
       "      <th></th>\n",
       "      <th colspan=\"3\" halign=\"left\">In-game Purchases</th>\n",
       "    </tr>\n",
       "    <tr>\n",
       "      <th></th>\n",
       "      <th>count</th>\n",
       "      <th>mean</th>\n",
       "      <th>std</th>\n",
       "    </tr>\n",
       "    <tr>\n",
       "      <th>Side-quest Engagement</th>\n",
       "      <th></th>\n",
       "      <th></th>\n",
       "      <th></th>\n",
       "    </tr>\n",
       "  </thead>\n",
       "  <tbody>\n",
       "    <tr>\n",
       "      <th>high</th>\n",
       "      <td>482</td>\n",
       "      <td>111.609461</td>\n",
       "      <td>55.562334</td>\n",
       "    </tr>\n",
       "    <tr>\n",
       "      <th>low</th>\n",
       "      <td>518</td>\n",
       "      <td>73.096371</td>\n",
       "      <td>75.947688</td>\n",
       "    </tr>\n",
       "  </tbody>\n",
       "</table>\n",
       "</div>"
      ],
      "text/plain": [
       "                      In-game Purchases                       \n",
       "                                  count        mean        std\n",
       "Side-quest Engagement                                         \n",
       "high                                482  111.609461  55.562334\n",
       "low                                 518   73.096371  75.947688"
      ]
     },
     "execution_count": 14,
     "metadata": {},
     "output_type": "execute_result"
    }
   ],
   "source": [
    "df.drop([\"Guild Membership\", \"User ID\"], axis=1).groupby([\"Side-quest Engagement\"]).agg(['count', 'mean', 'std'])\n"
   ]
  },
  {
   "cell_type": "markdown",
   "metadata": {
    "id": "7EsYyI796MDb"
   },
   "source": [
    "Next, we confirm that our model can simulate data similar to our experimental data. We do this by using Pyro's intervention operator `pyro.do`. We use `pyro.do` to create two models, one that sets engagement to high, the other to low."
   ]
  },
  {
   "cell_type": "code",
   "execution_count": 15,
   "metadata": {
    "id": "GKFV3wrF7N2y"
   },
   "outputs": [],
   "source": [
    "# An intervention that sets Side-quest Engagement to 1.0 (i.e \"high\").  This returns a new model.\n",
    "int_engaged_model = pyro.do(\n",
    "    model,\n",
    "    {\"Side-quest Engagement\": tensor(1.)}\n",
    ")\n",
    "# An intervention that sets Side-quest Engagement to 0.0 (i.e. \"low\").  This returns a new model.\n",
    "int_unengaged_model = pyro.do(\n",
    "    model,\n",
    "    {\"Side-quest Engagement\": tensor(0.)}\n",
    ")"
   ]
  },
  {
   "cell_type": "markdown",
   "metadata": {
    "id": "-RiY7HfLT7A9"
   },
   "source": [
    "Next, we simulate from both models and combine the results to get simulated experimental data."
   ]
  },
  {
   "cell_type": "code",
   "execution_count": 16,
   "metadata": {
    "colab": {
     "base_uri": "https://localhost:8080/"
    },
    "id": "kWrPuirw1JIH",
    "outputId": "dfe0a2dc-f6fb-448d-f4e5-bd7f5cfd9b79"
   },
   "outputs": [
    {
     "name": "stdout",
     "output_type": "stream",
     "text": [
      "                      In-Game Purchases                       \n",
      "                                  count        mean        std\n",
      "Side-quest Engagement                                         \n",
      "high                                500   92.736599  52.817700\n",
      "low                                 500  120.038426  98.760994\n"
     ]
    }
   ],
   "source": [
    "# Setting a random seed for reproducibility. \n",
    "pyro.util.set_rng_seed(123)\n",
    "# Simulate 500 rows from each intervention model and combined them to create simulated experimental data.\n",
    "simulated_experimental_data = [\n",
    "    int_engaged_model() for _ in range(500)\n",
    "] + [\n",
    "    int_unengaged_model() for _ in range(500)\n",
    "]\n",
    "simulated_experimental_data = pd.DataFrame(\n",
    "    simulated_experimental_data,\n",
    "    columns=[\n",
    "        \"Guild Membership\", \"Side-quest Engagement\", \"In-Game Purchases\"\n",
    "    ]\n",
    ")\n",
    "# The simulated data will include a Guild Membership column.  We can drop it to get simulated data that looks like the original experiment.\n",
    "sim_exp_df = simulated_experimental_data.drop(\"Guild Membership\", axis=1)\n",
    "# Recreate the statistical summaries of in-game purchase for each level of engagement.\n",
    "summary = sim_exp_df.groupby(\n",
    "        [\"Side-quest Engagement\"]\n",
    "    ).agg(\n",
    "        ['count', 'mean', 'std']\n",
    "    )\n",
    "print(summary)"
   ]
  },
  {
   "cell_type": "markdown",
   "metadata": {
    "id": "QgkOiZ9sUBil"
   },
   "source": [
    "We see that this gives us a distribution similar to the actual experimental data."
   ]
  },
  {
   "cell_type": "code",
   "execution_count": 17,
   "metadata": {
    "colab": {
     "base_uri": "https://localhost:8080/"
    },
    "id": "gDqlZsK8BbkX",
    "outputId": "9620589f-4e9c-496d-fdba-b4b14ca3ae39"
   },
   "outputs": [
    {
     "name": "stdout",
     "output_type": "stream",
     "text": [
      "                      In-game Purchases                      \n",
      "                                  count       mean        std\n",
      "Side-quest Engagement                                        \n",
      "high                                500   92.99054  51.673631\n",
      "low                                 500  131.38228  94.840705\n"
     ]
    }
   ],
   "source": [
    "exp_df = pd.read_csv(\"https://raw.githubusercontent.com/altdeep/causalML/master/datasets/sidequests_and_purchases_exp.csv\")\n",
    "\n",
    "summary = exp_df.drop('User ID', axis=1).groupby(\n",
    "        [\"Side-quest Engagement\"]\n",
    "    ).agg(\n",
    "        ['count', 'mean', 'std']\n",
    "    )\n",
    "print(summary)"
   ]
  },
  {
   "cell_type": "markdown",
   "metadata": {},
   "source": [
    "In summary, we can use our observational data to train a causal model that can simulate experimental data. In other words, the causal model and its intervention operator allows us to \"bootstrap\" our observational data into experimental data. "
   ]
  }
 ],
 "metadata": {
  "colab": {
   "provenance": []
  },
  "kernelspec": {
   "display_name": "Python 3 (ipykernel)",
   "language": "python",
   "name": "python3"
  },
  "language_info": {
   "codemirror_mode": {
    "name": "ipython",
    "version": 3
   },
   "file_extension": ".py",
   "mimetype": "text/x-python",
   "name": "python",
   "nbconvert_exporter": "python",
   "pygments_lexer": "ipython3",
   "version": "3.11.7"
  }
 },
 "nbformat": 4,
 "nbformat_minor": 4
}
