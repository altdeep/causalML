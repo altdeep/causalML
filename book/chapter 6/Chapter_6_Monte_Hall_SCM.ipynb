{
 "cells": [
  {
   "cell_type": "markdown",
   "metadata": {
    "colab_type": "text",
    "id": "view-in-github"
   },
   "source": [
    "# Chapter 6 - SCM Modeling the Monte Hall Problem\n",
    "\n",
    "The notebook is a code companion to chapter 6 of the book [Causal AI](https://www.manning.com/books/causal-ai) by [Robert Osazuwa Ness](https://www.linkedin.com/in/osazuwa/).\n",
    "\n",
    "<a href=\"https://colab.research.google.com/github/altdeep/causalML/blob/master/book/chapter%206/Monte_Hall.ipynb\" target=\"_parent\"><img src=\"https://colab.research.google.com/assets/colab-badge.svg\" alt=\"Open In Colab\"/></a>"
   ]
  },
  {
   "cell_type": "markdown",
   "metadata": {},
   "source": [
    "This tutorial runs through the SCM implementation of the Monty Hall problem as a probablistic model using pgmpy. Once we've implemented the model, we'll just do basic probabilistic inference. In chapter 9, we'll use this SCM model to do more advanced inferences. "
   ]
  },
  {
   "cell_type": "code",
   "execution_count": null,
   "metadata": {
    "colab": {
     "base_uri": "https://localhost:8080/"
    },
    "id": "BSPAgFQ4razO",
    "outputId": "338d0c8e-0a2b-4e32-9111-2516fef0f79c"
   },
   "outputs": [],
   "source": [
    "#!pip install pgmpy==0.1.19"
   ]
  },
  {
   "cell_type": "markdown",
   "metadata": {},
   "source": [
    "The SCM has a set of exogenous variables, endogenous variables, and \"assignment functions\" that deterministically map the exogenous variables to the endogenous variables. Those assignment functions induce a causal DAG, where the root nodes are the exogenous variables. Knowing this, we'll use pgmpy to implement the model as a causal DAG. We'll start by building the DAG."
   ]
  },
  {
   "cell_type": "code",
   "execution_count": 1,
   "metadata": {},
   "outputs": [],
   "source": [
    "from pgmpy.models import BayesianNetwork\n",
    "from pgmpy.factors.discrete.CPD import TabularCPD\n",
    "from pgmpy.inference import VariableElimination\n",
    "\n",
    "monty_hall_model = BayesianNetwork([\n",
    "    ('Host Inclination', 'Host Door Selection'),\n",
    "    ('Door with Car', 'Host Door Selection'),\n",
    "    ('Player First Choice', 'Host Door Selection'),\n",
    "    ('Player First Choice', 'Player Second Choice'),\n",
    "    ('Host Door Selection', 'Player Second Choice'),\n",
    "    ('Strategy', 'Player Second Choice'),\n",
    "    ('Player Second Choice', 'Win or Lose'),\n",
    "    ('Door with Car', 'Win or Lose')\n",
    "])"
   ]
  },
  {
   "cell_type": "markdown",
   "metadata": {},
   "source": [
    "Next, we use the `TabularCPD` (\"tabular conditional pobability distribution\") object to specify the probability distribution of each exogenous variable.\n",
    "\n",
    "First we build a CPD for the variable Host Inclination. In cases when the player chooses the door with the car, the host has a choice between the two other doors. This variable is \"left\" when the host is inclined to choose the left-most door, and \"right\" if the host is inclined to choose the right-most door."
   ]
  },
  {
   "cell_type": "code",
   "execution_count": 2,
   "metadata": {},
   "outputs": [],
   "source": [
    "p_host_inclination = TabularCPD(\n",
    "    variable='Host Inclination',\n",
    "    variable_card=2,\n",
    "    values=[[.5], [.5]],\n",
    "    state_names={'Host Inclination': ['left', 'right']}\n",
    ")"
   ]
  },
  {
   "cell_type": "markdown",
   "metadata": {},
   "source": [
    "Next, we build a CPD for the variable representing which door has the prize car.  Assume each door has equal probability of having the car."
   ]
  },
  {
   "cell_type": "code",
   "execution_count": 3,
   "metadata": {},
   "outputs": [],
   "source": [
    "p_door_with_car = TabularCPD(\n",
    "    variable='Door with Car',\n",
    "    variable_card=3,\n",
    "    values=[[1/3], [1/3], [1/3]],\n",
    "    state_names={'Door with Car': ['1st', '2nd', '3rd']}\n",
    ")"
   ]
  },
  {
   "cell_type": "markdown",
   "metadata": {},
   "source": [
    "A CPD for variable representing the player's first door choice.  Each door has equal probability of being chosen."
   ]
  },
  {
   "cell_type": "code",
   "execution_count": 4,
   "metadata": {},
   "outputs": [],
   "source": [
    "p_player_first_choice = TabularCPD(\n",
    "    variable='Player First Choice',\n",
    "    variable_card=3,\n",
    "    values=[[1/3], [1/3], [1/3]],\n",
    "    state_names={'Player First Choice': ['1st', '2nd', '3rd']}\n",
    ")"
   ]
  },
  {
   "cell_type": "markdown",
   "metadata": {},
   "source": [
    "Next is a CPD for the variable representing the player's strategy.  \"Stay\" is the strategy of staying with the first choice, and \"switch\" is the strategy of switching doors."
   ]
  },
  {
   "cell_type": "code",
   "execution_count": 5,
   "metadata": {},
   "outputs": [],
   "source": [
    "p_host_strategy = TabularCPD(\n",
    "    variable='Strategy',\n",
    "    variable_card=2,\n",
    "    values=[[.5], [.5]],\n",
    "    state_names={'Strategy': ['stay', 'switch']}\n",
    ")"
   ]
  },
  {
   "cell_type": "markdown",
   "metadata": {},
   "source": [
    "To implement the deterministic assignment functions, we'll use `TabularCPD` only with values of 0 and 1, i.e., outcomes either have a probability of 1 or 0. This turns `TabularCPD` into look-up table.\n",
    "\n",
    "We start with a assignment function for the host's door selection."
   ]
  },
  {
   "cell_type": "code",
   "execution_count": 6,
   "metadata": {},
   "outputs": [
    {
     "name": "stderr",
     "output_type": "stream",
     "text": [
      "/var/folders/gy/hj26l4vs0gd59ygt37r4wzy00000gn/T/ipykernel_38292/2796813822.py:1: DeprecationWarning: `product` is deprecated as of NumPy 1.25.0, and will be removed in NumPy 2.0. Please use `prod` instead.\n",
      "  f_host_door_selection = TabularCPD(\n"
     ]
    }
   ],
   "source": [
    "f_host_door_selection = TabularCPD(\n",
    "    variable='Host Door Selection',\n",
    "    variable_card=3,\n",
    "    values=[\n",
    "        [0,0,0,0,1,1,0,1,1,0,0,0,0,0,1,0,1,0],\n",
    "        [1,0,1,0,0,0,1,0,0,0,0,1,0,0,0,1,0,1],\n",
    "        [0,1,0,1,0,0,0,0,0,1,1,0,1,1,0,0,0,0]\n",
    "    ],\n",
    "    evidence=['Host Inclination', 'Door with Car', 'Player First Choice'],\n",
    "    evidence_card=[2, 3, 3],\n",
    "    state_names={\n",
    "        'Host Door Selection':['1st', '2nd', '3rd'],\n",
    "        'Host Inclination': ['left', 'right'],\n",
    "        'Door with Car': ['1st', '2nd', '3rd'],\n",
    "        'Player First Choice': ['1st', '2nd', '3rd']\n",
    "    }\n",
    ")"
   ]
  },
  {
   "cell_type": "markdown",
   "metadata": {},
   "source": [
    "Next we have the structural assignment function for the player's second choice."
   ]
  },
  {
   "cell_type": "code",
   "execution_count": 7,
   "metadata": {},
   "outputs": [
    {
     "name": "stderr",
     "output_type": "stream",
     "text": [
      "/var/folders/gy/hj26l4vs0gd59ygt37r4wzy00000gn/T/ipykernel_38292/4278379720.py:1: DeprecationWarning: `product` is deprecated as of NumPy 1.25.0, and will be removed in NumPy 2.0. Please use `prod` instead.\n",
      "  f_second_choice = TabularCPD(\n"
     ]
    }
   ],
   "source": [
    "f_second_choice = TabularCPD(\n",
    "    variable='Player Second Choice',\n",
    "    variable_card=3,\n",
    "    values=[\n",
    "        [1,0,0,1,0,0,1,0,0,0,0,0,0,0,1,0,1,0],\n",
    "        [0,1,0,0,1,0,0,1,0,1,0,1,0,1,0,1,0,1],\n",
    "        [0,0,1,0,0,1,0,0,1,0,1,0,1,0,0,0,0,0]\n",
    "    ],\n",
    "    evidence=['Strategy', 'Host Door Selection', 'Player First Choice'],\n",
    "    evidence_card=[2, 3, 3],\n",
    "    state_names={\n",
    "        'Player Second Choice': ['1st', '2nd', '3rd'],\n",
    "        'Strategy': ['stay', 'switch'],\n",
    "        'Host Door Selection': ['1st', '2nd', '3rd'],\n",
    "        'Player First Choice': ['1st', '2nd', '3rd']\n",
    "    }\n",
    ")"
   ]
  },
  {
   "cell_type": "markdown",
   "metadata": {},
   "source": [
    "Next is the assignment function for whether the player wins or loses."
   ]
  },
  {
   "cell_type": "code",
   "execution_count": 8,
   "metadata": {},
   "outputs": [
    {
     "name": "stderr",
     "output_type": "stream",
     "text": [
      "/var/folders/gy/hj26l4vs0gd59ygt37r4wzy00000gn/T/ipykernel_38292/3934461350.py:1: DeprecationWarning: `product` is deprecated as of NumPy 1.25.0, and will be removed in NumPy 2.0. Please use `prod` instead.\n",
      "  f_win_or_lose = TabularCPD(\n"
     ]
    }
   ],
   "source": [
    "f_win_or_lose = TabularCPD(\n",
    "    variable='Win or Lose',\n",
    "    variable_card=2,\n",
    "    values=[\n",
    "        [1,0,0,0,1,0,0,0,1],\n",
    "        [0,1,1,1,0,1,1,1,0],\n",
    "    ],\n",
    "    evidence=['Player Second Choice', 'Door with Car'],\n",
    "    evidence_card=[3, 3],\n",
    "    state_names={\n",
    "        'Win or Lose': ['win', 'lose'],\n",
    "        'Player Second Choice': ['1st', '2nd', '3rd'],\n",
    "        'Door with Car': ['1st', '2nd', '3rd']\n",
    "    }\n",
    ")"
   ]
  },
  {
   "cell_type": "markdown",
   "metadata": {},
   "source": [
    "Finally, we add the probability distributions and the assignment functions to the causal DAG to build the causal graphical model."
   ]
  },
  {
   "cell_type": "code",
   "execution_count": 9,
   "metadata": {
    "id": "Z8IS8eJyrv_V"
   },
   "outputs": [],
   "source": [
    "monty_hall_model.add_cpds(\n",
    "    p_host_inclination,\n",
    "    p_door_with_car,\n",
    "    p_player_first_choice,\n",
    "    p_host_strategy,\n",
    "    f_host_door_selection,\n",
    "    f_second_choice,\n",
    "    f_win_or_lose\n",
    ")"
   ]
  },
  {
   "cell_type": "markdown",
   "metadata": {},
   "source": [
    "Since this is a probabilistic graphical model, we can do normal graphical-model-based probabilistic inference. For example, we can look at the probability of winning or losing given a stay strategy, and the probability of winning or losing given a switch strategy."
   ]
  },
  {
   "cell_type": "code",
   "execution_count": 10,
   "metadata": {
    "colab": {
     "base_uri": "https://localhost:8080/"
    },
    "id": "fgmoySSm27MG",
    "outputId": "a1cbbabe-e990-4137-fa46-823ca8e54db9"
   },
   "outputs": [
    {
     "data": {
      "application/vnd.jupyter.widget-view+json": {
       "model_id": "a5ba95344b1e449aa9c6e2a2f8acd38a",
       "version_major": 2,
       "version_minor": 0
      },
      "text/plain": [
       "  0%|          | 0/5 [00:00<?, ?it/s]"
      ]
     },
     "metadata": {},
     "output_type": "display_data"
    },
    {
     "data": {
      "application/vnd.jupyter.widget-view+json": {
       "model_id": "ef0c11418c76451e82da20026032dfc4",
       "version_major": 2,
       "version_minor": 0
      },
      "text/plain": [
       "  0%|          | 0/5 [00:00<?, ?it/s]"
      ]
     },
     "metadata": {},
     "output_type": "display_data"
    },
    {
     "name": "stdout",
     "output_type": "stream",
     "text": [
      "+-------------------+--------------------+\n",
      "| Win or Lose       |   phi(Win or Lose) |\n",
      "+===================+====================+\n",
      "| Win or Lose(win)  |             0.3333 |\n",
      "+-------------------+--------------------+\n",
      "| Win or Lose(lose) |             0.6667 |\n",
      "+-------------------+--------------------+\n"
     ]
    },
    {
     "data": {
      "application/vnd.jupyter.widget-view+json": {
       "model_id": "6264006f96dc475b973c55a7c2770672",
       "version_major": 2,
       "version_minor": 0
      },
      "text/plain": [
       "  0%|          | 0/5 [00:00<?, ?it/s]"
      ]
     },
     "metadata": {},
     "output_type": "display_data"
    },
    {
     "data": {
      "application/vnd.jupyter.widget-view+json": {
       "model_id": "06a35a203be5470b90a07c91328bfd13",
       "version_major": 2,
       "version_minor": 0
      },
      "text/plain": [
       "  0%|          | 0/5 [00:00<?, ?it/s]"
      ]
     },
     "metadata": {},
     "output_type": "display_data"
    },
    {
     "name": "stdout",
     "output_type": "stream",
     "text": [
      "+-------------------+--------------------+\n",
      "| Win or Lose       |   phi(Win or Lose) |\n",
      "+===================+====================+\n",
      "| Win or Lose(win)  |             0.6667 |\n",
      "+-------------------+--------------------+\n",
      "| Win or Lose(lose) |             0.3333 |\n",
      "+-------------------+--------------------+\n"
     ]
    }
   ],
   "source": [
    "inference_engine = VariableElimination(monty_hall_model)\n",
    "print(inference_engine.query(['Win or Lose'], evidence={'Strategy': 'stay'}))\n",
    "print(inference_engine.query(['Win or Lose'], evidence={'Strategy': 'switch'}))"
   ]
  },
  {
   "cell_type": "markdown",
   "metadata": {},
   "source": [
    "We can confirm that we infer that given someone won the car, the probability is higher that they took a switch strategy."
   ]
  },
  {
   "cell_type": "code",
   "execution_count": 11,
   "metadata": {
    "colab": {
     "base_uri": "https://localhost:8080/"
    },
    "id": "BTAlAtR65tvv",
    "outputId": "7b31a179-0961-40b2-c3f4-a2c3a797ab80"
   },
   "outputs": [
    {
     "data": {
      "application/vnd.jupyter.widget-view+json": {
       "model_id": "f5cb429872894e92b681760e41313074",
       "version_major": 2,
       "version_minor": 0
      },
      "text/plain": [
       "  0%|          | 0/5 [00:00<?, ?it/s]"
      ]
     },
     "metadata": {},
     "output_type": "display_data"
    },
    {
     "data": {
      "application/vnd.jupyter.widget-view+json": {
       "model_id": "3c62eddbe38c43c19cb8f0d8c40d8273",
       "version_major": 2,
       "version_minor": 0
      },
      "text/plain": [
       "  0%|          | 0/5 [00:00<?, ?it/s]"
      ]
     },
     "metadata": {},
     "output_type": "display_data"
    },
    {
     "name": "stdout",
     "output_type": "stream",
     "text": [
      "+------------------+-----------------+\n",
      "| Strategy         |   phi(Strategy) |\n",
      "+==================+=================+\n",
      "| Strategy(stay)   |          0.3333 |\n",
      "+------------------+-----------------+\n",
      "| Strategy(switch) |          0.6667 |\n",
      "+------------------+-----------------+\n"
     ]
    }
   ],
   "source": [
    "print(inference_engine.query(['Strategy'], evidence={'Win or Lose': 'win'}))"
   ]
  },
  {
   "cell_type": "markdown",
   "metadata": {},
   "source": [
    "In chapter 9, we'll use this SCM model to do more advanced inferences."
   ]
  }
 ],
 "metadata": {
  "colab": {
   "include_colab_link": true,
   "provenance": []
  },
  "kernelspec": {
   "display_name": "Python 3 (ipykernel)",
   "language": "python",
   "name": "python3"
  },
  "language_info": {
   "codemirror_mode": {
    "name": "ipython",
    "version": 3
   },
   "file_extension": ".py",
   "mimetype": "text/x-python",
   "name": "python",
   "nbconvert_exporter": "python",
   "pygments_lexer": "ipython3",
   "version": "3.11.7"
  }
 },
 "nbformat": 4,
 "nbformat_minor": 4
}
