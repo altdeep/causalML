{
 "cells": [
  {
   "cell_type": "markdown",
   "metadata": {
    "colab_type": "text",
    "id": "view-in-github"
   },
   "source": [
    "# Chapter 6 - Modeling the Monte Hall Problem\n",
    "\n",
    "The notebook is a code companion to chapter 6 of the book [Causal AI](https://www.manning.com/books/causal-ai) by [Robert Osazuwa Ness](https://www.linkedin.com/in/osazuwa/).\n",
    "\n",
    "<a href=\"https://colab.research.google.com/github/altdeep/causalML/blob/master/book/chapter%206/Monte_Hall.ipynb\" target=\"_parent\"><img src=\"https://colab.research.google.com/assets/colab-badge.svg\" alt=\"Open In Colab\"/></a>"
   ]
  },
  {
   "cell_type": "code",
   "execution_count": null,
   "metadata": {
    "colab": {
     "base_uri": "https://localhost:8080/"
    },
    "id": "BSPAgFQ4razO",
    "outputId": "338d0c8e-0a2b-4e32-9111-2516fef0f79c"
   },
   "outputs": [
    {
     "name": "stdout",
     "output_type": "stream",
     "text": [
      "Looking in indexes: https://pypi.org/simple, https://us-python.pkg.dev/colab-wheels/public/simple/\n",
      "Collecting pgmpy\n",
      "  Downloading pgmpy-0.1.20-py3-none-any.whl (1.9 MB)\n",
      "\u001b[K     |████████████████████████████████| 1.9 MB 5.4 MB/s \n",
      "\u001b[?25hRequirement already satisfied: networkx in /usr/local/lib/python3.7/dist-packages (from pgmpy) (2.6.3)\n",
      "Requirement already satisfied: pyparsing in /usr/local/lib/python3.7/dist-packages (from pgmpy) (3.0.9)\n",
      "Requirement already satisfied: opt-einsum in /usr/local/lib/python3.7/dist-packages (from pgmpy) (3.3.0)\n",
      "Requirement already satisfied: joblib in /usr/local/lib/python3.7/dist-packages (from pgmpy) (1.2.0)\n",
      "Requirement already satisfied: statsmodels in /usr/local/lib/python3.7/dist-packages (from pgmpy) (0.12.2)\n",
      "Requirement already satisfied: tqdm in /usr/local/lib/python3.7/dist-packages (from pgmpy) (4.64.1)\n",
      "Requirement already satisfied: scipy in /usr/local/lib/python3.7/dist-packages (from pgmpy) (1.7.3)\n",
      "Requirement already satisfied: numpy in /usr/local/lib/python3.7/dist-packages (from pgmpy) (1.21.6)\n",
      "Requirement already satisfied: torch in /usr/local/lib/python3.7/dist-packages (from pgmpy) (1.12.1+cu113)\n",
      "Requirement already satisfied: pandas in /usr/local/lib/python3.7/dist-packages (from pgmpy) (1.3.5)\n",
      "Requirement already satisfied: scikit-learn in /usr/local/lib/python3.7/dist-packages (from pgmpy) (1.0.2)\n",
      "Requirement already satisfied: python-dateutil>=2.7.3 in /usr/local/lib/python3.7/dist-packages (from pandas->pgmpy) (2.8.2)\n",
      "Requirement already satisfied: pytz>=2017.3 in /usr/local/lib/python3.7/dist-packages (from pandas->pgmpy) (2022.6)\n",
      "Requirement already satisfied: six>=1.5 in /usr/local/lib/python3.7/dist-packages (from python-dateutil>=2.7.3->pandas->pgmpy) (1.15.0)\n",
      "Requirement already satisfied: threadpoolctl>=2.0.0 in /usr/local/lib/python3.7/dist-packages (from scikit-learn->pgmpy) (3.1.0)\n",
      "Requirement already satisfied: patsy>=0.5 in /usr/local/lib/python3.7/dist-packages (from statsmodels->pgmpy) (0.5.3)\n",
      "Requirement already satisfied: typing-extensions in /usr/local/lib/python3.7/dist-packages (from torch->pgmpy) (4.1.1)\n",
      "Installing collected packages: pgmpy\n",
      "Successfully installed pgmpy-0.1.20\n"
     ]
    }
   ],
   "source": [
    "!pip install pgmpy"
   ]
  },
  {
   "cell_type": "code",
   "execution_count": null,
   "metadata": {
    "id": "Z8IS8eJyrv_V"
   },
   "outputs": [],
   "source": [
    "from pgmpy.models import BayesianNetwork\n",
    "from pgmpy.factors.discrete.CPD import TabularCPD\n",
    "from pgmpy.inference import VariableElimination\n",
    "\n",
    "monty_hall_model = BayesianNetwork([    #A\n",
    "    ('Host Inclination', 'Host Door Selection'),    #A\n",
    "    ('Door with Car', 'Host Door Selection'),    #A\n",
    "    ('Player First Choice', 'Host Door Selection'),    #A\n",
    "    ('Player First Choice', 'Player Second Choice'),    #A\n",
    "    ('Host Door Selection', 'Player Second Choice'),    #A\n",
    "    ('Strategy', 'Player Second Choice'),    #A\n",
    "    ('Player Second Choice', 'Win or Lose'),    #A\n",
    "    ('Door with Car', 'Win or Lose')    #A\n",
    "])    #A\n",
    "\n",
    "p_host_inclination = TabularCPD(       #B\n",
    "    variable='Host Inclination',    #B\n",
    "    variable_card=2,    #B\n",
    "    values=[[.5], [.5]],    #B\n",
    "    state_names={'Host Inclination': ['left', 'right']}    #B\n",
    ")    #B\n",
    "\n",
    "p_door_with_car = TabularCPD(    #C\n",
    "    variable='Door with Car',    #C\n",
    "    variable_card=3,    #C\n",
    "    values=[[1/3], [1/3], [1/3]],    #C\n",
    "    state_names={'Door with Car': ['1st', '2nd', '3rd']}    #C\n",
    ")    #C\n",
    "\n",
    "p_player_first_choice = TabularCPD(    #D\n",
    "    variable='Player First Choice',    #D\n",
    "    variable_card=3,    #D\n",
    "    values=[[1/3], [1/3], [1/3]],    #D\n",
    "    state_names={'Player First Choice': ['1st', '2nd', '3rd']}    #D\n",
    ")    #D\n",
    "\n",
    "p_host_strategy = TabularCPD(    #E\n",
    "    variable='Strategy',    #E\n",
    "    variable_card=2,    #E\n",
    "    values=[[.5], [.5]],    #E\n",
    "    state_names={'Strategy': ['stay', 'switch']}    #E\n",
    ")    #E\n",
    "\n",
    "f_host_door_selection = TabularCPD(    #F\n",
    "    variable='Host Door Selection',    #F\n",
    "    variable_card=3,    #F\n",
    "    values=[    #F\n",
    "        [0,0,0,0,1,1,0,1,1,0,0,0,0,0,1,0,1,0],    #F\n",
    "        [1,0,1,0,0,0,1,0,0,0,0,1,0,0,0,1,0,1],    #F\n",
    "        [0,1,0,1,0,0,0,0,0,1,1,0,1,1,0,0,0,0]    #F\n",
    "    ],    #F\n",
    "    evidence=['Host Inclination', 'Door with Car', 'Player First Choice'],    #F\n",
    "    evidence_card=[2, 3, 3],    #F\n",
    "    state_names={    #F\n",
    "        'Host Door Selection':['1st', '2nd', '3rd'],    #F\n",
    "        'Host Inclination': ['left', 'right'],    #F\n",
    "        'Door with Car': ['1st', '2nd', '3rd'],    #F\n",
    "        'Player First Choice': ['1st', '2nd', '3rd']    #F\n",
    "    }    #F\n",
    ")    #F\n",
    "\n",
    "f_second_choice = TabularCPD(    #G\n",
    "    variable='Player Second Choice',    #G\n",
    "    variable_card=3,    #G\n",
    "    values=[    #G\n",
    "        [1,0,0,1,0,0,1,0,0,0,0,0,0,0,1,0,1,0],    #G\n",
    "        [0,1,0,0,1,0,0,1,0,1,0,1,0,1,0,1,0,1],    #G\n",
    "        [0,0,1,0,0,1,0,0,1,0,1,0,1,0,0,0,0,0]    #G\n",
    "    ],    #G\n",
    "    evidence=['Strategy', 'Host Door Selection', 'Player First Choice'],    #G\n",
    "    evidence_card=[2, 3, 3],    #G\n",
    "    state_names={    #G\n",
    "        'Player Second Choice': ['1st', '2nd', '3rd'],    #G\n",
    "        'Strategy': ['stay', 'switch'],    #G\n",
    "        'Host Door Selection': ['1st', '2nd', '3rd'],    #G\n",
    "        'Player First Choice': ['1st', '2nd', '3rd']    #G\n",
    "    }    #G\n",
    ")    #G\n",
    "\n",
    "f_win_or_lose = TabularCPD(    #H\n",
    "    variable='Win or Lose',    #H\n",
    "    variable_card=2,    #H\n",
    "    values=[    #H\n",
    "        [1,0,0,0,1,0,0,0,1],    #H\n",
    "        [0,1,1,1,0,1,1,1,0],    #H\n",
    "    ],    #H\n",
    "    evidence=['Player Second Choice', 'Door with Car'],    #H\n",
    "    evidence_card=[3, 3],    #H\n",
    "    state_names={    #H\n",
    "        'Win or Lose': ['win', 'lose'],    #H\n",
    "        'Player Second Choice': ['1st', '2nd', '3rd'],    #H\n",
    "        'Door with Car': ['1st', '2nd', '3rd']    #H\n",
    "    }    #H\n",
    ")    #H\n",
    "\n",
    "monty_hall_model.add_cpds(    #I\n",
    "    p_host_inclination,    #I\n",
    "    p_door_with_car,    #I\n",
    "    p_player_first_choice,    #I\n",
    "    p_host_strategy,    #I\n",
    "    f_host_door_selection,    #I\n",
    "    f_second_choice,    #I\n",
    "    f_win_or_lose    #I\n",
    ")    #I\n",
    "\n",
    "#A Build the causal DAG.\n",
    "#B A CPD for the variable Host Inclination.  In cases when the player chooses the door with the car, the host has a choice between the two other doors. This variable is \"left\" when the host is inclined to choose the left-most door, and \"right\" if the host is inclined to choose the right-most door.\n",
    "#C A CPD for the variable representing which door has the prize card.  Assume each door has equal probability of having the car.\n",
    "#D A CPD for variable representing the player's first door choice.  Each door has equal probability of being chosen.\n",
    "#E A CPD for variable representing the player's strategy.  \"Stay\" is the strategy of staying with the first choice, and \"switch\" is the strategy of switching doors.\n",
    "#F Structural assignment function for the host's door selection.\n",
    "#G Structural assignment function for the player's second choice.\n",
    "#H Structural assignment function for whether the player wins or loses.\n",
    "#I Add the CPDs to the causal DAG."
   ]
  },
  {
   "cell_type": "code",
   "execution_count": null,
   "metadata": {
    "colab": {
     "base_uri": "https://localhost:8080/"
    },
    "id": "fgmoySSm27MG",
    "outputId": "a1cbbabe-e990-4137-fa46-823ca8e54db9"
   },
   "outputs": [
    {
     "name": "stdout",
     "output_type": "stream",
     "text": [
      "+-------------------+--------------------+\n",
      "| Win or Lose       |   phi(Win or Lose) |\n",
      "+===================+====================+\n",
      "| Win or Lose(win)  |             0.3333 |\n",
      "+-------------------+--------------------+\n",
      "| Win or Lose(lose) |             0.6667 |\n",
      "+-------------------+--------------------+\n",
      "+-------------------+--------------------+\n",
      "| Win or Lose       |   phi(Win or Lose) |\n",
      "+===================+====================+\n",
      "| Win or Lose(win)  |             0.6667 |\n",
      "+-------------------+--------------------+\n",
      "| Win or Lose(lose) |             0.3333 |\n",
      "+-------------------+--------------------+\n"
     ]
    }
   ],
   "source": [
    "inference_engine = VariableElimination(monty_hall_model)\n",
    "print(inference_engine.query(['Win or Lose'], evidence={'Strategy': 'stay'}))\n",
    "print(inference_engine.query(['Win or Lose'], evidence={'Strategy': 'switch'}))"
   ]
  },
  {
   "cell_type": "code",
   "execution_count": null,
   "metadata": {
    "colab": {
     "base_uri": "https://localhost:8080/"
    },
    "id": "BTAlAtR65tvv",
    "outputId": "7b31a179-0961-40b2-c3f4-a2c3a797ab80"
   },
   "outputs": [
    {
     "name": "stdout",
     "output_type": "stream",
     "text": [
      "+------------------+-----------------+\n",
      "| Strategy         |   phi(Strategy) |\n",
      "+==================+=================+\n",
      "| Strategy(stay)   |          0.3333 |\n",
      "+------------------+-----------------+\n",
      "| Strategy(switch) |          0.6667 |\n",
      "+------------------+-----------------+\n"
     ]
    }
   ],
   "source": [
    "print(inference_engine.query(['Strategy'], evidence={'Win or Lose': 'win'}))"
   ]
  }
 ],
 "metadata": {
  "colab": {
   "include_colab_link": true,
   "provenance": []
  },
  "kernelspec": {
   "display_name": "Python 3 (ipykernel)",
   "language": "python",
   "name": "python3"
  },
  "language_info": {
   "codemirror_mode": {
    "name": "ipython",
    "version": 3
   },
   "file_extension": ".py",
   "mimetype": "text/x-python",
   "name": "python",
   "nbconvert_exporter": "python",
   "pygments_lexer": "ipython3",
   "version": "3.11.7"
  }
 },
 "nbformat": 4,
 "nbformat_minor": 4
}
