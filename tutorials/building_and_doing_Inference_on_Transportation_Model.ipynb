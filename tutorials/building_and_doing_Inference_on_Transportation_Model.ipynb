{
  "nbformat": 4,
  "nbformat_minor": 0,
  "metadata": {
    "colab": {
      "name": "Building and doing Inference on Transportation Model.ipynb",
      "provenance": [],
      "include_colab_link": true
    },
    "kernelspec": {
      "name": "python3",
      "display_name": "Python 3"
    },
    "language_info": {
      "name": "python"
    }
  },
  "cells": [
    {
      "cell_type": "markdown",
      "metadata": {
        "id": "view-in-github",
        "colab_type": "text"
      },
      "source": [
        "<a href=\"https://colab.research.google.com/github/robert-altdeep/causalML/blob/update-transportation-example/Building_and_doing_Inference_on_Transportation_Model.ipynb\" target=\"_parent\"><img src=\"https://colab.research.google.com/assets/colab-badge.svg\" alt=\"Open In Colab\"/></a>"
      ]
    },
    {
      "cell_type": "code",
      "metadata": {
        "colab": {
          "base_uri": "https://localhost:8080/"
        },
        "id": "w_M3POtQg6_w",
        "outputId": "98f7569b-c9ba-47bd-ea6c-612b99429367"
      },
      "source": [
        "!pip install pgmpy"
      ],
      "execution_count": 3,
      "outputs": [
        {
          "output_type": "stream",
          "name": "stdout",
          "text": [
            "Collecting pgmpy\n",
            "  Downloading pgmpy-0.1.17-py3-none-any.whl (1.9 MB)\n",
            "\u001b[K     |████████████████████████████████| 1.9 MB 4.3 MB/s \n",
            "\u001b[?25hRequirement already satisfied: pyparsing in /usr/local/lib/python3.7/dist-packages (from pgmpy) (3.0.7)\n",
            "Requirement already satisfied: torch in /usr/local/lib/python3.7/dist-packages (from pgmpy) (1.10.0+cu111)\n",
            "Requirement already satisfied: scipy in /usr/local/lib/python3.7/dist-packages (from pgmpy) (1.4.1)\n",
            "Requirement already satisfied: pandas in /usr/local/lib/python3.7/dist-packages (from pgmpy) (1.3.5)\n",
            "Requirement already satisfied: tqdm in /usr/local/lib/python3.7/dist-packages (from pgmpy) (4.62.3)\n",
            "Requirement already satisfied: statsmodels in /usr/local/lib/python3.7/dist-packages (from pgmpy) (0.10.2)\n",
            "Requirement already satisfied: scikit-learn in /usr/local/lib/python3.7/dist-packages (from pgmpy) (1.0.2)\n",
            "Requirement already satisfied: joblib in /usr/local/lib/python3.7/dist-packages (from pgmpy) (1.1.0)\n",
            "Requirement already satisfied: numpy in /usr/local/lib/python3.7/dist-packages (from pgmpy) (1.19.5)\n",
            "Requirement already satisfied: networkx in /usr/local/lib/python3.7/dist-packages (from pgmpy) (2.6.3)\n",
            "Requirement already satisfied: pytz>=2017.3 in /usr/local/lib/python3.7/dist-packages (from pandas->pgmpy) (2018.9)\n",
            "Requirement already satisfied: python-dateutil>=2.7.3 in /usr/local/lib/python3.7/dist-packages (from pandas->pgmpy) (2.8.2)\n",
            "Requirement already satisfied: six>=1.5 in /usr/local/lib/python3.7/dist-packages (from python-dateutil>=2.7.3->pandas->pgmpy) (1.15.0)\n",
            "Requirement already satisfied: threadpoolctl>=2.0.0 in /usr/local/lib/python3.7/dist-packages (from scikit-learn->pgmpy) (3.1.0)\n",
            "Requirement already satisfied: patsy>=0.4.0 in /usr/local/lib/python3.7/dist-packages (from statsmodels->pgmpy) (0.5.2)\n",
            "Requirement already satisfied: typing-extensions in /usr/local/lib/python3.7/dist-packages (from torch->pgmpy) (3.10.0.2)\n",
            "Installing collected packages: pgmpy\n",
            "Successfully installed pgmpy-0.1.17\n"
          ]
        }
      ]
    },
    {
      "cell_type": "code",
      "metadata": {
        "id": "QcTbNSfEjM3t"
      },
      "source": [
        "import pandas as pd\n",
        "from pgmpy.models import BayesianModel\n",
        "from pgmpy.estimators import BayesianEstimator\n",
        "from pgmpy.inference import BeliefPropagation\n",
        "from pgmpy.inference import VariableElimination\n",
        "import networkx as nx\n",
        "import matplotlib.pyplot as plt\n"
      ],
      "execution_count": 6,
      "outputs": []
    },
    {
      "cell_type": "markdown",
      "source": [
        "**Step 1**: Build the transportation model."
      ],
      "metadata": {
        "id": "oFHCZaucjeVD"
      }
    },
    {
      "cell_type": "code",
      "metadata": {
        "id": "tGJWOI9-_KlO",
        "colab": {
          "base_uri": "https://localhost:8080/",
          "height": 376
        },
        "outputId": "e78c48f0-3f02-4342-8019-e3aed9020d49"
      },
      "source": [
        "model = BayesianModel(\n",
        "    [\n",
        "        ('A', 'E'),\n",
        "        ('S', 'E'),\n",
        "        ('E', 'O'),\n",
        "        ('E', 'R'),\n",
        "        ('O', 'T'),\n",
        "        ('R', 'T')\n",
        "    ]\n",
        ")\n",
        "nx.draw(model, with_labels=True)\n",
        "plt.show()"
      ],
      "execution_count": 7,
      "outputs": [
        {
          "output_type": "stream",
          "name": "stderr",
          "text": [
            "/usr/local/lib/python3.7/dist-packages/pgmpy/models/BayesianModel.py:10: FutureWarning: BayesianModel has been renamed to BayesianNetwork. Please use BayesianNetwork class, BayesianModel will be removed in future.\n",
            "  FutureWarning,\n"
          ]
        },
        {
          "output_type": "display_data",
          "data": {
            "image/png": "[encoded data removed]",
            "text/plain": [
              "<Figure size 432x288 with 1 Axes>"
            ]
          },
          "metadata": {}
        }
      ]
    },
    {
      "cell_type": "markdown",
      "source": [
        "## Step 2: Train a causal graphical model on the causal DAG.\n",
        "\n",
        "We can train a causal graphica model on a causal DAG structure.  In this case we'll download training data and train the parameters of the conditional probability distribution of each node give its parents in the DAG.  The training data looks as follows."
      ],
      "metadata": {
        "id": "iYtnlYHAjkUs"
      }
    },
    {
      "cell_type": "code",
      "source": [
        "survey_url = \"https://raw.githubusercontent.com/altdeep/causalML/master/datasets/transportation_survey.csv\"\n",
        "data = pd.read_csv(survey_url)\n",
        "print(data)"
      ],
      "metadata": {
        "id": "fR474t5XkRNR"
      },
      "execution_count": null,
      "outputs": []
    },
    {
      "cell_type": "markdown",
      "source": [
        "All of the variables are categorical.  So we'll use conditional probability tables to represent the conditional probability distributions.  We'll use the date to fit the parameters of these tables.\n",
        "\n",
        "We fit using `BayesianEstimator`, which uses Bayesian estimation of each parameter using the [Dirichlet conjugate prior](https://en.wikipedia.org/wiki/Dirichlet_distribution#Conjugate_prior_of_the_Dirichlet_distribution).  If you are unfamiliar with the technique, you can think of it as [an additive smoothing approach](https://en.wikipedia.org/wiki/Additive_smoothing) that prevents us from getting parameter estimates of 0 or 1 in cases where the data is sparse.  The default estimation method for the `model.fit` method is [maximum likelihood estimation](https://en.wikipedia.org/wiki/Maximum_likelihood_estimation).  Note that the weight learning/parameter fitting technique is purely a statistical/computation concern, it has nothing to do with the causal elements of the analysis."
      ],
      "metadata": {
        "id": "A-WU8oXzkSJ-"
      }
    },
    {
      "cell_type": "code",
      "metadata": {
        "colab": {
          "base_uri": "https://localhost:8080/"
        },
        "id": "LNaZR1ELz1Og",
        "outputId": "25ee3632-6260-4176-f81d-066a48fdb1d6"
      },
      "source": [
        "\n",
        "model.fit(data, estimator=BayesianEstimator)\n",
        "\n",
        "# Print out CPD for variable \"O\"\n",
        "print(model.get_cpds()[3])"
      ],
      "execution_count": null,
      "outputs": [
        {
          "output_type": "stream",
          "name": "stdout",
          "text": [
            "+---------+----------------------+----------------------+\n",
            "| E       | E(high)              | E(uni)               |\n",
            "+---------+----------------------+----------------------+\n",
            "| O(emp)  | 0.9786324786324786   | 0.9705882352941176   |\n",
            "+---------+----------------------+----------------------+\n",
            "| O(self) | 0.021367521367521368 | 0.029411764705882353 |\n",
            "+---------+----------------------+----------------------+\n"
          ]
        }
      ]
    },
    {
      "cell_type": "markdown",
      "source": [
        "In canonical ways of learning about causal inference, students have to learn various statistical inference techniques for various types of causal analysis.\n",
        "\n",
        "Yet a distinctive trend in machine learning is the commodification of training and inference.  A great example is the probabilistic graphical modeling software comes with probabilistic inference algorithms that will generally work without any user input once we've specified the model.  If we implement a causal graphical model, we can use these algorithms for causal inference.\n",
        "\n",
        "Two prime examples of such algorithms are [variable elimination](https://en.wikipedia.org/wiki/Variable_elimination) and [belief propagation](https://en.wikipedia.org/wiki/Belief_propagation).  "
      ],
      "metadata": {
        "id": "l2oGLml9mz_b"
      }
    },
    {
      "cell_type": "code",
      "metadata": {
        "colab": {
          "base_uri": "https://localhost:8080/"
        },
        "id": "gn6Ic-hnAKpM",
        "outputId": "3c1a7787-9cca-4d83-ee50-bc45d7943059"
      },
      "source": [
        "inference = VariableElimination(model)\n",
        "query_result = inference.query(['R'], evidence={'T': 'train'})\n",
        "print(query_result)"
      ],
      "execution_count": null,
      "outputs": [
        {
          "output_type": "stream",
          "name": "stderr",
          "text": [
            "Finding Elimination Order: :   0%|          | 0/4 [00:00<?, ?it/s]\n",
            "  0%|          | 0/4 [00:00<?, ?it/s]\u001b[A\n",
            "Eliminating: O:   0%|          | 0/4 [00:00<?, ?it/s]\u001b[A\n",
            "Eliminating: S:   0%|          | 0/4 [00:00<?, ?it/s]\u001b[A\n",
            "Eliminating: A:   0%|          | 0/4 [00:00<?, ?it/s]\u001b[A\n",
            "Eliminating: E: 100%|██████████| 4/4 [00:00<00:00, 111.74it/s]"
          ]
        },
        {
          "output_type": "stream",
          "name": "stdout",
          "text": [
            "+----------+----------+\n",
            "| R        |   phi(R) |\n",
            "+==========+==========+\n",
            "| R(big)   |   0.6787 |\n",
            "+----------+----------+\n",
            "| R(small) |   0.3213 |\n",
            "+----------+----------+\n"
          ]
        },
        {
          "output_type": "stream",
          "name": "stderr",
          "text": [
            "\n"
          ]
        }
      ]
    },
    {
      "cell_type": "code",
      "metadata": {
        "colab": {
          "base_uri": "https://localhost:8080/"
        },
        "id": "m1nREL-4JAHL",
        "outputId": "5c1efbce-b707-4d5e-9a5c-76b28b20d386"
      },
      "source": [
        "inference = BeliefPropagation(model)\n",
        "query_result = inference.query(['A'], evidence={'T': 'train'})\n",
        "print(query_result)"
      ],
      "execution_count": null,
      "outputs": [
        {
          "output_type": "stream",
          "name": "stderr",
          "text": [
            "Finding Elimination Order: : 100%|██████████| 4/4 [00:15<00:00,  3.88s/it]\n",
            "Eliminating: E: 100%|██████████| 4/4 [00:00<00:00, 183.48it/s]"
          ]
        },
        {
          "output_type": "stream",
          "name": "stdout",
          "text": [
            "+----------+----------+\n",
            "| A        |   phi(A) |\n",
            "+==========+==========+\n",
            "| A(adult) |   0.3921 |\n",
            "+----------+----------+\n",
            "| A(old)   |   0.1481 |\n",
            "+----------+----------+\n",
            "| A(young) |   0.4598 |\n",
            "+----------+----------+\n"
          ]
        },
        {
          "output_type": "stream",
          "name": "stderr",
          "text": [
            "\n"
          ]
        }
      ]
    },
    {
      "cell_type": "markdown",
      "source": [
        "To learn more about inference with graphical models, view [part 2 of Daphne Koller's course on graphical models](https://www.coursera.org/learn/probabilistic-graphical-models-2-inference).\n",
        "\n",
        "We can also implement causal models in modern probabilistic programming languages, which are more flexible that probabilistic graphical models.  Some of these languages implement cutting-edge inference algorithms that make use of deep learning technology, such as [Hamiltonian Monte Carlo](https://en.wikipedia.org/wiki/Hamiltonian_Monte_Carlo) and [variational inference](https://en.wikipedia.org/wiki/Variational_Bayesian_methods)."
      ],
      "metadata": {
        "id": "zu9JfF1epf8s"
      }
    }
  ]
}
