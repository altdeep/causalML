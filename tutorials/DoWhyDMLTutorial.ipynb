{
  "nbformat": 4,
  "nbformat_minor": 0,
  "metadata": {
    "colab": {
      "name": "DoWhyDMLTutorial.ipynb",
      "provenance": [],
      "collapsed_sections": []
    },
    "kernelspec": {
      "name": "python3",
      "display_name": "Python 3"
    },
    "language_info": {
      "name": "python"
    }
  },
  "cells": [
    {
      "cell_type": "markdown",
      "metadata": {
        "id": "5Ipq518geRcD"
      },
      "source": [
        "# Tutorial on DoWhy/EconML"
      ]
    },
    {
      "cell_type": "code",
      "metadata": {
        "id": "cvkoqysCeZpS",
        "colab": {
          "base_uri": "https://localhost:8080/"
        },
        "outputId": "bf14026f-92e9-48ba-87ba-266016b06964"
      },
      "source": [
        "# Install package\n",
        "!pip install dowhy\n",
        "!pip install econml\n"
      ],
      "execution_count": null,
      "outputs": [
        {
          "output_type": "stream",
          "name": "stdout",
          "text": [
            "Collecting dowhy\n",
            "  Downloading dowhy-0.7.1-py3-none-any.whl (164 kB)\n",
            "\u001b[?25l\r\u001b[K     |██                              | 10 kB 16.9 MB/s eta 0:00:01\r\u001b[K     |████                            | 20 kB 19.5 MB/s eta 0:00:01\r\u001b[K     |██████                          | 30 kB 22.9 MB/s eta 0:00:01\r\u001b[K     |████████                        | 40 kB 16.3 MB/s eta 0:00:01\r\u001b[K     |██████████                      | 51 kB 13.9 MB/s eta 0:00:01\r\u001b[K     |████████████                    | 61 kB 15.7 MB/s eta 0:00:01\r\u001b[K     |██████████████                  | 71 kB 14.9 MB/s eta 0:00:01\r\u001b[K     |████████████████                | 81 kB 14.3 MB/s eta 0:00:01\r\u001b[K     |██████████████████              | 92 kB 15.1 MB/s eta 0:00:01\r\u001b[K     |███████████████████▉            | 102 kB 15.7 MB/s eta 0:00:01\r\u001b[K     |█████████████████████▉          | 112 kB 15.7 MB/s eta 0:00:01\r\u001b[K     |███████████████████████▉        | 122 kB 15.7 MB/s eta 0:00:01\r\u001b[K     |█████████████████████████▉      | 133 kB 15.7 MB/s eta 0:00:01\r\u001b[K     |███████████████████████████▉    | 143 kB 15.7 MB/s eta 0:00:01\r\u001b[K     |█████████████████████████████▉  | 153 kB 15.7 MB/s eta 0:00:01\r\u001b[K     |███████████████████████████████▉| 163 kB 15.7 MB/s eta 0:00:01\r\u001b[K     |████████████████████████████████| 164 kB 15.7 MB/s \n",
            "\u001b[?25hRequirement already satisfied: sympy>=1.4 in /usr/local/lib/python3.7/dist-packages (from dowhy) (1.7.1)\n",
            "Requirement already satisfied: statsmodels in /usr/local/lib/python3.7/dist-packages (from dowhy) (0.10.2)\n",
            "Collecting pydot>=1.4\n",
            "  Downloading pydot-1.4.2-py2.py3-none-any.whl (21 kB)\n",
            "Requirement already satisfied: networkx>=2.0 in /usr/local/lib/python3.7/dist-packages (from dowhy) (2.6.3)\n",
            "Requirement already satisfied: pandas>=0.24 in /usr/local/lib/python3.7/dist-packages (from dowhy) (1.3.5)\n",
            "Requirement already satisfied: scipy in /usr/local/lib/python3.7/dist-packages (from dowhy) (1.4.1)\n",
            "Requirement already satisfied: scikit-learn in /usr/local/lib/python3.7/dist-packages (from dowhy) (1.0.2)\n",
            "Requirement already satisfied: numpy>=1.15 in /usr/local/lib/python3.7/dist-packages (from dowhy) (1.21.6)\n",
            "Requirement already satisfied: pytz>=2017.3 in /usr/local/lib/python3.7/dist-packages (from pandas>=0.24->dowhy) (2022.1)\n",
            "Requirement already satisfied: python-dateutil>=2.7.3 in /usr/local/lib/python3.7/dist-packages (from pandas>=0.24->dowhy) (2.8.2)\n",
            "Requirement already satisfied: pyparsing>=2.1.4 in /usr/local/lib/python3.7/dist-packages (from pydot>=1.4->dowhy) (3.0.8)\n",
            "Requirement already satisfied: six>=1.5 in /usr/local/lib/python3.7/dist-packages (from python-dateutil>=2.7.3->pandas>=0.24->dowhy) (1.15.0)\n",
            "Requirement already satisfied: mpmath>=0.19 in /usr/local/lib/python3.7/dist-packages (from sympy>=1.4->dowhy) (1.2.1)\n",
            "Requirement already satisfied: joblib>=0.11 in /usr/local/lib/python3.7/dist-packages (from scikit-learn->dowhy) (1.1.0)\n",
            "Requirement already satisfied: threadpoolctl>=2.0.0 in /usr/local/lib/python3.7/dist-packages (from scikit-learn->dowhy) (3.1.0)\n",
            "Requirement already satisfied: patsy>=0.4.0 in /usr/local/lib/python3.7/dist-packages (from statsmodels->dowhy) (0.5.2)\n",
            "Installing collected packages: pydot, dowhy\n",
            "  Attempting uninstall: pydot\n",
            "    Found existing installation: pydot 1.3.0\n",
            "    Uninstalling pydot-1.3.0:\n",
            "      Successfully uninstalled pydot-1.3.0\n",
            "Successfully installed dowhy-0.7.1 pydot-1.4.2\n",
            "Collecting econml\n",
            "  Downloading econml-0.13.0-cp37-cp37m-manylinux_2_17_x86_64.manylinux2014_x86_64.whl (3.3 MB)\n",
            "\u001b[K     |████████████████████████████████| 3.3 MB 7.6 MB/s \n",
            "\u001b[?25hRequirement already satisfied: pandas in /usr/local/lib/python3.7/dist-packages (from econml) (1.3.5)\n",
            "Requirement already satisfied: scikit-learn>0.22.0 in /usr/local/lib/python3.7/dist-packages (from econml) (1.0.2)\n",
            "Requirement already satisfied: numpy in /usr/local/lib/python3.7/dist-packages (from econml) (1.21.6)\n",
            "Requirement already satisfied: scipy>1.4.0 in /usr/local/lib/python3.7/dist-packages (from econml) (1.4.1)\n",
            "Collecting sparse\n",
            "  Downloading sparse-0.13.0-py2.py3-none-any.whl (77 kB)\n",
            "\u001b[K     |████████████████████████████████| 77 kB 4.2 MB/s \n",
            "\u001b[?25hRequirement already satisfied: joblib>=0.13.0 in /usr/local/lib/python3.7/dist-packages (from econml) (1.1.0)\n",
            "Requirement already satisfied: statsmodels>=0.10 in /usr/local/lib/python3.7/dist-packages (from econml) (0.10.2)\n",
            "Collecting shap<0.40.0,>=0.38.1\n",
            "  Downloading shap-0.39.0.tar.gz (356 kB)\n",
            "\u001b[K     |████████████████████████████████| 356 kB 11.0 MB/s \n",
            "\u001b[?25hRequirement already satisfied: lightgbm in /usr/local/lib/python3.7/dist-packages (from econml) (2.2.3)\n",
            "Collecting dowhy<0.7\n",
            "  Downloading dowhy-0.6-py3-none-any.whl (123 kB)\n",
            "\u001b[K     |████████████████████████████████| 123 kB 52.7 MB/s \n",
            "\u001b[?25hRequirement already satisfied: networkx>=2.0 in /usr/local/lib/python3.7/dist-packages (from dowhy<0.7->econml) (2.6.3)\n",
            "Requirement already satisfied: sympy>=1.4 in /usr/local/lib/python3.7/dist-packages (from dowhy<0.7->econml) (1.7.1)\n",
            "Requirement already satisfied: pydot>=1.4 in /usr/local/lib/python3.7/dist-packages (from dowhy<0.7->econml) (1.4.2)\n",
            "Requirement already satisfied: python-dateutil>=2.7.3 in /usr/local/lib/python3.7/dist-packages (from pandas->econml) (2.8.2)\n",
            "Requirement already satisfied: pytz>=2017.3 in /usr/local/lib/python3.7/dist-packages (from pandas->econml) (2022.1)\n",
            "Requirement already satisfied: pyparsing>=2.1.4 in /usr/local/lib/python3.7/dist-packages (from pydot>=1.4->dowhy<0.7->econml) (3.0.8)\n",
            "Requirement already satisfied: six>=1.5 in /usr/local/lib/python3.7/dist-packages (from python-dateutil>=2.7.3->pandas->econml) (1.15.0)\n",
            "Requirement already satisfied: threadpoolctl>=2.0.0 in /usr/local/lib/python3.7/dist-packages (from scikit-learn>0.22.0->econml) (3.1.0)\n",
            "Requirement already satisfied: tqdm>4.25.0 in /usr/local/lib/python3.7/dist-packages (from shap<0.40.0,>=0.38.1->econml) (4.64.0)\n",
            "Collecting slicer==0.0.7\n",
            "  Downloading slicer-0.0.7-py3-none-any.whl (14 kB)\n",
            "Requirement already satisfied: numba in /usr/local/lib/python3.7/dist-packages (from shap<0.40.0,>=0.38.1->econml) (0.51.2)\n",
            "Requirement already satisfied: cloudpickle in /usr/local/lib/python3.7/dist-packages (from shap<0.40.0,>=0.38.1->econml) (1.3.0)\n",
            "Requirement already satisfied: patsy>=0.4.0 in /usr/local/lib/python3.7/dist-packages (from statsmodels>=0.10->econml) (0.5.2)\n",
            "Requirement already satisfied: mpmath>=0.19 in /usr/local/lib/python3.7/dist-packages (from sympy>=1.4->dowhy<0.7->econml) (1.2.1)\n",
            "Requirement already satisfied: llvmlite<0.35,>=0.34.0.dev0 in /usr/local/lib/python3.7/dist-packages (from numba->shap<0.40.0,>=0.38.1->econml) (0.34.0)\n",
            "Requirement already satisfied: setuptools in /usr/local/lib/python3.7/dist-packages (from numba->shap<0.40.0,>=0.38.1->econml) (57.4.0)\n",
            "Building wheels for collected packages: shap\n",
            "  Building wheel for shap (setup.py) ... \u001b[?25l\u001b[?25hdone\n",
            "  Created wheel for shap: filename=shap-0.39.0-cp37-cp37m-linux_x86_64.whl size=491665 sha256=2d868edb4b4f13ff79944b4872a68cb049d13bb824381b56b2af97ea97fddffc\n",
            "  Stored in directory: /root/.cache/pip/wheels/ca/25/8f/6ae5df62c32651cd719e972e738a8aaa4a87414c4d2b14c9c0\n",
            "Successfully built shap\n",
            "Installing collected packages: slicer, sparse, shap, dowhy, econml\n",
            "  Attempting uninstall: dowhy\n",
            "    Found existing installation: dowhy 0.7.1\n",
            "    Uninstalling dowhy-0.7.1:\n",
            "      Successfully uninstalled dowhy-0.7.1\n",
            "Successfully installed dowhy-0.6 econml-0.13.0 shap-0.39.0 slicer-0.0.7 sparse-0.13.0\n"
          ]
        }
      ]
    },
    {
      "cell_type": "code",
      "metadata": {
        "id": "RHvs5CLMIOsf"
      },
      "source": [
        "import warnings\n",
        "warnings.filterwarnings('ignore')\n",
        "\n",
        "from dowhy import CausalModel\n",
        "from dowhy import datasets\n",
        "import econml # Needed for Double ML\n",
        "\n",
        "import networkx as nx\n",
        "import matplotlib.pyplot as plt"
      ],
      "execution_count": null,
      "outputs": []
    },
    {
      "cell_type": "markdown",
      "metadata": {
        "id": "eOJG5N57pDcG"
      },
      "source": [
        "# Tutorial on Causal Inference with DoWhy\n",
        "\n",
        "This tutorial illustrates causal inference with the DoWhy library. It assumes you understand ideas like the causal directed acyclic graph, d-separation, as well as causal queries and estimands. To learn more about these ideas, consider taking the free [Causal Generative Modeling Minicourse](https://altdeep.teachable.com/p/causal-ml-minicourse).\n",
        "\n",
        "DoWhy is a library in active development. The goal is to provide users with end-to-end causal data science and causal ML without deep knowledge of formal causal inference theory or estimation methods. End-to-end causal DS and ML is a broad scope that includes causal discovery and advanced multi-world counterfactual reasoning. So this tutorial focuses on using DoWhy to estimate causal effects, which is the library's most popular use case.\n",
        "\n",
        "## Refresher on ATEs and CATEs\n",
        "\n",
        "Causal effects are also called average treatment effects (ATE) or conditional average treatment effects (CATE).  Let $v_i$ denote the $i^{\\text{th}}$ cause of interest (DoWhy allows you to have multiple) and $y$ denote the effect of interest.  In causal \"do\" notation (where \"do\" refers to an intervention), the ATE is: $$\\frac{dE(y|do(v_i=x))}{dx}$$  This expression is a function that varies in x, reflecting that a cause can have different impacts on an effect depending on the value of the cause.\n",
        "\n",
        "However, it is common to look at binary causes, such as in an A/B test or an experiment with a treatment and control.  In that case, the causal effect is: \n",
        "$$E(y|\\text{do}(v_i = 1))-E(y|\\text{do}(v_i = 0))$$ where 1 or `True` represents the treatment and 0 or `False` represents the control.\n",
        "\n",
        "The \"heterogeneity\" of treatment effects refers to how the magnitude of causal effects varies with subsets of the data. \"Heterogeneous treatment effects\" are typically addressed with CATEs; a CATE is just a ATE for a specific subset of the population you are modeling. When using probability models, we address heterogeneity by treating causal effects as random variables and model their probability distributions; we model a CATE by conditioning that variable on other variables.  Suppose, for example, that the variable A stood for age, and the event A > 65 meant that age was greater than 65.  If you calculated the ATE for when CATE was greater than 65, you'd have a CATE: $$E(y|\\text{do}(v_i = 1), A>65)-E(y|\\text{do}(v_i = 0), A>65)$$\n",
        "\n",
        "## Simulating data\n",
        "\n",
        "I start by simulating data.  Simulating data is an excellent way to familiarize yourself with new algorithms because if there is an issue, you know it is not because of an artifact in the data.  In following code, I'll simulate a dataset with one cause or \"treatment\" variable, one effect or \"outcome\" variable, five common causes, two instruments, and one mediator or \"front door.\"\n",
        "\n",
        "I'll limit the dataset to only thirty samples.  A small dataset will give us a stronger impression of how various statistical methods for causal inference differ.  \n"
      ]
    },
    {
      "cell_type": "code",
      "metadata": {
        "id": "THVnr-AUIIKB"
      },
      "source": [
        "sim_data = datasets.linear_dataset(\n",
        "    beta=10.0,\n",
        "    num_treatments=1,\n",
        "    num_instruments=2,\n",
        "    num_common_causes=5,\n",
        "    num_frontdoor_variables=1,\n",
        "    num_samples=10000,\n",
        "    treatment_is_binary=True,\n",
        "    outcome_is_binary=False\n",
        ")"
      ],
      "execution_count": null,
      "outputs": []
    },
    {
      "cell_type": "code",
      "metadata": {
        "colab": {
          "base_uri": "https://localhost:8080/",
          "height": 166
        },
        "id": "xO73aKOCDEUA",
        "outputId": "fd82ddb4-de3f-41f3-e734-ef89cbdc4f91"
      },
      "source": [
        "sim_data['gml_graph']"
      ],
      "execution_count": null,
      "outputs": [
        {
          "output_type": "execute_result",
          "data": {
            "text/plain": [
              "'graph[directed 1node[ id \"y\" label \"y\"]node[ id \"Unobserved Confounders\" label \"Unobserved Confounders\"]edge[source \"Unobserved Confounders\" target \"y\"]node[ id \"W0\" label \"W0\"] node[ id \"W1\" label \"W1\"] node[ id \"W2\" label \"W2\"] node[ id \"W3\" label \"W3\"] node[ id \"W4\" label \"W4\"]node[ id \"Z0\" label \"Z0\"] node[ id \"Z1\" label \"Z1\"]node[ id \"FD0\" label \"FD0\"]node[ id \"v0\" label \"v0\"]edge[source \"Unobserved Confounders\" target \"v0\"]edge[ source \"W0\" target \"v0\"] edge[ source \"W1\" target \"v0\"] edge[ source \"W2\" target \"v0\"] edge[ source \"W3\" target \"v0\"] edge[ source \"W4\" target \"v0\"]edge[ source \"Z0\" target \"v0\"] edge[ source \"Z1\" target \"v0\"]edge[ source \"v0\" target \"FD0\"]edge[ source \"W0\" target \"y\"] edge[ source \"W1\" target \"y\"] edge[ source \"W2\" target \"y\"] edge[ source \"W3\" target \"y\"] edge[ source \"W4\" target \"y\"]edge[ source \"FD0\" target \"y\"]edge[ source \"W0\" target \"FD0\"]edge[ source \"W1\" target \"FD0\"]edge[ source \"W2\" target \"FD0\"]edge[ source \"W3\" target \"FD0\"]edge[ source \"W4\" target \"FD0\"]]'"
            ],
            "application/vnd.google.colaboratory.intrinsic+json": {
              "type": "string"
            }
          },
          "metadata": {},
          "execution_count": 4
        }
      ]
    },
    {
      "cell_type": "code",
      "metadata": {
        "colab": {
          "base_uri": "https://localhost:8080/",
          "height": 248
        },
        "id": "ZwdbCjcjdyA9",
        "outputId": "62d32a61-1afa-4518-8119-9f734819411d"
      },
      "source": [
        "G = nx.parse_gml(sim_data['gml_graph'])\n",
        "pos = {'FD0': (300, 300),\n",
        " 'Unobserved Confounders': (500, 600),\n",
        " 'W0': (0, 500),\n",
        " 'W1': (100, 500),\n",
        " 'W2': (200, 500),\n",
        " 'W3': (300, 500),\n",
        " 'W4': (400, 500),\n",
        " 'Z0': (10, 250),\n",
        " 'Z1': (10, 350),\n",
        " 'v0': (100, 300),\n",
        " 'y': (500, 300)}\n",
        "options = {\n",
        "    \"font_size\": 12,\n",
        "    \"node_size\": 800,\n",
        "    \"node_color\": \"white\",\n",
        "    \"edgecolors\": \"black\",\n",
        "    \"linewidths\": 1,\n",
        "    \"width\": 1,\n",
        "}\n",
        "nx.draw_networkx(G, pos, **options)\n",
        "ax = plt.gca()\n",
        "ax.margins(x=0.40)\n",
        "plt.axis(\"off\")\n",
        "plt.show()"
      ],
      "execution_count": null,
      "outputs": [
        {
          "output_type": "display_data",
          "data": {
            "text/plain": [
              "<Figure size 432x288 with 1 Axes>"
            ],
            "image/png": "[encoded data removed]"
          },
          "metadata": {}
        }
      ]
    },
    {
      "cell_type": "markdown",
      "metadata": {
        "id": "5F43wV-tPeEu"
      },
      "source": [
        "The argument `beta` is the coefficient multiplied against the causal treatment variable(s) in a linear model.  This argument can be a list or array with values corresponding to individual coefficients for multiple treatment variables.  In the case of a single float or int argument, the same `beta` is used for each treatment variable.\n",
        "\n",
        "The return object is a dictionary.  One of the elements of the dictionary is a dataframe containing the simulated data."
      ]
    },
    {
      "cell_type": "code",
      "metadata": {
        "id": "DGRxq3-XPqRE",
        "colab": {
          "base_uri": "https://localhost:8080/",
          "height": 299
        },
        "outputId": "bee0c10e-8b8f-42d0-e8a4-96c7e4686e16"
      },
      "source": [
        "print(\"Causes (Treatments):\", sim_data[\"treatment_name\"])\n",
        "print(\"Outcome:\", sim_data[\"outcome_name\"])\n",
        "print(\"Instruments:\", sim_data[\"instrument_names\"])\n",
        "print(\"Common Causes:\", sim_data[\"common_causes_names\"])\n",
        "print(\"Mediators:\", sim_data[\"frontdoor_variables_names\"])\n",
        "\n",
        "sim_data['df'][:5]"
      ],
      "execution_count": null,
      "outputs": [
        {
          "output_type": "stream",
          "name": "stdout",
          "text": [
            "Causes (Treatments): ['v0']\n",
            "Outcome: y\n",
            "Instruments: ['Z0', 'Z1']\n",
            "Common Causes: ['W0', 'W1', 'W2', 'W3', 'W4']\n",
            "Mediators: ['FD0']\n"
          ]
        },
        {
          "output_type": "execute_result",
          "data": {
            "text/plain": [
              "        FD0   Z0        Z1        W0        W1        W2        W3        W4  \\\n",
              "0 -0.179452  0.0  0.624085 -0.582666 -0.362233 -0.995227  1.474667  2.778782   \n",
              "1 -0.781266  0.0  0.947347 -0.839743 -0.973826  0.481474  0.080058 -1.825324   \n",
              "2 -0.177088  0.0  0.092040 -0.820287 -2.645051 -0.290554 -0.037053 -1.051341   \n",
              "3  0.077812  0.0  0.870281 -0.250943  0.028239 -0.165956 -0.428515 -1.145720   \n",
              "4 -2.959353  1.0  0.229241 -2.225829 -1.641042  1.440352  1.295065 -2.164781   \n",
              "\n",
              "      v0          y  \n",
              "0   True  11.459168  \n",
              "1   True -13.715438  \n",
              "2  False -16.273311  \n",
              "3  False  -6.427644  \n",
              "4  False -21.688041  "
            ],
            "text/html": [
              "\n",
              "  <div id=\"df-d310842b-769f-42c8-88cc-f25c86176d52\">\n",
              "    <div class=\"colab-df-container\">\n",
              "      <div>\n",
              "<style scoped>\n",
              "    .dataframe tbody tr th:only-of-type {\n",
              "        vertical-align: middle;\n",
              "    }\n",
              "\n",
              "    .dataframe tbody tr th {\n",
              "        vertical-align: top;\n",
              "    }\n",
              "\n",
              "    .dataframe thead th {\n",
              "        text-align: right;\n",
              "    }\n",
              "</style>\n",
              "<table border=\"1\" class=\"dataframe\">\n",
              "  <thead>\n",
              "    <tr style=\"text-align: right;\">\n",
              "      <th></th>\n",
              "      <th>FD0</th>\n",
              "      <th>Z0</th>\n",
              "      <th>Z1</th>\n",
              "      <th>W0</th>\n",
              "      <th>W1</th>\n",
              "      <th>W2</th>\n",
              "      <th>W3</th>\n",
              "      <th>W4</th>\n",
              "      <th>v0</th>\n",
              "      <th>y</th>\n",
              "    </tr>\n",
              "  </thead>\n",
              "  <tbody>\n",
              "    <tr>\n",
              "      <th>0</th>\n",
              "      <td>-0.179452</td>\n",
              "      <td>0.0</td>\n",
              "      <td>0.624085</td>\n",
              "      <td>-0.582666</td>\n",
              "      <td>-0.362233</td>\n",
              "      <td>-0.995227</td>\n",
              "      <td>1.474667</td>\n",
              "      <td>2.778782</td>\n",
              "      <td>True</td>\n",
              "      <td>11.459168</td>\n",
              "    </tr>\n",
              "    <tr>\n",
              "      <th>1</th>\n",
              "      <td>-0.781266</td>\n",
              "      <td>0.0</td>\n",
              "      <td>0.947347</td>\n",
              "      <td>-0.839743</td>\n",
              "      <td>-0.973826</td>\n",
              "      <td>0.481474</td>\n",
              "      <td>0.080058</td>\n",
              "      <td>-1.825324</td>\n",
              "      <td>True</td>\n",
              "      <td>-13.715438</td>\n",
              "    </tr>\n",
              "    <tr>\n",
              "      <th>2</th>\n",
              "      <td>-0.177088</td>\n",
              "      <td>0.0</td>\n",
              "      <td>0.092040</td>\n",
              "      <td>-0.820287</td>\n",
              "      <td>-2.645051</td>\n",
              "      <td>-0.290554</td>\n",
              "      <td>-0.037053</td>\n",
              "      <td>-1.051341</td>\n",
              "      <td>False</td>\n",
              "      <td>-16.273311</td>\n",
              "    </tr>\n",
              "    <tr>\n",
              "      <th>3</th>\n",
              "      <td>0.077812</td>\n",
              "      <td>0.0</td>\n",
              "      <td>0.870281</td>\n",
              "      <td>-0.250943</td>\n",
              "      <td>0.028239</td>\n",
              "      <td>-0.165956</td>\n",
              "      <td>-0.428515</td>\n",
              "      <td>-1.145720</td>\n",
              "      <td>False</td>\n",
              "      <td>-6.427644</td>\n",
              "    </tr>\n",
              "    <tr>\n",
              "      <th>4</th>\n",
              "      <td>-2.959353</td>\n",
              "      <td>1.0</td>\n",
              "      <td>0.229241</td>\n",
              "      <td>-2.225829</td>\n",
              "      <td>-1.641042</td>\n",
              "      <td>1.440352</td>\n",
              "      <td>1.295065</td>\n",
              "      <td>-2.164781</td>\n",
              "      <td>False</td>\n",
              "      <td>-21.688041</td>\n",
              "    </tr>\n",
              "  </tbody>\n",
              "</table>\n",
              "</div>\n",
              "      <button class=\"colab-df-convert\" onclick=\"convertToInteractive('df-d310842b-769f-42c8-88cc-f25c86176d52')\"\n",
              "              title=\"Convert this dataframe to an interactive table.\"\n",
              "              style=\"display:none;\">\n",
              "        \n",
              "  <svg xmlns=\"http://www.w3.org/2000/svg\" height=\"24px\"viewBox=\"0 0 24 24\"\n",
              "       width=\"24px\">\n",
              "    <path d=\"M0 0h24v24H0V0z\" fill=\"none\"/>\n",
              "    <path d=\"M18.56 5.44l.94 2.06.94-2.06 2.06-.94-2.06-.94-.94-2.06-.94 2.06-2.06.94zm-11 1L8.5 8.5l.94-2.06 2.06-.94-2.06-.94L8.5 2.5l-.94 2.06-2.06.94zm10 10l.94 2.06.94-2.06 2.06-.94-2.06-.94-.94-2.06-.94 2.06-2.06.94z\"/><path d=\"M17.41 7.96l-1.37-1.37c-.4-.4-.92-.59-1.43-.59-.52 0-1.04.2-1.43.59L10.3 9.45l-7.72 7.72c-.78.78-.78 2.05 0 2.83L4 21.41c.39.39.9.59 1.41.59.51 0 1.02-.2 1.41-.59l7.78-7.78 2.81-2.81c.8-.78.8-2.07 0-2.86zM5.41 20L4 18.59l7.72-7.72 1.47 1.35L5.41 20z\"/>\n",
              "  </svg>\n",
              "      </button>\n",
              "      \n",
              "  <style>\n",
              "    .colab-df-container {\n",
              "      display:flex;\n",
              "      flex-wrap:wrap;\n",
              "      gap: 12px;\n",
              "    }\n",
              "\n",
              "    .colab-df-convert {\n",
              "      background-color: #E8F0FE;\n",
              "      border: none;\n",
              "      border-radius: 50%;\n",
              "      cursor: pointer;\n",
              "      display: none;\n",
              "      fill: #1967D2;\n",
              "      height: 32px;\n",
              "      padding: 0 0 0 0;\n",
              "      width: 32px;\n",
              "    }\n",
              "\n",
              "    .colab-df-convert:hover {\n",
              "      background-color: #E2EBFA;\n",
              "      box-shadow: 0px 1px 2px rgba(60, 64, 67, 0.3), 0px 1px 3px 1px rgba(60, 64, 67, 0.15);\n",
              "      fill: #174EA6;\n",
              "    }\n",
              "\n",
              "    [theme=dark] .colab-df-convert {\n",
              "      background-color: #3B4455;\n",
              "      fill: #D2E3FC;\n",
              "    }\n",
              "\n",
              "    [theme=dark] .colab-df-convert:hover {\n",
              "      background-color: #434B5C;\n",
              "      box-shadow: 0px 1px 3px 1px rgba(0, 0, 0, 0.15);\n",
              "      filter: drop-shadow(0px 1px 2px rgba(0, 0, 0, 0.3));\n",
              "      fill: #FFFFFF;\n",
              "    }\n",
              "  </style>\n",
              "\n",
              "      <script>\n",
              "        const buttonEl =\n",
              "          document.querySelector('#df-d310842b-769f-42c8-88cc-f25c86176d52 button.colab-df-convert');\n",
              "        buttonEl.style.display =\n",
              "          google.colab.kernel.accessAllowed ? 'block' : 'none';\n",
              "\n",
              "        async function convertToInteractive(key) {\n",
              "          const element = document.querySelector('#df-d310842b-769f-42c8-88cc-f25c86176d52');\n",
              "          const dataTable =\n",
              "            await google.colab.kernel.invokeFunction('convertToInteractive',\n",
              "                                                     [key], {});\n",
              "          if (!dataTable) return;\n",
              "\n",
              "          const docLinkHtml = 'Like what you see? Visit the ' +\n",
              "            '<a target=\"_blank\" href=https://colab.research.google.com/notebooks/data_table.ipynb>data table notebook</a>'\n",
              "            + ' to learn more about interactive tables.';\n",
              "          element.innerHTML = '';\n",
              "          dataTable['output_type'] = 'display_data';\n",
              "          await google.colab.output.renderOutput(dataTable, element);\n",
              "          const docLink = document.createElement('div');\n",
              "          docLink.innerHTML = docLinkHtml;\n",
              "          element.appendChild(docLink);\n",
              "        }\n",
              "      </script>\n",
              "    </div>\n",
              "  </div>\n",
              "  "
            ]
          },
          "metadata": {},
          "execution_count": 6
        }
      ]
    },
    {
      "cell_type": "markdown",
      "metadata": {
        "id": "LkXcDpJJIi1A"
      },
      "source": [
        "The result also contains the graph in dot graph and GML graph formats.  The formats are convenient for exporting to other libraries.  For example, you could import the graph into networkx using `networkx.parse_gml`, where you could use networkx visualization tools, among other things.\n",
        "\n",
        "However, it is more straightforward to visualize here by initializing DoWhy's  `CausalModel` object and using the `view_model` method.\n",
        "\n"
      ]
    },
    {
      "cell_type": "code",
      "metadata": {
        "colab": {
          "base_uri": "https://localhost:8080/",
          "height": 248
        },
        "id": "4FjAkSB1BmQV",
        "outputId": "3632deeb-a582-4bf1-8944-8290f2748eb4"
      },
      "source": [
        "model=CausalModel(\n",
        "        data = sim_data['df'],\n",
        "        treatment=sim_data['treatment_name'],\n",
        "        outcome=sim_data['outcome_name'],\n",
        "        graph=sim_data['gml_graph'],\n",
        "        instruments=sim_data['instrument_names']\n",
        "    )\n",
        "model.view_model()"
      ],
      "execution_count": null,
      "outputs": [
        {
          "output_type": "display_data",
          "data": {
            "text/plain": [
              "<Figure size 432x288 with 1 Axes>"
            ],
            "image/png": "[encoded data removed]"
          },
          "metadata": {}
        }
      ]
    },
    {
      "cell_type": "markdown",
      "metadata": {
        "id": "p3541H5ksvHO"
      },
      "source": [
        "The simulated data also provides the ground truth ATE.  Our estimation techniques below will target this value.  We don't expect them to get the value exactly, but we do want the confidence intervals (when available) to include the value.  We also want the confidence intervals not to include 0, so we know there is enough precision in the estimate to distinguish it from 0."
      ]
    },
    {
      "cell_type": "code",
      "metadata": {
        "colab": {
          "base_uri": "https://localhost:8080/"
        },
        "id": "LBqPj6QC4K5K",
        "outputId": "86ac1bd6-9030-4267-f1f2-ec851ad78d9b"
      },
      "source": [
        "print(\"The ground truth causal effect is\", sim_data[\"ate\"])"
      ],
      "execution_count": null,
      "outputs": [
        {
          "output_type": "stream",
          "name": "stdout",
          "text": [
            "The ground truth causal effect is 2.314207200894103\n"
          ]
        }
      ]
    },
    {
      "cell_type": "markdown",
      "metadata": {
        "id": "8WYx0JsSakbx"
      },
      "source": [
        "The constructor for the CausalModel class asks you for the causal DAG, the treatment and outcome of interest, as well as the names of the common causes and the instruments.\n",
        "\n",
        "Note the node \"unobserved confounders\" is added.  This node is a stand-in for any unobserved confounders the modeler may not be aware of."
      ]
    },
    {
      "cell_type": "markdown",
      "metadata": {
        "id": "nuQRctJ7pKKM"
      },
      "source": [
        "## Finding identified estimands\n",
        "\n",
        "Statistical estimation theory is about estimating things from data.  The thing you want to estimate is called the \"estimand,\" for example, the average height of all humans.  The algorithm that estimates the estimand from data is called an estimator.   For example, a possible estimator for the average human height estimand is a procedure that:\n",
        "\n",
        "1.  Randomly selects one hundred humans\n",
        "1.  Measures heights\n",
        "1.  Calculates the average of those heights\n",
        "\n",
        "For the causal effect $𝐸(𝑦|\\text{do}(𝑣_0=1)) - 𝐸(𝑦|\\text{do}(𝑣_0=0))$, we need estimands for the causal quantity $P(𝑦|\\text{do}(𝑣_0))$.  A causal effect is identified when, given the DAG and the data, an estimand exists.  In this case, causal inference theory (do-calculus or potential outcomes) gives us three estimands for the above causal structure.\n",
        "\n",
        "Two rely only on the DAG. The *backdoor estimand* is: $$P(y|do(v_o)) = \\int_{W_0, ..., W_4} P(y|v_0, W_0, W_1, W_2, W_3, W_4)P(W_0, W_1,W_2, W_3, W_4)dw_1 dw_2 dw_3 dw_4$$ This is the estimand in the case when the W's are continuous, when they are discrete we sum instead of integration. That requires us to work with all of the common causes.  The ​front-door estimand avoids the common causes, working only with $FD_0$.  However, it is a bit more nuanced.  In the case of a binary $v_0$ and a continuous $FD_0$ is evaluates to: \n",
        "$$P(y|do(v_o))=E_{\\text{FD}_0|v_0}{{ \\left [ P(y \\middle| v_o=1, \\text{FD}_0)P(v_o=1)+ P(y \\middle| v_o=0, \\text{FD}_0 \\right)P\\left(v_o=0) \\right ]}}$$\n",
        "\n",
        "The instrumental variable estimand is nuanced as well, especially when the outcome $y$ is binary.  But nuanced or no, the `identify_effect` method of the CausalModel object will find and list any identified estimands."
      ]
    },
    {
      "cell_type": "code",
      "metadata": {
        "colab": {
          "base_uri": "https://localhost:8080/"
        },
        "id": "u8TzWYPeqHxk",
        "outputId": "cfeee39e-1947-4c03-fb7d-e8d3d996592e"
      },
      "source": [
        "identified_estimand = model.identify_effect(proceed_when_unidentifiable=True)\n",
        "print(identified_estimand)"
      ],
      "execution_count": null,
      "outputs": [
        {
          "output_type": "stream",
          "name": "stdout",
          "text": [
            "Estimand type: nonparametric-ate\n",
            "\n",
            "### Estimand : 1\n",
            "Estimand name: backdoor\n",
            "Estimand expression:\n",
            "  d                                 \n",
            "─────(Expectation(y|W2,W3,W4,W1,W0))\n",
            "d[v₀]                               \n",
            "Estimand assumption 1, Unconfoundedness: If U→{v0} and U→y then P(y|v0,W2,W3,W4,W1,W0,U) = P(y|v0,W2,W3,W4,W1,W0)\n",
            "\n",
            "### Estimand : 2\n",
            "Estimand name: iv\n",
            "Estimand expression:\n",
            "Expectation(Derivative(y, [Z1, Z0])*Derivative([v0], [Z1, Z0])**(-1))\n",
            "Estimand assumption 1, As-if-random: If U→→y then ¬(U →→{Z1,Z0})\n",
            "Estimand assumption 2, Exclusion: If we remove {Z1,Z0}→{v0}, then ¬({Z1,Z0}→y)\n",
            "\n",
            "### Estimand : 3\n",
            "Estimand name: frontdoor\n",
            "Estimand expression:\n",
            "Expectation(Derivative(y, [FD0])*Derivative([FD0], [v0]))\n",
            "Estimand assumption 1, Full-mediation: FD0 intercepts (blocks) all directed paths from v0 to y.\n",
            "Estimand assumption 2, First-stage-unconfoundedness: If U→{v0} and U→{FD0} then P(FD0|v0,U) = P(FD0|v0)\n",
            "Estimand assumption 3, Second-stage-unconfoundedness: If U→{FD0} and U→y then P(y|FD0, v0, U) = P(y|FD0, v0)\n",
            "\n"
          ]
        }
      ]
    },
    {
      "cell_type": "markdown",
      "metadata": {
        "id": "WgxRh75_sr_Z"
      },
      "source": [
        "Notice that `identify_effect` also indicates the assumptions made by each estimand.  For example, the backdoor estimand assumes no unknown confounders.  Recall that the CausalModel constructor added a catch-all node for unknown confounders when it displayed the graph.  I forced the estimand identification to ignore those unknown confounders by setting the `proceed_when_unidentifiable` argument to True.  When I set it to false, the backdoor estimand is not returned as it is no longer identified.\n"
      ]
    },
    {
      "cell_type": "code",
      "metadata": {
        "id": "wpqtiYmWFMF4"
      },
      "source": [
        "#print(model.identify_effect(proceed_when_unidentifiable=False))\n"
      ],
      "execution_count": null,
      "outputs": []
    },
    {
      "cell_type": "markdown",
      "metadata": {
        "id": "C8tsuFdWswyR"
      },
      "source": [
        "## Estimation methods for the estimands\n",
        "\n",
        "Next, given these three estimands, we look at different estimators in DoWhy: linear regression, propensity score methods, instrumental variable estimation, and double machine learning.\n"
      ]
    },
    {
      "cell_type": "markdown",
      "metadata": {
        "id": "EaNrjpIItNmN"
      },
      "source": [
        "\n",
        "### Linear Regression \n",
        "\n",
        "Linear regression estimation uses linear regression coefficient estimates to target the backdoor estimand.  The approach fits a linear regression model on the treatment(s) and the common causes.  \n",
        "\n",
        "As I mentioned in the section \"Refresher on ATE and CATE,\" the causal effect is defined as $\\frac{dE(y|do(v_o=x))}{dx}$.  With linear regression modeling, we assume $y$ is a linear function of the treatment variable $v_0$ and the common causes.  The linear assumption means that the derivative evaluates to a constant, namely the coefficient for $v_0$.  Thus the estimand is the coefficient, and the estimator is the estimated coefficient from fitting a linear regression model.  This simplification means we don't need to integrate over the W's.  When the treatment variable is binary, the estimate is the coefficient estimate for when $v_0 = 1$. \n"
      ]
    },
    {
      "cell_type": "code",
      "metadata": {
        "colab": {
          "base_uri": "https://localhost:8080/"
        },
        "id": "HPn-BWlOsotr",
        "outputId": "f4f0fc6c-960b-43c7-c4f4-1669096f3ee6"
      },
      "source": [
        "causal_estimate_reg = model.estimate_effect(identified_estimand,\n",
        "        method_name=\"backdoor.linear_regression\",\n",
        "        confidence_intervals=True)\n",
        "\n",
        "print(causal_estimate_reg)\n",
        "print(\"The causal effect estimate is \" + str(round(causal_estimate_reg.value, 4)))\n",
        "print(\"The ground truth causal effect is\", sim_data[\"ate\"])"
      ],
      "execution_count": null,
      "outputs": [
        {
          "output_type": "stream",
          "name": "stdout",
          "text": [
            "*** Causal Estimate ***\n",
            "\n",
            "## Identified estimand\n",
            "Estimand type: nonparametric-ate\n",
            "\n",
            "### Estimand : 1\n",
            "Estimand name: backdoor\n",
            "Estimand expression:\n",
            "  d                                 \n",
            "─────(Expectation(y|W2,W3,W4,W1,W0))\n",
            "d[v₀]                               \n",
            "Estimand assumption 1, Unconfoundedness: If U→{v0} and U→y then P(y|v0,W2,W3,W4,W1,W0,U) = P(y|v0,W2,W3,W4,W1,W0)\n",
            "\n",
            "## Realized estimand\n",
            "b: y~v0+W2+W3+W4+W1+W0\n",
            "Target units: ate\n",
            "\n",
            "## Estimate\n",
            "Mean value: 2.352412159044113\n",
            "95.0% confidence interval: [[2.20448858 2.50033573]]\n",
            "\n",
            "The causal effect estimate is 2.3524\n",
            "The ground truth causal effect is 2.314207200894103\n"
          ]
        }
      ]
    },
    {
      "cell_type": "markdown",
      "metadata": {
        "id": "dnJb-6J2MjR5"
      },
      "source": [
        "The \"Causal Estimate\" is the estimated coefficient for the treatment variable $v_0$.  The p-value is the significance test statistic for the null hypothesis that the true value of the coefficient is 0.  \n",
        "\n",
        "Note that once we have established that we want to use regression as the estimation method, all of the model evaluation methods for regression become relevant.  For example, if there were issues with the fit, such as residuals that had unstable variance or correlated with regression variables, it should cause us to question the linear assumption.  We also care about sparsity.  In this case, we had 30 data points to calculate seven coefficient estimates (one for the $v_0$, one each for the common cause confounders $W$'s and an intercept term.  If there were more potential common causes, we might need more data for this method to work. "
      ]
    },
    {
      "cell_type": "markdown",
      "metadata": {
        "id": "bP38voZAp0cn"
      },
      "source": [
        "## Propensity Score Methods\n",
        "\n",
        "In our data, we have five common causes.  It is not uncommon to have many more.  Suppose instead of five there were $p$ common cause confounders.  The backdoor estimand requires a statistical method that effectively integrates over (or sums over) the W's.  These W's could be many.  Continuous W's would require numeric integration, discrete W's might still be challenging if they have many levels.  In modern machine learning contexts, the W's could be multidimensional variables.\n",
        "\n",
        "We can think of a propensity score as a numeric value acts as a kind of stand-in for all the common causes.  When we estimate the backdoor estimand, we work with the propensity score because it's typically more tractable than working with all the W's directly.\n",
        "\n",
        "When the treatment variable $v_0$ is binary, the propensity score is usually the likelihood a given observation would have a treatment value $v_0 = 1$ (regardless of what value it actually had).  That likelihood could be calculated using logistic regression or some classifier that modeled $P(v_0 = 1 | W_1, ...,W_p)$.  More generally, a propensity score just needs to renders $v_0$ conditionally independent of $W_1, ..., W_p$ (or close too it), so that the score is an effective proxy for those variables.\n",
        "\n",
        "The main three propensity score methods are *propensity score stratification*, *propensity score matching* and *propensity score weighting*.  At a high level, these methods all try to do the same thing; use the propensity score to adjust for the common cause confounders $W_1, ..., W_p$.  They do so in different ways, with different trade-offs.\n",
        "\n",
        "*Propensity score stratification* tries to adjust breaking the data up into subsets (\"strata\") according to propensity scores and taking the weighted average estimate of $P(y|v_o)$ over each subset (the weight is the subset size).  \n",
        "\n",
        "*Propensity score matching* tries to match datapoints where $v_0 = 1$ to the closest datapoint where $v_0 = 0$ by propensity score then comparing matched pairs. \n",
        "\n",
        "*Propensity score weighting* methods use the propensity score as a weight in class of statistical estimation procedures called [inverse probability weighting](https://en.wikipedia.org/wiki/Inverse_probability_weighting).  \n",
        "\n",
        "Use of propensity score procedures vary with the domain and the size of the data.  For example, propensity score stratification can break down when the data is too small because some subsets may be empty.  It also varies with who is doing the modeling, for examnple one method might be more popular with economists trained on certain textbooks, working on certain problems and writing for different paper reviewers and audiences than experts from other domains and backgrounds."
      ]
    },
    {
      "cell_type": "code",
      "metadata": {
        "colab": {
          "base_uri": "https://localhost:8080/"
        },
        "id": "eb_5Ny5Lp2XI",
        "outputId": "9dccf7db-26f4-40e2-c1fe-1cbec672a450"
      },
      "source": [
        "causal_estimate_strat = model.estimate_effect(identified_estimand,\n",
        "                                              method_name=\"backdoor.propensity_score_stratification\",\n",
        "                                              target_units=\"ate\",\n",
        "                                              confidence_intervals=True)\n",
        "print(causal_estimate_strat)\n",
        "print(\"The causal effect estimate is \" + str(round(causal_estimate_strat.value, 4)))\n",
        "print(\"The ground truth causal effect is\", sim_data[\"ate\"])"
      ],
      "execution_count": null,
      "outputs": [
        {
          "output_type": "stream",
          "name": "stdout",
          "text": [
            "*** Causal Estimate ***\n",
            "\n",
            "## Identified estimand\n",
            "Estimand type: nonparametric-ate\n",
            "\n",
            "### Estimand : 1\n",
            "Estimand name: backdoor\n",
            "Estimand expression:\n",
            "  d                                 \n",
            "─────(Expectation(y|W2,W3,W4,W1,W0))\n",
            "d[v₀]                               \n",
            "Estimand assumption 1, Unconfoundedness: If U→{v0} and U→y then P(y|v0,W2,W3,W4,W1,W0,U) = P(y|v0,W2,W3,W4,W1,W0)\n",
            "\n",
            "## Realized estimand\n",
            "b: y~v0+W2+W3+W4+W1+W0\n",
            "Target units: ate\n",
            "\n",
            "## Estimate\n",
            "Mean value: 2.3298410233143003\n",
            "95.0% confidence interval: (2.2150479416434483, 2.51026703501038)\n",
            "\n",
            "The causal effect estimate is 2.3298\n",
            "The ground truth causal effect is 2.314207200894103\n"
          ]
        }
      ]
    },
    {
      "cell_type": "code",
      "metadata": {
        "id": "t6gIZuKEvaoL",
        "colab": {
          "base_uri": "https://localhost:8080/"
        },
        "outputId": "6b07b986-73b9-45e5-c4e5-4ac630b22b5e"
      },
      "source": [
        "causal_estimate_match = model.estimate_effect(identified_estimand,\n",
        "                                              method_name=\"backdoor.propensity_score_matching\",\n",
        "                                              target_units=\"ate\",\n",
        "                                              confidence_intervals=True)\n",
        "print(causal_estimate_match)\n",
        "print(\"The causal effect estimate is \" + str(round(causal_estimate_match.value, 4)))\n",
        "print(\"The ground truth causal effect is\", sim_data[\"ate\"])"
      ],
      "execution_count": null,
      "outputs": [
        {
          "output_type": "stream",
          "name": "stdout",
          "text": [
            "*** Causal Estimate ***\n",
            "\n",
            "## Identified estimand\n",
            "Estimand type: nonparametric-ate\n",
            "\n",
            "### Estimand : 1\n",
            "Estimand name: backdoor\n",
            "Estimand expression:\n",
            "  d                                 \n",
            "─────(Expectation(y|W2,W3,W4,W1,W0))\n",
            "d[v₀]                               \n",
            "Estimand assumption 1, Unconfoundedness: If U→{v0} and U→y then P(y|v0,W2,W3,W4,W1,W0,U) = P(y|v0,W2,W3,W4,W1,W0)\n",
            "\n",
            "## Realized estimand\n",
            "b: y~v0+W2+W3+W4+W1+W0\n",
            "Target units: ate\n",
            "\n",
            "## Estimate\n",
            "Mean value: 2.548527101776334\n",
            "95.0% confidence interval: (2.340631327509362, 3.210107272612913)\n",
            "\n",
            "The causal effect estimate is 2.5485\n",
            "The ground truth causal effect is 2.314207200894103\n"
          ]
        }
      ]
    },
    {
      "cell_type": "markdown",
      "metadata": {
        "id": "pYFIkPMvvZ1l"
      },
      "source": [
        "For inverse probability score weighting, DoWhy supports [a few different weighting schemes](https://microsoft.github.io/dowhy/dowhy.causal_estimators.html#module-dowhy.causal_estimators.propensity_score_weighting_estimator\n",
        "):\n",
        "1. Vanilla Inverse Propensity Score weighting (IPS) (`weighting_scheme=\"ips_weight\"`)\n",
        "2. Self-normalized IPS weighting (also known as the Hajek estimator) (`weighting_scheme=\"ips_normalized_weight\"`)\n",
        "3. Stabilized IPS weighting (`weighting_scheme = \"ips_stabilized_weight\"`)\n"
      ]
    },
    {
      "cell_type": "code",
      "metadata": {
        "id": "yVXvBf97vtj-",
        "colab": {
          "base_uri": "https://localhost:8080/"
        },
        "outputId": "44a6786b-fea2-478f-ae89-5da62b2daa32"
      },
      "source": [
        "causal_estimate_ipw = model.estimate_effect(identified_estimand,\n",
        "                                            method_name=\"backdoor.propensity_score_weighting\",\n",
        "                                            target_units = \"ate\",\n",
        "                                            method_params={\"weighting_scheme\":\"ips_weight\"},\n",
        "                                            confidence_intervals=True)\n",
        "print(causal_estimate_ipw)\n",
        "print(\"The causal effect estimate is \" + str(round(causal_estimate_ipw.value, 4)))\n",
        "print(\"The ground truth causal effect is\", sim_data[\"ate\"])"
      ],
      "execution_count": null,
      "outputs": [
        {
          "output_type": "stream",
          "name": "stdout",
          "text": [
            "*** Causal Estimate ***\n",
            "\n",
            "## Identified estimand\n",
            "Estimand type: nonparametric-ate\n",
            "\n",
            "### Estimand : 1\n",
            "Estimand name: backdoor\n",
            "Estimand expression:\n",
            "  d                                 \n",
            "─────(Expectation(y|W2,W3,W4,W1,W0))\n",
            "d[v₀]                               \n",
            "Estimand assumption 1, Unconfoundedness: If U→{v0} and U→y then P(y|v0,W2,W3,W4,W1,W0,U) = P(y|v0,W2,W3,W4,W1,W0)\n",
            "\n",
            "## Realized estimand\n",
            "b: y~v0+W2+W3+W4+W1+W0\n",
            "Target units: ate\n",
            "\n",
            "## Estimate\n",
            "Mean value: 3.0901441627897706\n",
            "95.0% confidence interval: (2.7912324019624783, 3.423442266980829)\n",
            "\n",
            "The causal effect estimate is 3.0901\n",
            "The ground truth causal effect is 2.314207200894103\n"
          ]
        }
      ]
    },
    {
      "cell_type": "markdown",
      "metadata": {
        "id": "tsLoiBD4vxuW"
      },
      "source": [
        "## Instrumental variable estimation and regression discontinuity\n",
        "\n",
        "Instrumental variable (IV) estimation uses the instrument $Z_0$ to estimate an estimand that doesn't depend on any of the common causes in the estimation.  Whether or not IV estimation is possible depends on the causal DAG.  Like regression estimation, it relies on certain parametric assumptions as well."
      ]
    },
    {
      "cell_type": "code",
      "metadata": {
        "id": "FZD_S6u_v1Xl",
        "colab": {
          "base_uri": "https://localhost:8080/"
        },
        "outputId": "8160332e-928c-4d83-bd1e-d3ed30338feb"
      },
      "source": [
        "causal_estimate_iv = model.estimate_effect(identified_estimand,\n",
        "        method_name=\"iv.instrumental_variable\",\n",
        "        method_params = {'iv_instrument_name': 'Z0'},\n",
        "        confidence_intervals=True\n",
        ")\n",
        "print(causal_estimate_iv)\n",
        "print(\"The causal effect estimate is \" + str(round(causal_estimate_iv.value, 4)))\n",
        "print(\"The ground truth causal effect is\", sim_data[\"ate\"])"
      ],
      "execution_count": null,
      "outputs": [
        {
          "output_type": "stream",
          "name": "stdout",
          "text": [
            "*** Causal Estimate ***\n",
            "\n",
            "## Identified estimand\n",
            "Estimand type: nonparametric-ate\n",
            "\n",
            "### Estimand : 1\n",
            "Estimand name: iv\n",
            "Estimand expression:\n",
            "Expectation(Derivative(y, [Z1, Z0])*Derivative([v0], [Z1, Z0])**(-1))\n",
            "Estimand assumption 1, As-if-random: If U→→y then ¬(U →→{Z1,Z0})\n",
            "Estimand assumption 2, Exclusion: If we remove {Z1,Z0}→{v0}, then ¬({Z1,Z0}→y)\n",
            "\n",
            "## Realized estimand\n",
            "Realized estimand: Wald Estimator\n",
            "Realized estimand type: nonparametric-ate\n",
            "Estimand expression:\n",
            "                                                              -1\n",
            "Expectation(Derivative(y, Z0))⋅Expectation(Derivative(v0, Z0))  \n",
            "Estimand assumption 1, As-if-random: If U→→y then ¬(U →→{Z1,Z0})\n",
            "Estimand assumption 2, Exclusion: If we remove {Z1,Z0}→{v0}, then ¬({Z1,Z0}→y)\n",
            "Estimand assumption 3, treatment_effect_homogeneity: Each unit's treatment ['v0'] is affected in the same way by common causes of ['v0'] and y\n",
            "Estimand assumption 4, outcome_effect_homogeneity: Each unit's outcome y is affected in the same way by common causes of ['v0'] and y\n",
            "\n",
            "Target units: ate\n",
            "\n",
            "## Estimate\n",
            "Mean value: 3.4431057141991315\n",
            "95.0% confidence interval: (2.712238821582871, 4.240585750494736)\n",
            "\n",
            "The causal effect estimate is 3.4431\n",
            "The ground truth causal effect is 2.314207200894103\n"
          ]
        }
      ]
    },
    {
      "cell_type": "markdown",
      "metadata": {
        "id": "qtPvwg7sv4mo"
      },
      "source": [
        "Regression discontinuity is an estimation method popular in econometrics.  Regression discontinuity tries to model the \"do\" intervention by finding a threshold that partitions the data into two parts corresponding to two different \"do\" values (e.g., \"treatment\" and \"control\").  It compares observations lying closely on either side of the threshold because data points close to that threshold will have similar values for the confounders.\n",
        "\n",
        "DoWhy treats it as a special type of [IV approach](https://microsoft.github.io/dowhy/dowhy.causal_estimators.html#dowhy.causal_estimators.regression_discontinuity_estimator.RegressionDiscontinuityEstimator\n",
        "). The argument `rd_variable_name` name of the variable on where the thresholding occurs. This variable is analogous to the instrument.\n",
        "`rd_threshold_value` is the threshold value where the split (or \"discontinuity\") occurs.  `rd_bandwidth` is the distance from the threshold within which confounders can be considered the same between treatment and control.\n",
        "\n"
      ]
    },
    {
      "cell_type": "code",
      "metadata": {
        "id": "yC9t3Va7v8yW"
      },
      "source": [
        "%%capture\n",
        "causal_estimate_regdist = model.estimate_effect(identified_estimand,\n",
        "        method_name=\"iv.regression_discontinuity\", \n",
        "        method_params={\n",
        "            'rd_variable_name':'Z1',\n",
        "            'rd_threshold_value':0.5,\n",
        "            'rd_bandwidth': 0.15\n",
        "        },\n",
        "        confidence_intervals=True,\n",
        ")"
      ],
      "execution_count": null,
      "outputs": []
    },
    {
      "cell_type": "code",
      "metadata": {
        "id": "9Dw3cAq-8Rdi",
        "colab": {
          "base_uri": "https://localhost:8080/"
        },
        "outputId": "be793f14-8366-40f5-a9f0-1fa48f1cdf35"
      },
      "source": [
        "print(causal_estimate_regdist)\n",
        "print(\"The causal effect estimate is \" + str(round(causal_estimate_regdist.value, 4)))\n",
        "print(\"The ground truth causal effect is\", sim_data[\"ate\"])"
      ],
      "execution_count": null,
      "outputs": [
        {
          "output_type": "stream",
          "name": "stdout",
          "text": [
            "*** Causal Estimate ***\n",
            "\n",
            "## Identified estimand\n",
            "Estimand type: nonparametric-ate\n",
            "\n",
            "### Estimand : 1\n",
            "Estimand name: iv\n",
            "Estimand expression:\n",
            "Expectation(Derivative(y, [Z1, Z0])*Derivative([v0], [Z1, Z0])**(-1))\n",
            "Estimand assumption 1, As-if-random: If U→→y then ¬(U →→{Z1,Z0})\n",
            "Estimand assumption 2, Exclusion: If we remove {Z1,Z0}→{v0}, then ¬({Z1,Z0}→y)\n",
            "\n",
            "## Realized estimand\n",
            "Realized estimand: Wald Estimator\n",
            "Realized estimand type: nonparametric-ate\n",
            "Estimand expression:\n",
            "                                                                              \n",
            "Expectation(Derivative(y, local_rd_variable))⋅Expectation(Derivative(v0, local\n",
            "\n",
            "              -1\n",
            "_rd_variable))  \n",
            "Estimand assumption 1, As-if-random: If U→→y then ¬(U →→{Z1,Z0})\n",
            "Estimand assumption 2, Exclusion: If we remove {Z1,Z0}→{v0}, then ¬({Z1,Z0}→y)\n",
            "Estimand assumption 3, treatment_effect_homogeneity: Each unit's treatment ['local_treatment'] is affected in the same way by common causes of ['local_treatment'] and local_outcome\n",
            "Estimand assumption 4, outcome_effect_homogeneity: Each unit's outcome local_outcome is affected in the same way by common causes of ['local_treatment'] and local_outcome\n",
            "\n",
            "Target units: ate\n",
            "\n",
            "## Estimate\n",
            "Mean value: 2.1868330437071783\n",
            "95.0% confidence interval: (-7.614037998847951, 7.654252972606637)\n",
            "\n",
            "The causal effect estimate is 2.1868\n",
            "The ground truth causal effect is 2.314207200894103\n"
          ]
        }
      ]
    },
    {
      "cell_type": "markdown",
      "metadata": {
        "id": "81JeFFJhqkoW"
      },
      "source": [
        "## Double-ML estimators using EconML\n",
        "\n",
        "EconML is another Microsoft package for causal inference that focuses on *double machine learning estimators*.  Double machine learning is a method for estimating causal effects when there are many common causes or when a common cause is a high-dimensional vector.\n",
        "\n",
        "The method reduces the problem to first estimating two predictive tasks:\n",
        "* predicting the outcome from the common causes\n",
        "* predicting the treatment from the common causes\n",
        "\n",
        "Then the method combines these two predictive models in a final stage of causal effect estimation. Thus, the approach lets you use your preferred machine learning algorithm for the prediction tasks while maintaining favorable statistical properties related to the final estimate (e.g., precision, consistency, uncertainty quantification).\n"
      ]
    },
    {
      "cell_type": "code",
      "metadata": {
        "id": "BvtkvQVtqjoQ",
        "colab": {
          "base_uri": "https://localhost:8080/"
        },
        "outputId": "359609c2-9af7-4f6d-bfce-6e2fb8e77bc9"
      },
      "source": [
        "from sklearn.preprocessing import PolynomialFeatures\n",
        "from sklearn.linear_model import LassoCV\n",
        "from sklearn.ensemble import GradientBoostingRegressor\n",
        "\n",
        "gb_estimate = model.estimate_effect(\n",
        "    identified_estimand,\n",
        "    method_name=\"backdoor.econml.dml.DML\",\n",
        "    control_value = 0,\n",
        "    treatment_value = 1,\n",
        "    method_params={\n",
        "        \"init_params\":{\n",
        "            'model_y':GradientBoostingRegressor(),\n",
        "            'model_t': GradientBoostingRegressor(),\n",
        "            \"model_final\":LassoCV(fit_intercept=False),\n",
        "            'featurizer':PolynomialFeatures(degree=1, include_bias=False)\n",
        "        },\n",
        "        \"fit_params\":{}\n",
        "    }\n",
        ")\n",
        "print(gb_estimate)\n",
        "print(\"The causal effect estimate is \" + str(round(gb_estimate.value, 4)))\n",
        "print(\"The ground truth causal effect is\", sim_data[\"ate\"])"
      ],
      "execution_count": null,
      "outputs": [
        {
          "output_type": "stream",
          "name": "stdout",
          "text": [
            "*** Causal Estimate ***\n",
            "\n",
            "## Identified estimand\n",
            "Estimand type: nonparametric-ate\n",
            "\n",
            "### Estimand : 1\n",
            "Estimand name: backdoor\n",
            "Estimand expression:\n",
            "  d                                 \n",
            "─────(Expectation(y|W2,W3,W4,W1,W0))\n",
            "d[v₀]                               \n",
            "Estimand assumption 1, Unconfoundedness: If U→{v0} and U→y then P(y|v0,W2,W3,W4,W1,W0,U) = P(y|v0,W2,W3,W4,W1,W0)\n",
            "\n",
            "## Realized estimand\n",
            "b: y~v0+W2+W3+W4+W1+W0 | \n",
            "Target units: ate\n",
            "\n",
            "## Estimate\n",
            "Mean value: 2.3816462056220895\n",
            "Effect estimates: [2.38164621 2.38164621 2.38164621 ... 2.38164621 2.38164621 2.38164621]\n",
            "\n",
            "The causal effect estimate is 2.3816\n",
            "The ground truth causal effect is 2.314207200894103\n"
          ]
        }
      ]
    },
    {
      "cell_type": "markdown",
      "metadata": {
        "id": "XtFwAMDSpPX8"
      },
      "source": [
        "The following code uses a similar approach called metalearning with a random forest predictor."
      ]
    },
    {
      "cell_type": "code",
      "metadata": {
        "id": "0hoVsyTm0aLK",
        "colab": {
          "base_uri": "https://localhost:8080/"
        },
        "outputId": "9400a51e-22cb-4d0d-c02b-009976e2dc76"
      },
      "source": [
        "from sklearn.ensemble import RandomForestRegressor\n",
        "metalearner_estimate = model.estimate_effect(\n",
        "    identified_estimand,\n",
        "    method_name=\"backdoor.econml.metalearners.TLearner\",\n",
        "    method_params={\n",
        "        \"init_params\": {'models': RandomForestRegressor()},\n",
        "        \"fit_params\": {}\n",
        "    }\n",
        ")\n",
        "\n",
        "print(\"The causal effect estimate is \" + str(round(metalearner_estimate.value, 4)))\n",
        "print(\"The ground truth causal effect is\", sim_data[\"ate\"])"
      ],
      "execution_count": null,
      "outputs": [
        {
          "output_type": "stream",
          "name": "stdout",
          "text": [
            "The causal effect estimate is 4.7252\n",
            "The ground truth causal effect is 2.314207200894103\n"
          ]
        }
      ]
    }
  ]
}