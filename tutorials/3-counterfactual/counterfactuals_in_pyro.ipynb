{
 "cells": [
  {
   "cell_type": "markdown",
   "metadata": {},
   "source": [
    "# Counterfactual Inference in Pyro"
   ]
  },
  {
   "cell_type": "markdown",
   "metadata": {},
   "source": [
    "Below, we demonstrate a simple model of counterfactual inference in Pyro.  You will see a model relating treatment (cause) to blindness (outcome).  This toy example is technically a structural causal model (SCM).  SCMs enable twin-world counterfactual reasoning.  However, if we are working with a probabilistic programming language like Pyro, we don't have to stick to formal SCMs.  All we need is to have a set of variables from which all other sets of variables in the system are derived deterministically.  These \"exogenous\" variables are analogous to the initial conditions of a simulation.\n",
    "\n",
    "The twin-world counterfactual reasoning algorithm is as follows\n",
    "\n",
    "1. Condition on observed evidence and do inference on the exogenous variables.\n",
    "2. Apply interventions to the model that reflect the counterfactual setting.\n",
    "3. Forward sample from the intervention model using the posterior on the exogenous variables.\n",
    "\n",
    "The intuition is that all the information in the observed world is shunted into the posterior of the exogenous variables, which are then passed over to the counterfactual world and forward probagated.\n",
    "\n",
    "### Example: Blind treatment\n",
    "\n",
    "This is an implementation of an example from Peters et al. 2017.\n",
    "\n",
    "Consider a treatment study, where a company introduced a new medicine for eyes.\n",
    "\n",
    "Suppose this is the true underlying model for the causal effect of Treatment $T$ ($T=1$ if the treatment was given) and the result $B$ ($B=1$ if the person goes blind).\n",
    "$$\n",
    "\\begin{align}\n",
    "N_T &\\sim Ber(.5)\\\\ \n",
    "N_B &\\sim Ber(.01) \\\\\n",
    " T &:= N_T \\\\\n",
    " B &:= T * N_B + (1-T)*(1-N_B) \\\\\n",
    "\\end{align}\n",
    "$$\n",
    "\n",
    "Suppose patient with poor eyesight comes to the hospital and goes blind (B=1) after the doctor gives treatment (T=1).  \n",
    "\n",
    "We can ask \"what would have happened had the doctor administered treatment T = 0?\"\n",
    "\n",
    "Here is the steps we follow to answer this counterfactual question.\n",
    "\n",
    "1. Retrieve noise variables given observation.\n",
    "   \n",
    "   We observed $B=T=1$. Plugging that to the equations above\n",
    "   \n",
    "   $$\\begin{align}\n",
    "   1 &= N_T\\\\\n",
    "   1 &= 1*N_B + (1-1)*(1-N_B)\n",
    "   \\end{align}$$\n",
    "\t\n",
    "\tSo, $N_T=1$ and $N_B = 1$ \n",
    "\n",
    "2. Intervene on $T$. Put $T=0$, and solve for $B$\n",
    "\n",
    "$$\n",
    "\\begin{align}\n",
    " T &= 0\\\\\n",
    " B &= 0 * 1 + (1-0)*(1-1) = 0 \\\\\n",
    "\\end{align}\n",
    "$$\n",
    "\n",
    "Thus, by this model, person would not have gone blind if the treatment was not given.\n",
    "\n",
    "### Implementation of the twin-world counterfactual inference algorithm\n"
   ]
  },
  {
   "cell_type": "code",
   "execution_count": 1,
   "metadata": {},
   "outputs": [],
   "source": [
    "import pyro\n",
    "import pyro.distributions as dist\n",
    "from pyro.infer import Importance, EmpiricalMarginal\n",
    "from statistics import mean\n",
    "import torch\n",
    "import matplotlib.pyplot as plt\n",
    "\n",
    "%matplotlib inline\n",
    "\n",
    "\n",
    "exogenous_dists = {\n",
    "    \"N_t\": dist.Bernoulli(torch.tensor(.5)),\n",
    "    \"N_b\": dist.Bernoulli(torch.tensor(.01))\n",
    "}\n",
    "\n",
    "def model(exogenous_dists):\n",
    "    N_t = pyro.sample(\"N_t\", exogenous_dists[\"N_t\"])\n",
    "    N_b = pyro.sample(\"N_b\", exogenous_dists[\"N_b\"])\n",
    "    t = pyro.sample(\"t\", dist.Delta(N_t))\n",
    "    b = pyro.sample(\"b\", dist.Delta(t * N_b + (1. - t) * (1 - N_b)))\n",
    "    return t, b\n"
   ]
  },
  {
   "cell_type": "markdown",
   "metadata": {},
   "source": [
    "#### Condition on the observed world and do inference on the exogenous variables"
   ]
  },
  {
   "cell_type": "code",
   "execution_count": 2,
   "metadata": {},
   "outputs": [
    {
     "name": "stdout",
     "output_type": "stream",
     "text": [
      "1.0\n",
      "1.0\n"
     ]
    }
   ],
   "source": [
    "conditioned = pyro.condition(\n",
    "    model,\n",
    "    {'t': torch.tensor(1.), 'b': torch.tensor(1.)}\n",
    ")\n",
    "# Sanity check: Exogenous vars become degenerate in posterior\n",
    "posterior = Importance(\n",
    "    conditioned,\n",
    "    num_samples=100).run(exogenous_dists)\n",
    "N_t_marginal = EmpiricalMarginal(posterior, \"N_t\")\n",
    "\n",
    "N_T_samples = [N_t_marginal().item() for _ in range(1000)]\n",
    "print(mean(N_T_samples))\n",
    "\n",
    "N_b_marginal = EmpiricalMarginal(posterior, \"N_b\")\n",
    "\n",
    "N_b_samples = [N_b_marginal().item() for _ in range(1000)]\n",
    "print(mean(N_b_samples))"
   ]
  },
  {
   "cell_type": "markdown",
   "metadata": {},
   "source": [
    "#### Apply counterfactual intervention to the model"
   ]
  },
  {
   "cell_type": "code",
   "execution_count": 3,
   "metadata": {},
   "outputs": [],
   "source": [
    "cf_model = pyro.do(model, {'t': torch.tensor(0.)})"
   ]
  },
  {
   "cell_type": "markdown",
   "metadata": {},
   "source": [
    "#### Forward propagate posterior of exogenous variables"
   ]
  },
  {
   "cell_type": "code",
   "execution_count": 4,
   "metadata": {},
   "outputs": [
    {
     "data": {
      "text/plain": [
       "(array([  0.,   0.,   0.,   0.,   0., 100.,   0.,   0.,   0.,   0.]),\n",
       " array([-0.5, -0.4, -0.3, -0.2, -0.1,  0. ,  0.1,  0.2,  0.3,  0.4,  0.5],\n",
       "       dtype=float32),\n",
       " <a list of 10 Patch objects>)"
      ]
     },
     "execution_count": 4,
     "metadata": {},
     "output_type": "execute_result"
    },
    {
     "data": {
      "image/png": "[encoded data removed]",
      "text/plain": [
       "<Figure size 432x288 with 1 Axes>"
      ]
     },
     "metadata": {
      "needs_background": "light"
     },
     "output_type": "display_data"
    }
   ],
   "source": [
    "updated_exogenous_dists = {\n",
    "    \"N_t\": dist.Bernoulli(torch.tensor(mean(N_T_samples))),\n",
    "    \"N_b\": dist.Bernoulli(torch.tensor(mean(N_b_samples)))\n",
    "}\n",
    "samples = [cf_model(updated_exogenous_dists) for _ in range(100)]\n",
    "b_samples = [b for _, b in samples]\n",
    "plt.hist(b_samples)\n"
   ]
  },
  {
   "cell_type": "markdown",
   "metadata": {},
   "source": [
    "Note that the inference here is brittle, and you may have to run this script a few times to get the appropriate output.  This is typically the case with using probabilistic programming to implement twin-world counterfactuals.\n",
    "\n",
    "Newer languages specifically designed for this problem, like [Omega"
   ]
  },
  {
   "cell_type": "markdown",
   "metadata": {},
   "source": [
    "## Reference\n",
    "Dominik Janzing, and Bernhard Schölkopf. Elements of causal inference: foundations and learning algorithms. MIT press, 2017"
   ]
  }
 ],
 "metadata": {
  "kernelspec": {
   "display_name": "venv",
   "language": "python",
   "name": "venv"
  },
  "language_info": {
   "codemirror_mode": {
    "name": "ipython",
    "version": 3
   },
   "file_extension": ".py",
   "mimetype": "text/x-python",
   "name": "python",
   "nbconvert_exporter": "python",
   "pygments_lexer": "ipython3",
   "version": "3.6.4"
  }
 },
 "nbformat": 4,
 "nbformat_minor": 4
}
